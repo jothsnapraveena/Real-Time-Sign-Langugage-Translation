{
  "cells": [
    {
      "cell_type": "code",
      "source": [
        "!pip install opencv-python\n",
        "!pip install mediapipe\n",
        "!pip install pytubefix\n",
        "!pip install moviepy\n",
        "!pip install opencv-python-headless numpy\n",
        "!pip install torch torchvision\n",
        "!pip install yolov5  # if using YOLOv5"
      ],
      "metadata": {
        "colab": {
          "base_uri": "https://localhost:8080/"
        },
        "id": "iL1rjYxbQkc_",
        "outputId": "4e85f5cc-76b3-4863-bca1-96c95ccdf5d4"
      },
      "execution_count": null,
      "outputs": [
        {
          "output_type": "stream",
          "name": "stdout",
          "text": [
            "Requirement already satisfied: opencv-python in /usr/local/lib/python3.10/dist-packages (4.10.0.84)\n",
            "Requirement already satisfied: numpy>=1.21.2 in /usr/local/lib/python3.10/dist-packages (from opencv-python) (1.26.4)\n",
            "Collecting mediapipe\n",
            "  Downloading mediapipe-0.10.15-cp310-cp310-manylinux_2_17_x86_64.manylinux2014_x86_64.whl.metadata (9.7 kB)\n",
            "Requirement already satisfied: absl-py in /usr/local/lib/python3.10/dist-packages (from mediapipe) (1.4.0)\n",
            "Requirement already satisfied: attrs>=19.1.0 in /usr/local/lib/python3.10/dist-packages (from mediapipe) (24.2.0)\n",
            "Requirement already satisfied: flatbuffers>=2.0 in /usr/local/lib/python3.10/dist-packages (from mediapipe) (24.3.25)\n",
            "Requirement already satisfied: jax in /usr/local/lib/python3.10/dist-packages (from mediapipe) (0.4.33)\n",
            "Requirement already satisfied: jaxlib in /usr/local/lib/python3.10/dist-packages (from mediapipe) (0.4.33)\n",
            "Requirement already satisfied: matplotlib in /usr/local/lib/python3.10/dist-packages (from mediapipe) (3.7.1)\n",
            "Requirement already satisfied: numpy<2 in /usr/local/lib/python3.10/dist-packages (from mediapipe) (1.26.4)\n",
            "Requirement already satisfied: opencv-contrib-python in /usr/local/lib/python3.10/dist-packages (from mediapipe) (4.10.0.84)\n",
            "Collecting protobuf<5,>=4.25.3 (from mediapipe)\n",
            "  Downloading protobuf-4.25.5-cp37-abi3-manylinux2014_x86_64.whl.metadata (541 bytes)\n",
            "Collecting sounddevice>=0.4.4 (from mediapipe)\n",
            "  Downloading sounddevice-0.5.1-py3-none-any.whl.metadata (1.4 kB)\n",
            "Requirement already satisfied: CFFI>=1.0 in /usr/local/lib/python3.10/dist-packages (from sounddevice>=0.4.4->mediapipe) (1.17.1)\n",
            "Requirement already satisfied: ml-dtypes>=0.2.0 in /usr/local/lib/python3.10/dist-packages (from jax->mediapipe) (0.4.1)\n",
            "Requirement already satisfied: opt-einsum in /usr/local/lib/python3.10/dist-packages (from jax->mediapipe) (3.4.0)\n",
            "Requirement already satisfied: scipy>=1.10 in /usr/local/lib/python3.10/dist-packages (from jax->mediapipe) (1.13.1)\n",
            "Requirement already satisfied: contourpy>=1.0.1 in /usr/local/lib/python3.10/dist-packages (from matplotlib->mediapipe) (1.3.0)\n",
            "Requirement already satisfied: cycler>=0.10 in /usr/local/lib/python3.10/dist-packages (from matplotlib->mediapipe) (0.12.1)\n",
            "Requirement already satisfied: fonttools>=4.22.0 in /usr/local/lib/python3.10/dist-packages (from matplotlib->mediapipe) (4.54.1)\n",
            "Requirement already satisfied: kiwisolver>=1.0.1 in /usr/local/lib/python3.10/dist-packages (from matplotlib->mediapipe) (1.4.7)\n",
            "Requirement already satisfied: packaging>=20.0 in /usr/local/lib/python3.10/dist-packages (from matplotlib->mediapipe) (24.1)\n",
            "Requirement already satisfied: pillow>=6.2.0 in /usr/local/lib/python3.10/dist-packages (from matplotlib->mediapipe) (10.4.0)\n",
            "Requirement already satisfied: pyparsing>=2.3.1 in /usr/local/lib/python3.10/dist-packages (from matplotlib->mediapipe) (3.2.0)\n",
            "Requirement already satisfied: python-dateutil>=2.7 in /usr/local/lib/python3.10/dist-packages (from matplotlib->mediapipe) (2.8.2)\n",
            "Requirement already satisfied: pycparser in /usr/local/lib/python3.10/dist-packages (from CFFI>=1.0->sounddevice>=0.4.4->mediapipe) (2.22)\n",
            "Requirement already satisfied: six>=1.5 in /usr/local/lib/python3.10/dist-packages (from python-dateutil>=2.7->matplotlib->mediapipe) (1.16.0)\n",
            "Downloading mediapipe-0.10.15-cp310-cp310-manylinux_2_17_x86_64.manylinux2014_x86_64.whl (35.9 MB)\n",
            "\u001b[2K   \u001b[90m━━━━━━━━━━━━━━━━━━━━━━━━━━━━━━━━━━━━━━━━\u001b[0m \u001b[32m35.9/35.9 MB\u001b[0m \u001b[31m9.6 MB/s\u001b[0m eta \u001b[36m0:00:00\u001b[0m\n",
            "\u001b[?25hDownloading protobuf-4.25.5-cp37-abi3-manylinux2014_x86_64.whl (294 kB)\n",
            "\u001b[2K   \u001b[90m━━━━━━━━━━━━━━━━━━━━━━━━━━━━━━━━━━━━━━━━\u001b[0m \u001b[32m294.6/294.6 kB\u001b[0m \u001b[31m10.6 MB/s\u001b[0m eta \u001b[36m0:00:00\u001b[0m\n",
            "\u001b[?25hDownloading sounddevice-0.5.1-py3-none-any.whl (32 kB)\n",
            "Installing collected packages: protobuf, sounddevice, mediapipe\n",
            "  Attempting uninstall: protobuf\n",
            "    Found existing installation: protobuf 3.20.3\n",
            "    Uninstalling protobuf-3.20.3:\n",
            "      Successfully uninstalled protobuf-3.20.3\n",
            "\u001b[31mERROR: pip's dependency resolver does not currently take into account all the packages that are installed. This behaviour is the source of the following dependency conflicts.\n",
            "tensorflow-metadata 1.16.1 requires protobuf<4.21,>=3.20.3; python_version < \"3.11\", but you have protobuf 4.25.5 which is incompatible.\u001b[0m\u001b[31m\n",
            "\u001b[0mSuccessfully installed mediapipe-0.10.15 protobuf-4.25.5 sounddevice-0.5.1\n",
            "Collecting pytubefix\n",
            "  Downloading pytubefix-8.1.1-py3-none-any.whl.metadata (6.8 kB)\n",
            "Downloading pytubefix-8.1.1-py3-none-any.whl (85 kB)\n",
            "\u001b[2K   \u001b[90m━━━━━━━━━━━━━━━━━━━━━━━━━━━━━━━━━━━━━━━━\u001b[0m \u001b[32m85.1/85.1 kB\u001b[0m \u001b[31m2.3 MB/s\u001b[0m eta \u001b[36m0:00:00\u001b[0m\n",
            "\u001b[?25hInstalling collected packages: pytubefix\n",
            "Successfully installed pytubefix-8.1.1\n",
            "Requirement already satisfied: moviepy in /usr/local/lib/python3.10/dist-packages (1.0.3)\n",
            "Requirement already satisfied: decorator<5.0,>=4.0.2 in /usr/local/lib/python3.10/dist-packages (from moviepy) (4.4.2)\n",
            "Requirement already satisfied: tqdm<5.0,>=4.11.2 in /usr/local/lib/python3.10/dist-packages (from moviepy) (4.66.5)\n",
            "Requirement already satisfied: requests<3.0,>=2.8.1 in /usr/local/lib/python3.10/dist-packages (from moviepy) (2.32.3)\n",
            "Requirement already satisfied: proglog<=1.0.0 in /usr/local/lib/python3.10/dist-packages (from moviepy) (0.1.10)\n",
            "Requirement already satisfied: numpy>=1.17.3 in /usr/local/lib/python3.10/dist-packages (from moviepy) (1.26.4)\n",
            "Requirement already satisfied: imageio<3.0,>=2.5 in /usr/local/lib/python3.10/dist-packages (from moviepy) (2.35.1)\n",
            "Requirement already satisfied: imageio-ffmpeg>=0.2.0 in /usr/local/lib/python3.10/dist-packages (from moviepy) (0.5.1)\n",
            "Requirement already satisfied: pillow>=8.3.2 in /usr/local/lib/python3.10/dist-packages (from imageio<3.0,>=2.5->moviepy) (10.4.0)\n",
            "Requirement already satisfied: setuptools in /usr/local/lib/python3.10/dist-packages (from imageio-ffmpeg>=0.2.0->moviepy) (75.1.0)\n",
            "Requirement already satisfied: charset-normalizer<4,>=2 in /usr/local/lib/python3.10/dist-packages (from requests<3.0,>=2.8.1->moviepy) (3.4.0)\n",
            "Requirement already satisfied: idna<4,>=2.5 in /usr/local/lib/python3.10/dist-packages (from requests<3.0,>=2.8.1->moviepy) (3.10)\n",
            "Requirement already satisfied: urllib3<3,>=1.21.1 in /usr/local/lib/python3.10/dist-packages (from requests<3.0,>=2.8.1->moviepy) (2.2.3)\n",
            "Requirement already satisfied: certifi>=2017.4.17 in /usr/local/lib/python3.10/dist-packages (from requests<3.0,>=2.8.1->moviepy) (2024.8.30)\n",
            "Requirement already satisfied: opencv-python-headless in /usr/local/lib/python3.10/dist-packages (4.10.0.84)\n",
            "Requirement already satisfied: numpy in /usr/local/lib/python3.10/dist-packages (1.26.4)\n",
            "Requirement already satisfied: torch in /usr/local/lib/python3.10/dist-packages (2.4.1+cu121)\n",
            "Requirement already satisfied: torchvision in /usr/local/lib/python3.10/dist-packages (0.19.1+cu121)\n",
            "Requirement already satisfied: filelock in /usr/local/lib/python3.10/dist-packages (from torch) (3.16.1)\n",
            "Requirement already satisfied: typing-extensions>=4.8.0 in /usr/local/lib/python3.10/dist-packages (from torch) (4.12.2)\n",
            "Requirement already satisfied: sympy in /usr/local/lib/python3.10/dist-packages (from torch) (1.13.3)\n",
            "Requirement already satisfied: networkx in /usr/local/lib/python3.10/dist-packages (from torch) (3.4.1)\n",
            "Requirement already satisfied: jinja2 in /usr/local/lib/python3.10/dist-packages (from torch) (3.1.4)\n",
            "Requirement already satisfied: fsspec in /usr/local/lib/python3.10/dist-packages (from torch) (2024.6.1)\n",
            "Requirement already satisfied: numpy in /usr/local/lib/python3.10/dist-packages (from torchvision) (1.26.4)\n",
            "Requirement already satisfied: pillow!=8.3.*,>=5.3.0 in /usr/local/lib/python3.10/dist-packages (from torchvision) (10.4.0)\n",
            "Requirement already satisfied: MarkupSafe>=2.0 in /usr/local/lib/python3.10/dist-packages (from jinja2->torch) (3.0.1)\n",
            "Requirement already satisfied: mpmath<1.4,>=1.1.0 in /usr/local/lib/python3.10/dist-packages (from sympy->torch) (1.3.0)\n",
            "Collecting yolov5\n",
            "  Downloading yolov5-7.0.13-py37.py38.py39.py310-none-any.whl.metadata (10 kB)\n",
            "Requirement already satisfied: gitpython>=3.1.30 in /usr/local/lib/python3.10/dist-packages (from yolov5) (3.1.43)\n",
            "Requirement already satisfied: matplotlib>=3.3 in /usr/local/lib/python3.10/dist-packages (from yolov5) (3.7.1)\n",
            "Requirement already satisfied: numpy>=1.18.5 in /usr/local/lib/python3.10/dist-packages (from yolov5) (1.26.4)\n",
            "Requirement already satisfied: opencv-python>=4.1.1 in /usr/local/lib/python3.10/dist-packages (from yolov5) (4.10.0.84)\n",
            "Requirement already satisfied: Pillow>=7.1.2 in /usr/local/lib/python3.10/dist-packages (from yolov5) (10.4.0)\n",
            "Requirement already satisfied: psutil in /usr/local/lib/python3.10/dist-packages (from yolov5) (5.9.5)\n",
            "Requirement already satisfied: PyYAML>=5.3.1 in /usr/local/lib/python3.10/dist-packages (from yolov5) (6.0.2)\n",
            "Requirement already satisfied: requests>=2.23.0 in /usr/local/lib/python3.10/dist-packages (from yolov5) (2.32.3)\n",
            "Requirement already satisfied: scipy>=1.4.1 in /usr/local/lib/python3.10/dist-packages (from yolov5) (1.13.1)\n",
            "Collecting thop>=0.1.1 (from yolov5)\n",
            "  Downloading thop-0.1.1.post2209072238-py3-none-any.whl.metadata (2.7 kB)\n",
            "Requirement already satisfied: torch>=1.7.0 in /usr/local/lib/python3.10/dist-packages (from yolov5) (2.4.1+cu121)\n",
            "Requirement already satisfied: torchvision>=0.8.1 in /usr/local/lib/python3.10/dist-packages (from yolov5) (0.19.1+cu121)\n",
            "Requirement already satisfied: tqdm>=4.64.0 in /usr/local/lib/python3.10/dist-packages (from yolov5) (4.66.5)\n",
            "Collecting ultralytics>=8.0.100 (from yolov5)\n",
            "  Downloading ultralytics-8.3.18-py3-none-any.whl.metadata (34 kB)\n",
            "Requirement already satisfied: tensorboard>=2.4.1 in /usr/local/lib/python3.10/dist-packages (from yolov5) (2.17.0)\n",
            "Requirement already satisfied: pandas>=1.1.4 in /usr/local/lib/python3.10/dist-packages (from yolov5) (2.2.2)\n",
            "Requirement already satisfied: seaborn>=0.11.0 in /usr/local/lib/python3.10/dist-packages (from yolov5) (0.13.2)\n",
            "Requirement already satisfied: setuptools>=65.5.1 in /usr/local/lib/python3.10/dist-packages (from yolov5) (75.1.0)\n",
            "Collecting fire (from yolov5)\n",
            "  Downloading fire-0.7.0.tar.gz (87 kB)\n",
            "\u001b[2K     \u001b[90m━━━━━━━━━━━━━━━━━━━━━━━━━━━━━━━━━━━━━━━━\u001b[0m \u001b[32m87.2/87.2 kB\u001b[0m \u001b[31m4.2 MB/s\u001b[0m eta \u001b[36m0:00:00\u001b[0m\n",
            "\u001b[?25h  Preparing metadata (setup.py) ... \u001b[?25l\u001b[?25hdone\n",
            "Collecting boto3>=1.19.1 (from yolov5)\n",
            "  Downloading boto3-1.35.44-py3-none-any.whl.metadata (6.7 kB)\n",
            "Collecting sahi>=0.11.10 (from yolov5)\n",
            "  Downloading sahi-0.11.18-py3-none-any.whl.metadata (17 kB)\n",
            "Requirement already satisfied: huggingface-hub>=0.12.0 in /usr/local/lib/python3.10/dist-packages (from yolov5) (0.24.7)\n",
            "Collecting roboflow>=0.2.29 (from yolov5)\n",
            "  Downloading roboflow-1.1.48-py3-none-any.whl.metadata (9.7 kB)\n",
            "Collecting botocore<1.36.0,>=1.35.44 (from boto3>=1.19.1->yolov5)\n",
            "  Downloading botocore-1.35.44-py3-none-any.whl.metadata (5.7 kB)\n",
            "Collecting jmespath<2.0.0,>=0.7.1 (from boto3>=1.19.1->yolov5)\n",
            "  Downloading jmespath-1.0.1-py3-none-any.whl.metadata (7.6 kB)\n",
            "Collecting s3transfer<0.11.0,>=0.10.0 (from boto3>=1.19.1->yolov5)\n",
            "  Downloading s3transfer-0.10.3-py3-none-any.whl.metadata (1.7 kB)\n",
            "Requirement already satisfied: gitdb<5,>=4.0.1 in /usr/local/lib/python3.10/dist-packages (from gitpython>=3.1.30->yolov5) (4.0.11)\n",
            "Requirement already satisfied: filelock in /usr/local/lib/python3.10/dist-packages (from huggingface-hub>=0.12.0->yolov5) (3.16.1)\n",
            "Requirement already satisfied: fsspec>=2023.5.0 in /usr/local/lib/python3.10/dist-packages (from huggingface-hub>=0.12.0->yolov5) (2024.6.1)\n",
            "Requirement already satisfied: packaging>=20.9 in /usr/local/lib/python3.10/dist-packages (from huggingface-hub>=0.12.0->yolov5) (24.1)\n",
            "Requirement already satisfied: typing-extensions>=3.7.4.3 in /usr/local/lib/python3.10/dist-packages (from huggingface-hub>=0.12.0->yolov5) (4.12.2)\n",
            "Requirement already satisfied: contourpy>=1.0.1 in /usr/local/lib/python3.10/dist-packages (from matplotlib>=3.3->yolov5) (1.3.0)\n",
            "Requirement already satisfied: cycler>=0.10 in /usr/local/lib/python3.10/dist-packages (from matplotlib>=3.3->yolov5) (0.12.1)\n",
            "Requirement already satisfied: fonttools>=4.22.0 in /usr/local/lib/python3.10/dist-packages (from matplotlib>=3.3->yolov5) (4.54.1)\n",
            "Requirement already satisfied: kiwisolver>=1.0.1 in /usr/local/lib/python3.10/dist-packages (from matplotlib>=3.3->yolov5) (1.4.7)\n",
            "Requirement already satisfied: pyparsing>=2.3.1 in /usr/local/lib/python3.10/dist-packages (from matplotlib>=3.3->yolov5) (3.2.0)\n",
            "Requirement already satisfied: python-dateutil>=2.7 in /usr/local/lib/python3.10/dist-packages (from matplotlib>=3.3->yolov5) (2.8.2)\n",
            "Requirement already satisfied: pytz>=2020.1 in /usr/local/lib/python3.10/dist-packages (from pandas>=1.1.4->yolov5) (2024.2)\n",
            "Requirement already satisfied: tzdata>=2022.7 in /usr/local/lib/python3.10/dist-packages (from pandas>=1.1.4->yolov5) (2024.2)\n",
            "Requirement already satisfied: charset-normalizer<4,>=2 in /usr/local/lib/python3.10/dist-packages (from requests>=2.23.0->yolov5) (3.4.0)\n",
            "Requirement already satisfied: idna<4,>=2.5 in /usr/local/lib/python3.10/dist-packages (from requests>=2.23.0->yolov5) (3.10)\n",
            "Requirement already satisfied: urllib3<3,>=1.21.1 in /usr/local/lib/python3.10/dist-packages (from requests>=2.23.0->yolov5) (2.2.3)\n",
            "Requirement already satisfied: certifi>=2017.4.17 in /usr/local/lib/python3.10/dist-packages (from requests>=2.23.0->yolov5) (2024.8.30)\n",
            "Collecting idna<4,>=2.5 (from requests>=2.23.0->yolov5)\n",
            "  Downloading idna-3.7-py3-none-any.whl.metadata (9.9 kB)\n",
            "Requirement already satisfied: opencv-python-headless==4.10.0.84 in /usr/local/lib/python3.10/dist-packages (from roboflow>=0.2.29->yolov5) (4.10.0.84)\n",
            "Collecting python-dotenv (from roboflow>=0.2.29->yolov5)\n",
            "  Downloading python_dotenv-1.0.1-py3-none-any.whl.metadata (23 kB)\n",
            "Requirement already satisfied: six in /usr/local/lib/python3.10/dist-packages (from roboflow>=0.2.29->yolov5) (1.16.0)\n",
            "Collecting requests-toolbelt (from roboflow>=0.2.29->yolov5)\n",
            "  Downloading requests_toolbelt-1.0.0-py2.py3-none-any.whl.metadata (14 kB)\n",
            "Collecting filetype (from roboflow>=0.2.29->yolov5)\n",
            "  Downloading filetype-1.2.0-py2.py3-none-any.whl.metadata (6.5 kB)\n",
            "Collecting opencv-python>=4.1.1 (from yolov5)\n",
            "  Downloading opencv_python-4.9.0.80-cp37-abi3-manylinux_2_17_x86_64.manylinux2014_x86_64.whl.metadata (20 kB)\n",
            "Requirement already satisfied: shapely>=1.8.0 in /usr/local/lib/python3.10/dist-packages (from sahi>=0.11.10->yolov5) (2.0.6)\n",
            "Collecting pybboxes==0.1.6 (from sahi>=0.11.10->yolov5)\n",
            "  Downloading pybboxes-0.1.6-py3-none-any.whl.metadata (9.9 kB)\n",
            "Collecting terminaltables (from sahi>=0.11.10->yolov5)\n",
            "  Downloading terminaltables-3.1.10-py2.py3-none-any.whl.metadata (3.5 kB)\n",
            "Requirement already satisfied: click in /usr/local/lib/python3.10/dist-packages (from sahi>=0.11.10->yolov5) (8.1.7)\n",
            "Requirement already satisfied: absl-py>=0.4 in /usr/local/lib/python3.10/dist-packages (from tensorboard>=2.4.1->yolov5) (1.4.0)\n",
            "Requirement already satisfied: grpcio>=1.48.2 in /usr/local/lib/python3.10/dist-packages (from tensorboard>=2.4.1->yolov5) (1.64.1)\n",
            "Requirement already satisfied: markdown>=2.6.8 in /usr/local/lib/python3.10/dist-packages (from tensorboard>=2.4.1->yolov5) (3.7)\n",
            "Requirement already satisfied: protobuf!=4.24.0,<5.0.0,>=3.19.6 in /usr/local/lib/python3.10/dist-packages (from tensorboard>=2.4.1->yolov5) (4.25.5)\n",
            "Requirement already satisfied: tensorboard-data-server<0.8.0,>=0.7.0 in /usr/local/lib/python3.10/dist-packages (from tensorboard>=2.4.1->yolov5) (0.7.2)\n",
            "Requirement already satisfied: werkzeug>=1.0.1 in /usr/local/lib/python3.10/dist-packages (from tensorboard>=2.4.1->yolov5) (3.0.4)\n",
            "Requirement already satisfied: sympy in /usr/local/lib/python3.10/dist-packages (from torch>=1.7.0->yolov5) (1.13.3)\n",
            "Requirement already satisfied: networkx in /usr/local/lib/python3.10/dist-packages (from torch>=1.7.0->yolov5) (3.4.1)\n",
            "Requirement already satisfied: jinja2 in /usr/local/lib/python3.10/dist-packages (from torch>=1.7.0->yolov5) (3.1.4)\n",
            "Requirement already satisfied: py-cpuinfo in /usr/local/lib/python3.10/dist-packages (from ultralytics>=8.0.100->yolov5) (9.0.0)\n",
            "Collecting ultralytics-thop>=2.0.0 (from ultralytics>=8.0.100->yolov5)\n",
            "  Downloading ultralytics_thop-2.0.9-py3-none-any.whl.metadata (9.3 kB)\n",
            "Requirement already satisfied: termcolor in /usr/local/lib/python3.10/dist-packages (from fire->yolov5) (2.5.0)\n",
            "Requirement already satisfied: smmap<6,>=3.0.1 in /usr/local/lib/python3.10/dist-packages (from gitdb<5,>=4.0.1->gitpython>=3.1.30->yolov5) (5.0.1)\n",
            "Requirement already satisfied: MarkupSafe>=2.1.1 in /usr/local/lib/python3.10/dist-packages (from werkzeug>=1.0.1->tensorboard>=2.4.1->yolov5) (3.0.1)\n",
            "Requirement already satisfied: mpmath<1.4,>=1.1.0 in /usr/local/lib/python3.10/dist-packages (from sympy->torch>=1.7.0->yolov5) (1.3.0)\n",
            "Downloading yolov5-7.0.13-py37.py38.py39.py310-none-any.whl (953 kB)\n",
            "\u001b[2K   \u001b[90m━━━━━━━━━━━━━━━━━━━━━━━━━━━━━━━━━━━━━━━━\u001b[0m \u001b[32m953.4/953.4 kB\u001b[0m \u001b[31m19.5 MB/s\u001b[0m eta \u001b[36m0:00:00\u001b[0m\n",
            "\u001b[?25hDownloading boto3-1.35.44-py3-none-any.whl (139 kB)\n",
            "\u001b[2K   \u001b[90m━━━━━━━━━━━━━━━━━━━━━━━━━━━━━━━━━━━━━━━━\u001b[0m \u001b[32m139.2/139.2 kB\u001b[0m \u001b[31m8.5 MB/s\u001b[0m eta \u001b[36m0:00:00\u001b[0m\n",
            "\u001b[?25hDownloading roboflow-1.1.48-py3-none-any.whl (80 kB)\n",
            "\u001b[2K   \u001b[90m━━━━━━━━━━━━━━━━━━━━━━━━━━━━━━━━━━━━━━━━\u001b[0m \u001b[32m80.3/80.3 kB\u001b[0m \u001b[31m6.2 MB/s\u001b[0m eta \u001b[36m0:00:00\u001b[0m\n",
            "\u001b[?25hDownloading idna-3.7-py3-none-any.whl (66 kB)\n",
            "\u001b[2K   \u001b[90m━━━━━━━━━━━━━━━━━━━━━━━━━━━━━━━━━━━━━━━━\u001b[0m \u001b[32m66.8/66.8 kB\u001b[0m \u001b[31m4.8 MB/s\u001b[0m eta \u001b[36m0:00:00\u001b[0m\n",
            "\u001b[?25hDownloading sahi-0.11.18-py3-none-any.whl (113 kB)\n",
            "\u001b[2K   \u001b[90m━━━━━━━━━━━━━━━━━━━━━━━━━━━━━━━━━━━━━━━━\u001b[0m \u001b[32m113.6/113.6 kB\u001b[0m \u001b[31m7.9 MB/s\u001b[0m eta \u001b[36m0:00:00\u001b[0m\n",
            "\u001b[?25hDownloading pybboxes-0.1.6-py3-none-any.whl (24 kB)\n",
            "Downloading opencv_python-4.9.0.80-cp37-abi3-manylinux_2_17_x86_64.manylinux2014_x86_64.whl (62.2 MB)\n",
            "\u001b[2K   \u001b[90m━━━━━━━━━━━━━━━━━━━━━━━━━━━━━━━━━━━━━━━━\u001b[0m \u001b[32m62.2/62.2 MB\u001b[0m \u001b[31m11.1 MB/s\u001b[0m eta \u001b[36m0:00:00\u001b[0m\n",
            "\u001b[?25hDownloading thop-0.1.1.post2209072238-py3-none-any.whl (15 kB)\n",
            "Downloading ultralytics-8.3.18-py3-none-any.whl (876 kB)\n",
            "\u001b[2K   \u001b[90m━━━━━━━━━━━━━━━━━━━━━━━━━━━━━━━━━━━━━━━━\u001b[0m \u001b[32m876.6/876.6 kB\u001b[0m \u001b[31m40.4 MB/s\u001b[0m eta \u001b[36m0:00:00\u001b[0m\n",
            "\u001b[?25hDownloading botocore-1.35.44-py3-none-any.whl (12.6 MB)\n",
            "\u001b[2K   \u001b[90m━━━━━━━━━━━━━━━━━━━━━━━━━━━━━━━━━━━━━━━━\u001b[0m \u001b[32m12.6/12.6 MB\u001b[0m \u001b[31m89.4 MB/s\u001b[0m eta \u001b[36m0:00:00\u001b[0m\n",
            "\u001b[?25hDownloading jmespath-1.0.1-py3-none-any.whl (20 kB)\n",
            "Downloading s3transfer-0.10.3-py3-none-any.whl (82 kB)\n",
            "\u001b[2K   \u001b[90m━━━━━━━━━━━━━━━━━━━━━━━━━━━━━━━━━━━━━━━━\u001b[0m \u001b[32m82.6/82.6 kB\u001b[0m \u001b[31m6.2 MB/s\u001b[0m eta \u001b[36m0:00:00\u001b[0m\n",
            "\u001b[?25hDownloading ultralytics_thop-2.0.9-py3-none-any.whl (26 kB)\n",
            "Downloading filetype-1.2.0-py2.py3-none-any.whl (19 kB)\n",
            "Downloading python_dotenv-1.0.1-py3-none-any.whl (19 kB)\n",
            "Downloading requests_toolbelt-1.0.0-py2.py3-none-any.whl (54 kB)\n",
            "\u001b[2K   \u001b[90m━━━━━━━━━━━━━━━━━━━━━━━━━━━━━━━━━━━━━━━━\u001b[0m \u001b[32m54.5/54.5 kB\u001b[0m \u001b[31m4.2 MB/s\u001b[0m eta \u001b[36m0:00:00\u001b[0m\n",
            "\u001b[?25hDownloading terminaltables-3.1.10-py2.py3-none-any.whl (15 kB)\n",
            "Building wheels for collected packages: fire\n",
            "  Building wheel for fire (setup.py) ... \u001b[?25l\u001b[?25hdone\n",
            "  Created wheel for fire: filename=fire-0.7.0-py3-none-any.whl size=114249 sha256=d19b83a4872dd394257ce68ece50f82bfd04e843836464bd0722ef884d498607\n",
            "  Stored in directory: /root/.cache/pip/wheels/19/39/2f/2d3cadc408a8804103f1c34ddd4b9f6a93497b11fa96fe738e\n",
            "Successfully built fire\n",
            "Installing collected packages: filetype, terminaltables, python-dotenv, pybboxes, opencv-python, jmespath, idna, fire, botocore, ultralytics-thop, thop, sahi, s3transfer, requests-toolbelt, ultralytics, roboflow, boto3, yolov5\n",
            "  Attempting uninstall: opencv-python\n",
            "    Found existing installation: opencv-python 4.10.0.84\n",
            "    Uninstalling opencv-python-4.10.0.84:\n",
            "      Successfully uninstalled opencv-python-4.10.0.84\n",
            "  Attempting uninstall: idna\n",
            "    Found existing installation: idna 3.10\n",
            "    Uninstalling idna-3.10:\n",
            "      Successfully uninstalled idna-3.10\n",
            "Successfully installed boto3-1.35.44 botocore-1.35.44 filetype-1.2.0 fire-0.7.0 idna-3.7 jmespath-1.0.1 opencv-python-4.9.0.80 pybboxes-0.1.6 python-dotenv-1.0.1 requests-toolbelt-1.0.0 roboflow-1.1.48 s3transfer-0.10.3 sahi-0.11.18 terminaltables-3.1.10 thop-0.1.1.post2209072238 ultralytics-8.3.18 ultralytics-thop-2.0.9 yolov5-7.0.13\n"
          ]
        }
      ]
    },
    {
      "cell_type": "code",
      "execution_count": null,
      "metadata": {
        "id": "AJfnJhSKFJMV"
      },
      "outputs": [],
      "source": [
        "import pandas as pd\n",
        "import json\n",
        "\n",
        "import cv2\n",
        "import numpy as np\n",
        "import os\n",
        "from matplotlib import pyplot as plt\n",
        "import time\n",
        "import mediapipe as mp\n",
        "\n",
        "from google.colab.patches import cv2_imshow\n",
        "\n",
        "from pathlib import Path"
      ]
    },
    {
      "cell_type": "code",
      "execution_count": null,
      "metadata": {
        "colab": {
          "base_uri": "https://localhost:8080/"
        },
        "id": "qFu28tJK_-Vc",
        "outputId": "54bae6e9-9368-4008-8d9e-9e231433ebcb"
      },
      "outputs": [
        {
          "output_type": "stream",
          "name": "stdout",
          "text": [
            "Mounted at /content/drive\n"
          ]
        }
      ],
      "source": [
        "from google.colab import drive\n",
        "drive.mount('/content/drive')"
      ]
    },
    {
      "cell_type": "code",
      "source": [
        "file_path_json = '/content/drive/MyDrive/PumpkinSeeds/datasource/dataLinksJson/'\n",
        "file_path_vido = '/content/drive/MyDrive/PumpkinSeeds/datasource/dataSignVideos/'\n",
        "file_path_test = '/content/drive/MyDrive/PumpkinSeeds/datasource/dataSignVideosTest/'\n",
        "file_path_actn = '/content/drive/MyDrive/PumpkinSeeds/datasource/dataSignActions/'"
      ],
      "metadata": {
        "id": "tOwS7fktRlNd"
      },
      "execution_count": null,
      "outputs": []
    },
    {
      "cell_type": "code",
      "source": [
        "actions = set()"
      ],
      "metadata": {
        "id": "seO_QwvYlIDd"
      },
      "execution_count": null,
      "outputs": []
    },
    {
      "cell_type": "code",
      "source": [
        "def getDataSetAsDataFrame(file_name):\n",
        "    with open(file_path_json + file_name, 'r') as file:\n",
        "        json_data = json.load(file)\n",
        "    return pd.DataFrame(json_data)"
      ],
      "metadata": {
        "id": "X7CDYutqOBMR"
      },
      "execution_count": null,
      "outputs": []
    },
    {
      "cell_type": "code",
      "source": [
        "df_train = getDataSetAsDataFrame('MSASL_train.json')\n",
        "df_test = getDataSetAsDataFrame('MSASL_test.json')"
      ],
      "metadata": {
        "id": "H4qQ0Fk3NJ-S"
      },
      "execution_count": null,
      "outputs": []
    },
    {
      "cell_type": "code",
      "source": [
        "df_train"
      ],
      "metadata": {
        "colab": {
          "base_uri": "https://localhost:8080/",
          "height": 745
        },
        "id": "_qQf6MY0aOnX",
        "outputId": "57efd85e-80bf-49e3-cc3c-5fb1dd814bdc"
      },
      "execution_count": null,
      "outputs": [
        {
          "output_type": "execute_result",
          "data": {
            "text/plain": [
              "                    org_text     clean_text  start_time  signer_id  signer  \\\n",
              "0      match [light-a-MATCH]          match       0.000          0       0   \n",
              "1                       FAIL           fail       0.000          0      -1   \n",
              "2                      laugh          laugh       0.000          4      26   \n",
              "3                       BOOK           book       0.000          0      -1   \n",
              "4              sign-language  sign language       0.000          0      -1   \n",
              "...                      ...            ...         ...        ...     ...   \n",
              "16049                  WRITE          write     539.939         32      17   \n",
              "16050                    hot            hot       0.000          2      42   \n",
              "16051                     hi             hi       0.000          0       0   \n",
              "16052                 Learn           learn       0.000        135      -1   \n",
              "16053             accountant     accountant       0.000          2      81   \n",
              "\n",
              "       start    end                          file  label  height     fps  \\\n",
              "0          0     83           match light-a-MATCH    830   360.0  30.000   \n",
              "1          0     74                          FAIL    542   360.0  25.000   \n",
              "2          0     31  SignSchool Laugh with Legs 2    312   360.0  29.970   \n",
              "3          0     66                       BOOK(3)     38   360.0  25.000   \n",
              "4          0     75        SIGN-LANGUAGE-S-CLAW-F    848   360.0  29.970   \n",
              "...      ...    ...                           ...    ...     ...     ...   \n",
              "16049  16182  16301       ASL 1 Unit 1 Vocabulary     53   360.0  29.970   \n",
              "16050      0    127                           Hot    135   360.0  29.657   \n",
              "16051      0     47                            Hi    379   360.0  29.970   \n",
              "16052      0    104                    ASL Learn      22   360.0  30.000   \n",
              "16053      0    156                    Accountant    777   360.0  29.658   \n",
              "\n",
              "       end_time                                          url           text  \\\n",
              "0         2.767  https://www.youtube.com/watch?v=C37R_Ix8-qs          match   \n",
              "1         2.960  https://www.youtube.com/watch?v=PIsUJl8BN_I           fail   \n",
              "2         1.034          www.youtube.com/watch?v=9FdHlMOnVjg          laugh   \n",
              "3         2.640  https://www.youtube.com/watch?v=J7tP98oDxqE           book   \n",
              "4         2.502          www.youtube.com/watch?v=N2mG9ZKjrGA  sign language   \n",
              "...         ...                                          ...            ...   \n",
              "16049   543.910  https://www.youtube.com/watch?v=fNg_sJ9f8EI          write   \n",
              "16050     4.282  https://www.youtube.com/watch?v=MkXUHhsMAns            hot   \n",
              "16051     1.568          www.youtube.com/watch?v=rhfJGeMDMzQ             hi   \n",
              "16052     3.467  https://www.youtube.com/watch?v=n-b2NMAwk28          learn   \n",
              "16053     5.260  https://www.youtube.com/watch?v=YwF_2ko6RxQ     accountant   \n",
              "\n",
              "                                                     box  width  review  \n",
              "0      [0.05754461884498596, 0.21637457609176636, 1.0...  640.0     NaN  \n",
              "1      [0.0657794177532196, 0.16717177629470825, 0.93...  480.0     NaN  \n",
              "2      [0.13188594579696655, 0.32334136962890625, 1.0...  640.0     NaN  \n",
              "3      [0.05569887161254883, 0.25173279643058777, 0.9...  480.0     NaN  \n",
              "4      [0.03904399275779724, 0.24198183417320251, 1.0...  640.0     NaN  \n",
              "...                                                  ...    ...     ...  \n",
              "16049  [0.03217703104019165, 0.3161315321922302, 1.0,...  640.0     NaN  \n",
              "16050  [0.00036713480949401855, 0.20649650692939758, ...  640.0     NaN  \n",
              "16051  [0.013705313205718994, 0.17314371466636658, 1....  640.0     NaN  \n",
              "16052  [0.18269836902618408, 0.19255371391773224, 1.0...  480.0     NaN  \n",
              "16053  [0.0, 0.20838260650634766, 1.0, 0.855440020561...  640.0     NaN  \n",
              "\n",
              "[16054 rows x 17 columns]"
            ],
            "text/html": [
              "\n",
              "  <div id=\"df-a9ac4174-fd7a-466f-9ddb-f85a59a85e82\" class=\"colab-df-container\">\n",
              "    <div>\n",
              "<style scoped>\n",
              "    .dataframe tbody tr th:only-of-type {\n",
              "        vertical-align: middle;\n",
              "    }\n",
              "\n",
              "    .dataframe tbody tr th {\n",
              "        vertical-align: top;\n",
              "    }\n",
              "\n",
              "    .dataframe thead th {\n",
              "        text-align: right;\n",
              "    }\n",
              "</style>\n",
              "<table border=\"1\" class=\"dataframe\">\n",
              "  <thead>\n",
              "    <tr style=\"text-align: right;\">\n",
              "      <th></th>\n",
              "      <th>org_text</th>\n",
              "      <th>clean_text</th>\n",
              "      <th>start_time</th>\n",
              "      <th>signer_id</th>\n",
              "      <th>signer</th>\n",
              "      <th>start</th>\n",
              "      <th>end</th>\n",
              "      <th>file</th>\n",
              "      <th>label</th>\n",
              "      <th>height</th>\n",
              "      <th>fps</th>\n",
              "      <th>end_time</th>\n",
              "      <th>url</th>\n",
              "      <th>text</th>\n",
              "      <th>box</th>\n",
              "      <th>width</th>\n",
              "      <th>review</th>\n",
              "    </tr>\n",
              "  </thead>\n",
              "  <tbody>\n",
              "    <tr>\n",
              "      <th>0</th>\n",
              "      <td>match [light-a-MATCH]</td>\n",
              "      <td>match</td>\n",
              "      <td>0.000</td>\n",
              "      <td>0</td>\n",
              "      <td>0</td>\n",
              "      <td>0</td>\n",
              "      <td>83</td>\n",
              "      <td>match light-a-MATCH</td>\n",
              "      <td>830</td>\n",
              "      <td>360.0</td>\n",
              "      <td>30.000</td>\n",
              "      <td>2.767</td>\n",
              "      <td>https://www.youtube.com/watch?v=C37R_Ix8-qs</td>\n",
              "      <td>match</td>\n",
              "      <td>[0.05754461884498596, 0.21637457609176636, 1.0...</td>\n",
              "      <td>640.0</td>\n",
              "      <td>NaN</td>\n",
              "    </tr>\n",
              "    <tr>\n",
              "      <th>1</th>\n",
              "      <td>FAIL</td>\n",
              "      <td>fail</td>\n",
              "      <td>0.000</td>\n",
              "      <td>0</td>\n",
              "      <td>-1</td>\n",
              "      <td>0</td>\n",
              "      <td>74</td>\n",
              "      <td>FAIL</td>\n",
              "      <td>542</td>\n",
              "      <td>360.0</td>\n",
              "      <td>25.000</td>\n",
              "      <td>2.960</td>\n",
              "      <td>https://www.youtube.com/watch?v=PIsUJl8BN_I</td>\n",
              "      <td>fail</td>\n",
              "      <td>[0.0657794177532196, 0.16717177629470825, 0.93...</td>\n",
              "      <td>480.0</td>\n",
              "      <td>NaN</td>\n",
              "    </tr>\n",
              "    <tr>\n",
              "      <th>2</th>\n",
              "      <td>laugh</td>\n",
              "      <td>laugh</td>\n",
              "      <td>0.000</td>\n",
              "      <td>4</td>\n",
              "      <td>26</td>\n",
              "      <td>0</td>\n",
              "      <td>31</td>\n",
              "      <td>SignSchool Laugh with Legs 2</td>\n",
              "      <td>312</td>\n",
              "      <td>360.0</td>\n",
              "      <td>29.970</td>\n",
              "      <td>1.034</td>\n",
              "      <td>www.youtube.com/watch?v=9FdHlMOnVjg</td>\n",
              "      <td>laugh</td>\n",
              "      <td>[0.13188594579696655, 0.32334136962890625, 1.0...</td>\n",
              "      <td>640.0</td>\n",
              "      <td>NaN</td>\n",
              "    </tr>\n",
              "    <tr>\n",
              "      <th>3</th>\n",
              "      <td>BOOK</td>\n",
              "      <td>book</td>\n",
              "      <td>0.000</td>\n",
              "      <td>0</td>\n",
              "      <td>-1</td>\n",
              "      <td>0</td>\n",
              "      <td>66</td>\n",
              "      <td>BOOK(3)</td>\n",
              "      <td>38</td>\n",
              "      <td>360.0</td>\n",
              "      <td>25.000</td>\n",
              "      <td>2.640</td>\n",
              "      <td>https://www.youtube.com/watch?v=J7tP98oDxqE</td>\n",
              "      <td>book</td>\n",
              "      <td>[0.05569887161254883, 0.25173279643058777, 0.9...</td>\n",
              "      <td>480.0</td>\n",
              "      <td>NaN</td>\n",
              "    </tr>\n",
              "    <tr>\n",
              "      <th>4</th>\n",
              "      <td>sign-language</td>\n",
              "      <td>sign language</td>\n",
              "      <td>0.000</td>\n",
              "      <td>0</td>\n",
              "      <td>-1</td>\n",
              "      <td>0</td>\n",
              "      <td>75</td>\n",
              "      <td>SIGN-LANGUAGE-S-CLAW-F</td>\n",
              "      <td>848</td>\n",
              "      <td>360.0</td>\n",
              "      <td>29.970</td>\n",
              "      <td>2.502</td>\n",
              "      <td>www.youtube.com/watch?v=N2mG9ZKjrGA</td>\n",
              "      <td>sign language</td>\n",
              "      <td>[0.03904399275779724, 0.24198183417320251, 1.0...</td>\n",
              "      <td>640.0</td>\n",
              "      <td>NaN</td>\n",
              "    </tr>\n",
              "    <tr>\n",
              "      <th>...</th>\n",
              "      <td>...</td>\n",
              "      <td>...</td>\n",
              "      <td>...</td>\n",
              "      <td>...</td>\n",
              "      <td>...</td>\n",
              "      <td>...</td>\n",
              "      <td>...</td>\n",
              "      <td>...</td>\n",
              "      <td>...</td>\n",
              "      <td>...</td>\n",
              "      <td>...</td>\n",
              "      <td>...</td>\n",
              "      <td>...</td>\n",
              "      <td>...</td>\n",
              "      <td>...</td>\n",
              "      <td>...</td>\n",
              "      <td>...</td>\n",
              "    </tr>\n",
              "    <tr>\n",
              "      <th>16049</th>\n",
              "      <td>WRITE</td>\n",
              "      <td>write</td>\n",
              "      <td>539.939</td>\n",
              "      <td>32</td>\n",
              "      <td>17</td>\n",
              "      <td>16182</td>\n",
              "      <td>16301</td>\n",
              "      <td>ASL 1 Unit 1 Vocabulary</td>\n",
              "      <td>53</td>\n",
              "      <td>360.0</td>\n",
              "      <td>29.970</td>\n",
              "      <td>543.910</td>\n",
              "      <td>https://www.youtube.com/watch?v=fNg_sJ9f8EI</td>\n",
              "      <td>write</td>\n",
              "      <td>[0.03217703104019165, 0.3161315321922302, 1.0,...</td>\n",
              "      <td>640.0</td>\n",
              "      <td>NaN</td>\n",
              "    </tr>\n",
              "    <tr>\n",
              "      <th>16050</th>\n",
              "      <td>hot</td>\n",
              "      <td>hot</td>\n",
              "      <td>0.000</td>\n",
              "      <td>2</td>\n",
              "      <td>42</td>\n",
              "      <td>0</td>\n",
              "      <td>127</td>\n",
              "      <td>Hot</td>\n",
              "      <td>135</td>\n",
              "      <td>360.0</td>\n",
              "      <td>29.657</td>\n",
              "      <td>4.282</td>\n",
              "      <td>https://www.youtube.com/watch?v=MkXUHhsMAns</td>\n",
              "      <td>hot</td>\n",
              "      <td>[0.00036713480949401855, 0.20649650692939758, ...</td>\n",
              "      <td>640.0</td>\n",
              "      <td>NaN</td>\n",
              "    </tr>\n",
              "    <tr>\n",
              "      <th>16051</th>\n",
              "      <td>hi</td>\n",
              "      <td>hi</td>\n",
              "      <td>0.000</td>\n",
              "      <td>0</td>\n",
              "      <td>0</td>\n",
              "      <td>0</td>\n",
              "      <td>47</td>\n",
              "      <td>Hi</td>\n",
              "      <td>379</td>\n",
              "      <td>360.0</td>\n",
              "      <td>29.970</td>\n",
              "      <td>1.568</td>\n",
              "      <td>www.youtube.com/watch?v=rhfJGeMDMzQ</td>\n",
              "      <td>hi</td>\n",
              "      <td>[0.013705313205718994, 0.17314371466636658, 1....</td>\n",
              "      <td>640.0</td>\n",
              "      <td>NaN</td>\n",
              "    </tr>\n",
              "    <tr>\n",
              "      <th>16052</th>\n",
              "      <td>Learn</td>\n",
              "      <td>learn</td>\n",
              "      <td>0.000</td>\n",
              "      <td>135</td>\n",
              "      <td>-1</td>\n",
              "      <td>0</td>\n",
              "      <td>104</td>\n",
              "      <td>ASL Learn</td>\n",
              "      <td>22</td>\n",
              "      <td>360.0</td>\n",
              "      <td>30.000</td>\n",
              "      <td>3.467</td>\n",
              "      <td>https://www.youtube.com/watch?v=n-b2NMAwk28</td>\n",
              "      <td>learn</td>\n",
              "      <td>[0.18269836902618408, 0.19255371391773224, 1.0...</td>\n",
              "      <td>480.0</td>\n",
              "      <td>NaN</td>\n",
              "    </tr>\n",
              "    <tr>\n",
              "      <th>16053</th>\n",
              "      <td>accountant</td>\n",
              "      <td>accountant</td>\n",
              "      <td>0.000</td>\n",
              "      <td>2</td>\n",
              "      <td>81</td>\n",
              "      <td>0</td>\n",
              "      <td>156</td>\n",
              "      <td>Accountant</td>\n",
              "      <td>777</td>\n",
              "      <td>360.0</td>\n",
              "      <td>29.658</td>\n",
              "      <td>5.260</td>\n",
              "      <td>https://www.youtube.com/watch?v=YwF_2ko6RxQ</td>\n",
              "      <td>accountant</td>\n",
              "      <td>[0.0, 0.20838260650634766, 1.0, 0.855440020561...</td>\n",
              "      <td>640.0</td>\n",
              "      <td>NaN</td>\n",
              "    </tr>\n",
              "  </tbody>\n",
              "</table>\n",
              "<p>16054 rows × 17 columns</p>\n",
              "</div>\n",
              "    <div class=\"colab-df-buttons\">\n",
              "\n",
              "  <div class=\"colab-df-container\">\n",
              "    <button class=\"colab-df-convert\" onclick=\"convertToInteractive('df-a9ac4174-fd7a-466f-9ddb-f85a59a85e82')\"\n",
              "            title=\"Convert this dataframe to an interactive table.\"\n",
              "            style=\"display:none;\">\n",
              "\n",
              "  <svg xmlns=\"http://www.w3.org/2000/svg\" height=\"24px\" viewBox=\"0 -960 960 960\">\n",
              "    <path d=\"M120-120v-720h720v720H120Zm60-500h600v-160H180v160Zm220 220h160v-160H400v160Zm0 220h160v-160H400v160ZM180-400h160v-160H180v160Zm440 0h160v-160H620v160ZM180-180h160v-160H180v160Zm440 0h160v-160H620v160Z\"/>\n",
              "  </svg>\n",
              "    </button>\n",
              "\n",
              "  <style>\n",
              "    .colab-df-container {\n",
              "      display:flex;\n",
              "      gap: 12px;\n",
              "    }\n",
              "\n",
              "    .colab-df-convert {\n",
              "      background-color: #E8F0FE;\n",
              "      border: none;\n",
              "      border-radius: 50%;\n",
              "      cursor: pointer;\n",
              "      display: none;\n",
              "      fill: #1967D2;\n",
              "      height: 32px;\n",
              "      padding: 0 0 0 0;\n",
              "      width: 32px;\n",
              "    }\n",
              "\n",
              "    .colab-df-convert:hover {\n",
              "      background-color: #E2EBFA;\n",
              "      box-shadow: 0px 1px 2px rgba(60, 64, 67, 0.3), 0px 1px 3px 1px rgba(60, 64, 67, 0.15);\n",
              "      fill: #174EA6;\n",
              "    }\n",
              "\n",
              "    .colab-df-buttons div {\n",
              "      margin-bottom: 4px;\n",
              "    }\n",
              "\n",
              "    [theme=dark] .colab-df-convert {\n",
              "      background-color: #3B4455;\n",
              "      fill: #D2E3FC;\n",
              "    }\n",
              "\n",
              "    [theme=dark] .colab-df-convert:hover {\n",
              "      background-color: #434B5C;\n",
              "      box-shadow: 0px 1px 3px 1px rgba(0, 0, 0, 0.15);\n",
              "      filter: drop-shadow(0px 1px 2px rgba(0, 0, 0, 0.3));\n",
              "      fill: #FFFFFF;\n",
              "    }\n",
              "  </style>\n",
              "\n",
              "    <script>\n",
              "      const buttonEl =\n",
              "        document.querySelector('#df-a9ac4174-fd7a-466f-9ddb-f85a59a85e82 button.colab-df-convert');\n",
              "      buttonEl.style.display =\n",
              "        google.colab.kernel.accessAllowed ? 'block' : 'none';\n",
              "\n",
              "      async function convertToInteractive(key) {\n",
              "        const element = document.querySelector('#df-a9ac4174-fd7a-466f-9ddb-f85a59a85e82');\n",
              "        const dataTable =\n",
              "          await google.colab.kernel.invokeFunction('convertToInteractive',\n",
              "                                                    [key], {});\n",
              "        if (!dataTable) return;\n",
              "\n",
              "        const docLinkHtml = 'Like what you see? Visit the ' +\n",
              "          '<a target=\"_blank\" href=https://colab.research.google.com/notebooks/data_table.ipynb>data table notebook</a>'\n",
              "          + ' to learn more about interactive tables.';\n",
              "        element.innerHTML = '';\n",
              "        dataTable['output_type'] = 'display_data';\n",
              "        await google.colab.output.renderOutput(dataTable, element);\n",
              "        const docLink = document.createElement('div');\n",
              "        docLink.innerHTML = docLinkHtml;\n",
              "        element.appendChild(docLink);\n",
              "      }\n",
              "    </script>\n",
              "  </div>\n",
              "\n",
              "\n",
              "<div id=\"df-57138fe3-c371-4ba5-8b41-c5f1d288f103\">\n",
              "  <button class=\"colab-df-quickchart\" onclick=\"quickchart('df-57138fe3-c371-4ba5-8b41-c5f1d288f103')\"\n",
              "            title=\"Suggest charts\"\n",
              "            style=\"display:none;\">\n",
              "\n",
              "<svg xmlns=\"http://www.w3.org/2000/svg\" height=\"24px\"viewBox=\"0 0 24 24\"\n",
              "     width=\"24px\">\n",
              "    <g>\n",
              "        <path d=\"M19 3H5c-1.1 0-2 .9-2 2v14c0 1.1.9 2 2 2h14c1.1 0 2-.9 2-2V5c0-1.1-.9-2-2-2zM9 17H7v-7h2v7zm4 0h-2V7h2v10zm4 0h-2v-4h2v4z\"/>\n",
              "    </g>\n",
              "</svg>\n",
              "  </button>\n",
              "\n",
              "<style>\n",
              "  .colab-df-quickchart {\n",
              "      --bg-color: #E8F0FE;\n",
              "      --fill-color: #1967D2;\n",
              "      --hover-bg-color: #E2EBFA;\n",
              "      --hover-fill-color: #174EA6;\n",
              "      --disabled-fill-color: #AAA;\n",
              "      --disabled-bg-color: #DDD;\n",
              "  }\n",
              "\n",
              "  [theme=dark] .colab-df-quickchart {\n",
              "      --bg-color: #3B4455;\n",
              "      --fill-color: #D2E3FC;\n",
              "      --hover-bg-color: #434B5C;\n",
              "      --hover-fill-color: #FFFFFF;\n",
              "      --disabled-bg-color: #3B4455;\n",
              "      --disabled-fill-color: #666;\n",
              "  }\n",
              "\n",
              "  .colab-df-quickchart {\n",
              "    background-color: var(--bg-color);\n",
              "    border: none;\n",
              "    border-radius: 50%;\n",
              "    cursor: pointer;\n",
              "    display: none;\n",
              "    fill: var(--fill-color);\n",
              "    height: 32px;\n",
              "    padding: 0;\n",
              "    width: 32px;\n",
              "  }\n",
              "\n",
              "  .colab-df-quickchart:hover {\n",
              "    background-color: var(--hover-bg-color);\n",
              "    box-shadow: 0 1px 2px rgba(60, 64, 67, 0.3), 0 1px 3px 1px rgba(60, 64, 67, 0.15);\n",
              "    fill: var(--button-hover-fill-color);\n",
              "  }\n",
              "\n",
              "  .colab-df-quickchart-complete:disabled,\n",
              "  .colab-df-quickchart-complete:disabled:hover {\n",
              "    background-color: var(--disabled-bg-color);\n",
              "    fill: var(--disabled-fill-color);\n",
              "    box-shadow: none;\n",
              "  }\n",
              "\n",
              "  .colab-df-spinner {\n",
              "    border: 2px solid var(--fill-color);\n",
              "    border-color: transparent;\n",
              "    border-bottom-color: var(--fill-color);\n",
              "    animation:\n",
              "      spin 1s steps(1) infinite;\n",
              "  }\n",
              "\n",
              "  @keyframes spin {\n",
              "    0% {\n",
              "      border-color: transparent;\n",
              "      border-bottom-color: var(--fill-color);\n",
              "      border-left-color: var(--fill-color);\n",
              "    }\n",
              "    20% {\n",
              "      border-color: transparent;\n",
              "      border-left-color: var(--fill-color);\n",
              "      border-top-color: var(--fill-color);\n",
              "    }\n",
              "    30% {\n",
              "      border-color: transparent;\n",
              "      border-left-color: var(--fill-color);\n",
              "      border-top-color: var(--fill-color);\n",
              "      border-right-color: var(--fill-color);\n",
              "    }\n",
              "    40% {\n",
              "      border-color: transparent;\n",
              "      border-right-color: var(--fill-color);\n",
              "      border-top-color: var(--fill-color);\n",
              "    }\n",
              "    60% {\n",
              "      border-color: transparent;\n",
              "      border-right-color: var(--fill-color);\n",
              "    }\n",
              "    80% {\n",
              "      border-color: transparent;\n",
              "      border-right-color: var(--fill-color);\n",
              "      border-bottom-color: var(--fill-color);\n",
              "    }\n",
              "    90% {\n",
              "      border-color: transparent;\n",
              "      border-bottom-color: var(--fill-color);\n",
              "    }\n",
              "  }\n",
              "</style>\n",
              "\n",
              "  <script>\n",
              "    async function quickchart(key) {\n",
              "      const quickchartButtonEl =\n",
              "        document.querySelector('#' + key + ' button');\n",
              "      quickchartButtonEl.disabled = true;  // To prevent multiple clicks.\n",
              "      quickchartButtonEl.classList.add('colab-df-spinner');\n",
              "      try {\n",
              "        const charts = await google.colab.kernel.invokeFunction(\n",
              "            'suggestCharts', [key], {});\n",
              "      } catch (error) {\n",
              "        console.error('Error during call to suggestCharts:', error);\n",
              "      }\n",
              "      quickchartButtonEl.classList.remove('colab-df-spinner');\n",
              "      quickchartButtonEl.classList.add('colab-df-quickchart-complete');\n",
              "    }\n",
              "    (() => {\n",
              "      let quickchartButtonEl =\n",
              "        document.querySelector('#df-57138fe3-c371-4ba5-8b41-c5f1d288f103 button');\n",
              "      quickchartButtonEl.style.display =\n",
              "        google.colab.kernel.accessAllowed ? 'block' : 'none';\n",
              "    })();\n",
              "  </script>\n",
              "</div>\n",
              "\n",
              "  <div id=\"id_4f090a3a-1aeb-4f7b-9cf8-03649001a928\">\n",
              "    <style>\n",
              "      .colab-df-generate {\n",
              "        background-color: #E8F0FE;\n",
              "        border: none;\n",
              "        border-radius: 50%;\n",
              "        cursor: pointer;\n",
              "        display: none;\n",
              "        fill: #1967D2;\n",
              "        height: 32px;\n",
              "        padding: 0 0 0 0;\n",
              "        width: 32px;\n",
              "      }\n",
              "\n",
              "      .colab-df-generate:hover {\n",
              "        background-color: #E2EBFA;\n",
              "        box-shadow: 0px 1px 2px rgba(60, 64, 67, 0.3), 0px 1px 3px 1px rgba(60, 64, 67, 0.15);\n",
              "        fill: #174EA6;\n",
              "      }\n",
              "\n",
              "      [theme=dark] .colab-df-generate {\n",
              "        background-color: #3B4455;\n",
              "        fill: #D2E3FC;\n",
              "      }\n",
              "\n",
              "      [theme=dark] .colab-df-generate:hover {\n",
              "        background-color: #434B5C;\n",
              "        box-shadow: 0px 1px 3px 1px rgba(0, 0, 0, 0.15);\n",
              "        filter: drop-shadow(0px 1px 2px rgba(0, 0, 0, 0.3));\n",
              "        fill: #FFFFFF;\n",
              "      }\n",
              "    </style>\n",
              "    <button class=\"colab-df-generate\" onclick=\"generateWithVariable('df_train')\"\n",
              "            title=\"Generate code using this dataframe.\"\n",
              "            style=\"display:none;\">\n",
              "\n",
              "  <svg xmlns=\"http://www.w3.org/2000/svg\" height=\"24px\"viewBox=\"0 0 24 24\"\n",
              "       width=\"24px\">\n",
              "    <path d=\"M7,19H8.4L18.45,9,17,7.55,7,17.6ZM5,21V16.75L18.45,3.32a2,2,0,0,1,2.83,0l1.4,1.43a1.91,1.91,0,0,1,.58,1.4,1.91,1.91,0,0,1-.58,1.4L9.25,21ZM18.45,9,17,7.55Zm-12,3A5.31,5.31,0,0,0,4.9,8.1,5.31,5.31,0,0,0,1,6.5,5.31,5.31,0,0,0,4.9,4.9,5.31,5.31,0,0,0,6.5,1,5.31,5.31,0,0,0,8.1,4.9,5.31,5.31,0,0,0,12,6.5,5.46,5.46,0,0,0,6.5,12Z\"/>\n",
              "  </svg>\n",
              "    </button>\n",
              "    <script>\n",
              "      (() => {\n",
              "      const buttonEl =\n",
              "        document.querySelector('#id_4f090a3a-1aeb-4f7b-9cf8-03649001a928 button.colab-df-generate');\n",
              "      buttonEl.style.display =\n",
              "        google.colab.kernel.accessAllowed ? 'block' : 'none';\n",
              "\n",
              "      buttonEl.onclick = () => {\n",
              "        google.colab.notebook.generateWithVariable('df_train');\n",
              "      }\n",
              "      })();\n",
              "    </script>\n",
              "  </div>\n",
              "\n",
              "    </div>\n",
              "  </div>\n"
            ],
            "application/vnd.google.colaboratory.intrinsic+json": {
              "type": "dataframe",
              "variable_name": "df_train",
              "summary": "{\n  \"name\": \"df_train\",\n  \"rows\": 16054,\n  \"fields\": [\n    {\n      \"column\": \"org_text\",\n      \"properties\": {\n        \"dtype\": \"category\",\n        \"num_unique_values\": 5147,\n        \"samples\": [\n          \"24\",\n          \"DUE / OWE\",\n          \"new\"\n        ],\n        \"semantic_type\": \"\",\n        \"description\": \"\"\n      }\n    },\n    {\n      \"column\": \"clean_text\",\n      \"properties\": {\n        \"dtype\": \"category\",\n        \"num_unique_values\": 1048,\n        \"samples\": [\n          \"police\",\n          \"close\",\n          \"radio\"\n        ],\n        \"semantic_type\": \"\",\n        \"description\": \"\"\n      }\n    },\n    {\n      \"column\": \"start_time\",\n      \"properties\": {\n        \"dtype\": \"number\",\n        \"std\": 251.9002411716876,\n        \"min\": 0.0,\n        \"max\": 1644.91,\n        \"num_unique_values\": 9899,\n        \"samples\": [\n          196.163,\n          773.8,\n          297.96\n        ],\n        \"semantic_type\": \"\",\n        \"description\": \"\"\n      }\n    },\n    {\n      \"column\": \"signer_id\",\n      \"properties\": {\n        \"dtype\": \"number\",\n        \"std\": 109,\n        \"min\": 0,\n        \"max\": 457,\n        \"num_unique_values\": 165,\n        \"samples\": [\n          341,\n          452,\n          330\n        ],\n        \"semantic_type\": \"\",\n        \"description\": \"\"\n      }\n    },\n    {\n      \"column\": \"signer\",\n      \"properties\": {\n        \"dtype\": \"number\",\n        \"std\": 21,\n        \"min\": -1,\n        \"max\": 121,\n        \"num_unique_values\": 90,\n        \"samples\": [\n          8,\n          6,\n          15\n        ],\n        \"semantic_type\": \"\",\n        \"description\": \"\"\n      }\n    },\n    {\n      \"column\": \"start\",\n      \"properties\": {\n        \"dtype\": \"number\",\n        \"std\": 6976,\n        \"min\": 0,\n        \"max\": 49298,\n        \"num_unique_values\": 8058,\n        \"samples\": [\n          3803,\n          9268,\n          29663\n        ],\n        \"semantic_type\": \"\",\n        \"description\": \"\"\n      }\n    },\n    {\n      \"column\": \"end\",\n      \"properties\": {\n        \"dtype\": \"number\",\n        \"std\": 6978,\n        \"min\": 20,\n        \"max\": 49477,\n        \"num_unique_values\": 8124,\n        \"samples\": [\n          1149,\n          12073,\n          3639\n        ],\n        \"semantic_type\": \"\",\n        \"description\": \"\"\n      }\n    },\n    {\n      \"column\": \"file\",\n      \"properties\": {\n        \"dtype\": \"category\",\n        \"num_unique_values\": 4173,\n        \"samples\": [\n          \"Cuba (ASL)\",\n          \"Me\",\n          \"Sign FAMILY\"\n        ],\n        \"semantic_type\": \"\",\n        \"description\": \"\"\n      }\n    },\n    {\n      \"column\": \"label\",\n      \"properties\": {\n        \"dtype\": \"number\",\n        \"std\": 275,\n        \"min\": 0,\n        \"max\": 999,\n        \"num_unique_values\": 1000,\n        \"samples\": [\n          679,\n          919,\n          128\n        ],\n        \"semantic_type\": \"\",\n        \"description\": \"\"\n      }\n    },\n    {\n      \"column\": \"height\",\n      \"properties\": {\n        \"dtype\": \"number\",\n        \"std\": 149.2199218763464,\n        \"min\": 218.0,\n        \"max\": 720.0,\n        \"num_unique_values\": 11,\n        \"samples\": [\n          284.0,\n          360.0,\n          352.0\n        ],\n        \"semantic_type\": \"\",\n        \"description\": \"\"\n      }\n    },\n    {\n      \"column\": \"fps\",\n      \"properties\": {\n        \"dtype\": \"number\",\n        \"std\": 2.3100896302570773,\n        \"min\": 7.43,\n        \"max\": 30.641,\n        \"num_unique_values\": 278,\n        \"samples\": [\n          30.002,\n          29.998,\n          29.919\n        ],\n        \"semantic_type\": \"\",\n        \"description\": \"\"\n      }\n    },\n    {\n      \"column\": \"end_time\",\n      \"properties\": {\n        \"dtype\": \"number\",\n        \"std\": 252.01298058995943,\n        \"min\": 0.667,\n        \"max\": 1650.883,\n        \"num_unique_values\": 10626,\n        \"samples\": [\n          83.951,\n          296.467,\n          26.64\n        ],\n        \"semantic_type\": \"\",\n        \"description\": \"\"\n      }\n    },\n    {\n      \"column\": \"url\",\n      \"properties\": {\n        \"dtype\": \"category\",\n        \"num_unique_values\": 4171,\n        \"samples\": [\n          \"https://www.youtube.com/watch?v=XDH2QGZpMT4\",\n          \"https://www.youtube.com/watch?v=3UZCX-SRy9I\",\n          \"https://www.youtube.com/watch?v=TzyuKvD8aXQ\"\n        ],\n        \"semantic_type\": \"\",\n        \"description\": \"\"\n      }\n    },\n    {\n      \"column\": \"text\",\n      \"properties\": {\n        \"dtype\": \"category\",\n        \"num_unique_values\": 1000,\n        \"samples\": [\n          \"often\",\n          \"flirt\",\n          \"boyfriend\"\n        ],\n        \"semantic_type\": \"\",\n        \"description\": \"\"\n      }\n    },\n    {\n      \"column\": \"box\",\n      \"properties\": {\n        \"dtype\": \"object\",\n        \"semantic_type\": \"\",\n        \"description\": \"\"\n      }\n    },\n    {\n      \"column\": \"width\",\n      \"properties\": {\n        \"dtype\": \"number\",\n        \"std\": 282.22942076261023,\n        \"min\": 202.0,\n        \"max\": 1280.0,\n        \"num_unique_values\": 18,\n        \"samples\": [\n          640.0,\n          480.0,\n          472.0\n        ],\n        \"semantic_type\": \"\",\n        \"description\": \"\"\n      }\n    },\n    {\n      \"column\": \"review\",\n      \"properties\": {\n        \"dtype\": \"number\",\n        \"std\": 0.0,\n        \"min\": 1.0,\n        \"max\": 1.0,\n        \"num_unique_values\": 1,\n        \"samples\": [\n          1.0\n        ],\n        \"semantic_type\": \"\",\n        \"description\": \"\"\n      }\n    }\n  ]\n}"
            }
          },
          "metadata": {},
          "execution_count": 8
        }
      ]
    },
    {
      "cell_type": "code",
      "source": [
        "from moviepy.video.io.VideoFileClip import VideoFileClip\n",
        "\n",
        "# Function to extract part of the video\n",
        "def extract_video_segment(input_video_path, output_video_path, start_time, end_time):\n",
        "    try:\n",
        "        # Load the video file\n",
        "        video = VideoFileClip(input_video_path)\n",
        "\n",
        "        # Extract the part of the video between start_time and end_time\n",
        "        video_subclip = video.subclip(start_time, end_time)\n",
        "\n",
        "        # Write the result to a file\n",
        "        video_subclip.write_videofile(output_video_path, codec=\"libx264\", audio_codec=\"aac\")\n",
        "\n",
        "        print(f\"Video segment saved to {output_video_path}\")\n",
        "    except Exception as e:\n",
        "        print(f\"An error occurred: {e}\")"
      ],
      "metadata": {
        "id": "loFkqSiZY2ZP"
      },
      "execution_count": null,
      "outputs": []
    },
    {
      "cell_type": "code",
      "source": [
        "from pytubefix import YouTube\n",
        "import os\n",
        "\n",
        "def download_youtube_video(listofVideos, save_path=\".\"):\n",
        "    for index, row in listofVideos.iterrows():\n",
        "        try:\n",
        "            yt = YouTube(row['url'])\n",
        "            temp_video_path = file_path_vido + 'temp.mp4'\n",
        "            stream = yt.streams.get_highest_resolution()\n",
        "            stream.download(output_path=save_path, filename=f\"temp.mp4\")\n",
        "\n",
        "            print(f\"Downloaded: {yt.title} successfully to {save_path}\")\n",
        "\n",
        "            output_video_path = file_path_vido + row['clean_text'] + '_' + str(index) + '.mp4'\n",
        "            extract_video_segment(temp_video_path, output_video_path, row['start_time'], row['end_time'])\n",
        "            actions.add(row['clean_text'])\n",
        "        except Exception as e:\n",
        "            print(f\"An error occurred: {e}\")\n"
      ],
      "metadata": {
        "id": "oJS1mBFDXqLS"
      },
      "execution_count": null,
      "outputs": []
    },
    {
      "cell_type": "code",
      "source": [
        "import nltk\n",
        "from nltk.tokenize import word_tokenize\n",
        "\n",
        "nltk.download('punkt')"
      ],
      "metadata": {
        "colab": {
          "base_uri": "https://localhost:8080/"
        },
        "id": "XgTeLecI0ZW3",
        "outputId": "c87262c1-12f7-489d-d20a-8840b6e54d65"
      },
      "execution_count": null,
      "outputs": [
        {
          "output_type": "stream",
          "name": "stderr",
          "text": [
            "[nltk_data] Downloading package punkt to /root/nltk_data...\n",
            "[nltk_data]   Unzipping tokenizers/punkt.zip.\n"
          ]
        },
        {
          "output_type": "execute_result",
          "data": {
            "text/plain": [
              "True"
            ]
          },
          "metadata": {},
          "execution_count": 11
        }
      ]
    },
    {
      "cell_type": "code",
      "source": [
        "documents = [\n",
        "    \"Hello, How are you\",\n",
        "    \"I love my community\",\n",
        "    \"who is cooking today\",\n",
        "    \"It is lovely weather we are having. I hope the weather continues \",\n",
        "]\n",
        "# How is weather today\n",
        "\n",
        "tokens = [word_tokenize(sentence.lower()) for sentence in documents]\n",
        "tokens = [word for token_list in tokens for word in token_list]\n",
        "tokens = list(set(tokens))\n",
        "print(tokens)"
      ],
      "metadata": {
        "colab": {
          "base_uri": "https://localhost:8080/"
        },
        "id": "32mLFBSPzDFg",
        "outputId": "62c0b89d-20f4-4cf7-bc97-9803c6ec608b"
      },
      "execution_count": null,
      "outputs": [
        {
          "output_type": "stream",
          "name": "stdout",
          "text": [
            "['weather', 'love', 'today', 'hope', 'i', 'community', ',', 'the', 'you', 'is', 'it', 'who', 'lovely', 'having', 'my', 'we', '.', 'cooking', 'continues', 'how', 'hello', 'are']\n"
          ]
        }
      ]
    },
    {
      "cell_type": "code",
      "source": [
        "df_filter = df_train[df_train['clean_text'].isin(tokens)]\n",
        "df_filter"
      ],
      "metadata": {
        "colab": {
          "base_uri": "https://localhost:8080/",
          "height": 830
        },
        "id": "QiDCIwyWUWls",
        "outputId": "bf3b0ea4-ba4d-4d26-85a6-dfc94411c18e"
      },
      "execution_count": null,
      "outputs": [
        {
          "output_type": "execute_result",
          "data": {
            "text/plain": [
              "           org_text clean_text  start_time  signer_id  signer  start    end  \\\n",
              "48     How (2 ways)        how     489.182          6      -1  12166  12357   \n",
              "79              YOU        you      41.408          8      20   1241   1301   \n",
              "240        My, mine         my     647.080         12       6  16177  16280   \n",
              "241        My, mine         my     651.200         12       6  16280  16380   \n",
              "285         Weather    weather    1094.160         12       6  27354  27464   \n",
              "...             ...        ...         ...        ...     ...    ...    ...   \n",
              "15935         today      today       0.000          2      26      0     73   \n",
              "15936         today      today       3.916          2      26    116    202   \n",
              "15937         today      today       6.819          2      26    202    262   \n",
              "15980           YOU        you      13.046         32      17    391    471   \n",
              "15984           WHO        who      34.167         32      17   1024   1143   \n",
              "\n",
              "                                                    file  label  height  \\\n",
              "48                                     LASL - Ch 6 Vocab     59   358.0   \n",
              "79                       Basic ASL Vocabulary for Babies     68   360.0   \n",
              "240    Mastering ASL Unit 3 Vocabulary signed by Dr W...    140   360.0   \n",
              "241    Mastering ASL Unit 3 Vocabulary signed by Dr W...    140   360.0   \n",
              "285    Mastering ASL Unit 3 Vocabulary signed by Dr W...    390   360.0   \n",
              "...                                                  ...    ...     ...   \n",
              "15935                                              Today    131   360.0   \n",
              "15936                                              Today    131   360.0   \n",
              "15937                                              Today    131   360.0   \n",
              "15980                            ASL 1 Unit 1 Vocabulary     68   360.0   \n",
              "15984                            ASL 1 Unit 1 Vocabulary     69   360.0   \n",
              "\n",
              "          fps  end_time                                          url     text  \\\n",
              "48     24.870   496.862  https://www.youtube.com/watch?v=jQb9NL9_S6U      how   \n",
              "79     29.970    43.410  https://www.youtube.com/watch?v=htsdwxJ-fTo      you   \n",
              "240    25.000   651.200  https://www.youtube.com/watch?v=K8c-np9zNT8       my   \n",
              "241    25.000   655.200  https://www.youtube.com/watch?v=K8c-np9zNT8       my   \n",
              "285    25.000  1098.560  https://www.youtube.com/watch?v=K8c-np9zNT8  weather   \n",
              "...       ...       ...                                          ...      ...   \n",
              "15935  29.622     2.464  https://www.youtube.com/watch?v=zh0Q5PYPoas    today   \n",
              "15936  29.622     6.819  https://www.youtube.com/watch?v=zh0Q5PYPoas    today   \n",
              "15937  29.622     8.845  https://www.youtube.com/watch?v=zh0Q5PYPoas    today   \n",
              "15980  29.970    15.716  https://www.youtube.com/watch?v=fNg_sJ9f8EI      you   \n",
              "15984  29.970    38.138  https://www.youtube.com/watch?v=fNg_sJ9f8EI      who   \n",
              "\n",
              "                                                     box  width  review  \n",
              "48     [0.0200423002243042, 0.1574973464012146, 0.844...  640.0     NaN  \n",
              "79     [0.10208573937416077, 0.32380735874176025, 1.0...  640.0     NaN  \n",
              "240    [0.2095053493976593, 0.25815242528915405, 1.0,...  480.0     1.0  \n",
              "241    [0.2095053493976593, 0.25815242528915405, 1.0,...  480.0     1.0  \n",
              "285    [0.20960858464241028, 0.27273428440093994, 1.0...  480.0     1.0  \n",
              "...                                                  ...    ...     ...  \n",
              "15935                [0.0, 0.0, 1.0, 0.8556264042854309]  640.0     1.0  \n",
              "15936                [0.0, 0.0, 1.0, 0.8556264042854309]  640.0     1.0  \n",
              "15937                [0.0, 0.0, 1.0, 0.8556264042854309]  640.0     1.0  \n",
              "15980  [0.02041187882423401, 0.23619934916496277, 1.0...  640.0     NaN  \n",
              "15984  [0.019341468811035156, 0.2829495966434479, 1.0...  640.0     NaN  \n",
              "\n",
              "[267 rows x 17 columns]"
            ],
            "text/html": [
              "\n",
              "  <div id=\"df-eeeac6c9-140c-4ea4-acd7-6212581c214d\" class=\"colab-df-container\">\n",
              "    <div>\n",
              "<style scoped>\n",
              "    .dataframe tbody tr th:only-of-type {\n",
              "        vertical-align: middle;\n",
              "    }\n",
              "\n",
              "    .dataframe tbody tr th {\n",
              "        vertical-align: top;\n",
              "    }\n",
              "\n",
              "    .dataframe thead th {\n",
              "        text-align: right;\n",
              "    }\n",
              "</style>\n",
              "<table border=\"1\" class=\"dataframe\">\n",
              "  <thead>\n",
              "    <tr style=\"text-align: right;\">\n",
              "      <th></th>\n",
              "      <th>org_text</th>\n",
              "      <th>clean_text</th>\n",
              "      <th>start_time</th>\n",
              "      <th>signer_id</th>\n",
              "      <th>signer</th>\n",
              "      <th>start</th>\n",
              "      <th>end</th>\n",
              "      <th>file</th>\n",
              "      <th>label</th>\n",
              "      <th>height</th>\n",
              "      <th>fps</th>\n",
              "      <th>end_time</th>\n",
              "      <th>url</th>\n",
              "      <th>text</th>\n",
              "      <th>box</th>\n",
              "      <th>width</th>\n",
              "      <th>review</th>\n",
              "    </tr>\n",
              "  </thead>\n",
              "  <tbody>\n",
              "    <tr>\n",
              "      <th>48</th>\n",
              "      <td>How (2 ways)</td>\n",
              "      <td>how</td>\n",
              "      <td>489.182</td>\n",
              "      <td>6</td>\n",
              "      <td>-1</td>\n",
              "      <td>12166</td>\n",
              "      <td>12357</td>\n",
              "      <td>LASL - Ch 6 Vocab</td>\n",
              "      <td>59</td>\n",
              "      <td>358.0</td>\n",
              "      <td>24.870</td>\n",
              "      <td>496.862</td>\n",
              "      <td>https://www.youtube.com/watch?v=jQb9NL9_S6U</td>\n",
              "      <td>how</td>\n",
              "      <td>[0.0200423002243042, 0.1574973464012146, 0.844...</td>\n",
              "      <td>640.0</td>\n",
              "      <td>NaN</td>\n",
              "    </tr>\n",
              "    <tr>\n",
              "      <th>79</th>\n",
              "      <td>YOU</td>\n",
              "      <td>you</td>\n",
              "      <td>41.408</td>\n",
              "      <td>8</td>\n",
              "      <td>20</td>\n",
              "      <td>1241</td>\n",
              "      <td>1301</td>\n",
              "      <td>Basic ASL Vocabulary for Babies</td>\n",
              "      <td>68</td>\n",
              "      <td>360.0</td>\n",
              "      <td>29.970</td>\n",
              "      <td>43.410</td>\n",
              "      <td>https://www.youtube.com/watch?v=htsdwxJ-fTo</td>\n",
              "      <td>you</td>\n",
              "      <td>[0.10208573937416077, 0.32380735874176025, 1.0...</td>\n",
              "      <td>640.0</td>\n",
              "      <td>NaN</td>\n",
              "    </tr>\n",
              "    <tr>\n",
              "      <th>240</th>\n",
              "      <td>My, mine</td>\n",
              "      <td>my</td>\n",
              "      <td>647.080</td>\n",
              "      <td>12</td>\n",
              "      <td>6</td>\n",
              "      <td>16177</td>\n",
              "      <td>16280</td>\n",
              "      <td>Mastering ASL Unit 3 Vocabulary signed by Dr W...</td>\n",
              "      <td>140</td>\n",
              "      <td>360.0</td>\n",
              "      <td>25.000</td>\n",
              "      <td>651.200</td>\n",
              "      <td>https://www.youtube.com/watch?v=K8c-np9zNT8</td>\n",
              "      <td>my</td>\n",
              "      <td>[0.2095053493976593, 0.25815242528915405, 1.0,...</td>\n",
              "      <td>480.0</td>\n",
              "      <td>1.0</td>\n",
              "    </tr>\n",
              "    <tr>\n",
              "      <th>241</th>\n",
              "      <td>My, mine</td>\n",
              "      <td>my</td>\n",
              "      <td>651.200</td>\n",
              "      <td>12</td>\n",
              "      <td>6</td>\n",
              "      <td>16280</td>\n",
              "      <td>16380</td>\n",
              "      <td>Mastering ASL Unit 3 Vocabulary signed by Dr W...</td>\n",
              "      <td>140</td>\n",
              "      <td>360.0</td>\n",
              "      <td>25.000</td>\n",
              "      <td>655.200</td>\n",
              "      <td>https://www.youtube.com/watch?v=K8c-np9zNT8</td>\n",
              "      <td>my</td>\n",
              "      <td>[0.2095053493976593, 0.25815242528915405, 1.0,...</td>\n",
              "      <td>480.0</td>\n",
              "      <td>1.0</td>\n",
              "    </tr>\n",
              "    <tr>\n",
              "      <th>285</th>\n",
              "      <td>Weather</td>\n",
              "      <td>weather</td>\n",
              "      <td>1094.160</td>\n",
              "      <td>12</td>\n",
              "      <td>6</td>\n",
              "      <td>27354</td>\n",
              "      <td>27464</td>\n",
              "      <td>Mastering ASL Unit 3 Vocabulary signed by Dr W...</td>\n",
              "      <td>390</td>\n",
              "      <td>360.0</td>\n",
              "      <td>25.000</td>\n",
              "      <td>1098.560</td>\n",
              "      <td>https://www.youtube.com/watch?v=K8c-np9zNT8</td>\n",
              "      <td>weather</td>\n",
              "      <td>[0.20960858464241028, 0.27273428440093994, 1.0...</td>\n",
              "      <td>480.0</td>\n",
              "      <td>1.0</td>\n",
              "    </tr>\n",
              "    <tr>\n",
              "      <th>...</th>\n",
              "      <td>...</td>\n",
              "      <td>...</td>\n",
              "      <td>...</td>\n",
              "      <td>...</td>\n",
              "      <td>...</td>\n",
              "      <td>...</td>\n",
              "      <td>...</td>\n",
              "      <td>...</td>\n",
              "      <td>...</td>\n",
              "      <td>...</td>\n",
              "      <td>...</td>\n",
              "      <td>...</td>\n",
              "      <td>...</td>\n",
              "      <td>...</td>\n",
              "      <td>...</td>\n",
              "      <td>...</td>\n",
              "      <td>...</td>\n",
              "    </tr>\n",
              "    <tr>\n",
              "      <th>15935</th>\n",
              "      <td>today</td>\n",
              "      <td>today</td>\n",
              "      <td>0.000</td>\n",
              "      <td>2</td>\n",
              "      <td>26</td>\n",
              "      <td>0</td>\n",
              "      <td>73</td>\n",
              "      <td>Today</td>\n",
              "      <td>131</td>\n",
              "      <td>360.0</td>\n",
              "      <td>29.622</td>\n",
              "      <td>2.464</td>\n",
              "      <td>https://www.youtube.com/watch?v=zh0Q5PYPoas</td>\n",
              "      <td>today</td>\n",
              "      <td>[0.0, 0.0, 1.0, 0.8556264042854309]</td>\n",
              "      <td>640.0</td>\n",
              "      <td>1.0</td>\n",
              "    </tr>\n",
              "    <tr>\n",
              "      <th>15936</th>\n",
              "      <td>today</td>\n",
              "      <td>today</td>\n",
              "      <td>3.916</td>\n",
              "      <td>2</td>\n",
              "      <td>26</td>\n",
              "      <td>116</td>\n",
              "      <td>202</td>\n",
              "      <td>Today</td>\n",
              "      <td>131</td>\n",
              "      <td>360.0</td>\n",
              "      <td>29.622</td>\n",
              "      <td>6.819</td>\n",
              "      <td>https://www.youtube.com/watch?v=zh0Q5PYPoas</td>\n",
              "      <td>today</td>\n",
              "      <td>[0.0, 0.0, 1.0, 0.8556264042854309]</td>\n",
              "      <td>640.0</td>\n",
              "      <td>1.0</td>\n",
              "    </tr>\n",
              "    <tr>\n",
              "      <th>15937</th>\n",
              "      <td>today</td>\n",
              "      <td>today</td>\n",
              "      <td>6.819</td>\n",
              "      <td>2</td>\n",
              "      <td>26</td>\n",
              "      <td>202</td>\n",
              "      <td>262</td>\n",
              "      <td>Today</td>\n",
              "      <td>131</td>\n",
              "      <td>360.0</td>\n",
              "      <td>29.622</td>\n",
              "      <td>8.845</td>\n",
              "      <td>https://www.youtube.com/watch?v=zh0Q5PYPoas</td>\n",
              "      <td>today</td>\n",
              "      <td>[0.0, 0.0, 1.0, 0.8556264042854309]</td>\n",
              "      <td>640.0</td>\n",
              "      <td>1.0</td>\n",
              "    </tr>\n",
              "    <tr>\n",
              "      <th>15980</th>\n",
              "      <td>YOU</td>\n",
              "      <td>you</td>\n",
              "      <td>13.046</td>\n",
              "      <td>32</td>\n",
              "      <td>17</td>\n",
              "      <td>391</td>\n",
              "      <td>471</td>\n",
              "      <td>ASL 1 Unit 1 Vocabulary</td>\n",
              "      <td>68</td>\n",
              "      <td>360.0</td>\n",
              "      <td>29.970</td>\n",
              "      <td>15.716</td>\n",
              "      <td>https://www.youtube.com/watch?v=fNg_sJ9f8EI</td>\n",
              "      <td>you</td>\n",
              "      <td>[0.02041187882423401, 0.23619934916496277, 1.0...</td>\n",
              "      <td>640.0</td>\n",
              "      <td>NaN</td>\n",
              "    </tr>\n",
              "    <tr>\n",
              "      <th>15984</th>\n",
              "      <td>WHO</td>\n",
              "      <td>who</td>\n",
              "      <td>34.167</td>\n",
              "      <td>32</td>\n",
              "      <td>17</td>\n",
              "      <td>1024</td>\n",
              "      <td>1143</td>\n",
              "      <td>ASL 1 Unit 1 Vocabulary</td>\n",
              "      <td>69</td>\n",
              "      <td>360.0</td>\n",
              "      <td>29.970</td>\n",
              "      <td>38.138</td>\n",
              "      <td>https://www.youtube.com/watch?v=fNg_sJ9f8EI</td>\n",
              "      <td>who</td>\n",
              "      <td>[0.019341468811035156, 0.2829495966434479, 1.0...</td>\n",
              "      <td>640.0</td>\n",
              "      <td>NaN</td>\n",
              "    </tr>\n",
              "  </tbody>\n",
              "</table>\n",
              "<p>267 rows × 17 columns</p>\n",
              "</div>\n",
              "    <div class=\"colab-df-buttons\">\n",
              "\n",
              "  <div class=\"colab-df-container\">\n",
              "    <button class=\"colab-df-convert\" onclick=\"convertToInteractive('df-eeeac6c9-140c-4ea4-acd7-6212581c214d')\"\n",
              "            title=\"Convert this dataframe to an interactive table.\"\n",
              "            style=\"display:none;\">\n",
              "\n",
              "  <svg xmlns=\"http://www.w3.org/2000/svg\" height=\"24px\" viewBox=\"0 -960 960 960\">\n",
              "    <path d=\"M120-120v-720h720v720H120Zm60-500h600v-160H180v160Zm220 220h160v-160H400v160Zm0 220h160v-160H400v160ZM180-400h160v-160H180v160Zm440 0h160v-160H620v160ZM180-180h160v-160H180v160Zm440 0h160v-160H620v160Z\"/>\n",
              "  </svg>\n",
              "    </button>\n",
              "\n",
              "  <style>\n",
              "    .colab-df-container {\n",
              "      display:flex;\n",
              "      gap: 12px;\n",
              "    }\n",
              "\n",
              "    .colab-df-convert {\n",
              "      background-color: #E8F0FE;\n",
              "      border: none;\n",
              "      border-radius: 50%;\n",
              "      cursor: pointer;\n",
              "      display: none;\n",
              "      fill: #1967D2;\n",
              "      height: 32px;\n",
              "      padding: 0 0 0 0;\n",
              "      width: 32px;\n",
              "    }\n",
              "\n",
              "    .colab-df-convert:hover {\n",
              "      background-color: #E2EBFA;\n",
              "      box-shadow: 0px 1px 2px rgba(60, 64, 67, 0.3), 0px 1px 3px 1px rgba(60, 64, 67, 0.15);\n",
              "      fill: #174EA6;\n",
              "    }\n",
              "\n",
              "    .colab-df-buttons div {\n",
              "      margin-bottom: 4px;\n",
              "    }\n",
              "\n",
              "    [theme=dark] .colab-df-convert {\n",
              "      background-color: #3B4455;\n",
              "      fill: #D2E3FC;\n",
              "    }\n",
              "\n",
              "    [theme=dark] .colab-df-convert:hover {\n",
              "      background-color: #434B5C;\n",
              "      box-shadow: 0px 1px 3px 1px rgba(0, 0, 0, 0.15);\n",
              "      filter: drop-shadow(0px 1px 2px rgba(0, 0, 0, 0.3));\n",
              "      fill: #FFFFFF;\n",
              "    }\n",
              "  </style>\n",
              "\n",
              "    <script>\n",
              "      const buttonEl =\n",
              "        document.querySelector('#df-eeeac6c9-140c-4ea4-acd7-6212581c214d button.colab-df-convert');\n",
              "      buttonEl.style.display =\n",
              "        google.colab.kernel.accessAllowed ? 'block' : 'none';\n",
              "\n",
              "      async function convertToInteractive(key) {\n",
              "        const element = document.querySelector('#df-eeeac6c9-140c-4ea4-acd7-6212581c214d');\n",
              "        const dataTable =\n",
              "          await google.colab.kernel.invokeFunction('convertToInteractive',\n",
              "                                                    [key], {});\n",
              "        if (!dataTable) return;\n",
              "\n",
              "        const docLinkHtml = 'Like what you see? Visit the ' +\n",
              "          '<a target=\"_blank\" href=https://colab.research.google.com/notebooks/data_table.ipynb>data table notebook</a>'\n",
              "          + ' to learn more about interactive tables.';\n",
              "        element.innerHTML = '';\n",
              "        dataTable['output_type'] = 'display_data';\n",
              "        await google.colab.output.renderOutput(dataTable, element);\n",
              "        const docLink = document.createElement('div');\n",
              "        docLink.innerHTML = docLinkHtml;\n",
              "        element.appendChild(docLink);\n",
              "      }\n",
              "    </script>\n",
              "  </div>\n",
              "\n",
              "\n",
              "<div id=\"df-4117eb0a-6dde-4958-97e9-328b8eb71878\">\n",
              "  <button class=\"colab-df-quickchart\" onclick=\"quickchart('df-4117eb0a-6dde-4958-97e9-328b8eb71878')\"\n",
              "            title=\"Suggest charts\"\n",
              "            style=\"display:none;\">\n",
              "\n",
              "<svg xmlns=\"http://www.w3.org/2000/svg\" height=\"24px\"viewBox=\"0 0 24 24\"\n",
              "     width=\"24px\">\n",
              "    <g>\n",
              "        <path d=\"M19 3H5c-1.1 0-2 .9-2 2v14c0 1.1.9 2 2 2h14c1.1 0 2-.9 2-2V5c0-1.1-.9-2-2-2zM9 17H7v-7h2v7zm4 0h-2V7h2v10zm4 0h-2v-4h2v4z\"/>\n",
              "    </g>\n",
              "</svg>\n",
              "  </button>\n",
              "\n",
              "<style>\n",
              "  .colab-df-quickchart {\n",
              "      --bg-color: #E8F0FE;\n",
              "      --fill-color: #1967D2;\n",
              "      --hover-bg-color: #E2EBFA;\n",
              "      --hover-fill-color: #174EA6;\n",
              "      --disabled-fill-color: #AAA;\n",
              "      --disabled-bg-color: #DDD;\n",
              "  }\n",
              "\n",
              "  [theme=dark] .colab-df-quickchart {\n",
              "      --bg-color: #3B4455;\n",
              "      --fill-color: #D2E3FC;\n",
              "      --hover-bg-color: #434B5C;\n",
              "      --hover-fill-color: #FFFFFF;\n",
              "      --disabled-bg-color: #3B4455;\n",
              "      --disabled-fill-color: #666;\n",
              "  }\n",
              "\n",
              "  .colab-df-quickchart {\n",
              "    background-color: var(--bg-color);\n",
              "    border: none;\n",
              "    border-radius: 50%;\n",
              "    cursor: pointer;\n",
              "    display: none;\n",
              "    fill: var(--fill-color);\n",
              "    height: 32px;\n",
              "    padding: 0;\n",
              "    width: 32px;\n",
              "  }\n",
              "\n",
              "  .colab-df-quickchart:hover {\n",
              "    background-color: var(--hover-bg-color);\n",
              "    box-shadow: 0 1px 2px rgba(60, 64, 67, 0.3), 0 1px 3px 1px rgba(60, 64, 67, 0.15);\n",
              "    fill: var(--button-hover-fill-color);\n",
              "  }\n",
              "\n",
              "  .colab-df-quickchart-complete:disabled,\n",
              "  .colab-df-quickchart-complete:disabled:hover {\n",
              "    background-color: var(--disabled-bg-color);\n",
              "    fill: var(--disabled-fill-color);\n",
              "    box-shadow: none;\n",
              "  }\n",
              "\n",
              "  .colab-df-spinner {\n",
              "    border: 2px solid var(--fill-color);\n",
              "    border-color: transparent;\n",
              "    border-bottom-color: var(--fill-color);\n",
              "    animation:\n",
              "      spin 1s steps(1) infinite;\n",
              "  }\n",
              "\n",
              "  @keyframes spin {\n",
              "    0% {\n",
              "      border-color: transparent;\n",
              "      border-bottom-color: var(--fill-color);\n",
              "      border-left-color: var(--fill-color);\n",
              "    }\n",
              "    20% {\n",
              "      border-color: transparent;\n",
              "      border-left-color: var(--fill-color);\n",
              "      border-top-color: var(--fill-color);\n",
              "    }\n",
              "    30% {\n",
              "      border-color: transparent;\n",
              "      border-left-color: var(--fill-color);\n",
              "      border-top-color: var(--fill-color);\n",
              "      border-right-color: var(--fill-color);\n",
              "    }\n",
              "    40% {\n",
              "      border-color: transparent;\n",
              "      border-right-color: var(--fill-color);\n",
              "      border-top-color: var(--fill-color);\n",
              "    }\n",
              "    60% {\n",
              "      border-color: transparent;\n",
              "      border-right-color: var(--fill-color);\n",
              "    }\n",
              "    80% {\n",
              "      border-color: transparent;\n",
              "      border-right-color: var(--fill-color);\n",
              "      border-bottom-color: var(--fill-color);\n",
              "    }\n",
              "    90% {\n",
              "      border-color: transparent;\n",
              "      border-bottom-color: var(--fill-color);\n",
              "    }\n",
              "  }\n",
              "</style>\n",
              "\n",
              "  <script>\n",
              "    async function quickchart(key) {\n",
              "      const quickchartButtonEl =\n",
              "        document.querySelector('#' + key + ' button');\n",
              "      quickchartButtonEl.disabled = true;  // To prevent multiple clicks.\n",
              "      quickchartButtonEl.classList.add('colab-df-spinner');\n",
              "      try {\n",
              "        const charts = await google.colab.kernel.invokeFunction(\n",
              "            'suggestCharts', [key], {});\n",
              "      } catch (error) {\n",
              "        console.error('Error during call to suggestCharts:', error);\n",
              "      }\n",
              "      quickchartButtonEl.classList.remove('colab-df-spinner');\n",
              "      quickchartButtonEl.classList.add('colab-df-quickchart-complete');\n",
              "    }\n",
              "    (() => {\n",
              "      let quickchartButtonEl =\n",
              "        document.querySelector('#df-4117eb0a-6dde-4958-97e9-328b8eb71878 button');\n",
              "      quickchartButtonEl.style.display =\n",
              "        google.colab.kernel.accessAllowed ? 'block' : 'none';\n",
              "    })();\n",
              "  </script>\n",
              "</div>\n",
              "\n",
              "  <div id=\"id_cbdb6328-5e0c-4a94-b2a7-666afbb29410\">\n",
              "    <style>\n",
              "      .colab-df-generate {\n",
              "        background-color: #E8F0FE;\n",
              "        border: none;\n",
              "        border-radius: 50%;\n",
              "        cursor: pointer;\n",
              "        display: none;\n",
              "        fill: #1967D2;\n",
              "        height: 32px;\n",
              "        padding: 0 0 0 0;\n",
              "        width: 32px;\n",
              "      }\n",
              "\n",
              "      .colab-df-generate:hover {\n",
              "        background-color: #E2EBFA;\n",
              "        box-shadow: 0px 1px 2px rgba(60, 64, 67, 0.3), 0px 1px 3px 1px rgba(60, 64, 67, 0.15);\n",
              "        fill: #174EA6;\n",
              "      }\n",
              "\n",
              "      [theme=dark] .colab-df-generate {\n",
              "        background-color: #3B4455;\n",
              "        fill: #D2E3FC;\n",
              "      }\n",
              "\n",
              "      [theme=dark] .colab-df-generate:hover {\n",
              "        background-color: #434B5C;\n",
              "        box-shadow: 0px 1px 3px 1px rgba(0, 0, 0, 0.15);\n",
              "        filter: drop-shadow(0px 1px 2px rgba(0, 0, 0, 0.3));\n",
              "        fill: #FFFFFF;\n",
              "      }\n",
              "    </style>\n",
              "    <button class=\"colab-df-generate\" onclick=\"generateWithVariable('df_filter')\"\n",
              "            title=\"Generate code using this dataframe.\"\n",
              "            style=\"display:none;\">\n",
              "\n",
              "  <svg xmlns=\"http://www.w3.org/2000/svg\" height=\"24px\"viewBox=\"0 0 24 24\"\n",
              "       width=\"24px\">\n",
              "    <path d=\"M7,19H8.4L18.45,9,17,7.55,7,17.6ZM5,21V16.75L18.45,3.32a2,2,0,0,1,2.83,0l1.4,1.43a1.91,1.91,0,0,1,.58,1.4,1.91,1.91,0,0,1-.58,1.4L9.25,21ZM18.45,9,17,7.55Zm-12,3A5.31,5.31,0,0,0,4.9,8.1,5.31,5.31,0,0,0,1,6.5,5.31,5.31,0,0,0,4.9,4.9,5.31,5.31,0,0,0,6.5,1,5.31,5.31,0,0,0,8.1,4.9,5.31,5.31,0,0,0,12,6.5,5.46,5.46,0,0,0,6.5,12Z\"/>\n",
              "  </svg>\n",
              "    </button>\n",
              "    <script>\n",
              "      (() => {\n",
              "      const buttonEl =\n",
              "        document.querySelector('#id_cbdb6328-5e0c-4a94-b2a7-666afbb29410 button.colab-df-generate');\n",
              "      buttonEl.style.display =\n",
              "        google.colab.kernel.accessAllowed ? 'block' : 'none';\n",
              "\n",
              "      buttonEl.onclick = () => {\n",
              "        google.colab.notebook.generateWithVariable('df_filter');\n",
              "      }\n",
              "      })();\n",
              "    </script>\n",
              "  </div>\n",
              "\n",
              "    </div>\n",
              "  </div>\n"
            ],
            "application/vnd.google.colaboratory.intrinsic+json": {
              "type": "dataframe",
              "variable_name": "df_filter",
              "summary": "{\n  \"name\": \"df_filter\",\n  \"rows\": 267,\n  \"fields\": [\n    {\n      \"column\": \"org_text\",\n      \"properties\": {\n        \"dtype\": \"category\",\n        \"num_unique_values\": 76,\n        \"samples\": [\n          \"MINE/MY\",\n          \"Cooking\",\n          \"WEATHER\"\n        ],\n        \"semantic_type\": \"\",\n        \"description\": \"\"\n      }\n    },\n    {\n      \"column\": \"clean_text\",\n      \"properties\": {\n        \"dtype\": \"category\",\n        \"num_unique_values\": 11,\n        \"samples\": [\n          \"hello\",\n          \"how\",\n          \"i\"\n        ],\n        \"semantic_type\": \"\",\n        \"description\": \"\"\n      }\n    },\n    {\n      \"column\": \"start_time\",\n      \"properties\": {\n        \"dtype\": \"number\",\n        \"std\": 252.73587578349412,\n        \"min\": 0.0,\n        \"max\": 1249.548,\n        \"num_unique_values\": 206,\n        \"samples\": [\n          746.145,\n          24.858,\n          160.594\n        ],\n        \"semantic_type\": \"\",\n        \"description\": \"\"\n      }\n    },\n    {\n      \"column\": \"signer_id\",\n      \"properties\": {\n        \"dtype\": \"number\",\n        \"std\": 125,\n        \"min\": 0,\n        \"max\": 417,\n        \"num_unique_values\": 67,\n        \"samples\": [\n          243,\n          35,\n          30\n        ],\n        \"semantic_type\": \"\",\n        \"description\": \"\"\n      }\n    },\n    {\n      \"column\": \"signer\",\n      \"properties\": {\n        \"dtype\": \"number\",\n        \"std\": 24,\n        \"min\": -1,\n        \"max\": 98,\n        \"num_unique_values\": 45,\n        \"samples\": [\n          3,\n          75,\n          98\n        ],\n        \"semantic_type\": \"\",\n        \"description\": \"\"\n      }\n    },\n    {\n      \"column\": \"start\",\n      \"properties\": {\n        \"dtype\": \"number\",\n        \"std\": 7321,\n        \"min\": 0,\n        \"max\": 37449,\n        \"num_unique_values\": 204,\n        \"samples\": [\n          22362,\n          745,\n          153\n        ],\n        \"semantic_type\": \"\",\n        \"description\": \"\"\n      }\n    },\n    {\n      \"column\": \"end\",\n      \"properties\": {\n        \"dtype\": \"number\",\n        \"std\": 7327,\n        \"min\": 39,\n        \"max\": 37464,\n        \"num_unique_values\": 246,\n        \"samples\": [\n          3112,\n          876,\n          6770\n        ],\n        \"semantic_type\": \"\",\n        \"description\": \"\"\n      }\n    },\n    {\n      \"column\": \"file\",\n      \"properties\": {\n        \"dtype\": \"string\",\n        \"num_unique_values\": 147,\n        \"samples\": [\n          \"Emotion Sign Language\",\n          \"Weather\",\n          \"HOW (alternative)\"\n        ],\n        \"semantic_type\": \"\",\n        \"description\": \"\"\n      }\n    },\n    {\n      \"column\": \"label\",\n      \"properties\": {\n        \"dtype\": \"number\",\n        \"std\": 159,\n        \"min\": 0,\n        \"max\": 721,\n        \"num_unique_values\": 11,\n        \"samples\": [\n          0,\n          59,\n          721\n        ],\n        \"semantic_type\": \"\",\n        \"description\": \"\"\n      }\n    },\n    {\n      \"column\": \"height\",\n      \"properties\": {\n        \"dtype\": \"number\",\n        \"std\": 151.4487598937778,\n        \"min\": 240.0,\n        \"max\": 720.0,\n        \"num_unique_values\": 7,\n        \"samples\": [\n          358.0,\n          360.0,\n          320.0\n        ],\n        \"semantic_type\": \"\",\n        \"description\": \"\"\n      }\n    },\n    {\n      \"column\": \"fps\",\n      \"properties\": {\n        \"dtype\": \"number\",\n        \"std\": 2.5415405309812305,\n        \"min\": 15.0,\n        \"max\": 30.002,\n        \"num_unique_values\": 27,\n        \"samples\": [\n          23.976,\n          17.758,\n          28.873\n        ],\n        \"semantic_type\": \"\",\n        \"description\": \"\"\n      }\n    },\n    {\n      \"column\": \"end_time\",\n      \"properties\": {\n        \"dtype\": \"number\",\n        \"std\": 252.9224333003912,\n        \"min\": 1.568,\n        \"max\": 1250.049,\n        \"num_unique_values\": 259,\n        \"samples\": [\n          18.785,\n          246.213,\n          27.928\n        ],\n        \"semantic_type\": \"\",\n        \"description\": \"\"\n      }\n    },\n    {\n      \"column\": \"url\",\n      \"properties\": {\n        \"dtype\": \"string\",\n        \"num_unique_values\": 147,\n        \"samples\": [\n          \"https://www.youtube.com/watch?v=96HY0Pcl_e4\",\n          \"https://www.youtube.com/watch?v=NVx328qRp9U\",\n          \"https://www.youtube.com/watch?v=iZeLCvBD2NQ\"\n        ],\n        \"semantic_type\": \"\",\n        \"description\": \"\"\n      }\n    },\n    {\n      \"column\": \"text\",\n      \"properties\": {\n        \"dtype\": \"category\",\n        \"num_unique_values\": 11,\n        \"samples\": [\n          \"hello\",\n          \"how\",\n          \"i\"\n        ],\n        \"semantic_type\": \"\",\n        \"description\": \"\"\n      }\n    },\n    {\n      \"column\": \"box\",\n      \"properties\": {\n        \"dtype\": \"object\",\n        \"semantic_type\": \"\",\n        \"description\": \"\"\n      }\n    },\n    {\n      \"column\": \"width\",\n      \"properties\": {\n        \"dtype\": \"number\",\n        \"std\": 284.5986152960825,\n        \"min\": 202.0,\n        \"max\": 1280.0,\n        \"num_unique_values\": 12,\n        \"samples\": [\n          1080.0,\n          636.0,\n          640.0\n        ],\n        \"semantic_type\": \"\",\n        \"description\": \"\"\n      }\n    },\n    {\n      \"column\": \"review\",\n      \"properties\": {\n        \"dtype\": \"number\",\n        \"std\": 0.0,\n        \"min\": 1.0,\n        \"max\": 1.0,\n        \"num_unique_values\": 1,\n        \"samples\": [\n          1.0\n        ],\n        \"semantic_type\": \"\",\n        \"description\": \"\"\n      }\n    }\n  ]\n}"
            }
          },
          "metadata": {},
          "execution_count": 13
        }
      ]
    },
    {
      "cell_type": "code",
      "source": [
        "df_filter_test = df_test[df_test['clean_text'].isin(tokens)]\n",
        "df_filter_test"
      ],
      "metadata": {
        "colab": {
          "base_uri": "https://localhost:8080/",
          "height": 1000
        },
        "id": "f-R_JofdUXO7",
        "outputId": "658f2763-96e3-4cd1-89be-743d9146fd34"
      },
      "execution_count": null,
      "outputs": [
        {
          "output_type": "execute_result",
          "data": {
            "text/plain": [
              "               org_text clean_text  start_time  signer_id  signer  start  \\\n",
              "154               HELLO      hello       0.870         34      11     26   \n",
              "257                 HOW        how      89.256         10      26   2675   \n",
              "267                 WHO        who     202.469         10      26   6068   \n",
              "268   WHO (alternative)        who     206.039         10      26   6175   \n",
              "364                  MY         my      83.116         26       2   2491   \n",
              "...                 ...        ...         ...        ...     ...    ...   \n",
              "4032               WHO?        who     112.279         26       2   3365   \n",
              "4038               HOW?        how     131.898         26       2   3953   \n",
              "4039               HOW?        how     135.902         26       2   4073   \n",
              "4040               HOW?        how     138.739         26       2   4158   \n",
              "4041               HOW?        how     142.509         26       2   4271   \n",
              "\n",
              "       end                                               file  label  height  \\\n",
              "154     60  ASL Unit 5 Vocabulary - Clothing Part 1 and 2 ...      0   720.0   \n",
              "257   2794  Lesson 8 Vocabulary - A Basic Course (ABC) in ASL     59   720.0   \n",
              "267   6168  Lesson 8 Vocabulary - A Basic Course (ABC) in ASL     69   720.0   \n",
              "268   6255  Lesson 8 Vocabulary - A Basic Course (ABC) in ASL     69   720.0   \n",
              "364   2537                             ASL1 Class 3 New SIGNS    140   720.0   \n",
              "...    ...                                                ...    ...     ...   \n",
              "4032  3416  ASL1 Class 4 New SIGNS plus Partner Practice Q...     69   720.0   \n",
              "4038  4013  ASL1 Class 4 New SIGNS plus Partner Practice Q...     59   720.0   \n",
              "4039  4143  ASL1 Class 4 New SIGNS plus Partner Practice Q...     59   720.0   \n",
              "4040  4224  ASL1 Class 4 New SIGNS plus Partner Practice Q...     59   720.0   \n",
              "4041  4313  ASL1 Class 4 New SIGNS plus Partner Practice Q...     59   720.0   \n",
              "\n",
              "         fps  end_time                                          url   text  \\\n",
              "154   29.892     2.007  https://www.youtube.com/watch?v=-DMFu-nAsok  hello   \n",
              "257   29.970    93.226  https://www.youtube.com/watch?v=HuViTIjghKk    how   \n",
              "267   29.970   205.806  https://www.youtube.com/watch?v=HuViTIjghKk    who   \n",
              "268   29.970   208.709  https://www.youtube.com/watch?v=HuViTIjghKk    who   \n",
              "364   29.970    84.651  https://www.youtube.com/watch?v=KTURNRi-wy0     my   \n",
              "...      ...       ...                                          ...    ...   \n",
              "4032  29.970   113.981  https://www.youtube.com/watch?v=RMUydgQr9TE    who   \n",
              "4038  29.970   133.900  https://www.youtube.com/watch?v=RMUydgQr9TE    how   \n",
              "4039  29.970   138.238  https://www.youtube.com/watch?v=RMUydgQr9TE    how   \n",
              "4040  29.970   140.941  https://www.youtube.com/watch?v=RMUydgQr9TE    how   \n",
              "4041  29.970   143.910  https://www.youtube.com/watch?v=RMUydgQr9TE    how   \n",
              "\n",
              "                                                    box   width  review  \n",
              "154   [0.004950165748596191, 0.0, 1.0, 0.78116858005...  1280.0     NaN  \n",
              "257   [0.30637162923812866, 0.28579655289649963, 0.9...  1280.0     NaN  \n",
              "267   [0.2714803218841553, 0.33794939517974854, 0.97...  1280.0     NaN  \n",
              "268   [0.2680490016937256, 0.31983017921447754, 0.97...  1280.0     NaN  \n",
              "364   [0.13907408714294434, 0.17668381333351135, 1.0...  1280.0     NaN  \n",
              "...                                                 ...     ...     ...  \n",
              "4032  [0.17970159649848938, 0.19653379917144775, 1.0...  1280.0     NaN  \n",
              "4038  [0.16711995005607605, 0.10408169031143188, 1.0...  1280.0     1.0  \n",
              "4039  [0.16711995005607605, 0.10408169031143188, 1.0...  1280.0     1.0  \n",
              "4040  [0.16711995005607605, 0.10408169031143188, 1.0...  1280.0     1.0  \n",
              "4041  [0.17888954281806946, 0.13472670316696167, 0.9...  1280.0     NaN  \n",
              "\n",
              "[61 rows x 17 columns]"
            ],
            "text/html": [
              "\n",
              "  <div id=\"df-3dd93386-c828-45c8-849e-5c49e61b75f4\" class=\"colab-df-container\">\n",
              "    <div>\n",
              "<style scoped>\n",
              "    .dataframe tbody tr th:only-of-type {\n",
              "        vertical-align: middle;\n",
              "    }\n",
              "\n",
              "    .dataframe tbody tr th {\n",
              "        vertical-align: top;\n",
              "    }\n",
              "\n",
              "    .dataframe thead th {\n",
              "        text-align: right;\n",
              "    }\n",
              "</style>\n",
              "<table border=\"1\" class=\"dataframe\">\n",
              "  <thead>\n",
              "    <tr style=\"text-align: right;\">\n",
              "      <th></th>\n",
              "      <th>org_text</th>\n",
              "      <th>clean_text</th>\n",
              "      <th>start_time</th>\n",
              "      <th>signer_id</th>\n",
              "      <th>signer</th>\n",
              "      <th>start</th>\n",
              "      <th>end</th>\n",
              "      <th>file</th>\n",
              "      <th>label</th>\n",
              "      <th>height</th>\n",
              "      <th>fps</th>\n",
              "      <th>end_time</th>\n",
              "      <th>url</th>\n",
              "      <th>text</th>\n",
              "      <th>box</th>\n",
              "      <th>width</th>\n",
              "      <th>review</th>\n",
              "    </tr>\n",
              "  </thead>\n",
              "  <tbody>\n",
              "    <tr>\n",
              "      <th>154</th>\n",
              "      <td>HELLO</td>\n",
              "      <td>hello</td>\n",
              "      <td>0.870</td>\n",
              "      <td>34</td>\n",
              "      <td>11</td>\n",
              "      <td>26</td>\n",
              "      <td>60</td>\n",
              "      <td>ASL Unit 5 Vocabulary - Clothing Part 1 and 2 ...</td>\n",
              "      <td>0</td>\n",
              "      <td>720.0</td>\n",
              "      <td>29.892</td>\n",
              "      <td>2.007</td>\n",
              "      <td>https://www.youtube.com/watch?v=-DMFu-nAsok</td>\n",
              "      <td>hello</td>\n",
              "      <td>[0.004950165748596191, 0.0, 1.0, 0.78116858005...</td>\n",
              "      <td>1280.0</td>\n",
              "      <td>NaN</td>\n",
              "    </tr>\n",
              "    <tr>\n",
              "      <th>257</th>\n",
              "      <td>HOW</td>\n",
              "      <td>how</td>\n",
              "      <td>89.256</td>\n",
              "      <td>10</td>\n",
              "      <td>26</td>\n",
              "      <td>2675</td>\n",
              "      <td>2794</td>\n",
              "      <td>Lesson 8 Vocabulary - A Basic Course (ABC) in ASL</td>\n",
              "      <td>59</td>\n",
              "      <td>720.0</td>\n",
              "      <td>29.970</td>\n",
              "      <td>93.226</td>\n",
              "      <td>https://www.youtube.com/watch?v=HuViTIjghKk</td>\n",
              "      <td>how</td>\n",
              "      <td>[0.30637162923812866, 0.28579655289649963, 0.9...</td>\n",
              "      <td>1280.0</td>\n",
              "      <td>NaN</td>\n",
              "    </tr>\n",
              "    <tr>\n",
              "      <th>267</th>\n",
              "      <td>WHO</td>\n",
              "      <td>who</td>\n",
              "      <td>202.469</td>\n",
              "      <td>10</td>\n",
              "      <td>26</td>\n",
              "      <td>6068</td>\n",
              "      <td>6168</td>\n",
              "      <td>Lesson 8 Vocabulary - A Basic Course (ABC) in ASL</td>\n",
              "      <td>69</td>\n",
              "      <td>720.0</td>\n",
              "      <td>29.970</td>\n",
              "      <td>205.806</td>\n",
              "      <td>https://www.youtube.com/watch?v=HuViTIjghKk</td>\n",
              "      <td>who</td>\n",
              "      <td>[0.2714803218841553, 0.33794939517974854, 0.97...</td>\n",
              "      <td>1280.0</td>\n",
              "      <td>NaN</td>\n",
              "    </tr>\n",
              "    <tr>\n",
              "      <th>268</th>\n",
              "      <td>WHO (alternative)</td>\n",
              "      <td>who</td>\n",
              "      <td>206.039</td>\n",
              "      <td>10</td>\n",
              "      <td>26</td>\n",
              "      <td>6175</td>\n",
              "      <td>6255</td>\n",
              "      <td>Lesson 8 Vocabulary - A Basic Course (ABC) in ASL</td>\n",
              "      <td>69</td>\n",
              "      <td>720.0</td>\n",
              "      <td>29.970</td>\n",
              "      <td>208.709</td>\n",
              "      <td>https://www.youtube.com/watch?v=HuViTIjghKk</td>\n",
              "      <td>who</td>\n",
              "      <td>[0.2680490016937256, 0.31983017921447754, 0.97...</td>\n",
              "      <td>1280.0</td>\n",
              "      <td>NaN</td>\n",
              "    </tr>\n",
              "    <tr>\n",
              "      <th>364</th>\n",
              "      <td>MY</td>\n",
              "      <td>my</td>\n",
              "      <td>83.116</td>\n",
              "      <td>26</td>\n",
              "      <td>2</td>\n",
              "      <td>2491</td>\n",
              "      <td>2537</td>\n",
              "      <td>ASL1 Class 3 New SIGNS</td>\n",
              "      <td>140</td>\n",
              "      <td>720.0</td>\n",
              "      <td>29.970</td>\n",
              "      <td>84.651</td>\n",
              "      <td>https://www.youtube.com/watch?v=KTURNRi-wy0</td>\n",
              "      <td>my</td>\n",
              "      <td>[0.13907408714294434, 0.17668381333351135, 1.0...</td>\n",
              "      <td>1280.0</td>\n",
              "      <td>NaN</td>\n",
              "    </tr>\n",
              "    <tr>\n",
              "      <th>...</th>\n",
              "      <td>...</td>\n",
              "      <td>...</td>\n",
              "      <td>...</td>\n",
              "      <td>...</td>\n",
              "      <td>...</td>\n",
              "      <td>...</td>\n",
              "      <td>...</td>\n",
              "      <td>...</td>\n",
              "      <td>...</td>\n",
              "      <td>...</td>\n",
              "      <td>...</td>\n",
              "      <td>...</td>\n",
              "      <td>...</td>\n",
              "      <td>...</td>\n",
              "      <td>...</td>\n",
              "      <td>...</td>\n",
              "      <td>...</td>\n",
              "    </tr>\n",
              "    <tr>\n",
              "      <th>4032</th>\n",
              "      <td>WHO?</td>\n",
              "      <td>who</td>\n",
              "      <td>112.279</td>\n",
              "      <td>26</td>\n",
              "      <td>2</td>\n",
              "      <td>3365</td>\n",
              "      <td>3416</td>\n",
              "      <td>ASL1 Class 4 New SIGNS plus Partner Practice Q...</td>\n",
              "      <td>69</td>\n",
              "      <td>720.0</td>\n",
              "      <td>29.970</td>\n",
              "      <td>113.981</td>\n",
              "      <td>https://www.youtube.com/watch?v=RMUydgQr9TE</td>\n",
              "      <td>who</td>\n",
              "      <td>[0.17970159649848938, 0.19653379917144775, 1.0...</td>\n",
              "      <td>1280.0</td>\n",
              "      <td>NaN</td>\n",
              "    </tr>\n",
              "    <tr>\n",
              "      <th>4038</th>\n",
              "      <td>HOW?</td>\n",
              "      <td>how</td>\n",
              "      <td>131.898</td>\n",
              "      <td>26</td>\n",
              "      <td>2</td>\n",
              "      <td>3953</td>\n",
              "      <td>4013</td>\n",
              "      <td>ASL1 Class 4 New SIGNS plus Partner Practice Q...</td>\n",
              "      <td>59</td>\n",
              "      <td>720.0</td>\n",
              "      <td>29.970</td>\n",
              "      <td>133.900</td>\n",
              "      <td>https://www.youtube.com/watch?v=RMUydgQr9TE</td>\n",
              "      <td>how</td>\n",
              "      <td>[0.16711995005607605, 0.10408169031143188, 1.0...</td>\n",
              "      <td>1280.0</td>\n",
              "      <td>1.0</td>\n",
              "    </tr>\n",
              "    <tr>\n",
              "      <th>4039</th>\n",
              "      <td>HOW?</td>\n",
              "      <td>how</td>\n",
              "      <td>135.902</td>\n",
              "      <td>26</td>\n",
              "      <td>2</td>\n",
              "      <td>4073</td>\n",
              "      <td>4143</td>\n",
              "      <td>ASL1 Class 4 New SIGNS plus Partner Practice Q...</td>\n",
              "      <td>59</td>\n",
              "      <td>720.0</td>\n",
              "      <td>29.970</td>\n",
              "      <td>138.238</td>\n",
              "      <td>https://www.youtube.com/watch?v=RMUydgQr9TE</td>\n",
              "      <td>how</td>\n",
              "      <td>[0.16711995005607605, 0.10408169031143188, 1.0...</td>\n",
              "      <td>1280.0</td>\n",
              "      <td>1.0</td>\n",
              "    </tr>\n",
              "    <tr>\n",
              "      <th>4040</th>\n",
              "      <td>HOW?</td>\n",
              "      <td>how</td>\n",
              "      <td>138.739</td>\n",
              "      <td>26</td>\n",
              "      <td>2</td>\n",
              "      <td>4158</td>\n",
              "      <td>4224</td>\n",
              "      <td>ASL1 Class 4 New SIGNS plus Partner Practice Q...</td>\n",
              "      <td>59</td>\n",
              "      <td>720.0</td>\n",
              "      <td>29.970</td>\n",
              "      <td>140.941</td>\n",
              "      <td>https://www.youtube.com/watch?v=RMUydgQr9TE</td>\n",
              "      <td>how</td>\n",
              "      <td>[0.16711995005607605, 0.10408169031143188, 1.0...</td>\n",
              "      <td>1280.0</td>\n",
              "      <td>1.0</td>\n",
              "    </tr>\n",
              "    <tr>\n",
              "      <th>4041</th>\n",
              "      <td>HOW?</td>\n",
              "      <td>how</td>\n",
              "      <td>142.509</td>\n",
              "      <td>26</td>\n",
              "      <td>2</td>\n",
              "      <td>4271</td>\n",
              "      <td>4313</td>\n",
              "      <td>ASL1 Class 4 New SIGNS plus Partner Practice Q...</td>\n",
              "      <td>59</td>\n",
              "      <td>720.0</td>\n",
              "      <td>29.970</td>\n",
              "      <td>143.910</td>\n",
              "      <td>https://www.youtube.com/watch?v=RMUydgQr9TE</td>\n",
              "      <td>how</td>\n",
              "      <td>[0.17888954281806946, 0.13472670316696167, 0.9...</td>\n",
              "      <td>1280.0</td>\n",
              "      <td>NaN</td>\n",
              "    </tr>\n",
              "  </tbody>\n",
              "</table>\n",
              "<p>61 rows × 17 columns</p>\n",
              "</div>\n",
              "    <div class=\"colab-df-buttons\">\n",
              "\n",
              "  <div class=\"colab-df-container\">\n",
              "    <button class=\"colab-df-convert\" onclick=\"convertToInteractive('df-3dd93386-c828-45c8-849e-5c49e61b75f4')\"\n",
              "            title=\"Convert this dataframe to an interactive table.\"\n",
              "            style=\"display:none;\">\n",
              "\n",
              "  <svg xmlns=\"http://www.w3.org/2000/svg\" height=\"24px\" viewBox=\"0 -960 960 960\">\n",
              "    <path d=\"M120-120v-720h720v720H120Zm60-500h600v-160H180v160Zm220 220h160v-160H400v160Zm0 220h160v-160H400v160ZM180-400h160v-160H180v160Zm440 0h160v-160H620v160ZM180-180h160v-160H180v160Zm440 0h160v-160H620v160Z\"/>\n",
              "  </svg>\n",
              "    </button>\n",
              "\n",
              "  <style>\n",
              "    .colab-df-container {\n",
              "      display:flex;\n",
              "      gap: 12px;\n",
              "    }\n",
              "\n",
              "    .colab-df-convert {\n",
              "      background-color: #E8F0FE;\n",
              "      border: none;\n",
              "      border-radius: 50%;\n",
              "      cursor: pointer;\n",
              "      display: none;\n",
              "      fill: #1967D2;\n",
              "      height: 32px;\n",
              "      padding: 0 0 0 0;\n",
              "      width: 32px;\n",
              "    }\n",
              "\n",
              "    .colab-df-convert:hover {\n",
              "      background-color: #E2EBFA;\n",
              "      box-shadow: 0px 1px 2px rgba(60, 64, 67, 0.3), 0px 1px 3px 1px rgba(60, 64, 67, 0.15);\n",
              "      fill: #174EA6;\n",
              "    }\n",
              "\n",
              "    .colab-df-buttons div {\n",
              "      margin-bottom: 4px;\n",
              "    }\n",
              "\n",
              "    [theme=dark] .colab-df-convert {\n",
              "      background-color: #3B4455;\n",
              "      fill: #D2E3FC;\n",
              "    }\n",
              "\n",
              "    [theme=dark] .colab-df-convert:hover {\n",
              "      background-color: #434B5C;\n",
              "      box-shadow: 0px 1px 3px 1px rgba(0, 0, 0, 0.15);\n",
              "      filter: drop-shadow(0px 1px 2px rgba(0, 0, 0, 0.3));\n",
              "      fill: #FFFFFF;\n",
              "    }\n",
              "  </style>\n",
              "\n",
              "    <script>\n",
              "      const buttonEl =\n",
              "        document.querySelector('#df-3dd93386-c828-45c8-849e-5c49e61b75f4 button.colab-df-convert');\n",
              "      buttonEl.style.display =\n",
              "        google.colab.kernel.accessAllowed ? 'block' : 'none';\n",
              "\n",
              "      async function convertToInteractive(key) {\n",
              "        const element = document.querySelector('#df-3dd93386-c828-45c8-849e-5c49e61b75f4');\n",
              "        const dataTable =\n",
              "          await google.colab.kernel.invokeFunction('convertToInteractive',\n",
              "                                                    [key], {});\n",
              "        if (!dataTable) return;\n",
              "\n",
              "        const docLinkHtml = 'Like what you see? Visit the ' +\n",
              "          '<a target=\"_blank\" href=https://colab.research.google.com/notebooks/data_table.ipynb>data table notebook</a>'\n",
              "          + ' to learn more about interactive tables.';\n",
              "        element.innerHTML = '';\n",
              "        dataTable['output_type'] = 'display_data';\n",
              "        await google.colab.output.renderOutput(dataTable, element);\n",
              "        const docLink = document.createElement('div');\n",
              "        docLink.innerHTML = docLinkHtml;\n",
              "        element.appendChild(docLink);\n",
              "      }\n",
              "    </script>\n",
              "  </div>\n",
              "\n",
              "\n",
              "<div id=\"df-6db88db4-fe74-4f59-866a-a41d9ef974e3\">\n",
              "  <button class=\"colab-df-quickchart\" onclick=\"quickchart('df-6db88db4-fe74-4f59-866a-a41d9ef974e3')\"\n",
              "            title=\"Suggest charts\"\n",
              "            style=\"display:none;\">\n",
              "\n",
              "<svg xmlns=\"http://www.w3.org/2000/svg\" height=\"24px\"viewBox=\"0 0 24 24\"\n",
              "     width=\"24px\">\n",
              "    <g>\n",
              "        <path d=\"M19 3H5c-1.1 0-2 .9-2 2v14c0 1.1.9 2 2 2h14c1.1 0 2-.9 2-2V5c0-1.1-.9-2-2-2zM9 17H7v-7h2v7zm4 0h-2V7h2v10zm4 0h-2v-4h2v4z\"/>\n",
              "    </g>\n",
              "</svg>\n",
              "  </button>\n",
              "\n",
              "<style>\n",
              "  .colab-df-quickchart {\n",
              "      --bg-color: #E8F0FE;\n",
              "      --fill-color: #1967D2;\n",
              "      --hover-bg-color: #E2EBFA;\n",
              "      --hover-fill-color: #174EA6;\n",
              "      --disabled-fill-color: #AAA;\n",
              "      --disabled-bg-color: #DDD;\n",
              "  }\n",
              "\n",
              "  [theme=dark] .colab-df-quickchart {\n",
              "      --bg-color: #3B4455;\n",
              "      --fill-color: #D2E3FC;\n",
              "      --hover-bg-color: #434B5C;\n",
              "      --hover-fill-color: #FFFFFF;\n",
              "      --disabled-bg-color: #3B4455;\n",
              "      --disabled-fill-color: #666;\n",
              "  }\n",
              "\n",
              "  .colab-df-quickchart {\n",
              "    background-color: var(--bg-color);\n",
              "    border: none;\n",
              "    border-radius: 50%;\n",
              "    cursor: pointer;\n",
              "    display: none;\n",
              "    fill: var(--fill-color);\n",
              "    height: 32px;\n",
              "    padding: 0;\n",
              "    width: 32px;\n",
              "  }\n",
              "\n",
              "  .colab-df-quickchart:hover {\n",
              "    background-color: var(--hover-bg-color);\n",
              "    box-shadow: 0 1px 2px rgba(60, 64, 67, 0.3), 0 1px 3px 1px rgba(60, 64, 67, 0.15);\n",
              "    fill: var(--button-hover-fill-color);\n",
              "  }\n",
              "\n",
              "  .colab-df-quickchart-complete:disabled,\n",
              "  .colab-df-quickchart-complete:disabled:hover {\n",
              "    background-color: var(--disabled-bg-color);\n",
              "    fill: var(--disabled-fill-color);\n",
              "    box-shadow: none;\n",
              "  }\n",
              "\n",
              "  .colab-df-spinner {\n",
              "    border: 2px solid var(--fill-color);\n",
              "    border-color: transparent;\n",
              "    border-bottom-color: var(--fill-color);\n",
              "    animation:\n",
              "      spin 1s steps(1) infinite;\n",
              "  }\n",
              "\n",
              "  @keyframes spin {\n",
              "    0% {\n",
              "      border-color: transparent;\n",
              "      border-bottom-color: var(--fill-color);\n",
              "      border-left-color: var(--fill-color);\n",
              "    }\n",
              "    20% {\n",
              "      border-color: transparent;\n",
              "      border-left-color: var(--fill-color);\n",
              "      border-top-color: var(--fill-color);\n",
              "    }\n",
              "    30% {\n",
              "      border-color: transparent;\n",
              "      border-left-color: var(--fill-color);\n",
              "      border-top-color: var(--fill-color);\n",
              "      border-right-color: var(--fill-color);\n",
              "    }\n",
              "    40% {\n",
              "      border-color: transparent;\n",
              "      border-right-color: var(--fill-color);\n",
              "      border-top-color: var(--fill-color);\n",
              "    }\n",
              "    60% {\n",
              "      border-color: transparent;\n",
              "      border-right-color: var(--fill-color);\n",
              "    }\n",
              "    80% {\n",
              "      border-color: transparent;\n",
              "      border-right-color: var(--fill-color);\n",
              "      border-bottom-color: var(--fill-color);\n",
              "    }\n",
              "    90% {\n",
              "      border-color: transparent;\n",
              "      border-bottom-color: var(--fill-color);\n",
              "    }\n",
              "  }\n",
              "</style>\n",
              "\n",
              "  <script>\n",
              "    async function quickchart(key) {\n",
              "      const quickchartButtonEl =\n",
              "        document.querySelector('#' + key + ' button');\n",
              "      quickchartButtonEl.disabled = true;  // To prevent multiple clicks.\n",
              "      quickchartButtonEl.classList.add('colab-df-spinner');\n",
              "      try {\n",
              "        const charts = await google.colab.kernel.invokeFunction(\n",
              "            'suggestCharts', [key], {});\n",
              "      } catch (error) {\n",
              "        console.error('Error during call to suggestCharts:', error);\n",
              "      }\n",
              "      quickchartButtonEl.classList.remove('colab-df-spinner');\n",
              "      quickchartButtonEl.classList.add('colab-df-quickchart-complete');\n",
              "    }\n",
              "    (() => {\n",
              "      let quickchartButtonEl =\n",
              "        document.querySelector('#df-6db88db4-fe74-4f59-866a-a41d9ef974e3 button');\n",
              "      quickchartButtonEl.style.display =\n",
              "        google.colab.kernel.accessAllowed ? 'block' : 'none';\n",
              "    })();\n",
              "  </script>\n",
              "</div>\n",
              "\n",
              "  <div id=\"id_2827adde-34c8-450a-8b55-41dfcfb6b3ef\">\n",
              "    <style>\n",
              "      .colab-df-generate {\n",
              "        background-color: #E8F0FE;\n",
              "        border: none;\n",
              "        border-radius: 50%;\n",
              "        cursor: pointer;\n",
              "        display: none;\n",
              "        fill: #1967D2;\n",
              "        height: 32px;\n",
              "        padding: 0 0 0 0;\n",
              "        width: 32px;\n",
              "      }\n",
              "\n",
              "      .colab-df-generate:hover {\n",
              "        background-color: #E2EBFA;\n",
              "        box-shadow: 0px 1px 2px rgba(60, 64, 67, 0.3), 0px 1px 3px 1px rgba(60, 64, 67, 0.15);\n",
              "        fill: #174EA6;\n",
              "      }\n",
              "\n",
              "      [theme=dark] .colab-df-generate {\n",
              "        background-color: #3B4455;\n",
              "        fill: #D2E3FC;\n",
              "      }\n",
              "\n",
              "      [theme=dark] .colab-df-generate:hover {\n",
              "        background-color: #434B5C;\n",
              "        box-shadow: 0px 1px 3px 1px rgba(0, 0, 0, 0.15);\n",
              "        filter: drop-shadow(0px 1px 2px rgba(0, 0, 0, 0.3));\n",
              "        fill: #FFFFFF;\n",
              "      }\n",
              "    </style>\n",
              "    <button class=\"colab-df-generate\" onclick=\"generateWithVariable('df_filter_test')\"\n",
              "            title=\"Generate code using this dataframe.\"\n",
              "            style=\"display:none;\">\n",
              "\n",
              "  <svg xmlns=\"http://www.w3.org/2000/svg\" height=\"24px\"viewBox=\"0 0 24 24\"\n",
              "       width=\"24px\">\n",
              "    <path d=\"M7,19H8.4L18.45,9,17,7.55,7,17.6ZM5,21V16.75L18.45,3.32a2,2,0,0,1,2.83,0l1.4,1.43a1.91,1.91,0,0,1,.58,1.4,1.91,1.91,0,0,1-.58,1.4L9.25,21ZM18.45,9,17,7.55Zm-12,3A5.31,5.31,0,0,0,4.9,8.1,5.31,5.31,0,0,0,1,6.5,5.31,5.31,0,0,0,4.9,4.9,5.31,5.31,0,0,0,6.5,1,5.31,5.31,0,0,0,8.1,4.9,5.31,5.31,0,0,0,12,6.5,5.46,5.46,0,0,0,6.5,12Z\"/>\n",
              "  </svg>\n",
              "    </button>\n",
              "    <script>\n",
              "      (() => {\n",
              "      const buttonEl =\n",
              "        document.querySelector('#id_2827adde-34c8-450a-8b55-41dfcfb6b3ef button.colab-df-generate');\n",
              "      buttonEl.style.display =\n",
              "        google.colab.kernel.accessAllowed ? 'block' : 'none';\n",
              "\n",
              "      buttonEl.onclick = () => {\n",
              "        google.colab.notebook.generateWithVariable('df_filter_test');\n",
              "      }\n",
              "      })();\n",
              "    </script>\n",
              "  </div>\n",
              "\n",
              "    </div>\n",
              "  </div>\n"
            ],
            "application/vnd.google.colaboratory.intrinsic+json": {
              "type": "dataframe",
              "variable_name": "df_filter_test",
              "summary": "{\n  \"name\": \"df_filter_test\",\n  \"rows\": 61,\n  \"fields\": [\n    {\n      \"column\": \"org_text\",\n      \"properties\": {\n        \"dtype\": \"category\",\n        \"num_unique_values\": 30,\n        \"samples\": [\n          \"i\",\n          \"MY / MINE\",\n          \"LOVE (AS IN LOVE A PERSON) OR LOVE (KISSFIST)\"\n        ],\n        \"semantic_type\": \"\",\n        \"description\": \"\"\n      }\n    },\n    {\n      \"column\": \"clean_text\",\n      \"properties\": {\n        \"dtype\": \"category\",\n        \"num_unique_values\": 10,\n        \"samples\": [\n          \"you\",\n          \"how\",\n          \"weather\"\n        ],\n        \"semantic_type\": \"\",\n        \"description\": \"\"\n      }\n    },\n    {\n      \"column\": \"start_time\",\n      \"properties\": {\n        \"dtype\": \"number\",\n        \"std\": 99.96393135578363,\n        \"min\": 0.0,\n        \"max\": 522.722,\n        \"num_unique_values\": 45,\n        \"samples\": [\n          4.171,\n          68.402,\n          112.346\n        ],\n        \"semantic_type\": \"\",\n        \"description\": \"\"\n      }\n    },\n    {\n      \"column\": \"signer_id\",\n      \"properties\": {\n        \"dtype\": \"number\",\n        \"std\": 48,\n        \"min\": 10,\n        \"max\": 174,\n        \"num_unique_values\": 10,\n        \"samples\": [\n          90,\n          10,\n          11\n        ],\n        \"semantic_type\": \"\",\n        \"description\": \"\"\n      }\n    },\n    {\n      \"column\": \"signer\",\n      \"properties\": {\n        \"dtype\": \"number\",\n        \"std\": 14,\n        \"min\": -1,\n        \"max\": 62,\n        \"num_unique_values\": 11,\n        \"samples\": [\n          62,\n          11,\n          31\n        ],\n        \"semantic_type\": \"\",\n        \"description\": \"\"\n      }\n    },\n    {\n      \"column\": \"start\",\n      \"properties\": {\n        \"dtype\": \"number\",\n        \"std\": 2995,\n        \"min\": 0,\n        \"max\": 15666,\n        \"num_unique_values\": 45,\n        \"samples\": [\n          125,\n          2050,\n          3367\n        ],\n        \"semantic_type\": \"\",\n        \"description\": \"\"\n      }\n    },\n    {\n      \"column\": \"end\",\n      \"properties\": {\n        \"dtype\": \"number\",\n        \"std\": 3003,\n        \"min\": 31,\n        \"max\": 15736,\n        \"num_unique_values\": 57,\n        \"samples\": [\n          60,\n          132,\n          31\n        ],\n        \"semantic_type\": \"\",\n        \"description\": \"\"\n      }\n    },\n    {\n      \"column\": \"file\",\n      \"properties\": {\n        \"dtype\": \"string\",\n        \"num_unique_values\": 44,\n        \"samples\": [\n          \"SignSchool Who\",\n          \"HOW (Q)\",\n          \"Unit 23 Vocabulary - ASL CC Turn on captions to review signs\"\n        ],\n        \"semantic_type\": \"\",\n        \"description\": \"\"\n      }\n    },\n    {\n      \"column\": \"label\",\n      \"properties\": {\n        \"dtype\": \"number\",\n        \"std\": 133,\n        \"min\": 0,\n        \"max\": 721,\n        \"num_unique_values\": 10,\n        \"samples\": [\n          68,\n          59,\n          390\n        ],\n        \"semantic_type\": \"\",\n        \"description\": \"\"\n      }\n    },\n    {\n      \"column\": \"height\",\n      \"properties\": {\n        \"dtype\": \"number\",\n        \"std\": 162.74691203537216,\n        \"min\": 360.0,\n        \"max\": 720.0,\n        \"num_unique_values\": 2,\n        \"samples\": [\n          360.0,\n          720.0\n        ],\n        \"semantic_type\": \"\",\n        \"description\": \"\"\n      }\n    },\n    {\n      \"column\": \"fps\",\n      \"properties\": {\n        \"dtype\": \"number\",\n        \"std\": 0.7702165844002877,\n        \"min\": 23.976,\n        \"max\": 30.364,\n        \"num_unique_values\": 6,\n        \"samples\": [\n          29.892,\n          29.97\n        ],\n        \"semantic_type\": \"\",\n        \"description\": \"\"\n      }\n    },\n    {\n      \"column\": \"end_time\",\n      \"properties\": {\n        \"dtype\": \"number\",\n        \"std\": 100.19996905921558,\n        \"min\": 1.293,\n        \"max\": 525.058,\n        \"num_unique_values\": 58,\n        \"samples\": [\n          2.007,\n          4.404\n        ],\n        \"semantic_type\": \"\",\n        \"description\": \"\"\n      }\n    },\n    {\n      \"column\": \"url\",\n      \"properties\": {\n        \"dtype\": \"string\",\n        \"num_unique_values\": 44,\n        \"samples\": [\n          \"www.youtube.com/watch?v=xchfz0eTaP8\",\n          \"https://www.youtube.com/watch?v=uVXtydfzLIo\"\n        ],\n        \"semantic_type\": \"\",\n        \"description\": \"\"\n      }\n    },\n    {\n      \"column\": \"text\",\n      \"properties\": {\n        \"dtype\": \"category\",\n        \"num_unique_values\": 10,\n        \"samples\": [\n          \"you\",\n          \"how\"\n        ],\n        \"semantic_type\": \"\",\n        \"description\": \"\"\n      }\n    },\n    {\n      \"column\": \"box\",\n      \"properties\": {\n        \"dtype\": \"object\",\n        \"semantic_type\": \"\",\n        \"description\": \"\"\n      }\n    },\n    {\n      \"column\": \"width\",\n      \"properties\": {\n        \"dtype\": \"number\",\n        \"std\": 334.129322825137,\n        \"min\": 360.0,\n        \"max\": 1280.0,\n        \"num_unique_values\": 4,\n        \"samples\": [\n          640.0,\n          360.0\n        ],\n        \"semantic_type\": \"\",\n        \"description\": \"\"\n      }\n    },\n    {\n      \"column\": \"review\",\n      \"properties\": {\n        \"dtype\": \"number\",\n        \"std\": 0.0,\n        \"min\": 1.0,\n        \"max\": 1.0,\n        \"num_unique_values\": 1,\n        \"samples\": [\n          1.0\n        ],\n        \"semantic_type\": \"\",\n        \"description\": \"\"\n      }\n    }\n  ]\n}"
            }
          },
          "metadata": {},
          "execution_count": 14
        }
      ]
    },
    {
      "cell_type": "code",
      "source": [
        "download_youtube_video(df_filter, save_path=file_path_vido)"
      ],
      "metadata": {
        "colab": {
          "base_uri": "https://localhost:8080/"
        },
        "id": "MUeQyFI5RXps",
        "outputId": "3b82ca9e-b05f-4584-a272-2ca8b98c81da"
      },
      "execution_count": null,
      "outputs": [
        {
          "output_type": "stream",
          "name": "stdout",
          "text": [
            "Downloaded: LASL - Ch. 6 Vocab successfully to /content/drive/MyDrive/PumpkinSeeds/datasource/dataSignVideos/\n",
            "Moviepy - Building video /content/drive/MyDrive/PumpkinSeeds/datasource/dataSignVideos/how_48.mp4.\n",
            "MoviePy - Writing audio in how_48TEMP_MPY_wvf_snd.mp4\n"
          ]
        },
        {
          "output_type": "stream",
          "name": "stderr",
          "text": []
        },
        {
          "output_type": "stream",
          "name": "stdout",
          "text": [
            "MoviePy - Done.\n",
            "Moviepy - Writing video /content/drive/MyDrive/PumpkinSeeds/datasource/dataSignVideos/how_48.mp4\n",
            "\n"
          ]
        },
        {
          "output_type": "stream",
          "name": "stderr",
          "text": []
        },
        {
          "output_type": "stream",
          "name": "stdout",
          "text": [
            "Moviepy - Done !\n",
            "Moviepy - video ready /content/drive/MyDrive/PumpkinSeeds/datasource/dataSignVideos/how_48.mp4\n",
            "Video segment saved to /content/drive/MyDrive/PumpkinSeeds/datasource/dataSignVideos/how_48.mp4\n",
            "Downloaded: Basic ASL Vocabulary for Babies successfully to /content/drive/MyDrive/PumpkinSeeds/datasource/dataSignVideos/\n",
            "Moviepy - Building video /content/drive/MyDrive/PumpkinSeeds/datasource/dataSignVideos/you_79.mp4.\n",
            "MoviePy - Writing audio in you_79TEMP_MPY_wvf_snd.mp4\n"
          ]
        },
        {
          "output_type": "stream",
          "name": "stderr",
          "text": []
        },
        {
          "output_type": "stream",
          "name": "stdout",
          "text": [
            "MoviePy - Done.\n",
            "Moviepy - Writing video /content/drive/MyDrive/PumpkinSeeds/datasource/dataSignVideos/you_79.mp4\n",
            "\n"
          ]
        },
        {
          "output_type": "stream",
          "name": "stderr",
          "text": []
        },
        {
          "output_type": "stream",
          "name": "stdout",
          "text": [
            "Moviepy - Done !\n",
            "Moviepy - video ready /content/drive/MyDrive/PumpkinSeeds/datasource/dataSignVideos/you_79.mp4\n",
            "Video segment saved to /content/drive/MyDrive/PumpkinSeeds/datasource/dataSignVideos/you_79.mp4\n",
            "Downloaded: Mastering ASL Unit 3 Vocabulary signed by Dr. Wooten successfully to /content/drive/MyDrive/PumpkinSeeds/datasource/dataSignVideos/\n",
            "Moviepy - Building video /content/drive/MyDrive/PumpkinSeeds/datasource/dataSignVideos/my_240.mp4.\n",
            "MoviePy - Writing audio in my_240TEMP_MPY_wvf_snd.mp4\n"
          ]
        },
        {
          "output_type": "stream",
          "name": "stderr",
          "text": []
        },
        {
          "output_type": "stream",
          "name": "stdout",
          "text": [
            "MoviePy - Done.\n",
            "Moviepy - Writing video /content/drive/MyDrive/PumpkinSeeds/datasource/dataSignVideos/my_240.mp4\n",
            "\n"
          ]
        },
        {
          "output_type": "stream",
          "name": "stderr",
          "text": []
        },
        {
          "output_type": "stream",
          "name": "stdout",
          "text": [
            "Moviepy - Done !\n",
            "Moviepy - video ready /content/drive/MyDrive/PumpkinSeeds/datasource/dataSignVideos/my_240.mp4\n",
            "Video segment saved to /content/drive/MyDrive/PumpkinSeeds/datasource/dataSignVideos/my_240.mp4\n",
            "Downloaded: Mastering ASL Unit 3 Vocabulary signed by Dr. Wooten successfully to /content/drive/MyDrive/PumpkinSeeds/datasource/dataSignVideos/\n",
            "Moviepy - Building video /content/drive/MyDrive/PumpkinSeeds/datasource/dataSignVideos/my_241.mp4.\n",
            "MoviePy - Writing audio in my_241TEMP_MPY_wvf_snd.mp4\n"
          ]
        },
        {
          "output_type": "stream",
          "name": "stderr",
          "text": []
        },
        {
          "output_type": "stream",
          "name": "stdout",
          "text": [
            "MoviePy - Done.\n",
            "Moviepy - Writing video /content/drive/MyDrive/PumpkinSeeds/datasource/dataSignVideos/my_241.mp4\n",
            "\n"
          ]
        },
        {
          "output_type": "stream",
          "name": "stderr",
          "text": []
        },
        {
          "output_type": "stream",
          "name": "stdout",
          "text": [
            "Moviepy - Done !\n",
            "Moviepy - video ready /content/drive/MyDrive/PumpkinSeeds/datasource/dataSignVideos/my_241.mp4\n",
            "Video segment saved to /content/drive/MyDrive/PumpkinSeeds/datasource/dataSignVideos/my_241.mp4\n",
            "Downloaded: Mastering ASL Unit 3 Vocabulary signed by Dr. Wooten successfully to /content/drive/MyDrive/PumpkinSeeds/datasource/dataSignVideos/\n",
            "Moviepy - Building video /content/drive/MyDrive/PumpkinSeeds/datasource/dataSignVideos/weather_285.mp4.\n",
            "MoviePy - Writing audio in weather_285TEMP_MPY_wvf_snd.mp4\n"
          ]
        },
        {
          "output_type": "stream",
          "name": "stderr",
          "text": []
        },
        {
          "output_type": "stream",
          "name": "stdout",
          "text": [
            "MoviePy - Done.\n",
            "Moviepy - Writing video /content/drive/MyDrive/PumpkinSeeds/datasource/dataSignVideos/weather_285.mp4\n",
            "\n"
          ]
        },
        {
          "output_type": "stream",
          "name": "stderr",
          "text": []
        },
        {
          "output_type": "stream",
          "name": "stdout",
          "text": [
            "Moviepy - Done !\n",
            "Moviepy - video ready /content/drive/MyDrive/PumpkinSeeds/datasource/dataSignVideos/weather_285.mp4\n",
            "Video segment saved to /content/drive/MyDrive/PumpkinSeeds/datasource/dataSignVideos/weather_285.mp4\n",
            "Downloaded: Mastering ASL Unit 3 Vocabulary signed by Dr. Wooten successfully to /content/drive/MyDrive/PumpkinSeeds/datasource/dataSignVideos/\n",
            "Moviepy - Building video /content/drive/MyDrive/PumpkinSeeds/datasource/dataSignVideos/weather_286.mp4.\n",
            "MoviePy - Writing audio in weather_286TEMP_MPY_wvf_snd.mp4\n"
          ]
        },
        {
          "output_type": "stream",
          "name": "stderr",
          "text": []
        },
        {
          "output_type": "stream",
          "name": "stdout",
          "text": [
            "MoviePy - Done.\n",
            "Moviepy - Writing video /content/drive/MyDrive/PumpkinSeeds/datasource/dataSignVideos/weather_286.mp4\n",
            "\n"
          ]
        },
        {
          "output_type": "stream",
          "name": "stderr",
          "text": []
        },
        {
          "output_type": "stream",
          "name": "stdout",
          "text": [
            "Moviepy - Done !\n",
            "Moviepy - video ready /content/drive/MyDrive/PumpkinSeeds/datasource/dataSignVideos/weather_286.mp4\n",
            "Video segment saved to /content/drive/MyDrive/PumpkinSeeds/datasource/dataSignVideos/weather_286.mp4\n",
            "An error occurred: PpeviLqqBtk is unavailable\n",
            "An error occurred: PpeviLqqBtk is unavailable\n",
            "An error occurred: PpeviLqqBtk is unavailable\n",
            "An error occurred: Cgh1DXAQBuI is unavailable\n",
            "An error occurred: 7YYB3BEoksc requires login to view, YouTube reason: Please sign in\n",
            "An error occurred: 7YYB3BEoksc requires login to view, YouTube reason: Please sign in\n",
            "An error occurred: 7YYB3BEoksc requires login to view, YouTube reason: Please sign in\n",
            "An error occurred: 7YYB3BEoksc requires login to view, YouTube reason: Please sign in\n",
            "An error occurred: 7YYB3BEoksc requires login to view, YouTube reason: Please sign in\n",
            "An error occurred: 7YYB3BEoksc requires login to view, YouTube reason: Please sign in\n",
            "Downloaded: UNIT 10 VOCABULARY successfully to /content/drive/MyDrive/PumpkinSeeds/datasource/dataSignVideos/\n",
            "Moviepy - Building video /content/drive/MyDrive/PumpkinSeeds/datasource/dataSignVideos/love_958.mp4.\n",
            "MoviePy - Writing audio in love_958TEMP_MPY_wvf_snd.mp4\n"
          ]
        },
        {
          "output_type": "stream",
          "name": "stderr",
          "text": []
        },
        {
          "output_type": "stream",
          "name": "stdout",
          "text": [
            "MoviePy - Done.\n",
            "Moviepy - Writing video /content/drive/MyDrive/PumpkinSeeds/datasource/dataSignVideos/love_958.mp4\n",
            "\n"
          ]
        },
        {
          "output_type": "stream",
          "name": "stderr",
          "text": []
        },
        {
          "output_type": "stream",
          "name": "stdout",
          "text": [
            "Moviepy - Done !\n",
            "Moviepy - video ready /content/drive/MyDrive/PumpkinSeeds/datasource/dataSignVideos/love_958.mp4\n",
            "Video segment saved to /content/drive/MyDrive/PumpkinSeeds/datasource/dataSignVideos/love_958.mp4\n",
            "Downloaded: UNIT 10 VOCABULARY successfully to /content/drive/MyDrive/PumpkinSeeds/datasource/dataSignVideos/\n",
            "Moviepy - Building video /content/drive/MyDrive/PumpkinSeeds/datasource/dataSignVideos/weather_961.mp4.\n",
            "MoviePy - Writing audio in weather_961TEMP_MPY_wvf_snd.mp4\n"
          ]
        },
        {
          "output_type": "stream",
          "name": "stderr",
          "text": []
        },
        {
          "output_type": "stream",
          "name": "stdout",
          "text": [
            "MoviePy - Done.\n",
            "Moviepy - Writing video /content/drive/MyDrive/PumpkinSeeds/datasource/dataSignVideos/weather_961.mp4\n",
            "\n"
          ]
        },
        {
          "output_type": "stream",
          "name": "stderr",
          "text": []
        },
        {
          "output_type": "stream",
          "name": "stdout",
          "text": [
            "Moviepy - Done !\n",
            "Moviepy - video ready /content/drive/MyDrive/PumpkinSeeds/datasource/dataSignVideos/weather_961.mp4\n",
            "Video segment saved to /content/drive/MyDrive/PumpkinSeeds/datasource/dataSignVideos/weather_961.mp4\n",
            "Downloaded: UNIT 10 VOCABULARY successfully to /content/drive/MyDrive/PumpkinSeeds/datasource/dataSignVideos/\n",
            "Moviepy - Building video /content/drive/MyDrive/PumpkinSeeds/datasource/dataSignVideos/weather_962.mp4.\n",
            "MoviePy - Writing audio in weather_962TEMP_MPY_wvf_snd.mp4\n"
          ]
        },
        {
          "output_type": "stream",
          "name": "stderr",
          "text": []
        },
        {
          "output_type": "stream",
          "name": "stdout",
          "text": [
            "MoviePy - Done.\n",
            "Moviepy - Writing video /content/drive/MyDrive/PumpkinSeeds/datasource/dataSignVideos/weather_962.mp4\n",
            "\n"
          ]
        },
        {
          "output_type": "stream",
          "name": "stderr",
          "text": []
        },
        {
          "output_type": "stream",
          "name": "stdout",
          "text": [
            "Moviepy - Done !\n",
            "Moviepy - video ready /content/drive/MyDrive/PumpkinSeeds/datasource/dataSignVideos/weather_962.mp4\n",
            "Video segment saved to /content/drive/MyDrive/PumpkinSeeds/datasource/dataSignVideos/weather_962.mp4\n",
            "Downloaded: UNIT 10 VOCABULARY successfully to /content/drive/MyDrive/PumpkinSeeds/datasource/dataSignVideos/\n",
            "Moviepy - Building video /content/drive/MyDrive/PumpkinSeeds/datasource/dataSignVideos/weather_963.mp4.\n",
            "MoviePy - Writing audio in weather_963TEMP_MPY_wvf_snd.mp4\n"
          ]
        },
        {
          "output_type": "stream",
          "name": "stderr",
          "text": []
        },
        {
          "output_type": "stream",
          "name": "stdout",
          "text": [
            "MoviePy - Done.\n",
            "Moviepy - Writing video /content/drive/MyDrive/PumpkinSeeds/datasource/dataSignVideos/weather_963.mp4\n",
            "\n"
          ]
        },
        {
          "output_type": "stream",
          "name": "stderr",
          "text": []
        },
        {
          "output_type": "stream",
          "name": "stdout",
          "text": [
            "Moviepy - Done !\n",
            "Moviepy - video ready /content/drive/MyDrive/PumpkinSeeds/datasource/dataSignVideos/weather_963.mp4\n",
            "Video segment saved to /content/drive/MyDrive/PumpkinSeeds/datasource/dataSignVideos/weather_963.mp4\n",
            "Downloaded: UNIT 10 VOCABULARY successfully to /content/drive/MyDrive/PumpkinSeeds/datasource/dataSignVideos/\n",
            "Moviepy - Building video /content/drive/MyDrive/PumpkinSeeds/datasource/dataSignVideos/weather_964.mp4.\n",
            "MoviePy - Writing audio in weather_964TEMP_MPY_wvf_snd.mp4\n"
          ]
        },
        {
          "output_type": "stream",
          "name": "stderr",
          "text": []
        },
        {
          "output_type": "stream",
          "name": "stdout",
          "text": [
            "MoviePy - Done.\n",
            "Moviepy - Writing video /content/drive/MyDrive/PumpkinSeeds/datasource/dataSignVideos/weather_964.mp4\n",
            "\n"
          ]
        },
        {
          "output_type": "stream",
          "name": "stderr",
          "text": []
        },
        {
          "output_type": "stream",
          "name": "stdout",
          "text": [
            "Moviepy - Done !\n",
            "Moviepy - video ready /content/drive/MyDrive/PumpkinSeeds/datasource/dataSignVideos/weather_964.mp4\n",
            "Video segment saved to /content/drive/MyDrive/PumpkinSeeds/datasource/dataSignVideos/weather_964.mp4\n",
            "Downloaded: LOVE successfully to /content/drive/MyDrive/PumpkinSeeds/datasource/dataSignVideos/\n",
            "Moviepy - Building video /content/drive/MyDrive/PumpkinSeeds/datasource/dataSignVideos/love_987.mp4.\n",
            "MoviePy - Writing audio in love_987TEMP_MPY_wvf_snd.mp4\n"
          ]
        },
        {
          "output_type": "stream",
          "name": "stderr",
          "text": []
        },
        {
          "output_type": "stream",
          "name": "stdout",
          "text": [
            "MoviePy - Done.\n",
            "Moviepy - Writing video /content/drive/MyDrive/PumpkinSeeds/datasource/dataSignVideos/love_987.mp4\n",
            "\n"
          ]
        },
        {
          "output_type": "stream",
          "name": "stderr",
          "text": []
        },
        {
          "output_type": "stream",
          "name": "stdout",
          "text": [
            "Moviepy - Done !\n",
            "Moviepy - video ready /content/drive/MyDrive/PumpkinSeeds/datasource/dataSignVideos/love_987.mp4\n",
            "Video segment saved to /content/drive/MyDrive/PumpkinSeeds/datasource/dataSignVideos/love_987.mp4\n",
            "Downloaded: ASL 1: Unit 5 Vocabulary successfully to /content/drive/MyDrive/PumpkinSeeds/datasource/dataSignVideos/\n",
            "Moviepy - Building video /content/drive/MyDrive/PumpkinSeeds/datasource/dataSignVideos/today_994.mp4.\n",
            "MoviePy - Writing audio in today_994TEMP_MPY_wvf_snd.mp4\n"
          ]
        },
        {
          "output_type": "stream",
          "name": "stderr",
          "text": []
        },
        {
          "output_type": "stream",
          "name": "stdout",
          "text": [
            "MoviePy - Done.\n",
            "Moviepy - Writing video /content/drive/MyDrive/PumpkinSeeds/datasource/dataSignVideos/today_994.mp4\n",
            "\n"
          ]
        },
        {
          "output_type": "stream",
          "name": "stderr",
          "text": []
        },
        {
          "output_type": "stream",
          "name": "stdout",
          "text": [
            "Moviepy - Done !\n",
            "Moviepy - video ready /content/drive/MyDrive/PumpkinSeeds/datasource/dataSignVideos/today_994.mp4\n",
            "Video segment saved to /content/drive/MyDrive/PumpkinSeeds/datasource/dataSignVideos/today_994.mp4\n",
            "Downloaded: Unit 6 Vocabulary.mp4 successfully to /content/drive/MyDrive/PumpkinSeeds/datasource/dataSignVideos/\n",
            "Moviepy - Building video /content/drive/MyDrive/PumpkinSeeds/datasource/dataSignVideos/how_1568.mp4.\n",
            "MoviePy - Writing audio in how_1568TEMP_MPY_wvf_snd.mp4\n"
          ]
        },
        {
          "output_type": "stream",
          "name": "stderr",
          "text": []
        },
        {
          "output_type": "stream",
          "name": "stdout",
          "text": [
            "MoviePy - Done.\n",
            "Moviepy - Writing video /content/drive/MyDrive/PumpkinSeeds/datasource/dataSignVideos/how_1568.mp4\n",
            "\n"
          ]
        },
        {
          "output_type": "stream",
          "name": "stderr",
          "text": []
        },
        {
          "output_type": "stream",
          "name": "stdout",
          "text": [
            "Moviepy - Done !\n",
            "Moviepy - video ready /content/drive/MyDrive/PumpkinSeeds/datasource/dataSignVideos/how_1568.mp4\n",
            "Video segment saved to /content/drive/MyDrive/PumpkinSeeds/datasource/dataSignVideos/how_1568.mp4\n",
            "Downloaded: Unit 6 Vocabulary.mp4 successfully to /content/drive/MyDrive/PumpkinSeeds/datasource/dataSignVideos/\n",
            "Moviepy - Building video /content/drive/MyDrive/PumpkinSeeds/datasource/dataSignVideos/how_1569.mp4.\n",
            "MoviePy - Writing audio in how_1569TEMP_MPY_wvf_snd.mp4\n"
          ]
        },
        {
          "output_type": "stream",
          "name": "stderr",
          "text": []
        },
        {
          "output_type": "stream",
          "name": "stdout",
          "text": [
            "MoviePy - Done.\n",
            "Moviepy - Writing video /content/drive/MyDrive/PumpkinSeeds/datasource/dataSignVideos/how_1569.mp4\n",
            "\n"
          ]
        },
        {
          "output_type": "stream",
          "name": "stderr",
          "text": []
        },
        {
          "output_type": "stream",
          "name": "stdout",
          "text": [
            "Moviepy - Done !\n",
            "Moviepy - video ready /content/drive/MyDrive/PumpkinSeeds/datasource/dataSignVideos/how_1569.mp4\n",
            "Video segment saved to /content/drive/MyDrive/PumpkinSeeds/datasource/dataSignVideos/how_1569.mp4\n",
            "Downloaded: Unit 6 Vocabulary.mp4 successfully to /content/drive/MyDrive/PumpkinSeeds/datasource/dataSignVideos/\n",
            "Moviepy - Building video /content/drive/MyDrive/PumpkinSeeds/datasource/dataSignVideos/how_1570.mp4.\n",
            "MoviePy - Writing audio in how_1570TEMP_MPY_wvf_snd.mp4\n"
          ]
        },
        {
          "output_type": "stream",
          "name": "stderr",
          "text": []
        },
        {
          "output_type": "stream",
          "name": "stdout",
          "text": [
            "MoviePy - Done.\n",
            "Moviepy - Writing video /content/drive/MyDrive/PumpkinSeeds/datasource/dataSignVideos/how_1570.mp4\n",
            "\n"
          ]
        },
        {
          "output_type": "stream",
          "name": "stderr",
          "text": []
        },
        {
          "output_type": "stream",
          "name": "stdout",
          "text": [
            "Moviepy - Done !\n",
            "Moviepy - video ready /content/drive/MyDrive/PumpkinSeeds/datasource/dataSignVideos/how_1570.mp4\n",
            "Video segment saved to /content/drive/MyDrive/PumpkinSeeds/datasource/dataSignVideos/how_1570.mp4\n",
            "Downloaded: my successfully to /content/drive/MyDrive/PumpkinSeeds/datasource/dataSignVideos/\n",
            "Moviepy - Building video /content/drive/MyDrive/PumpkinSeeds/datasource/dataSignVideos/my_1580.mp4.\n",
            "MoviePy - Writing audio in my_1580TEMP_MPY_wvf_snd.mp4\n"
          ]
        },
        {
          "output_type": "stream",
          "name": "stderr",
          "text": []
        },
        {
          "output_type": "stream",
          "name": "stdout",
          "text": [
            "MoviePy - Done.\n",
            "Moviepy - Writing video /content/drive/MyDrive/PumpkinSeeds/datasource/dataSignVideos/my_1580.mp4\n",
            "\n"
          ]
        },
        {
          "output_type": "stream",
          "name": "stderr",
          "text": []
        },
        {
          "output_type": "stream",
          "name": "stdout",
          "text": [
            "Moviepy - Done !\n",
            "Moviepy - video ready /content/drive/MyDrive/PumpkinSeeds/datasource/dataSignVideos/my_1580.mp4\n",
            "Video segment saved to /content/drive/MyDrive/PumpkinSeeds/datasource/dataSignVideos/my_1580.mp4\n",
            "Downloaded: Unit 2 Vocabulary | ASL Level 1 - American Sign Language successfully to /content/drive/MyDrive/PumpkinSeeds/datasource/dataSignVideos/\n",
            "Moviepy - Building video /content/drive/MyDrive/PumpkinSeeds/datasource/dataSignVideos/who_2180.mp4.\n",
            "MoviePy - Writing audio in who_2180TEMP_MPY_wvf_snd.mp4\n"
          ]
        },
        {
          "output_type": "stream",
          "name": "stderr",
          "text": []
        },
        {
          "output_type": "stream",
          "name": "stdout",
          "text": [
            "MoviePy - Done.\n",
            "Moviepy - Writing video /content/drive/MyDrive/PumpkinSeeds/datasource/dataSignVideos/who_2180.mp4\n",
            "\n"
          ]
        },
        {
          "output_type": "stream",
          "name": "stderr",
          "text": []
        },
        {
          "output_type": "stream",
          "name": "stdout",
          "text": [
            "Moviepy - Done !\n",
            "Moviepy - video ready /content/drive/MyDrive/PumpkinSeeds/datasource/dataSignVideos/who_2180.mp4\n",
            "Video segment saved to /content/drive/MyDrive/PumpkinSeeds/datasource/dataSignVideos/who_2180.mp4\n",
            "An error occurred: X8rXeLPfPIM is unavailable\n",
            "Downloaded: I successfully to /content/drive/MyDrive/PumpkinSeeds/datasource/dataSignVideos/\n",
            "Moviepy - Building video /content/drive/MyDrive/PumpkinSeeds/datasource/dataSignVideos/i_2354.mp4.\n",
            "MoviePy - Writing audio in i_2354TEMP_MPY_wvf_snd.mp4\n"
          ]
        },
        {
          "output_type": "stream",
          "name": "stderr",
          "text": []
        },
        {
          "output_type": "stream",
          "name": "stdout",
          "text": [
            "MoviePy - Done.\n",
            "Moviepy - Writing video /content/drive/MyDrive/PumpkinSeeds/datasource/dataSignVideos/i_2354.mp4\n",
            "\n"
          ]
        },
        {
          "output_type": "stream",
          "name": "stderr",
          "text": []
        },
        {
          "output_type": "stream",
          "name": "stdout",
          "text": [
            "Moviepy - Done !\n",
            "Moviepy - video ready /content/drive/MyDrive/PumpkinSeeds/datasource/dataSignVideos/i_2354.mp4\n",
            "Video segment saved to /content/drive/MyDrive/PumpkinSeeds/datasource/dataSignVideos/i_2354.mp4\n",
            "Downloaded: WHO successfully to /content/drive/MyDrive/PumpkinSeeds/datasource/dataSignVideos/\n",
            "Moviepy - Building video /content/drive/MyDrive/PumpkinSeeds/datasource/dataSignVideos/who_2747.mp4.\n",
            "MoviePy - Writing audio in who_2747TEMP_MPY_wvf_snd.mp4\n"
          ]
        },
        {
          "output_type": "stream",
          "name": "stderr",
          "text": []
        },
        {
          "output_type": "stream",
          "name": "stdout",
          "text": [
            "MoviePy - Done.\n",
            "Moviepy - Writing video /content/drive/MyDrive/PumpkinSeeds/datasource/dataSignVideos/who_2747.mp4\n",
            "\n"
          ]
        },
        {
          "output_type": "stream",
          "name": "stderr",
          "text": []
        },
        {
          "output_type": "stream",
          "name": "stdout",
          "text": [
            "Moviepy - Done !\n",
            "Moviepy - video ready /content/drive/MyDrive/PumpkinSeeds/datasource/dataSignVideos/who_2747.mp4\n",
            "Video segment saved to /content/drive/MyDrive/PumpkinSeeds/datasource/dataSignVideos/who_2747.mp4\n",
            "Downloaded: Unit 08 Vocabulary successfully to /content/drive/MyDrive/PumpkinSeeds/datasource/dataSignVideos/\n",
            "Moviepy - Building video /content/drive/MyDrive/PumpkinSeeds/datasource/dataSignVideos/today_2815.mp4.\n",
            "MoviePy - Writing audio in today_2815TEMP_MPY_wvf_snd.mp4\n"
          ]
        },
        {
          "output_type": "stream",
          "name": "stderr",
          "text": []
        },
        {
          "output_type": "stream",
          "name": "stdout",
          "text": [
            "MoviePy - Done.\n",
            "Moviepy - Writing video /content/drive/MyDrive/PumpkinSeeds/datasource/dataSignVideos/today_2815.mp4\n",
            "\n"
          ]
        },
        {
          "output_type": "stream",
          "name": "stderr",
          "text": []
        },
        {
          "output_type": "stream",
          "name": "stdout",
          "text": [
            "Moviepy - Done !\n",
            "Moviepy - video ready /content/drive/MyDrive/PumpkinSeeds/datasource/dataSignVideos/today_2815.mp4\n",
            "Video segment saved to /content/drive/MyDrive/PumpkinSeeds/datasource/dataSignVideos/today_2815.mp4\n",
            "Downloaded: ASL 1: Unit 2 Vocabulary successfully to /content/drive/MyDrive/PumpkinSeeds/datasource/dataSignVideos/\n",
            "Moviepy - Building video /content/drive/MyDrive/PumpkinSeeds/datasource/dataSignVideos/cooking_2933.mp4.\n",
            "MoviePy - Writing audio in cooking_2933TEMP_MPY_wvf_snd.mp4\n"
          ]
        },
        {
          "output_type": "stream",
          "name": "stderr",
          "text": []
        },
        {
          "output_type": "stream",
          "name": "stdout",
          "text": [
            "MoviePy - Done.\n",
            "Moviepy - Writing video /content/drive/MyDrive/PumpkinSeeds/datasource/dataSignVideos/cooking_2933.mp4\n",
            "\n"
          ]
        },
        {
          "output_type": "stream",
          "name": "stderr",
          "text": []
        },
        {
          "output_type": "stream",
          "name": "stdout",
          "text": [
            "Moviepy - Done !\n",
            "Moviepy - video ready /content/drive/MyDrive/PumpkinSeeds/datasource/dataSignVideos/cooking_2933.mp4\n",
            "Video segment saved to /content/drive/MyDrive/PumpkinSeeds/datasource/dataSignVideos/cooking_2933.mp4\n",
            "An error occurred: D7UYn37qTkU is unavailable\n",
            "Downloaded: WEATHER successfully to /content/drive/MyDrive/PumpkinSeeds/datasource/dataSignVideos/\n",
            "Moviepy - Building video /content/drive/MyDrive/PumpkinSeeds/datasource/dataSignVideos/weather_3178.mp4.\n",
            "MoviePy - Writing audio in weather_3178TEMP_MPY_wvf_snd.mp4\n"
          ]
        },
        {
          "output_type": "stream",
          "name": "stderr",
          "text": []
        },
        {
          "output_type": "stream",
          "name": "stdout",
          "text": [
            "MoviePy - Done.\n",
            "Moviepy - Writing video /content/drive/MyDrive/PumpkinSeeds/datasource/dataSignVideos/weather_3178.mp4\n",
            "\n"
          ]
        },
        {
          "output_type": "stream",
          "name": "stderr",
          "text": []
        },
        {
          "output_type": "stream",
          "name": "stdout",
          "text": [
            "Moviepy - Done !\n",
            "Moviepy - video ready /content/drive/MyDrive/PumpkinSeeds/datasource/dataSignVideos/weather_3178.mp4\n",
            "Video segment saved to /content/drive/MyDrive/PumpkinSeeds/datasource/dataSignVideos/weather_3178.mp4\n",
            "An error occurred: WbkSmhKTltU is unavailable\n",
            "An error occurred: -IPNgEBg5WA is unavailable\n",
            "Downloaded: Hello successfully to /content/drive/MyDrive/PumpkinSeeds/datasource/dataSignVideos/\n",
            "Moviepy - Building video /content/drive/MyDrive/PumpkinSeeds/datasource/dataSignVideos/hello_3287.mp4.\n",
            "MoviePy - Writing audio in hello_3287TEMP_MPY_wvf_snd.mp4\n"
          ]
        },
        {
          "output_type": "stream",
          "name": "stderr",
          "text": []
        },
        {
          "output_type": "stream",
          "name": "stdout",
          "text": [
            "MoviePy - Done.\n",
            "Moviepy - Writing video /content/drive/MyDrive/PumpkinSeeds/datasource/dataSignVideos/hello_3287.mp4\n",
            "\n"
          ]
        },
        {
          "output_type": "stream",
          "name": "stderr",
          "text": []
        },
        {
          "output_type": "stream",
          "name": "stdout",
          "text": [
            "Moviepy - Done !\n",
            "Moviepy - video ready /content/drive/MyDrive/PumpkinSeeds/datasource/dataSignVideos/hello_3287.mp4\n",
            "Video segment saved to /content/drive/MyDrive/PumpkinSeeds/datasource/dataSignVideos/hello_3287.mp4\n",
            "Downloaded: Robber and the Geek Vocab video for ASL class successfully to /content/drive/MyDrive/PumpkinSeeds/datasource/dataSignVideos/\n",
            "Moviepy - Building video /content/drive/MyDrive/PumpkinSeeds/datasource/dataSignVideos/love_3337.mp4.\n",
            "MoviePy - Writing audio in love_3337TEMP_MPY_wvf_snd.mp4\n"
          ]
        },
        {
          "output_type": "stream",
          "name": "stderr",
          "text": []
        },
        {
          "output_type": "stream",
          "name": "stdout",
          "text": [
            "MoviePy - Done.\n",
            "Moviepy - Writing video /content/drive/MyDrive/PumpkinSeeds/datasource/dataSignVideos/love_3337.mp4\n",
            "\n"
          ]
        },
        {
          "output_type": "stream",
          "name": "stderr",
          "text": []
        },
        {
          "output_type": "stream",
          "name": "stdout",
          "text": [
            "Moviepy - Done !\n",
            "Moviepy - video ready /content/drive/MyDrive/PumpkinSeeds/datasource/dataSignVideos/love_3337.mp4\n",
            "Video segment saved to /content/drive/MyDrive/PumpkinSeeds/datasource/dataSignVideos/love_3337.mp4\n",
            "Downloaded: Robber and the Geek Vocab video for ASL class successfully to /content/drive/MyDrive/PumpkinSeeds/datasource/dataSignVideos/\n",
            "Moviepy - Building video /content/drive/MyDrive/PumpkinSeeds/datasource/dataSignVideos/we_3342.mp4.\n",
            "MoviePy - Writing audio in we_3342TEMP_MPY_wvf_snd.mp4\n"
          ]
        },
        {
          "output_type": "stream",
          "name": "stderr",
          "text": []
        },
        {
          "output_type": "stream",
          "name": "stdout",
          "text": [
            "MoviePy - Done.\n",
            "Moviepy - Writing video /content/drive/MyDrive/PumpkinSeeds/datasource/dataSignVideos/we_3342.mp4\n",
            "\n"
          ]
        },
        {
          "output_type": "stream",
          "name": "stderr",
          "text": []
        },
        {
          "output_type": "stream",
          "name": "stdout",
          "text": [
            "Moviepy - Done !\n",
            "Moviepy - video ready /content/drive/MyDrive/PumpkinSeeds/datasource/dataSignVideos/we_3342.mp4\n",
            "Video segment saved to /content/drive/MyDrive/PumpkinSeeds/datasource/dataSignVideos/we_3342.mp4\n",
            "Downloaded: Robber and the Geek Vocab video for ASL class successfully to /content/drive/MyDrive/PumpkinSeeds/datasource/dataSignVideos/\n",
            "Moviepy - Building video /content/drive/MyDrive/PumpkinSeeds/datasource/dataSignVideos/we_3348.mp4.\n",
            "MoviePy - Writing audio in we_3348TEMP_MPY_wvf_snd.mp4\n"
          ]
        },
        {
          "output_type": "stream",
          "name": "stderr",
          "text": []
        },
        {
          "output_type": "stream",
          "name": "stdout",
          "text": [
            "MoviePy - Done.\n",
            "Moviepy - Writing video /content/drive/MyDrive/PumpkinSeeds/datasource/dataSignVideos/we_3348.mp4\n",
            "\n"
          ]
        },
        {
          "output_type": "stream",
          "name": "stderr",
          "text": []
        },
        {
          "output_type": "stream",
          "name": "stdout",
          "text": [
            "Moviepy - Done !\n",
            "Moviepy - video ready /content/drive/MyDrive/PumpkinSeeds/datasource/dataSignVideos/we_3348.mp4\n",
            "Video segment saved to /content/drive/MyDrive/PumpkinSeeds/datasource/dataSignVideos/we_3348.mp4\n",
            "An error occurred: 9jUuFHB2m4M is unavailable\n",
            "An error occurred: 9jUuFHB2m4M is unavailable\n",
            "Downloaded: ASL: Today היום successfully to /content/drive/MyDrive/PumpkinSeeds/datasource/dataSignVideos/\n",
            "Moviepy - Building video /content/drive/MyDrive/PumpkinSeeds/datasource/dataSignVideos/today_3554.mp4.\n",
            "MoviePy - Writing audio in today_3554TEMP_MPY_wvf_snd.mp4\n"
          ]
        },
        {
          "output_type": "stream",
          "name": "stderr",
          "text": []
        },
        {
          "output_type": "stream",
          "name": "stdout",
          "text": [
            "MoviePy - Done.\n",
            "Moviepy - Writing video /content/drive/MyDrive/PumpkinSeeds/datasource/dataSignVideos/today_3554.mp4\n",
            "\n"
          ]
        },
        {
          "output_type": "stream",
          "name": "stderr",
          "text": [
            "t:  92%|█████████▏| 109/118 [00:01<00:00, 97.57it/s, now=None]WARNING:py.warnings:/usr/local/lib/python3.10/dist-packages/moviepy/video/io/ffmpeg_reader.py:123: UserWarning: Warning: in file /content/drive/MyDrive/PumpkinSeeds/datasource/dataSignVideos/temp.mp4, 691200 bytes wanted but 0 bytes read,at frame 117/118, at time 4.68/4.69 sec. Using the last valid frame instead.\n",
            "  warnings.warn(\"Warning: in file %s, \"%(self.filename)+\n",
            "\n"
          ]
        },
        {
          "output_type": "stream",
          "name": "stdout",
          "text": [
            "Moviepy - Done !\n",
            "Moviepy - video ready /content/drive/MyDrive/PumpkinSeeds/datasource/dataSignVideos/today_3554.mp4\n",
            "Video segment saved to /content/drive/MyDrive/PumpkinSeeds/datasource/dataSignVideos/today_3554.mp4\n",
            "Downloaded: ASL Vocabulary \"you\" successfully to /content/drive/MyDrive/PumpkinSeeds/datasource/dataSignVideos/\n",
            "Moviepy - Building video /content/drive/MyDrive/PumpkinSeeds/datasource/dataSignVideos/you_3574.mp4.\n",
            "MoviePy - Writing audio in you_3574TEMP_MPY_wvf_snd.mp4\n"
          ]
        },
        {
          "output_type": "stream",
          "name": "stderr",
          "text": []
        },
        {
          "output_type": "stream",
          "name": "stdout",
          "text": [
            "MoviePy - Done.\n",
            "Moviepy - Writing video /content/drive/MyDrive/PumpkinSeeds/datasource/dataSignVideos/you_3574.mp4\n",
            "\n"
          ]
        },
        {
          "output_type": "stream",
          "name": "stderr",
          "text": []
        },
        {
          "output_type": "stream",
          "name": "stdout",
          "text": [
            "Moviepy - Done !\n",
            "Moviepy - video ready /content/drive/MyDrive/PumpkinSeeds/datasource/dataSignVideos/you_3574.mp4\n",
            "Video segment saved to /content/drive/MyDrive/PumpkinSeeds/datasource/dataSignVideos/you_3574.mp4\n",
            "Downloaded: ASL Vocabulary \"you\" successfully to /content/drive/MyDrive/PumpkinSeeds/datasource/dataSignVideos/\n",
            "Moviepy - Building video /content/drive/MyDrive/PumpkinSeeds/datasource/dataSignVideos/you_3575.mp4.\n",
            "MoviePy - Writing audio in you_3575TEMP_MPY_wvf_snd.mp4\n"
          ]
        },
        {
          "output_type": "stream",
          "name": "stderr",
          "text": []
        },
        {
          "output_type": "stream",
          "name": "stdout",
          "text": [
            "MoviePy - Done.\n",
            "Moviepy - Writing video /content/drive/MyDrive/PumpkinSeeds/datasource/dataSignVideos/you_3575.mp4\n",
            "\n"
          ]
        },
        {
          "output_type": "stream",
          "name": "stderr",
          "text": []
        },
        {
          "output_type": "stream",
          "name": "stdout",
          "text": [
            "Moviepy - Done !\n",
            "Moviepy - video ready /content/drive/MyDrive/PumpkinSeeds/datasource/dataSignVideos/you_3575.mp4\n",
            "Video segment saved to /content/drive/MyDrive/PumpkinSeeds/datasource/dataSignVideos/you_3575.mp4\n",
            "An error occurred: lSxAVvE9sPc requires login to view, YouTube reason: Please sign in\n",
            "An error occurred: QisLkDnvcpE is unavailable\n",
            "Downloaded: ASL 1: Set 1 Supplemental Vocabulary successfully to /content/drive/MyDrive/PumpkinSeeds/datasource/dataSignVideos/\n",
            "Moviepy - Building video /content/drive/MyDrive/PumpkinSeeds/datasource/dataSignVideos/who_3823.mp4.\n",
            "MoviePy - Writing audio in who_3823TEMP_MPY_wvf_snd.mp4\n"
          ]
        },
        {
          "output_type": "stream",
          "name": "stderr",
          "text": []
        },
        {
          "output_type": "stream",
          "name": "stdout",
          "text": [
            "MoviePy - Done.\n",
            "Moviepy - Writing video /content/drive/MyDrive/PumpkinSeeds/datasource/dataSignVideos/who_3823.mp4\n",
            "\n"
          ]
        },
        {
          "output_type": "stream",
          "name": "stderr",
          "text": []
        },
        {
          "output_type": "stream",
          "name": "stdout",
          "text": [
            "Moviepy - Done !\n",
            "Moviepy - video ready /content/drive/MyDrive/PumpkinSeeds/datasource/dataSignVideos/who_3823.mp4\n",
            "Video segment saved to /content/drive/MyDrive/PumpkinSeeds/datasource/dataSignVideos/who_3823.mp4\n",
            "Downloaded: ASL 1: Set 1 Supplemental Vocabulary successfully to /content/drive/MyDrive/PumpkinSeeds/datasource/dataSignVideos/\n",
            "Moviepy - Building video /content/drive/MyDrive/PumpkinSeeds/datasource/dataSignVideos/we_3836.mp4.\n",
            "MoviePy - Writing audio in we_3836TEMP_MPY_wvf_snd.mp4\n"
          ]
        },
        {
          "output_type": "stream",
          "name": "stderr",
          "text": []
        },
        {
          "output_type": "stream",
          "name": "stdout",
          "text": [
            "MoviePy - Done.\n",
            "Moviepy - Writing video /content/drive/MyDrive/PumpkinSeeds/datasource/dataSignVideos/we_3836.mp4\n",
            "\n"
          ]
        },
        {
          "output_type": "stream",
          "name": "stderr",
          "text": []
        },
        {
          "output_type": "stream",
          "name": "stdout",
          "text": [
            "Moviepy - Done !\n",
            "Moviepy - video ready /content/drive/MyDrive/PumpkinSeeds/datasource/dataSignVideos/we_3836.mp4\n",
            "Video segment saved to /content/drive/MyDrive/PumpkinSeeds/datasource/dataSignVideos/we_3836.mp4\n",
            "Downloaded: ASL 1: Set 1 Supplemental Vocabulary successfully to /content/drive/MyDrive/PumpkinSeeds/datasource/dataSignVideos/\n",
            "Moviepy - Building video /content/drive/MyDrive/PumpkinSeeds/datasource/dataSignVideos/you_3837.mp4.\n",
            "MoviePy - Writing audio in you_3837TEMP_MPY_wvf_snd.mp4\n"
          ]
        },
        {
          "output_type": "stream",
          "name": "stderr",
          "text": []
        },
        {
          "output_type": "stream",
          "name": "stdout",
          "text": [
            "MoviePy - Done.\n",
            "Moviepy - Writing video /content/drive/MyDrive/PumpkinSeeds/datasource/dataSignVideos/you_3837.mp4\n",
            "\n"
          ]
        },
        {
          "output_type": "stream",
          "name": "stderr",
          "text": []
        },
        {
          "output_type": "stream",
          "name": "stdout",
          "text": [
            "Moviepy - Done !\n",
            "Moviepy - video ready /content/drive/MyDrive/PumpkinSeeds/datasource/dataSignVideos/you_3837.mp4\n",
            "Video segment saved to /content/drive/MyDrive/PumpkinSeeds/datasource/dataSignVideos/you_3837.mp4\n",
            "Downloaded: WHO? successfully to /content/drive/MyDrive/PumpkinSeeds/datasource/dataSignVideos/\n",
            "Moviepy - Building video /content/drive/MyDrive/PumpkinSeeds/datasource/dataSignVideos/who_3904.mp4.\n",
            "MoviePy - Writing audio in who_3904TEMP_MPY_wvf_snd.mp4\n"
          ]
        },
        {
          "output_type": "stream",
          "name": "stderr",
          "text": []
        },
        {
          "output_type": "stream",
          "name": "stdout",
          "text": [
            "MoviePy - Done.\n",
            "Moviepy - Writing video /content/drive/MyDrive/PumpkinSeeds/datasource/dataSignVideos/who_3904.mp4\n",
            "\n"
          ]
        },
        {
          "output_type": "stream",
          "name": "stderr",
          "text": []
        },
        {
          "output_type": "stream",
          "name": "stdout",
          "text": [
            "Moviepy - Done !\n",
            "Moviepy - video ready /content/drive/MyDrive/PumpkinSeeds/datasource/dataSignVideos/who_3904.mp4\n",
            "Video segment saved to /content/drive/MyDrive/PumpkinSeeds/datasource/dataSignVideos/who_3904.mp4\n",
            "An error occurred: nEjphmmDGzI is unavailable\n",
            "An error occurred: nEjphmmDGzI is unavailable\n",
            "Downloaded: ASL NUMBER SIGN บทเรียนภาษามืออเมริกัน เรื่อง ตัวเลข 1-100 successfully to /content/drive/MyDrive/PumpkinSeeds/datasource/dataSignVideos/\n",
            "Moviepy - Building video /content/drive/MyDrive/PumpkinSeeds/datasource/dataSignVideos/i_3982.mp4.\n",
            "MoviePy - Writing audio in i_3982TEMP_MPY_wvf_snd.mp4\n"
          ]
        },
        {
          "output_type": "stream",
          "name": "stderr",
          "text": []
        },
        {
          "output_type": "stream",
          "name": "stdout",
          "text": [
            "MoviePy - Done.\n",
            "Moviepy - Writing video /content/drive/MyDrive/PumpkinSeeds/datasource/dataSignVideos/i_3982.mp4\n",
            "\n"
          ]
        },
        {
          "output_type": "stream",
          "name": "stderr",
          "text": []
        },
        {
          "output_type": "stream",
          "name": "stdout",
          "text": [
            "Moviepy - Done !\n",
            "Moviepy - video ready /content/drive/MyDrive/PumpkinSeeds/datasource/dataSignVideos/i_3982.mp4\n",
            "Video segment saved to /content/drive/MyDrive/PumpkinSeeds/datasource/dataSignVideos/i_3982.mp4\n",
            "Downloaded: ASL NUMBER SIGN บทเรียนภาษามืออเมริกัน เรื่อง ตัวเลข 1-100 successfully to /content/drive/MyDrive/PumpkinSeeds/datasource/dataSignVideos/\n",
            "Moviepy - Building video /content/drive/MyDrive/PumpkinSeeds/datasource/dataSignVideos/i_3983.mp4.\n",
            "MoviePy - Writing audio in i_3983TEMP_MPY_wvf_snd.mp4\n"
          ]
        },
        {
          "output_type": "stream",
          "name": "stderr",
          "text": []
        },
        {
          "output_type": "stream",
          "name": "stdout",
          "text": [
            "MoviePy - Done.\n",
            "Moviepy - Writing video /content/drive/MyDrive/PumpkinSeeds/datasource/dataSignVideos/i_3983.mp4\n",
            "\n"
          ]
        },
        {
          "output_type": "stream",
          "name": "stderr",
          "text": []
        },
        {
          "output_type": "stream",
          "name": "stdout",
          "text": [
            "Moviepy - Done !\n",
            "Moviepy - video ready /content/drive/MyDrive/PumpkinSeeds/datasource/dataSignVideos/i_3983.mp4\n",
            "Video segment saved to /content/drive/MyDrive/PumpkinSeeds/datasource/dataSignVideos/i_3983.mp4\n",
            "Downloaded: today successfully to /content/drive/MyDrive/PumpkinSeeds/datasource/dataSignVideos/\n",
            "Moviepy - Building video /content/drive/MyDrive/PumpkinSeeds/datasource/dataSignVideos/today_4042.mp4.\n",
            "MoviePy - Writing audio in today_4042TEMP_MPY_wvf_snd.mp4\n"
          ]
        },
        {
          "output_type": "stream",
          "name": "stderr",
          "text": []
        },
        {
          "output_type": "stream",
          "name": "stdout",
          "text": [
            "MoviePy - Done.\n",
            "Moviepy - Writing video /content/drive/MyDrive/PumpkinSeeds/datasource/dataSignVideos/today_4042.mp4\n",
            "\n"
          ]
        },
        {
          "output_type": "stream",
          "name": "stderr",
          "text": []
        },
        {
          "output_type": "stream",
          "name": "stdout",
          "text": [
            "Moviepy - Done !\n",
            "Moviepy - video ready /content/drive/MyDrive/PumpkinSeeds/datasource/dataSignVideos/today_4042.mp4\n",
            "Video segment saved to /content/drive/MyDrive/PumpkinSeeds/datasource/dataSignVideos/today_4042.mp4\n",
            "Downloaded: today successfully to /content/drive/MyDrive/PumpkinSeeds/datasource/dataSignVideos/\n",
            "Moviepy - Building video /content/drive/MyDrive/PumpkinSeeds/datasource/dataSignVideos/today_4043.mp4.\n",
            "MoviePy - Writing audio in today_4043TEMP_MPY_wvf_snd.mp4\n"
          ]
        },
        {
          "output_type": "stream",
          "name": "stderr",
          "text": []
        },
        {
          "output_type": "stream",
          "name": "stdout",
          "text": [
            "MoviePy - Done.\n",
            "Moviepy - Writing video /content/drive/MyDrive/PumpkinSeeds/datasource/dataSignVideos/today_4043.mp4\n",
            "\n"
          ]
        },
        {
          "output_type": "stream",
          "name": "stderr",
          "text": []
        },
        {
          "output_type": "stream",
          "name": "stdout",
          "text": [
            "Moviepy - Done !\n",
            "Moviepy - video ready /content/drive/MyDrive/PumpkinSeeds/datasource/dataSignVideos/today_4043.mp4\n",
            "Video segment saved to /content/drive/MyDrive/PumpkinSeeds/datasource/dataSignVideos/today_4043.mp4\n",
            "Downloaded: today successfully to /content/drive/MyDrive/PumpkinSeeds/datasource/dataSignVideos/\n",
            "Moviepy - Building video /content/drive/MyDrive/PumpkinSeeds/datasource/dataSignVideos/today_4044.mp4.\n",
            "MoviePy - Writing audio in today_4044TEMP_MPY_wvf_snd.mp4\n"
          ]
        },
        {
          "output_type": "stream",
          "name": "stderr",
          "text": []
        },
        {
          "output_type": "stream",
          "name": "stdout",
          "text": [
            "MoviePy - Done.\n",
            "Moviepy - Writing video /content/drive/MyDrive/PumpkinSeeds/datasource/dataSignVideos/today_4044.mp4\n",
            "\n"
          ]
        },
        {
          "output_type": "stream",
          "name": "stderr",
          "text": []
        },
        {
          "output_type": "stream",
          "name": "stdout",
          "text": [
            "Moviepy - Done !\n",
            "Moviepy - video ready /content/drive/MyDrive/PumpkinSeeds/datasource/dataSignVideos/today_4044.mp4\n",
            "Video segment saved to /content/drive/MyDrive/PumpkinSeeds/datasource/dataSignVideos/today_4044.mp4\n",
            "Downloaded: ASL UNIT 1 VOCAB | signing naturally successfully to /content/drive/MyDrive/PumpkinSeeds/datasource/dataSignVideos/\n",
            "Moviepy - Building video /content/drive/MyDrive/PumpkinSeeds/datasource/dataSignVideos/hello_4088.mp4.\n",
            "MoviePy - Writing audio in hello_4088TEMP_MPY_wvf_snd.mp4\n"
          ]
        },
        {
          "output_type": "stream",
          "name": "stderr",
          "text": []
        },
        {
          "output_type": "stream",
          "name": "stdout",
          "text": [
            "MoviePy - Done.\n",
            "Moviepy - Writing video /content/drive/MyDrive/PumpkinSeeds/datasource/dataSignVideos/hello_4088.mp4\n",
            "\n"
          ]
        },
        {
          "output_type": "stream",
          "name": "stderr",
          "text": []
        },
        {
          "output_type": "stream",
          "name": "stdout",
          "text": [
            "Moviepy - Done !\n",
            "Moviepy - video ready /content/drive/MyDrive/PumpkinSeeds/datasource/dataSignVideos/hello_4088.mp4\n",
            "Video segment saved to /content/drive/MyDrive/PumpkinSeeds/datasource/dataSignVideos/hello_4088.mp4\n",
            "Downloaded: YOU-[personal-pronoun] successfully to /content/drive/MyDrive/PumpkinSeeds/datasource/dataSignVideos/\n",
            "Moviepy - Building video /content/drive/MyDrive/PumpkinSeeds/datasource/dataSignVideos/you_4103.mp4.\n",
            "MoviePy - Writing audio in you_4103TEMP_MPY_wvf_snd.mp4\n"
          ]
        },
        {
          "output_type": "stream",
          "name": "stderr",
          "text": []
        },
        {
          "output_type": "stream",
          "name": "stdout",
          "text": [
            "MoviePy - Done.\n",
            "Moviepy - Writing video /content/drive/MyDrive/PumpkinSeeds/datasource/dataSignVideos/you_4103.mp4\n",
            "\n"
          ]
        },
        {
          "output_type": "stream",
          "name": "stderr",
          "text": []
        },
        {
          "output_type": "stream",
          "name": "stdout",
          "text": [
            "Moviepy - Done !\n",
            "Moviepy - video ready /content/drive/MyDrive/PumpkinSeeds/datasource/dataSignVideos/you_4103.mp4\n",
            "Video segment saved to /content/drive/MyDrive/PumpkinSeeds/datasource/dataSignVideos/you_4103.mp4\n",
            "Downloaded: How successfully to /content/drive/MyDrive/PumpkinSeeds/datasource/dataSignVideos/\n",
            "Moviepy - Building video /content/drive/MyDrive/PumpkinSeeds/datasource/dataSignVideos/how_4239.mp4.\n",
            "MoviePy - Writing audio in how_4239TEMP_MPY_wvf_snd.mp4\n"
          ]
        },
        {
          "output_type": "stream",
          "name": "stderr",
          "text": []
        },
        {
          "output_type": "stream",
          "name": "stdout",
          "text": [
            "MoviePy - Done.\n",
            "Moviepy - Writing video /content/drive/MyDrive/PumpkinSeeds/datasource/dataSignVideos/how_4239.mp4\n",
            "\n"
          ]
        },
        {
          "output_type": "stream",
          "name": "stderr",
          "text": []
        },
        {
          "output_type": "stream",
          "name": "stdout",
          "text": [
            "Moviepy - Done !\n",
            "Moviepy - video ready /content/drive/MyDrive/PumpkinSeeds/datasource/dataSignVideos/how_4239.mp4\n",
            "Video segment saved to /content/drive/MyDrive/PumpkinSeeds/datasource/dataSignVideos/how_4239.mp4\n",
            "An error occurred: dnDu1DxXWo4 is unavailable\n",
            "An error occurred: 25BZZYd_PDs is unavailable\n",
            "Downloaded: ASL school vocab successfully to /content/drive/MyDrive/PumpkinSeeds/datasource/dataSignVideos/\n",
            "Moviepy - Building video /content/drive/MyDrive/PumpkinSeeds/datasource/dataSignVideos/cooking_4425.mp4.\n",
            "MoviePy - Writing audio in cooking_4425TEMP_MPY_wvf_snd.mp4\n"
          ]
        },
        {
          "output_type": "stream",
          "name": "stderr",
          "text": []
        },
        {
          "output_type": "stream",
          "name": "stdout",
          "text": [
            "MoviePy - Done.\n",
            "Moviepy - Writing video /content/drive/MyDrive/PumpkinSeeds/datasource/dataSignVideos/cooking_4425.mp4\n",
            "\n"
          ]
        },
        {
          "output_type": "stream",
          "name": "stderr",
          "text": []
        },
        {
          "output_type": "stream",
          "name": "stdout",
          "text": [
            "Moviepy - Done !\n",
            "Moviepy - video ready /content/drive/MyDrive/PumpkinSeeds/datasource/dataSignVideos/cooking_4425.mp4\n",
            "Video segment saved to /content/drive/MyDrive/PumpkinSeeds/datasource/dataSignVideos/cooking_4425.mp4\n",
            "Downloaded: ASL Vocabulary \"how\" successfully to /content/drive/MyDrive/PumpkinSeeds/datasource/dataSignVideos/\n",
            "Moviepy - Building video /content/drive/MyDrive/PumpkinSeeds/datasource/dataSignVideos/how_4581.mp4.\n",
            "MoviePy - Writing audio in how_4581TEMP_MPY_wvf_snd.mp4\n"
          ]
        },
        {
          "output_type": "stream",
          "name": "stderr",
          "text": []
        },
        {
          "output_type": "stream",
          "name": "stdout",
          "text": [
            "MoviePy - Done.\n",
            "Moviepy - Writing video /content/drive/MyDrive/PumpkinSeeds/datasource/dataSignVideos/how_4581.mp4\n",
            "\n"
          ]
        },
        {
          "output_type": "stream",
          "name": "stderr",
          "text": []
        },
        {
          "output_type": "stream",
          "name": "stdout",
          "text": [
            "Moviepy - Done !\n",
            "Moviepy - video ready /content/drive/MyDrive/PumpkinSeeds/datasource/dataSignVideos/how_4581.mp4\n",
            "Video segment saved to /content/drive/MyDrive/PumpkinSeeds/datasource/dataSignVideos/how_4581.mp4\n",
            "Downloaded: ASL Vocabulary \"how\" successfully to /content/drive/MyDrive/PumpkinSeeds/datasource/dataSignVideos/\n",
            "Moviepy - Building video /content/drive/MyDrive/PumpkinSeeds/datasource/dataSignVideos/how_4582.mp4.\n",
            "MoviePy - Writing audio in how_4582TEMP_MPY_wvf_snd.mp4\n"
          ]
        },
        {
          "output_type": "stream",
          "name": "stderr",
          "text": []
        },
        {
          "output_type": "stream",
          "name": "stdout",
          "text": [
            "MoviePy - Done.\n",
            "Moviepy - Writing video /content/drive/MyDrive/PumpkinSeeds/datasource/dataSignVideos/how_4582.mp4\n",
            "\n"
          ]
        },
        {
          "output_type": "stream",
          "name": "stderr",
          "text": []
        },
        {
          "output_type": "stream",
          "name": "stdout",
          "text": [
            "Moviepy - Done !\n",
            "Moviepy - video ready /content/drive/MyDrive/PumpkinSeeds/datasource/dataSignVideos/how_4582.mp4\n",
            "Video segment saved to /content/drive/MyDrive/PumpkinSeeds/datasource/dataSignVideos/how_4582.mp4\n",
            "Downloaded: Important Emotion signs successfully to /content/drive/MyDrive/PumpkinSeeds/datasource/dataSignVideos/\n",
            "Moviepy - Building video /content/drive/MyDrive/PumpkinSeeds/datasource/dataSignVideos/how_4770.mp4.\n",
            "MoviePy - Writing audio in how_4770TEMP_MPY_wvf_snd.mp4\n"
          ]
        },
        {
          "output_type": "stream",
          "name": "stderr",
          "text": []
        },
        {
          "output_type": "stream",
          "name": "stdout",
          "text": [
            "MoviePy - Done.\n",
            "Moviepy - Writing video /content/drive/MyDrive/PumpkinSeeds/datasource/dataSignVideos/how_4770.mp4\n",
            "\n"
          ]
        },
        {
          "output_type": "stream",
          "name": "stderr",
          "text": []
        },
        {
          "output_type": "stream",
          "name": "stdout",
          "text": [
            "Moviepy - Done !\n",
            "Moviepy - video ready /content/drive/MyDrive/PumpkinSeeds/datasource/dataSignVideos/how_4770.mp4\n",
            "Video segment saved to /content/drive/MyDrive/PumpkinSeeds/datasource/dataSignVideos/how_4770.mp4\n",
            "Downloaded: Important Emotion signs successfully to /content/drive/MyDrive/PumpkinSeeds/datasource/dataSignVideos/\n",
            "Moviepy - Building video /content/drive/MyDrive/PumpkinSeeds/datasource/dataSignVideos/how_4771.mp4.\n",
            "MoviePy - Writing audio in how_4771TEMP_MPY_wvf_snd.mp4\n"
          ]
        },
        {
          "output_type": "stream",
          "name": "stderr",
          "text": []
        },
        {
          "output_type": "stream",
          "name": "stdout",
          "text": [
            "MoviePy - Done.\n",
            "Moviepy - Writing video /content/drive/MyDrive/PumpkinSeeds/datasource/dataSignVideos/how_4771.mp4\n",
            "\n"
          ]
        },
        {
          "output_type": "stream",
          "name": "stderr",
          "text": []
        },
        {
          "output_type": "stream",
          "name": "stdout",
          "text": [
            "Moviepy - Done !\n",
            "Moviepy - video ready /content/drive/MyDrive/PumpkinSeeds/datasource/dataSignVideos/how_4771.mp4\n",
            "Video segment saved to /content/drive/MyDrive/PumpkinSeeds/datasource/dataSignVideos/how_4771.mp4\n",
            "Downloaded: Important Emotion signs successfully to /content/drive/MyDrive/PumpkinSeeds/datasource/dataSignVideos/\n",
            "Moviepy - Building video /content/drive/MyDrive/PumpkinSeeds/datasource/dataSignVideos/how_4772.mp4.\n",
            "MoviePy - Writing audio in how_4772TEMP_MPY_wvf_snd.mp4\n"
          ]
        },
        {
          "output_type": "stream",
          "name": "stderr",
          "text": []
        },
        {
          "output_type": "stream",
          "name": "stdout",
          "text": [
            "MoviePy - Done.\n",
            "Moviepy - Writing video /content/drive/MyDrive/PumpkinSeeds/datasource/dataSignVideos/how_4772.mp4\n",
            "\n"
          ]
        },
        {
          "output_type": "stream",
          "name": "stderr",
          "text": []
        },
        {
          "output_type": "stream",
          "name": "stdout",
          "text": [
            "Moviepy - Done !\n",
            "Moviepy - video ready /content/drive/MyDrive/PumpkinSeeds/datasource/dataSignVideos/how_4772.mp4\n",
            "Video segment saved to /content/drive/MyDrive/PumpkinSeeds/datasource/dataSignVideos/how_4772.mp4\n",
            "An error occurred: whHDsJfpazI is unavailable\n",
            "An error occurred: whHDsJfpazI is unavailable\n",
            "An error occurred: whHDsJfpazI is unavailable\n",
            "Downloaded: ASL Vocabulary (Spring 2018) successfully to /content/drive/MyDrive/PumpkinSeeds/datasource/dataSignVideos/\n",
            "Moviepy - Building video /content/drive/MyDrive/PumpkinSeeds/datasource/dataSignVideos/how_4983.mp4.\n",
            "MoviePy - Writing audio in how_4983TEMP_MPY_wvf_snd.mp4\n"
          ]
        },
        {
          "output_type": "stream",
          "name": "stderr",
          "text": []
        },
        {
          "output_type": "stream",
          "name": "stdout",
          "text": [
            "MoviePy - Done.\n",
            "Moviepy - Writing video /content/drive/MyDrive/PumpkinSeeds/datasource/dataSignVideos/how_4983.mp4\n",
            "\n"
          ]
        },
        {
          "output_type": "stream",
          "name": "stderr",
          "text": []
        },
        {
          "output_type": "stream",
          "name": "stdout",
          "text": [
            "Moviepy - Done !\n",
            "Moviepy - video ready /content/drive/MyDrive/PumpkinSeeds/datasource/dataSignVideos/how_4983.mp4\n",
            "Video segment saved to /content/drive/MyDrive/PumpkinSeeds/datasource/dataSignVideos/how_4983.mp4\n",
            "Downloaded: ASL Vocabulary (Spring 2018) successfully to /content/drive/MyDrive/PumpkinSeeds/datasource/dataSignVideos/\n",
            "Moviepy - Building video /content/drive/MyDrive/PumpkinSeeds/datasource/dataSignVideos/hello_4997.mp4.\n",
            "MoviePy - Writing audio in hello_4997TEMP_MPY_wvf_snd.mp4\n"
          ]
        },
        {
          "output_type": "stream",
          "name": "stderr",
          "text": []
        },
        {
          "output_type": "stream",
          "name": "stdout",
          "text": [
            "MoviePy - Done.\n",
            "Moviepy - Writing video /content/drive/MyDrive/PumpkinSeeds/datasource/dataSignVideos/hello_4997.mp4\n",
            "\n"
          ]
        },
        {
          "output_type": "stream",
          "name": "stderr",
          "text": []
        },
        {
          "output_type": "stream",
          "name": "stdout",
          "text": [
            "Moviepy - Done !\n",
            "Moviepy - video ready /content/drive/MyDrive/PumpkinSeeds/datasource/dataSignVideos/hello_4997.mp4\n",
            "Video segment saved to /content/drive/MyDrive/PumpkinSeeds/datasource/dataSignVideos/hello_4997.mp4\n",
            "An error occurred: 96u_iJrxkuc is unavailable\n",
            "An error occurred: 96u_iJrxkuc is unavailable\n",
            "Downloaded: ASL: Love אהבה successfully to /content/drive/MyDrive/PumpkinSeeds/datasource/dataSignVideos/\n",
            "Moviepy - Building video /content/drive/MyDrive/PumpkinSeeds/datasource/dataSignVideos/love_5709.mp4.\n",
            "MoviePy - Writing audio in love_5709TEMP_MPY_wvf_snd.mp4\n"
          ]
        },
        {
          "output_type": "stream",
          "name": "stderr",
          "text": []
        },
        {
          "output_type": "stream",
          "name": "stdout",
          "text": [
            "MoviePy - Done.\n",
            "Moviepy - Writing video /content/drive/MyDrive/PumpkinSeeds/datasource/dataSignVideos/love_5709.mp4\n",
            "\n"
          ]
        },
        {
          "output_type": "stream",
          "name": "stderr",
          "text": []
        },
        {
          "output_type": "stream",
          "name": "stdout",
          "text": [
            "Moviepy - Done !\n",
            "Moviepy - video ready /content/drive/MyDrive/PumpkinSeeds/datasource/dataSignVideos/love_5709.mp4\n",
            "Video segment saved to /content/drive/MyDrive/PumpkinSeeds/datasource/dataSignVideos/love_5709.mp4\n",
            "Downloaded: YOU successfully to /content/drive/MyDrive/PumpkinSeeds/datasource/dataSignVideos/\n",
            "Moviepy - Building video /content/drive/MyDrive/PumpkinSeeds/datasource/dataSignVideos/you_5717.mp4.\n",
            "MoviePy - Writing audio in you_5717TEMP_MPY_wvf_snd.mp4\n"
          ]
        },
        {
          "output_type": "stream",
          "name": "stderr",
          "text": []
        },
        {
          "output_type": "stream",
          "name": "stdout",
          "text": [
            "MoviePy - Done.\n",
            "Moviepy - Writing video /content/drive/MyDrive/PumpkinSeeds/datasource/dataSignVideos/you_5717.mp4\n",
            "\n"
          ]
        },
        {
          "output_type": "stream",
          "name": "stderr",
          "text": []
        },
        {
          "output_type": "stream",
          "name": "stdout",
          "text": [
            "Moviepy - Done !\n",
            "Moviepy - video ready /content/drive/MyDrive/PumpkinSeeds/datasource/dataSignVideos/you_5717.mp4\n",
            "Video segment saved to /content/drive/MyDrive/PumpkinSeeds/datasource/dataSignVideos/you_5717.mp4\n",
            "An error occurred: 6EjZy8yST58 is unavailable\n",
            "An error occurred: QB44Vddoi-w is unavailable\n",
            "An error occurred: TnJQtTYVTtg requires login to view, YouTube reason: Please sign in\n",
            "An error occurred: TnJQtTYVTtg requires login to view, YouTube reason: Please sign in\n",
            "An error occurred: TnJQtTYVTtg requires login to view, YouTube reason: Please sign in\n",
            "Downloaded: ASL Dictionary - Cooking successfully to /content/drive/MyDrive/PumpkinSeeds/datasource/dataSignVideos/\n",
            "Moviepy - Building video /content/drive/MyDrive/PumpkinSeeds/datasource/dataSignVideos/cooking_6083.mp4.\n",
            "MoviePy - Writing audio in cooking_6083TEMP_MPY_wvf_snd.mp4\n"
          ]
        },
        {
          "output_type": "stream",
          "name": "stderr",
          "text": []
        },
        {
          "output_type": "stream",
          "name": "stdout",
          "text": [
            "MoviePy - Done.\n",
            "Moviepy - Writing video /content/drive/MyDrive/PumpkinSeeds/datasource/dataSignVideos/cooking_6083.mp4\n",
            "\n"
          ]
        },
        {
          "output_type": "stream",
          "name": "stderr",
          "text": []
        },
        {
          "output_type": "stream",
          "name": "stdout",
          "text": [
            "Moviepy - Done !\n",
            "Moviepy - video ready /content/drive/MyDrive/PumpkinSeeds/datasource/dataSignVideos/cooking_6083.mp4\n",
            "Video segment saved to /content/drive/MyDrive/PumpkinSeeds/datasource/dataSignVideos/cooking_6083.mp4\n",
            "Downloaded: WE successfully to /content/drive/MyDrive/PumpkinSeeds/datasource/dataSignVideos/\n",
            "Moviepy - Building video /content/drive/MyDrive/PumpkinSeeds/datasource/dataSignVideos/we_6246.mp4.\n",
            "MoviePy - Writing audio in we_6246TEMP_MPY_wvf_snd.mp4\n"
          ]
        },
        {
          "output_type": "stream",
          "name": "stderr",
          "text": []
        },
        {
          "output_type": "stream",
          "name": "stdout",
          "text": [
            "MoviePy - Done.\n",
            "Moviepy - Writing video /content/drive/MyDrive/PumpkinSeeds/datasource/dataSignVideos/we_6246.mp4\n",
            "\n"
          ]
        },
        {
          "output_type": "stream",
          "name": "stderr",
          "text": []
        },
        {
          "output_type": "stream",
          "name": "stdout",
          "text": [
            "Moviepy - Done !\n",
            "Moviepy - video ready /content/drive/MyDrive/PumpkinSeeds/datasource/dataSignVideos/we_6246.mp4\n",
            "Video segment saved to /content/drive/MyDrive/PumpkinSeeds/datasource/dataSignVideos/we_6246.mp4\n",
            "An error occurred: NVx328qRp9U is unavailable\n",
            "An error occurred: NVx328qRp9U is unavailable\n",
            "An error occurred: dbzKXsyAcvY is unavailable\n",
            "An error occurred: dbzKXsyAcvY is unavailable\n",
            "An error occurred: dbzKXsyAcvY is unavailable\n",
            "Downloaded: how successfully to /content/drive/MyDrive/PumpkinSeeds/datasource/dataSignVideos/\n",
            "Moviepy - Building video /content/drive/MyDrive/PumpkinSeeds/datasource/dataSignVideos/how_6435.mp4.\n",
            "MoviePy - Writing audio in how_6435TEMP_MPY_wvf_snd.mp4\n"
          ]
        },
        {
          "output_type": "stream",
          "name": "stderr",
          "text": []
        },
        {
          "output_type": "stream",
          "name": "stdout",
          "text": [
            "MoviePy - Done.\n",
            "Moviepy - Writing video /content/drive/MyDrive/PumpkinSeeds/datasource/dataSignVideos/how_6435.mp4\n",
            "\n"
          ]
        },
        {
          "output_type": "stream",
          "name": "stderr",
          "text": []
        },
        {
          "output_type": "stream",
          "name": "stdout",
          "text": [
            "Moviepy - Done !\n",
            "Moviepy - video ready /content/drive/MyDrive/PumpkinSeeds/datasource/dataSignVideos/how_6435.mp4\n",
            "Video segment saved to /content/drive/MyDrive/PumpkinSeeds/datasource/dataSignVideos/how_6435.mp4\n",
            "Downloaded: Amazing Grace successfully to /content/drive/MyDrive/PumpkinSeeds/datasource/dataSignVideos/\n",
            "Moviepy - Building video /content/drive/MyDrive/PumpkinSeeds/datasource/dataSignVideos/how_6441.mp4.\n",
            "MoviePy - Writing audio in how_6441TEMP_MPY_wvf_snd.mp4\n"
          ]
        },
        {
          "output_type": "stream",
          "name": "stderr",
          "text": []
        },
        {
          "output_type": "stream",
          "name": "stdout",
          "text": [
            "MoviePy - Done.\n",
            "Moviepy - Writing video /content/drive/MyDrive/PumpkinSeeds/datasource/dataSignVideos/how_6441.mp4\n",
            "\n"
          ]
        },
        {
          "output_type": "stream",
          "name": "stderr",
          "text": []
        },
        {
          "output_type": "stream",
          "name": "stdout",
          "text": [
            "Moviepy - Done !\n",
            "Moviepy - video ready /content/drive/MyDrive/PumpkinSeeds/datasource/dataSignVideos/how_6441.mp4\n",
            "Video segment saved to /content/drive/MyDrive/PumpkinSeeds/datasource/dataSignVideos/how_6441.mp4\n",
            "Downloaded: Amazing Grace successfully to /content/drive/MyDrive/PumpkinSeeds/datasource/dataSignVideos/\n",
            "Moviepy - Building video /content/drive/MyDrive/PumpkinSeeds/datasource/dataSignVideos/how_6442.mp4.\n",
            "MoviePy - Writing audio in how_6442TEMP_MPY_wvf_snd.mp4\n"
          ]
        },
        {
          "output_type": "stream",
          "name": "stderr",
          "text": []
        },
        {
          "output_type": "stream",
          "name": "stdout",
          "text": [
            "MoviePy - Done.\n",
            "Moviepy - Writing video /content/drive/MyDrive/PumpkinSeeds/datasource/dataSignVideos/how_6442.mp4\n",
            "\n"
          ]
        },
        {
          "output_type": "stream",
          "name": "stderr",
          "text": []
        },
        {
          "output_type": "stream",
          "name": "stdout",
          "text": [
            "Moviepy - Done !\n",
            "Moviepy - video ready /content/drive/MyDrive/PumpkinSeeds/datasource/dataSignVideos/how_6442.mp4\n",
            "Video segment saved to /content/drive/MyDrive/PumpkinSeeds/datasource/dataSignVideos/how_6442.mp4\n",
            "Downloaded: TODAY successfully to /content/drive/MyDrive/PumpkinSeeds/datasource/dataSignVideos/\n",
            "Moviepy - Building video /content/drive/MyDrive/PumpkinSeeds/datasource/dataSignVideos/today_6464.mp4.\n",
            "MoviePy - Writing audio in today_6464TEMP_MPY_wvf_snd.mp4\n"
          ]
        },
        {
          "output_type": "stream",
          "name": "stderr",
          "text": []
        },
        {
          "output_type": "stream",
          "name": "stdout",
          "text": [
            "MoviePy - Done.\n",
            "Moviepy - Writing video /content/drive/MyDrive/PumpkinSeeds/datasource/dataSignVideos/today_6464.mp4\n",
            "\n"
          ]
        },
        {
          "output_type": "stream",
          "name": "stderr",
          "text": []
        },
        {
          "output_type": "stream",
          "name": "stdout",
          "text": [
            "Moviepy - Done !\n",
            "Moviepy - video ready /content/drive/MyDrive/PumpkinSeeds/datasource/dataSignVideos/today_6464.mp4\n",
            "Video segment saved to /content/drive/MyDrive/PumpkinSeeds/datasource/dataSignVideos/today_6464.mp4\n",
            "An error occurred: eMZdggjnLQA is unavailable\n",
            "An error occurred: eMZdggjnLQA is unavailable\n",
            "An error occurred: eMZdggjnLQA is unavailable\n",
            "Downloaded: ASL Class 02-08-10 successfully to /content/drive/MyDrive/PumpkinSeeds/datasource/dataSignVideos/\n",
            "Moviepy - Building video /content/drive/MyDrive/PumpkinSeeds/datasource/dataSignVideos/who_6707.mp4.\n",
            "MoviePy - Writing audio in who_6707TEMP_MPY_wvf_snd.mp4\n"
          ]
        },
        {
          "output_type": "stream",
          "name": "stderr",
          "text": []
        },
        {
          "output_type": "stream",
          "name": "stdout",
          "text": [
            "MoviePy - Done.\n",
            "Moviepy - Writing video /content/drive/MyDrive/PumpkinSeeds/datasource/dataSignVideos/who_6707.mp4\n",
            "\n"
          ]
        },
        {
          "output_type": "stream",
          "name": "stderr",
          "text": []
        },
        {
          "output_type": "stream",
          "name": "stdout",
          "text": [
            "Moviepy - Done !\n",
            "Moviepy - video ready /content/drive/MyDrive/PumpkinSeeds/datasource/dataSignVideos/who_6707.mp4\n",
            "Video segment saved to /content/drive/MyDrive/PumpkinSeeds/datasource/dataSignVideos/who_6707.mp4\n",
            "Downloaded: ASL Class 02-08-10 successfully to /content/drive/MyDrive/PumpkinSeeds/datasource/dataSignVideos/\n",
            "Moviepy - Building video /content/drive/MyDrive/PumpkinSeeds/datasource/dataSignVideos/how_6712.mp4.\n",
            "MoviePy - Writing audio in how_6712TEMP_MPY_wvf_snd.mp4\n"
          ]
        },
        {
          "output_type": "stream",
          "name": "stderr",
          "text": []
        },
        {
          "output_type": "stream",
          "name": "stdout",
          "text": [
            "MoviePy - Done.\n",
            "Moviepy - Writing video /content/drive/MyDrive/PumpkinSeeds/datasource/dataSignVideos/how_6712.mp4\n",
            "\n"
          ]
        },
        {
          "output_type": "stream",
          "name": "stderr",
          "text": []
        },
        {
          "output_type": "stream",
          "name": "stdout",
          "text": [
            "Moviepy - Done !\n",
            "Moviepy - video ready /content/drive/MyDrive/PumpkinSeeds/datasource/dataSignVideos/how_6712.mp4\n",
            "Video segment saved to /content/drive/MyDrive/PumpkinSeeds/datasource/dataSignVideos/how_6712.mp4\n",
            "An error occurred: iMUjcZCLaGo requires login to view, YouTube reason: Please sign in\n",
            "An error occurred: iMUjcZCLaGo requires login to view, YouTube reason: Please sign in\n",
            "An error occurred: iMUjcZCLaGo requires login to view, YouTube reason: Please sign in\n",
            "An error occurred: iMUjcZCLaGo requires login to view, YouTube reason: Please sign in\n",
            "An error occurred: iMUjcZCLaGo requires login to view, YouTube reason: Please sign in\n",
            "Downloaded: Letters A-Z successfully to /content/drive/MyDrive/PumpkinSeeds/datasource/dataSignVideos/\n",
            "Moviepy - Building video /content/drive/MyDrive/PumpkinSeeds/datasource/dataSignVideos/i_6988.mp4.\n",
            "MoviePy - Writing audio in i_6988TEMP_MPY_wvf_snd.mp4\n"
          ]
        },
        {
          "output_type": "stream",
          "name": "stderr",
          "text": []
        },
        {
          "output_type": "stream",
          "name": "stdout",
          "text": [
            "MoviePy - Done.\n",
            "Moviepy - Writing video /content/drive/MyDrive/PumpkinSeeds/datasource/dataSignVideos/i_6988.mp4\n",
            "\n"
          ]
        },
        {
          "output_type": "stream",
          "name": "stderr",
          "text": []
        },
        {
          "output_type": "stream",
          "name": "stdout",
          "text": [
            "Moviepy - Done !\n",
            "Moviepy - video ready /content/drive/MyDrive/PumpkinSeeds/datasource/dataSignVideos/i_6988.mp4\n",
            "Video segment saved to /content/drive/MyDrive/PumpkinSeeds/datasource/dataSignVideos/i_6988.mp4\n",
            "Downloaded: People Signs in ASL successfully to /content/drive/MyDrive/PumpkinSeeds/datasource/dataSignVideos/\n",
            "Moviepy - Building video /content/drive/MyDrive/PumpkinSeeds/datasource/dataSignVideos/my_7114.mp4.\n",
            "MoviePy - Writing audio in my_7114TEMP_MPY_wvf_snd.mp4\n"
          ]
        },
        {
          "output_type": "stream",
          "name": "stderr",
          "text": []
        },
        {
          "output_type": "stream",
          "name": "stdout",
          "text": [
            "MoviePy - Done.\n",
            "Moviepy - Writing video /content/drive/MyDrive/PumpkinSeeds/datasource/dataSignVideos/my_7114.mp4\n",
            "\n"
          ]
        },
        {
          "output_type": "stream",
          "name": "stderr",
          "text": []
        },
        {
          "output_type": "stream",
          "name": "stdout",
          "text": [
            "Moviepy - Done !\n",
            "Moviepy - video ready /content/drive/MyDrive/PumpkinSeeds/datasource/dataSignVideos/my_7114.mp4\n",
            "Video segment saved to /content/drive/MyDrive/PumpkinSeeds/datasource/dataSignVideos/my_7114.mp4\n",
            "Downloaded: People Signs in ASL successfully to /content/drive/MyDrive/PumpkinSeeds/datasource/dataSignVideos/\n",
            "Moviepy - Building video /content/drive/MyDrive/PumpkinSeeds/datasource/dataSignVideos/we_7129.mp4.\n",
            "MoviePy - Writing audio in we_7129TEMP_MPY_wvf_snd.mp4\n"
          ]
        },
        {
          "output_type": "stream",
          "name": "stderr",
          "text": []
        },
        {
          "output_type": "stream",
          "name": "stdout",
          "text": [
            "MoviePy - Done.\n",
            "Moviepy - Writing video /content/drive/MyDrive/PumpkinSeeds/datasource/dataSignVideos/we_7129.mp4\n",
            "\n"
          ]
        },
        {
          "output_type": "stream",
          "name": "stderr",
          "text": []
        },
        {
          "output_type": "stream",
          "name": "stdout",
          "text": [
            "Moviepy - Done !\n",
            "Moviepy - video ready /content/drive/MyDrive/PumpkinSeeds/datasource/dataSignVideos/we_7129.mp4\n",
            "Video segment saved to /content/drive/MyDrive/PumpkinSeeds/datasource/dataSignVideos/we_7129.mp4\n",
            "Downloaded: Hello - Asl successfully to /content/drive/MyDrive/PumpkinSeeds/datasource/dataSignVideos/\n",
            "Moviepy - Building video /content/drive/MyDrive/PumpkinSeeds/datasource/dataSignVideos/hello_7146.mp4.\n",
            "MoviePy - Writing audio in hello_7146TEMP_MPY_wvf_snd.mp4\n"
          ]
        },
        {
          "output_type": "stream",
          "name": "stderr",
          "text": []
        },
        {
          "output_type": "stream",
          "name": "stdout",
          "text": [
            "MoviePy - Done.\n",
            "Moviepy - Writing video /content/drive/MyDrive/PumpkinSeeds/datasource/dataSignVideos/hello_7146.mp4\n",
            "\n"
          ]
        },
        {
          "output_type": "stream",
          "name": "stderr",
          "text": []
        },
        {
          "output_type": "stream",
          "name": "stdout",
          "text": [
            "Moviepy - Done !\n",
            "Moviepy - video ready /content/drive/MyDrive/PumpkinSeeds/datasource/dataSignVideos/hello_7146.mp4\n",
            "Video segment saved to /content/drive/MyDrive/PumpkinSeeds/datasource/dataSignVideos/hello_7146.mp4\n",
            "An error occurred: ElL1zlHxo-0 is unavailable\n",
            "Downloaded: Unit  1 vocabulary part 1 successfully to /content/drive/MyDrive/PumpkinSeeds/datasource/dataSignVideos/\n",
            "Moviepy - Building video /content/drive/MyDrive/PumpkinSeeds/datasource/dataSignVideos/how_7277.mp4.\n",
            "MoviePy - Writing audio in how_7277TEMP_MPY_wvf_snd.mp4\n"
          ]
        },
        {
          "output_type": "stream",
          "name": "stderr",
          "text": []
        },
        {
          "output_type": "stream",
          "name": "stdout",
          "text": [
            "MoviePy - Done.\n",
            "Moviepy - Writing video /content/drive/MyDrive/PumpkinSeeds/datasource/dataSignVideos/how_7277.mp4\n",
            "\n"
          ]
        },
        {
          "output_type": "stream",
          "name": "stderr",
          "text": []
        },
        {
          "output_type": "stream",
          "name": "stdout",
          "text": [
            "Moviepy - Done !\n",
            "Moviepy - video ready /content/drive/MyDrive/PumpkinSeeds/datasource/dataSignVideos/how_7277.mp4\n",
            "Video segment saved to /content/drive/MyDrive/PumpkinSeeds/datasource/dataSignVideos/how_7277.mp4\n",
            "Downloaded: Unit  1 vocabulary part 1 successfully to /content/drive/MyDrive/PumpkinSeeds/datasource/dataSignVideos/\n",
            "Moviepy - Building video /content/drive/MyDrive/PumpkinSeeds/datasource/dataSignVideos/how_7278.mp4.\n",
            "MoviePy - Writing audio in how_7278TEMP_MPY_wvf_snd.mp4\n"
          ]
        },
        {
          "output_type": "stream",
          "name": "stderr",
          "text": []
        },
        {
          "output_type": "stream",
          "name": "stdout",
          "text": [
            "MoviePy - Done.\n",
            "Moviepy - Writing video /content/drive/MyDrive/PumpkinSeeds/datasource/dataSignVideos/how_7278.mp4\n",
            "\n"
          ]
        },
        {
          "output_type": "stream",
          "name": "stderr",
          "text": []
        },
        {
          "output_type": "stream",
          "name": "stdout",
          "text": [
            "Moviepy - Done !\n",
            "Moviepy - video ready /content/drive/MyDrive/PumpkinSeeds/datasource/dataSignVideos/how_7278.mp4\n",
            "Video segment saved to /content/drive/MyDrive/PumpkinSeeds/datasource/dataSignVideos/how_7278.mp4\n",
            "Downloaded: Unit  1 vocabulary part 1 successfully to /content/drive/MyDrive/PumpkinSeeds/datasource/dataSignVideos/\n",
            "Moviepy - Building video /content/drive/MyDrive/PumpkinSeeds/datasource/dataSignVideos/my_7290.mp4.\n",
            "MoviePy - Writing audio in my_7290TEMP_MPY_wvf_snd.mp4\n"
          ]
        },
        {
          "output_type": "stream",
          "name": "stderr",
          "text": []
        },
        {
          "output_type": "stream",
          "name": "stdout",
          "text": [
            "MoviePy - Done.\n",
            "Moviepy - Writing video /content/drive/MyDrive/PumpkinSeeds/datasource/dataSignVideos/my_7290.mp4\n",
            "\n"
          ]
        },
        {
          "output_type": "stream",
          "name": "stderr",
          "text": []
        },
        {
          "output_type": "stream",
          "name": "stdout",
          "text": [
            "Moviepy - Done !\n",
            "Moviepy - video ready /content/drive/MyDrive/PumpkinSeeds/datasource/dataSignVideos/my_7290.mp4\n",
            "Video segment saved to /content/drive/MyDrive/PumpkinSeeds/datasource/dataSignVideos/my_7290.mp4\n",
            "Downloaded: Unit  1 vocabulary part 1 successfully to /content/drive/MyDrive/PumpkinSeeds/datasource/dataSignVideos/\n",
            "Moviepy - Building video /content/drive/MyDrive/PumpkinSeeds/datasource/dataSignVideos/we_7308.mp4.\n",
            "MoviePy - Writing audio in we_7308TEMP_MPY_wvf_snd.mp4\n"
          ]
        },
        {
          "output_type": "stream",
          "name": "stderr",
          "text": []
        },
        {
          "output_type": "stream",
          "name": "stdout",
          "text": [
            "MoviePy - Done.\n",
            "Moviepy - Writing video /content/drive/MyDrive/PumpkinSeeds/datasource/dataSignVideos/we_7308.mp4\n",
            "\n"
          ]
        },
        {
          "output_type": "stream",
          "name": "stderr",
          "text": []
        },
        {
          "output_type": "stream",
          "name": "stdout",
          "text": [
            "Moviepy - Done !\n",
            "Moviepy - video ready /content/drive/MyDrive/PumpkinSeeds/datasource/dataSignVideos/we_7308.mp4\n",
            "Video segment saved to /content/drive/MyDrive/PumpkinSeeds/datasource/dataSignVideos/we_7308.mp4\n",
            "Downloaded: Unit  1 vocabulary part 1 successfully to /content/drive/MyDrive/PumpkinSeeds/datasource/dataSignVideos/\n",
            "Moviepy - Building video /content/drive/MyDrive/PumpkinSeeds/datasource/dataSignVideos/we_7309.mp4.\n",
            "MoviePy - Writing audio in we_7309TEMP_MPY_wvf_snd.mp4\n"
          ]
        },
        {
          "output_type": "stream",
          "name": "stderr",
          "text": []
        },
        {
          "output_type": "stream",
          "name": "stdout",
          "text": [
            "MoviePy - Done.\n",
            "Moviepy - Writing video /content/drive/MyDrive/PumpkinSeeds/datasource/dataSignVideos/we_7309.mp4\n",
            "\n"
          ]
        },
        {
          "output_type": "stream",
          "name": "stderr",
          "text": []
        },
        {
          "output_type": "stream",
          "name": "stdout",
          "text": [
            "Moviepy - Done !\n",
            "Moviepy - video ready /content/drive/MyDrive/PumpkinSeeds/datasource/dataSignVideos/we_7309.mp4\n",
            "Video segment saved to /content/drive/MyDrive/PumpkinSeeds/datasource/dataSignVideos/we_7309.mp4\n",
            "Downloaded: Unit  1 vocabulary part 1 successfully to /content/drive/MyDrive/PumpkinSeeds/datasource/dataSignVideos/\n",
            "Moviepy - Building video /content/drive/MyDrive/PumpkinSeeds/datasource/dataSignVideos/you_7315.mp4.\n",
            "MoviePy - Writing audio in you_7315TEMP_MPY_wvf_snd.mp4\n"
          ]
        },
        {
          "output_type": "stream",
          "name": "stderr",
          "text": []
        },
        {
          "output_type": "stream",
          "name": "stdout",
          "text": [
            "MoviePy - Done.\n",
            "Moviepy - Writing video /content/drive/MyDrive/PumpkinSeeds/datasource/dataSignVideos/you_7315.mp4\n",
            "\n"
          ]
        },
        {
          "output_type": "stream",
          "name": "stderr",
          "text": []
        },
        {
          "output_type": "stream",
          "name": "stdout",
          "text": [
            "Moviepy - Done !\n",
            "Moviepy - video ready /content/drive/MyDrive/PumpkinSeeds/datasource/dataSignVideos/you_7315.mp4\n",
            "Video segment saved to /content/drive/MyDrive/PumpkinSeeds/datasource/dataSignVideos/you_7315.mp4\n",
            "An error occurred: fDZRiFwsN4g is unavailable\n",
            "Downloaded: Relationships Vocabulary - ASL successfully to /content/drive/MyDrive/PumpkinSeeds/datasource/dataSignVideos/\n",
            "Moviepy - Building video /content/drive/MyDrive/PumpkinSeeds/datasource/dataSignVideos/love_7760.mp4.\n",
            "MoviePy - Writing audio in love_7760TEMP_MPY_wvf_snd.mp4\n"
          ]
        },
        {
          "output_type": "stream",
          "name": "stderr",
          "text": []
        },
        {
          "output_type": "stream",
          "name": "stdout",
          "text": [
            "MoviePy - Done.\n",
            "Moviepy - Writing video /content/drive/MyDrive/PumpkinSeeds/datasource/dataSignVideos/love_7760.mp4\n",
            "\n"
          ]
        },
        {
          "output_type": "stream",
          "name": "stderr",
          "text": []
        },
        {
          "output_type": "stream",
          "name": "stdout",
          "text": [
            "Moviepy - Done !\n",
            "Moviepy - video ready /content/drive/MyDrive/PumpkinSeeds/datasource/dataSignVideos/love_7760.mp4\n",
            "Video segment saved to /content/drive/MyDrive/PumpkinSeeds/datasource/dataSignVideos/love_7760.mp4\n",
            "Downloaded: Relationships Vocabulary - ASL successfully to /content/drive/MyDrive/PumpkinSeeds/datasource/dataSignVideos/\n",
            "Moviepy - Building video /content/drive/MyDrive/PumpkinSeeds/datasource/dataSignVideos/love_7761.mp4.\n",
            "MoviePy - Writing audio in love_7761TEMP_MPY_wvf_snd.mp4\n"
          ]
        },
        {
          "output_type": "stream",
          "name": "stderr",
          "text": []
        },
        {
          "output_type": "stream",
          "name": "stdout",
          "text": [
            "MoviePy - Done.\n",
            "Moviepy - Writing video /content/drive/MyDrive/PumpkinSeeds/datasource/dataSignVideos/love_7761.mp4\n",
            "\n"
          ]
        },
        {
          "output_type": "stream",
          "name": "stderr",
          "text": []
        },
        {
          "output_type": "stream",
          "name": "stdout",
          "text": [
            "Moviepy - Done !\n",
            "Moviepy - video ready /content/drive/MyDrive/PumpkinSeeds/datasource/dataSignVideos/love_7761.mp4\n",
            "Video segment saved to /content/drive/MyDrive/PumpkinSeeds/datasource/dataSignVideos/love_7761.mp4\n",
            "Downloaded: SN Unit 1 Video Vocab Review successfully to /content/drive/MyDrive/PumpkinSeeds/datasource/dataSignVideos/\n",
            "Moviepy - Building video /content/drive/MyDrive/PumpkinSeeds/datasource/dataSignVideos/hello_7768.mp4.\n",
            "MoviePy - Writing audio in hello_7768TEMP_MPY_wvf_snd.mp4\n"
          ]
        },
        {
          "output_type": "stream",
          "name": "stderr",
          "text": []
        },
        {
          "output_type": "stream",
          "name": "stdout",
          "text": [
            "MoviePy - Done.\n",
            "Moviepy - Writing video /content/drive/MyDrive/PumpkinSeeds/datasource/dataSignVideos/hello_7768.mp4\n",
            "\n"
          ]
        },
        {
          "output_type": "stream",
          "name": "stderr",
          "text": []
        },
        {
          "output_type": "stream",
          "name": "stdout",
          "text": [
            "Moviepy - Done !\n",
            "Moviepy - video ready /content/drive/MyDrive/PumpkinSeeds/datasource/dataSignVideos/hello_7768.mp4\n",
            "Video segment saved to /content/drive/MyDrive/PumpkinSeeds/datasource/dataSignVideos/hello_7768.mp4\n",
            "Downloaded: SN Unit 1 Video Vocab Review successfully to /content/drive/MyDrive/PumpkinSeeds/datasource/dataSignVideos/\n",
            "Moviepy - Building video /content/drive/MyDrive/PumpkinSeeds/datasource/dataSignVideos/you_7770.mp4.\n",
            "MoviePy - Writing audio in you_7770TEMP_MPY_wvf_snd.mp4\n"
          ]
        },
        {
          "output_type": "stream",
          "name": "stderr",
          "text": []
        },
        {
          "output_type": "stream",
          "name": "stdout",
          "text": [
            "MoviePy - Done.\n",
            "Moviepy - Writing video /content/drive/MyDrive/PumpkinSeeds/datasource/dataSignVideos/you_7770.mp4\n",
            "\n"
          ]
        },
        {
          "output_type": "stream",
          "name": "stderr",
          "text": []
        },
        {
          "output_type": "stream",
          "name": "stdout",
          "text": [
            "Moviepy - Done !\n",
            "Moviepy - video ready /content/drive/MyDrive/PumpkinSeeds/datasource/dataSignVideos/you_7770.mp4\n",
            "Video segment saved to /content/drive/MyDrive/PumpkinSeeds/datasource/dataSignVideos/you_7770.mp4\n",
            "Downloaded: SN Unit 1 Video Vocab Review successfully to /content/drive/MyDrive/PumpkinSeeds/datasource/dataSignVideos/\n",
            "Moviepy - Building video /content/drive/MyDrive/PumpkinSeeds/datasource/dataSignVideos/we_7773.mp4.\n",
            "MoviePy - Writing audio in we_7773TEMP_MPY_wvf_snd.mp4\n"
          ]
        },
        {
          "output_type": "stream",
          "name": "stderr",
          "text": []
        },
        {
          "output_type": "stream",
          "name": "stdout",
          "text": [
            "MoviePy - Done.\n",
            "Moviepy - Writing video /content/drive/MyDrive/PumpkinSeeds/datasource/dataSignVideos/we_7773.mp4\n",
            "\n"
          ]
        },
        {
          "output_type": "stream",
          "name": "stderr",
          "text": []
        },
        {
          "output_type": "stream",
          "name": "stdout",
          "text": [
            "Moviepy - Done !\n",
            "Moviepy - video ready /content/drive/MyDrive/PumpkinSeeds/datasource/dataSignVideos/we_7773.mp4\n",
            "Video segment saved to /content/drive/MyDrive/PumpkinSeeds/datasource/dataSignVideos/we_7773.mp4\n",
            "Downloaded: SN Unit 1 Video Vocab Review successfully to /content/drive/MyDrive/PumpkinSeeds/datasource/dataSignVideos/\n",
            "Moviepy - Building video /content/drive/MyDrive/PumpkinSeeds/datasource/dataSignVideos/my_7776.mp4.\n",
            "MoviePy - Writing audio in my_7776TEMP_MPY_wvf_snd.mp4\n"
          ]
        },
        {
          "output_type": "stream",
          "name": "stderr",
          "text": []
        },
        {
          "output_type": "stream",
          "name": "stdout",
          "text": [
            "MoviePy - Done.\n",
            "Moviepy - Writing video /content/drive/MyDrive/PumpkinSeeds/datasource/dataSignVideos/my_7776.mp4\n",
            "\n"
          ]
        },
        {
          "output_type": "stream",
          "name": "stderr",
          "text": []
        },
        {
          "output_type": "stream",
          "name": "stdout",
          "text": [
            "Moviepy - Done !\n",
            "Moviepy - video ready /content/drive/MyDrive/PumpkinSeeds/datasource/dataSignVideos/my_7776.mp4\n",
            "Video segment saved to /content/drive/MyDrive/PumpkinSeeds/datasource/dataSignVideos/my_7776.mp4\n",
            "Downloaded: SWIC Community Ed - Class Two successfully to /content/drive/MyDrive/PumpkinSeeds/datasource/dataSignVideos/\n",
            "Moviepy - Building video /content/drive/MyDrive/PumpkinSeeds/datasource/dataSignVideos/today_7942.mp4.\n",
            "MoviePy - Writing audio in today_7942TEMP_MPY_wvf_snd.mp4\n"
          ]
        },
        {
          "output_type": "stream",
          "name": "stderr",
          "text": []
        },
        {
          "output_type": "stream",
          "name": "stdout",
          "text": [
            "MoviePy - Done.\n",
            "Moviepy - Writing video /content/drive/MyDrive/PumpkinSeeds/datasource/dataSignVideos/today_7942.mp4\n",
            "\n"
          ]
        },
        {
          "output_type": "stream",
          "name": "stderr",
          "text": []
        },
        {
          "output_type": "stream",
          "name": "stdout",
          "text": [
            "Moviepy - Done !\n",
            "Moviepy - video ready /content/drive/MyDrive/PumpkinSeeds/datasource/dataSignVideos/today_7942.mp4\n",
            "Video segment saved to /content/drive/MyDrive/PumpkinSeeds/datasource/dataSignVideos/today_7942.mp4\n",
            "An error occurred: 13OPrjZT9lo is unavailable\n",
            "Downloaded: Mastering ASL Unit 4 Vocabulary signed by Dr. Wooten successfully to /content/drive/MyDrive/PumpkinSeeds/datasource/dataSignVideos/\n",
            "Moviepy - Building video /content/drive/MyDrive/PumpkinSeeds/datasource/dataSignVideos/love_8286.mp4.\n",
            "MoviePy - Writing audio in love_8286TEMP_MPY_wvf_snd.mp4\n"
          ]
        },
        {
          "output_type": "stream",
          "name": "stderr",
          "text": []
        },
        {
          "output_type": "stream",
          "name": "stdout",
          "text": [
            "MoviePy - Done.\n",
            "Moviepy - Writing video /content/drive/MyDrive/PumpkinSeeds/datasource/dataSignVideos/love_8286.mp4\n",
            "\n"
          ]
        },
        {
          "output_type": "stream",
          "name": "stderr",
          "text": []
        },
        {
          "output_type": "stream",
          "name": "stdout",
          "text": [
            "Moviepy - Done !\n",
            "Moviepy - video ready /content/drive/MyDrive/PumpkinSeeds/datasource/dataSignVideos/love_8286.mp4\n",
            "Video segment saved to /content/drive/MyDrive/PumpkinSeeds/datasource/dataSignVideos/love_8286.mp4\n",
            "Downloaded: Mastering ASL Unit 4 Vocabulary signed by Dr. Wooten successfully to /content/drive/MyDrive/PumpkinSeeds/datasource/dataSignVideos/\n",
            "Moviepy - Building video /content/drive/MyDrive/PumpkinSeeds/datasource/dataSignVideos/love_8287.mp4.\n",
            "MoviePy - Writing audio in love_8287TEMP_MPY_wvf_snd.mp4\n"
          ]
        },
        {
          "output_type": "stream",
          "name": "stderr",
          "text": []
        },
        {
          "output_type": "stream",
          "name": "stdout",
          "text": [
            "MoviePy - Done.\n",
            "Moviepy - Writing video /content/drive/MyDrive/PumpkinSeeds/datasource/dataSignVideos/love_8287.mp4\n",
            "\n"
          ]
        },
        {
          "output_type": "stream",
          "name": "stderr",
          "text": []
        },
        {
          "output_type": "stream",
          "name": "stdout",
          "text": [
            "Moviepy - Done !\n",
            "Moviepy - video ready /content/drive/MyDrive/PumpkinSeeds/datasource/dataSignVideos/love_8287.mp4\n",
            "Video segment saved to /content/drive/MyDrive/PumpkinSeeds/datasource/dataSignVideos/love_8287.mp4\n",
            "Downloaded: Learn American Sign Language: Basic Vocabulary successfully to /content/drive/MyDrive/PumpkinSeeds/datasource/dataSignVideos/\n",
            "Moviepy - Building video /content/drive/MyDrive/PumpkinSeeds/datasource/dataSignVideos/who_8397.mp4.\n",
            "MoviePy - Writing audio in who_8397TEMP_MPY_wvf_snd.mp4\n"
          ]
        },
        {
          "output_type": "stream",
          "name": "stderr",
          "text": []
        },
        {
          "output_type": "stream",
          "name": "stdout",
          "text": [
            "MoviePy - Done.\n",
            "Moviepy - Writing video /content/drive/MyDrive/PumpkinSeeds/datasource/dataSignVideos/who_8397.mp4\n",
            "\n"
          ]
        },
        {
          "output_type": "stream",
          "name": "stderr",
          "text": []
        },
        {
          "output_type": "stream",
          "name": "stdout",
          "text": [
            "Moviepy - Done !\n",
            "Moviepy - video ready /content/drive/MyDrive/PumpkinSeeds/datasource/dataSignVideos/who_8397.mp4\n",
            "Video segment saved to /content/drive/MyDrive/PumpkinSeeds/datasource/dataSignVideos/who_8397.mp4\n",
            "Downloaded: Learn American Sign Language: Basic Vocabulary successfully to /content/drive/MyDrive/PumpkinSeeds/datasource/dataSignVideos/\n",
            "Moviepy - Building video /content/drive/MyDrive/PumpkinSeeds/datasource/dataSignVideos/how_8399.mp4.\n",
            "MoviePy - Writing audio in how_8399TEMP_MPY_wvf_snd.mp4\n"
          ]
        },
        {
          "output_type": "stream",
          "name": "stderr",
          "text": []
        },
        {
          "output_type": "stream",
          "name": "stdout",
          "text": [
            "MoviePy - Done.\n",
            "Moviepy - Writing video /content/drive/MyDrive/PumpkinSeeds/datasource/dataSignVideos/how_8399.mp4\n",
            "\n"
          ]
        },
        {
          "output_type": "stream",
          "name": "stderr",
          "text": []
        },
        {
          "output_type": "stream",
          "name": "stdout",
          "text": [
            "Moviepy - Done !\n",
            "Moviepy - video ready /content/drive/MyDrive/PumpkinSeeds/datasource/dataSignVideos/how_8399.mp4\n",
            "Video segment saved to /content/drive/MyDrive/PumpkinSeeds/datasource/dataSignVideos/how_8399.mp4\n",
            "Downloaded: Learn American Sign Language: Basic Vocabulary successfully to /content/drive/MyDrive/PumpkinSeeds/datasource/dataSignVideos/\n",
            "Moviepy - Building video /content/drive/MyDrive/PumpkinSeeds/datasource/dataSignVideos/cooking_8460.mp4.\n",
            "MoviePy - Writing audio in cooking_8460TEMP_MPY_wvf_snd.mp4\n"
          ]
        },
        {
          "output_type": "stream",
          "name": "stderr",
          "text": []
        },
        {
          "output_type": "stream",
          "name": "stdout",
          "text": [
            "MoviePy - Done.\n",
            "Moviepy - Writing video /content/drive/MyDrive/PumpkinSeeds/datasource/dataSignVideos/cooking_8460.mp4\n",
            "\n"
          ]
        },
        {
          "output_type": "stream",
          "name": "stderr",
          "text": []
        },
        {
          "output_type": "stream",
          "name": "stdout",
          "text": [
            "Moviepy - Done !\n",
            "Moviepy - video ready /content/drive/MyDrive/PumpkinSeeds/datasource/dataSignVideos/cooking_8460.mp4\n",
            "Video segment saved to /content/drive/MyDrive/PumpkinSeeds/datasource/dataSignVideos/cooking_8460.mp4\n",
            "Downloaded: Beginner Vocabulary successfully to /content/drive/MyDrive/PumpkinSeeds/datasource/dataSignVideos/\n",
            "Moviepy - Building video /content/drive/MyDrive/PumpkinSeeds/datasource/dataSignVideos/my_8498.mp4.\n",
            "MoviePy - Writing audio in my_8498TEMP_MPY_wvf_snd.mp4\n"
          ]
        },
        {
          "output_type": "stream",
          "name": "stderr",
          "text": []
        },
        {
          "output_type": "stream",
          "name": "stdout",
          "text": [
            "MoviePy - Done.\n",
            "Moviepy - Writing video /content/drive/MyDrive/PumpkinSeeds/datasource/dataSignVideos/my_8498.mp4\n",
            "\n"
          ]
        },
        {
          "output_type": "stream",
          "name": "stderr",
          "text": []
        },
        {
          "output_type": "stream",
          "name": "stdout",
          "text": [
            "Moviepy - Done !\n",
            "Moviepy - video ready /content/drive/MyDrive/PumpkinSeeds/datasource/dataSignVideos/my_8498.mp4\n",
            "Video segment saved to /content/drive/MyDrive/PumpkinSeeds/datasource/dataSignVideos/my_8498.mp4\n",
            "Downloaded: Beginner Vocabulary successfully to /content/drive/MyDrive/PumpkinSeeds/datasource/dataSignVideos/\n",
            "Moviepy - Building video /content/drive/MyDrive/PumpkinSeeds/datasource/dataSignVideos/my_8499.mp4.\n",
            "MoviePy - Writing audio in my_8499TEMP_MPY_wvf_snd.mp4\n"
          ]
        },
        {
          "output_type": "stream",
          "name": "stderr",
          "text": []
        },
        {
          "output_type": "stream",
          "name": "stdout",
          "text": [
            "MoviePy - Done.\n",
            "Moviepy - Writing video /content/drive/MyDrive/PumpkinSeeds/datasource/dataSignVideos/my_8499.mp4\n",
            "\n"
          ]
        },
        {
          "output_type": "stream",
          "name": "stderr",
          "text": []
        },
        {
          "output_type": "stream",
          "name": "stdout",
          "text": [
            "Moviepy - Done !\n",
            "Moviepy - video ready /content/drive/MyDrive/PumpkinSeeds/datasource/dataSignVideos/my_8499.mp4\n",
            "Video segment saved to /content/drive/MyDrive/PumpkinSeeds/datasource/dataSignVideos/my_8499.mp4\n",
            "Downloaded: Beginner Vocabulary successfully to /content/drive/MyDrive/PumpkinSeeds/datasource/dataSignVideos/\n",
            "Moviepy - Building video /content/drive/MyDrive/PumpkinSeeds/datasource/dataSignVideos/my_8500.mp4.\n",
            "MoviePy - Writing audio in my_8500TEMP_MPY_wvf_snd.mp4\n"
          ]
        },
        {
          "output_type": "stream",
          "name": "stderr",
          "text": []
        },
        {
          "output_type": "stream",
          "name": "stdout",
          "text": [
            "MoviePy - Done.\n",
            "Moviepy - Writing video /content/drive/MyDrive/PumpkinSeeds/datasource/dataSignVideos/my_8500.mp4\n",
            "\n"
          ]
        },
        {
          "output_type": "stream",
          "name": "stderr",
          "text": []
        },
        {
          "output_type": "stream",
          "name": "stdout",
          "text": [
            "Moviepy - Done !\n",
            "Moviepy - video ready /content/drive/MyDrive/PumpkinSeeds/datasource/dataSignVideos/my_8500.mp4\n",
            "Video segment saved to /content/drive/MyDrive/PumpkinSeeds/datasource/dataSignVideos/my_8500.mp4\n",
            "Downloaded: Beginner Vocabulary successfully to /content/drive/MyDrive/PumpkinSeeds/datasource/dataSignVideos/\n",
            "Moviepy - Building video /content/drive/MyDrive/PumpkinSeeds/datasource/dataSignVideos/you_8501.mp4.\n",
            "MoviePy - Writing audio in you_8501TEMP_MPY_wvf_snd.mp4\n"
          ]
        },
        {
          "output_type": "stream",
          "name": "stderr",
          "text": []
        },
        {
          "output_type": "stream",
          "name": "stdout",
          "text": [
            "MoviePy - Done.\n",
            "Moviepy - Writing video /content/drive/MyDrive/PumpkinSeeds/datasource/dataSignVideos/you_8501.mp4\n",
            "\n"
          ]
        },
        {
          "output_type": "stream",
          "name": "stderr",
          "text": []
        },
        {
          "output_type": "stream",
          "name": "stdout",
          "text": [
            "Moviepy - Done !\n",
            "Moviepy - video ready /content/drive/MyDrive/PumpkinSeeds/datasource/dataSignVideos/you_8501.mp4\n",
            "Video segment saved to /content/drive/MyDrive/PumpkinSeeds/datasource/dataSignVideos/you_8501.mp4\n",
            "Downloaded: Beginner Vocabulary successfully to /content/drive/MyDrive/PumpkinSeeds/datasource/dataSignVideos/\n",
            "Moviepy - Building video /content/drive/MyDrive/PumpkinSeeds/datasource/dataSignVideos/who_8518.mp4.\n",
            "MoviePy - Writing audio in who_8518TEMP_MPY_wvf_snd.mp4\n"
          ]
        },
        {
          "output_type": "stream",
          "name": "stderr",
          "text": []
        },
        {
          "output_type": "stream",
          "name": "stdout",
          "text": [
            "MoviePy - Done.\n",
            "Moviepy - Writing video /content/drive/MyDrive/PumpkinSeeds/datasource/dataSignVideos/who_8518.mp4\n",
            "\n"
          ]
        },
        {
          "output_type": "stream",
          "name": "stderr",
          "text": []
        },
        {
          "output_type": "stream",
          "name": "stdout",
          "text": [
            "Moviepy - Done !\n",
            "Moviepy - video ready /content/drive/MyDrive/PumpkinSeeds/datasource/dataSignVideos/who_8518.mp4\n",
            "Video segment saved to /content/drive/MyDrive/PumpkinSeeds/datasource/dataSignVideos/who_8518.mp4\n",
            "Downloaded: Beginner Vocabulary successfully to /content/drive/MyDrive/PumpkinSeeds/datasource/dataSignVideos/\n",
            "Moviepy - Building video /content/drive/MyDrive/PumpkinSeeds/datasource/dataSignVideos/how_8522.mp4.\n",
            "MoviePy - Writing audio in how_8522TEMP_MPY_wvf_snd.mp4\n"
          ]
        },
        {
          "output_type": "stream",
          "name": "stderr",
          "text": []
        },
        {
          "output_type": "stream",
          "name": "stdout",
          "text": [
            "MoviePy - Done.\n",
            "Moviepy - Writing video /content/drive/MyDrive/PumpkinSeeds/datasource/dataSignVideos/how_8522.mp4\n",
            "\n"
          ]
        },
        {
          "output_type": "stream",
          "name": "stderr",
          "text": []
        },
        {
          "output_type": "stream",
          "name": "stdout",
          "text": [
            "Moviepy - Done !\n",
            "Moviepy - video ready /content/drive/MyDrive/PumpkinSeeds/datasource/dataSignVideos/how_8522.mp4\n",
            "Video segment saved to /content/drive/MyDrive/PumpkinSeeds/datasource/dataSignVideos/how_8522.mp4\n",
            "Downloaded: Beginner Vocabulary successfully to /content/drive/MyDrive/PumpkinSeeds/datasource/dataSignVideos/\n",
            "Moviepy - Building video /content/drive/MyDrive/PumpkinSeeds/datasource/dataSignVideos/how_8523.mp4.\n",
            "MoviePy - Writing audio in how_8523TEMP_MPY_wvf_snd.mp4\n"
          ]
        },
        {
          "output_type": "stream",
          "name": "stderr",
          "text": []
        },
        {
          "output_type": "stream",
          "name": "stdout",
          "text": [
            "MoviePy - Done.\n",
            "Moviepy - Writing video /content/drive/MyDrive/PumpkinSeeds/datasource/dataSignVideos/how_8523.mp4\n",
            "\n"
          ]
        },
        {
          "output_type": "stream",
          "name": "stderr",
          "text": []
        },
        {
          "output_type": "stream",
          "name": "stdout",
          "text": [
            "Moviepy - Done !\n",
            "Moviepy - video ready /content/drive/MyDrive/PumpkinSeeds/datasource/dataSignVideos/how_8523.mp4\n",
            "Video segment saved to /content/drive/MyDrive/PumpkinSeeds/datasource/dataSignVideos/how_8523.mp4\n",
            "Downloaded: I-I-I!-[all-about-me/self-centered, EGO]-[idiomatic] successfully to /content/drive/MyDrive/PumpkinSeeds/datasource/dataSignVideos/\n",
            "Moviepy - Building video /content/drive/MyDrive/PumpkinSeeds/datasource/dataSignVideos/i_8548.mp4.\n",
            "MoviePy - Writing audio in i_8548TEMP_MPY_wvf_snd.mp4\n"
          ]
        },
        {
          "output_type": "stream",
          "name": "stderr",
          "text": []
        },
        {
          "output_type": "stream",
          "name": "stdout",
          "text": [
            "MoviePy - Done.\n",
            "Moviepy - Writing video /content/drive/MyDrive/PumpkinSeeds/datasource/dataSignVideos/i_8548.mp4\n",
            "\n"
          ]
        },
        {
          "output_type": "stream",
          "name": "stderr",
          "text": []
        },
        {
          "output_type": "stream",
          "name": "stdout",
          "text": [
            "Moviepy - Done !\n",
            "Moviepy - video ready /content/drive/MyDrive/PumpkinSeeds/datasource/dataSignVideos/i_8548.mp4\n",
            "Video segment saved to /content/drive/MyDrive/PumpkinSeeds/datasource/dataSignVideos/i_8548.mp4\n",
            "Downloaded: who successfully to /content/drive/MyDrive/PumpkinSeeds/datasource/dataSignVideos/\n",
            "Moviepy - Building video /content/drive/MyDrive/PumpkinSeeds/datasource/dataSignVideos/who_8679.mp4.\n",
            "MoviePy - Writing audio in who_8679TEMP_MPY_wvf_snd.mp4\n"
          ]
        },
        {
          "output_type": "stream",
          "name": "stderr",
          "text": []
        },
        {
          "output_type": "stream",
          "name": "stdout",
          "text": [
            "MoviePy - Done.\n",
            "Moviepy - Writing video /content/drive/MyDrive/PumpkinSeeds/datasource/dataSignVideos/who_8679.mp4\n",
            "\n"
          ]
        },
        {
          "output_type": "stream",
          "name": "stderr",
          "text": []
        },
        {
          "output_type": "stream",
          "name": "stdout",
          "text": [
            "Moviepy - Done !\n",
            "Moviepy - video ready /content/drive/MyDrive/PumpkinSeeds/datasource/dataSignVideos/who_8679.mp4\n",
            "Video segment saved to /content/drive/MyDrive/PumpkinSeeds/datasource/dataSignVideos/who_8679.mp4\n",
            "Downloaded: who successfully to /content/drive/MyDrive/PumpkinSeeds/datasource/dataSignVideos/\n",
            "Moviepy - Building video /content/drive/MyDrive/PumpkinSeeds/datasource/dataSignVideos/who_8680.mp4.\n",
            "MoviePy - Writing audio in who_8680TEMP_MPY_wvf_snd.mp4\n"
          ]
        },
        {
          "output_type": "stream",
          "name": "stderr",
          "text": []
        },
        {
          "output_type": "stream",
          "name": "stdout",
          "text": [
            "MoviePy - Done.\n",
            "Moviepy - Writing video /content/drive/MyDrive/PumpkinSeeds/datasource/dataSignVideos/who_8680.mp4\n",
            "\n"
          ]
        },
        {
          "output_type": "stream",
          "name": "stderr",
          "text": []
        },
        {
          "output_type": "stream",
          "name": "stdout",
          "text": [
            "Moviepy - Done !\n",
            "Moviepy - video ready /content/drive/MyDrive/PumpkinSeeds/datasource/dataSignVideos/who_8680.mp4\n",
            "Video segment saved to /content/drive/MyDrive/PumpkinSeeds/datasource/dataSignVideos/who_8680.mp4\n",
            "Downloaded: who successfully to /content/drive/MyDrive/PumpkinSeeds/datasource/dataSignVideos/\n",
            "Moviepy - Building video /content/drive/MyDrive/PumpkinSeeds/datasource/dataSignVideos/who_8681.mp4.\n",
            "MoviePy - Writing audio in who_8681TEMP_MPY_wvf_snd.mp4\n"
          ]
        },
        {
          "output_type": "stream",
          "name": "stderr",
          "text": []
        },
        {
          "output_type": "stream",
          "name": "stdout",
          "text": [
            "MoviePy - Done.\n",
            "Moviepy - Writing video /content/drive/MyDrive/PumpkinSeeds/datasource/dataSignVideos/who_8681.mp4\n",
            "\n"
          ]
        },
        {
          "output_type": "stream",
          "name": "stderr",
          "text": []
        },
        {
          "output_type": "stream",
          "name": "stdout",
          "text": [
            "Moviepy - Done !\n",
            "Moviepy - video ready /content/drive/MyDrive/PumpkinSeeds/datasource/dataSignVideos/who_8681.mp4\n",
            "Video segment saved to /content/drive/MyDrive/PumpkinSeeds/datasource/dataSignVideos/who_8681.mp4\n",
            "Downloaded: ASL School Signs - Classes and subjects successfully to /content/drive/MyDrive/PumpkinSeeds/datasource/dataSignVideos/\n",
            "Moviepy - Building video /content/drive/MyDrive/PumpkinSeeds/datasource/dataSignVideos/cooking_8816.mp4.\n",
            "MoviePy - Writing audio in cooking_8816TEMP_MPY_wvf_snd.mp4\n"
          ]
        },
        {
          "output_type": "stream",
          "name": "stderr",
          "text": []
        },
        {
          "output_type": "stream",
          "name": "stdout",
          "text": [
            "MoviePy - Done.\n",
            "Moviepy - Writing video /content/drive/MyDrive/PumpkinSeeds/datasource/dataSignVideos/cooking_8816.mp4\n",
            "\n"
          ]
        },
        {
          "output_type": "stream",
          "name": "stderr",
          "text": []
        },
        {
          "output_type": "stream",
          "name": "stdout",
          "text": [
            "Moviepy - Done !\n",
            "Moviepy - video ready /content/drive/MyDrive/PumpkinSeeds/datasource/dataSignVideos/cooking_8816.mp4\n",
            "Video segment saved to /content/drive/MyDrive/PumpkinSeeds/datasource/dataSignVideos/cooking_8816.mp4\n",
            "An error occurred: wRoGQu75wzw is unavailable\n",
            "An error occurred: wRoGQu75wzw is unavailable\n",
            "An error occurred: wRoGQu75wzw is unavailable\n",
            "Downloaded: Making Introductions Vocabulary | ASL - American Sign Language successfully to /content/drive/MyDrive/PumpkinSeeds/datasource/dataSignVideos/\n",
            "Moviepy - Building video /content/drive/MyDrive/PumpkinSeeds/datasource/dataSignVideos/my_9089.mp4.\n",
            "MoviePy - Writing audio in my_9089TEMP_MPY_wvf_snd.mp4\n"
          ]
        },
        {
          "output_type": "stream",
          "name": "stderr",
          "text": []
        },
        {
          "output_type": "stream",
          "name": "stdout",
          "text": [
            "MoviePy - Done.\n",
            "Moviepy - Writing video /content/drive/MyDrive/PumpkinSeeds/datasource/dataSignVideos/my_9089.mp4\n",
            "\n"
          ]
        },
        {
          "output_type": "stream",
          "name": "stderr",
          "text": []
        },
        {
          "output_type": "stream",
          "name": "stdout",
          "text": [
            "Moviepy - Done !\n",
            "Moviepy - video ready /content/drive/MyDrive/PumpkinSeeds/datasource/dataSignVideos/my_9089.mp4\n",
            "Video segment saved to /content/drive/MyDrive/PumpkinSeeds/datasource/dataSignVideos/my_9089.mp4\n",
            "Downloaded: HOW successfully to /content/drive/MyDrive/PumpkinSeeds/datasource/dataSignVideos/\n",
            "Moviepy - Building video /content/drive/MyDrive/PumpkinSeeds/datasource/dataSignVideos/how_9105.mp4.\n",
            "MoviePy - Writing audio in how_9105TEMP_MPY_wvf_snd.mp4\n"
          ]
        },
        {
          "output_type": "stream",
          "name": "stderr",
          "text": []
        },
        {
          "output_type": "stream",
          "name": "stdout",
          "text": [
            "MoviePy - Done.\n",
            "Moviepy - Writing video /content/drive/MyDrive/PumpkinSeeds/datasource/dataSignVideos/how_9105.mp4\n",
            "\n"
          ]
        },
        {
          "output_type": "stream",
          "name": "stderr",
          "text": []
        },
        {
          "output_type": "stream",
          "name": "stdout",
          "text": [
            "Moviepy - Done !\n",
            "Moviepy - video ready /content/drive/MyDrive/PumpkinSeeds/datasource/dataSignVideos/how_9105.mp4\n",
            "Video segment saved to /content/drive/MyDrive/PumpkinSeeds/datasource/dataSignVideos/how_9105.mp4\n",
            "An error occurred: sEjaTTIdHhk is unavailable\n",
            "An error occurred: 19JJXcGUvBo requires login to view, YouTube reason: Please sign in\n",
            "Downloaded: My Mine successfully to /content/drive/MyDrive/PumpkinSeeds/datasource/dataSignVideos/\n",
            "Moviepy - Building video /content/drive/MyDrive/PumpkinSeeds/datasource/dataSignVideos/my_9180.mp4.\n",
            "MoviePy - Writing audio in my_9180TEMP_MPY_wvf_snd.mp4\n"
          ]
        },
        {
          "output_type": "stream",
          "name": "stderr",
          "text": []
        },
        {
          "output_type": "stream",
          "name": "stdout",
          "text": [
            "MoviePy - Done.\n",
            "Moviepy - Writing video /content/drive/MyDrive/PumpkinSeeds/datasource/dataSignVideos/my_9180.mp4\n",
            "\n"
          ]
        },
        {
          "output_type": "stream",
          "name": "stderr",
          "text": []
        },
        {
          "output_type": "stream",
          "name": "stdout",
          "text": [
            "Moviepy - Done !\n",
            "Moviepy - video ready /content/drive/MyDrive/PumpkinSeeds/datasource/dataSignVideos/my_9180.mp4\n",
            "Video segment saved to /content/drive/MyDrive/PumpkinSeeds/datasource/dataSignVideos/my_9180.mp4\n",
            "Downloaded: My Mine successfully to /content/drive/MyDrive/PumpkinSeeds/datasource/dataSignVideos/\n",
            "Moviepy - Building video /content/drive/MyDrive/PumpkinSeeds/datasource/dataSignVideos/my_9181.mp4.\n",
            "MoviePy - Writing audio in my_9181TEMP_MPY_wvf_snd.mp4\n"
          ]
        },
        {
          "output_type": "stream",
          "name": "stderr",
          "text": []
        },
        {
          "output_type": "stream",
          "name": "stdout",
          "text": [
            "MoviePy - Done.\n",
            "Moviepy - Writing video /content/drive/MyDrive/PumpkinSeeds/datasource/dataSignVideos/my_9181.mp4\n",
            "\n"
          ]
        },
        {
          "output_type": "stream",
          "name": "stderr",
          "text": []
        },
        {
          "output_type": "stream",
          "name": "stdout",
          "text": [
            "Moviepy - Done !\n",
            "Moviepy - video ready /content/drive/MyDrive/PumpkinSeeds/datasource/dataSignVideos/my_9181.mp4\n",
            "Video segment saved to /content/drive/MyDrive/PumpkinSeeds/datasource/dataSignVideos/my_9181.mp4\n",
            "Downloaded: ASL Lesson 1 successfully to /content/drive/MyDrive/PumpkinSeeds/datasource/dataSignVideos/\n",
            "Moviepy - Building video /content/drive/MyDrive/PumpkinSeeds/datasource/dataSignVideos/you_9241.mp4.\n",
            "MoviePy - Writing audio in you_9241TEMP_MPY_wvf_snd.mp4\n"
          ]
        },
        {
          "output_type": "stream",
          "name": "stderr",
          "text": []
        },
        {
          "output_type": "stream",
          "name": "stdout",
          "text": [
            "MoviePy - Done.\n",
            "Moviepy - Writing video /content/drive/MyDrive/PumpkinSeeds/datasource/dataSignVideos/you_9241.mp4\n",
            "\n"
          ]
        },
        {
          "output_type": "stream",
          "name": "stderr",
          "text": []
        },
        {
          "output_type": "stream",
          "name": "stdout",
          "text": [
            "Moviepy - Done !\n",
            "Moviepy - video ready /content/drive/MyDrive/PumpkinSeeds/datasource/dataSignVideos/you_9241.mp4\n",
            "Video segment saved to /content/drive/MyDrive/PumpkinSeeds/datasource/dataSignVideos/you_9241.mp4\n",
            "Downloaded: ASL Lesson 1 successfully to /content/drive/MyDrive/PumpkinSeeds/datasource/dataSignVideos/\n",
            "Moviepy - Building video /content/drive/MyDrive/PumpkinSeeds/datasource/dataSignVideos/who_9252.mp4.\n",
            "MoviePy - Writing audio in who_9252TEMP_MPY_wvf_snd.mp4\n"
          ]
        },
        {
          "output_type": "stream",
          "name": "stderr",
          "text": []
        },
        {
          "output_type": "stream",
          "name": "stdout",
          "text": [
            "MoviePy - Done.\n",
            "Moviepy - Writing video /content/drive/MyDrive/PumpkinSeeds/datasource/dataSignVideos/who_9252.mp4\n",
            "\n"
          ]
        },
        {
          "output_type": "stream",
          "name": "stderr",
          "text": []
        },
        {
          "output_type": "stream",
          "name": "stdout",
          "text": [
            "Moviepy - Done !\n",
            "Moviepy - video ready /content/drive/MyDrive/PumpkinSeeds/datasource/dataSignVideos/who_9252.mp4\n",
            "Video segment saved to /content/drive/MyDrive/PumpkinSeeds/datasource/dataSignVideos/who_9252.mp4\n",
            "Downloaded: ASL Lesson 1 successfully to /content/drive/MyDrive/PumpkinSeeds/datasource/dataSignVideos/\n",
            "Moviepy - Building video /content/drive/MyDrive/PumpkinSeeds/datasource/dataSignVideos/how_9257.mp4.\n",
            "MoviePy - Writing audio in how_9257TEMP_MPY_wvf_snd.mp4\n"
          ]
        },
        {
          "output_type": "stream",
          "name": "stderr",
          "text": []
        },
        {
          "output_type": "stream",
          "name": "stdout",
          "text": [
            "MoviePy - Done.\n",
            "Moviepy - Writing video /content/drive/MyDrive/PumpkinSeeds/datasource/dataSignVideos/how_9257.mp4\n",
            "\n"
          ]
        },
        {
          "output_type": "stream",
          "name": "stderr",
          "text": []
        },
        {
          "output_type": "stream",
          "name": "stdout",
          "text": [
            "Moviepy - Done !\n",
            "Moviepy - video ready /content/drive/MyDrive/PumpkinSeeds/datasource/dataSignVideos/how_9257.mp4\n",
            "Video segment saved to /content/drive/MyDrive/PumpkinSeeds/datasource/dataSignVideos/how_9257.mp4\n",
            "Downloaded: ASL Level 1 Unit 2 Vocabulary successfully to /content/drive/MyDrive/PumpkinSeeds/datasource/dataSignVideos/\n",
            "Moviepy - Building video /content/drive/MyDrive/PumpkinSeeds/datasource/dataSignVideos/who_9351.mp4.\n",
            "MoviePy - Writing audio in who_9351TEMP_MPY_wvf_snd.mp4\n"
          ]
        },
        {
          "output_type": "stream",
          "name": "stderr",
          "text": []
        },
        {
          "output_type": "stream",
          "name": "stdout",
          "text": [
            "MoviePy - Done.\n",
            "Moviepy - Writing video /content/drive/MyDrive/PumpkinSeeds/datasource/dataSignVideos/who_9351.mp4\n",
            "\n"
          ]
        },
        {
          "output_type": "stream",
          "name": "stderr",
          "text": []
        },
        {
          "output_type": "stream",
          "name": "stdout",
          "text": [
            "Moviepy - Done !\n",
            "Moviepy - video ready /content/drive/MyDrive/PumpkinSeeds/datasource/dataSignVideos/who_9351.mp4\n",
            "Video segment saved to /content/drive/MyDrive/PumpkinSeeds/datasource/dataSignVideos/who_9351.mp4\n",
            "An error occurred: tO9MX4gMO3Y is unavailable\n",
            "An error occurred: tO9MX4gMO3Y is unavailable\n",
            "An error occurred: 1RjPFNyJ4Tw requires login to view, YouTube reason: Please sign in\n",
            "An error occurred: 1RjPFNyJ4Tw requires login to view, YouTube reason: Please sign in\n",
            "Downloaded: TODAY successfully to /content/drive/MyDrive/PumpkinSeeds/datasource/dataSignVideos/\n",
            "Moviepy - Building video /content/drive/MyDrive/PumpkinSeeds/datasource/dataSignVideos/today_9694.mp4.\n",
            "MoviePy - Writing audio in today_9694TEMP_MPY_wvf_snd.mp4\n"
          ]
        },
        {
          "output_type": "stream",
          "name": "stderr",
          "text": []
        },
        {
          "output_type": "stream",
          "name": "stdout",
          "text": [
            "MoviePy - Done.\n",
            "Moviepy - Writing video /content/drive/MyDrive/PumpkinSeeds/datasource/dataSignVideos/today_9694.mp4\n",
            "\n"
          ]
        },
        {
          "output_type": "stream",
          "name": "stderr",
          "text": []
        },
        {
          "output_type": "stream",
          "name": "stdout",
          "text": [
            "Moviepy - Done !\n",
            "Moviepy - video ready /content/drive/MyDrive/PumpkinSeeds/datasource/dataSignVideos/today_9694.mp4\n",
            "Video segment saved to /content/drive/MyDrive/PumpkinSeeds/datasource/dataSignVideos/today_9694.mp4\n",
            "An error occurred: JJU_3vtqU2Q is unavailable\n",
            "Downloaded: Weather successfully to /content/drive/MyDrive/PumpkinSeeds/datasource/dataSignVideos/\n",
            "Moviepy - Building video /content/drive/MyDrive/PumpkinSeeds/datasource/dataSignVideos/weather_10048.mp4.\n",
            "MoviePy - Writing audio in weather_10048TEMP_MPY_wvf_snd.mp4\n"
          ]
        },
        {
          "output_type": "stream",
          "name": "stderr",
          "text": []
        },
        {
          "output_type": "stream",
          "name": "stdout",
          "text": [
            "MoviePy - Done.\n",
            "Moviepy - Writing video /content/drive/MyDrive/PumpkinSeeds/datasource/dataSignVideos/weather_10048.mp4\n",
            "\n"
          ]
        },
        {
          "output_type": "stream",
          "name": "stderr",
          "text": []
        },
        {
          "output_type": "stream",
          "name": "stdout",
          "text": [
            "Moviepy - Done !\n",
            "Moviepy - video ready /content/drive/MyDrive/PumpkinSeeds/datasource/dataSignVideos/weather_10048.mp4\n",
            "Video segment saved to /content/drive/MyDrive/PumpkinSeeds/datasource/dataSignVideos/weather_10048.mp4\n",
            "Downloaded: Unit 06 Vocabulary successfully to /content/drive/MyDrive/PumpkinSeeds/datasource/dataSignVideos/\n",
            "Moviepy - Building video /content/drive/MyDrive/PumpkinSeeds/datasource/dataSignVideos/how_10305.mp4.\n",
            "MoviePy - Writing audio in how_10305TEMP_MPY_wvf_snd.mp4\n"
          ]
        },
        {
          "output_type": "stream",
          "name": "stderr",
          "text": []
        },
        {
          "output_type": "stream",
          "name": "stdout",
          "text": [
            "MoviePy - Done.\n",
            "Moviepy - Writing video /content/drive/MyDrive/PumpkinSeeds/datasource/dataSignVideos/how_10305.mp4\n",
            "\n"
          ]
        },
        {
          "output_type": "stream",
          "name": "stderr",
          "text": []
        },
        {
          "output_type": "stream",
          "name": "stdout",
          "text": [
            "Moviepy - Done !\n",
            "Moviepy - video ready /content/drive/MyDrive/PumpkinSeeds/datasource/dataSignVideos/how_10305.mp4\n",
            "Video segment saved to /content/drive/MyDrive/PumpkinSeeds/datasource/dataSignVideos/how_10305.mp4\n",
            "Downloaded: Unit 1 Vocabulary successfully to /content/drive/MyDrive/PumpkinSeeds/datasource/dataSignVideos/\n",
            "Moviepy - Building video /content/drive/MyDrive/PumpkinSeeds/datasource/dataSignVideos/you_10486.mp4.\n",
            "MoviePy - Writing audio in you_10486TEMP_MPY_wvf_snd.mp4\n"
          ]
        },
        {
          "output_type": "stream",
          "name": "stderr",
          "text": []
        },
        {
          "output_type": "stream",
          "name": "stdout",
          "text": [
            "MoviePy - Done.\n",
            "Moviepy - Writing video /content/drive/MyDrive/PumpkinSeeds/datasource/dataSignVideos/you_10486.mp4\n",
            "\n"
          ]
        },
        {
          "output_type": "stream",
          "name": "stderr",
          "text": []
        },
        {
          "output_type": "stream",
          "name": "stdout",
          "text": [
            "Moviepy - Done !\n",
            "Moviepy - video ready /content/drive/MyDrive/PumpkinSeeds/datasource/dataSignVideos/you_10486.mp4\n",
            "Video segment saved to /content/drive/MyDrive/PumpkinSeeds/datasource/dataSignVideos/you_10486.mp4\n",
            "Downloaded: Unit 1 Vocabulary successfully to /content/drive/MyDrive/PumpkinSeeds/datasource/dataSignVideos/\n",
            "Moviepy - Building video /content/drive/MyDrive/PumpkinSeeds/datasource/dataSignVideos/we_10487.mp4.\n",
            "MoviePy - Writing audio in we_10487TEMP_MPY_wvf_snd.mp4\n"
          ]
        },
        {
          "output_type": "stream",
          "name": "stderr",
          "text": []
        },
        {
          "output_type": "stream",
          "name": "stdout",
          "text": [
            "MoviePy - Done.\n",
            "Moviepy - Writing video /content/drive/MyDrive/PumpkinSeeds/datasource/dataSignVideos/we_10487.mp4\n",
            "\n"
          ]
        },
        {
          "output_type": "stream",
          "name": "stderr",
          "text": []
        },
        {
          "output_type": "stream",
          "name": "stdout",
          "text": [
            "Moviepy - Done !\n",
            "Moviepy - video ready /content/drive/MyDrive/PumpkinSeeds/datasource/dataSignVideos/we_10487.mp4\n",
            "Video segment saved to /content/drive/MyDrive/PumpkinSeeds/datasource/dataSignVideos/we_10487.mp4\n",
            "Downloaded: Unit 1 Vocabulary successfully to /content/drive/MyDrive/PumpkinSeeds/datasource/dataSignVideos/\n",
            "Moviepy - Building video /content/drive/MyDrive/PumpkinSeeds/datasource/dataSignVideos/we_10488.mp4.\n",
            "MoviePy - Writing audio in we_10488TEMP_MPY_wvf_snd.mp4\n"
          ]
        },
        {
          "output_type": "stream",
          "name": "stderr",
          "text": []
        },
        {
          "output_type": "stream",
          "name": "stdout",
          "text": [
            "MoviePy - Done.\n",
            "Moviepy - Writing video /content/drive/MyDrive/PumpkinSeeds/datasource/dataSignVideos/we_10488.mp4\n",
            "\n"
          ]
        },
        {
          "output_type": "stream",
          "name": "stderr",
          "text": []
        },
        {
          "output_type": "stream",
          "name": "stdout",
          "text": [
            "Moviepy - Done !\n",
            "Moviepy - video ready /content/drive/MyDrive/PumpkinSeeds/datasource/dataSignVideos/we_10488.mp4\n",
            "Video segment saved to /content/drive/MyDrive/PumpkinSeeds/datasource/dataSignVideos/we_10488.mp4\n",
            "Downloaded: Unit 1 Vocabulary successfully to /content/drive/MyDrive/PumpkinSeeds/datasource/dataSignVideos/\n",
            "Moviepy - Building video /content/drive/MyDrive/PumpkinSeeds/datasource/dataSignVideos/you_10491.mp4.\n",
            "MoviePy - Writing audio in you_10491TEMP_MPY_wvf_snd.mp4\n"
          ]
        },
        {
          "output_type": "stream",
          "name": "stderr",
          "text": []
        },
        {
          "output_type": "stream",
          "name": "stdout",
          "text": [
            "MoviePy - Done.\n",
            "Moviepy - Writing video /content/drive/MyDrive/PumpkinSeeds/datasource/dataSignVideos/you_10491.mp4\n",
            "\n"
          ]
        },
        {
          "output_type": "stream",
          "name": "stderr",
          "text": []
        },
        {
          "output_type": "stream",
          "name": "stdout",
          "text": [
            "Moviepy - Done !\n",
            "Moviepy - video ready /content/drive/MyDrive/PumpkinSeeds/datasource/dataSignVideos/you_10491.mp4\n",
            "Video segment saved to /content/drive/MyDrive/PumpkinSeeds/datasource/dataSignVideos/you_10491.mp4\n",
            "Downloaded: Unit 1 Vocabulary successfully to /content/drive/MyDrive/PumpkinSeeds/datasource/dataSignVideos/\n",
            "Moviepy - Building video /content/drive/MyDrive/PumpkinSeeds/datasource/dataSignVideos/you_10492.mp4.\n",
            "MoviePy - Writing audio in you_10492TEMP_MPY_wvf_snd.mp4\n"
          ]
        },
        {
          "output_type": "stream",
          "name": "stderr",
          "text": []
        },
        {
          "output_type": "stream",
          "name": "stdout",
          "text": [
            "MoviePy - Done.\n",
            "Moviepy - Writing video /content/drive/MyDrive/PumpkinSeeds/datasource/dataSignVideos/you_10492.mp4\n",
            "\n"
          ]
        },
        {
          "output_type": "stream",
          "name": "stderr",
          "text": []
        },
        {
          "output_type": "stream",
          "name": "stdout",
          "text": [
            "Moviepy - Done !\n",
            "Moviepy - video ready /content/drive/MyDrive/PumpkinSeeds/datasource/dataSignVideos/you_10492.mp4\n",
            "Video segment saved to /content/drive/MyDrive/PumpkinSeeds/datasource/dataSignVideos/you_10492.mp4\n",
            "Downloaded: Unit 1 Vocabulary successfully to /content/drive/MyDrive/PumpkinSeeds/datasource/dataSignVideos/\n",
            "Moviepy - Building video /content/drive/MyDrive/PumpkinSeeds/datasource/dataSignVideos/my_10493.mp4.\n",
            "MoviePy - Writing audio in my_10493TEMP_MPY_wvf_snd.mp4\n"
          ]
        },
        {
          "output_type": "stream",
          "name": "stderr",
          "text": []
        },
        {
          "output_type": "stream",
          "name": "stdout",
          "text": [
            "MoviePy - Done.\n",
            "Moviepy - Writing video /content/drive/MyDrive/PumpkinSeeds/datasource/dataSignVideos/my_10493.mp4\n",
            "\n"
          ]
        },
        {
          "output_type": "stream",
          "name": "stderr",
          "text": []
        },
        {
          "output_type": "stream",
          "name": "stdout",
          "text": [
            "Moviepy - Done !\n",
            "Moviepy - video ready /content/drive/MyDrive/PumpkinSeeds/datasource/dataSignVideos/my_10493.mp4\n",
            "Video segment saved to /content/drive/MyDrive/PumpkinSeeds/datasource/dataSignVideos/my_10493.mp4\n",
            "Downloaded: Unit 1 Vocabulary successfully to /content/drive/MyDrive/PumpkinSeeds/datasource/dataSignVideos/\n",
            "Moviepy - Building video /content/drive/MyDrive/PumpkinSeeds/datasource/dataSignVideos/who_10503.mp4.\n",
            "MoviePy - Writing audio in who_10503TEMP_MPY_wvf_snd.mp4\n"
          ]
        },
        {
          "output_type": "stream",
          "name": "stderr",
          "text": []
        },
        {
          "output_type": "stream",
          "name": "stdout",
          "text": [
            "MoviePy - Done.\n",
            "Moviepy - Writing video /content/drive/MyDrive/PumpkinSeeds/datasource/dataSignVideos/who_10503.mp4\n",
            "\n"
          ]
        },
        {
          "output_type": "stream",
          "name": "stderr",
          "text": []
        },
        {
          "output_type": "stream",
          "name": "stdout",
          "text": [
            "Moviepy - Done !\n",
            "Moviepy - video ready /content/drive/MyDrive/PumpkinSeeds/datasource/dataSignVideos/who_10503.mp4\n",
            "Video segment saved to /content/drive/MyDrive/PumpkinSeeds/datasource/dataSignVideos/who_10503.mp4\n",
            "Downloaded: Unit 1 Vocabulary successfully to /content/drive/MyDrive/PumpkinSeeds/datasource/dataSignVideos/\n",
            "Moviepy - Building video /content/drive/MyDrive/PumpkinSeeds/datasource/dataSignVideos/hello_10525.mp4.\n",
            "MoviePy - Writing audio in hello_10525TEMP_MPY_wvf_snd.mp4\n"
          ]
        },
        {
          "output_type": "stream",
          "name": "stderr",
          "text": []
        },
        {
          "output_type": "stream",
          "name": "stdout",
          "text": [
            "MoviePy - Done.\n",
            "Moviepy - Writing video /content/drive/MyDrive/PumpkinSeeds/datasource/dataSignVideos/hello_10525.mp4\n",
            "\n"
          ]
        },
        {
          "output_type": "stream",
          "name": "stderr",
          "text": []
        },
        {
          "output_type": "stream",
          "name": "stdout",
          "text": [
            "Moviepy - Done !\n",
            "Moviepy - video ready /content/drive/MyDrive/PumpkinSeeds/datasource/dataSignVideos/hello_10525.mp4\n",
            "Video segment saved to /content/drive/MyDrive/PumpkinSeeds/datasource/dataSignVideos/hello_10525.mp4\n",
            "Downloaded: Today successfully to /content/drive/MyDrive/PumpkinSeeds/datasource/dataSignVideos/\n",
            "Moviepy - Building video /content/drive/MyDrive/PumpkinSeeds/datasource/dataSignVideos/today_10589.mp4.\n",
            "MoviePy - Writing audio in today_10589TEMP_MPY_wvf_snd.mp4\n"
          ]
        },
        {
          "output_type": "stream",
          "name": "stderr",
          "text": []
        },
        {
          "output_type": "stream",
          "name": "stdout",
          "text": [
            "MoviePy - Done.\n",
            "Moviepy - Writing video /content/drive/MyDrive/PumpkinSeeds/datasource/dataSignVideos/today_10589.mp4\n",
            "\n"
          ]
        },
        {
          "output_type": "stream",
          "name": "stderr",
          "text": []
        },
        {
          "output_type": "stream",
          "name": "stdout",
          "text": [
            "Moviepy - Done !\n",
            "Moviepy - video ready /content/drive/MyDrive/PumpkinSeeds/datasource/dataSignVideos/today_10589.mp4\n",
            "Video segment saved to /content/drive/MyDrive/PumpkinSeeds/datasource/dataSignVideos/today_10589.mp4\n",
            "An error occurred: xls-2HJLGSQ requires login to view, YouTube reason: Please sign in\n",
            "An error occurred: h-Uwu1UnfJE is unavailable\n",
            "An error occurred: h-Uwu1UnfJE is unavailable\n",
            "Downloaded: Who successfully to /content/drive/MyDrive/PumpkinSeeds/datasource/dataSignVideos/\n",
            "Moviepy - Building video /content/drive/MyDrive/PumpkinSeeds/datasource/dataSignVideos/who_11212.mp4.\n",
            "MoviePy - Writing audio in who_11212TEMP_MPY_wvf_snd.mp4\n"
          ]
        },
        {
          "output_type": "stream",
          "name": "stderr",
          "text": []
        },
        {
          "output_type": "stream",
          "name": "stdout",
          "text": [
            "MoviePy - Done.\n",
            "Moviepy - Writing video /content/drive/MyDrive/PumpkinSeeds/datasource/dataSignVideos/who_11212.mp4\n",
            "\n"
          ]
        },
        {
          "output_type": "stream",
          "name": "stderr",
          "text": []
        },
        {
          "output_type": "stream",
          "name": "stdout",
          "text": [
            "Moviepy - Done !\n",
            "Moviepy - video ready /content/drive/MyDrive/PumpkinSeeds/datasource/dataSignVideos/who_11212.mp4\n",
            "Video segment saved to /content/drive/MyDrive/PumpkinSeeds/datasource/dataSignVideos/who_11212.mp4\n",
            "An error occurred: V7WEPn3RJsc is unavailable\n",
            "An error occurred: 2lzLDsoVWww is unavailable\n",
            "An error occurred: 2lzLDsoVWww is unavailable\n",
            "An error occurred: 2lzLDsoVWww is unavailable\n",
            "Downloaded: ASL 1st class VOCABULARY BUILDER successfully to /content/drive/MyDrive/PumpkinSeeds/datasource/dataSignVideos/\n",
            "Moviepy - Building video /content/drive/MyDrive/PumpkinSeeds/datasource/dataSignVideos/you_11596.mp4.\n",
            "MoviePy - Writing audio in you_11596TEMP_MPY_wvf_snd.mp4\n"
          ]
        },
        {
          "output_type": "stream",
          "name": "stderr",
          "text": []
        },
        {
          "output_type": "stream",
          "name": "stdout",
          "text": [
            "MoviePy - Done.\n",
            "Moviepy - Writing video /content/drive/MyDrive/PumpkinSeeds/datasource/dataSignVideos/you_11596.mp4\n",
            "\n"
          ]
        },
        {
          "output_type": "stream",
          "name": "stderr",
          "text": []
        },
        {
          "output_type": "stream",
          "name": "stdout",
          "text": [
            "Moviepy - Done !\n",
            "Moviepy - video ready /content/drive/MyDrive/PumpkinSeeds/datasource/dataSignVideos/you_11596.mp4\n",
            "Video segment saved to /content/drive/MyDrive/PumpkinSeeds/datasource/dataSignVideos/you_11596.mp4\n",
            "Downloaded: ASL 1st class VOCABULARY BUILDER successfully to /content/drive/MyDrive/PumpkinSeeds/datasource/dataSignVideos/\n",
            "Moviepy - Building video /content/drive/MyDrive/PumpkinSeeds/datasource/dataSignVideos/we_11598.mp4.\n",
            "MoviePy - Writing audio in we_11598TEMP_MPY_wvf_snd.mp4\n"
          ]
        },
        {
          "output_type": "stream",
          "name": "stderr",
          "text": []
        },
        {
          "output_type": "stream",
          "name": "stdout",
          "text": [
            "MoviePy - Done.\n",
            "Moviepy - Writing video /content/drive/MyDrive/PumpkinSeeds/datasource/dataSignVideos/we_11598.mp4\n",
            "\n"
          ]
        },
        {
          "output_type": "stream",
          "name": "stderr",
          "text": []
        },
        {
          "output_type": "stream",
          "name": "stdout",
          "text": [
            "Moviepy - Done !\n",
            "Moviepy - video ready /content/drive/MyDrive/PumpkinSeeds/datasource/dataSignVideos/we_11598.mp4\n",
            "Video segment saved to /content/drive/MyDrive/PumpkinSeeds/datasource/dataSignVideos/we_11598.mp4\n",
            "Downloaded: ASL 1st class VOCABULARY BUILDER successfully to /content/drive/MyDrive/PumpkinSeeds/datasource/dataSignVideos/\n",
            "Moviepy - Building video /content/drive/MyDrive/PumpkinSeeds/datasource/dataSignVideos/my_11600.mp4.\n",
            "MoviePy - Writing audio in my_11600TEMP_MPY_wvf_snd.mp4\n"
          ]
        },
        {
          "output_type": "stream",
          "name": "stderr",
          "text": []
        },
        {
          "output_type": "stream",
          "name": "stdout",
          "text": [
            "MoviePy - Done.\n",
            "Moviepy - Writing video /content/drive/MyDrive/PumpkinSeeds/datasource/dataSignVideos/my_11600.mp4\n",
            "\n"
          ]
        },
        {
          "output_type": "stream",
          "name": "stderr",
          "text": []
        },
        {
          "output_type": "stream",
          "name": "stdout",
          "text": [
            "Moviepy - Done !\n",
            "Moviepy - video ready /content/drive/MyDrive/PumpkinSeeds/datasource/dataSignVideos/my_11600.mp4\n",
            "Video segment saved to /content/drive/MyDrive/PumpkinSeeds/datasource/dataSignVideos/my_11600.mp4\n",
            "Downloaded: ASL 1st class VOCABULARY BUILDER successfully to /content/drive/MyDrive/PumpkinSeeds/datasource/dataSignVideos/\n",
            "Moviepy - Building video /content/drive/MyDrive/PumpkinSeeds/datasource/dataSignVideos/love_11625.mp4.\n",
            "MoviePy - Writing audio in love_11625TEMP_MPY_wvf_snd.mp4\n"
          ]
        },
        {
          "output_type": "stream",
          "name": "stderr",
          "text": []
        },
        {
          "output_type": "stream",
          "name": "stdout",
          "text": [
            "MoviePy - Done.\n",
            "Moviepy - Writing video /content/drive/MyDrive/PumpkinSeeds/datasource/dataSignVideos/love_11625.mp4\n",
            "\n"
          ]
        },
        {
          "output_type": "stream",
          "name": "stderr",
          "text": []
        },
        {
          "output_type": "stream",
          "name": "stdout",
          "text": [
            "Moviepy - Done !\n",
            "Moviepy - video ready /content/drive/MyDrive/PumpkinSeeds/datasource/dataSignVideos/love_11625.mp4\n",
            "Video segment saved to /content/drive/MyDrive/PumpkinSeeds/datasource/dataSignVideos/love_11625.mp4\n",
            "Downloaded: Hello successfully to /content/drive/MyDrive/PumpkinSeeds/datasource/dataSignVideos/\n",
            "Moviepy - Building video /content/drive/MyDrive/PumpkinSeeds/datasource/dataSignVideos/hello_11690.mp4.\n",
            "MoviePy - Writing audio in hello_11690TEMP_MPY_wvf_snd.mp4\n"
          ]
        },
        {
          "output_type": "stream",
          "name": "stderr",
          "text": []
        },
        {
          "output_type": "stream",
          "name": "stdout",
          "text": [
            "MoviePy - Done.\n",
            "Moviepy - Writing video /content/drive/MyDrive/PumpkinSeeds/datasource/dataSignVideos/hello_11690.mp4\n",
            "\n"
          ]
        },
        {
          "output_type": "stream",
          "name": "stderr",
          "text": []
        },
        {
          "output_type": "stream",
          "name": "stdout",
          "text": [
            "Moviepy - Done !\n",
            "Moviepy - video ready /content/drive/MyDrive/PumpkinSeeds/datasource/dataSignVideos/hello_11690.mp4\n",
            "Video segment saved to /content/drive/MyDrive/PumpkinSeeds/datasource/dataSignVideos/hello_11690.mp4\n",
            "Downloaded: Greetings successfully to /content/drive/MyDrive/PumpkinSeeds/datasource/dataSignVideos/\n",
            "Moviepy - Building video /content/drive/MyDrive/PumpkinSeeds/datasource/dataSignVideos/hello_11981.mp4.\n",
            "MoviePy - Writing audio in hello_11981TEMP_MPY_wvf_snd.mp4\n"
          ]
        },
        {
          "output_type": "stream",
          "name": "stderr",
          "text": []
        },
        {
          "output_type": "stream",
          "name": "stdout",
          "text": [
            "MoviePy - Done.\n",
            "Moviepy - Writing video /content/drive/MyDrive/PumpkinSeeds/datasource/dataSignVideos/hello_11981.mp4\n",
            "\n"
          ]
        },
        {
          "output_type": "stream",
          "name": "stderr",
          "text": []
        },
        {
          "output_type": "stream",
          "name": "stdout",
          "text": [
            "Moviepy - Done !\n",
            "Moviepy - video ready /content/drive/MyDrive/PumpkinSeeds/datasource/dataSignVideos/hello_11981.mp4\n",
            "Video segment saved to /content/drive/MyDrive/PumpkinSeeds/datasource/dataSignVideos/hello_11981.mp4\n",
            "Downloaded: Unit 2 Vocabulary (Part 2: Leisure Activities) successfully to /content/drive/MyDrive/PumpkinSeeds/datasource/dataSignVideos/\n",
            "Moviepy - Building video /content/drive/MyDrive/PumpkinSeeds/datasource/dataSignVideos/cooking_12174.mp4.\n",
            "MoviePy - Writing audio in cooking_12174TEMP_MPY_wvf_snd.mp4\n"
          ]
        },
        {
          "output_type": "stream",
          "name": "stderr",
          "text": []
        },
        {
          "output_type": "stream",
          "name": "stdout",
          "text": [
            "MoviePy - Done.\n",
            "Moviepy - Writing video /content/drive/MyDrive/PumpkinSeeds/datasource/dataSignVideos/cooking_12174.mp4\n",
            "\n"
          ]
        },
        {
          "output_type": "stream",
          "name": "stderr",
          "text": []
        },
        {
          "output_type": "stream",
          "name": "stdout",
          "text": [
            "Moviepy - Done !\n",
            "Moviepy - video ready /content/drive/MyDrive/PumpkinSeeds/datasource/dataSignVideos/cooking_12174.mp4\n",
            "Video segment saved to /content/drive/MyDrive/PumpkinSeeds/datasource/dataSignVideos/cooking_12174.mp4\n",
            "Downloaded: ASL Level 1 Unit 1 Vocabulary successfully to /content/drive/MyDrive/PumpkinSeeds/datasource/dataSignVideos/\n",
            "Moviepy - Building video /content/drive/MyDrive/PumpkinSeeds/datasource/dataSignVideos/you_12518.mp4.\n",
            "MoviePy - Writing audio in you_12518TEMP_MPY_wvf_snd.mp4\n"
          ]
        },
        {
          "output_type": "stream",
          "name": "stderr",
          "text": []
        },
        {
          "output_type": "stream",
          "name": "stdout",
          "text": [
            "MoviePy - Done.\n",
            "Moviepy - Writing video /content/drive/MyDrive/PumpkinSeeds/datasource/dataSignVideos/you_12518.mp4\n",
            "\n"
          ]
        },
        {
          "output_type": "stream",
          "name": "stderr",
          "text": []
        },
        {
          "output_type": "stream",
          "name": "stdout",
          "text": [
            "Moviepy - Done !\n",
            "Moviepy - video ready /content/drive/MyDrive/PumpkinSeeds/datasource/dataSignVideos/you_12518.mp4\n",
            "Video segment saved to /content/drive/MyDrive/PumpkinSeeds/datasource/dataSignVideos/you_12518.mp4\n",
            "Downloaded: ASL Level 1 Unit 1 Vocabulary successfully to /content/drive/MyDrive/PumpkinSeeds/datasource/dataSignVideos/\n",
            "Moviepy - Building video /content/drive/MyDrive/PumpkinSeeds/datasource/dataSignVideos/we_12521.mp4.\n",
            "MoviePy - Writing audio in we_12521TEMP_MPY_wvf_snd.mp4\n"
          ]
        },
        {
          "output_type": "stream",
          "name": "stderr",
          "text": []
        },
        {
          "output_type": "stream",
          "name": "stdout",
          "text": [
            "MoviePy - Done.\n",
            "Moviepy - Writing video /content/drive/MyDrive/PumpkinSeeds/datasource/dataSignVideos/we_12521.mp4\n",
            "\n"
          ]
        },
        {
          "output_type": "stream",
          "name": "stderr",
          "text": []
        },
        {
          "output_type": "stream",
          "name": "stdout",
          "text": [
            "Moviepy - Done !\n",
            "Moviepy - video ready /content/drive/MyDrive/PumpkinSeeds/datasource/dataSignVideos/we_12521.mp4\n",
            "Video segment saved to /content/drive/MyDrive/PumpkinSeeds/datasource/dataSignVideos/we_12521.mp4\n",
            "Downloaded: Unit 1 Vocabulary | ASL Level 1 - American Sign Language successfully to /content/drive/MyDrive/PumpkinSeeds/datasource/dataSignVideos/\n",
            "Moviepy - Building video /content/drive/MyDrive/PumpkinSeeds/datasource/dataSignVideos/hello_12586.mp4.\n",
            "MoviePy - Writing audio in hello_12586TEMP_MPY_wvf_snd.mp4\n"
          ]
        },
        {
          "output_type": "stream",
          "name": "stderr",
          "text": []
        },
        {
          "output_type": "stream",
          "name": "stdout",
          "text": [
            "MoviePy - Done.\n",
            "Moviepy - Writing video /content/drive/MyDrive/PumpkinSeeds/datasource/dataSignVideos/hello_12586.mp4\n",
            "\n"
          ]
        },
        {
          "output_type": "stream",
          "name": "stderr",
          "text": []
        },
        {
          "output_type": "stream",
          "name": "stdout",
          "text": [
            "Moviepy - Done !\n",
            "Moviepy - video ready /content/drive/MyDrive/PumpkinSeeds/datasource/dataSignVideos/hello_12586.mp4\n",
            "Video segment saved to /content/drive/MyDrive/PumpkinSeeds/datasource/dataSignVideos/hello_12586.mp4\n",
            "Downloaded: Unit 1 Vocabulary | ASL Level 1 - American Sign Language successfully to /content/drive/MyDrive/PumpkinSeeds/datasource/dataSignVideos/\n",
            "Moviepy - Building video /content/drive/MyDrive/PumpkinSeeds/datasource/dataSignVideos/my_12602.mp4.\n",
            "MoviePy - Writing audio in my_12602TEMP_MPY_wvf_snd.mp4\n"
          ]
        },
        {
          "output_type": "stream",
          "name": "stderr",
          "text": []
        },
        {
          "output_type": "stream",
          "name": "stdout",
          "text": [
            "MoviePy - Done.\n",
            "Moviepy - Writing video /content/drive/MyDrive/PumpkinSeeds/datasource/dataSignVideos/my_12602.mp4\n",
            "\n"
          ]
        },
        {
          "output_type": "stream",
          "name": "stderr",
          "text": []
        },
        {
          "output_type": "stream",
          "name": "stdout",
          "text": [
            "Moviepy - Done !\n",
            "Moviepy - video ready /content/drive/MyDrive/PumpkinSeeds/datasource/dataSignVideos/my_12602.mp4\n",
            "Video segment saved to /content/drive/MyDrive/PumpkinSeeds/datasource/dataSignVideos/my_12602.mp4\n",
            "Downloaded: Unit 1 Vocabulary | ASL Level 1 - American Sign Language successfully to /content/drive/MyDrive/PumpkinSeeds/datasource/dataSignVideos/\n",
            "Moviepy - Building video /content/drive/MyDrive/PumpkinSeeds/datasource/dataSignVideos/we_12622.mp4.\n",
            "MoviePy - Writing audio in we_12622TEMP_MPY_wvf_snd.mp4\n"
          ]
        },
        {
          "output_type": "stream",
          "name": "stderr",
          "text": []
        },
        {
          "output_type": "stream",
          "name": "stdout",
          "text": [
            "MoviePy - Done.\n",
            "Moviepy - Writing video /content/drive/MyDrive/PumpkinSeeds/datasource/dataSignVideos/we_12622.mp4\n",
            "\n"
          ]
        },
        {
          "output_type": "stream",
          "name": "stderr",
          "text": []
        },
        {
          "output_type": "stream",
          "name": "stdout",
          "text": [
            "Moviepy - Done !\n",
            "Moviepy - video ready /content/drive/MyDrive/PumpkinSeeds/datasource/dataSignVideos/we_12622.mp4\n",
            "Video segment saved to /content/drive/MyDrive/PumpkinSeeds/datasource/dataSignVideos/we_12622.mp4\n",
            "Downloaded: Unit 1 Vocabulary | ASL Level 1 - American Sign Language successfully to /content/drive/MyDrive/PumpkinSeeds/datasource/dataSignVideos/\n",
            "Moviepy - Building video /content/drive/MyDrive/PumpkinSeeds/datasource/dataSignVideos/you_12624.mp4.\n",
            "MoviePy - Writing audio in you_12624TEMP_MPY_wvf_snd.mp4\n"
          ]
        },
        {
          "output_type": "stream",
          "name": "stderr",
          "text": []
        },
        {
          "output_type": "stream",
          "name": "stdout",
          "text": [
            "MoviePy - Done.\n",
            "Moviepy - Writing video /content/drive/MyDrive/PumpkinSeeds/datasource/dataSignVideos/you_12624.mp4\n",
            "\n"
          ]
        },
        {
          "output_type": "stream",
          "name": "stderr",
          "text": []
        },
        {
          "output_type": "stream",
          "name": "stdout",
          "text": [
            "Moviepy - Done !\n",
            "Moviepy - video ready /content/drive/MyDrive/PumpkinSeeds/datasource/dataSignVideos/you_12624.mp4\n",
            "Video segment saved to /content/drive/MyDrive/PumpkinSeeds/datasource/dataSignVideos/you_12624.mp4\n",
            "Downloaded: Unit 1 Vocabulary | ASL Level 1 - American Sign Language successfully to /content/drive/MyDrive/PumpkinSeeds/datasource/dataSignVideos/\n",
            "Moviepy - Building video /content/drive/MyDrive/PumpkinSeeds/datasource/dataSignVideos/you_12625.mp4.\n",
            "MoviePy - Writing audio in you_12625TEMP_MPY_wvf_snd.mp4\n"
          ]
        },
        {
          "output_type": "stream",
          "name": "stderr",
          "text": []
        },
        {
          "output_type": "stream",
          "name": "stdout",
          "text": [
            "MoviePy - Done.\n",
            "Moviepy - Writing video /content/drive/MyDrive/PumpkinSeeds/datasource/dataSignVideos/you_12625.mp4\n",
            "\n"
          ]
        },
        {
          "output_type": "stream",
          "name": "stderr",
          "text": []
        },
        {
          "output_type": "stream",
          "name": "stdout",
          "text": [
            "Moviepy - Done !\n",
            "Moviepy - video ready /content/drive/MyDrive/PumpkinSeeds/datasource/dataSignVideos/you_12625.mp4\n",
            "Video segment saved to /content/drive/MyDrive/PumpkinSeeds/datasource/dataSignVideos/you_12625.mp4\n",
            "Downloaded: ASL conversation class 2 successfully to /content/drive/MyDrive/PumpkinSeeds/datasource/dataSignVideos/\n",
            "Moviepy - Building video /content/drive/MyDrive/PumpkinSeeds/datasource/dataSignVideos/who_12648.mp4.\n",
            "MoviePy - Writing audio in who_12648TEMP_MPY_wvf_snd.mp4\n"
          ]
        },
        {
          "output_type": "stream",
          "name": "stderr",
          "text": []
        },
        {
          "output_type": "stream",
          "name": "stdout",
          "text": [
            "MoviePy - Done.\n",
            "Moviepy - Writing video /content/drive/MyDrive/PumpkinSeeds/datasource/dataSignVideos/who_12648.mp4\n",
            "\n"
          ]
        },
        {
          "output_type": "stream",
          "name": "stderr",
          "text": []
        },
        {
          "output_type": "stream",
          "name": "stdout",
          "text": [
            "Moviepy - Done !\n",
            "Moviepy - video ready /content/drive/MyDrive/PumpkinSeeds/datasource/dataSignVideos/who_12648.mp4\n",
            "Video segment saved to /content/drive/MyDrive/PumpkinSeeds/datasource/dataSignVideos/who_12648.mp4\n",
            "Downloaded: Signing Naturally Unit 1 Vocabulary successfully to /content/drive/MyDrive/PumpkinSeeds/datasource/dataSignVideos/\n",
            "Moviepy - Building video /content/drive/MyDrive/PumpkinSeeds/datasource/dataSignVideos/hello_12661.mp4.\n",
            "MoviePy - Writing audio in hello_12661TEMP_MPY_wvf_snd.mp4\n"
          ]
        },
        {
          "output_type": "stream",
          "name": "stderr",
          "text": []
        },
        {
          "output_type": "stream",
          "name": "stdout",
          "text": [
            "MoviePy - Done.\n",
            "Moviepy - Writing video /content/drive/MyDrive/PumpkinSeeds/datasource/dataSignVideos/hello_12661.mp4\n",
            "\n"
          ]
        },
        {
          "output_type": "stream",
          "name": "stderr",
          "text": []
        },
        {
          "output_type": "stream",
          "name": "stdout",
          "text": [
            "Moviepy - Done !\n",
            "Moviepy - video ready /content/drive/MyDrive/PumpkinSeeds/datasource/dataSignVideos/hello_12661.mp4\n",
            "Video segment saved to /content/drive/MyDrive/PumpkinSeeds/datasource/dataSignVideos/hello_12661.mp4\n",
            "Downloaded: Signing Naturally Unit 1 Vocabulary successfully to /content/drive/MyDrive/PumpkinSeeds/datasource/dataSignVideos/\n",
            "Moviepy - Building video /content/drive/MyDrive/PumpkinSeeds/datasource/dataSignVideos/who_12663.mp4.\n",
            "MoviePy - Writing audio in who_12663TEMP_MPY_wvf_snd.mp4\n"
          ]
        },
        {
          "output_type": "stream",
          "name": "stderr",
          "text": []
        },
        {
          "output_type": "stream",
          "name": "stdout",
          "text": [
            "MoviePy - Done.\n",
            "Moviepy - Writing video /content/drive/MyDrive/PumpkinSeeds/datasource/dataSignVideos/who_12663.mp4\n",
            "\n"
          ]
        },
        {
          "output_type": "stream",
          "name": "stderr",
          "text": []
        },
        {
          "output_type": "stream",
          "name": "stdout",
          "text": [
            "Moviepy - Done !\n",
            "Moviepy - video ready /content/drive/MyDrive/PumpkinSeeds/datasource/dataSignVideos/who_12663.mp4\n",
            "Video segment saved to /content/drive/MyDrive/PumpkinSeeds/datasource/dataSignVideos/who_12663.mp4\n",
            "Downloaded: Signing Naturally Unit 1 Vocabulary successfully to /content/drive/MyDrive/PumpkinSeeds/datasource/dataSignVideos/\n",
            "Moviepy - Building video /content/drive/MyDrive/PumpkinSeeds/datasource/dataSignVideos/today_12696.mp4.\n",
            "MoviePy - Writing audio in today_12696TEMP_MPY_wvf_snd.mp4\n"
          ]
        },
        {
          "output_type": "stream",
          "name": "stderr",
          "text": []
        },
        {
          "output_type": "stream",
          "name": "stdout",
          "text": [
            "MoviePy - Done.\n",
            "Moviepy - Writing video /content/drive/MyDrive/PumpkinSeeds/datasource/dataSignVideos/today_12696.mp4\n",
            "\n"
          ]
        },
        {
          "output_type": "stream",
          "name": "stderr",
          "text": []
        },
        {
          "output_type": "stream",
          "name": "stdout",
          "text": [
            "Moviepy - Done !\n",
            "Moviepy - video ready /content/drive/MyDrive/PumpkinSeeds/datasource/dataSignVideos/today_12696.mp4\n",
            "Video segment saved to /content/drive/MyDrive/PumpkinSeeds/datasource/dataSignVideos/today_12696.mp4\n",
            "Downloaded: I!-[all-about-me/self-centered] successfully to /content/drive/MyDrive/PumpkinSeeds/datasource/dataSignVideos/\n",
            "Moviepy - Building video /content/drive/MyDrive/PumpkinSeeds/datasource/dataSignVideos/i_12779.mp4.\n",
            "MoviePy - Writing audio in i_12779TEMP_MPY_wvf_snd.mp4\n"
          ]
        },
        {
          "output_type": "stream",
          "name": "stderr",
          "text": []
        },
        {
          "output_type": "stream",
          "name": "stdout",
          "text": [
            "MoviePy - Done.\n",
            "Moviepy - Writing video /content/drive/MyDrive/PumpkinSeeds/datasource/dataSignVideos/i_12779.mp4\n",
            "\n"
          ]
        },
        {
          "output_type": "stream",
          "name": "stderr",
          "text": []
        },
        {
          "output_type": "stream",
          "name": "stdout",
          "text": [
            "Moviepy - Done !\n",
            "Moviepy - video ready /content/drive/MyDrive/PumpkinSeeds/datasource/dataSignVideos/i_12779.mp4\n",
            "Video segment saved to /content/drive/MyDrive/PumpkinSeeds/datasource/dataSignVideos/i_12779.mp4\n",
            "Downloaded: SWIC Community Ed - Class One successfully to /content/drive/MyDrive/PumpkinSeeds/datasource/dataSignVideos/\n",
            "Moviepy - Building video /content/drive/MyDrive/PumpkinSeeds/datasource/dataSignVideos/you_12783.mp4.\n",
            "MoviePy - Writing audio in you_12783TEMP_MPY_wvf_snd.mp4\n"
          ]
        },
        {
          "output_type": "stream",
          "name": "stderr",
          "text": []
        },
        {
          "output_type": "stream",
          "name": "stdout",
          "text": [
            "MoviePy - Done.\n",
            "Moviepy - Writing video /content/drive/MyDrive/PumpkinSeeds/datasource/dataSignVideos/you_12783.mp4\n",
            "\n"
          ]
        },
        {
          "output_type": "stream",
          "name": "stderr",
          "text": []
        },
        {
          "output_type": "stream",
          "name": "stdout",
          "text": [
            "Moviepy - Done !\n",
            "Moviepy - video ready /content/drive/MyDrive/PumpkinSeeds/datasource/dataSignVideos/you_12783.mp4\n",
            "Video segment saved to /content/drive/MyDrive/PumpkinSeeds/datasource/dataSignVideos/you_12783.mp4\n",
            "Downloaded: SWIC Community Ed - Class One successfully to /content/drive/MyDrive/PumpkinSeeds/datasource/dataSignVideos/\n",
            "Moviepy - Building video /content/drive/MyDrive/PumpkinSeeds/datasource/dataSignVideos/my_12785.mp4.\n",
            "MoviePy - Writing audio in my_12785TEMP_MPY_wvf_snd.mp4\n"
          ]
        },
        {
          "output_type": "stream",
          "name": "stderr",
          "text": []
        },
        {
          "output_type": "stream",
          "name": "stdout",
          "text": [
            "MoviePy - Done.\n",
            "Moviepy - Writing video /content/drive/MyDrive/PumpkinSeeds/datasource/dataSignVideos/my_12785.mp4\n",
            "\n"
          ]
        },
        {
          "output_type": "stream",
          "name": "stderr",
          "text": []
        },
        {
          "output_type": "stream",
          "name": "stdout",
          "text": [
            "Moviepy - Done !\n",
            "Moviepy - video ready /content/drive/MyDrive/PumpkinSeeds/datasource/dataSignVideos/my_12785.mp4\n",
            "Video segment saved to /content/drive/MyDrive/PumpkinSeeds/datasource/dataSignVideos/my_12785.mp4\n",
            "Downloaded: SWIC Community Ed - Class One successfully to /content/drive/MyDrive/PumpkinSeeds/datasource/dataSignVideos/\n",
            "Moviepy - Building video /content/drive/MyDrive/PumpkinSeeds/datasource/dataSignVideos/how_12814.mp4.\n",
            "MoviePy - Writing audio in how_12814TEMP_MPY_wvf_snd.mp4\n"
          ]
        },
        {
          "output_type": "stream",
          "name": "stderr",
          "text": []
        },
        {
          "output_type": "stream",
          "name": "stdout",
          "text": [
            "MoviePy - Done.\n",
            "Moviepy - Writing video /content/drive/MyDrive/PumpkinSeeds/datasource/dataSignVideos/how_12814.mp4\n",
            "\n"
          ]
        },
        {
          "output_type": "stream",
          "name": "stderr",
          "text": []
        },
        {
          "output_type": "stream",
          "name": "stdout",
          "text": [
            "Moviepy - Done !\n",
            "Moviepy - video ready /content/drive/MyDrive/PumpkinSeeds/datasource/dataSignVideos/how_12814.mp4\n",
            "Video segment saved to /content/drive/MyDrive/PumpkinSeeds/datasource/dataSignVideos/how_12814.mp4\n",
            "Downloaded: LOVE successfully to /content/drive/MyDrive/PumpkinSeeds/datasource/dataSignVideos/\n",
            "Moviepy - Building video /content/drive/MyDrive/PumpkinSeeds/datasource/dataSignVideos/love_12840.mp4.\n",
            "MoviePy - Writing audio in love_12840TEMP_MPY_wvf_snd.mp4\n"
          ]
        },
        {
          "output_type": "stream",
          "name": "stderr",
          "text": []
        },
        {
          "output_type": "stream",
          "name": "stdout",
          "text": [
            "MoviePy - Done.\n",
            "Moviepy - Writing video /content/drive/MyDrive/PumpkinSeeds/datasource/dataSignVideos/love_12840.mp4\n",
            "\n"
          ]
        },
        {
          "output_type": "stream",
          "name": "stderr",
          "text": []
        },
        {
          "output_type": "stream",
          "name": "stdout",
          "text": [
            "Moviepy - Done !\n",
            "Moviepy - video ready /content/drive/MyDrive/PumpkinSeeds/datasource/dataSignVideos/love_12840.mp4\n",
            "Video segment saved to /content/drive/MyDrive/PumpkinSeeds/datasource/dataSignVideos/love_12840.mp4\n",
            "Downloaded: WEATHER-[twist-version] successfully to /content/drive/MyDrive/PumpkinSeeds/datasource/dataSignVideos/\n",
            "Moviepy - Building video /content/drive/MyDrive/PumpkinSeeds/datasource/dataSignVideos/weather_12915.mp4.\n",
            "MoviePy - Writing audio in weather_12915TEMP_MPY_wvf_snd.mp4\n"
          ]
        },
        {
          "output_type": "stream",
          "name": "stderr",
          "text": []
        },
        {
          "output_type": "stream",
          "name": "stdout",
          "text": [
            "MoviePy - Done.\n",
            "Moviepy - Writing video /content/drive/MyDrive/PumpkinSeeds/datasource/dataSignVideos/weather_12915.mp4\n",
            "\n"
          ]
        },
        {
          "output_type": "stream",
          "name": "stderr",
          "text": []
        },
        {
          "output_type": "stream",
          "name": "stdout",
          "text": [
            "Moviepy - Done !\n",
            "Moviepy - video ready /content/drive/MyDrive/PumpkinSeeds/datasource/dataSignVideos/weather_12915.mp4\n",
            "Video segment saved to /content/drive/MyDrive/PumpkinSeeds/datasource/dataSignVideos/weather_12915.mp4\n",
            "Downloaded: ASL Numbers 1 10   Arkansas School for the Deaf successfully to /content/drive/MyDrive/PumpkinSeeds/datasource/dataSignVideos/\n",
            "Moviepy - Building video /content/drive/MyDrive/PumpkinSeeds/datasource/dataSignVideos/hello_12947.mp4.\n",
            "MoviePy - Writing audio in hello_12947TEMP_MPY_wvf_snd.mp4\n"
          ]
        },
        {
          "output_type": "stream",
          "name": "stderr",
          "text": []
        },
        {
          "output_type": "stream",
          "name": "stdout",
          "text": [
            "MoviePy - Done.\n",
            "Moviepy - Writing video /content/drive/MyDrive/PumpkinSeeds/datasource/dataSignVideos/hello_12947.mp4\n",
            "\n"
          ]
        },
        {
          "output_type": "stream",
          "name": "stderr",
          "text": []
        },
        {
          "output_type": "stream",
          "name": "stdout",
          "text": [
            "Moviepy - Done !\n",
            "Moviepy - video ready /content/drive/MyDrive/PumpkinSeeds/datasource/dataSignVideos/hello_12947.mp4\n",
            "Video segment saved to /content/drive/MyDrive/PumpkinSeeds/datasource/dataSignVideos/hello_12947.mp4\n",
            "Downloaded: Numbers 1 - 10 and WH - question signs successfully to /content/drive/MyDrive/PumpkinSeeds/datasource/dataSignVideos/\n",
            "Moviepy - Building video /content/drive/MyDrive/PumpkinSeeds/datasource/dataSignVideos/who_12975.mp4.\n",
            "MoviePy - Writing audio in who_12975TEMP_MPY_wvf_snd.mp4\n"
          ]
        },
        {
          "output_type": "stream",
          "name": "stderr",
          "text": []
        },
        {
          "output_type": "stream",
          "name": "stdout",
          "text": [
            "MoviePy - Done.\n",
            "Moviepy - Writing video /content/drive/MyDrive/PumpkinSeeds/datasource/dataSignVideos/who_12975.mp4\n",
            "\n"
          ]
        },
        {
          "output_type": "stream",
          "name": "stderr",
          "text": []
        },
        {
          "output_type": "stream",
          "name": "stdout",
          "text": [
            "Moviepy - Done !\n",
            "Moviepy - video ready /content/drive/MyDrive/PumpkinSeeds/datasource/dataSignVideos/who_12975.mp4\n",
            "Video segment saved to /content/drive/MyDrive/PumpkinSeeds/datasource/dataSignVideos/who_12975.mp4\n",
            "Downloaded: HELLO successfully to /content/drive/MyDrive/PumpkinSeeds/datasource/dataSignVideos/\n",
            "Moviepy - Building video /content/drive/MyDrive/PumpkinSeeds/datasource/dataSignVideos/hello_12984.mp4.\n",
            "MoviePy - Writing audio in hello_12984TEMP_MPY_wvf_snd.mp4\n"
          ]
        },
        {
          "output_type": "stream",
          "name": "stderr",
          "text": []
        },
        {
          "output_type": "stream",
          "name": "stdout",
          "text": [
            "MoviePy - Done.\n",
            "Moviepy - Writing video /content/drive/MyDrive/PumpkinSeeds/datasource/dataSignVideos/hello_12984.mp4\n",
            "\n"
          ]
        },
        {
          "output_type": "stream",
          "name": "stderr",
          "text": []
        },
        {
          "output_type": "stream",
          "name": "stdout",
          "text": [
            "Moviepy - Done !\n",
            "Moviepy - video ready /content/drive/MyDrive/PumpkinSeeds/datasource/dataSignVideos/hello_12984.mp4\n",
            "Video segment saved to /content/drive/MyDrive/PumpkinSeeds/datasource/dataSignVideos/hello_12984.mp4\n",
            "Downloaded: ASL 1: Set 3 Supplemental Vocabulary successfully to /content/drive/MyDrive/PumpkinSeeds/datasource/dataSignVideos/\n",
            "Moviepy - Building video /content/drive/MyDrive/PumpkinSeeds/datasource/dataSignVideos/today_13010.mp4.\n",
            "MoviePy - Writing audio in today_13010TEMP_MPY_wvf_snd.mp4\n"
          ]
        },
        {
          "output_type": "stream",
          "name": "stderr",
          "text": []
        },
        {
          "output_type": "stream",
          "name": "stdout",
          "text": [
            "MoviePy - Done.\n",
            "Moviepy - Writing video /content/drive/MyDrive/PumpkinSeeds/datasource/dataSignVideos/today_13010.mp4\n",
            "\n"
          ]
        },
        {
          "output_type": "stream",
          "name": "stderr",
          "text": []
        },
        {
          "output_type": "stream",
          "name": "stdout",
          "text": [
            "Moviepy - Done !\n",
            "Moviepy - video ready /content/drive/MyDrive/PumpkinSeeds/datasource/dataSignVideos/today_13010.mp4\n",
            "Video segment saved to /content/drive/MyDrive/PumpkinSeeds/datasource/dataSignVideos/today_13010.mp4\n",
            "Downloaded: You successfully to /content/drive/MyDrive/PumpkinSeeds/datasource/dataSignVideos/\n",
            "Moviepy - Building video /content/drive/MyDrive/PumpkinSeeds/datasource/dataSignVideos/you_13038.mp4.\n",
            "MoviePy - Writing audio in you_13038TEMP_MPY_wvf_snd.mp4\n"
          ]
        },
        {
          "output_type": "stream",
          "name": "stderr",
          "text": []
        },
        {
          "output_type": "stream",
          "name": "stdout",
          "text": [
            "MoviePy - Done.\n",
            "Moviepy - Writing video /content/drive/MyDrive/PumpkinSeeds/datasource/dataSignVideos/you_13038.mp4\n",
            "\n"
          ]
        },
        {
          "output_type": "stream",
          "name": "stderr",
          "text": []
        },
        {
          "output_type": "stream",
          "name": "stdout",
          "text": [
            "Moviepy - Done !\n",
            "Moviepy - video ready /content/drive/MyDrive/PumpkinSeeds/datasource/dataSignVideos/you_13038.mp4\n",
            "Video segment saved to /content/drive/MyDrive/PumpkinSeeds/datasource/dataSignVideos/you_13038.mp4\n",
            "An error occurred: 167KkvdyE5c is unavailable\n",
            "Downloaded: Medical Vocabulary in ASL for EMS employees successfully to /content/drive/MyDrive/PumpkinSeeds/datasource/dataSignVideos/\n",
            "Moviepy - Building video /content/drive/MyDrive/PumpkinSeeds/datasource/dataSignVideos/who_13048.mp4.\n",
            "MoviePy - Writing audio in who_13048TEMP_MPY_wvf_snd.mp4\n"
          ]
        },
        {
          "output_type": "stream",
          "name": "stderr",
          "text": []
        },
        {
          "output_type": "stream",
          "name": "stdout",
          "text": [
            "MoviePy - Done.\n",
            "Moviepy - Writing video /content/drive/MyDrive/PumpkinSeeds/datasource/dataSignVideos/who_13048.mp4\n",
            "\n"
          ]
        },
        {
          "output_type": "stream",
          "name": "stderr",
          "text": []
        },
        {
          "output_type": "stream",
          "name": "stdout",
          "text": [
            "Moviepy - Done !\n",
            "Moviepy - video ready /content/drive/MyDrive/PumpkinSeeds/datasource/dataSignVideos/who_13048.mp4\n",
            "Video segment saved to /content/drive/MyDrive/PumpkinSeeds/datasource/dataSignVideos/who_13048.mp4\n",
            "Downloaded: Happy birthday! successfully to /content/drive/MyDrive/PumpkinSeeds/datasource/dataSignVideos/\n",
            "Moviepy - Building video /content/drive/MyDrive/PumpkinSeeds/datasource/dataSignVideos/you_13095.mp4.\n",
            "MoviePy - Writing audio in you_13095TEMP_MPY_wvf_snd.mp4\n"
          ]
        },
        {
          "output_type": "stream",
          "name": "stderr",
          "text": []
        },
        {
          "output_type": "stream",
          "name": "stdout",
          "text": [
            "MoviePy - Done.\n",
            "Moviepy - Writing video /content/drive/MyDrive/PumpkinSeeds/datasource/dataSignVideos/you_13095.mp4\n",
            "\n"
          ]
        },
        {
          "output_type": "stream",
          "name": "stderr",
          "text": []
        },
        {
          "output_type": "stream",
          "name": "stdout",
          "text": [
            "Moviepy - Done !\n",
            "Moviepy - video ready /content/drive/MyDrive/PumpkinSeeds/datasource/dataSignVideos/you_13095.mp4\n",
            "Video segment saved to /content/drive/MyDrive/PumpkinSeeds/datasource/dataSignVideos/you_13095.mp4\n",
            "An error occurred: xaHll2DRUkg is unavailable\n",
            "An error occurred: xaHll2DRUkg is unavailable\n",
            "An error occurred: xaHll2DRUkg is unavailable\n",
            "Downloaded: MY successfully to /content/drive/MyDrive/PumpkinSeeds/datasource/dataSignVideos/\n",
            "Moviepy - Building video /content/drive/MyDrive/PumpkinSeeds/datasource/dataSignVideos/my_13121.mp4.\n",
            "MoviePy - Writing audio in my_13121TEMP_MPY_wvf_snd.mp4\n"
          ]
        },
        {
          "output_type": "stream",
          "name": "stderr",
          "text": []
        },
        {
          "output_type": "stream",
          "name": "stdout",
          "text": [
            "MoviePy - Done.\n",
            "Moviepy - Writing video /content/drive/MyDrive/PumpkinSeeds/datasource/dataSignVideos/my_13121.mp4\n",
            "\n"
          ]
        },
        {
          "output_type": "stream",
          "name": "stderr",
          "text": []
        },
        {
          "output_type": "stream",
          "name": "stdout",
          "text": [
            "Moviepy - Done !\n",
            "Moviepy - video ready /content/drive/MyDrive/PumpkinSeeds/datasource/dataSignVideos/my_13121.mp4\n",
            "Video segment saved to /content/drive/MyDrive/PumpkinSeeds/datasource/dataSignVideos/my_13121.mp4\n",
            "Downloaded: ASL Lesson 1 successfully to /content/drive/MyDrive/PumpkinSeeds/datasource/dataSignVideos/\n",
            "Moviepy - Building video /content/drive/MyDrive/PumpkinSeeds/datasource/dataSignVideos/who_13138.mp4.\n",
            "MoviePy - Writing audio in who_13138TEMP_MPY_wvf_snd.mp4\n"
          ]
        },
        {
          "output_type": "stream",
          "name": "stderr",
          "text": []
        },
        {
          "output_type": "stream",
          "name": "stdout",
          "text": [
            "MoviePy - Done.\n",
            "Moviepy - Writing video /content/drive/MyDrive/PumpkinSeeds/datasource/dataSignVideos/who_13138.mp4\n",
            "\n"
          ]
        },
        {
          "output_type": "stream",
          "name": "stderr",
          "text": []
        },
        {
          "output_type": "stream",
          "name": "stdout",
          "text": [
            "Moviepy - Done !\n",
            "Moviepy - video ready /content/drive/MyDrive/PumpkinSeeds/datasource/dataSignVideos/who_13138.mp4\n",
            "Video segment saved to /content/drive/MyDrive/PumpkinSeeds/datasource/dataSignVideos/who_13138.mp4\n",
            "Downloaded: 'you' in American Sign Language successfully to /content/drive/MyDrive/PumpkinSeeds/datasource/dataSignVideos/\n",
            "Moviepy - Building video /content/drive/MyDrive/PumpkinSeeds/datasource/dataSignVideos/you_13232.mp4.\n",
            "MoviePy - Writing audio in you_13232TEMP_MPY_wvf_snd.mp4\n"
          ]
        },
        {
          "output_type": "stream",
          "name": "stderr",
          "text": []
        },
        {
          "output_type": "stream",
          "name": "stdout",
          "text": [
            "MoviePy - Done.\n",
            "Moviepy - Writing video /content/drive/MyDrive/PumpkinSeeds/datasource/dataSignVideos/you_13232.mp4\n",
            "\n"
          ]
        },
        {
          "output_type": "stream",
          "name": "stderr",
          "text": []
        },
        {
          "output_type": "stream",
          "name": "stdout",
          "text": [
            "Moviepy - Done !\n",
            "Moviepy - video ready /content/drive/MyDrive/PumpkinSeeds/datasource/dataSignVideos/you_13232.mp4\n",
            "Video segment saved to /content/drive/MyDrive/PumpkinSeeds/datasource/dataSignVideos/you_13232.mp4\n",
            "Downloaded: Colors and Springtime signs in ASL successfully to /content/drive/MyDrive/PumpkinSeeds/datasource/dataSignVideos/\n",
            "Moviepy - Building video /content/drive/MyDrive/PumpkinSeeds/datasource/dataSignVideos/you_13367.mp4.\n",
            "MoviePy - Writing audio in you_13367TEMP_MPY_wvf_snd.mp4\n"
          ]
        },
        {
          "output_type": "stream",
          "name": "stderr",
          "text": []
        },
        {
          "output_type": "stream",
          "name": "stdout",
          "text": [
            "MoviePy - Done.\n",
            "Moviepy - Writing video /content/drive/MyDrive/PumpkinSeeds/datasource/dataSignVideos/you_13367.mp4\n",
            "\n"
          ]
        },
        {
          "output_type": "stream",
          "name": "stderr",
          "text": []
        },
        {
          "output_type": "stream",
          "name": "stdout",
          "text": [
            "Moviepy - Done !\n",
            "Moviepy - video ready /content/drive/MyDrive/PumpkinSeeds/datasource/dataSignVideos/you_13367.mp4\n",
            "Video segment saved to /content/drive/MyDrive/PumpkinSeeds/datasource/dataSignVideos/you_13367.mp4\n",
            "Downloaded: Colors and Springtime signs in ASL successfully to /content/drive/MyDrive/PumpkinSeeds/datasource/dataSignVideos/\n",
            "Moviepy - Building video /content/drive/MyDrive/PumpkinSeeds/datasource/dataSignVideos/weather_13382.mp4.\n",
            "MoviePy - Writing audio in weather_13382TEMP_MPY_wvf_snd.mp4\n"
          ]
        },
        {
          "output_type": "stream",
          "name": "stderr",
          "text": []
        },
        {
          "output_type": "stream",
          "name": "stdout",
          "text": [
            "MoviePy - Done.\n",
            "Moviepy - Writing video /content/drive/MyDrive/PumpkinSeeds/datasource/dataSignVideos/weather_13382.mp4\n",
            "\n"
          ]
        },
        {
          "output_type": "stream",
          "name": "stderr",
          "text": []
        },
        {
          "output_type": "stream",
          "name": "stdout",
          "text": [
            "Moviepy - Done !\n",
            "Moviepy - video ready /content/drive/MyDrive/PumpkinSeeds/datasource/dataSignVideos/weather_13382.mp4\n",
            "Video segment saved to /content/drive/MyDrive/PumpkinSeeds/datasource/dataSignVideos/weather_13382.mp4\n",
            "Downloaded: Colors and Springtime signs in ASL successfully to /content/drive/MyDrive/PumpkinSeeds/datasource/dataSignVideos/\n",
            "Moviepy - Building video /content/drive/MyDrive/PumpkinSeeds/datasource/dataSignVideos/weather_13383.mp4.\n",
            "MoviePy - Writing audio in weather_13383TEMP_MPY_wvf_snd.mp4\n"
          ]
        },
        {
          "output_type": "stream",
          "name": "stderr",
          "text": []
        },
        {
          "output_type": "stream",
          "name": "stdout",
          "text": [
            "MoviePy - Done.\n",
            "Moviepy - Writing video /content/drive/MyDrive/PumpkinSeeds/datasource/dataSignVideos/weather_13383.mp4\n",
            "\n"
          ]
        },
        {
          "output_type": "stream",
          "name": "stderr",
          "text": []
        },
        {
          "output_type": "stream",
          "name": "stdout",
          "text": [
            "Moviepy - Done !\n",
            "Moviepy - video ready /content/drive/MyDrive/PumpkinSeeds/datasource/dataSignVideos/weather_13383.mp4\n",
            "Video segment saved to /content/drive/MyDrive/PumpkinSeeds/datasource/dataSignVideos/weather_13383.mp4\n",
            "Downloaded: #deaffriendly ASL Vocabulary - Hotel successfully to /content/drive/MyDrive/PumpkinSeeds/datasource/dataSignVideos/\n",
            "Moviepy - Building video /content/drive/MyDrive/PumpkinSeeds/datasource/dataSignVideos/hello_13413.mp4.\n",
            "MoviePy - Writing audio in hello_13413TEMP_MPY_wvf_snd.mp4\n"
          ]
        },
        {
          "output_type": "stream",
          "name": "stderr",
          "text": []
        },
        {
          "output_type": "stream",
          "name": "stdout",
          "text": [
            "MoviePy - Done.\n",
            "Moviepy - Writing video /content/drive/MyDrive/PumpkinSeeds/datasource/dataSignVideos/hello_13413.mp4\n",
            "\n"
          ]
        },
        {
          "output_type": "stream",
          "name": "stderr",
          "text": []
        },
        {
          "output_type": "stream",
          "name": "stdout",
          "text": [
            "Moviepy - Done !\n",
            "Moviepy - video ready /content/drive/MyDrive/PumpkinSeeds/datasource/dataSignVideos/hello_13413.mp4\n",
            "Video segment saved to /content/drive/MyDrive/PumpkinSeeds/datasource/dataSignVideos/hello_13413.mp4\n",
            "Downloaded: Unit 3 vocabulary successfully to /content/drive/MyDrive/PumpkinSeeds/datasource/dataSignVideos/\n",
            "Moviepy - Building video /content/drive/MyDrive/PumpkinSeeds/datasource/dataSignVideos/my_13566.mp4.\n",
            "MoviePy - Writing audio in my_13566TEMP_MPY_wvf_snd.mp4\n"
          ]
        },
        {
          "output_type": "stream",
          "name": "stderr",
          "text": []
        },
        {
          "output_type": "stream",
          "name": "stdout",
          "text": [
            "MoviePy - Done.\n",
            "Moviepy - Writing video /content/drive/MyDrive/PumpkinSeeds/datasource/dataSignVideos/my_13566.mp4\n",
            "\n"
          ]
        },
        {
          "output_type": "stream",
          "name": "stderr",
          "text": []
        },
        {
          "output_type": "stream",
          "name": "stdout",
          "text": [
            "Moviepy - Done !\n",
            "Moviepy - video ready /content/drive/MyDrive/PumpkinSeeds/datasource/dataSignVideos/my_13566.mp4\n",
            "Video segment saved to /content/drive/MyDrive/PumpkinSeeds/datasource/dataSignVideos/my_13566.mp4\n",
            "Downloaded: Unit 3 vocabulary successfully to /content/drive/MyDrive/PumpkinSeeds/datasource/dataSignVideos/\n",
            "Moviepy - Building video /content/drive/MyDrive/PumpkinSeeds/datasource/dataSignVideos/weather_13596.mp4.\n",
            "MoviePy - Writing audio in weather_13596TEMP_MPY_wvf_snd.mp4\n"
          ]
        },
        {
          "output_type": "stream",
          "name": "stderr",
          "text": []
        },
        {
          "output_type": "stream",
          "name": "stdout",
          "text": [
            "MoviePy - Done.\n",
            "Moviepy - Writing video /content/drive/MyDrive/PumpkinSeeds/datasource/dataSignVideos/weather_13596.mp4\n",
            "\n"
          ]
        },
        {
          "output_type": "stream",
          "name": "stderr",
          "text": []
        },
        {
          "output_type": "stream",
          "name": "stdout",
          "text": [
            "Moviepy - Done !\n",
            "Moviepy - video ready /content/drive/MyDrive/PumpkinSeeds/datasource/dataSignVideos/weather_13596.mp4\n",
            "Video segment saved to /content/drive/MyDrive/PumpkinSeeds/datasource/dataSignVideos/weather_13596.mp4\n",
            "Downloaded: 'my' in American Sign Language successfully to /content/drive/MyDrive/PumpkinSeeds/datasource/dataSignVideos/\n",
            "Moviepy - Building video /content/drive/MyDrive/PumpkinSeeds/datasource/dataSignVideos/my_13619.mp4.\n",
            "MoviePy - Writing audio in my_13619TEMP_MPY_wvf_snd.mp4\n"
          ]
        },
        {
          "output_type": "stream",
          "name": "stderr",
          "text": []
        },
        {
          "output_type": "stream",
          "name": "stdout",
          "text": [
            "MoviePy - Done.\n",
            "Moviepy - Writing video /content/drive/MyDrive/PumpkinSeeds/datasource/dataSignVideos/my_13619.mp4\n",
            "\n"
          ]
        },
        {
          "output_type": "stream",
          "name": "stderr",
          "text": []
        },
        {
          "output_type": "stream",
          "name": "stdout",
          "text": [
            "Moviepy - Done !\n",
            "Moviepy - video ready /content/drive/MyDrive/PumpkinSeeds/datasource/dataSignVideos/my_13619.mp4\n",
            "Video segment saved to /content/drive/MyDrive/PumpkinSeeds/datasource/dataSignVideos/my_13619.mp4\n",
            "An error occurred: Eq6SnaimpzQ is unavailable\n",
            "An error occurred: Eq6SnaimpzQ is unavailable\n",
            "Downloaded: Emotion Sign Language successfully to /content/drive/MyDrive/PumpkinSeeds/datasource/dataSignVideos/\n",
            "Moviepy - Building video /content/drive/MyDrive/PumpkinSeeds/datasource/dataSignVideos/love_13708.mp4.\n",
            "MoviePy - Writing audio in love_13708TEMP_MPY_wvf_snd.mp4\n"
          ]
        },
        {
          "output_type": "stream",
          "name": "stderr",
          "text": []
        },
        {
          "output_type": "stream",
          "name": "stdout",
          "text": [
            "MoviePy - Done.\n",
            "Moviepy - Writing video /content/drive/MyDrive/PumpkinSeeds/datasource/dataSignVideos/love_13708.mp4\n",
            "\n"
          ]
        },
        {
          "output_type": "stream",
          "name": "stderr",
          "text": []
        },
        {
          "output_type": "stream",
          "name": "stdout",
          "text": [
            "Moviepy - Done !\n",
            "Moviepy - video ready /content/drive/MyDrive/PumpkinSeeds/datasource/dataSignVideos/love_13708.mp4\n",
            "Video segment saved to /content/drive/MyDrive/PumpkinSeeds/datasource/dataSignVideos/love_13708.mp4\n",
            "Downloaded: WEATHER-[downward-version] successfully to /content/drive/MyDrive/PumpkinSeeds/datasource/dataSignVideos/\n",
            "Moviepy - Building video /content/drive/MyDrive/PumpkinSeeds/datasource/dataSignVideos/weather_13919.mp4.\n",
            "MoviePy - Writing audio in weather_13919TEMP_MPY_wvf_snd.mp4\n"
          ]
        },
        {
          "output_type": "stream",
          "name": "stderr",
          "text": []
        },
        {
          "output_type": "stream",
          "name": "stdout",
          "text": [
            "MoviePy - Done.\n",
            "Moviepy - Writing video /content/drive/MyDrive/PumpkinSeeds/datasource/dataSignVideos/weather_13919.mp4\n",
            "\n"
          ]
        },
        {
          "output_type": "stream",
          "name": "stderr",
          "text": []
        },
        {
          "output_type": "stream",
          "name": "stdout",
          "text": [
            "Moviepy - Done !\n",
            "Moviepy - video ready /content/drive/MyDrive/PumpkinSeeds/datasource/dataSignVideos/weather_13919.mp4\n",
            "Video segment saved to /content/drive/MyDrive/PumpkinSeeds/datasource/dataSignVideos/weather_13919.mp4\n",
            "Downloaded: Unit 01 Vocabulary successfully to /content/drive/MyDrive/PumpkinSeeds/datasource/dataSignVideos/\n",
            "Moviepy - Building video /content/drive/MyDrive/PumpkinSeeds/datasource/dataSignVideos/you_13960.mp4.\n",
            "MoviePy - Writing audio in you_13960TEMP_MPY_wvf_snd.mp4\n"
          ]
        },
        {
          "output_type": "stream",
          "name": "stderr",
          "text": []
        },
        {
          "output_type": "stream",
          "name": "stdout",
          "text": [
            "MoviePy - Done.\n",
            "Moviepy - Writing video /content/drive/MyDrive/PumpkinSeeds/datasource/dataSignVideos/you_13960.mp4\n",
            "\n"
          ]
        },
        {
          "output_type": "stream",
          "name": "stderr",
          "text": []
        },
        {
          "output_type": "stream",
          "name": "stdout",
          "text": [
            "Moviepy - Done !\n",
            "Moviepy - video ready /content/drive/MyDrive/PumpkinSeeds/datasource/dataSignVideos/you_13960.mp4\n",
            "Video segment saved to /content/drive/MyDrive/PumpkinSeeds/datasource/dataSignVideos/you_13960.mp4\n",
            "Downloaded: Unit 01 Vocabulary successfully to /content/drive/MyDrive/PumpkinSeeds/datasource/dataSignVideos/\n",
            "Moviepy - Building video /content/drive/MyDrive/PumpkinSeeds/datasource/dataSignVideos/my_13962.mp4.\n",
            "MoviePy - Writing audio in my_13962TEMP_MPY_wvf_snd.mp4\n"
          ]
        },
        {
          "output_type": "stream",
          "name": "stderr",
          "text": []
        },
        {
          "output_type": "stream",
          "name": "stdout",
          "text": [
            "MoviePy - Done.\n",
            "Moviepy - Writing video /content/drive/MyDrive/PumpkinSeeds/datasource/dataSignVideos/my_13962.mp4\n",
            "\n"
          ]
        },
        {
          "output_type": "stream",
          "name": "stderr",
          "text": []
        },
        {
          "output_type": "stream",
          "name": "stdout",
          "text": [
            "Moviepy - Done !\n",
            "Moviepy - video ready /content/drive/MyDrive/PumpkinSeeds/datasource/dataSignVideos/my_13962.mp4\n",
            "Video segment saved to /content/drive/MyDrive/PumpkinSeeds/datasource/dataSignVideos/my_13962.mp4\n",
            "Downloaded: Unit 01 Vocabulary successfully to /content/drive/MyDrive/PumpkinSeeds/datasource/dataSignVideos/\n",
            "Moviepy - Building video /content/drive/MyDrive/PumpkinSeeds/datasource/dataSignVideos/who_13966.mp4.\n",
            "MoviePy - Writing audio in who_13966TEMP_MPY_wvf_snd.mp4\n"
          ]
        },
        {
          "output_type": "stream",
          "name": "stderr",
          "text": []
        },
        {
          "output_type": "stream",
          "name": "stdout",
          "text": [
            "MoviePy - Done.\n",
            "Moviepy - Writing video /content/drive/MyDrive/PumpkinSeeds/datasource/dataSignVideos/who_13966.mp4\n",
            "\n"
          ]
        },
        {
          "output_type": "stream",
          "name": "stderr",
          "text": []
        },
        {
          "output_type": "stream",
          "name": "stdout",
          "text": [
            "Moviepy - Done !\n",
            "Moviepy - video ready /content/drive/MyDrive/PumpkinSeeds/datasource/dataSignVideos/who_13966.mp4\n",
            "Video segment saved to /content/drive/MyDrive/PumpkinSeeds/datasource/dataSignVideos/who_13966.mp4\n",
            "Downloaded: Unit 01 Vocabulary successfully to /content/drive/MyDrive/PumpkinSeeds/datasource/dataSignVideos/\n",
            "Moviepy - Building video /content/drive/MyDrive/PumpkinSeeds/datasource/dataSignVideos/hello_13982.mp4.\n",
            "MoviePy - Writing audio in hello_13982TEMP_MPY_wvf_snd.mp4\n"
          ]
        },
        {
          "output_type": "stream",
          "name": "stderr",
          "text": []
        },
        {
          "output_type": "stream",
          "name": "stdout",
          "text": [
            "MoviePy - Done.\n",
            "Moviepy - Writing video /content/drive/MyDrive/PumpkinSeeds/datasource/dataSignVideos/hello_13982.mp4\n",
            "\n"
          ]
        },
        {
          "output_type": "stream",
          "name": "stderr",
          "text": []
        },
        {
          "output_type": "stream",
          "name": "stdout",
          "text": [
            "Moviepy - Done !\n",
            "Moviepy - video ready /content/drive/MyDrive/PumpkinSeeds/datasource/dataSignVideos/hello_13982.mp4\n",
            "Video segment saved to /content/drive/MyDrive/PumpkinSeeds/datasource/dataSignVideos/hello_13982.mp4\n",
            "Downloaded: Sign MY successfully to /content/drive/MyDrive/PumpkinSeeds/datasource/dataSignVideos/\n",
            "Moviepy - Building video /content/drive/MyDrive/PumpkinSeeds/datasource/dataSignVideos/my_13996.mp4.\n",
            "MoviePy - Writing audio in my_13996TEMP_MPY_wvf_snd.mp4\n"
          ]
        },
        {
          "output_type": "stream",
          "name": "stderr",
          "text": []
        },
        {
          "output_type": "stream",
          "name": "stdout",
          "text": [
            "MoviePy - Done.\n",
            "Moviepy - Writing video /content/drive/MyDrive/PumpkinSeeds/datasource/dataSignVideos/my_13996.mp4\n",
            "\n"
          ]
        },
        {
          "output_type": "stream",
          "name": "stderr",
          "text": []
        },
        {
          "output_type": "stream",
          "name": "stdout",
          "text": [
            "Moviepy - Done !\n",
            "Moviepy - video ready /content/drive/MyDrive/PumpkinSeeds/datasource/dataSignVideos/my_13996.mp4\n",
            "Video segment saved to /content/drive/MyDrive/PumpkinSeeds/datasource/dataSignVideos/my_13996.mp4\n",
            "Downloaded: American Sign Language: Learning the basics! successfully to /content/drive/MyDrive/PumpkinSeeds/datasource/dataSignVideos/\n",
            "Moviepy - Building video /content/drive/MyDrive/PumpkinSeeds/datasource/dataSignVideos/hello_14002.mp4.\n",
            "MoviePy - Writing audio in hello_14002TEMP_MPY_wvf_snd.mp4\n"
          ]
        },
        {
          "output_type": "stream",
          "name": "stderr",
          "text": []
        },
        {
          "output_type": "stream",
          "name": "stdout",
          "text": [
            "MoviePy - Done.\n",
            "Moviepy - Writing video /content/drive/MyDrive/PumpkinSeeds/datasource/dataSignVideos/hello_14002.mp4\n",
            "\n"
          ]
        },
        {
          "output_type": "stream",
          "name": "stderr",
          "text": []
        },
        {
          "output_type": "stream",
          "name": "stdout",
          "text": [
            "Moviepy - Done !\n",
            "Moviepy - video ready /content/drive/MyDrive/PumpkinSeeds/datasource/dataSignVideos/hello_14002.mp4\n",
            "Video segment saved to /content/drive/MyDrive/PumpkinSeeds/datasource/dataSignVideos/hello_14002.mp4\n",
            "Downloaded: American Sign Language: Learning the basics! successfully to /content/drive/MyDrive/PumpkinSeeds/datasource/dataSignVideos/\n",
            "Moviepy - Building video /content/drive/MyDrive/PumpkinSeeds/datasource/dataSignVideos/hello_14003.mp4.\n",
            "MoviePy - Writing audio in hello_14003TEMP_MPY_wvf_snd.mp4\n"
          ]
        },
        {
          "output_type": "stream",
          "name": "stderr",
          "text": []
        },
        {
          "output_type": "stream",
          "name": "stdout",
          "text": [
            "MoviePy - Done.\n",
            "Moviepy - Writing video /content/drive/MyDrive/PumpkinSeeds/datasource/dataSignVideos/hello_14003.mp4\n",
            "\n"
          ]
        },
        {
          "output_type": "stream",
          "name": "stderr",
          "text": []
        },
        {
          "output_type": "stream",
          "name": "stdout",
          "text": [
            "Moviepy - Done !\n",
            "Moviepy - video ready /content/drive/MyDrive/PumpkinSeeds/datasource/dataSignVideos/hello_14003.mp4\n",
            "Video segment saved to /content/drive/MyDrive/PumpkinSeeds/datasource/dataSignVideos/hello_14003.mp4\n",
            "Downloaded: Useful vocab successfully to /content/drive/MyDrive/PumpkinSeeds/datasource/dataSignVideos/\n",
            "Moviepy - Building video /content/drive/MyDrive/PumpkinSeeds/datasource/dataSignVideos/who_14119.mp4.\n",
            "MoviePy - Writing audio in who_14119TEMP_MPY_wvf_snd.mp4\n"
          ]
        },
        {
          "output_type": "stream",
          "name": "stderr",
          "text": []
        },
        {
          "output_type": "stream",
          "name": "stdout",
          "text": [
            "MoviePy - Done.\n",
            "Moviepy - Writing video /content/drive/MyDrive/PumpkinSeeds/datasource/dataSignVideos/who_14119.mp4\n",
            "\n"
          ]
        },
        {
          "output_type": "stream",
          "name": "stderr",
          "text": []
        },
        {
          "output_type": "stream",
          "name": "stdout",
          "text": [
            "Moviepy - Done !\n",
            "Moviepy - video ready /content/drive/MyDrive/PumpkinSeeds/datasource/dataSignVideos/who_14119.mp4\n",
            "Video segment saved to /content/drive/MyDrive/PumpkinSeeds/datasource/dataSignVideos/who_14119.mp4\n",
            "Downloaded: Useful vocab successfully to /content/drive/MyDrive/PumpkinSeeds/datasource/dataSignVideos/\n",
            "Moviepy - Building video /content/drive/MyDrive/PumpkinSeeds/datasource/dataSignVideos/how_14123.mp4.\n",
            "MoviePy - Writing audio in how_14123TEMP_MPY_wvf_snd.mp4\n"
          ]
        },
        {
          "output_type": "stream",
          "name": "stderr",
          "text": []
        },
        {
          "output_type": "stream",
          "name": "stdout",
          "text": [
            "MoviePy - Done.\n",
            "Moviepy - Writing video /content/drive/MyDrive/PumpkinSeeds/datasource/dataSignVideos/how_14123.mp4\n",
            "\n"
          ]
        },
        {
          "output_type": "stream",
          "name": "stderr",
          "text": []
        },
        {
          "output_type": "stream",
          "name": "stdout",
          "text": [
            "Moviepy - Done !\n",
            "Moviepy - video ready /content/drive/MyDrive/PumpkinSeeds/datasource/dataSignVideos/how_14123.mp4\n",
            "Video segment saved to /content/drive/MyDrive/PumpkinSeeds/datasource/dataSignVideos/how_14123.mp4\n",
            "Downloaded: Useful vocab successfully to /content/drive/MyDrive/PumpkinSeeds/datasource/dataSignVideos/\n",
            "Moviepy - Building video /content/drive/MyDrive/PumpkinSeeds/datasource/dataSignVideos/how_14124.mp4.\n",
            "MoviePy - Writing audio in how_14124TEMP_MPY_wvf_snd.mp4\n"
          ]
        },
        {
          "output_type": "stream",
          "name": "stderr",
          "text": []
        },
        {
          "output_type": "stream",
          "name": "stdout",
          "text": [
            "MoviePy - Done.\n",
            "Moviepy - Writing video /content/drive/MyDrive/PumpkinSeeds/datasource/dataSignVideos/how_14124.mp4\n",
            "\n"
          ]
        },
        {
          "output_type": "stream",
          "name": "stderr",
          "text": []
        },
        {
          "output_type": "stream",
          "name": "stdout",
          "text": [
            "Moviepy - Done !\n",
            "Moviepy - video ready /content/drive/MyDrive/PumpkinSeeds/datasource/dataSignVideos/how_14124.mp4\n",
            "Video segment saved to /content/drive/MyDrive/PumpkinSeeds/datasource/dataSignVideos/how_14124.mp4\n",
            "Downloaded: Useful vocab successfully to /content/drive/MyDrive/PumpkinSeeds/datasource/dataSignVideos/\n",
            "Moviepy - Building video /content/drive/MyDrive/PumpkinSeeds/datasource/dataSignVideos/love_14160.mp4.\n",
            "MoviePy - Writing audio in love_14160TEMP_MPY_wvf_snd.mp4\n"
          ]
        },
        {
          "output_type": "stream",
          "name": "stderr",
          "text": [
            "                                                                 "
          ]
        },
        {
          "output_type": "stream",
          "name": "stdout",
          "text": [
            "MoviePy - Done.\n",
            "Moviepy - Writing video /content/drive/MyDrive/PumpkinSeeds/datasource/dataSignVideos/love_14160.mp4\n",
            "\n"
          ]
        },
        {
          "output_type": "stream",
          "name": "stderr",
          "text": []
        },
        {
          "output_type": "stream",
          "name": "stdout",
          "text": [
            "Moviepy - Done !\n",
            "Moviepy - video ready /content/drive/MyDrive/PumpkinSeeds/datasource/dataSignVideos/love_14160.mp4\n",
            "Video segment saved to /content/drive/MyDrive/PumpkinSeeds/datasource/dataSignVideos/love_14160.mp4\n",
            "An error occurred: 3TH0mPZ3gbE requires login to view, YouTube reason: Please sign in\n",
            "Downloaded: ASL: Time successfully to /content/drive/MyDrive/PumpkinSeeds/datasource/dataSignVideos/\n",
            "Moviepy - Building video /content/drive/MyDrive/PumpkinSeeds/datasource/dataSignVideos/today_14327.mp4.\n",
            "MoviePy - Writing audio in today_14327TEMP_MPY_wvf_snd.mp4\n"
          ]
        },
        {
          "output_type": "stream",
          "name": "stderr",
          "text": []
        },
        {
          "output_type": "stream",
          "name": "stdout",
          "text": [
            "MoviePy - Done.\n",
            "Moviepy - Writing video /content/drive/MyDrive/PumpkinSeeds/datasource/dataSignVideos/today_14327.mp4\n",
            "\n"
          ]
        },
        {
          "output_type": "stream",
          "name": "stderr",
          "text": []
        },
        {
          "output_type": "stream",
          "name": "stdout",
          "text": [
            "Moviepy - Done !\n",
            "Moviepy - video ready /content/drive/MyDrive/PumpkinSeeds/datasource/dataSignVideos/today_14327.mp4\n",
            "Video segment saved to /content/drive/MyDrive/PumpkinSeeds/datasource/dataSignVideos/today_14327.mp4\n",
            "Downloaded: love - ASL sign for love successfully to /content/drive/MyDrive/PumpkinSeeds/datasource/dataSignVideos/\n",
            "Moviepy - Building video /content/drive/MyDrive/PumpkinSeeds/datasource/dataSignVideos/love_14405.mp4.\n",
            "MoviePy - Writing audio in love_14405TEMP_MPY_wvf_snd.mp4\n"
          ]
        },
        {
          "output_type": "stream",
          "name": "stderr",
          "text": []
        },
        {
          "output_type": "stream",
          "name": "stdout",
          "text": [
            "MoviePy - Done.\n",
            "Moviepy - Writing video /content/drive/MyDrive/PumpkinSeeds/datasource/dataSignVideos/love_14405.mp4\n",
            "\n"
          ]
        },
        {
          "output_type": "stream",
          "name": "stderr",
          "text": []
        },
        {
          "output_type": "stream",
          "name": "stdout",
          "text": [
            "Moviepy - Done !\n",
            "Moviepy - video ready /content/drive/MyDrive/PumpkinSeeds/datasource/dataSignVideos/love_14405.mp4\n",
            "Video segment saved to /content/drive/MyDrive/PumpkinSeeds/datasource/dataSignVideos/love_14405.mp4\n",
            "Downloaded: love - ASL sign for love successfully to /content/drive/MyDrive/PumpkinSeeds/datasource/dataSignVideos/\n",
            "Moviepy - Building video /content/drive/MyDrive/PumpkinSeeds/datasource/dataSignVideos/love_14406.mp4.\n",
            "MoviePy - Writing audio in love_14406TEMP_MPY_wvf_snd.mp4\n"
          ]
        },
        {
          "output_type": "stream",
          "name": "stderr",
          "text": []
        },
        {
          "output_type": "stream",
          "name": "stdout",
          "text": [
            "MoviePy - Done.\n",
            "Moviepy - Writing video /content/drive/MyDrive/PumpkinSeeds/datasource/dataSignVideos/love_14406.mp4\n",
            "\n"
          ]
        },
        {
          "output_type": "stream",
          "name": "stderr",
          "text": []
        },
        {
          "output_type": "stream",
          "name": "stdout",
          "text": [
            "Moviepy - Done !\n",
            "Moviepy - video ready /content/drive/MyDrive/PumpkinSeeds/datasource/dataSignVideos/love_14406.mp4\n",
            "Video segment saved to /content/drive/MyDrive/PumpkinSeeds/datasource/dataSignVideos/love_14406.mp4\n",
            "Downloaded: Making Conversation Vocabulary | ASL - American Sign Language successfully to /content/drive/MyDrive/PumpkinSeeds/datasource/dataSignVideos/\n",
            "Moviepy - Building video /content/drive/MyDrive/PumpkinSeeds/datasource/dataSignVideos/today_14529.mp4.\n",
            "MoviePy - Writing audio in today_14529TEMP_MPY_wvf_snd.mp4\n"
          ]
        },
        {
          "output_type": "stream",
          "name": "stderr",
          "text": []
        },
        {
          "output_type": "stream",
          "name": "stdout",
          "text": [
            "MoviePy - Done.\n",
            "Moviepy - Writing video /content/drive/MyDrive/PumpkinSeeds/datasource/dataSignVideos/today_14529.mp4\n",
            "\n"
          ]
        },
        {
          "output_type": "stream",
          "name": "stderr",
          "text": []
        },
        {
          "output_type": "stream",
          "name": "stdout",
          "text": [
            "Moviepy - Done !\n",
            "Moviepy - video ready /content/drive/MyDrive/PumpkinSeeds/datasource/dataSignVideos/today_14529.mp4\n",
            "Video segment saved to /content/drive/MyDrive/PumpkinSeeds/datasource/dataSignVideos/today_14529.mp4\n",
            "Downloaded: love successfully to /content/drive/MyDrive/PumpkinSeeds/datasource/dataSignVideos/\n",
            "Moviepy - Building video /content/drive/MyDrive/PumpkinSeeds/datasource/dataSignVideos/love_14650.mp4.\n",
            "MoviePy - Writing audio in love_14650TEMP_MPY_wvf_snd.mp4\n"
          ]
        },
        {
          "output_type": "stream",
          "name": "stderr",
          "text": []
        },
        {
          "output_type": "stream",
          "name": "stdout",
          "text": [
            "MoviePy - Done.\n",
            "Moviepy - Writing video /content/drive/MyDrive/PumpkinSeeds/datasource/dataSignVideos/love_14650.mp4\n",
            "\n"
          ]
        },
        {
          "output_type": "stream",
          "name": "stderr",
          "text": []
        },
        {
          "output_type": "stream",
          "name": "stdout",
          "text": [
            "Moviepy - Done !\n",
            "Moviepy - video ready /content/drive/MyDrive/PumpkinSeeds/datasource/dataSignVideos/love_14650.mp4\n",
            "Video segment saved to /content/drive/MyDrive/PumpkinSeeds/datasource/dataSignVideos/love_14650.mp4\n",
            "Downloaded: Introduction to American Sign Language: Questions and Small Talk! successfully to /content/drive/MyDrive/PumpkinSeeds/datasource/dataSignVideos/\n",
            "Moviepy - Building video /content/drive/MyDrive/PumpkinSeeds/datasource/dataSignVideos/you_14653.mp4.\n",
            "MoviePy - Writing audio in you_14653TEMP_MPY_wvf_snd.mp4\n"
          ]
        },
        {
          "output_type": "stream",
          "name": "stderr",
          "text": []
        },
        {
          "output_type": "stream",
          "name": "stdout",
          "text": [
            "MoviePy - Done.\n",
            "Moviepy - Writing video /content/drive/MyDrive/PumpkinSeeds/datasource/dataSignVideos/you_14653.mp4\n",
            "\n"
          ]
        },
        {
          "output_type": "stream",
          "name": "stderr",
          "text": []
        },
        {
          "output_type": "stream",
          "name": "stdout",
          "text": [
            "Moviepy - Done !\n",
            "Moviepy - video ready /content/drive/MyDrive/PumpkinSeeds/datasource/dataSignVideos/you_14653.mp4\n",
            "Video segment saved to /content/drive/MyDrive/PumpkinSeeds/datasource/dataSignVideos/you_14653.mp4\n",
            "Downloaded: Introduction to American Sign Language: Questions and Small Talk! successfully to /content/drive/MyDrive/PumpkinSeeds/datasource/dataSignVideos/\n",
            "Moviepy - Building video /content/drive/MyDrive/PumpkinSeeds/datasource/dataSignVideos/we_14655.mp4.\n",
            "MoviePy - Writing audio in we_14655TEMP_MPY_wvf_snd.mp4\n"
          ]
        },
        {
          "output_type": "stream",
          "name": "stderr",
          "text": []
        },
        {
          "output_type": "stream",
          "name": "stdout",
          "text": [
            "MoviePy - Done.\n",
            "Moviepy - Writing video /content/drive/MyDrive/PumpkinSeeds/datasource/dataSignVideos/we_14655.mp4\n",
            "\n"
          ]
        },
        {
          "output_type": "stream",
          "name": "stderr",
          "text": []
        },
        {
          "output_type": "stream",
          "name": "stdout",
          "text": [
            "Moviepy - Done !\n",
            "Moviepy - video ready /content/drive/MyDrive/PumpkinSeeds/datasource/dataSignVideos/we_14655.mp4\n",
            "Video segment saved to /content/drive/MyDrive/PumpkinSeeds/datasource/dataSignVideos/we_14655.mp4\n",
            "Downloaded: Introduction to American Sign Language: Questions and Small Talk! successfully to /content/drive/MyDrive/PumpkinSeeds/datasource/dataSignVideos/\n",
            "Moviepy - Building video /content/drive/MyDrive/PumpkinSeeds/datasource/dataSignVideos/my_14656.mp4.\n",
            "MoviePy - Writing audio in my_14656TEMP_MPY_wvf_snd.mp4\n"
          ]
        },
        {
          "output_type": "stream",
          "name": "stderr",
          "text": []
        },
        {
          "output_type": "stream",
          "name": "stdout",
          "text": [
            "MoviePy - Done.\n",
            "Moviepy - Writing video /content/drive/MyDrive/PumpkinSeeds/datasource/dataSignVideos/my_14656.mp4\n",
            "\n"
          ]
        },
        {
          "output_type": "stream",
          "name": "stderr",
          "text": []
        },
        {
          "output_type": "stream",
          "name": "stdout",
          "text": [
            "Moviepy - Done !\n",
            "Moviepy - video ready /content/drive/MyDrive/PumpkinSeeds/datasource/dataSignVideos/my_14656.mp4\n",
            "Video segment saved to /content/drive/MyDrive/PumpkinSeeds/datasource/dataSignVideos/my_14656.mp4\n",
            "Downloaded: Introduction to American Sign Language: Questions and Small Talk! successfully to /content/drive/MyDrive/PumpkinSeeds/datasource/dataSignVideos/\n",
            "Moviepy - Building video /content/drive/MyDrive/PumpkinSeeds/datasource/dataSignVideos/who_14663.mp4.\n",
            "MoviePy - Writing audio in who_14663TEMP_MPY_wvf_snd.mp4\n"
          ]
        },
        {
          "output_type": "stream",
          "name": "stderr",
          "text": []
        },
        {
          "output_type": "stream",
          "name": "stdout",
          "text": [
            "MoviePy - Done.\n",
            "Moviepy - Writing video /content/drive/MyDrive/PumpkinSeeds/datasource/dataSignVideos/who_14663.mp4\n",
            "\n"
          ]
        },
        {
          "output_type": "stream",
          "name": "stderr",
          "text": []
        },
        {
          "output_type": "stream",
          "name": "stdout",
          "text": [
            "Moviepy - Done !\n",
            "Moviepy - video ready /content/drive/MyDrive/PumpkinSeeds/datasource/dataSignVideos/who_14663.mp4\n",
            "Video segment saved to /content/drive/MyDrive/PumpkinSeeds/datasource/dataSignVideos/who_14663.mp4\n",
            "Downloaded: Unit 1 successfully to /content/drive/MyDrive/PumpkinSeeds/datasource/dataSignVideos/\n",
            "Moviepy - Building video /content/drive/MyDrive/PumpkinSeeds/datasource/dataSignVideos/you_15225.mp4.\n",
            "MoviePy - Writing audio in you_15225TEMP_MPY_wvf_snd.mp4\n"
          ]
        },
        {
          "output_type": "stream",
          "name": "stderr",
          "text": []
        },
        {
          "output_type": "stream",
          "name": "stdout",
          "text": [
            "MoviePy - Done.\n",
            "Moviepy - Writing video /content/drive/MyDrive/PumpkinSeeds/datasource/dataSignVideos/you_15225.mp4\n",
            "\n"
          ]
        },
        {
          "output_type": "stream",
          "name": "stderr",
          "text": []
        },
        {
          "output_type": "stream",
          "name": "stdout",
          "text": [
            "Moviepy - Done !\n",
            "Moviepy - video ready /content/drive/MyDrive/PumpkinSeeds/datasource/dataSignVideos/you_15225.mp4\n",
            "Video segment saved to /content/drive/MyDrive/PumpkinSeeds/datasource/dataSignVideos/you_15225.mp4\n",
            "Downloaded: Unit 1 successfully to /content/drive/MyDrive/PumpkinSeeds/datasource/dataSignVideos/\n",
            "Moviepy - Building video /content/drive/MyDrive/PumpkinSeeds/datasource/dataSignVideos/my_15242.mp4.\n",
            "MoviePy - Writing audio in my_15242TEMP_MPY_wvf_snd.mp4\n"
          ]
        },
        {
          "output_type": "stream",
          "name": "stderr",
          "text": []
        },
        {
          "output_type": "stream",
          "name": "stdout",
          "text": [
            "MoviePy - Done.\n",
            "Moviepy - Writing video /content/drive/MyDrive/PumpkinSeeds/datasource/dataSignVideos/my_15242.mp4\n",
            "\n"
          ]
        },
        {
          "output_type": "stream",
          "name": "stderr",
          "text": []
        },
        {
          "output_type": "stream",
          "name": "stdout",
          "text": [
            "Moviepy - Done !\n",
            "Moviepy - video ready /content/drive/MyDrive/PumpkinSeeds/datasource/dataSignVideos/my_15242.mp4\n",
            "Video segment saved to /content/drive/MyDrive/PumpkinSeeds/datasource/dataSignVideos/my_15242.mp4\n",
            "Downloaded: Unit 1 successfully to /content/drive/MyDrive/PumpkinSeeds/datasource/dataSignVideos/\n",
            "Moviepy - Building video /content/drive/MyDrive/PumpkinSeeds/datasource/dataSignVideos/today_15261.mp4.\n",
            "MoviePy - Writing audio in today_15261TEMP_MPY_wvf_snd.mp4\n"
          ]
        },
        {
          "output_type": "stream",
          "name": "stderr",
          "text": [
            "                                                       "
          ]
        },
        {
          "output_type": "stream",
          "name": "stdout",
          "text": [
            "MoviePy - Done.\n",
            "Moviepy - Writing video /content/drive/MyDrive/PumpkinSeeds/datasource/dataSignVideos/today_15261.mp4\n",
            "\n"
          ]
        },
        {
          "output_type": "stream",
          "name": "stderr",
          "text": []
        },
        {
          "output_type": "stream",
          "name": "stdout",
          "text": [
            "Moviepy - Done !\n",
            "Moviepy - video ready /content/drive/MyDrive/PumpkinSeeds/datasource/dataSignVideos/today_15261.mp4\n",
            "Video segment saved to /content/drive/MyDrive/PumpkinSeeds/datasource/dataSignVideos/today_15261.mp4\n",
            "Downloaded: Unit 1 successfully to /content/drive/MyDrive/PumpkinSeeds/datasource/dataSignVideos/\n",
            "Moviepy - Building video /content/drive/MyDrive/PumpkinSeeds/datasource/dataSignVideos/we_15266.mp4.\n",
            "MoviePy - Writing audio in we_15266TEMP_MPY_wvf_snd.mp4\n"
          ]
        },
        {
          "output_type": "stream",
          "name": "stderr",
          "text": []
        },
        {
          "output_type": "stream",
          "name": "stdout",
          "text": [
            "MoviePy - Done.\n",
            "Moviepy - Writing video /content/drive/MyDrive/PumpkinSeeds/datasource/dataSignVideos/we_15266.mp4\n",
            "\n"
          ]
        },
        {
          "output_type": "stream",
          "name": "stderr",
          "text": []
        },
        {
          "output_type": "stream",
          "name": "stdout",
          "text": [
            "Moviepy - Done !\n",
            "Moviepy - video ready /content/drive/MyDrive/PumpkinSeeds/datasource/dataSignVideos/we_15266.mp4\n",
            "Video segment saved to /content/drive/MyDrive/PumpkinSeeds/datasource/dataSignVideos/we_15266.mp4\n",
            "Downloaded: Unit 1 successfully to /content/drive/MyDrive/PumpkinSeeds/datasource/dataSignVideos/\n",
            "Moviepy - Building video /content/drive/MyDrive/PumpkinSeeds/datasource/dataSignVideos/you_15269.mp4.\n",
            "MoviePy - Writing audio in you_15269TEMP_MPY_wvf_snd.mp4\n"
          ]
        },
        {
          "output_type": "stream",
          "name": "stderr",
          "text": []
        },
        {
          "output_type": "stream",
          "name": "stdout",
          "text": [
            "MoviePy - Done.\n",
            "Moviepy - Writing video /content/drive/MyDrive/PumpkinSeeds/datasource/dataSignVideos/you_15269.mp4\n",
            "\n"
          ]
        },
        {
          "output_type": "stream",
          "name": "stderr",
          "text": []
        },
        {
          "output_type": "stream",
          "name": "stdout",
          "text": [
            "Moviepy - Done !\n",
            "Moviepy - video ready /content/drive/MyDrive/PumpkinSeeds/datasource/dataSignVideos/you_15269.mp4\n",
            "Video segment saved to /content/drive/MyDrive/PumpkinSeeds/datasource/dataSignVideos/you_15269.mp4\n",
            "Downloaded: HOW (alternative) successfully to /content/drive/MyDrive/PumpkinSeeds/datasource/dataSignVideos/\n",
            "Moviepy - Building video /content/drive/MyDrive/PumpkinSeeds/datasource/dataSignVideos/how_15277.mp4.\n",
            "MoviePy - Writing audio in how_15277TEMP_MPY_wvf_snd.mp4\n"
          ]
        },
        {
          "output_type": "stream",
          "name": "stderr",
          "text": []
        },
        {
          "output_type": "stream",
          "name": "stdout",
          "text": [
            "MoviePy - Done.\n",
            "Moviepy - Writing video /content/drive/MyDrive/PumpkinSeeds/datasource/dataSignVideos/how_15277.mp4\n",
            "\n"
          ]
        },
        {
          "output_type": "stream",
          "name": "stderr",
          "text": []
        },
        {
          "output_type": "stream",
          "name": "stdout",
          "text": [
            "Moviepy - Done !\n",
            "Moviepy - video ready /content/drive/MyDrive/PumpkinSeeds/datasource/dataSignVideos/how_15277.mp4\n",
            "Video segment saved to /content/drive/MyDrive/PumpkinSeeds/datasource/dataSignVideos/how_15277.mp4\n",
            "An error occurred: lqe2ur5PXKQ is unavailable\n",
            "An error occurred: vkjQHTjhcD4 requires login to view, YouTube reason: Please sign in\n",
            "Downloaded: Sign YOU successfully to /content/drive/MyDrive/PumpkinSeeds/datasource/dataSignVideos/\n",
            "Moviepy - Building video /content/drive/MyDrive/PumpkinSeeds/datasource/dataSignVideos/you_15436.mp4.\n",
            "MoviePy - Writing audio in you_15436TEMP_MPY_wvf_snd.mp4\n"
          ]
        },
        {
          "output_type": "stream",
          "name": "stderr",
          "text": []
        },
        {
          "output_type": "stream",
          "name": "stdout",
          "text": [
            "MoviePy - Done.\n",
            "Moviepy - Writing video /content/drive/MyDrive/PumpkinSeeds/datasource/dataSignVideos/you_15436.mp4\n",
            "\n"
          ]
        },
        {
          "output_type": "stream",
          "name": "stderr",
          "text": []
        },
        {
          "output_type": "stream",
          "name": "stdout",
          "text": [
            "Moviepy - Done !\n",
            "Moviepy - video ready /content/drive/MyDrive/PumpkinSeeds/datasource/dataSignVideos/you_15436.mp4\n",
            "Video segment saved to /content/drive/MyDrive/PumpkinSeeds/datasource/dataSignVideos/you_15436.mp4\n",
            "An error occurred: a6O9GUBpc3c is unavailable\n",
            "An error occurred: gfrWv86jq68 is unavailable\n",
            "An error occurred: 14sywd-VUsE is unavailable\n",
            "Downloaded: Today successfully to /content/drive/MyDrive/PumpkinSeeds/datasource/dataSignVideos/\n",
            "Moviepy - Building video /content/drive/MyDrive/PumpkinSeeds/datasource/dataSignVideos/today_15935.mp4.\n",
            "MoviePy - Writing audio in today_15935TEMP_MPY_wvf_snd.mp4\n"
          ]
        },
        {
          "output_type": "stream",
          "name": "stderr",
          "text": []
        },
        {
          "output_type": "stream",
          "name": "stdout",
          "text": [
            "MoviePy - Done.\n",
            "Moviepy - Writing video /content/drive/MyDrive/PumpkinSeeds/datasource/dataSignVideos/today_15935.mp4\n",
            "\n"
          ]
        },
        {
          "output_type": "stream",
          "name": "stderr",
          "text": []
        },
        {
          "output_type": "stream",
          "name": "stdout",
          "text": [
            "Moviepy - Done !\n",
            "Moviepy - video ready /content/drive/MyDrive/PumpkinSeeds/datasource/dataSignVideos/today_15935.mp4\n",
            "Video segment saved to /content/drive/MyDrive/PumpkinSeeds/datasource/dataSignVideos/today_15935.mp4\n",
            "Downloaded: Today successfully to /content/drive/MyDrive/PumpkinSeeds/datasource/dataSignVideos/\n",
            "Moviepy - Building video /content/drive/MyDrive/PumpkinSeeds/datasource/dataSignVideos/today_15936.mp4.\n",
            "MoviePy - Writing audio in today_15936TEMP_MPY_wvf_snd.mp4\n"
          ]
        },
        {
          "output_type": "stream",
          "name": "stderr",
          "text": []
        },
        {
          "output_type": "stream",
          "name": "stdout",
          "text": [
            "MoviePy - Done.\n",
            "Moviepy - Writing video /content/drive/MyDrive/PumpkinSeeds/datasource/dataSignVideos/today_15936.mp4\n",
            "\n"
          ]
        },
        {
          "output_type": "stream",
          "name": "stderr",
          "text": []
        },
        {
          "output_type": "stream",
          "name": "stdout",
          "text": [
            "Moviepy - Done !\n",
            "Moviepy - video ready /content/drive/MyDrive/PumpkinSeeds/datasource/dataSignVideos/today_15936.mp4\n",
            "Video segment saved to /content/drive/MyDrive/PumpkinSeeds/datasource/dataSignVideos/today_15936.mp4\n",
            "Downloaded: Today successfully to /content/drive/MyDrive/PumpkinSeeds/datasource/dataSignVideos/\n",
            "Moviepy - Building video /content/drive/MyDrive/PumpkinSeeds/datasource/dataSignVideos/today_15937.mp4.\n",
            "MoviePy - Writing audio in today_15937TEMP_MPY_wvf_snd.mp4\n"
          ]
        },
        {
          "output_type": "stream",
          "name": "stderr",
          "text": []
        },
        {
          "output_type": "stream",
          "name": "stdout",
          "text": [
            "MoviePy - Done.\n",
            "Moviepy - Writing video /content/drive/MyDrive/PumpkinSeeds/datasource/dataSignVideos/today_15937.mp4\n",
            "\n"
          ]
        },
        {
          "output_type": "stream",
          "name": "stderr",
          "text": []
        },
        {
          "output_type": "stream",
          "name": "stdout",
          "text": [
            "Moviepy - Done !\n",
            "Moviepy - video ready /content/drive/MyDrive/PumpkinSeeds/datasource/dataSignVideos/today_15937.mp4\n",
            "Video segment saved to /content/drive/MyDrive/PumpkinSeeds/datasource/dataSignVideos/today_15937.mp4\n",
            "Downloaded: ASL 1: Unit 1 Vocabulary successfully to /content/drive/MyDrive/PumpkinSeeds/datasource/dataSignVideos/\n",
            "Moviepy - Building video /content/drive/MyDrive/PumpkinSeeds/datasource/dataSignVideos/you_15980.mp4.\n",
            "MoviePy - Writing audio in you_15980TEMP_MPY_wvf_snd.mp4\n"
          ]
        },
        {
          "output_type": "stream",
          "name": "stderr",
          "text": []
        },
        {
          "output_type": "stream",
          "name": "stdout",
          "text": [
            "MoviePy - Done.\n",
            "Moviepy - Writing video /content/drive/MyDrive/PumpkinSeeds/datasource/dataSignVideos/you_15980.mp4\n",
            "\n"
          ]
        },
        {
          "output_type": "stream",
          "name": "stderr",
          "text": []
        },
        {
          "output_type": "stream",
          "name": "stdout",
          "text": [
            "Moviepy - Done !\n",
            "Moviepy - video ready /content/drive/MyDrive/PumpkinSeeds/datasource/dataSignVideos/you_15980.mp4\n",
            "Video segment saved to /content/drive/MyDrive/PumpkinSeeds/datasource/dataSignVideos/you_15980.mp4\n",
            "Downloaded: ASL 1: Unit 1 Vocabulary successfully to /content/drive/MyDrive/PumpkinSeeds/datasource/dataSignVideos/\n",
            "Moviepy - Building video /content/drive/MyDrive/PumpkinSeeds/datasource/dataSignVideos/who_15984.mp4.\n",
            "MoviePy - Writing audio in who_15984TEMP_MPY_wvf_snd.mp4\n"
          ]
        },
        {
          "output_type": "stream",
          "name": "stderr",
          "text": []
        },
        {
          "output_type": "stream",
          "name": "stdout",
          "text": [
            "MoviePy - Done.\n",
            "Moviepy - Writing video /content/drive/MyDrive/PumpkinSeeds/datasource/dataSignVideos/who_15984.mp4\n",
            "\n"
          ]
        },
        {
          "output_type": "stream",
          "name": "stderr",
          "text": []
        },
        {
          "output_type": "stream",
          "name": "stdout",
          "text": [
            "Moviepy - Done !\n",
            "Moviepy - video ready /content/drive/MyDrive/PumpkinSeeds/datasource/dataSignVideos/who_15984.mp4\n",
            "Video segment saved to /content/drive/MyDrive/PumpkinSeeds/datasource/dataSignVideos/who_15984.mp4\n"
          ]
        }
      ]
    },
    {
      "cell_type": "code",
      "source": [
        "download_youtube_video(df_filter_test, save_path=file_path_vido)"
      ],
      "metadata": {
        "colab": {
          "base_uri": "https://localhost:8080/"
        },
        "id": "bcDgNqumUebN",
        "outputId": "3610a37c-49d6-4b55-b3db-f3f95e2c56f5"
      },
      "execution_count": null,
      "outputs": [
        {
          "output_type": "stream",
          "name": "stdout",
          "text": [
            "Downloaded: ASL Unit 5 Vocabulary - Clothing Part 1 and 2. Turn on [CC] successfully to /content/drive/MyDrive/PumpkinSeeds/datasource/dataSignVideos/\n",
            "Moviepy - Building video /content/drive/MyDrive/PumpkinSeeds/datasource/dataSignVideos/hello_154.mp4.\n",
            "MoviePy - Writing audio in hello_154TEMP_MPY_wvf_snd.mp4\n"
          ]
        },
        {
          "output_type": "stream",
          "name": "stderr",
          "text": []
        },
        {
          "output_type": "stream",
          "name": "stdout",
          "text": [
            "MoviePy - Done.\n",
            "Moviepy - Writing video /content/drive/MyDrive/PumpkinSeeds/datasource/dataSignVideos/hello_154.mp4\n",
            "\n"
          ]
        },
        {
          "output_type": "stream",
          "name": "stderr",
          "text": []
        },
        {
          "output_type": "stream",
          "name": "stdout",
          "text": [
            "Moviepy - Done !\n",
            "Moviepy - video ready /content/drive/MyDrive/PumpkinSeeds/datasource/dataSignVideos/hello_154.mp4\n",
            "Video segment saved to /content/drive/MyDrive/PumpkinSeeds/datasource/dataSignVideos/hello_154.mp4\n",
            "An error occurred: HuViTIjghKk is unavailable\n",
            "An error occurred: HuViTIjghKk is unavailable\n",
            "An error occurred: HuViTIjghKk is unavailable\n",
            "Downloaded: ASL1 Class 3 New SIGNS successfully to /content/drive/MyDrive/PumpkinSeeds/datasource/dataSignVideos/\n",
            "Moviepy - Building video /content/drive/MyDrive/PumpkinSeeds/datasource/dataSignVideos/my_364.mp4.\n",
            "MoviePy - Writing audio in my_364TEMP_MPY_wvf_snd.mp4\n"
          ]
        },
        {
          "output_type": "stream",
          "name": "stderr",
          "text": []
        },
        {
          "output_type": "stream",
          "name": "stdout",
          "text": [
            "MoviePy - Done.\n",
            "Moviepy - Writing video /content/drive/MyDrive/PumpkinSeeds/datasource/dataSignVideos/my_364.mp4\n",
            "\n"
          ]
        },
        {
          "output_type": "stream",
          "name": "stderr",
          "text": []
        },
        {
          "output_type": "stream",
          "name": "stdout",
          "text": [
            "Moviepy - Done !\n",
            "Moviepy - video ready /content/drive/MyDrive/PumpkinSeeds/datasource/dataSignVideos/my_364.mp4\n",
            "Video segment saved to /content/drive/MyDrive/PumpkinSeeds/datasource/dataSignVideos/my_364.mp4\n",
            "Downloaded: ASL2 Class 52 SIGNS successfully to /content/drive/MyDrive/PumpkinSeeds/datasource/dataSignVideos/\n",
            "Moviepy - Building video /content/drive/MyDrive/PumpkinSeeds/datasource/dataSignVideos/hello_491.mp4.\n",
            "MoviePy - Writing audio in hello_491TEMP_MPY_wvf_snd.mp4\n"
          ]
        },
        {
          "output_type": "stream",
          "name": "stderr",
          "text": []
        },
        {
          "output_type": "stream",
          "name": "stdout",
          "text": [
            "MoviePy - Done.\n",
            "Moviepy - Writing video /content/drive/MyDrive/PumpkinSeeds/datasource/dataSignVideos/hello_491.mp4\n",
            "\n"
          ]
        },
        {
          "output_type": "stream",
          "name": "stderr",
          "text": []
        },
        {
          "output_type": "stream",
          "name": "stdout",
          "text": [
            "Moviepy - Done !\n",
            "Moviepy - video ready /content/drive/MyDrive/PumpkinSeeds/datasource/dataSignVideos/hello_491.mp4\n",
            "Video segment saved to /content/drive/MyDrive/PumpkinSeeds/datasource/dataSignVideos/hello_491.mp4\n",
            "Downloaded: ASL2 Class 54 SIGNS successfully to /content/drive/MyDrive/PumpkinSeeds/datasource/dataSignVideos/\n",
            "Moviepy - Building video /content/drive/MyDrive/PumpkinSeeds/datasource/dataSignVideos/hello_637.mp4.\n",
            "MoviePy - Writing audio in hello_637TEMP_MPY_wvf_snd.mp4\n"
          ]
        },
        {
          "output_type": "stream",
          "name": "stderr",
          "text": []
        },
        {
          "output_type": "stream",
          "name": "stdout",
          "text": [
            "MoviePy - Done.\n",
            "Moviepy - Writing video /content/drive/MyDrive/PumpkinSeeds/datasource/dataSignVideos/hello_637.mp4\n",
            "\n"
          ]
        },
        {
          "output_type": "stream",
          "name": "stderr",
          "text": []
        },
        {
          "output_type": "stream",
          "name": "stdout",
          "text": [
            "Moviepy - Done !\n",
            "Moviepy - video ready /content/drive/MyDrive/PumpkinSeeds/datasource/dataSignVideos/hello_637.mp4\n",
            "Video segment saved to /content/drive/MyDrive/PumpkinSeeds/datasource/dataSignVideos/hello_637.mp4\n",
            "Downloaded: ASL1 Class 6 New SIGNS successfully to /content/drive/MyDrive/PumpkinSeeds/datasource/dataSignVideos/\n",
            "Moviepy - Building video /content/drive/MyDrive/PumpkinSeeds/datasource/dataSignVideos/today_663.mp4.\n",
            "MoviePy - Writing audio in today_663TEMP_MPY_wvf_snd.mp4\n"
          ]
        },
        {
          "output_type": "stream",
          "name": "stderr",
          "text": []
        },
        {
          "output_type": "stream",
          "name": "stdout",
          "text": [
            "MoviePy - Done.\n",
            "Moviepy - Writing video /content/drive/MyDrive/PumpkinSeeds/datasource/dataSignVideos/today_663.mp4\n",
            "\n"
          ]
        },
        {
          "output_type": "stream",
          "name": "stderr",
          "text": []
        },
        {
          "output_type": "stream",
          "name": "stdout",
          "text": [
            "Moviepy - Done !\n",
            "Moviepy - video ready /content/drive/MyDrive/PumpkinSeeds/datasource/dataSignVideos/today_663.mp4\n",
            "Video segment saved to /content/drive/MyDrive/PumpkinSeeds/datasource/dataSignVideos/today_663.mp4\n",
            "An error occurred: 2fxtI59FmNs is unavailable\n",
            "Downloaded: ASL1 Class 5 New SIGNS successfully to /content/drive/MyDrive/PumpkinSeeds/datasource/dataSignVideos/\n",
            "Moviepy - Building video /content/drive/MyDrive/PumpkinSeeds/datasource/dataSignVideos/hello_961.mp4.\n",
            "MoviePy - Writing audio in hello_961TEMP_MPY_wvf_snd.mp4\n"
          ]
        },
        {
          "output_type": "stream",
          "name": "stderr",
          "text": []
        },
        {
          "output_type": "stream",
          "name": "stdout",
          "text": [
            "MoviePy - Done.\n",
            "Moviepy - Writing video /content/drive/MyDrive/PumpkinSeeds/datasource/dataSignVideos/hello_961.mp4\n",
            "\n"
          ]
        },
        {
          "output_type": "stream",
          "name": "stderr",
          "text": []
        },
        {
          "output_type": "stream",
          "name": "stdout",
          "text": [
            "Moviepy - Done !\n",
            "Moviepy - video ready /content/drive/MyDrive/PumpkinSeeds/datasource/dataSignVideos/hello_961.mp4\n",
            "Video segment saved to /content/drive/MyDrive/PumpkinSeeds/datasource/dataSignVideos/hello_961.mp4\n",
            "An error occurred: 3qKcPONtNXQ is unavailable\n",
            "An error occurred: 4-FrL86gJFo requires login to view, YouTube reason: Please sign in\n",
            "An error occurred: gDkZ2Zn3Sjg requires login to view, YouTube reason: Please sign in\n",
            "Downloaded: ASL1 Class 29 New SIGNS successfully to /content/drive/MyDrive/PumpkinSeeds/datasource/dataSignVideos/\n",
            "Moviepy - Building video /content/drive/MyDrive/PumpkinSeeds/datasource/dataSignVideos/hello_1275.mp4.\n",
            "MoviePy - Writing audio in hello_1275TEMP_MPY_wvf_snd.mp4\n"
          ]
        },
        {
          "output_type": "stream",
          "name": "stderr",
          "text": []
        },
        {
          "output_type": "stream",
          "name": "stdout",
          "text": [
            "MoviePy - Done.\n",
            "Moviepy - Writing video /content/drive/MyDrive/PumpkinSeeds/datasource/dataSignVideos/hello_1275.mp4\n",
            "\n"
          ]
        },
        {
          "output_type": "stream",
          "name": "stderr",
          "text": []
        },
        {
          "output_type": "stream",
          "name": "stdout",
          "text": [
            "Moviepy - Done !\n",
            "Moviepy - video ready /content/drive/MyDrive/PumpkinSeeds/datasource/dataSignVideos/hello_1275.mp4\n",
            "Video segment saved to /content/drive/MyDrive/PumpkinSeeds/datasource/dataSignVideos/hello_1275.mp4\n",
            "Downloaded: ASL1 Class 13 New SIGNS successfully to /content/drive/MyDrive/PumpkinSeeds/datasource/dataSignVideos/\n",
            "Moviepy - Building video /content/drive/MyDrive/PumpkinSeeds/datasource/dataSignVideos/weather_1404.mp4.\n",
            "MoviePy - Writing audio in weather_1404TEMP_MPY_wvf_snd.mp4\n"
          ]
        },
        {
          "output_type": "stream",
          "name": "stderr",
          "text": []
        },
        {
          "output_type": "stream",
          "name": "stdout",
          "text": [
            "MoviePy - Done.\n",
            "Moviepy - Writing video /content/drive/MyDrive/PumpkinSeeds/datasource/dataSignVideos/weather_1404.mp4\n",
            "\n"
          ]
        },
        {
          "output_type": "stream",
          "name": "stderr",
          "text": []
        },
        {
          "output_type": "stream",
          "name": "stdout",
          "text": [
            "Moviepy - Done !\n",
            "Moviepy - video ready /content/drive/MyDrive/PumpkinSeeds/datasource/dataSignVideos/weather_1404.mp4\n",
            "Video segment saved to /content/drive/MyDrive/PumpkinSeeds/datasource/dataSignVideos/weather_1404.mp4\n",
            "Downloaded: ASL1 Class 13 New SIGNS successfully to /content/drive/MyDrive/PumpkinSeeds/datasource/dataSignVideos/\n",
            "Moviepy - Building video /content/drive/MyDrive/PumpkinSeeds/datasource/dataSignVideos/weather_1405.mp4.\n",
            "MoviePy - Writing audio in weather_1405TEMP_MPY_wvf_snd.mp4\n"
          ]
        },
        {
          "output_type": "stream",
          "name": "stderr",
          "text": []
        },
        {
          "output_type": "stream",
          "name": "stdout",
          "text": [
            "MoviePy - Done.\n",
            "Moviepy - Writing video /content/drive/MyDrive/PumpkinSeeds/datasource/dataSignVideos/weather_1405.mp4\n",
            "\n"
          ]
        },
        {
          "output_type": "stream",
          "name": "stderr",
          "text": []
        },
        {
          "output_type": "stream",
          "name": "stdout",
          "text": [
            "Moviepy - Done !\n",
            "Moviepy - video ready /content/drive/MyDrive/PumpkinSeeds/datasource/dataSignVideos/weather_1405.mp4\n",
            "Video segment saved to /content/drive/MyDrive/PumpkinSeeds/datasource/dataSignVideos/weather_1405.mp4\n",
            "Downloaded: ASL1 Class 22 New SIGNS successfully to /content/drive/MyDrive/PumpkinSeeds/datasource/dataSignVideos/\n",
            "Moviepy - Building video /content/drive/MyDrive/PumpkinSeeds/datasource/dataSignVideos/love_1634.mp4.\n",
            "MoviePy - Writing audio in love_1634TEMP_MPY_wvf_snd.mp4\n"
          ]
        },
        {
          "output_type": "stream",
          "name": "stderr",
          "text": []
        },
        {
          "output_type": "stream",
          "name": "stdout",
          "text": [
            "MoviePy - Done.\n",
            "Moviepy - Writing video /content/drive/MyDrive/PumpkinSeeds/datasource/dataSignVideos/love_1634.mp4\n",
            "\n"
          ]
        },
        {
          "output_type": "stream",
          "name": "stderr",
          "text": []
        },
        {
          "output_type": "stream",
          "name": "stdout",
          "text": [
            "Moviepy - Done !\n",
            "Moviepy - video ready /content/drive/MyDrive/PumpkinSeeds/datasource/dataSignVideos/love_1634.mp4\n",
            "Video segment saved to /content/drive/MyDrive/PumpkinSeeds/datasource/dataSignVideos/love_1634.mp4\n",
            "Downloaded: ASL1 Class 48 New SIGNS successfully to /content/drive/MyDrive/PumpkinSeeds/datasource/dataSignVideos/\n",
            "Moviepy - Building video /content/drive/MyDrive/PumpkinSeeds/datasource/dataSignVideos/hello_1946.mp4.\n",
            "MoviePy - Writing audio in hello_1946TEMP_MPY_wvf_snd.mp4\n"
          ]
        },
        {
          "output_type": "stream",
          "name": "stderr",
          "text": []
        },
        {
          "output_type": "stream",
          "name": "stdout",
          "text": [
            "MoviePy - Done.\n",
            "Moviepy - Writing video /content/drive/MyDrive/PumpkinSeeds/datasource/dataSignVideos/hello_1946.mp4\n",
            "\n"
          ]
        },
        {
          "output_type": "stream",
          "name": "stderr",
          "text": []
        },
        {
          "output_type": "stream",
          "name": "stdout",
          "text": [
            "Moviepy - Done !\n",
            "Moviepy - video ready /content/drive/MyDrive/PumpkinSeeds/datasource/dataSignVideos/hello_1946.mp4\n",
            "Video segment saved to /content/drive/MyDrive/PumpkinSeeds/datasource/dataSignVideos/hello_1946.mp4\n",
            "Downloaded: Unit 1 Vocabulary successfully to /content/drive/MyDrive/PumpkinSeeds/datasource/dataSignVideos/\n",
            "Moviepy - Building video /content/drive/MyDrive/PumpkinSeeds/datasource/dataSignVideos/hello_2007.mp4.\n",
            "MoviePy - Writing audio in hello_2007TEMP_MPY_wvf_snd.mp4\n"
          ]
        },
        {
          "output_type": "stream",
          "name": "stderr",
          "text": []
        },
        {
          "output_type": "stream",
          "name": "stdout",
          "text": [
            "MoviePy - Done.\n",
            "Moviepy - Writing video /content/drive/MyDrive/PumpkinSeeds/datasource/dataSignVideos/hello_2007.mp4\n",
            "\n"
          ]
        },
        {
          "output_type": "stream",
          "name": "stderr",
          "text": []
        },
        {
          "output_type": "stream",
          "name": "stdout",
          "text": [
            "Moviepy - Done !\n",
            "Moviepy - video ready /content/drive/MyDrive/PumpkinSeeds/datasource/dataSignVideos/hello_2007.mp4\n",
            "Video segment saved to /content/drive/MyDrive/PumpkinSeeds/datasource/dataSignVideos/hello_2007.mp4\n",
            "Downloaded: Unit 1 Vocabulary successfully to /content/drive/MyDrive/PumpkinSeeds/datasource/dataSignVideos/\n",
            "Moviepy - Building video /content/drive/MyDrive/PumpkinSeeds/datasource/dataSignVideos/my_2021.mp4.\n",
            "MoviePy - Writing audio in my_2021TEMP_MPY_wvf_snd.mp4\n"
          ]
        },
        {
          "output_type": "stream",
          "name": "stderr",
          "text": []
        },
        {
          "output_type": "stream",
          "name": "stdout",
          "text": [
            "MoviePy - Done.\n",
            "Moviepy - Writing video /content/drive/MyDrive/PumpkinSeeds/datasource/dataSignVideos/my_2021.mp4\n",
            "\n"
          ]
        },
        {
          "output_type": "stream",
          "name": "stderr",
          "text": []
        },
        {
          "output_type": "stream",
          "name": "stdout",
          "text": [
            "Moviepy - Done !\n",
            "Moviepy - video ready /content/drive/MyDrive/PumpkinSeeds/datasource/dataSignVideos/my_2021.mp4\n",
            "Video segment saved to /content/drive/MyDrive/PumpkinSeeds/datasource/dataSignVideos/my_2021.mp4\n",
            "Downloaded: Unit 1 Vocabulary successfully to /content/drive/MyDrive/PumpkinSeeds/datasource/dataSignVideos/\n",
            "Moviepy - Building video /content/drive/MyDrive/PumpkinSeeds/datasource/dataSignVideos/we_2047.mp4.\n",
            "MoviePy - Writing audio in we_2047TEMP_MPY_wvf_snd.mp4\n"
          ]
        },
        {
          "output_type": "stream",
          "name": "stderr",
          "text": []
        },
        {
          "output_type": "stream",
          "name": "stdout",
          "text": [
            "MoviePy - Done.\n",
            "Moviepy - Writing video /content/drive/MyDrive/PumpkinSeeds/datasource/dataSignVideos/we_2047.mp4\n",
            "\n"
          ]
        },
        {
          "output_type": "stream",
          "name": "stderr",
          "text": []
        },
        {
          "output_type": "stream",
          "name": "stdout",
          "text": [
            "Moviepy - Done !\n",
            "Moviepy - video ready /content/drive/MyDrive/PumpkinSeeds/datasource/dataSignVideos/we_2047.mp4\n",
            "Video segment saved to /content/drive/MyDrive/PumpkinSeeds/datasource/dataSignVideos/we_2047.mp4\n",
            "Downloaded: Unit 1 Vocabulary successfully to /content/drive/MyDrive/PumpkinSeeds/datasource/dataSignVideos/\n",
            "Moviepy - Building video /content/drive/MyDrive/PumpkinSeeds/datasource/dataSignVideos/you_2065.mp4.\n",
            "MoviePy - Writing audio in you_2065TEMP_MPY_wvf_snd.mp4\n"
          ]
        },
        {
          "output_type": "stream",
          "name": "stderr",
          "text": []
        },
        {
          "output_type": "stream",
          "name": "stdout",
          "text": [
            "MoviePy - Done.\n",
            "Moviepy - Writing video /content/drive/MyDrive/PumpkinSeeds/datasource/dataSignVideos/you_2065.mp4\n",
            "\n"
          ]
        },
        {
          "output_type": "stream",
          "name": "stderr",
          "text": []
        },
        {
          "output_type": "stream",
          "name": "stdout",
          "text": [
            "Moviepy - Done !\n",
            "Moviepy - video ready /content/drive/MyDrive/PumpkinSeeds/datasource/dataSignVideos/you_2065.mp4\n",
            "Video segment saved to /content/drive/MyDrive/PumpkinSeeds/datasource/dataSignVideos/you_2065.mp4\n",
            "An error occurred: HBQaI1ZG-LU is unavailable\n",
            "An error occurred: HBQaI1ZG-LU is unavailable\n",
            "An error occurred: HBQaI1ZG-LU is unavailable\n",
            "Downloaded: ASL1 Class 15 New SIGNS successfully to /content/drive/MyDrive/PumpkinSeeds/datasource/dataSignVideos/\n",
            "Moviepy - Building video /content/drive/MyDrive/PumpkinSeeds/datasource/dataSignVideos/hello_2388.mp4.\n",
            "MoviePy - Writing audio in hello_2388TEMP_MPY_wvf_snd.mp4\n"
          ]
        },
        {
          "output_type": "stream",
          "name": "stderr",
          "text": []
        },
        {
          "output_type": "stream",
          "name": "stdout",
          "text": [
            "MoviePy - Done.\n",
            "Moviepy - Writing video /content/drive/MyDrive/PumpkinSeeds/datasource/dataSignVideos/hello_2388.mp4\n",
            "\n"
          ]
        },
        {
          "output_type": "stream",
          "name": "stderr",
          "text": []
        },
        {
          "output_type": "stream",
          "name": "stdout",
          "text": [
            "Moviepy - Done !\n",
            "Moviepy - video ready /content/drive/MyDrive/PumpkinSeeds/datasource/dataSignVideos/hello_2388.mp4\n",
            "Video segment saved to /content/drive/MyDrive/PumpkinSeeds/datasource/dataSignVideos/hello_2388.mp4\n",
            "Downloaded: ASL1 Class 15 New SIGNS successfully to /content/drive/MyDrive/PumpkinSeeds/datasource/dataSignVideos/\n",
            "Moviepy - Building video /content/drive/MyDrive/PumpkinSeeds/datasource/dataSignVideos/my_2391.mp4.\n",
            "MoviePy - Writing audio in my_2391TEMP_MPY_wvf_snd.mp4\n"
          ]
        },
        {
          "output_type": "stream",
          "name": "stderr",
          "text": []
        },
        {
          "output_type": "stream",
          "name": "stdout",
          "text": [
            "MoviePy - Done.\n",
            "Moviepy - Writing video /content/drive/MyDrive/PumpkinSeeds/datasource/dataSignVideos/my_2391.mp4\n",
            "\n"
          ]
        },
        {
          "output_type": "stream",
          "name": "stderr",
          "text": []
        },
        {
          "output_type": "stream",
          "name": "stdout",
          "text": [
            "Moviepy - Done !\n",
            "Moviepy - video ready /content/drive/MyDrive/PumpkinSeeds/datasource/dataSignVideos/my_2391.mp4\n",
            "Video segment saved to /content/drive/MyDrive/PumpkinSeeds/datasource/dataSignVideos/my_2391.mp4\n",
            "An error occurred: SQUHKsHMUiw is unavailable\n",
            "An error occurred: e9sabI7vO2A requires login to view, YouTube reason: Please sign in\n",
            "An error occurred: oRsVMK7sxMQ requires login to view, YouTube reason: Please sign in\n",
            "An error occurred: qalQ6h_lXBA requires login to view, YouTube reason: Please sign in\n",
            "An error occurred: 6kvCOzxP9_A requires login to view, YouTube reason: Please sign in\n",
            "Downloaded: Mr Jensen ASL - School successfully to /content/drive/MyDrive/PumpkinSeeds/datasource/dataSignVideos/\n",
            "Moviepy - Building video /content/drive/MyDrive/PumpkinSeeds/datasource/dataSignVideos/you_2522.mp4.\n",
            "MoviePy - Writing audio in you_2522TEMP_MPY_wvf_snd.mp4\n"
          ]
        },
        {
          "output_type": "stream",
          "name": "stderr",
          "text": []
        },
        {
          "output_type": "stream",
          "name": "stdout",
          "text": [
            "MoviePy - Done.\n",
            "Moviepy - Writing video /content/drive/MyDrive/PumpkinSeeds/datasource/dataSignVideos/you_2522.mp4\n",
            "\n"
          ]
        },
        {
          "output_type": "stream",
          "name": "stderr",
          "text": []
        },
        {
          "output_type": "stream",
          "name": "stdout",
          "text": [
            "Moviepy - Done !\n",
            "Moviepy - video ready /content/drive/MyDrive/PumpkinSeeds/datasource/dataSignVideos/you_2522.mp4\n",
            "Video segment saved to /content/drive/MyDrive/PumpkinSeeds/datasource/dataSignVideos/you_2522.mp4\n",
            "Downloaded: Mr Jensen ASL - School successfully to /content/drive/MyDrive/PumpkinSeeds/datasource/dataSignVideos/\n",
            "Moviepy - Building video /content/drive/MyDrive/PumpkinSeeds/datasource/dataSignVideos/my_2534.mp4.\n",
            "MoviePy - Writing audio in my_2534TEMP_MPY_wvf_snd.mp4\n"
          ]
        },
        {
          "output_type": "stream",
          "name": "stderr",
          "text": []
        },
        {
          "output_type": "stream",
          "name": "stdout",
          "text": [
            "MoviePy - Done.\n",
            "Moviepy - Writing video /content/drive/MyDrive/PumpkinSeeds/datasource/dataSignVideos/my_2534.mp4\n",
            "\n"
          ]
        },
        {
          "output_type": "stream",
          "name": "stderr",
          "text": []
        },
        {
          "output_type": "stream",
          "name": "stdout",
          "text": [
            "Moviepy - Done !\n",
            "Moviepy - video ready /content/drive/MyDrive/PumpkinSeeds/datasource/dataSignVideos/my_2534.mp4\n",
            "Video segment saved to /content/drive/MyDrive/PumpkinSeeds/datasource/dataSignVideos/my_2534.mp4\n",
            "An error occurred: uVXtydfzLIo is unavailable\n",
            "Downloaded: Unit 23 Vocabulary - ASL [CC] Turn on captions to review signs. successfully to /content/drive/MyDrive/PumpkinSeeds/datasource/dataSignVideos/\n",
            "Moviepy - Building video /content/drive/MyDrive/PumpkinSeeds/datasource/dataSignVideos/love_2595.mp4.\n",
            "MoviePy - Writing audio in love_2595TEMP_MPY_wvf_snd.mp4\n"
          ]
        },
        {
          "output_type": "stream",
          "name": "stderr",
          "text": []
        },
        {
          "output_type": "stream",
          "name": "stdout",
          "text": [
            "MoviePy - Done.\n",
            "Moviepy - Writing video /content/drive/MyDrive/PumpkinSeeds/datasource/dataSignVideos/love_2595.mp4\n",
            "\n"
          ]
        },
        {
          "output_type": "stream",
          "name": "stderr",
          "text": []
        },
        {
          "output_type": "stream",
          "name": "stdout",
          "text": [
            "Moviepy - Done !\n",
            "Moviepy - video ready /content/drive/MyDrive/PumpkinSeeds/datasource/dataSignVideos/love_2595.mp4\n",
            "Video segment saved to /content/drive/MyDrive/PumpkinSeeds/datasource/dataSignVideos/love_2595.mp4\n",
            "Downloaded: Unit 17 - Weather ASL (American Sign Language) [CC] successfully to /content/drive/MyDrive/PumpkinSeeds/datasource/dataSignVideos/\n",
            "Moviepy - Building video /content/drive/MyDrive/PumpkinSeeds/datasource/dataSignVideos/hello_2721.mp4.\n",
            "MoviePy - Writing audio in hello_2721TEMP_MPY_wvf_snd.mp4\n"
          ]
        },
        {
          "output_type": "stream",
          "name": "stderr",
          "text": []
        },
        {
          "output_type": "stream",
          "name": "stdout",
          "text": [
            "MoviePy - Done.\n",
            "Moviepy - Writing video /content/drive/MyDrive/PumpkinSeeds/datasource/dataSignVideos/hello_2721.mp4\n",
            "\n"
          ]
        },
        {
          "output_type": "stream",
          "name": "stderr",
          "text": []
        },
        {
          "output_type": "stream",
          "name": "stdout",
          "text": [
            "Moviepy - Done !\n",
            "Moviepy - video ready /content/drive/MyDrive/PumpkinSeeds/datasource/dataSignVideos/hello_2721.mp4\n",
            "Video segment saved to /content/drive/MyDrive/PumpkinSeeds/datasource/dataSignVideos/hello_2721.mp4\n",
            "Downloaded: Unit 17 - Weather ASL (American Sign Language) [CC] successfully to /content/drive/MyDrive/PumpkinSeeds/datasource/dataSignVideos/\n",
            "Moviepy - Building video /content/drive/MyDrive/PumpkinSeeds/datasource/dataSignVideos/weather_2730.mp4.\n",
            "MoviePy - Writing audio in weather_2730TEMP_MPY_wvf_snd.mp4\n"
          ]
        },
        {
          "output_type": "stream",
          "name": "stderr",
          "text": []
        },
        {
          "output_type": "stream",
          "name": "stdout",
          "text": [
            "MoviePy - Done.\n",
            "Moviepy - Writing video /content/drive/MyDrive/PumpkinSeeds/datasource/dataSignVideos/weather_2730.mp4\n",
            "\n"
          ]
        },
        {
          "output_type": "stream",
          "name": "stderr",
          "text": []
        },
        {
          "output_type": "stream",
          "name": "stdout",
          "text": [
            "Moviepy - Done !\n",
            "Moviepy - video ready /content/drive/MyDrive/PumpkinSeeds/datasource/dataSignVideos/weather_2730.mp4\n",
            "Video segment saved to /content/drive/MyDrive/PumpkinSeeds/datasource/dataSignVideos/weather_2730.mp4\n",
            "An error occurred: 3msfJ_fibwg requires login to view, YouTube reason: Please sign in\n",
            "An error occurred: bXyG4iebEBo is unavailable\n",
            "An error occurred: RhlO0z_eLoA requires login to view, YouTube reason: Please sign in\n",
            "Downloaded: ASL3 Class 23 Vocabulary successfully to /content/drive/MyDrive/PumpkinSeeds/datasource/dataSignVideos/\n",
            "Moviepy - Building video /content/drive/MyDrive/PumpkinSeeds/datasource/dataSignVideos/hello_3238.mp4.\n",
            "MoviePy - Writing audio in hello_3238TEMP_MPY_wvf_snd.mp4\n"
          ]
        },
        {
          "output_type": "stream",
          "name": "stderr",
          "text": []
        },
        {
          "output_type": "stream",
          "name": "stdout",
          "text": [
            "MoviePy - Done.\n",
            "Moviepy - Writing video /content/drive/MyDrive/PumpkinSeeds/datasource/dataSignVideos/hello_3238.mp4\n",
            "\n"
          ]
        },
        {
          "output_type": "stream",
          "name": "stderr",
          "text": []
        },
        {
          "output_type": "stream",
          "name": "stdout",
          "text": [
            "Moviepy - Done !\n",
            "Moviepy - video ready /content/drive/MyDrive/PumpkinSeeds/datasource/dataSignVideos/hello_3238.mp4\n",
            "Video segment saved to /content/drive/MyDrive/PumpkinSeeds/datasource/dataSignVideos/hello_3238.mp4\n",
            "An error occurred: qIaZAO2YlYk requires login to view, YouTube reason: Please sign in\n",
            "Downloaded: Weather successfully to /content/drive/MyDrive/PumpkinSeeds/datasource/dataSignVideos/\n",
            "Moviepy - Building video /content/drive/MyDrive/PumpkinSeeds/datasource/dataSignVideos/weather_3362.mp4.\n",
            "MoviePy - Writing audio in weather_3362TEMP_MPY_wvf_snd.mp4\n"
          ]
        },
        {
          "output_type": "stream",
          "name": "stderr",
          "text": []
        },
        {
          "output_type": "stream",
          "name": "stdout",
          "text": [
            "MoviePy - Done.\n",
            "Moviepy - Writing video /content/drive/MyDrive/PumpkinSeeds/datasource/dataSignVideos/weather_3362.mp4\n",
            "\n"
          ]
        },
        {
          "output_type": "stream",
          "name": "stderr",
          "text": []
        },
        {
          "output_type": "stream",
          "name": "stdout",
          "text": [
            "Moviepy - Done !\n",
            "Moviepy - video ready /content/drive/MyDrive/PumpkinSeeds/datasource/dataSignVideos/weather_3362.mp4\n",
            "Video segment saved to /content/drive/MyDrive/PumpkinSeeds/datasource/dataSignVideos/weather_3362.mp4\n",
            "Downloaded: [ASL] Top ASL Signs for Servers successfully to /content/drive/MyDrive/PumpkinSeeds/datasource/dataSignVideos/\n",
            "Moviepy - Building video /content/drive/MyDrive/PumpkinSeeds/datasource/dataSignVideos/hello_3393.mp4.\n",
            "MoviePy - Writing audio in hello_3393TEMP_MPY_wvf_snd.mp4\n"
          ]
        },
        {
          "output_type": "stream",
          "name": "stderr",
          "text": []
        },
        {
          "output_type": "stream",
          "name": "stdout",
          "text": [
            "MoviePy - Done.\n",
            "Moviepy - Writing video /content/drive/MyDrive/PumpkinSeeds/datasource/dataSignVideos/hello_3393.mp4\n",
            "\n"
          ]
        },
        {
          "output_type": "stream",
          "name": "stderr",
          "text": []
        },
        {
          "output_type": "stream",
          "name": "stdout",
          "text": [
            "Moviepy - Done !\n",
            "Moviepy - video ready /content/drive/MyDrive/PumpkinSeeds/datasource/dataSignVideos/hello_3393.mp4\n",
            "Video segment saved to /content/drive/MyDrive/PumpkinSeeds/datasource/dataSignVideos/hello_3393.mp4\n",
            "Downloaded: [ASL] Top ASL Signs for Servers successfully to /content/drive/MyDrive/PumpkinSeeds/datasource/dataSignVideos/\n",
            "Moviepy - Building video /content/drive/MyDrive/PumpkinSeeds/datasource/dataSignVideos/hello_3394.mp4.\n",
            "MoviePy - Writing audio in hello_3394TEMP_MPY_wvf_snd.mp4\n"
          ]
        },
        {
          "output_type": "stream",
          "name": "stderr",
          "text": []
        },
        {
          "output_type": "stream",
          "name": "stdout",
          "text": [
            "MoviePy - Done.\n",
            "Moviepy - Writing video /content/drive/MyDrive/PumpkinSeeds/datasource/dataSignVideos/hello_3394.mp4\n",
            "\n"
          ]
        },
        {
          "output_type": "stream",
          "name": "stderr",
          "text": []
        },
        {
          "output_type": "stream",
          "name": "stdout",
          "text": [
            "Moviepy - Done !\n",
            "Moviepy - video ready /content/drive/MyDrive/PumpkinSeeds/datasource/dataSignVideos/hello_3394.mp4\n",
            "Video segment saved to /content/drive/MyDrive/PumpkinSeeds/datasource/dataSignVideos/hello_3394.mp4\n",
            "Downloaded: ASL: Countries - American Sign Language [turn on captions] successfully to /content/drive/MyDrive/PumpkinSeeds/datasource/dataSignVideos/\n",
            "Moviepy - Building video /content/drive/MyDrive/PumpkinSeeds/datasource/dataSignVideos/hello_3464.mp4.\n",
            "MoviePy - Writing audio in hello_3464TEMP_MPY_wvf_snd.mp4\n"
          ]
        },
        {
          "output_type": "stream",
          "name": "stderr",
          "text": []
        },
        {
          "output_type": "stream",
          "name": "stdout",
          "text": [
            "MoviePy - Done.\n",
            "Moviepy - Writing video /content/drive/MyDrive/PumpkinSeeds/datasource/dataSignVideos/hello_3464.mp4\n",
            "\n"
          ]
        },
        {
          "output_type": "stream",
          "name": "stderr",
          "text": []
        },
        {
          "output_type": "stream",
          "name": "stdout",
          "text": [
            "Moviepy - Done !\n",
            "Moviepy - video ready /content/drive/MyDrive/PumpkinSeeds/datasource/dataSignVideos/hello_3464.mp4\n",
            "Video segment saved to /content/drive/MyDrive/PumpkinSeeds/datasource/dataSignVideos/hello_3464.mp4\n",
            "An error occurred: SJAhRxI7i9c is unavailable\n",
            "Downloaded: ASL1 Class 10 New SIGNS successfully to /content/drive/MyDrive/PumpkinSeeds/datasource/dataSignVideos/\n",
            "Moviepy - Building video /content/drive/MyDrive/PumpkinSeeds/datasource/dataSignVideos/who_3598.mp4.\n",
            "MoviePy - Writing audio in who_3598TEMP_MPY_wvf_snd.mp4\n"
          ]
        },
        {
          "output_type": "stream",
          "name": "stderr",
          "text": []
        },
        {
          "output_type": "stream",
          "name": "stdout",
          "text": [
            "MoviePy - Done.\n",
            "Moviepy - Writing video /content/drive/MyDrive/PumpkinSeeds/datasource/dataSignVideos/who_3598.mp4\n",
            "\n"
          ]
        },
        {
          "output_type": "stream",
          "name": "stderr",
          "text": []
        },
        {
          "output_type": "stream",
          "name": "stdout",
          "text": [
            "Moviepy - Done !\n",
            "Moviepy - video ready /content/drive/MyDrive/PumpkinSeeds/datasource/dataSignVideos/who_3598.mp4\n",
            "Video segment saved to /content/drive/MyDrive/PumpkinSeeds/datasource/dataSignVideos/who_3598.mp4\n",
            "An error occurred: xchfz0eTaP8 requires login to view, YouTube reason: Please sign in\n",
            "Downloaded: ASL2 Class 53 SIGNS successfully to /content/drive/MyDrive/PumpkinSeeds/datasource/dataSignVideos/\n",
            "Moviepy - Building video /content/drive/MyDrive/PumpkinSeeds/datasource/dataSignVideos/hello_3698.mp4.\n",
            "MoviePy - Writing audio in hello_3698TEMP_MPY_wvf_snd.mp4\n"
          ]
        },
        {
          "output_type": "stream",
          "name": "stderr",
          "text": []
        },
        {
          "output_type": "stream",
          "name": "stdout",
          "text": [
            "MoviePy - Done.\n",
            "Moviepy - Writing video /content/drive/MyDrive/PumpkinSeeds/datasource/dataSignVideos/hello_3698.mp4\n",
            "\n"
          ]
        },
        {
          "output_type": "stream",
          "name": "stderr",
          "text": []
        },
        {
          "output_type": "stream",
          "name": "stdout",
          "text": [
            "Moviepy - Done !\n",
            "Moviepy - video ready /content/drive/MyDrive/PumpkinSeeds/datasource/dataSignVideos/hello_3698.mp4\n",
            "Video segment saved to /content/drive/MyDrive/PumpkinSeeds/datasource/dataSignVideos/hello_3698.mp4\n",
            "Downloaded: Unit 24 Vocabulary (common ASL signs part three) [CC] successfully to /content/drive/MyDrive/PumpkinSeeds/datasource/dataSignVideos/\n",
            "Moviepy - Building video /content/drive/MyDrive/PumpkinSeeds/datasource/dataSignVideos/today_3799.mp4.\n",
            "MoviePy - Writing audio in today_3799TEMP_MPY_wvf_snd.mp4\n"
          ]
        },
        {
          "output_type": "stream",
          "name": "stderr",
          "text": []
        },
        {
          "output_type": "stream",
          "name": "stdout",
          "text": [
            "MoviePy - Done.\n",
            "Moviepy - Writing video /content/drive/MyDrive/PumpkinSeeds/datasource/dataSignVideos/today_3799.mp4\n",
            "\n"
          ]
        },
        {
          "output_type": "stream",
          "name": "stderr",
          "text": []
        },
        {
          "output_type": "stream",
          "name": "stdout",
          "text": [
            "Moviepy - Done !\n",
            "Moviepy - video ready /content/drive/MyDrive/PumpkinSeeds/datasource/dataSignVideos/today_3799.mp4\n",
            "Video segment saved to /content/drive/MyDrive/PumpkinSeeds/datasource/dataSignVideos/today_3799.mp4\n",
            "An error occurred: u4ECcCgXTqs requires login to view, YouTube reason: Please sign in\n",
            "Downloaded: ASL2 Class 51 SIGNS successfully to /content/drive/MyDrive/PumpkinSeeds/datasource/dataSignVideos/\n",
            "Moviepy - Building video /content/drive/MyDrive/PumpkinSeeds/datasource/dataSignVideos/hello_3959.mp4.\n",
            "MoviePy - Writing audio in hello_3959TEMP_MPY_wvf_snd.mp4\n"
          ]
        },
        {
          "output_type": "stream",
          "name": "stderr",
          "text": []
        },
        {
          "output_type": "stream",
          "name": "stdout",
          "text": [
            "MoviePy - Done.\n",
            "Moviepy - Writing video /content/drive/MyDrive/PumpkinSeeds/datasource/dataSignVideos/hello_3959.mp4\n",
            "\n"
          ]
        },
        {
          "output_type": "stream",
          "name": "stderr",
          "text": []
        },
        {
          "output_type": "stream",
          "name": "stdout",
          "text": [
            "Moviepy - Done !\n",
            "Moviepy - video ready /content/drive/MyDrive/PumpkinSeeds/datasource/dataSignVideos/hello_3959.mp4\n",
            "Video segment saved to /content/drive/MyDrive/PumpkinSeeds/datasource/dataSignVideos/hello_3959.mp4\n",
            "An error occurred: X9k65VXITzY requires login to view, YouTube reason: Please sign in\n",
            "Downloaded: ASL1 Class 4 New SIGNS plus Partner Practice Q&A and p29 Dialogue successfully to /content/drive/MyDrive/PumpkinSeeds/datasource/dataSignVideos/\n",
            "Moviepy - Building video /content/drive/MyDrive/PumpkinSeeds/datasource/dataSignVideos/hello_4013.mp4.\n",
            "MoviePy - Writing audio in hello_4013TEMP_MPY_wvf_snd.mp4\n"
          ]
        },
        {
          "output_type": "stream",
          "name": "stderr",
          "text": []
        },
        {
          "output_type": "stream",
          "name": "stdout",
          "text": [
            "MoviePy - Done.\n",
            "Moviepy - Writing video /content/drive/MyDrive/PumpkinSeeds/datasource/dataSignVideos/hello_4013.mp4\n",
            "\n"
          ]
        },
        {
          "output_type": "stream",
          "name": "stderr",
          "text": []
        },
        {
          "output_type": "stream",
          "name": "stdout",
          "text": [
            "Moviepy - Done !\n",
            "Moviepy - video ready /content/drive/MyDrive/PumpkinSeeds/datasource/dataSignVideos/hello_4013.mp4\n",
            "Video segment saved to /content/drive/MyDrive/PumpkinSeeds/datasource/dataSignVideos/hello_4013.mp4\n",
            "Downloaded: ASL1 Class 4 New SIGNS plus Partner Practice Q&A and p29 Dialogue successfully to /content/drive/MyDrive/PumpkinSeeds/datasource/dataSignVideos/\n",
            "Moviepy - Building video /content/drive/MyDrive/PumpkinSeeds/datasource/dataSignVideos/who_4032.mp4.\n",
            "MoviePy - Writing audio in who_4032TEMP_MPY_wvf_snd.mp4\n"
          ]
        },
        {
          "output_type": "stream",
          "name": "stderr",
          "text": []
        },
        {
          "output_type": "stream",
          "name": "stdout",
          "text": [
            "MoviePy - Done.\n",
            "Moviepy - Writing video /content/drive/MyDrive/PumpkinSeeds/datasource/dataSignVideos/who_4032.mp4\n",
            "\n"
          ]
        },
        {
          "output_type": "stream",
          "name": "stderr",
          "text": []
        },
        {
          "output_type": "stream",
          "name": "stdout",
          "text": [
            "Moviepy - Done !\n",
            "Moviepy - video ready /content/drive/MyDrive/PumpkinSeeds/datasource/dataSignVideos/who_4032.mp4\n",
            "Video segment saved to /content/drive/MyDrive/PumpkinSeeds/datasource/dataSignVideos/who_4032.mp4\n",
            "Downloaded: ASL1 Class 4 New SIGNS plus Partner Practice Q&A and p29 Dialogue successfully to /content/drive/MyDrive/PumpkinSeeds/datasource/dataSignVideos/\n",
            "Moviepy - Building video /content/drive/MyDrive/PumpkinSeeds/datasource/dataSignVideos/how_4038.mp4.\n",
            "MoviePy - Writing audio in how_4038TEMP_MPY_wvf_snd.mp4\n"
          ]
        },
        {
          "output_type": "stream",
          "name": "stderr",
          "text": []
        },
        {
          "output_type": "stream",
          "name": "stdout",
          "text": [
            "MoviePy - Done.\n",
            "Moviepy - Writing video /content/drive/MyDrive/PumpkinSeeds/datasource/dataSignVideos/how_4038.mp4\n",
            "\n"
          ]
        },
        {
          "output_type": "stream",
          "name": "stderr",
          "text": []
        },
        {
          "output_type": "stream",
          "name": "stdout",
          "text": [
            "Moviepy - Done !\n",
            "Moviepy - video ready /content/drive/MyDrive/PumpkinSeeds/datasource/dataSignVideos/how_4038.mp4\n",
            "Video segment saved to /content/drive/MyDrive/PumpkinSeeds/datasource/dataSignVideos/how_4038.mp4\n",
            "Downloaded: ASL1 Class 4 New SIGNS plus Partner Practice Q&A and p29 Dialogue successfully to /content/drive/MyDrive/PumpkinSeeds/datasource/dataSignVideos/\n",
            "Moviepy - Building video /content/drive/MyDrive/PumpkinSeeds/datasource/dataSignVideos/how_4039.mp4.\n",
            "MoviePy - Writing audio in how_4039TEMP_MPY_wvf_snd.mp4\n"
          ]
        },
        {
          "output_type": "stream",
          "name": "stderr",
          "text": []
        },
        {
          "output_type": "stream",
          "name": "stdout",
          "text": [
            "MoviePy - Done.\n",
            "Moviepy - Writing video /content/drive/MyDrive/PumpkinSeeds/datasource/dataSignVideos/how_4039.mp4\n",
            "\n"
          ]
        },
        {
          "output_type": "stream",
          "name": "stderr",
          "text": []
        },
        {
          "output_type": "stream",
          "name": "stdout",
          "text": [
            "Moviepy - Done !\n",
            "Moviepy - video ready /content/drive/MyDrive/PumpkinSeeds/datasource/dataSignVideos/how_4039.mp4\n",
            "Video segment saved to /content/drive/MyDrive/PumpkinSeeds/datasource/dataSignVideos/how_4039.mp4\n",
            "Downloaded: ASL1 Class 4 New SIGNS plus Partner Practice Q&A and p29 Dialogue successfully to /content/drive/MyDrive/PumpkinSeeds/datasource/dataSignVideos/\n",
            "Moviepy - Building video /content/drive/MyDrive/PumpkinSeeds/datasource/dataSignVideos/how_4040.mp4.\n",
            "MoviePy - Writing audio in how_4040TEMP_MPY_wvf_snd.mp4\n"
          ]
        },
        {
          "output_type": "stream",
          "name": "stderr",
          "text": []
        },
        {
          "output_type": "stream",
          "name": "stdout",
          "text": [
            "MoviePy - Done.\n",
            "Moviepy - Writing video /content/drive/MyDrive/PumpkinSeeds/datasource/dataSignVideos/how_4040.mp4\n",
            "\n"
          ]
        },
        {
          "output_type": "stream",
          "name": "stderr",
          "text": []
        },
        {
          "output_type": "stream",
          "name": "stdout",
          "text": [
            "Moviepy - Done !\n",
            "Moviepy - video ready /content/drive/MyDrive/PumpkinSeeds/datasource/dataSignVideos/how_4040.mp4\n",
            "Video segment saved to /content/drive/MyDrive/PumpkinSeeds/datasource/dataSignVideos/how_4040.mp4\n",
            "Downloaded: ASL1 Class 4 New SIGNS plus Partner Practice Q&A and p29 Dialogue successfully to /content/drive/MyDrive/PumpkinSeeds/datasource/dataSignVideos/\n",
            "Moviepy - Building video /content/drive/MyDrive/PumpkinSeeds/datasource/dataSignVideos/how_4041.mp4.\n",
            "MoviePy - Writing audio in how_4041TEMP_MPY_wvf_snd.mp4\n"
          ]
        },
        {
          "output_type": "stream",
          "name": "stderr",
          "text": []
        },
        {
          "output_type": "stream",
          "name": "stdout",
          "text": [
            "MoviePy - Done.\n",
            "Moviepy - Writing video /content/drive/MyDrive/PumpkinSeeds/datasource/dataSignVideos/how_4041.mp4\n",
            "\n"
          ]
        },
        {
          "output_type": "stream",
          "name": "stderr",
          "text": []
        },
        {
          "output_type": "stream",
          "name": "stdout",
          "text": [
            "Moviepy - Done !\n",
            "Moviepy - video ready /content/drive/MyDrive/PumpkinSeeds/datasource/dataSignVideos/how_4041.mp4\n",
            "Video segment saved to /content/drive/MyDrive/PumpkinSeeds/datasource/dataSignVideos/how_4041.mp4\n"
          ]
        }
      ]
    },
    {
      "cell_type": "code",
      "source": [
        "# Function to find the maximum number of frames across all videos\n",
        "def find_max_frames(video_folder):\n",
        "    min_frames = 9999999\n",
        "    max_frames = 0\n",
        "    for video_file in os.listdir(video_folder):\n",
        "        if video_file.endswith('.mp4') and video_file != 'temp.mp4':\n",
        "            video_path = os.path.join(video_folder, video_file)\n",
        "            cap = cv2.VideoCapture(video_path)\n",
        "            frame_count = int(cap.get(cv2.CAP_PROP_FRAME_COUNT))\n",
        "            min_frames = min(min_frames, frame_count)\n",
        "            max_frames = max(max_frames, frame_count)\n",
        "            cap.release()\n",
        "    return min_frames, max_frames"
      ],
      "metadata": {
        "id": "G2MOkQObRdbO"
      },
      "execution_count": null,
      "outputs": []
    },
    {
      "cell_type": "code",
      "source": [
        "train_frames_min, train_frames_max = find_max_frames(file_path_vido)\n",
        "test_frames_min,  test_frames_max  = find_max_frames(file_path_test)\n",
        "\n",
        "print(f\"Min, Maxi number of frames found on Train: {train_frames_min}, {train_frames_max}\")\n",
        "print(f\"Min, Maxi number of frames found on Test : {test_frames_min},  {test_frames_max}\")"
      ],
      "metadata": {
        "colab": {
          "base_uri": "https://localhost:8080/"
        },
        "id": "3kVdFdrdRdQj",
        "outputId": "2defd442-53c2-4e25-eb57-361f95d6e2d2"
      },
      "execution_count": null,
      "outputs": [
        {
          "output_type": "stream",
          "name": "stdout",
          "text": [
            "Min, Maxi number of frames found on Train: 16, 200\n",
            "Min, Maxi number of frames found on Test : 19,  90\n"
          ]
        }
      ]
    },
    {
      "cell_type": "markdown",
      "source": [
        "# Feature Extraction"
      ],
      "metadata": {
        "id": "zw1uZslYTe9x"
      }
    },
    {
      "cell_type": "code",
      "source": [
        "mp_holistic = mp.solutions.holistic # Holistic model\n",
        "mp_drawing = mp.solutions.drawing_utils # Drawing utilities"
      ],
      "metadata": {
        "id": "pjdIh6K3trad"
      },
      "execution_count": null,
      "outputs": []
    },
    {
      "cell_type": "code",
      "source": [
        "def mediapipe_detection(image, model):\n",
        "    image = cv2.cvtColor(image, cv2.COLOR_BGR2RGB) # COLOR CONVERSION BGR 2 RGB\n",
        "    image.flags.writeable = False                  # Image is no longer writeable\n",
        "    results = model.process(image)                 # Make prediction\n",
        "    image.flags.writeable = True                   # Image is now writeable\n",
        "    image = cv2.cvtColor(image, cv2.COLOR_RGB2BGR) # COLOR COVERSION RGB 2 BGR\n",
        "    return image, results"
      ],
      "metadata": {
        "id": "oJm7PVbj5hUi"
      },
      "execution_count": null,
      "outputs": []
    },
    {
      "cell_type": "code",
      "source": [
        "'''\n",
        "def draw_landmarks(image, results):\n",
        "    mp_drawing.draw_landmarks(image, results.face_landmarks, mp_holistic.FACE_CONNECTIONS) # Draw face connections\n",
        "    mp_drawing.draw_landmarks(image, results.pose_landmarks, mp_holistic.POSE_CONNECTIONS) # Draw pose connections\n",
        "    mp_drawing.draw_landmarks(image, results.left_hand_landmarks, mp_holistic.HAND_CONNECTIONS) # Draw left hand connections\n",
        "    mp_drawing.draw_landmarks(image, results.right_hand_landmarks, mp_holistic.HAND_CONNECTIONS) # Draw right hand connections\n",
        "'''"
      ],
      "metadata": {
        "colab": {
          "base_uri": "https://localhost:8080/",
          "height": 103
        },
        "id": "kK3UmheqJUDl",
        "outputId": "b7b82447-5ba8-4946-94a5-619d13d19f34"
      },
      "execution_count": null,
      "outputs": [
        {
          "output_type": "execute_result",
          "data": {
            "text/plain": [
              "'\\ndef draw_landmarks(image, results):\\n    mp_drawing.draw_landmarks(image, results.face_landmarks, mp_holistic.FACE_CONNECTIONS) # Draw face connections\\n    mp_drawing.draw_landmarks(image, results.pose_landmarks, mp_holistic.POSE_CONNECTIONS) # Draw pose connections\\n    mp_drawing.draw_landmarks(image, results.left_hand_landmarks, mp_holistic.HAND_CONNECTIONS) # Draw left hand connections\\n    mp_drawing.draw_landmarks(image, results.right_hand_landmarks, mp_holistic.HAND_CONNECTIONS) # Draw right hand connections\\n'"
            ],
            "application/vnd.google.colaboratory.intrinsic+json": {
              "type": "string"
            }
          },
          "metadata": {},
          "execution_count": 21
        }
      ]
    },
    {
      "cell_type": "code",
      "source": [
        "def draw_landmarks(image, results):\n",
        "    # Draw face mesh connections\n",
        "    mp_drawing.draw_landmarks(\n",
        "        image=image,\n",
        "        landmark_list=results.face_landmarks,\n",
        "        connections=mp.solutions.face_mesh_connections.FACEMESH_CONTOURS,\n",
        "        landmark_drawing_spec=None,\n",
        "        connection_drawing_spec=mp_drawing.DrawingSpec(color=(80,110,10), thickness=1)\n",
        "    )\n",
        "\n",
        "    # Draw pose connections\n",
        "    mp_drawing.draw_landmarks(\n",
        "        image=image,\n",
        "        landmark_list=results.pose_landmarks,\n",
        "        connections=mp.solutions.pose.POSE_CONNECTIONS,\n",
        "        landmark_drawing_spec=mp_drawing.DrawingSpec(color=(80,22,10), thickness=2, circle_radius=4),\n",
        "        connection_drawing_spec=mp_drawing.DrawingSpec(color=(80,44,121), thickness=2)\n",
        "    )\n",
        "\n",
        "    # Draw left hand connections\n",
        "    mp_drawing.draw_landmarks(\n",
        "        image=image,\n",
        "        landmark_list=results.left_hand_landmarks,\n",
        "        connections=mp.solutions.hands.HAND_CONNECTIONS,\n",
        "        landmark_drawing_spec=mp_drawing.DrawingSpec(color=(121,22,76), thickness=2, circle_radius=4),\n",
        "        connection_drawing_spec=mp_drawing.DrawingSpec(color=(121,44,250), thickness=2)\n",
        "    )\n",
        "\n",
        "    # Draw right hand connections\n",
        "    mp_drawing.draw_landmarks(\n",
        "        image=image,\n",
        "        landmark_list=results.right_hand_landmarks,\n",
        "        connections=mp.solutions.hands.HAND_CONNECTIONS,\n",
        "        landmark_drawing_spec=mp_drawing.DrawingSpec(color=(245,117,66), thickness=2, circle_radius=4),\n",
        "        connection_drawing_spec=mp_drawing.DrawingSpec(color=(245,66,230), thickness=2)\n",
        "    )"
      ],
      "metadata": {
        "id": "uR2tvpPW5kpD"
      },
      "execution_count": null,
      "outputs": []
    },
    {
      "cell_type": "code",
      "source": [
        "'''\n",
        "def draw_styled_landmarks(image, results):\n",
        "    # Draw face connections\n",
        "    mp_drawing.draw_landmarks(image, results.face_landmarks, mp_holistic.FACE_CONNECTIONS,\n",
        "                             mp_drawing.DrawingSpec(color=(80,110,10), thickness=1, circle_radius=1),\n",
        "                             mp_drawing.DrawingSpec(color=(80,256,121), thickness=1, circle_radius=1)\n",
        "                             )\n",
        "    # Draw pose connections\n",
        "    mp_drawing.draw_landmarks(image, results.pose_landmarks, mp_holistic.POSE_CONNECTIONS,\n",
        "                             mp_drawing.DrawingSpec(color=(80,22,10), thickness=2, circle_radius=4),\n",
        "                             mp_drawing.DrawingSpec(color=(80,44,121), thickness=2, circle_radius=2)\n",
        "                             )\n",
        "    # Draw left hand connections\n",
        "    mp_drawing.draw_landmarks(image, results.left_hand_landmarks, mp_holistic.HAND_CONNECTIONS,\n",
        "                             mp_drawing.DrawingSpec(color=(121,22,76), thickness=2, circle_radius=4),\n",
        "                             mp_drawing.DrawingSpec(color=(121,44,250), thickness=2, circle_radius=2)\n",
        "                             )\n",
        "    # Draw right hand connections\n",
        "    mp_drawing.draw_landmarks(image, results.right_hand_landmarks, mp_holistic.HAND_CONNECTIONS,\n",
        "                             mp_drawing.DrawingSpec(color=(245,117,66), thickness=2, circle_radius=4),\n",
        "                             mp_drawing.DrawingSpec(color=(245,66,230), thickness=2, circle_radius=2)\n",
        "                             )\n",
        "'''"
      ],
      "metadata": {
        "id": "0RVoXz015oGt"
      },
      "execution_count": null,
      "outputs": []
    },
    {
      "cell_type": "code",
      "source": [
        "def extract_keypoints(results):\n",
        "    pose = np.array([[res.x, res.y, res.z, res.visibility] for res in results.pose_landmarks.landmark]).flatten() if results.pose_landmarks else np.zeros(33*4)\n",
        "    face = np.array([[res.x, res.y, res.z] for res in results.face_landmarks.landmark]).flatten() if results.face_landmarks else np.zeros(468*3)\n",
        "    lh = np.array([[res.x, res.y, res.z] for res in results.left_hand_landmarks.landmark]).flatten() if results.left_hand_landmarks else np.zeros(21*3)\n",
        "    rh = np.array([[res.x, res.y, res.z] for res in results.right_hand_landmarks.landmark]).flatten() if results.right_hand_landmarks else np.zeros(21*3)\n",
        "    return np.concatenate([pose, face, lh, rh])"
      ],
      "metadata": {
        "id": "kaJc4eHqVfLo"
      },
      "execution_count": null,
      "outputs": []
    },
    {
      "cell_type": "code",
      "source": [
        "def extract_features_from_video(input_video_path):\n",
        "\n",
        "    cap = cv2.VideoCapture(input_video_path)\n",
        "\n",
        "    # Get video properties\n",
        "    width = int(cap.get(cv2.CAP_PROP_FRAME_WIDTH))\n",
        "    height = int(cap.get(cv2.CAP_PROP_FRAME_HEIGHT))\n",
        "    fps = int(cap.get(cv2.CAP_PROP_FPS))\n",
        "    frames = int(cap.get(cv2.CAP_PROP_FRAME_COUNT))\n",
        "\n",
        "    idx = np.round(np.linspace(0, frames - 1, train_frames_min)).astype(int)\n",
        "    print(input_video_path)\n",
        "    print(idx)\n",
        "    '''\n",
        "    if frames > 42:\n",
        "        return\n",
        "    '''\n",
        "    # Set mediapipe model\n",
        "    with mp_holistic.Holistic(min_detection_confidence=0.5, min_tracking_confidence=0.5) as holistic:\n",
        "\n",
        "        action = input_video_path[input_video_path.rfind('/')+1:]\n",
        "        action = action[:action.find('_')]\n",
        "\n",
        "        sequence = input_video_path[input_video_path.rfind('_')+1:]\n",
        "        sequence = sequence[:sequence.find('.')]\n",
        "\n",
        "        frame_index = 0\n",
        "        frame_num = 0\n",
        "        while cap.isOpened():\n",
        "            if frame_num >= train_frames_min:\n",
        "                break\n",
        "            cap.set(cv2.CAP_PROP_POS_FRAMES, idx[frame_num])\n",
        "            ret, frame = cap.read()\n",
        "            if not ret:\n",
        "                break\n",
        "\n",
        "            image, results = mediapipe_detection(frame, holistic)\n",
        "            #print(results)\n",
        "\n",
        "            # Draw landmarks\n",
        "            draw_landmarks(image, results)\n",
        "\n",
        "            # NEW Export keypoints\n",
        "            keypoints = extract_keypoints(results)\n",
        "            npy_path = file_path_actn + action + '/' + str(sequence)\n",
        "            Path(npy_path).mkdir(parents=True, exist_ok=True)\n",
        "\n",
        "            npy_path += '/' + str(frame_num)\n",
        "            frame_num += 1\n",
        "\n",
        "            Path(npy_path).mkdir(parents=True, exist_ok=True)\n",
        "            np.save(npy_path, keypoints)\n",
        "\n",
        "            frame_index += 1\n",
        "\n",
        "        cap.release()\n",
        "        cv2.destroyAllWindows()"
      ],
      "metadata": {
        "id": "ZDaV4gLkWQ-v"
      },
      "execution_count": null,
      "outputs": []
    },
    {
      "cell_type": "code",
      "source": [
        "def extract_features_from_video_in_folder(video_folder):\n",
        "    for video_file in os.listdir(video_folder):\n",
        "        if video_file.endswith('.mp4') and video_file != 'temp.mp4':\n",
        "            video_path = os.path.join(video_folder, video_file)\n",
        "            extract_features_from_video(video_path)"
      ],
      "metadata": {
        "id": "6J4Fio7DWQw5"
      },
      "execution_count": null,
      "outputs": []
    },
    {
      "cell_type": "code",
      "source": [
        "extract_features_from_video_in_folder(file_path_vido)"
      ],
      "metadata": {
        "colab": {
          "base_uri": "https://localhost:8080/"
        },
        "id": "B59tOHOcHqsO",
        "outputId": "b8d4ef25-1522-47b8-9bc3-654714445321"
      },
      "execution_count": null,
      "outputs": [
        {
          "output_type": "stream",
          "name": "stdout",
          "text": [
            "/content/drive/MyDrive/PumpkinSeeds/datasource/dataSignVideos/you_79.mp4\n",
            "[ 0  1  3  4  6  7  9 10 12 13 14 16 17 19 20 22 23 24 26 27 29 30 32 33\n",
            " 35 36 37 39 40 42 43 45 46 47 49 50 52 53 55 56 58 59]\n",
            "/content/drive/MyDrive/PumpkinSeeds/datasource/dataSignVideos/how_48.mp4\n",
            "[  0   5   9  14  19  23  28  33  37  42  47  52  56  61  66  70  75  80\n",
            "  84  89  94  98 103 108 112 117 122 126 131 136 140 145 150 155 159 164\n",
            " 169 173 178 183 187 192]\n",
            "/content/drive/MyDrive/PumpkinSeeds/datasource/dataSignVideos/my_240.mp4\n",
            "[  0   3   5   8  10  13  15  18  20  23  25  28  30  33  35  38  40  43\n",
            "  45  48  50  53  55  58  60  63  65  68  70  73  75  78  80  83  85  88\n",
            "  90  93  95  98 100 103]\n",
            "/content/drive/MyDrive/PumpkinSeeds/datasource/dataSignVideos/my_241.mp4\n",
            "[ 0  2  5  7 10 12 14 17 19 22 24 27 29 31 34 36 39 41 43 46 48 51 53 56\n",
            " 58 60 63 65 68 70 72 75 77 80 82 85 87 89 92 94 97 99]\n",
            "/content/drive/MyDrive/PumpkinSeeds/datasource/dataSignVideos/weather_285.mp4\n",
            "[  0   3   5   8  11  13  16  19  21  24  27  29  32  35  37  40  43  45\n",
            "  48  51  53  56  58  61  64  66  69  72  74  77  80  82  85  88  90  93\n",
            "  96  98 101 104 106 109]\n",
            "/content/drive/MyDrive/PumpkinSeeds/datasource/dataSignVideos/weather_286.mp4\n",
            "[  0   3   6   9  12  15  18  21  24  27  30  33  36  39  42  45  48  51\n",
            "  54  57  60  62  65  68  71  74  77  80  83  86  89  92  95  98 101 104\n",
            " 107 110 113 116 119 122]\n",
            "/content/drive/MyDrive/PumpkinSeeds/datasource/dataSignVideos/love_958.mp4\n",
            "[  0   4   9  13  17  22  26  30  35  39  43  47  52  56  60  65  69  73\n",
            "  78  82  86  91  95  99 104 108 112 117 121 125 130 134 138 142 147 151\n",
            " 155 160 164 168 173 177]\n",
            "/content/drive/MyDrive/PumpkinSeeds/datasource/dataSignVideos/weather_962.mp4\n",
            "[ 0  2  3  5  7  9 10 12 14 15 17 19 20 22 24 26 27 29 31 32 34 36 38 39\n",
            " 41 43 44 46 48 50 51 53 55 56 58 60 61 63 65 67 68 70]\n",
            "/content/drive/MyDrive/PumpkinSeeds/datasource/dataSignVideos/weather_961.mp4\n",
            "[ 0  1  3  4  5  7  8  9 11 12 13 14 16 17 18 20 21 22 24 25 26 28 29 30\n",
            " 32 33 34 36 37 38 40 41 42 43 45 46 47 49 50 51 53 54]\n",
            "/content/drive/MyDrive/PumpkinSeeds/datasource/dataSignVideos/weather_963.mp4\n",
            "[ 0  1  2  4  5  6  7  9 10 11 12 13 15 16 17 18 20 21 22 23 24 26 27 28\n",
            " 29 30 32 33 34 35 37 38 39 40 41 43 44 45 46 48 49 50]\n",
            "/content/drive/MyDrive/PumpkinSeeds/datasource/dataSignVideos/weather_964.mp4\n",
            "[ 0  0  1  1  1  2  2  3  3  3  4  4  4  5  5  5  6  6  7  7  7  8  8  8\n",
            "  9  9 10 10 10 11 11 11 12 12 12 13 13 14 14 14 15 15]\n"
          ]
        },
        {
          "output_type": "stream",
          "name": "stderr",
          "text": [
            "WARNING:py.warnings:/usr/local/lib/python3.10/dist-packages/google/protobuf/symbol_database.py:55: UserWarning: SymbolDatabase.GetPrototype() is deprecated. Please use message_factory.GetMessageClass() instead. SymbolDatabase.GetPrototype() will be removed soon.\n",
            "  warnings.warn('SymbolDatabase.GetPrototype() is deprecated. Please '\n",
            "\n"
          ]
        },
        {
          "output_type": "stream",
          "name": "stdout",
          "text": [
            "/content/drive/MyDrive/PumpkinSeeds/datasource/dataSignVideos/love_987.mp4\n",
            "[ 0  2  4  5  7  9 11 12 14 16 18 20 21 23 25 27 28 30 32 34 36 37 39 41\n",
            " 43 45 46 48 50 52 53 55 57 59 61 62 64 66 68 69 71 73]\n",
            "/content/drive/MyDrive/PumpkinSeeds/datasource/dataSignVideos/today_994.mp4\n",
            "[  0   4   9  13  17  22  26  31  35  39  44  48  52  57  61  65  70  74\n",
            "  79  83  87  92  96 100 105 109 114 118 122 127 131 135 140 144 148 153\n",
            " 157 162 166 170 175 179]\n",
            "/content/drive/MyDrive/PumpkinSeeds/datasource/dataSignVideos/how_1568.mp4\n",
            "[  0   4   8  13  17  21  25  29  33  38  42  46  50  54  58  63  67  71\n",
            "  75  79  83  88  92  96 100 104 108 113 117 121 125 129 133 138 142 146\n",
            " 150 154 158 163 167 171]\n",
            "/content/drive/MyDrive/PumpkinSeeds/datasource/dataSignVideos/how_1569.mp4\n",
            "[ 0  1  1  2  3  4  4  5  6  6  7  8  8  9 10 11 11 12 13 13 14 15 16 16\n",
            " 17 18 18 19 20 21 21 22 23 23 24 25 25 26 27 28 28 29]\n",
            "/content/drive/MyDrive/PumpkinSeeds/datasource/dataSignVideos/how_1570.mp4\n",
            "[ 0  1  3  4  5  7  8 10 11 12 14 15 16 18 19 20 22 23 25 26 27 29 30 31\n",
            " 33 34 36 37 38 40 41 42 44 45 46 48 49 51 52 53 55 56]\n",
            "/content/drive/MyDrive/PumpkinSeeds/datasource/dataSignVideos/my_1580.mp4\n",
            "[  0   3   6   9  12  15  18  21  24  27  30  33  36  39  42  45  48  51\n",
            "  54  57  60  63  66  69  72  75  78  81  84  87  90  93  96  99 102 105\n",
            " 108 111 114 117 120 123]\n",
            "/content/drive/MyDrive/PumpkinSeeds/datasource/dataSignVideos/i_2354.mp4\n",
            "[  0   3   7  10  14  17  20  24  27  31  34  37  41  44  47  51  54  58\n",
            "  61  64  68  71  75  78  81  85  88  92  95  98 102 105 108 112 115 119\n",
            " 122 125 129 132 136 139]\n",
            "/content/drive/MyDrive/PumpkinSeeds/datasource/dataSignVideos/who_2747.mp4\n",
            "[ 0  2  3  5  6  8  9 11 12 14 15 17 18 20 21 23 24 26 27 29 30 32 33 35\n",
            " 36 38 39 41 42 44 45 47 48 50 51 53 54 56 57 59 60 62]\n",
            "/content/drive/MyDrive/PumpkinSeeds/datasource/dataSignVideos/who_2180.mp4\n",
            "[ 0  2  4  6  8 10 12 14 16 18 20 21 23 25 27 29 31 33 35 37 39 41 43 45\n",
            " 47 49 51 53 55 57 59 60 62 64 66 68 70 72 74 76 78 80]\n",
            "/content/drive/MyDrive/PumpkinSeeds/datasource/dataSignVideos/today_2815.mp4\n",
            "[  0   3   6   9  12  15  18  21  24  27  30  34  37  40  43  46  49  52\n",
            "  55  58  61  64  67  70  73  76  79  82  85  88  91  95  98 101 104 107\n",
            " 110 113 116 119 122 125]\n",
            "/content/drive/MyDrive/PumpkinSeeds/datasource/dataSignVideos/cooking_2933.mp4\n",
            "[  0   4   7  11  15  18  22  25  29  33  36  40  44  47  51  55  58  62\n",
            "  65  69  73  76  80  84  87  91  94  98 102 105 109 113 116 120 124 127\n",
            " 131 134 138 142 145 149]\n",
            "/content/drive/MyDrive/PumpkinSeeds/datasource/dataSignVideos/weather_3178.mp4\n",
            "[ 0  2  4  6  8 10 12 14 16 18 20 22 24 26 28 30 32 34 36 38 40 41 43 45\n",
            " 47 49 51 53 55 57 59 61 63 65 67 69 71 73 75 77 79 81]\n",
            "/content/drive/MyDrive/PumpkinSeeds/datasource/dataSignVideos/love_3337.mp4\n",
            "[  0   3   6   9  12  15  17  20  23  26  29  32  35  38  41  44  46  49\n",
            "  52  55  58  61  64  67  70  73  75  78  81  84  87  90  93  96  99 102\n",
            " 104 107 110 113 116 119]\n",
            "/content/drive/MyDrive/PumpkinSeeds/datasource/dataSignVideos/hello_3287.mp4\n",
            "[ 0  1  2  4  5  6  7  9 10 11 12 14 15 16 17 19 20 21 22 24 25 26 27 29\n",
            " 30 31 32 34 35 36 37 39 40 41 42 44 45 46 47 49 50 51]\n",
            "/content/drive/MyDrive/PumpkinSeeds/datasource/dataSignVideos/we_3342.mp4\n",
            "[ 0  2  4  7  9 11 13 15 18 20 22 24 26 29 31 33 35 37 40 42 44 46 48 50\n",
            " 53 55 57 59 61 64 66 68 70 72 75 77 79 81 83 86 88 90]\n",
            "/content/drive/MyDrive/PumpkinSeeds/datasource/dataSignVideos/we_3348.mp4\n",
            "[  0   3   6   9  12  15  18  21  24  27  30  32  35  38  41  44  47  50\n",
            "  53  56  59  62  65  68  71  74  77  80  83  86  89  91  94  97 100 103\n",
            " 106 109 112 115 118 121]\n",
            "/content/drive/MyDrive/PumpkinSeeds/datasource/dataSignVideos/you_3574.mp4\n",
            "[ 0  1  2  4  5  6  7  8 10 11 12 13 14 16 17 18 19 20 22 23 24 25 26 27\n",
            " 29 30 31 32 33 35 36 37 38 39 41 42 43 44 45 47 48 49]\n",
            "/content/drive/MyDrive/PumpkinSeeds/datasource/dataSignVideos/today_3554.mp4\n",
            "[  0   3   6   9  11  14  17  20  23  26  29  31  34  37  40  43  46  49\n",
            "  51  54  57  60  63  66  68  71  74  77  80  83  86  88  91  94  97 100\n",
            " 103 106 108 111 114 117]\n",
            "/content/drive/MyDrive/PumpkinSeeds/datasource/dataSignVideos/you_3575.mp4\n",
            "[ 0  1  2  3  4  5  6  7  8  9 10 11 12 13 14 15 16 17 18 19 20 20 21 22\n",
            " 23 24 25 26 27 28 29 30 31 32 33 34 35 36 37 38 39 40]\n",
            "/content/drive/MyDrive/PumpkinSeeds/datasource/dataSignVideos/who_3823.mp4\n",
            "[  0   3   6   9  12  15  17  20  23  26  29  32  35  38  41  44  46  49\n",
            "  52  55  58  61  64  67  70  73  75  78  81  84  87  90  93  96  99 102\n",
            " 104 107 110 113 116 119]\n",
            "/content/drive/MyDrive/PumpkinSeeds/datasource/dataSignVideos/we_3836.mp4\n",
            "[  0   4   7  11  15  18  22  25  29  33  36  40  44  47  51  55  58  62\n",
            "  65  69  73  76  80  84  87  91  94  98 102 105 109 113 116 120 124 127\n",
            " 131 134 138 142 145 149]\n",
            "/content/drive/MyDrive/PumpkinSeeds/datasource/dataSignVideos/who_3904.mp4\n",
            "[ 0  2  4  6  8 10 12 14 16 18 20 22 24 26 28 30 32 34 36 38 40 42 44 46\n",
            " 48 50 52 54 56 58 60 62 64 66 68 70 72 74 76 78 80 82]\n",
            "/content/drive/MyDrive/PumpkinSeeds/datasource/dataSignVideos/you_3837.mp4\n",
            "[  0   4   7  11  15  18  22  25  29  33  36  40  44  47  51  55  58  62\n",
            "  65  69  73  76  80  84  87  91  94  98 102 105 109 113 116 120 124 127\n",
            " 131 134 138 142 145 149]\n",
            "/content/drive/MyDrive/PumpkinSeeds/datasource/dataSignVideos/i_3982.mp4\n",
            "[ 0  2  3  5  6  8  9 11 12 14 15 17 18 20 21 23 24 26 27 29 30 32 33 35\n",
            " 36 38 39 41 42 44 45 47 48 50 51 53 54 56 57 59 60 62]\n",
            "/content/drive/MyDrive/PumpkinSeeds/datasource/dataSignVideos/today_4042.mp4\n",
            "[ 0  1  2  4  5  6  7  8 10 11 12 13 14 16 17 18 19 20 22 23 24 25 26 27\n",
            " 29 30 31 32 33 35 36 37 38 39 41 42 43 44 45 47 48 49]\n",
            "/content/drive/MyDrive/PumpkinSeeds/datasource/dataSignVideos/i_3983.mp4\n",
            "[ 0  2  4  6  8 10 12 14 16 18 20 21 23 25 27 29 31 33 35 37 39 41 43 45\n",
            " 47 49 51 53 55 57 59 60 62 64 66 68 70 72 74 76 78 80]\n",
            "/content/drive/MyDrive/PumpkinSeeds/datasource/dataSignVideos/today_4043.mp4\n",
            "[ 0  1  2  4  5  6  7  8  9 11 12 13 14 15 16 18 19 20 21 22 23 25 26 27\n",
            " 28 29 30 32 33 34 35 36 37 39 40 41 42 43 44 46 47 48]\n",
            "/content/drive/MyDrive/PumpkinSeeds/datasource/dataSignVideos/today_4044.mp4\n",
            "[ 0  2  4  6  8 10 12 14 16 18 20 21 23 25 27 29 31 33 35 37 39 41 43 45\n",
            " 47 49 51 53 55 57 59 60 62 64 66 68 70 72 74 76 78 80]\n",
            "/content/drive/MyDrive/PumpkinSeeds/datasource/dataSignVideos/hello_4088.mp4\n",
            "[ 0  2  3  5  6  8 10 11 13 14 16 18 19 21 23 24 26 27 29 31 32 34 35 37\n",
            " 39 40 42 43 45 47 48 50 52 53 55 56 58 60 61 63 64 66]\n",
            "/content/drive/MyDrive/PumpkinSeeds/datasource/dataSignVideos/you_4103.mp4\n",
            "[ 0  2  4  6  8 10 12 15 17 19 21 23 25 27 29 31 33 35 37 39 41 44 46 48\n",
            " 50 52 54 56 58 60 62 64 66 68 70 73 75 77 79 81 83 85]\n",
            "/content/drive/MyDrive/PumpkinSeeds/datasource/dataSignVideos/how_4239.mp4\n",
            "[  0   3   6   8  11  14  17  19  22  25  28  31  33  36  39  42  44  47\n",
            "  50  53  56  58  61  64  67  70  72  75  78  81  83  86  89  92  95  97\n",
            " 100 103 106 108 111 114]\n",
            "/content/drive/MyDrive/PumpkinSeeds/datasource/dataSignVideos/cooking_4425.mp4\n",
            "[ 0  2  3  5  7  8 10 12 13 15 17 18 20 22 23 25 27 28 30 32 33 35 36 38\n",
            " 40 41 43 45 46 48 50 51 53 55 56 58 60 61 63 65 66 68]\n",
            "/content/drive/MyDrive/PumpkinSeeds/datasource/dataSignVideos/how_4581.mp4\n",
            "[  0   3   5   8  11  13  16  19  21  24  27  29  32  35  37  40  43  45\n",
            "  48  51  53  56  58  61  64  66  69  72  74  77  80  82  85  88  90  93\n",
            "  96  98 101 104 106 109]\n",
            "/content/drive/MyDrive/PumpkinSeeds/datasource/dataSignVideos/how_4582.mp4\n",
            "[  0   3   7  10  14  17  20  24  27  31  34  38  41  44  48  51  55  58\n",
            "  61  65  68  72  75  79  82  85  89  92  96  99 102 106 109 113 116 120\n",
            " 123 126 130 133 137 140]\n",
            "/content/drive/MyDrive/PumpkinSeeds/datasource/dataSignVideos/how_4770.mp4\n",
            "[ 0  1  2  3  4  5  7  8  9 10 11 12 13 14 15 16 18 19 20 21 22 23 24 25\n",
            " 26 27 29 30 31 32 33 34 35 36 37 38 40 41 42 43 44 45]\n",
            "/content/drive/MyDrive/PumpkinSeeds/datasource/dataSignVideos/how_4771.mp4\n",
            "[ 0  1  2  3  4  6  7  8  9 10 11 12 13 15 16 17 18 19 20 21 22 24 25 26\n",
            " 27 28 29 30 31 33 34 35 36 37 38 39 40 42 43 44 45 46]\n",
            "/content/drive/MyDrive/PumpkinSeeds/datasource/dataSignVideos/how_4772.mp4\n",
            "[ 0  1  2  4  5  6  7  8 10 11 12 13 14 16 17 18 19 20 22 23 24 25 26 27\n",
            " 29 30 31 32 33 35 36 37 38 39 41 42 43 44 45 47 48 49]\n",
            "/content/drive/MyDrive/PumpkinSeeds/datasource/dataSignVideos/how_4983.mp4\n",
            "[ 0  1  3  4  5  7  8 10 11 12 14 15 16 18 19 20 22 23 25 26 27 29 30 31\n",
            " 33 34 36 37 38 40 41 42 44 45 46 48 49 51 52 53 55 56]\n",
            "/content/drive/MyDrive/PumpkinSeeds/datasource/dataSignVideos/love_5709.mp4\n",
            "[ 0  2  3  5  6  8 10 11 13 14 16 18 19 21 23 24 26 27 29 31 32 34 35 37\n",
            " 39 40 42 43 45 47 48 50 52 53 55 56 58 60 61 63 64 66]\n",
            "/content/drive/MyDrive/PumpkinSeeds/datasource/dataSignVideos/hello_4997.mp4\n",
            "[ 0  1  2  4  5  6  7  9 10 11 12 14 15 16 17 19 20 21 22 24 25 26 27 29\n",
            " 30 31 32 34 35 36 37 39 40 41 42 44 45 46 47 49 50 51]\n",
            "/content/drive/MyDrive/PumpkinSeeds/datasource/dataSignVideos/you_5717.mp4\n",
            "[ 0  1  2  3  4  5  6  7  8  9 10 11 12 13 14 15 16 17 18 19 20 20 21 22\n",
            " 23 24 25 26 27 28 29 30 31 32 33 34 35 36 37 38 39 40]\n",
            "/content/drive/MyDrive/PumpkinSeeds/datasource/dataSignVideos/we_6246.mp4\n",
            "[ 0  2  3  5  7  9 10 12 14 16 17 19 21 23 24 26 28 29 31 33 35 36 38 40\n",
            " 42 43 45 47 48 50 52 54 55 57 59 61 62 64 66 68 69 71]\n",
            "/content/drive/MyDrive/PumpkinSeeds/datasource/dataSignVideos/cooking_6083.mp4\n",
            "[ 0  1  2  3  4  5  6  7  8  9 10 11 12 13 14 15 16 17 18 19 20 22 23 24\n",
            " 25 26 27 28 29 30 31 32 33 34 35 36 37 38 39 40 41 42]\n",
            "/content/drive/MyDrive/PumpkinSeeds/datasource/dataSignVideos/how_6435.mp4\n",
            "[ 0  2  4  5  7  9 11 13 14 16 18 20 22 23 25 27 29 31 32 34 36 38 40 42\n",
            " 43 45 47 49 51 52 54 56 58 60 61 63 65 67 69 70 72 74]\n",
            "/content/drive/MyDrive/PumpkinSeeds/datasource/dataSignVideos/how_6441.mp4\n",
            "[ 0  1  2  3  5  6  7  8  9 10 11 13 14 15 16 17 18 19 21 22 23 24 25 26\n",
            " 28 29 30 31 32 33 34 36 37 38 39 40 41 42 44 45 46 47]\n",
            "/content/drive/MyDrive/PumpkinSeeds/datasource/dataSignVideos/how_6442.mp4\n",
            "[ 0  2  4  6  8  9 11 13 15 17 19 21 23 24 26 28 30 32 34 36 38 39 41 43\n",
            " 45 47 49 51 53 54 56 58 60 62 64 66 68 69 71 73 75 77]\n",
            "/content/drive/MyDrive/PumpkinSeeds/datasource/dataSignVideos/who_6707.mp4\n",
            "[ 0  2  3  5  6  8 10 11 13 14 16 17 19 21 22 24 25 27 29 30 32 33 35 36\n",
            " 38 40 41 43 44 46 48 49 51 52 54 55 57 59 60 62 63 65]\n",
            "/content/drive/MyDrive/PumpkinSeeds/datasource/dataSignVideos/today_6464.mp4\n",
            "[  0   3   6   9  12  15  18  21  24  27  30  33  36  39  42  45  48  51\n",
            "  54  57  60  62  65  68  71  74  77  80  83  86  89  92  95  98 101 104\n",
            " 107 110 113 116 119 122]\n",
            "/content/drive/MyDrive/PumpkinSeeds/datasource/dataSignVideos/how_6712.mp4\n",
            "[ 0  2  3  5  6  8  9 11 12 14 15 17 18 20 21 23 24 26 27 29 30 32 33 35\n",
            " 36 38 39 41 42 44 45 47 48 50 51 53 54 56 57 59 60 62]\n",
            "/content/drive/MyDrive/PumpkinSeeds/datasource/dataSignVideos/i_6988.mp4\n",
            "[ 0  2  5  7  9 11 14 16 18 21 23 25 28 30 32 34 37 39 41 44 46 48 50 53\n",
            " 55 57 60 62 64 66 69 71 73 76 78 80 83 85 87 89 92 94]\n",
            "/content/drive/MyDrive/PumpkinSeeds/datasource/dataSignVideos/my_7114.mp4\n",
            "[ 0  1  2  3  4  5  6  7  8  9 10 11 12 13 14 15 16 17 18 19 20 22 23 24\n",
            " 25 26 27 28 29 30 31 32 33 34 35 36 37 38 39 40 41 42]\n",
            "/content/drive/MyDrive/PumpkinSeeds/datasource/dataSignVideos/we_7129.mp4\n",
            "[ 0  1  3  4  6  7  8 10 11 13 14 16 17 18 20 21 23 24 25 27 28 30 31 33\n",
            " 34 35 37 38 40 41 42 44 45 47 48 50 51 52 54 55 57 58]\n",
            "/content/drive/MyDrive/PumpkinSeeds/datasource/dataSignVideos/hello_7146.mp4\n",
            "[ 0  1  2  3  4  5  6  8  9 10 11 12 13 14 15 16 17 18 19 20 21 23 24 25\n",
            " 26 27 28 29 30 31 32 33 34 35 36 38 39 40 41 42 43 44]\n",
            "/content/drive/MyDrive/PumpkinSeeds/datasource/dataSignVideos/how_7277.mp4\n",
            "[ 0  1  2  2  3  4  5  6  7  7  8  9 10 11 12 12 13 14 15 16 17 17 18 19\n",
            " 20 21 22 22 23 24 25 26 27 27 28 29 30 31 32 32 33 34]\n",
            "/content/drive/MyDrive/PumpkinSeeds/datasource/dataSignVideos/how_7278.mp4\n",
            "[ 0  1  2  3  4  5  6  6  7  8  9 10 11 12 13 14 15 16 17 18 19 19 20 21\n",
            " 22 23 24 25 26 27 28 29 30 31 32 32 33 34 35 36 37 38]\n",
            "/content/drive/MyDrive/PumpkinSeeds/datasource/dataSignVideos/my_7290.mp4\n",
            "[ 0  2  5  7 10 12 14 17 19 22 24 27 29 31 34 36 39 41 43 46 48 51 53 56\n",
            " 58 60 63 65 68 70 72 75 77 80 82 85 87 89 92 94 97 99]\n",
            "/content/drive/MyDrive/PumpkinSeeds/datasource/dataSignVideos/we_7308.mp4\n",
            "[ 0  1  3  4  6  7  8 10 11 13 14 15 17 18 19 21 22 24 25 26 28 29 31 32\n",
            " 33 35 36 38 39 40 42 43 44 46 47 49 50 51 53 54 56 57]\n",
            "/content/drive/MyDrive/PumpkinSeeds/datasource/dataSignVideos/we_7309.mp4\n",
            "[ 0  1  2  3  4  5  6  6  7  8  9 10 11 12 13 14 15 16 17 18 19 19 20 21\n",
            " 22 23 24 25 26 27 28 29 30 31 32 32 33 34 35 36 37 38]\n",
            "/content/drive/MyDrive/PumpkinSeeds/datasource/dataSignVideos/you_7315.mp4\n",
            "[  0   4   8  12  15  19  23  27  31  35  39  42  46  50  54  58  62  66\n",
            "  69  73  77  81  85  89  92  96 100 104 108 112 116 119 123 127 131 135\n",
            " 139 143 146 150 154 158]\n",
            "/content/drive/MyDrive/PumpkinSeeds/datasource/dataSignVideos/love_7760.mp4\n",
            "[ 0  2  3  5  7  8 10 11 13 15 16 18 20 21 23 25 26 28 29 31 33 34 36 38\n",
            " 39 41 42 44 46 47 49 51 52 54 56 57 59 60 62 64 65 67]\n",
            "/content/drive/MyDrive/PumpkinSeeds/datasource/dataSignVideos/love_7761.mp4\n",
            "[ 0  2  4  7  9 11 13 15 17 20 22 24 26 28 30 33 35 37 39 41 43 46 48 50\n",
            " 52 54 56 59 61 63 65 67 69 72 74 76 78 80 82 85 87 89]\n",
            "/content/drive/MyDrive/PumpkinSeeds/datasource/dataSignVideos/hello_7768.mp4\n",
            "[  0   3   6  10  13  16  19  23  26  29  32  36  39  42  45  49  52  55\n",
            "  58  62  65  68  71  75  78  81  84  88  91  94  97 101 104 107 110 114\n",
            " 117 120 123 127 130 133]\n",
            "/content/drive/MyDrive/PumpkinSeeds/datasource/dataSignVideos/you_7770.mp4\n",
            "[  0   2   5   7  10  12  15  17  20  22  25  27  30  32  34  37  39  42\n",
            "  44  47  49  52  54  57  59  62  64  67  69  71  74  76  79  81  84  86\n",
            "  89  91  94  96  99 101]\n",
            "/content/drive/MyDrive/PumpkinSeeds/datasource/dataSignVideos/we_7773.mp4\n",
            "[  0   4   8  11  15  19  23  26  30  34  38  42  45  49  53  57  60  64\n",
            "  68  72  76  79  83  87  91  95  98 102 106 110 113 117 121 125 129 132\n",
            " 136 140 144 147 151 155]\n",
            "/content/drive/MyDrive/PumpkinSeeds/datasource/dataSignVideos/my_7776.mp4\n",
            "[  0   3   7  10  13  17  20  23  27  30  33  36  40  43  46  50  53  56\n",
            "  60  63  66  70  73  76  80  83  86  90  93  96 100 103 106 109 113 116\n",
            " 119 123 126 129 133 136]\n",
            "/content/drive/MyDrive/PumpkinSeeds/datasource/dataSignVideos/today_7942.mp4\n",
            "[  0   3   6   9  12  15  17  20  23  26  29  32  35  38  41  44  46  49\n",
            "  52  55  58  61  64  67  70  73  75  78  81  84  87  90  93  96  99 102\n",
            " 104 107 110 113 116 119]\n",
            "/content/drive/MyDrive/PumpkinSeeds/datasource/dataSignVideos/love_8286.mp4\n",
            "[ 0  1  2  4  5  6  7  8  9 11 12 13 14 15 16 18 19 20 21 22 23 25 26 27\n",
            " 28 29 30 32 33 34 35 36 37 39 40 41 42 43 44 46 47 48]\n",
            "/content/drive/MyDrive/PumpkinSeeds/datasource/dataSignVideos/love_8287.mp4\n",
            "[ 0  1  2  4  5  6  7  9 10 11 12 14 15 16 17 19 20 21 22 24 25 26 27 29\n",
            " 30 31 32 34 35 36 37 39 40 41 42 44 45 46 47 49 50 51]\n",
            "/content/drive/MyDrive/PumpkinSeeds/datasource/dataSignVideos/who_8397.mp4\n",
            "[  0   3   7  10  14  17  21  24  28  31  35  38  42  45  48  52  55  59\n",
            "  62  66  69  73  76  80  83  87  90  94  97 100 104 107 111 114 118 121\n",
            " 125 128 132 135 139 142]\n",
            "/content/drive/MyDrive/PumpkinSeeds/datasource/dataSignVideos/how_8399.mp4\n",
            "[  0   5   9  14  19  23  28  32  37  42  46  51  56  60  65  70  74  79\n",
            "  83  88  93  97 102 107 111 116 120 125 130 134 139 144 148 153 158 162\n",
            " 167 171 176 181 185 190]\n",
            "/content/drive/MyDrive/PumpkinSeeds/datasource/dataSignVideos/cooking_8460.mp4\n",
            "[  0   4   7  11  14  18  22  25  29  32  36  40  43  47  51  54  58  61\n",
            "  65  69  72  76  79  83  87  90  94  97 101 105 108 112 116 119 123 126\n",
            " 130 134 137 141 144 148]\n",
            "/content/drive/MyDrive/PumpkinSeeds/datasource/dataSignVideos/my_8498.mp4\n",
            "[ 0  1  1  2  2  3  3  4  4  5  5  6  6  7  7  8  8  9  9 10 10 11 11 12\n",
            " 12 13 13 14 14 15 15 16 16 17 17 18 18 19 19 20 20 21]\n",
            "/content/drive/MyDrive/PumpkinSeeds/datasource/dataSignVideos/my_8499.mp4\n",
            "[ 0  1  3  4  6  7  9 10 12 13 15 16 18 19 20 22 23 25 26 28 29 31 32 34\n",
            " 35 37 38 40 41 42 44 45 47 48 50 51 53 54 56 57 59 60]\n",
            "/content/drive/MyDrive/PumpkinSeeds/datasource/dataSignVideos/you_8501.mp4\n",
            "[ 0  1  2  2  3  4  5  5  6  7  8  9  9 10 11 12 12 13 14 15 16 16 17 18\n",
            " 19 20 20 21 22 23 23 24 25 26 27 27 28 29 30 30 31 32]\n",
            "/content/drive/MyDrive/PumpkinSeeds/datasource/dataSignVideos/my_8500.mp4\n",
            "[ 0  0  1  1  2  2  3  3  4  4  4  5  5  6  6  7  7  7  8  8  9  9 10 10\n",
            " 11 11 11 12 12 13 13 14 14 14 15 15 16 16 17 17 18 18]\n",
            "/content/drive/MyDrive/PumpkinSeeds/datasource/dataSignVideos/who_8518.mp4\n",
            "[ 0  2  4  7  9 11 13 16 18 20 22 25 27 29 31 34 36 38 40 43 45 47 49 52\n",
            " 54 56 58 61 63 65 67 70 72 74 76 79 81 83 85 88 90 92]\n",
            "/content/drive/MyDrive/PumpkinSeeds/datasource/dataSignVideos/how_8522.mp4\n",
            "[ 0  1  1  2  3  3  4  5  5  6  7  7  8  9  9 10 11 11 12 13 13 14 14 15\n",
            " 16 16 17 18 18 19 20 20 21 22 22 23 24 24 25 26 26 27]\n",
            "/content/drive/MyDrive/PumpkinSeeds/datasource/dataSignVideos/how_8523.mp4\n",
            "[  0   4   7  11  14  18  22  25  29  32  36  39  43  47  50  54  57  61\n",
            "  65  68  72  75  79  82  86  90  93  97 100 104 108 111 115 118 122 125\n",
            " 129 133 136 140 143 147]\n",
            "/content/drive/MyDrive/PumpkinSeeds/datasource/dataSignVideos/who_8679.mp4\n",
            "[ 0  1  2  4  5  6  7  8 10 11 12 13 14 16 17 18 19 20 22 23 24 25 26 27\n",
            " 29 30 31 32 33 35 36 37 38 39 41 42 43 44 45 47 48 49]\n",
            "/content/drive/MyDrive/PumpkinSeeds/datasource/dataSignVideos/i_8548.mp4\n",
            "[ 0  2  4  6  8 10 12 14 16 18 20 22 24 26 28 30 32 34 36 38 40 42 44 46\n",
            " 48 50 52 54 56 58 60 62 64 66 68 70 72 74 76 78 80 82]\n",
            "/content/drive/MyDrive/PumpkinSeeds/datasource/dataSignVideos/who_8681.mp4\n",
            "[ 0  2  3  5  7  9 10 12 14 15 17 19 20 22 24 26 27 29 31 32 34 36 38 39\n",
            " 41 43 44 46 48 50 51 53 55 56 58 60 61 63 65 67 68 70]\n",
            "/content/drive/MyDrive/PumpkinSeeds/datasource/dataSignVideos/who_8680.mp4\n",
            "[  0   4   8  12  16  20  23  27  31  35  39  43  47  51  55  59  62  66\n",
            "  70  74  78  82  86  90  94  98 101 105 109 113 117 121 125 129 133 137\n",
            " 140 144 148 152 156 160]\n",
            "/content/drive/MyDrive/PumpkinSeeds/datasource/dataSignVideos/my_9089.mp4\n",
            "[  0   3   6   9  12  16  19  22  25  28  31  34  37  41  44  47  50  53\n",
            "  56  59  62  66  69  72  75  78  81  84  87  91  94  97 100 103 106 109\n",
            " 112 116 119 122 125 128]\n",
            "/content/drive/MyDrive/PumpkinSeeds/datasource/dataSignVideos/cooking_8816.mp4\n",
            "[  0   3   5   8  10  13  15  18  20  23  25  28  30  33  35  38  40  43\n",
            "  45  48  50  53  55  58  60  63  65  68  70  73  75  78  80  83  85  88\n",
            "  90  93  95  98 100 103]\n",
            "/content/drive/MyDrive/PumpkinSeeds/datasource/dataSignVideos/how_9105.mp4\n",
            "[ 0  1  2  4  5  6  7  9 10 11 12 13 15 16 17 18 20 21 22 23 24 26 27 28\n",
            " 29 30 32 33 34 35 37 38 39 40 41 43 44 45 46 48 49 50]\n",
            "/content/drive/MyDrive/PumpkinSeeds/datasource/dataSignVideos/my_9181.mp4\n",
            "[ 0  1  2  3  4  5  6  7  8  9 10 11 12 13 14 15 16 17 18 19 20 20 21 22\n",
            " 23 24 25 26 27 28 29 30 31 32 33 34 35 36 37 38 39 40]\n",
            "/content/drive/MyDrive/PumpkinSeeds/datasource/dataSignVideos/my_9180.mp4\n",
            "[ 0  1  2  3  4  5  6  7  8  9 10 11 12 13 14 15 16 17 18 19 20 21 22 23\n",
            " 24 25 26 27 28 29 30 31 32 33 34 35 36 37 38 39 40 41]\n",
            "/content/drive/MyDrive/PumpkinSeeds/datasource/dataSignVideos/who_9252.mp4\n",
            "[  0   3   6   9  12  15  18  21  24  27  30  34  37  40  43  46  49  52\n",
            "  55  58  61  64  67  70  73  76  79  82  85  88  91  95  98 101 104 107\n",
            " 110 113 116 119 122 125]\n",
            "/content/drive/MyDrive/PumpkinSeeds/datasource/dataSignVideos/you_9241.mp4\n",
            "[  0   3   5   8  11  13  16  18  21  24  26  29  32  34  37  40  42  45\n",
            "  47  50  53  55  58  61  63  66  68  71  74  76  79  82  84  87  90  92\n",
            "  95  97 100 103 105 108]\n",
            "/content/drive/MyDrive/PumpkinSeeds/datasource/dataSignVideos/how_9257.mp4\n",
            "[ 0  2  4  7  9 11 13 16 18 20 22 25 27 29 31 34 36 38 40 43 45 47 49 52\n",
            " 54 56 58 61 63 65 67 70 72 74 76 79 81 83 85 88 90 92]\n",
            "/content/drive/MyDrive/PumpkinSeeds/datasource/dataSignVideos/who_9351.mp4\n",
            "[ 0  2  4  6  8 11 13 15 17 19 21 23 25 28 30 32 34 36 38 40 42 45 47 49\n",
            " 51 53 55 57 59 62 64 66 68 70 72 74 76 79 81 83 85 87]\n",
            "/content/drive/MyDrive/PumpkinSeeds/datasource/dataSignVideos/today_9694.mp4\n",
            "[  0   2   5   7  10  12  15  17  20  22  25  27  30  32  35  37  40  42\n",
            "  45  47  50  52  55  57  60  62  65  67  70  72  75  77  80  82  85  87\n",
            "  90  92  95  97 100 102]\n",
            "/content/drive/MyDrive/PumpkinSeeds/datasource/dataSignVideos/weather_10048.mp4\n",
            "[  0   4   7  11  15  18  22  26  29  33  37  40  44  48  51  55  59  62\n",
            "  66  70  73  77  80  84  88  91  95  99 102 106 110 113 117 121 124 128\n",
            " 132 135 139 143 146 150]\n",
            "/content/drive/MyDrive/PumpkinSeeds/datasource/dataSignVideos/how_10305.mp4\n",
            "[  0   3   5   8  11  14  16  19  22  25  27  30  33  36  38  41  44  46\n",
            "  49  52  55  57  60  63  66  68  71  74  76  79  82  85  87  90  93  96\n",
            "  98 101 104 107 109 112]\n",
            "/content/drive/MyDrive/PumpkinSeeds/datasource/dataSignVideos/we_10487.mp4\n",
            "[ 0  2  4  7  9 11 13 15 18 20 22 24 26 29 31 33 35 37 40 42 44 46 48 50\n",
            " 53 55 57 59 61 64 66 68 70 72 75 77 79 81 83 86 88 90]\n",
            "/content/drive/MyDrive/PumpkinSeeds/datasource/dataSignVideos/you_10486.mp4\n",
            "[  0   4   7  11  15  18  22  25  29  33  36  40  44  47  51  55  58  62\n",
            "  65  69  73  76  80  84  87  91  94  98 102 105 109 113 116 120 124 127\n",
            " 131 134 138 142 145 149]\n",
            "/content/drive/MyDrive/PumpkinSeeds/datasource/dataSignVideos/we_10488.mp4\n",
            "[  0   3   6  10  13  16  19  22  25  29  32  35  38  41  44  48  51  54\n",
            "  57  60  63  67  70  73  76  79  82  86  89  92  95  98 101 105 108 111\n",
            " 114 117 120 124 127 130]\n",
            "/content/drive/MyDrive/PumpkinSeeds/datasource/dataSignVideos/you_10491.mp4\n",
            "[ 0  1  3  4  6  7  9 10 12 13 14 16 17 19 20 22 23 24 26 27 29 30 32 33\n",
            " 35 36 37 39 40 42 43 45 46 47 49 50 52 53 55 56 58 59]\n",
            "/content/drive/MyDrive/PumpkinSeeds/datasource/dataSignVideos/you_10492.mp4\n",
            "[ 0  2  5  7 10 12 14 17 19 22 24 27 29 31 34 36 39 41 43 46 48 51 53 56\n",
            " 58 60 63 65 68 70 72 75 77 80 82 85 87 89 92 94 97 99]\n",
            "/content/drive/MyDrive/PumpkinSeeds/datasource/dataSignVideos/my_10493.mp4\n",
            "[  0   4   7  11  15  18  22  26  29  33  37  41  44  48  52  55  59  63\n",
            "  66  70  74  77  81  85  88  92  96  99 103 107 110 114 118 122 125 129\n",
            " 133 136 140 144 147 151]\n",
            "/content/drive/MyDrive/PumpkinSeeds/datasource/dataSignVideos/who_10503.mp4\n",
            "[ 0  2  5  7 10 12 14 17 19 22 24 27 29 31 34 36 39 41 43 46 48 51 53 56\n",
            " 58 60 63 65 68 70 72 75 77 80 82 85 87 89 92 94 97 99]\n",
            "/content/drive/MyDrive/PumpkinSeeds/datasource/dataSignVideos/hello_10525.mp4\n",
            "[  0   5  10  15  19  24  29  34  39  44  49  53  58  63  68  73  78  83\n",
            "  87  92  97 102 107 112 116 121 126 131 136 141 146 150 155 160 165 170\n",
            " 175 180 184 189 194 199]\n",
            "/content/drive/MyDrive/PumpkinSeeds/datasource/dataSignVideos/today_10589.mp4\n",
            "[  0   4   9  13  17  22  26  30  35  39  43  47  52  56  60  65  69  73\n",
            "  78  82  86  91  95  99 104 108 112 117 121 125 130 134 138 142 147 151\n",
            " 155 160 164 168 173 177]\n",
            "/content/drive/MyDrive/PumpkinSeeds/datasource/dataSignVideos/who_11212.mp4\n",
            "[  0   5   9  14  18  23  28  32  37  41  46  51  55  60  65  69  74  78\n",
            "  83  88  92  97 101 106 111 115 120 124 129 134 138 143 148 152 157 161\n",
            " 166 171 175 180 184 189]\n",
            "/content/drive/MyDrive/PumpkinSeeds/datasource/dataSignVideos/you_11596.mp4\n",
            "[ 0  1  3  4  6  7  9 10 12 13 14 16 17 19 20 22 23 24 26 27 29 30 32 33\n",
            " 35 36 37 39 40 42 43 45 46 47 49 50 52 53 55 56 58 59]\n",
            "/content/drive/MyDrive/PumpkinSeeds/datasource/dataSignVideos/we_11598.mp4\n",
            "[ 0  1  3  4  6  7  9 10 12 13 15 16 18 19 21 22 24 25 27 28 30 31 33 34\n",
            " 36 37 39 40 42 43 45 46 48 49 51 52 54 55 57 58 60 61]\n",
            "/content/drive/MyDrive/PumpkinSeeds/datasource/dataSignVideos/love_11625.mp4\n",
            "[ 0  1  3  4  6  7  9 10 12 13 15 16 18 19 20 22 23 25 26 28 29 31 32 34\n",
            " 35 37 38 40 41 42 44 45 47 48 50 51 53 54 56 57 59 60]\n",
            "/content/drive/MyDrive/PumpkinSeeds/datasource/dataSignVideos/my_11600.mp4\n",
            "[ 0  2  3  5  6  8  9 11 12 14 15 17 18 20 21 23 24 26 27 29 30 32 33 35\n",
            " 36 38 39 41 42 44 45 47 48 50 51 53 54 56 57 59 60 62]\n",
            "/content/drive/MyDrive/PumpkinSeeds/datasource/dataSignVideos/hello_11690.mp4\n",
            "[ 0  2  3  5  7  8 10 12 13 15 17 19 20 22 24 25 27 29 30 32 34 35 37 39\n",
            " 40 42 44 45 47 49 50 52 54 56 57 59 61 62 64 66 67 69]\n",
            "/content/drive/MyDrive/PumpkinSeeds/datasource/dataSignVideos/hello_11981.mp4\n",
            "[  0   3   7  10  13  17  20  24  27  30  34  37  40  44  47  50  54  57\n",
            "  61  64  67  71  74  77  81  84  88  91  94  98 101 104 108 111 114 118\n",
            " 121 125 128 131 135 138]\n",
            "/content/drive/MyDrive/PumpkinSeeds/datasource/dataSignVideos/cooking_12174.mp4\n",
            "[  0   3   6   9  12  16  19  22  25  28  31  34  37  41  44  47  50  53\n",
            "  56  59  62  66  69  72  75  78  81  84  87  91  94  97 100 103 106 109\n",
            " 112 116 119 122 125 128]\n",
            "/content/drive/MyDrive/PumpkinSeeds/datasource/dataSignVideos/you_12518.mp4\n",
            "[ 0  1  2  4  5  6  7  9 10 11 12 13 15 16 17 18 20 21 22 23 24 26 27 28\n",
            " 29 30 32 33 34 35 37 38 39 40 41 43 44 45 46 48 49 50]\n",
            "/content/drive/MyDrive/PumpkinSeeds/datasource/dataSignVideos/we_12521.mp4\n",
            "[ 0  2  4  7  9 11 13 16 18 20 22 24 27 29 31 33 36 38 40 42 44 47 49 51\n",
            " 53 55 58 60 62 64 67 69 71 73 75 78 80 82 84 87 89 91]\n",
            "/content/drive/MyDrive/PumpkinSeeds/datasource/dataSignVideos/hello_12586.mp4\n",
            "[ 0  2  4  6  8 10 12 14 16 18 20 22 24 26 28 30 32 34 36 38 40 41 43 45\n",
            " 47 49 51 53 55 57 59 61 63 65 67 69 71 73 75 77 79 81]\n",
            "/content/drive/MyDrive/PumpkinSeeds/datasource/dataSignVideos/my_12602.mp4\n",
            "[ 0  2  4  6  8 10 12 14 16 18 20 21 23 25 27 29 31 33 35 37 39 41 43 45\n",
            " 47 49 51 53 55 57 59 60 62 64 66 68 70 72 74 76 78 80]\n",
            "/content/drive/MyDrive/PumpkinSeeds/datasource/dataSignVideos/you_12624.mp4\n",
            "[ 0  2  4  6  8 10 12 13 15 17 19 21 23 25 27 29 31 33 35 37 39 40 42 44\n",
            " 46 48 50 52 54 56 58 60 62 64 66 67 69 71 73 75 77 79]\n",
            "/content/drive/MyDrive/PumpkinSeeds/datasource/dataSignVideos/we_12622.mp4\n",
            "[ 0  2  4  6  7  9 11 13 15 17 19 20 22 24 26 28 30 32 33 35 37 39 41 43\n",
            " 44 46 48 50 52 54 56 57 59 61 63 65 67 69 70 72 74 76]\n",
            "/content/drive/MyDrive/PumpkinSeeds/datasource/dataSignVideos/you_12625.mp4\n",
            "[ 0  1  2  3  3  4  5  6  7  8  9  9 10 11 12 13 14 15 15 16 17 18 19 20\n",
            " 20 21 22 23 24 25 26 26 27 28 29 30 31 32 32 33 34 35]\n",
            "/content/drive/MyDrive/PumpkinSeeds/datasource/dataSignVideos/who_12648.mp4\n",
            "[ 0  1  2  4  5  6  7  8 10 11 12 13 14 16 17 18 19 20 22 23 24 25 26 27\n",
            " 29 30 31 32 33 35 36 37 38 39 41 42 43 44 45 47 48 49]\n",
            "/content/drive/MyDrive/PumpkinSeeds/datasource/dataSignVideos/hello_12661.mp4\n",
            "[  0   3   6   9  12  15  18  21  24  27  30  33  36  39  42  45  48  51\n",
            "  54  57  60  62  65  68  71  74  77  80  83  86  89  92  95  98 101 104\n",
            " 107 110 113 116 119 122]\n",
            "/content/drive/MyDrive/PumpkinSeeds/datasource/dataSignVideos/who_12663.mp4\n",
            "[ 0  2  5  7 10 12 14 17 19 22 24 27 29 31 34 36 39 41 43 46 48 51 53 56\n",
            " 58 60 63 65 68 70 72 75 77 80 82 85 87 89 92 94 97 99]\n",
            "/content/drive/MyDrive/PumpkinSeeds/datasource/dataSignVideos/today_12696.mp4\n",
            "[ 0  1  3  4  6  7  9 10 12 13 15 16 18 19 20 22 23 25 26 28 29 31 32 34\n",
            " 35 37 38 40 41 42 44 45 47 48 50 51 53 54 56 57 59 60]\n",
            "/content/drive/MyDrive/PumpkinSeeds/datasource/dataSignVideos/i_12779.mp4\n",
            "[ 0  2  4  6  8 10 12 13 15 17 19 21 23 25 27 29 31 33 35 37 39 40 42 44\n",
            " 46 48 50 52 54 56 58 60 62 64 66 67 69 71 73 75 77 79]\n",
            "/content/drive/MyDrive/PumpkinSeeds/datasource/dataSignVideos/you_12783.mp4\n",
            "[  0   3   5   8  10  13  16  18  21  23  26  28  31  34  36  39  41  44\n",
            "  47  49  52  54  57  59  62  65  67  70  72  75  78  80  83  85  88  90\n",
            "  93  96  98 101 103 106]\n",
            "/content/drive/MyDrive/PumpkinSeeds/datasource/dataSignVideos/my_12785.mp4\n",
            "[  0   3   6   9  11  14  17  20  23  26  29  31  34  37  40  43  46  49\n",
            "  51  54  57  60  63  66  68  71  74  77  80  83  86  88  91  94  97 100\n",
            " 103 106 108 111 114 117]\n",
            "/content/drive/MyDrive/PumpkinSeeds/datasource/dataSignVideos/love_12840.mp4\n",
            "[ 0  1  2  4  5  6  7  9 10 11 12 13 15 16 17 18 20 21 22 23 24 26 27 28\n",
            " 29 30 32 33 34 35 37 38 39 40 41 43 44 45 46 48 49 50]\n",
            "/content/drive/MyDrive/PumpkinSeeds/datasource/dataSignVideos/how_12814.mp4\n",
            "[  0   3   5   8  11  13  16  18  21  24  26  29  32  34  37  40  42  45\n",
            "  47  50  53  55  58  61  63  66  68  71  74  76  79  82  84  87  90  92\n",
            "  95  97 100 103 105 108]\n",
            "/content/drive/MyDrive/PumpkinSeeds/datasource/dataSignVideos/weather_12915.mp4\n",
            "[ 0  2  4  6  7  9 11 13 15 17 19 20 22 24 26 28 30 32 33 35 37 39 41 43\n",
            " 44 46 48 50 52 54 56 57 59 61 63 65 67 69 70 72 74 76]\n",
            "/content/drive/MyDrive/PumpkinSeeds/datasource/dataSignVideos/hello_12947.mp4\n",
            "[ 0  1  2  2  3  4  5  6  7  7  8  9 10 11 12 12 13 14 15 16 17 17 18 19\n",
            " 20 21 22 22 23 24 25 26 27 27 28 29 30 31 32 32 33 34]\n",
            "/content/drive/MyDrive/PumpkinSeeds/datasource/dataSignVideos/who_12975.mp4\n",
            "[ 0  1  2  4  5  6  7  9 10 11 12 14 15 16 17 19 20 21 22 24 25 26 27 29\n",
            " 30 31 32 34 35 36 37 39 40 41 42 44 45 46 47 49 50 51]\n",
            "/content/drive/MyDrive/PumpkinSeeds/datasource/dataSignVideos/hello_12984.mp4\n",
            "[ 0  2  3  5  7  8 10 12 13 15 17 18 20 22 23 25 27 28 30 32 33 35 36 38\n",
            " 40 41 43 45 46 48 50 51 53 55 56 58 60 61 63 65 66 68]\n",
            "/content/drive/MyDrive/PumpkinSeeds/datasource/dataSignVideos/today_13010.mp4\n",
            "[  0   4   7  11  15  18  22  25  29  33  36  40  44  47  51  55  58  62\n",
            "  65  69  73  76  80  84  87  91  94  98 102 105 109 113 116 120 124 127\n",
            " 131 134 138 142 145 149]\n",
            "/content/drive/MyDrive/PumpkinSeeds/datasource/dataSignVideos/you_13038.mp4\n",
            "[  0   2   5   7  10  12  15  17  20  22  24  27  29  32  34  37  39  41\n",
            "  44  46  49  51  54  56  59  61  63  66  68  71  73  76  78  80  83  85\n",
            "  88  90  93  95  98 100]\n",
            "/content/drive/MyDrive/PumpkinSeeds/datasource/dataSignVideos/who_13048.mp4\n",
            "[ 0  1  1  2  2  3  4  4  5  5  6  7  7  8  9  9 10 10 11 12 12 13 13 14\n",
            " 15 15 16 16 17 18 18 19 20 20 21 21 22 23 23 24 24 25]\n",
            "/content/drive/MyDrive/PumpkinSeeds/datasource/dataSignVideos/you_13095.mp4\n",
            "[ 0  1  3  4  5  7  8 10 11 12 14 15 16 18 19 20 22 23 25 26 27 29 30 31\n",
            " 33 34 36 37 38 40 41 42 44 45 46 48 49 51 52 53 55 56]\n",
            "/content/drive/MyDrive/PumpkinSeeds/datasource/dataSignVideos/my_13121.mp4\n",
            "[ 0  1  3  4  6  7  9 10 12 13 14 16 17 19 20 22 23 24 26 27 29 30 32 33\n",
            " 35 36 37 39 40 42 43 45 46 47 49 50 52 53 55 56 58 59]\n",
            "/content/drive/MyDrive/PumpkinSeeds/datasource/dataSignVideos/who_13138.mp4\n",
            "[  0   4   8  12  16  20  24  28  32  36  40  43  47  51  55  59  63  67\n",
            "  71  75  79  83  87  91  95  99 103 107 111 115 119 122 126 130 134 138\n",
            " 142 146 150 154 158 162]\n",
            "/content/drive/MyDrive/PumpkinSeeds/datasource/dataSignVideos/you_13232.mp4\n",
            "[ 0  2  4  7  9 11 13 16 18 20 22 24 27 29 31 33 36 38 40 42 44 47 49 51\n",
            " 53 55 58 60 62 64 67 69 71 73 75 78 80 82 84 87 89 91]\n",
            "/content/drive/MyDrive/PumpkinSeeds/datasource/dataSignVideos/weather_13382.mp4\n",
            "[  0   3   6   9  13  16  19  22  25  28  31  35  38  41  44  47  50  53\n",
            "  57  60  63  66  69  72  76  79  82  85  88  91  94  98 101 104 107 110\n",
            " 113 116 120 123 126 129]\n",
            "/content/drive/MyDrive/PumpkinSeeds/datasource/dataSignVideos/you_13367.mp4\n",
            "[  0   4   8  11  15  19  23  26  30  34  38  41  45  49  53  56  60  64\n",
            "  68  71  75  79  83  86  90  94  98 101 105 109 113 116 120 124 128 131\n",
            " 135 139 143 146 150 154]\n",
            "/content/drive/MyDrive/PumpkinSeeds/datasource/dataSignVideos/weather_13383.mp4\n",
            "[ 0  1  2  3  4  5  6  7  8  9 10 12 13 14 15 16 17 18 19 20 21 22 23 24\n",
            " 25 26 27 28 29 30 31 33 34 35 36 37 38 39 40 41 42 43]\n",
            "/content/drive/MyDrive/PumpkinSeeds/datasource/dataSignVideos/my_13566.mp4\n",
            "[  0   2   5   7  10  12  15  17  20  22  24  27  29  32  34  37  39  41\n",
            "  44  46  49  51  54  56  59  61  63  66  68  71  73  76  78  80  83  85\n",
            "  88  90  93  95  98 100]\n",
            "/content/drive/MyDrive/PumpkinSeeds/datasource/dataSignVideos/hello_13413.mp4\n",
            "[  0   3   6  10  13  16  19  23  26  29  32  36  39  42  45  49  52  55\n",
            "  58  62  65  68  71  75  78  81  84  88  91  94  97 101 104 107 110 114\n",
            " 117 120 123 127 130 133]\n",
            "/content/drive/MyDrive/PumpkinSeeds/datasource/dataSignVideos/my_13619.mp4\n",
            "[  0   3   5   8  10  13  15  18  20  23  25  28  30  33  35  38  40  43\n",
            "  45  48  50  53  55  58  60  63  65  68  70  73  75  78  80  83  85  88\n",
            "  90  93  95  98 100 103]\n",
            "/content/drive/MyDrive/PumpkinSeeds/datasource/dataSignVideos/weather_13596.mp4\n",
            "[  0   4   8  12  16  20  24  28  32  36  40  43  47  51  55  59  63  67\n",
            "  71  75  79  83  87  91  95  99 103 107 111 115 119 122 126 130 134 138\n",
            " 142 146 150 154 158 162]\n",
            "/content/drive/MyDrive/PumpkinSeeds/datasource/dataSignVideos/weather_13919.mp4\n",
            "[ 0  2  3  5  7  9 10 12 14 15 17 19 20 22 24 26 27 29 31 32 34 36 38 39\n",
            " 41 43 44 46 48 50 51 53 55 56 58 60 61 63 65 67 68 70]\n",
            "/content/drive/MyDrive/PumpkinSeeds/datasource/dataSignVideos/you_13960.mp4\n",
            "[ 0  2  4  6  8 10 12 14 16 18 20 21 23 25 27 29 31 33 35 37 39 41 43 45\n",
            " 47 49 51 53 55 57 59 60 62 64 66 68 70 72 74 76 78 80]\n",
            "/content/drive/MyDrive/PumpkinSeeds/datasource/dataSignVideos/love_13708.mp4\n",
            "[ 0  1  2  4  5  6  7  8 10 11 12 13 14 16 17 18 19 20 22 23 24 25 26 27\n",
            " 29 30 31 32 33 35 36 37 38 39 41 42 43 44 45 47 48 49]\n",
            "/content/drive/MyDrive/PumpkinSeeds/datasource/dataSignVideos/my_13962.mp4\n",
            "[ 0  2  5  7  9 12 14 16 19 21 23 26 28 30 33 35 37 40 42 44 47 49 52 54\n",
            " 56 59 61 63 66 68 70 73 75 77 80 82 84 87 89 91 94 96]\n",
            "/content/drive/MyDrive/PumpkinSeeds/datasource/dataSignVideos/who_13966.mp4\n",
            "[  0   2   5   7  10  12  15  17  20  22  24  27  29  32  34  37  39  41\n",
            "  44  46  49  51  54  56  59  61  63  66  68  71  73  76  78  80  83  85\n",
            "  88  90  93  95  98 100]\n",
            "/content/drive/MyDrive/PumpkinSeeds/datasource/dataSignVideos/hello_13982.mp4\n",
            "[ 0  2  5  7 10 12 14 17 19 22 24 26 29 31 33 36 38 41 43 45 48 50 53 55\n",
            " 57 60 62 65 67 69 72 74 76 79 81 84 86 88 91 93 96 98]\n",
            "/content/drive/MyDrive/PumpkinSeeds/datasource/dataSignVideos/my_13996.mp4\n",
            "[  0   2   5   7  10  12  15  17  20  22  25  27  30  32  34  37  39  42\n",
            "  44  47  49  52  54  57  59  62  64  67  69  71  74  76  79  81  84  86\n",
            "  89  91  94  96  99 101]\n",
            "/content/drive/MyDrive/PumpkinSeeds/datasource/dataSignVideos/hello_14002.mp4\n",
            "[ 0  1  1  2  3  4  4  5  6  6  7  8  8  9 10 11 11 12 13 13 14 15 16 16\n",
            " 17 18 18 19 20 21 21 22 23 23 24 25 25 26 27 28 28 29]\n",
            "/content/drive/MyDrive/PumpkinSeeds/datasource/dataSignVideos/hello_14003.mp4\n",
            "[ 0  1  1  2  3  4  4  5  6  6  7  8  8  9 10 11 11 12 13 13 14 15 16 16\n",
            " 17 18 18 19 20 21 21 22 23 23 24 25 25 26 27 28 28 29]\n",
            "/content/drive/MyDrive/PumpkinSeeds/datasource/dataSignVideos/who_14119.mp4\n",
            "[ 0  1  3  4  5  6  8  9 10 11 13 14 15 16 18 19 20 22 23 24 25 27 28 29\n",
            " 30 32 33 34 36 37 38 39 41 42 43 44 46 47 48 49 51 52]\n",
            "/content/drive/MyDrive/PumpkinSeeds/datasource/dataSignVideos/how_14123.mp4\n",
            "[ 0  1  3  4  6  7  9 10 12 13 14 16 17 19 20 22 23 24 26 27 29 30 32 33\n",
            " 35 36 37 39 40 42 43 45 46 47 49 50 52 53 55 56 58 59]\n",
            "/content/drive/MyDrive/PumpkinSeeds/datasource/dataSignVideos/how_14124.mp4\n",
            "[ 0  1  2  4  5  6  7  8  9 11 12 13 14 15 16 18 19 20 21 22 23 25 26 27\n",
            " 28 29 30 32 33 34 35 36 37 39 40 41 42 43 44 46 47 48]\n",
            "/content/drive/MyDrive/PumpkinSeeds/datasource/dataSignVideos/love_14160.mp4\n",
            "[ 0  2  4  6  8  9 11 13 15 17 19 21 23 24 26 28 30 32 34 36 38 39 41 43\n",
            " 45 47 49 51 53 54 56 58 60 62 64 66 68 69 71 73 75 77]\n",
            "/content/drive/MyDrive/PumpkinSeeds/datasource/dataSignVideos/today_14327.mp4\n",
            "[  0   3   6   8  11  14  17  19  22  25  28  30  33  36  39  41  44  47\n",
            "  50  52  55  58  61  63  66  69  72  74  77  80  83  85  88  91  94  96\n",
            "  99 102 105 107 110 113]\n",
            "/content/drive/MyDrive/PumpkinSeeds/datasource/dataSignVideos/love_14406.mp4\n",
            "[ 0  1  3  4  6  7  8 10 11 13 14 15 17 18 19 21 22 24 25 26 28 29 31 32\n",
            " 33 35 36 38 39 40 42 43 44 46 47 49 50 51 53 54 56 57]\n",
            "/content/drive/MyDrive/PumpkinSeeds/datasource/dataSignVideos/love_14405.mp4\n",
            "[ 0  2  5  7 10 12 14 17 19 22 24 27 29 31 34 36 39 41 43 46 48 51 53 56\n",
            " 58 60 63 65 68 70 72 75 77 80 82 85 87 89 92 94 97 99]\n",
            "/content/drive/MyDrive/PumpkinSeeds/datasource/dataSignVideos/love_14650.mp4\n",
            "[ 0  2  4  6  8 10 12 14 16 18 20 23 25 27 29 31 33 35 37 39 41 43 45 47\n",
            " 49 51 53 55 57 59 61 64 66 68 70 72 74 76 78 80 82 84]\n",
            "/content/drive/MyDrive/PumpkinSeeds/datasource/dataSignVideos/today_14529.mp4\n",
            "[  0   4   8  12  15  19  23  27  31  35  39  42  46  50  54  58  62  66\n",
            "  69  73  77  81  85  89  92  96 100 104 108 112 116 119 123 127 131 135\n",
            " 139 143 146 150 154 158]\n",
            "/content/drive/MyDrive/PumpkinSeeds/datasource/dataSignVideos/you_14653.mp4\n",
            "[ 0  1  2  3  5  6  7  8  9 10 11 13 14 15 16 17 18 19 21 22 23 24 25 26\n",
            " 28 29 30 31 32 33 34 36 37 38 39 40 41 42 44 45 46 47]\n",
            "/content/drive/MyDrive/PumpkinSeeds/datasource/dataSignVideos/we_14655.mp4\n",
            "[ 0  1  3  4  6  7  8 10 11 13 14 15 17 18 19 21 22 24 25 26 28 29 31 32\n",
            " 33 35 36 38 39 40 42 43 44 46 47 49 50 51 53 54 56 57]\n",
            "/content/drive/MyDrive/PumpkinSeeds/datasource/dataSignVideos/my_14656.mp4\n",
            "[ 0  1  2  4  5  6  7  9 10 11 12 14 15 16 17 19 20 21 22 24 25 26 27 29\n",
            " 30 31 32 34 35 36 37 39 40 41 42 44 45 46 47 49 50 51]\n",
            "/content/drive/MyDrive/PumpkinSeeds/datasource/dataSignVideos/who_14663.mp4\n",
            "[  0   3   5   8  11  13  16  19  21  24  27  29  32  35  37  40  43  45\n",
            "  48  51  53  56  58  61  64  66  69  72  74  77  80  82  85  88  90  93\n",
            "  96  98 101 104 106 109]\n",
            "/content/drive/MyDrive/PumpkinSeeds/datasource/dataSignVideos/you_15225.mp4\n",
            "[ 0  2  4  7  9 11 13 15 17 20 22 24 26 28 30 33 35 37 39 41 43 46 48 50\n",
            " 52 54 56 59 61 63 65 67 69 72 74 76 78 80 82 85 87 89]\n",
            "/content/drive/MyDrive/PumpkinSeeds/datasource/dataSignVideos/my_15242.mp4\n",
            "[ 0  1  3  4  6  7  9 10 12 13 14 16 17 19 20 22 23 24 26 27 29 30 32 33\n",
            " 35 36 37 39 40 42 43 45 46 47 49 50 52 53 55 56 58 59]\n",
            "/content/drive/MyDrive/PumpkinSeeds/datasource/dataSignVideos/today_15261.mp4\n",
            "[ 0  1  1  2  3  3  4  5  5  6  7  8  8  9 10 10 11 12 12 13 14 14 15 16\n",
            " 16 17 18 18 19 20 20 21 22 23 23 24 25 25 26 27 27 28]\n",
            "/content/drive/MyDrive/PumpkinSeeds/datasource/dataSignVideos/we_15266.mp4\n",
            "[ 0  2  3  5  7  8 10 12 13 15 17 19 20 22 24 25 27 29 30 32 34 35 37 39\n",
            " 40 42 44 45 47 49 50 52 54 56 57 59 61 62 64 66 67 69]\n",
            "/content/drive/MyDrive/PumpkinSeeds/datasource/dataSignVideos/you_15269.mp4\n",
            "[ 0  2  4  7  9 11 13 15 17 20 22 24 26 28 30 33 35 37 39 41 43 46 48 50\n",
            " 52 54 56 59 61 63 65 67 69 72 74 76 78 80 82 85 87 89]\n",
            "/content/drive/MyDrive/PumpkinSeeds/datasource/dataSignVideos/how_15277.mp4\n",
            "[ 0  1  3  4  5  6  8  9 10 12 13 14 16 17 18 19 21 22 23 25 26 27 28 30\n",
            " 31 32 34 35 36 37 39 40 41 43 44 45 47 48 49 50 52 53]\n",
            "/content/drive/MyDrive/PumpkinSeeds/datasource/dataSignVideos/today_15935.mp4\n",
            "[ 0  2  4  5  7  9 11 12 14 16 18 19 21 23 25 26 28 30 32 33 35 37 39 40\n",
            " 42 44 46 47 49 51 53 54 56 58 60 61 63 65 67 68 70 72]\n",
            "/content/drive/MyDrive/PumpkinSeeds/datasource/dataSignVideos/you_15436.mp4\n",
            "[ 0  2  4  7  9 11 13 15 18 20 22 24 26 29 31 33 35 37 40 42 44 46 48 50\n",
            " 53 55 57 59 61 64 66 68 70 72 75 77 79 81 83 86 88 90]\n",
            "/content/drive/MyDrive/PumpkinSeeds/datasource/dataSignVideos/today_15936.mp4\n",
            "[ 0  2  4  6  8 10 12 15 17 19 21 23 25 27 29 31 33 35 37 39 41 44 46 48\n",
            " 50 52 54 56 58 60 62 64 66 68 70 73 75 77 79 81 83 85]\n",
            "/content/drive/MyDrive/PumpkinSeeds/datasource/dataSignVideos/today_15937.mp4\n",
            "[ 0  1  3  4  6  7  9 10 12 13 15 16 18 19 20 22 23 25 26 28 29 31 32 34\n",
            " 35 37 38 40 41 42 44 45 47 48 50 51 53 54 56 57 59 60]\n",
            "/content/drive/MyDrive/PumpkinSeeds/datasource/dataSignVideos/you_15980.mp4\n",
            "[ 0  2  4  6  8 10 12 14 16 18 20 21 23 25 27 29 31 33 35 37 39 41 43 45\n",
            " 47 49 51 53 55 57 59 60 62 64 66 68 70 72 74 76 78 80]\n",
            "/content/drive/MyDrive/PumpkinSeeds/datasource/dataSignVideos/who_15984.mp4\n",
            "[  0   3   6   9  12  15  17  20  23  26  29  32  35  38  41  44  46  49\n",
            "  52  55  58  61  64  67  70  73  75  78  81  84  87  90  93  96  99 102\n",
            " 104 107 110 113 116 119]\n",
            "/content/drive/MyDrive/PumpkinSeeds/datasource/dataSignVideos/hello_154.mp4\n",
            "[ 0  1  2  2  3  4  5  6  7  7  8  9 10 11 12 12 13 14 15 16 17 17 18 19\n",
            " 20 21 22 22 23 24 25 26 27 27 28 29 30 31 32 32 33 34]\n",
            "/content/drive/MyDrive/PumpkinSeeds/datasource/dataSignVideos/hello_491.mp4\n",
            "[ 0  1  2  2  3  4  5  6  6  7  8  9 10 10 11 12 13 14 14 15 16 17 18 19\n",
            " 19 20 21 22 23 23 24 25 26 27 27 28 29 30 31 31 32 33]\n",
            "/content/drive/MyDrive/PumpkinSeeds/datasource/dataSignVideos/my_364.mp4\n",
            "[ 0  1  2  3  4  6  7  8  9 10 11 12 13 15 16 17 18 19 20 21 22 24 25 26\n",
            " 27 28 29 30 31 33 34 35 36 37 38 39 40 42 43 44 45 46]\n",
            "/content/drive/MyDrive/PumpkinSeeds/datasource/dataSignVideos/hello_637.mp4\n",
            "[ 0  1  2  3  4  5  6  6  7  8  9 10 11 12 13 14 15 16 17 18 19 19 20 21\n",
            " 22 23 24 25 26 27 28 29 30 31 32 32 33 34 35 36 37 38]\n",
            "/content/drive/MyDrive/PumpkinSeeds/datasource/dataSignVideos/today_663.mp4\n",
            "[ 0  2  3  5  7  9 10 12 14 15 17 19 20 22 24 26 27 29 31 32 34 36 38 39\n",
            " 41 43 44 46 48 50 51 53 55 56 58 60 61 63 65 67 68 70]\n",
            "/content/drive/MyDrive/PumpkinSeeds/datasource/dataSignVideos/hello_1275.mp4\n",
            "[ 0  1  1  2  3  4  4  5  6  7  7  8  9 10 10 11 12 12 13 14 15 15 16 17\n",
            " 18 18 19 20 20 21 22 23 23 24 25 26 26 27 28 29 29 30]\n",
            "/content/drive/MyDrive/PumpkinSeeds/datasource/dataSignVideos/hello_961.mp4\n",
            "[ 0  1  2  3  4  5  6  7  8  9 10 11 12 13 14 15 16 17 18 19 20 20 21 22\n",
            " 23 24 25 26 27 28 29 30 31 32 33 34 35 36 37 38 39 40]\n",
            "/content/drive/MyDrive/PumpkinSeeds/datasource/dataSignVideos/weather_1405.mp4\n",
            "[ 0  2  4  7  9 11 13 15 17 20 22 24 26 28 30 33 35 37 39 41 43 46 48 50\n",
            " 52 54 56 59 61 63 65 67 69 72 74 76 78 80 82 85 87 89]\n",
            "/content/drive/MyDrive/PumpkinSeeds/datasource/dataSignVideos/love_1634.mp4\n",
            "[ 0  1  3  4  5  7  8  9 11 12 13 14 16 17 18 20 21 22 24 25 26 28 29 30\n",
            " 32 33 34 36 37 38 40 41 42 43 45 46 47 49 50 51 53 54]\n",
            "/content/drive/MyDrive/PumpkinSeeds/datasource/dataSignVideos/weather_1404.mp4\n",
            "[ 0  2  3  5  7  9 10 12 14 15 17 19 20 22 24 26 27 29 31 32 34 36 38 39\n",
            " 41 43 44 46 48 50 51 53 55 56 58 60 61 63 65 67 68 70]\n",
            "/content/drive/MyDrive/PumpkinSeeds/datasource/dataSignVideos/hello_1946.mp4\n",
            "[ 0  2  3  5  6  8 10 11 13 14 16 17 19 21 22 24 25 27 29 30 32 33 35 36\n",
            " 38 40 41 43 44 46 48 49 51 52 54 55 57 59 60 62 63 65]\n",
            "/content/drive/MyDrive/PumpkinSeeds/datasource/dataSignVideos/hello_2007.mp4\n",
            "[ 0  2  4  6  8 10 12 13 15 17 19 21 23 25 27 29 31 33 35 37 39 40 42 44\n",
            " 46 48 50 52 54 56 58 60 62 64 66 67 69 71 73 75 77 79]\n",
            "/content/drive/MyDrive/PumpkinSeeds/datasource/dataSignVideos/my_2021.mp4\n",
            "[ 0  1  2  4  5  6  7  8 10 11 12 13 14 16 17 18 19 20 22 23 24 25 26 27\n",
            " 29 30 31 32 33 35 36 37 38 39 41 42 43 44 45 47 48 49]\n",
            "/content/drive/MyDrive/PumpkinSeeds/datasource/dataSignVideos/we_2047.mp4\n",
            "[ 0  1  3  4  6  7  9 10 12 13 14 16 17 19 20 22 23 24 26 27 29 30 32 33\n",
            " 35 36 37 39 40 42 43 45 46 47 49 50 52 53 55 56 58 59]\n",
            "/content/drive/MyDrive/PumpkinSeeds/datasource/dataSignVideos/you_2065.mp4\n",
            "[ 0  2  3  5  7  9 10 12 14 15 17 19 20 22 24 26 27 29 31 32 34 36 38 39\n",
            " 41 43 44 46 48 50 51 53 55 56 58 60 61 63 65 67 68 70]\n",
            "/content/drive/MyDrive/PumpkinSeeds/datasource/dataSignVideos/my_2391.mp4\n",
            "[ 0  1  2  3  4  5  6  7  8  9 10 11 12 13 14 15 16 17 18 19 20 22 23 24\n",
            " 25 26 27 28 29 30 31 32 33 34 35 36 37 38 39 40 41 42]\n",
            "/content/drive/MyDrive/PumpkinSeeds/datasource/dataSignVideos/hello_2388.mp4\n",
            "[ 0  1  2  3  3  4  5  6  7  8  9  9 10 11 12 13 14 15 15 16 17 18 19 20\n",
            " 20 21 22 23 24 25 26 26 27 28 29 30 31 32 32 33 34 35]\n",
            "/content/drive/MyDrive/PumpkinSeeds/datasource/dataSignVideos/you_2522.mp4\n",
            "[ 0  1  2  3  4  6  7  8  9 10 11 12 13 15 16 17 18 19 20 21 22 24 25 26\n",
            " 27 28 29 30 31 33 34 35 36 37 38 39 40 42 43 44 45 46]\n",
            "/content/drive/MyDrive/PumpkinSeeds/datasource/dataSignVideos/my_2534.mp4\n",
            "[ 0  1  2  3  4  5  6  7  8  9 10 10 11 12 13 14 15 16 17 18 19 20 21 22\n",
            " 23 24 25 26 27 28 29 29 30 31 32 33 34 35 36 37 38 39]\n",
            "/content/drive/MyDrive/PumpkinSeeds/datasource/dataSignVideos/love_2595.mp4\n",
            "[ 0  2  3  5  7  9 10 12 14 15 17 19 20 22 24 26 27 29 31 32 34 36 38 39\n",
            " 41 43 44 46 48 50 51 53 55 56 58 60 61 63 65 67 68 70]\n",
            "/content/drive/MyDrive/PumpkinSeeds/datasource/dataSignVideos/weather_2730.mp4\n",
            "[ 0  1  2  3  4  5  6  6  7  8  9 10 11 12 13 14 15 16 17 18 19 19 20 21\n",
            " 22 23 24 25 26 27 28 29 30 31 32 32 33 34 35 36 37 38]\n",
            "/content/drive/MyDrive/PumpkinSeeds/datasource/dataSignVideos/hello_2721.mp4\n",
            "[ 0  1  1  2  3  3  4  5  5  6  7  7  8  9  9 10 11 11 12 13 13 14 14 15\n",
            " 16 16 17 18 18 19 20 20 21 22 22 23 24 24 25 26 26 27]\n",
            "/content/drive/MyDrive/PumpkinSeeds/datasource/dataSignVideos/weather_3362.mp4\n",
            "[ 0  1  3  4  6  7  9 10 12 13 15 16 18 19 21 22 24 25 27 28 30 31 33 34\n",
            " 36 37 39 40 42 43 45 46 48 49 51 52 54 55 57 58 60 61]\n",
            "/content/drive/MyDrive/PumpkinSeeds/datasource/dataSignVideos/hello_3238.mp4\n",
            "[ 0  1  2  2  3  4  5  5  6  7  8  8  9 10 11 11 12 13 14 14 15 16 17 17\n",
            " 18 19 20 20 21 22 23 23 24 25 26 26 27 28 29 29 30 31]\n",
            "/content/drive/MyDrive/PumpkinSeeds/datasource/dataSignVideos/hello_3393.mp4\n",
            "[ 0  1  2  3  4  5  6  7  8  9 10 11 12 13 14 15 16 17 18 19 20 20 21 22\n",
            " 23 24 25 26 27 28 29 30 31 32 33 34 35 36 37 38 39 40]\n",
            "/content/drive/MyDrive/PumpkinSeeds/datasource/dataSignVideos/hello_3394.mp4\n",
            "[ 0  1  3  4  6  7  9 10 12 13 14 16 17 19 20 22 23 24 26 27 29 30 32 33\n",
            " 35 36 37 39 40 42 43 45 46 47 49 50 52 53 55 56 58 59]\n",
            "/content/drive/MyDrive/PumpkinSeeds/datasource/dataSignVideos/hello_3464.mp4\n",
            "[ 0  0  1  1  2  2  3  3  4  4  4  5  5  6  6  7  7  7  8  8  9  9 10 10\n",
            " 11 11 11 12 12 13 13 14 14 14 15 15 16 16 17 17 18 18]\n",
            "/content/drive/MyDrive/PumpkinSeeds/datasource/dataSignVideos/who_3598.mp4\n",
            "[ 0  1  2  4  5  6  7  9 10 11 12 13 15 16 17 18 20 21 22 23 24 26 27 28\n",
            " 29 30 32 33 34 35 37 38 39 40 41 43 44 45 46 48 49 50]\n",
            "/content/drive/MyDrive/PumpkinSeeds/datasource/dataSignVideos/hello_3698.mp4\n",
            "[ 0  1  1  2  3  4  4  5  6  6  7  8  8  9 10 11 11 12 13 13 14 15 16 16\n",
            " 17 18 18 19 20 21 21 22 23 23 24 25 25 26 27 28 28 29]\n",
            "/content/drive/MyDrive/PumpkinSeeds/datasource/dataSignVideos/today_3799.mp4\n",
            "[ 0  1  2  3  3  4  5  6  7  8  9  9 10 11 12 13 14 15 15 16 17 18 19 20\n",
            " 20 21 22 23 24 25 26 26 27 28 29 30 31 32 32 33 34 35]\n",
            "/content/drive/MyDrive/PumpkinSeeds/datasource/dataSignVideos/hello_4013.mp4\n",
            "[ 0  2  3  5  6  8 10 11 13 14 16 17 19 21 22 24 25 27 29 30 32 33 35 36\n",
            " 38 40 41 43 44 46 48 49 51 52 54 55 57 59 60 62 63 65]\n",
            "/content/drive/MyDrive/PumpkinSeeds/datasource/dataSignVideos/who_4032.mp4\n",
            "[ 0  1  2  4  5  6  7  9 10 11 12 14 15 16 17 19 20 21 22 24 25 26 27 29\n",
            " 30 31 32 34 35 36 37 39 40 41 42 44 45 46 47 49 50 51]\n",
            "/content/drive/MyDrive/PumpkinSeeds/datasource/dataSignVideos/hello_3959.mp4\n",
            "[ 0  1  2  3  4  5  6  7  8  9 10 11 12 13 14 15 16 17 18 19 20 20 21 22\n",
            " 23 24 25 26 27 28 29 30 31 32 33 34 35 36 37 38 39 40]\n",
            "/content/drive/MyDrive/PumpkinSeeds/datasource/dataSignVideos/how_4038.mp4\n",
            "[ 0  1  3  4  6  7  9 10 12 13 15 16 18 19 20 22 23 25 26 28 29 31 32 34\n",
            " 35 37 38 40 41 42 44 45 47 48 50 51 53 54 56 57 59 60]\n",
            "/content/drive/MyDrive/PumpkinSeeds/datasource/dataSignVideos/how_4039.mp4\n",
            "[ 0  2  3  5  7  9 10 12 14 15 17 19 20 22 24 26 27 29 31 32 34 36 38 39\n",
            " 41 43 44 46 48 50 51 53 55 56 58 60 61 63 65 67 68 70]\n",
            "/content/drive/MyDrive/PumpkinSeeds/datasource/dataSignVideos/how_4040.mp4\n",
            "[ 0  2  3  5  6  8 10 11 13 14 16 17 19 21 22 24 25 27 29 30 32 33 35 36\n",
            " 38 40 41 43 44 46 48 49 51 52 54 55 57 59 60 62 63 65]\n",
            "/content/drive/MyDrive/PumpkinSeeds/datasource/dataSignVideos/how_4041.mp4\n",
            "[ 0  1  2  3  4  5  6  7  8  9 10 11 12 13 14 15 16 17 18 19 20 21 22 23\n",
            " 24 25 26 27 28 29 30 31 32 33 34 35 36 37 38 39 40 41]\n"
          ]
        }
      ]
    },
    {
      "cell_type": "markdown",
      "source": [
        "# Preprocess Data and Create Labels and Features"
      ],
      "metadata": {
        "id": "UGmipvU1kfuo"
      }
    },
    {
      "cell_type": "code",
      "source": [
        "from sklearn.model_selection import train_test_split\n",
        "from tensorflow.keras.utils import to_categorical"
      ],
      "metadata": {
        "id": "oqeVoJoZIGqC"
      },
      "execution_count": null,
      "outputs": []
    },
    {
      "cell_type": "code",
      "source": [
        "'''\n",
        "actions = [\n",
        "           # 'community', 'is', ',', 'it', '.',\n",
        "           # 'having', 'lovely', 'hope', 'the',\n",
        "           # 'are', 'continues',\n",
        "\n",
        "           'cooking', 'hello', 'how', 'i', 'love', 'my', 'today', 'we', 'weather', 'who', 'you']\n",
        "'''"
      ],
      "metadata": {
        "id": "-8aIXi53lqfO"
      },
      "execution_count": null,
      "outputs": []
    },
    {
      "cell_type": "code",
      "source": [
        "label_map = {label:num for num, label in enumerate(actions)}\n",
        "label_map"
      ],
      "metadata": {
        "colab": {
          "base_uri": "https://localhost:8080/"
        },
        "id": "hEE03Wg5k4rT",
        "outputId": "22e51b18-dc58-498c-b588-2af8375bfc4f"
      },
      "execution_count": null,
      "outputs": [
        {
          "output_type": "execute_result",
          "data": {
            "text/plain": [
              "{'how': 0,\n",
              " 'love': 1,\n",
              " 'today': 2,\n",
              " 'cooking': 3,\n",
              " 'my': 4,\n",
              " 'you': 5,\n",
              " 'i': 6,\n",
              " 'who': 7,\n",
              " 'hello': 8,\n",
              " 'weather': 9,\n",
              " 'we': 10}"
            ]
          },
          "metadata": {},
          "execution_count": 54
        }
      ]
    },
    {
      "cell_type": "code",
      "source": [
        "sequences, labels = [], []\n",
        "for action in actions:\n",
        "    dir_action = file_path_actn + action\n",
        "    print(dir_action)\n",
        "    for video_file in os.listdir(dir_action):\n",
        "        window = []\n",
        "        for frame_file in os.listdir(dir_action + '/' + video_file):\n",
        "            if frame_file.endswith('.npy') != True:\n",
        "                continue\n",
        "            final_file_name = file_path_actn + action + '/' + video_file + '/' + frame_file\n",
        "            res = np.load(final_file_name)\n",
        "            window.append(res)\n",
        "        sequences.append(window)\n",
        "        labels.append(label_map[action])"
      ],
      "metadata": {
        "colab": {
          "base_uri": "https://localhost:8080/"
        },
        "id": "POONG1A4k4mG",
        "outputId": "18d768af-71bc-42c0-b942-e66c219d3638"
      },
      "execution_count": null,
      "outputs": [
        {
          "output_type": "stream",
          "name": "stdout",
          "text": [
            "/content/drive/MyDrive/PumpkinSeeds/datasource/dataSignActions/how\n",
            "/content/drive/MyDrive/PumpkinSeeds/datasource/dataSignActions/love\n",
            "/content/drive/MyDrive/PumpkinSeeds/datasource/dataSignActions/today\n",
            "/content/drive/MyDrive/PumpkinSeeds/datasource/dataSignActions/cooking\n",
            "/content/drive/MyDrive/PumpkinSeeds/datasource/dataSignActions/my\n",
            "/content/drive/MyDrive/PumpkinSeeds/datasource/dataSignActions/you\n",
            "/content/drive/MyDrive/PumpkinSeeds/datasource/dataSignActions/i\n",
            "/content/drive/MyDrive/PumpkinSeeds/datasource/dataSignActions/who\n",
            "/content/drive/MyDrive/PumpkinSeeds/datasource/dataSignActions/hello\n",
            "/content/drive/MyDrive/PumpkinSeeds/datasource/dataSignActions/weather\n",
            "/content/drive/MyDrive/PumpkinSeeds/datasource/dataSignActions/we\n"
          ]
        }
      ]
    },
    {
      "cell_type": "code",
      "source": [
        "for sequence in sequences:\n",
        "    print('Sequence Shape', np.array(sequence).shape)"
      ],
      "metadata": {
        "colab": {
          "base_uri": "https://localhost:8080/"
        },
        "id": "LTR58Aa5k4gX",
        "outputId": "1984e5c3-7fa8-49da-a07a-1ae4a52ef057"
      },
      "execution_count": null,
      "outputs": [
        {
          "output_type": "stream",
          "name": "stdout",
          "text": [
            "Sequence Shape (42, 1662)\n",
            "Sequence Shape (42, 1662)\n",
            "Sequence Shape (42, 1662)\n",
            "Sequence Shape (42, 1662)\n",
            "Sequence Shape (42, 1662)\n",
            "Sequence Shape (42, 1662)\n",
            "Sequence Shape (42, 1662)\n",
            "Sequence Shape (42, 1662)\n",
            "Sequence Shape (42, 1662)\n",
            "Sequence Shape (42, 1662)\n",
            "Sequence Shape (42, 1662)\n",
            "Sequence Shape (42, 1662)\n",
            "Sequence Shape (42, 1662)\n",
            "Sequence Shape (42, 1662)\n",
            "Sequence Shape (42, 1662)\n",
            "Sequence Shape (42, 1662)\n",
            "Sequence Shape (42, 1662)\n",
            "Sequence Shape (42, 1662)\n",
            "Sequence Shape (42, 1662)\n",
            "Sequence Shape (42, 1662)\n",
            "Sequence Shape (42, 1662)\n",
            "Sequence Shape (42, 1662)\n",
            "Sequence Shape (42, 1662)\n",
            "Sequence Shape (42, 1662)\n",
            "Sequence Shape (42, 1662)\n",
            "Sequence Shape (42, 1662)\n",
            "Sequence Shape (42, 1662)\n",
            "Sequence Shape (42, 1662)\n",
            "Sequence Shape (42, 1662)\n",
            "Sequence Shape (42, 1662)\n",
            "Sequence Shape (42, 1662)\n",
            "Sequence Shape (42, 1662)\n",
            "Sequence Shape (42, 1662)\n",
            "Sequence Shape (42, 1662)\n",
            "Sequence Shape (42, 1662)\n",
            "Sequence Shape (42, 1662)\n",
            "Sequence Shape (42, 1662)\n",
            "Sequence Shape (42, 1662)\n",
            "Sequence Shape (42, 1662)\n",
            "Sequence Shape (42, 1662)\n",
            "Sequence Shape (42, 1662)\n",
            "Sequence Shape (42, 1662)\n",
            "Sequence Shape (42, 1662)\n",
            "Sequence Shape (42, 1662)\n",
            "Sequence Shape (42, 1662)\n",
            "Sequence Shape (42, 1662)\n",
            "Sequence Shape (42, 1662)\n",
            "Sequence Shape (42, 1662)\n",
            "Sequence Shape (42, 1662)\n",
            "Sequence Shape (42, 1662)\n",
            "Sequence Shape (42, 1662)\n",
            "Sequence Shape (42, 1662)\n",
            "Sequence Shape (42, 1662)\n",
            "Sequence Shape (42, 1662)\n",
            "Sequence Shape (42, 1662)\n",
            "Sequence Shape (42, 1662)\n",
            "Sequence Shape (42, 1662)\n",
            "Sequence Shape (42, 1662)\n",
            "Sequence Shape (42, 1662)\n",
            "Sequence Shape (42, 1662)\n",
            "Sequence Shape (42, 1662)\n",
            "Sequence Shape (42, 1662)\n",
            "Sequence Shape (42, 1662)\n",
            "Sequence Shape (42, 1662)\n",
            "Sequence Shape (42, 1662)\n",
            "Sequence Shape (42, 1662)\n",
            "Sequence Shape (42, 1662)\n",
            "Sequence Shape (42, 1662)\n",
            "Sequence Shape (42, 1662)\n",
            "Sequence Shape (42, 1662)\n",
            "Sequence Shape (42, 1662)\n",
            "Sequence Shape (42, 1662)\n",
            "Sequence Shape (42, 1662)\n",
            "Sequence Shape (42, 1662)\n",
            "Sequence Shape (42, 1662)\n",
            "Sequence Shape (42, 1662)\n",
            "Sequence Shape (42, 1662)\n",
            "Sequence Shape (42, 1662)\n",
            "Sequence Shape (42, 1662)\n",
            "Sequence Shape (42, 1662)\n",
            "Sequence Shape (42, 1662)\n",
            "Sequence Shape (42, 1662)\n",
            "Sequence Shape (42, 1662)\n",
            "Sequence Shape (42, 1662)\n",
            "Sequence Shape (42, 1662)\n",
            "Sequence Shape (42, 1662)\n",
            "Sequence Shape (42, 1662)\n",
            "Sequence Shape (42, 1662)\n",
            "Sequence Shape (42, 1662)\n",
            "Sequence Shape (42, 1662)\n",
            "Sequence Shape (42, 1662)\n",
            "Sequence Shape (42, 1662)\n",
            "Sequence Shape (42, 1662)\n",
            "Sequence Shape (42, 1662)\n",
            "Sequence Shape (42, 1662)\n",
            "Sequence Shape (42, 1662)\n",
            "Sequence Shape (42, 1662)\n",
            "Sequence Shape (42, 1662)\n",
            "Sequence Shape (42, 1662)\n",
            "Sequence Shape (42, 1662)\n",
            "Sequence Shape (42, 1662)\n",
            "Sequence Shape (42, 1662)\n",
            "Sequence Shape (42, 1662)\n",
            "Sequence Shape (42, 1662)\n",
            "Sequence Shape (42, 1662)\n",
            "Sequence Shape (42, 1662)\n",
            "Sequence Shape (42, 1662)\n",
            "Sequence Shape (42, 1662)\n",
            "Sequence Shape (42, 1662)\n",
            "Sequence Shape (42, 1662)\n",
            "Sequence Shape (42, 1662)\n",
            "Sequence Shape (42, 1662)\n",
            "Sequence Shape (42, 1662)\n",
            "Sequence Shape (42, 1662)\n",
            "Sequence Shape (42, 1662)\n",
            "Sequence Shape (42, 1662)\n",
            "Sequence Shape (42, 1662)\n",
            "Sequence Shape (42, 1662)\n",
            "Sequence Shape (42, 1662)\n",
            "Sequence Shape (42, 1662)\n",
            "Sequence Shape (42, 1662)\n",
            "Sequence Shape (42, 1662)\n",
            "Sequence Shape (42, 1662)\n",
            "Sequence Shape (42, 1662)\n",
            "Sequence Shape (42, 1662)\n",
            "Sequence Shape (42, 1662)\n",
            "Sequence Shape (42, 1662)\n",
            "Sequence Shape (42, 1662)\n",
            "Sequence Shape (42, 1662)\n",
            "Sequence Shape (42, 1662)\n",
            "Sequence Shape (42, 1662)\n",
            "Sequence Shape (42, 1662)\n",
            "Sequence Shape (42, 1662)\n",
            "Sequence Shape (42, 1662)\n",
            "Sequence Shape (42, 1662)\n",
            "Sequence Shape (42, 1662)\n",
            "Sequence Shape (42, 1662)\n",
            "Sequence Shape (42, 1662)\n",
            "Sequence Shape (42, 1662)\n",
            "Sequence Shape (42, 1662)\n",
            "Sequence Shape (42, 1662)\n",
            "Sequence Shape (42, 1662)\n",
            "Sequence Shape (42, 1662)\n",
            "Sequence Shape (42, 1662)\n",
            "Sequence Shape (42, 1662)\n",
            "Sequence Shape (42, 1662)\n",
            "Sequence Shape (42, 1662)\n",
            "Sequence Shape (42, 1662)\n",
            "Sequence Shape (42, 1662)\n",
            "Sequence Shape (42, 1662)\n",
            "Sequence Shape (42, 1662)\n",
            "Sequence Shape (42, 1662)\n",
            "Sequence Shape (42, 1662)\n",
            "Sequence Shape (42, 1662)\n",
            "Sequence Shape (42, 1662)\n",
            "Sequence Shape (42, 1662)\n",
            "Sequence Shape (42, 1662)\n",
            "Sequence Shape (42, 1662)\n",
            "Sequence Shape (42, 1662)\n",
            "Sequence Shape (42, 1662)\n",
            "Sequence Shape (42, 1662)\n",
            "Sequence Shape (42, 1662)\n",
            "Sequence Shape (42, 1662)\n",
            "Sequence Shape (42, 1662)\n",
            "Sequence Shape (42, 1662)\n",
            "Sequence Shape (42, 1662)\n",
            "Sequence Shape (42, 1662)\n",
            "Sequence Shape (42, 1662)\n",
            "Sequence Shape (42, 1662)\n",
            "Sequence Shape (42, 1662)\n",
            "Sequence Shape (42, 1662)\n",
            "Sequence Shape (42, 1662)\n",
            "Sequence Shape (42, 1662)\n",
            "Sequence Shape (42, 1662)\n",
            "Sequence Shape (42, 1662)\n",
            "Sequence Shape (42, 1662)\n",
            "Sequence Shape (42, 1662)\n",
            "Sequence Shape (42, 1662)\n",
            "Sequence Shape (42, 1662)\n",
            "Sequence Shape (42, 1662)\n",
            "Sequence Shape (42, 1662)\n",
            "Sequence Shape (42, 1662)\n",
            "Sequence Shape (42, 1662)\n",
            "Sequence Shape (42, 1662)\n",
            "Sequence Shape (42, 1662)\n",
            "Sequence Shape (42, 1662)\n",
            "Sequence Shape (42, 1662)\n",
            "Sequence Shape (42, 1662)\n",
            "Sequence Shape (42, 1662)\n",
            "Sequence Shape (42, 1662)\n",
            "Sequence Shape (42, 1662)\n",
            "Sequence Shape (42, 1662)\n",
            "Sequence Shape (42, 1662)\n",
            "Sequence Shape (42, 1662)\n",
            "Sequence Shape (42, 1662)\n",
            "Sequence Shape (42, 1662)\n",
            "Sequence Shape (42, 1662)\n",
            "Sequence Shape (42, 1662)\n",
            "Sequence Shape (42, 1662)\n",
            "Sequence Shape (42, 1662)\n",
            "Sequence Shape (42, 1662)\n",
            "Sequence Shape (42, 1662)\n",
            "Sequence Shape (42, 1662)\n",
            "Sequence Shape (42, 1662)\n",
            "Sequence Shape (42, 1662)\n",
            "Sequence Shape (42, 1662)\n",
            "Sequence Shape (42, 1662)\n",
            "Sequence Shape (42, 1662)\n",
            "Sequence Shape (42, 1662)\n",
            "Sequence Shape (42, 1662)\n",
            "Sequence Shape (42, 1662)\n",
            "Sequence Shape (42, 1662)\n",
            "Sequence Shape (42, 1662)\n",
            "Sequence Shape (42, 1662)\n",
            "Sequence Shape (42, 1662)\n",
            "Sequence Shape (42, 1662)\n",
            "Sequence Shape (42, 1662)\n",
            "Sequence Shape (42, 1662)\n",
            "Sequence Shape (42, 1662)\n",
            "Sequence Shape (42, 1662)\n",
            "Sequence Shape (42, 1662)\n",
            "Sequence Shape (42, 1662)\n",
            "Sequence Shape (42, 1662)\n",
            "Sequence Shape (42, 1662)\n",
            "Sequence Shape (42, 1662)\n",
            "Sequence Shape (42, 1662)\n",
            "Sequence Shape (42, 1662)\n"
          ]
        }
      ]
    },
    {
      "cell_type": "code",
      "source": [
        "np.array(sequences).shape"
      ],
      "metadata": {
        "colab": {
          "base_uri": "https://localhost:8080/"
        },
        "id": "B7hI-7cLGDd8",
        "outputId": "1013380b-4e92-426f-f004-efaa66234570"
      },
      "execution_count": null,
      "outputs": [
        {
          "output_type": "execute_result",
          "data": {
            "text/plain": [
              "(227, 42, 1662)"
            ]
          },
          "metadata": {},
          "execution_count": 57
        }
      ]
    },
    {
      "cell_type": "code",
      "source": [
        "np.array(labels).shape"
      ],
      "metadata": {
        "colab": {
          "base_uri": "https://localhost:8080/"
        },
        "id": "FZSLxqDmk4a6",
        "outputId": "fdc8cba4-0311-4990-b748-81709e77b34c"
      },
      "execution_count": null,
      "outputs": [
        {
          "output_type": "execute_result",
          "data": {
            "text/plain": [
              "(227,)"
            ]
          },
          "metadata": {},
          "execution_count": 58
        }
      ]
    },
    {
      "cell_type": "code",
      "source": [
        "X = np.array(sequences)"
      ],
      "metadata": {
        "id": "D8XXyi2ek4T9"
      },
      "execution_count": null,
      "outputs": []
    },
    {
      "cell_type": "code",
      "source": [
        "X.shape"
      ],
      "metadata": {
        "colab": {
          "base_uri": "https://localhost:8080/"
        },
        "id": "FOGXOOIkk4Oq",
        "outputId": "427943e8-4c8f-4d46-845a-e1ea3dd99b6f"
      },
      "execution_count": null,
      "outputs": [
        {
          "output_type": "execute_result",
          "data": {
            "text/plain": [
              "(227, 42, 1662)"
            ]
          },
          "metadata": {},
          "execution_count": 60
        }
      ]
    },
    {
      "cell_type": "code",
      "source": [
        "y = to_categorical(labels).astype(int)"
      ],
      "metadata": {
        "id": "rUc1Oon7k4I7"
      },
      "execution_count": null,
      "outputs": []
    },
    {
      "cell_type": "code",
      "source": [
        "X_train, X_test, y_train, y_test = train_test_split(X, y, test_size=0.05)"
      ],
      "metadata": {
        "id": "A4JCr1bMk4EK"
      },
      "execution_count": null,
      "outputs": []
    },
    {
      "cell_type": "code",
      "source": [
        "y_test.shape"
      ],
      "metadata": {
        "colab": {
          "base_uri": "https://localhost:8080/"
        },
        "id": "0-qX_ipZk4AM",
        "outputId": "6720e8f0-cd04-4902-f816-1aae41c3f8d8"
      },
      "execution_count": null,
      "outputs": [
        {
          "output_type": "execute_result",
          "data": {
            "text/plain": [
              "(12, 11)"
            ]
          },
          "metadata": {},
          "execution_count": 63
        }
      ]
    },
    {
      "cell_type": "markdown",
      "source": [
        "# Build and Train LSTM Neural Network"
      ],
      "metadata": {
        "id": "aY9j50DGnq-0"
      }
    },
    {
      "cell_type": "code",
      "source": [
        "from tensorflow.keras.models import Sequential\n",
        "from tensorflow.keras.layers import LSTM, Dense\n",
        "from tensorflow.keras.callbacks import TensorBoard"
      ],
      "metadata": {
        "id": "qgfoguChk363"
      },
      "execution_count": null,
      "outputs": []
    },
    {
      "cell_type": "code",
      "source": [
        "log_dir = os.path.join('Logs')\n",
        "tb_callback = TensorBoard(log_dir=log_dir)"
      ],
      "metadata": {
        "id": "iIxeKrNTk3o2"
      },
      "execution_count": null,
      "outputs": []
    },
    {
      "cell_type": "code",
      "source": [
        "model = Sequential()\n",
        "model.add(LSTM(64, return_sequences=True, activation='relu', input_shape=(30,1662)))\n",
        "model.add(LSTM(128, return_sequences=True, activation='relu'))\n",
        "model.add(LSTM(64, return_sequences=False, activation='relu'))\n",
        "model.add(Dense(64, activation='relu'))\n",
        "model.add(Dense(32, activation='relu'))\n",
        "model.add(Dense(len(actions), activation='softmax'))"
      ],
      "metadata": {
        "id": "rm7yX9Zzk3hI"
      },
      "execution_count": null,
      "outputs": []
    },
    {
      "cell_type": "code",
      "source": [
        "model.compile(optimizer='Adam', loss='categorical_crossentropy', metrics=['categorical_accuracy'])"
      ],
      "metadata": {
        "id": "_bsdV6r-k3at"
      },
      "execution_count": null,
      "outputs": []
    },
    {
      "cell_type": "code",
      "source": [
        "model.fit(X_train, y_train, epochs=2000, callbacks=[tb_callback])"
      ],
      "metadata": {
        "colab": {
          "base_uri": "https://localhost:8080/"
        },
        "id": "VHQF5Swtk3Uj",
        "outputId": "b6fb7af3-e723-42a9-9377-82c1bf183dcb"
      },
      "execution_count": null,
      "outputs": [
        {
          "output_type": "stream",
          "name": "stdout",
          "text": [
            "Epoch 1/2000\n",
            "\u001b[1m7/7\u001b[0m \u001b[32m━━━━━━━━━━━━━━━━━━━━\u001b[0m\u001b[37m\u001b[0m \u001b[1m10s\u001b[0m 176ms/step - categorical_accuracy: 0.0876 - loss: 15.9969\n",
            "Epoch 2/2000\n",
            "\u001b[1m7/7\u001b[0m \u001b[32m━━━━━━━━━━━━━━━━━━━━\u001b[0m\u001b[37m\u001b[0m \u001b[1m3s\u001b[0m 174ms/step - categorical_accuracy: 0.1337 - loss: 183.6674\n",
            "Epoch 3/2000\n",
            "\u001b[1m7/7\u001b[0m \u001b[32m━━━━━━━━━━━━━━━━━━━━\u001b[0m\u001b[37m\u001b[0m \u001b[1m3s\u001b[0m 181ms/step - categorical_accuracy: 0.1480 - loss: 371.7010\n",
            "Epoch 4/2000\n",
            "\u001b[1m7/7\u001b[0m \u001b[32m━━━━━━━━━━━━━━━━━━━━\u001b[0m\u001b[37m\u001b[0m \u001b[1m2s\u001b[0m 273ms/step - categorical_accuracy: 0.0986 - loss: 269.6672\n",
            "Epoch 5/2000\n",
            "\u001b[1m7/7\u001b[0m \u001b[32m━━━━━━━━━━━━━━━━━━━━\u001b[0m\u001b[37m\u001b[0m \u001b[1m2s\u001b[0m 286ms/step - categorical_accuracy: 0.0967 - loss: 239.7422\n",
            "Epoch 6/2000\n",
            "\u001b[1m7/7\u001b[0m \u001b[32m━━━━━━━━━━━━━━━━━━━━\u001b[0m\u001b[37m\u001b[0m \u001b[1m2s\u001b[0m 295ms/step - categorical_accuracy: 0.0960 - loss: 276.3260\n",
            "Epoch 7/2000\n",
            "\u001b[1m7/7\u001b[0m \u001b[32m━━━━━━━━━━━━━━━━━━━━\u001b[0m\u001b[37m\u001b[0m \u001b[1m2s\u001b[0m 193ms/step - categorical_accuracy: 0.0739 - loss: 158.0136\n",
            "Epoch 8/2000\n",
            "\u001b[1m7/7\u001b[0m \u001b[32m━━━━━━━━━━━━━━━━━━━━\u001b[0m\u001b[37m\u001b[0m \u001b[1m2s\u001b[0m 164ms/step - categorical_accuracy: 0.1045 - loss: 144.6040\n",
            "Epoch 9/2000\n",
            "\u001b[1m7/7\u001b[0m \u001b[32m━━━━━━━━━━━━━━━━━━━━\u001b[0m\u001b[37m\u001b[0m \u001b[1m1s\u001b[0m 167ms/step - categorical_accuracy: 0.1280 - loss: 282.8939\n",
            "Epoch 10/2000\n",
            "\u001b[1m7/7\u001b[0m \u001b[32m━━━━━━━━━━━━━━━━━━━━\u001b[0m\u001b[37m\u001b[0m \u001b[1m1s\u001b[0m 167ms/step - categorical_accuracy: 0.0540 - loss: 228.3704\n",
            "Epoch 11/2000\n",
            "\u001b[1m7/7\u001b[0m \u001b[32m━━━━━━━━━━━━━━━━━━━━\u001b[0m\u001b[37m\u001b[0m \u001b[1m1s\u001b[0m 170ms/step - categorical_accuracy: 0.1440 - loss: 411.8230\n",
            "Epoch 12/2000\n",
            "\u001b[1m7/7\u001b[0m \u001b[32m━━━━━━━━━━━━━━━━━━━━\u001b[0m\u001b[37m\u001b[0m \u001b[1m1s\u001b[0m 169ms/step - categorical_accuracy: 0.1484 - loss: 350.5721\n",
            "Epoch 13/2000\n",
            "\u001b[1m7/7\u001b[0m \u001b[32m━━━━━━━━━━━━━━━━━━━━\u001b[0m\u001b[37m\u001b[0m \u001b[1m1s\u001b[0m 170ms/step - categorical_accuracy: 0.0391 - loss: 441.0966\n",
            "Epoch 14/2000\n",
            "\u001b[1m7/7\u001b[0m \u001b[32m━━━━━━━━━━━━━━━━━━━━\u001b[0m\u001b[37m\u001b[0m \u001b[1m2s\u001b[0m 254ms/step - categorical_accuracy: 0.1027 - loss: 873.0748\n",
            "Epoch 15/2000\n",
            "\u001b[1m7/7\u001b[0m \u001b[32m━━━━━━━━━━━━━━━━━━━━\u001b[0m\u001b[37m\u001b[0m \u001b[1m2s\u001b[0m 284ms/step - categorical_accuracy: 0.1282 - loss: 1405.5966\n",
            "Epoch 16/2000\n",
            "\u001b[1m7/7\u001b[0m \u001b[32m━━━━━━━━━━━━━━━━━━━━\u001b[0m\u001b[37m\u001b[0m \u001b[1m3s\u001b[0m 309ms/step - categorical_accuracy: 0.1532 - loss: 2411.3098\n",
            "Epoch 17/2000\n",
            "\u001b[1m7/7\u001b[0m \u001b[32m━━━━━━━━━━━━━━━━━━━━\u001b[0m\u001b[37m\u001b[0m \u001b[1m1s\u001b[0m 169ms/step - categorical_accuracy: 0.1163 - loss: 1638.7908\n",
            "Epoch 18/2000\n",
            "\u001b[1m7/7\u001b[0m \u001b[32m━━━━━━━━━━━━━━━━━━━━\u001b[0m\u001b[37m\u001b[0m \u001b[1m1s\u001b[0m 170ms/step - categorical_accuracy: 0.0700 - loss: 1472.7987\n",
            "Epoch 19/2000\n",
            "\u001b[1m7/7\u001b[0m \u001b[32m━━━━━━━━━━━━━━━━━━━━\u001b[0m\u001b[37m\u001b[0m \u001b[1m1s\u001b[0m 169ms/step - categorical_accuracy: 0.1275 - loss: 1067.5057\n",
            "Epoch 20/2000\n",
            "\u001b[1m7/7\u001b[0m \u001b[32m━━━━━━━━━━━━━━━━━━━━\u001b[0m\u001b[37m\u001b[0m \u001b[1m1s\u001b[0m 167ms/step - categorical_accuracy: 0.1031 - loss: 1140.7915\n",
            "Epoch 21/2000\n",
            "\u001b[1m7/7\u001b[0m \u001b[32m━━━━━━━━━━━━━━━━━━━━\u001b[0m\u001b[37m\u001b[0m \u001b[1m1s\u001b[0m 165ms/step - categorical_accuracy: 0.1281 - loss: 1011.2908\n",
            "Epoch 22/2000\n",
            "\u001b[1m7/7\u001b[0m \u001b[32m━━━━━━━━━━━━━━━━━━━━\u001b[0m\u001b[37m\u001b[0m \u001b[1m1s\u001b[0m 163ms/step - categorical_accuracy: 0.1178 - loss: 812.9244\n",
            "Epoch 23/2000\n",
            "\u001b[1m7/7\u001b[0m \u001b[32m━━━━━━━━━━━━━━━━━━━━\u001b[0m\u001b[37m\u001b[0m \u001b[1m1s\u001b[0m 179ms/step - categorical_accuracy: 0.1135 - loss: 1832.1338\n",
            "Epoch 24/2000\n",
            "\u001b[1m7/7\u001b[0m \u001b[32m━━━━━━━━━━━━━━━━━━━━\u001b[0m\u001b[37m\u001b[0m \u001b[1m1s\u001b[0m 177ms/step - categorical_accuracy: 0.0772 - loss: 6096.2905\n",
            "Epoch 25/2000\n",
            "\u001b[1m7/7\u001b[0m \u001b[32m━━━━━━━━━━━━━━━━━━━━\u001b[0m\u001b[37m\u001b[0m \u001b[1m2s\u001b[0m 314ms/step - categorical_accuracy: 0.1093 - loss: 3333.4905\n",
            "Epoch 26/2000\n",
            "\u001b[1m7/7\u001b[0m \u001b[32m━━━━━━━━━━━━━━━━━━━━\u001b[0m\u001b[37m\u001b[0m \u001b[1m2s\u001b[0m 288ms/step - categorical_accuracy: 0.1025 - loss: 1737.9498\n",
            "Epoch 27/2000\n",
            "\u001b[1m7/7\u001b[0m \u001b[32m━━━━━━━━━━━━━━━━━━━━\u001b[0m\u001b[37m\u001b[0m \u001b[1m2s\u001b[0m 266ms/step - categorical_accuracy: 0.1166 - loss: 1271.8171\n",
            "Epoch 28/2000\n",
            "\u001b[1m7/7\u001b[0m \u001b[32m━━━━━━━━━━━━━━━━━━━━\u001b[0m\u001b[37m\u001b[0m \u001b[1m2s\u001b[0m 180ms/step - categorical_accuracy: 0.0684 - loss: 757.2023\n",
            "Epoch 29/2000\n",
            "\u001b[1m7/7\u001b[0m \u001b[32m━━━━━━━━━━━━━━━━━━━━\u001b[0m\u001b[37m\u001b[0m \u001b[1m1s\u001b[0m 168ms/step - categorical_accuracy: 0.0935 - loss: 875.9489\n",
            "Epoch 30/2000\n",
            "\u001b[1m7/7\u001b[0m \u001b[32m━━━━━━━━━━━━━━━━━━━━\u001b[0m\u001b[37m\u001b[0m \u001b[1m1s\u001b[0m 184ms/step - categorical_accuracy: 0.1355 - loss: 805.5623\n",
            "Epoch 31/2000\n",
            "\u001b[1m7/7\u001b[0m \u001b[32m━━━━━━━━━━━━━━━━━━━━\u001b[0m\u001b[37m\u001b[0m \u001b[1m3s\u001b[0m 185ms/step - categorical_accuracy: 0.1377 - loss: 838.8974\n",
            "Epoch 32/2000\n",
            "\u001b[1m7/7\u001b[0m \u001b[32m━━━━━━━━━━━━━━━━━━━━\u001b[0m\u001b[37m\u001b[0m \u001b[1m1s\u001b[0m 187ms/step - categorical_accuracy: 0.1054 - loss: 451.1403\n",
            "Epoch 33/2000\n",
            "\u001b[1m7/7\u001b[0m \u001b[32m━━━━━━━━━━━━━━━━━━━━\u001b[0m\u001b[37m\u001b[0m \u001b[1m1s\u001b[0m 184ms/step - categorical_accuracy: 0.0692 - loss: 484.2147\n",
            "Epoch 34/2000\n",
            "\u001b[1m7/7\u001b[0m \u001b[32m━━━━━━━━━━━━━━━━━━━━\u001b[0m\u001b[37m\u001b[0m \u001b[1m3s\u001b[0m 306ms/step - categorical_accuracy: 0.0871 - loss: 423.2657\n",
            "Epoch 35/2000\n",
            "\u001b[1m7/7\u001b[0m \u001b[32m━━━━━━━━━━━━━━━━━━━━\u001b[0m\u001b[37m\u001b[0m \u001b[1m2s\u001b[0m 172ms/step - categorical_accuracy: 0.1040 - loss: 321.2952\n",
            "Epoch 36/2000\n",
            "\u001b[1m7/7\u001b[0m \u001b[32m━━━━━━━━━━━━━━━━━━━━\u001b[0m\u001b[37m\u001b[0m \u001b[1m2s\u001b[0m 177ms/step - categorical_accuracy: 0.1088 - loss: 369.0399\n",
            "Epoch 37/2000\n",
            "\u001b[1m7/7\u001b[0m \u001b[32m━━━━━━━━━━━━━━━━━━━━\u001b[0m\u001b[37m\u001b[0m \u001b[1m1s\u001b[0m 167ms/step - categorical_accuracy: 0.0951 - loss: 320.3138\n",
            "Epoch 38/2000\n",
            "\u001b[1m7/7\u001b[0m \u001b[32m━━━━━━━━━━━━━━━━━━━━\u001b[0m\u001b[37m\u001b[0m \u001b[1m1s\u001b[0m 168ms/step - categorical_accuracy: 0.0889 - loss: 244.6561\n",
            "Epoch 39/2000\n",
            "\u001b[1m7/7\u001b[0m \u001b[32m━━━━━━━━━━━━━━━━━━━━\u001b[0m\u001b[37m\u001b[0m \u001b[1m1s\u001b[0m 167ms/step - categorical_accuracy: 0.1231 - loss: 170.3845\n",
            "Epoch 40/2000\n",
            "\u001b[1m7/7\u001b[0m \u001b[32m━━━━━━━━━━━━━━━━━━━━\u001b[0m\u001b[37m\u001b[0m \u001b[1m1s\u001b[0m 180ms/step - categorical_accuracy: 0.0886 - loss: 277.5675\n",
            "Epoch 41/2000\n",
            "\u001b[1m7/7\u001b[0m \u001b[32m━━━━━━━━━━━━━━━━━━━━\u001b[0m\u001b[37m\u001b[0m \u001b[1m1s\u001b[0m 166ms/step - categorical_accuracy: 0.0768 - loss: 281.9443\n",
            "Epoch 42/2000\n",
            "\u001b[1m7/7\u001b[0m \u001b[32m━━━━━━━━━━━━━━━━━━━━\u001b[0m\u001b[37m\u001b[0m \u001b[1m2s\u001b[0m 298ms/step - categorical_accuracy: 0.1257 - loss: 205.7853\n",
            "Epoch 43/2000\n",
            "\u001b[1m7/7\u001b[0m \u001b[32m━━━━━━━━━━━━━━━━━━━━\u001b[0m\u001b[37m\u001b[0m \u001b[1m2s\u001b[0m 308ms/step - categorical_accuracy: 0.1304 - loss: 180.6687\n",
            "Epoch 44/2000\n",
            "\u001b[1m7/7\u001b[0m \u001b[32m━━━━━━━━━━━━━━━━━━━━\u001b[0m\u001b[37m\u001b[0m \u001b[1m3s\u001b[0m 399ms/step - categorical_accuracy: 0.1059 - loss: 216.9876\n",
            "Epoch 45/2000\n",
            "\u001b[1m7/7\u001b[0m \u001b[32m━━━━━━━━━━━━━━━━━━━━\u001b[0m\u001b[37m\u001b[0m \u001b[1m4s\u001b[0m 171ms/step - categorical_accuracy: 0.1503 - loss: 235.9116\n",
            "Epoch 46/2000\n",
            "\u001b[1m7/7\u001b[0m \u001b[32m━━━━━━━━━━━━━━━━━━━━\u001b[0m\u001b[37m\u001b[0m \u001b[1m1s\u001b[0m 187ms/step - categorical_accuracy: 0.1017 - loss: 211.4689\n",
            "Epoch 47/2000\n",
            "\u001b[1m7/7\u001b[0m \u001b[32m━━━━━━━━━━━━━━━━━━━━\u001b[0m\u001b[37m\u001b[0m \u001b[1m1s\u001b[0m 178ms/step - categorical_accuracy: 0.1118 - loss: 222.3586\n",
            "Epoch 48/2000\n",
            "\u001b[1m7/7\u001b[0m \u001b[32m━━━━━━━━━━━━━━━━━━━━\u001b[0m\u001b[37m\u001b[0m \u001b[1m1s\u001b[0m 166ms/step - categorical_accuracy: 0.0941 - loss: 198.7872\n",
            "Epoch 49/2000\n",
            "\u001b[1m7/7\u001b[0m \u001b[32m━━━━━━━━━━━━━━━━━━━━\u001b[0m\u001b[37m\u001b[0m \u001b[1m1s\u001b[0m 167ms/step - categorical_accuracy: 0.1050 - loss: 170.6137\n",
            "Epoch 50/2000\n",
            "\u001b[1m7/7\u001b[0m \u001b[32m━━━━━━━━━━━━━━━━━━━━\u001b[0m\u001b[37m\u001b[0m \u001b[1m1s\u001b[0m 169ms/step - categorical_accuracy: 0.1185 - loss: 187.1427\n",
            "Epoch 51/2000\n",
            "\u001b[1m7/7\u001b[0m \u001b[32m━━━━━━━━━━━━━━━━━━━━\u001b[0m\u001b[37m\u001b[0m \u001b[1m2s\u001b[0m 256ms/step - categorical_accuracy: 0.1062 - loss: 161.7380\n",
            "Epoch 52/2000\n",
            "\u001b[1m7/7\u001b[0m \u001b[32m━━━━━━━━━━━━━━━━━━━━\u001b[0m\u001b[37m\u001b[0m \u001b[1m2s\u001b[0m 284ms/step - categorical_accuracy: 0.1201 - loss: 153.4251\n",
            "Epoch 53/2000\n",
            "\u001b[1m7/7\u001b[0m \u001b[32m━━━━━━━━━━━━━━━━━━━━\u001b[0m\u001b[37m\u001b[0m \u001b[1m2s\u001b[0m 263ms/step - categorical_accuracy: 0.0858 - loss: 139.3738\n",
            "Epoch 54/2000\n",
            "\u001b[1m7/7\u001b[0m \u001b[32m━━━━━━━━━━━━━━━━━━━━\u001b[0m\u001b[37m\u001b[0m \u001b[1m2s\u001b[0m 277ms/step - categorical_accuracy: 0.0944 - loss: 221.5467\n",
            "Epoch 55/2000\n",
            "\u001b[1m7/7\u001b[0m \u001b[32m━━━━━━━━━━━━━━━━━━━━\u001b[0m\u001b[37m\u001b[0m \u001b[1m2s\u001b[0m 222ms/step - categorical_accuracy: 0.0971 - loss: 263.4762\n",
            "Epoch 56/2000\n",
            "\u001b[1m7/7\u001b[0m \u001b[32m━━━━━━━━━━━━━━━━━━━━\u001b[0m\u001b[37m\u001b[0m \u001b[1m2s\u001b[0m 181ms/step - categorical_accuracy: 0.1202 - loss: 220.7519\n",
            "Epoch 57/2000\n",
            "\u001b[1m7/7\u001b[0m \u001b[32m━━━━━━━━━━━━━━━━━━━━\u001b[0m\u001b[37m\u001b[0m \u001b[1m2s\u001b[0m 176ms/step - categorical_accuracy: 0.1052 - loss: 196.7570\n",
            "Epoch 58/2000\n",
            "\u001b[1m7/7\u001b[0m \u001b[32m━━━━━━━━━━━━━━━━━━━━\u001b[0m\u001b[37m\u001b[0m \u001b[1m2s\u001b[0m 233ms/step - categorical_accuracy: 0.1207 - loss: 155.9140\n",
            "Epoch 59/2000\n",
            "\u001b[1m7/7\u001b[0m \u001b[32m━━━━━━━━━━━━━━━━━━━━\u001b[0m\u001b[37m\u001b[0m \u001b[1m2s\u001b[0m 284ms/step - categorical_accuracy: 0.1276 - loss: 208.7070\n",
            "Epoch 60/2000\n",
            "\u001b[1m7/7\u001b[0m \u001b[32m━━━━━━━━━━━━━━━━━━━━\u001b[0m\u001b[37m\u001b[0m \u001b[1m2s\u001b[0m 294ms/step - categorical_accuracy: 0.0875 - loss: 190.5354\n",
            "Epoch 61/2000\n",
            "\u001b[1m7/7\u001b[0m \u001b[32m━━━━━━━━━━━━━━━━━━━━\u001b[0m\u001b[37m\u001b[0m \u001b[1m2s\u001b[0m 238ms/step - categorical_accuracy: 0.0891 - loss: 126.4140\n",
            "Epoch 62/2000\n",
            "\u001b[1m7/7\u001b[0m \u001b[32m━━━━━━━━━━━━━━━━━━━━\u001b[0m\u001b[37m\u001b[0m \u001b[1m1s\u001b[0m 176ms/step - categorical_accuracy: 0.1030 - loss: 142.9041\n",
            "Epoch 63/2000\n",
            "\u001b[1m7/7\u001b[0m \u001b[32m━━━━━━━━━━━━━━━━━━━━\u001b[0m\u001b[37m\u001b[0m \u001b[1m1s\u001b[0m 180ms/step - categorical_accuracy: 0.0801 - loss: 199.9361\n",
            "Epoch 64/2000\n",
            "\u001b[1m7/7\u001b[0m \u001b[32m━━━━━━━━━━━━━━━━━━━━\u001b[0m\u001b[37m\u001b[0m \u001b[1m1s\u001b[0m 184ms/step - categorical_accuracy: 0.1241 - loss: 173.2456\n",
            "Epoch 65/2000\n",
            "\u001b[1m7/7\u001b[0m \u001b[32m━━━━━━━━━━━━━━━━━━━━\u001b[0m\u001b[37m\u001b[0m \u001b[1m1s\u001b[0m 173ms/step - categorical_accuracy: 0.0616 - loss: 211.5607\n",
            "Epoch 66/2000\n",
            "\u001b[1m7/7\u001b[0m \u001b[32m━━━━━━━━━━━━━━━━━━━━\u001b[0m\u001b[37m\u001b[0m \u001b[1m1s\u001b[0m 183ms/step - categorical_accuracy: 0.1440 - loss: 179.0615\n",
            "Epoch 67/2000\n",
            "\u001b[1m7/7\u001b[0m \u001b[32m━━━━━━━━━━━━━━━━━━━━\u001b[0m\u001b[37m\u001b[0m \u001b[1m3s\u001b[0m 187ms/step - categorical_accuracy: 0.0967 - loss: 183.3803\n",
            "Epoch 68/2000\n",
            "\u001b[1m7/7\u001b[0m \u001b[32m━━━━━━━━━━━━━━━━━━━━\u001b[0m\u001b[37m\u001b[0m \u001b[1m4s\u001b[0m 325ms/step - categorical_accuracy: 0.1207 - loss: 221.9207\n",
            "Epoch 69/2000\n",
            "\u001b[1m7/7\u001b[0m \u001b[32m━━━━━━━━━━━━━━━━━━━━\u001b[0m\u001b[37m\u001b[0m \u001b[1m3s\u001b[0m 331ms/step - categorical_accuracy: 0.1136 - loss: 143.6379\n",
            "Epoch 70/2000\n",
            "\u001b[1m7/7\u001b[0m \u001b[32m━━━━━━━━━━━━━━━━━━━━\u001b[0m\u001b[37m\u001b[0m \u001b[1m1s\u001b[0m 176ms/step - categorical_accuracy: 0.1198 - loss: 155.7846\n",
            "Epoch 71/2000\n",
            "\u001b[1m7/7\u001b[0m \u001b[32m━━━━━━━━━━━━━━━━━━━━\u001b[0m\u001b[37m\u001b[0m \u001b[1m1s\u001b[0m 167ms/step - categorical_accuracy: 0.0996 - loss: 153.3654\n",
            "Epoch 72/2000\n",
            "\u001b[1m7/7\u001b[0m \u001b[32m━━━━━━━━━━━━━━━━━━━━\u001b[0m\u001b[37m\u001b[0m \u001b[1m1s\u001b[0m 179ms/step - categorical_accuracy: 0.0945 - loss: 206.6873\n",
            "Epoch 73/2000\n",
            "\u001b[1m7/7\u001b[0m \u001b[32m━━━━━━━━━━━━━━━━━━━━\u001b[0m\u001b[37m\u001b[0m \u001b[1m1s\u001b[0m 185ms/step - categorical_accuracy: 0.0853 - loss: 224.1636\n",
            "Epoch 74/2000\n",
            "\u001b[1m7/7\u001b[0m \u001b[32m━━━━━━━━━━━━━━━━━━━━\u001b[0m\u001b[37m\u001b[0m \u001b[1m1s\u001b[0m 181ms/step - categorical_accuracy: 0.1403 - loss: 209.1219\n",
            "Epoch 75/2000\n",
            "\u001b[1m7/7\u001b[0m \u001b[32m━━━━━━━━━━━━━━━━━━━━\u001b[0m\u001b[37m\u001b[0m \u001b[1m3s\u001b[0m 178ms/step - categorical_accuracy: 0.1185 - loss: 213.7748\n",
            "Epoch 76/2000\n",
            "\u001b[1m7/7\u001b[0m \u001b[32m━━━━━━━━━━━━━━━━━━━━\u001b[0m\u001b[37m\u001b[0m \u001b[1m3s\u001b[0m 295ms/step - categorical_accuracy: 0.0718 - loss: 184.8839\n",
            "Epoch 77/2000\n",
            "\u001b[1m7/7\u001b[0m \u001b[32m━━━━━━━━━━━━━━━━━━━━\u001b[0m\u001b[37m\u001b[0m \u001b[1m3s\u001b[0m 320ms/step - categorical_accuracy: 0.0805 - loss: 144.9630\n",
            "Epoch 78/2000\n",
            "\u001b[1m7/7\u001b[0m \u001b[32m━━━━━━━━━━━━━━━━━━━━\u001b[0m\u001b[37m\u001b[0m \u001b[1m2s\u001b[0m 187ms/step - categorical_accuracy: 0.1710 - loss: 173.0687\n",
            "Epoch 79/2000\n",
            "\u001b[1m7/7\u001b[0m \u001b[32m━━━━━━━━━━━━━━━━━━━━\u001b[0m\u001b[37m\u001b[0m \u001b[1m1s\u001b[0m 184ms/step - categorical_accuracy: 0.0826 - loss: 172.0027\n",
            "Epoch 80/2000\n",
            "\u001b[1m7/7\u001b[0m \u001b[32m━━━━━━━━━━━━━━━━━━━━\u001b[0m\u001b[37m\u001b[0m \u001b[1m2s\u001b[0m 170ms/step - categorical_accuracy: 0.1279 - loss: 184.3191\n",
            "Epoch 81/2000\n",
            "\u001b[1m7/7\u001b[0m \u001b[32m━━━━━━━━━━━━━━━━━━━━\u001b[0m\u001b[37m\u001b[0m \u001b[1m1s\u001b[0m 173ms/step - categorical_accuracy: 0.1488 - loss: 197.2421\n",
            "Epoch 82/2000\n",
            "\u001b[1m7/7\u001b[0m \u001b[32m━━━━━━━━━━━━━━━━━━━━\u001b[0m\u001b[37m\u001b[0m \u001b[1m1s\u001b[0m 175ms/step - categorical_accuracy: 0.1278 - loss: 228.4488\n",
            "Epoch 83/2000\n",
            "\u001b[1m7/7\u001b[0m \u001b[32m━━━━━━━━━━━━━━━━━━━━\u001b[0m\u001b[37m\u001b[0m \u001b[1m1s\u001b[0m 172ms/step - categorical_accuracy: 0.0644 - loss: 189.2832\n",
            "Epoch 84/2000\n",
            "\u001b[1m7/7\u001b[0m \u001b[32m━━━━━━━━━━━━━━━━━━━━\u001b[0m\u001b[37m\u001b[0m \u001b[1m2s\u001b[0m 246ms/step - categorical_accuracy: 0.1151 - loss: 201.0338\n",
            "Epoch 85/2000\n",
            "\u001b[1m7/7\u001b[0m \u001b[32m━━━━━━━━━━━━━━━━━━━━\u001b[0m\u001b[37m\u001b[0m \u001b[1m2s\u001b[0m 319ms/step - categorical_accuracy: 0.1387 - loss: 135.5474\n",
            "Epoch 86/2000\n",
            "\u001b[1m7/7\u001b[0m \u001b[32m━━━━━━━━━━━━━━━━━━━━\u001b[0m\u001b[37m\u001b[0m \u001b[1m2s\u001b[0m 293ms/step - categorical_accuracy: 0.0935 - loss: 163.7040\n",
            "Epoch 87/2000\n",
            "\u001b[1m7/7\u001b[0m \u001b[32m━━━━━━━━━━━━━━━━━━━━\u001b[0m\u001b[37m\u001b[0m \u001b[1m1s\u001b[0m 196ms/step - categorical_accuracy: 0.0949 - loss: 195.3809\n",
            "Epoch 88/2000\n",
            "\u001b[1m7/7\u001b[0m \u001b[32m━━━━━━━━━━━━━━━━━━━━\u001b[0m\u001b[37m\u001b[0m \u001b[1m2s\u001b[0m 185ms/step - categorical_accuracy: 0.0988 - loss: 232.5762\n",
            "Epoch 89/2000\n",
            "\u001b[1m7/7\u001b[0m \u001b[32m━━━━━━━━━━━━━━━━━━━━\u001b[0m\u001b[37m\u001b[0m \u001b[1m1s\u001b[0m 166ms/step - categorical_accuracy: 0.0963 - loss: 242.3430\n",
            "Epoch 90/2000\n",
            "\u001b[1m7/7\u001b[0m \u001b[32m━━━━━━━━━━━━━━━━━━━━\u001b[0m\u001b[37m\u001b[0m \u001b[1m1s\u001b[0m 179ms/step - categorical_accuracy: 0.0651 - loss: 225.8285\n",
            "Epoch 91/2000\n",
            "\u001b[1m7/7\u001b[0m \u001b[32m━━━━━━━━━━━━━━━━━━━━\u001b[0m\u001b[37m\u001b[0m \u001b[1m1s\u001b[0m 167ms/step - categorical_accuracy: 0.1039 - loss: 209.5643\n",
            "Epoch 92/2000\n",
            "\u001b[1m7/7\u001b[0m \u001b[32m━━━━━━━━━━━━━━━━━━━━\u001b[0m\u001b[37m\u001b[0m \u001b[1m1s\u001b[0m 180ms/step - categorical_accuracy: 0.0510 - loss: 206.6868\n",
            "Epoch 93/2000\n",
            "\u001b[1m7/7\u001b[0m \u001b[32m━━━━━━━━━━━━━━━━━━━━\u001b[0m\u001b[37m\u001b[0m \u001b[1m3s\u001b[0m 318ms/step - categorical_accuracy: 0.0902 - loss: 200.7315\n",
            "Epoch 94/2000\n",
            "\u001b[1m7/7\u001b[0m \u001b[32m━━━━━━━━━━━━━━━━━━━━\u001b[0m\u001b[37m\u001b[0m \u001b[1m3s\u001b[0m 306ms/step - categorical_accuracy: 0.0809 - loss: 129.5560\n",
            "Epoch 95/2000\n",
            "\u001b[1m7/7\u001b[0m \u001b[32m━━━━━━━━━━━━━━━━━━━━\u001b[0m\u001b[37m\u001b[0m \u001b[1m2s\u001b[0m 239ms/step - categorical_accuracy: 0.1026 - loss: 144.8633\n",
            "Epoch 96/2000\n",
            "\u001b[1m7/7\u001b[0m \u001b[32m━━━━━━━━━━━━━━━━━━━━\u001b[0m\u001b[37m\u001b[0m \u001b[1m1s\u001b[0m 168ms/step - categorical_accuracy: 0.1082 - loss: 147.3978\n",
            "Epoch 97/2000\n",
            "\u001b[1m7/7\u001b[0m \u001b[32m━━━━━━━━━━━━━━━━━━━━\u001b[0m\u001b[37m\u001b[0m \u001b[1m1s\u001b[0m 201ms/step - categorical_accuracy: 0.1528 - loss: 193.5167\n",
            "Epoch 98/2000\n",
            "\u001b[1m7/7\u001b[0m \u001b[32m━━━━━━━━━━━━━━━━━━━━\u001b[0m\u001b[37m\u001b[0m \u001b[1m1s\u001b[0m 203ms/step - categorical_accuracy: 0.0349 - loss: 201.1316\n",
            "Epoch 99/2000\n",
            "\u001b[1m7/7\u001b[0m \u001b[32m━━━━━━━━━━━━━━━━━━━━\u001b[0m\u001b[37m\u001b[0m \u001b[1m2s\u001b[0m 199ms/step - categorical_accuracy: 0.0863 - loss: 234.0833\n",
            "Epoch 100/2000\n",
            "\u001b[1m7/7\u001b[0m \u001b[32m━━━━━━━━━━━━━━━━━━━━\u001b[0m\u001b[37m\u001b[0m \u001b[1m2s\u001b[0m 180ms/step - categorical_accuracy: 0.0846 - loss: 191.5228\n",
            "Epoch 101/2000\n",
            "\u001b[1m7/7\u001b[0m \u001b[32m━━━━━━━━━━━━━━━━━━━━\u001b[0m\u001b[37m\u001b[0m \u001b[1m2s\u001b[0m 305ms/step - categorical_accuracy: 0.1234 - loss: 173.3633\n",
            "Epoch 102/2000\n",
            "\u001b[1m7/7\u001b[0m \u001b[32m━━━━━━━━━━━━━━━━━━━━\u001b[0m\u001b[37m\u001b[0m \u001b[1m2s\u001b[0m 295ms/step - categorical_accuracy: 0.1152 - loss: 213.6265\n",
            "Epoch 103/2000\n",
            "\u001b[1m7/7\u001b[0m \u001b[32m━━━━━━━━━━━━━━━━━━━━\u001b[0m\u001b[37m\u001b[0m \u001b[1m3s\u001b[0m 306ms/step - categorical_accuracy: 0.0746 - loss: 171.1609\n",
            "Epoch 104/2000\n",
            "\u001b[1m7/7\u001b[0m \u001b[32m━━━━━━━━━━━━━━━━━━━━\u001b[0m\u001b[37m\u001b[0m \u001b[1m2s\u001b[0m 207ms/step - categorical_accuracy: 0.1216 - loss: 190.4685\n",
            "Epoch 105/2000\n",
            "\u001b[1m7/7\u001b[0m \u001b[32m━━━━━━━━━━━━━━━━━━━━\u001b[0m\u001b[37m\u001b[0m \u001b[1m1s\u001b[0m 189ms/step - categorical_accuracy: 0.1349 - loss: 110.9154\n",
            "Epoch 106/2000\n",
            "\u001b[1m7/7\u001b[0m \u001b[32m━━━━━━━━━━━━━━━━━━━━\u001b[0m\u001b[37m\u001b[0m \u001b[1m3s\u001b[0m 201ms/step - categorical_accuracy: 0.1967 - loss: 142.0608\n",
            "Epoch 107/2000\n",
            "\u001b[1m7/7\u001b[0m \u001b[32m━━━━━━━━━━━━━━━━━━━━\u001b[0m\u001b[37m\u001b[0m \u001b[1m1s\u001b[0m 203ms/step - categorical_accuracy: 0.0735 - loss: 168.4258\n",
            "Epoch 108/2000\n",
            "\u001b[1m7/7\u001b[0m \u001b[32m━━━━━━━━━━━━━━━━━━━━\u001b[0m\u001b[37m\u001b[0m \u001b[1m3s\u001b[0m 206ms/step - categorical_accuracy: 0.0720 - loss: 127.9846\n",
            "Epoch 109/2000\n",
            "\u001b[1m7/7\u001b[0m \u001b[32m━━━━━━━━━━━━━━━━━━━━\u001b[0m\u001b[37m\u001b[0m \u001b[1m2s\u001b[0m 334ms/step - categorical_accuracy: 0.1667 - loss: 102.4017\n",
            "Epoch 110/2000\n",
            "\u001b[1m7/7\u001b[0m \u001b[32m━━━━━━━━━━━━━━━━━━━━\u001b[0m\u001b[37m\u001b[0m \u001b[1m2s\u001b[0m 303ms/step - categorical_accuracy: 0.1300 - loss: 181.2570\n",
            "Epoch 111/2000\n",
            "\u001b[1m7/7\u001b[0m \u001b[32m━━━━━━━━━━━━━━━━━━━━\u001b[0m\u001b[37m\u001b[0m \u001b[1m2s\u001b[0m 171ms/step - categorical_accuracy: 0.1134 - loss: 166.9608\n",
            "Epoch 112/2000\n",
            "\u001b[1m7/7\u001b[0m \u001b[32m━━━━━━━━━━━━━━━━━━━━\u001b[0m\u001b[37m\u001b[0m \u001b[1m1s\u001b[0m 170ms/step - categorical_accuracy: 0.1078 - loss: 162.4203\n",
            "Epoch 113/2000\n",
            "\u001b[1m7/7\u001b[0m \u001b[32m━━━━━━━━━━━━━━━━━━━━\u001b[0m\u001b[37m\u001b[0m \u001b[1m2s\u001b[0m 208ms/step - categorical_accuracy: 0.0843 - loss: 156.2134\n",
            "Epoch 114/2000\n",
            "\u001b[1m7/7\u001b[0m \u001b[32m━━━━━━━━━━━━━━━━━━━━\u001b[0m\u001b[37m\u001b[0m \u001b[1m3s\u001b[0m 208ms/step - categorical_accuracy: 0.0784 - loss: 161.0390\n",
            "Epoch 115/2000\n",
            "\u001b[1m7/7\u001b[0m \u001b[32m━━━━━━━━━━━━━━━━━━━━\u001b[0m\u001b[37m\u001b[0m \u001b[1m1s\u001b[0m 169ms/step - categorical_accuracy: 0.1540 - loss: 151.9373\n",
            "Epoch 116/2000\n",
            "\u001b[1m7/7\u001b[0m \u001b[32m━━━━━━━━━━━━━━━━━━━━\u001b[0m\u001b[37m\u001b[0m \u001b[1m1s\u001b[0m 173ms/step - categorical_accuracy: 0.1267 - loss: 206.5914\n",
            "Epoch 117/2000\n",
            "\u001b[1m7/7\u001b[0m \u001b[32m━━━━━━━━━━━━━━━━━━━━\u001b[0m\u001b[37m\u001b[0m \u001b[1m1s\u001b[0m 175ms/step - categorical_accuracy: 0.1151 - loss: 178.8403\n",
            "Epoch 118/2000\n",
            "\u001b[1m7/7\u001b[0m \u001b[32m━━━━━━━━━━━━━━━━━━━━\u001b[0m\u001b[37m\u001b[0m \u001b[1m2s\u001b[0m 292ms/step - categorical_accuracy: 0.0927 - loss: 156.5808\n",
            "Epoch 119/2000\n",
            "\u001b[1m7/7\u001b[0m \u001b[32m━━━━━━━━━━━━━━━━━━━━\u001b[0m\u001b[37m\u001b[0m \u001b[1m3s\u001b[0m 326ms/step - categorical_accuracy: 0.0635 - loss: 149.8350\n",
            "Epoch 120/2000\n",
            "\u001b[1m7/7\u001b[0m \u001b[32m━━━━━━━━━━━━━━━━━━━━\u001b[0m\u001b[37m\u001b[0m \u001b[1m2s\u001b[0m 209ms/step - categorical_accuracy: 0.1111 - loss: 178.1146\n",
            "Epoch 121/2000\n",
            "\u001b[1m7/7\u001b[0m \u001b[32m━━━━━━━━━━━━━━━━━━━━\u001b[0m\u001b[37m\u001b[0m \u001b[1m2s\u001b[0m 189ms/step - categorical_accuracy: 0.0676 - loss: 141.2318\n",
            "Epoch 122/2000\n",
            "\u001b[1m7/7\u001b[0m \u001b[32m━━━━━━━━━━━━━━━━━━━━\u001b[0m\u001b[37m\u001b[0m \u001b[1m1s\u001b[0m 166ms/step - categorical_accuracy: 0.1122 - loss: 117.5356\n",
            "Epoch 123/2000\n",
            "\u001b[1m7/7\u001b[0m \u001b[32m━━━━━━━━━━━━━━━━━━━━\u001b[0m\u001b[37m\u001b[0m \u001b[1m1s\u001b[0m 166ms/step - categorical_accuracy: 0.1254 - loss: 129.6514\n",
            "Epoch 124/2000\n",
            "\u001b[1m7/7\u001b[0m \u001b[32m━━━━━━━━━━━━━━━━━━━━\u001b[0m\u001b[37m\u001b[0m \u001b[1m1s\u001b[0m 165ms/step - categorical_accuracy: 0.1196 - loss: 148.5921\n",
            "Epoch 125/2000\n",
            "\u001b[1m7/7\u001b[0m \u001b[32m━━━━━━━━━━━━━━━━━━━━\u001b[0m\u001b[37m\u001b[0m \u001b[1m1s\u001b[0m 165ms/step - categorical_accuracy: 0.1035 - loss: 140.3476\n",
            "Epoch 126/2000\n",
            "\u001b[1m7/7\u001b[0m \u001b[32m━━━━━━━━━━━━━━━━━━━━\u001b[0m\u001b[37m\u001b[0m \u001b[1m1s\u001b[0m 168ms/step - categorical_accuracy: 0.1374 - loss: 153.3533\n",
            "Epoch 127/2000\n",
            "\u001b[1m7/7\u001b[0m \u001b[32m━━━━━━━━━━━━━━━━━━━━\u001b[0m\u001b[37m\u001b[0m \u001b[1m2s\u001b[0m 228ms/step - categorical_accuracy: 0.0702 - loss: 145.4028\n",
            "Epoch 128/2000\n",
            "\u001b[1m7/7\u001b[0m \u001b[32m━━━━━━━━━━━━━━━━━━━━\u001b[0m\u001b[37m\u001b[0m \u001b[1m2s\u001b[0m 285ms/step - categorical_accuracy: 0.1135 - loss: 137.6050\n",
            "Epoch 129/2000\n",
            "\u001b[1m7/7\u001b[0m \u001b[32m━━━━━━━━━━━━━━━━━━━━\u001b[0m\u001b[37m\u001b[0m \u001b[1m3s\u001b[0m 309ms/step - categorical_accuracy: 0.0664 - loss: 112.3988\n",
            "Epoch 130/2000\n",
            "\u001b[1m7/7\u001b[0m \u001b[32m━━━━━━━━━━━━━━━━━━━━\u001b[0m\u001b[37m\u001b[0m \u001b[1m2s\u001b[0m 204ms/step - categorical_accuracy: 0.1162 - loss: 128.6259\n",
            "Epoch 131/2000\n",
            "\u001b[1m7/7\u001b[0m \u001b[32m━━━━━━━━━━━━━━━━━━━━\u001b[0m\u001b[37m\u001b[0m \u001b[1m1s\u001b[0m 192ms/step - categorical_accuracy: 0.0876 - loss: 149.9766\n",
            "Epoch 132/2000\n",
            "\u001b[1m7/7\u001b[0m \u001b[32m━━━━━━━━━━━━━━━━━━━━\u001b[0m\u001b[37m\u001b[0m \u001b[1m1s\u001b[0m 186ms/step - categorical_accuracy: 0.1108 - loss: 94.1502\n",
            "Epoch 133/2000\n",
            "\u001b[1m7/7\u001b[0m \u001b[32m━━━━━━━━━━━━━━━━━━━━\u001b[0m\u001b[37m\u001b[0m \u001b[1m2s\u001b[0m 200ms/step - categorical_accuracy: 0.0611 - loss: 132.5724\n",
            "Epoch 134/2000\n",
            "\u001b[1m7/7\u001b[0m \u001b[32m━━━━━━━━━━━━━━━━━━━━\u001b[0m\u001b[37m\u001b[0m \u001b[1m2s\u001b[0m 215ms/step - categorical_accuracy: 0.1542 - loss: 133.6917\n",
            "Epoch 135/2000\n",
            "\u001b[1m7/7\u001b[0m \u001b[32m━━━━━━━━━━━━━━━━━━━━\u001b[0m\u001b[37m\u001b[0m \u001b[1m1s\u001b[0m 175ms/step - categorical_accuracy: 0.0910 - loss: 84.5983\n",
            "Epoch 136/2000\n",
            "\u001b[1m7/7\u001b[0m \u001b[32m━━━━━━━━━━━━━━━━━━━━\u001b[0m\u001b[37m\u001b[0m \u001b[1m1s\u001b[0m 171ms/step - categorical_accuracy: 0.1330 - loss: 115.9346\n",
            "Epoch 137/2000\n",
            "\u001b[1m7/7\u001b[0m \u001b[32m━━━━━━━━━━━━━━━━━━━━\u001b[0m\u001b[37m\u001b[0m \u001b[1m2s\u001b[0m 258ms/step - categorical_accuracy: 0.0738 - loss: 87.7400\n",
            "Epoch 138/2000\n",
            "\u001b[1m7/7\u001b[0m \u001b[32m━━━━━━━━━━━━━━━━━━━━\u001b[0m\u001b[37m\u001b[0m \u001b[1m3s\u001b[0m 294ms/step - categorical_accuracy: 0.1250 - loss: 107.4902\n",
            "Epoch 139/2000\n",
            "\u001b[1m7/7\u001b[0m \u001b[32m━━━━━━━━━━━━━━━━━━━━\u001b[0m\u001b[37m\u001b[0m \u001b[1m2s\u001b[0m 180ms/step - categorical_accuracy: 0.1285 - loss: 104.1095\n",
            "Epoch 140/2000\n",
            "\u001b[1m7/7\u001b[0m \u001b[32m━━━━━━━━━━━━━━━━━━━━\u001b[0m\u001b[37m\u001b[0m \u001b[1m2s\u001b[0m 170ms/step - categorical_accuracy: 0.1202 - loss: 112.2615\n",
            "Epoch 141/2000\n",
            "\u001b[1m7/7\u001b[0m \u001b[32m━━━━━━━━━━━━━━━━━━━━\u001b[0m\u001b[37m\u001b[0m \u001b[1m1s\u001b[0m 170ms/step - categorical_accuracy: 0.0830 - loss: 119.7752\n",
            "Epoch 142/2000\n",
            "\u001b[1m7/7\u001b[0m \u001b[32m━━━━━━━━━━━━━━━━━━━━\u001b[0m\u001b[37m\u001b[0m \u001b[1m2s\u001b[0m 201ms/step - categorical_accuracy: 0.0983 - loss: 138.6082\n",
            "Epoch 143/2000\n",
            "\u001b[1m7/7\u001b[0m \u001b[32m━━━━━━━━━━━━━━━━━━━━\u001b[0m\u001b[37m\u001b[0m \u001b[1m1s\u001b[0m 195ms/step - categorical_accuracy: 0.1238 - loss: 114.8349\n",
            "Epoch 144/2000\n",
            "\u001b[1m7/7\u001b[0m \u001b[32m━━━━━━━━━━━━━━━━━━━━\u001b[0m\u001b[37m\u001b[0m \u001b[1m1s\u001b[0m 206ms/step - categorical_accuracy: 0.0658 - loss: 161.0540\n",
            "Epoch 145/2000\n",
            "\u001b[1m7/7\u001b[0m \u001b[32m━━━━━━━━━━━━━━━━━━━━\u001b[0m\u001b[37m\u001b[0m \u001b[1m4s\u001b[0m 340ms/step - categorical_accuracy: 0.1208 - loss: 118.4648\n",
            "Epoch 146/2000\n",
            "\u001b[1m7/7\u001b[0m \u001b[32m━━━━━━━━━━━━━━━━━━━━\u001b[0m\u001b[37m\u001b[0m \u001b[1m2s\u001b[0m 336ms/step - categorical_accuracy: 0.1045 - loss: 1481.1727\n",
            "Epoch 147/2000\n",
            "\u001b[1m7/7\u001b[0m \u001b[32m━━━━━━━━━━━━━━━━━━━━\u001b[0m\u001b[37m\u001b[0m \u001b[1m2s\u001b[0m 222ms/step - categorical_accuracy: 0.1063 - loss: 2269.4211\n",
            "Epoch 148/2000\n",
            "\u001b[1m7/7\u001b[0m \u001b[32m━━━━━━━━━━━━━━━━━━━━\u001b[0m\u001b[37m\u001b[0m \u001b[1m1s\u001b[0m 170ms/step - categorical_accuracy: 0.0618 - loss: 1706.2357\n",
            "Epoch 149/2000\n",
            "\u001b[1m7/7\u001b[0m \u001b[32m━━━━━━━━━━━━━━━━━━━━\u001b[0m\u001b[37m\u001b[0m \u001b[1m1s\u001b[0m 170ms/step - categorical_accuracy: 0.1596 - loss: 973.6067\n",
            "Epoch 150/2000\n",
            "\u001b[1m7/7\u001b[0m \u001b[32m━━━━━━━━━━━━━━━━━━━━\u001b[0m\u001b[37m\u001b[0m \u001b[1m1s\u001b[0m 168ms/step - categorical_accuracy: 0.1015 - loss: 778.2415\n",
            "Epoch 151/2000\n",
            "\u001b[1m7/7\u001b[0m \u001b[32m━━━━━━━━━━━━━━━━━━━━\u001b[0m\u001b[37m\u001b[0m \u001b[1m1s\u001b[0m 171ms/step - categorical_accuracy: 0.1526 - loss: 535.2283\n",
            "Epoch 152/2000\n",
            "\u001b[1m7/7\u001b[0m \u001b[32m━━━━━━━━━━━━━━━━━━━━\u001b[0m\u001b[37m\u001b[0m \u001b[1m1s\u001b[0m 196ms/step - categorical_accuracy: 0.1444 - loss: 306.4485\n",
            "Epoch 153/2000\n",
            "\u001b[1m7/7\u001b[0m \u001b[32m━━━━━━━━━━━━━━━━━━━━\u001b[0m\u001b[37m\u001b[0m \u001b[1m1s\u001b[0m 194ms/step - categorical_accuracy: 0.1325 - loss: 259.0894\n",
            "Epoch 154/2000\n",
            "\u001b[1m7/7\u001b[0m \u001b[32m━━━━━━━━━━━━━━━━━━━━\u001b[0m\u001b[37m\u001b[0m \u001b[1m2s\u001b[0m 225ms/step - categorical_accuracy: 0.0413 - loss: 4.6745\n",
            "Epoch 155/2000\n",
            "\u001b[1m7/7\u001b[0m \u001b[32m━━━━━━━━━━━━━━━━━━━━\u001b[0m\u001b[37m\u001b[0m \u001b[1m3s\u001b[0m 308ms/step - categorical_accuracy: 0.0214 - loss: 2.4028\n",
            "Epoch 156/2000\n",
            "\u001b[1m7/7\u001b[0m \u001b[32m━━━━━━━━━━━━━━━━━━━━\u001b[0m\u001b[37m\u001b[0m \u001b[1m2s\u001b[0m 278ms/step - categorical_accuracy: 0.0272 - loss: 2.4024\n",
            "Epoch 157/2000\n",
            "\u001b[1m7/7\u001b[0m \u001b[32m━━━━━━━━━━━━━━━━━━━━\u001b[0m\u001b[37m\u001b[0m \u001b[1m2s\u001b[0m 168ms/step - categorical_accuracy: 0.0274 - loss: 2.4025\n",
            "Epoch 158/2000\n",
            "\u001b[1m7/7\u001b[0m \u001b[32m━━━━━━━━━━━━━━━━━━━━\u001b[0m\u001b[37m\u001b[0m \u001b[1m1s\u001b[0m 179ms/step - categorical_accuracy: 0.0167 - loss: 2.4023\n",
            "Epoch 159/2000\n",
            "\u001b[1m7/7\u001b[0m \u001b[32m━━━━━━━━━━━━━━━━━━━━\u001b[0m\u001b[37m\u001b[0m \u001b[1m1s\u001b[0m 166ms/step - categorical_accuracy: 0.0295 - loss: 2.4018\n",
            "Epoch 160/2000\n",
            "\u001b[1m7/7\u001b[0m \u001b[32m━━━━━━━━━━━━━━━━━━━━\u001b[0m\u001b[37m\u001b[0m \u001b[1m1s\u001b[0m 181ms/step - categorical_accuracy: 0.0647 - loss: 2.4014\n",
            "Epoch 161/2000\n",
            "\u001b[1m7/7\u001b[0m \u001b[32m━━━━━━━━━━━━━━━━━━━━\u001b[0m\u001b[37m\u001b[0m \u001b[1m2s\u001b[0m 164ms/step - categorical_accuracy: 0.0734 - loss: 2.4002\n",
            "Epoch 162/2000\n",
            "\u001b[1m7/7\u001b[0m \u001b[32m━━━━━━━━━━━━━━━━━━━━\u001b[0m\u001b[37m\u001b[0m \u001b[1m1s\u001b[0m 173ms/step - categorical_accuracy: 0.0767 - loss: 2.4003\n",
            "Epoch 163/2000\n",
            "\u001b[1m7/7\u001b[0m \u001b[32m━━━━━━━━━━━━━━━━━━━━\u001b[0m\u001b[37m\u001b[0m \u001b[1m2s\u001b[0m 311ms/step - categorical_accuracy: 0.0851 - loss: 2.3987\n",
            "Epoch 164/2000\n",
            "\u001b[1m7/7\u001b[0m \u001b[32m━━━━━━━━━━━━━━━━━━━━\u001b[0m\u001b[37m\u001b[0m \u001b[1m2s\u001b[0m 312ms/step - categorical_accuracy: 0.0777 - loss: 2.3980\n",
            "Epoch 165/2000\n",
            "\u001b[1m7/7\u001b[0m \u001b[32m━━━━━━━━━━━━━━━━━━━━\u001b[0m\u001b[37m\u001b[0m \u001b[1m2s\u001b[0m 254ms/step - categorical_accuracy: 0.0709 - loss: 2.3978\n",
            "Epoch 166/2000\n",
            "\u001b[1m7/7\u001b[0m \u001b[32m━━━━━━━━━━━━━━━━━━━━\u001b[0m\u001b[37m\u001b[0m \u001b[1m2s\u001b[0m 179ms/step - categorical_accuracy: 0.0499 - loss: 2.3966\n",
            "Epoch 167/2000\n",
            "\u001b[1m7/7\u001b[0m \u001b[32m━━━━━━━━━━━━━━━━━━━━\u001b[0m\u001b[37m\u001b[0m \u001b[1m1s\u001b[0m 169ms/step - categorical_accuracy: 0.1100 - loss: 2.3972\n",
            "Epoch 168/2000\n",
            "\u001b[1m7/7\u001b[0m \u001b[32m━━━━━━━━━━━━━━━━━━━━\u001b[0m\u001b[37m\u001b[0m \u001b[1m1s\u001b[0m 190ms/step - categorical_accuracy: 0.1449 - loss: 2.3962\n",
            "Epoch 169/2000\n",
            "\u001b[1m7/7\u001b[0m \u001b[32m━━━━━━━━━━━━━━━━━━━━\u001b[0m\u001b[37m\u001b[0m \u001b[1m2s\u001b[0m 167ms/step - categorical_accuracy: 0.1341 - loss: 2.3961\n",
            "Epoch 170/2000\n",
            "\u001b[1m7/7\u001b[0m \u001b[32m━━━━━━━━━━━━━━━━━━━━\u001b[0m\u001b[37m\u001b[0m \u001b[1m1s\u001b[0m 166ms/step - categorical_accuracy: 0.1147 - loss: 2.3964\n",
            "Epoch 171/2000\n",
            "\u001b[1m7/7\u001b[0m \u001b[32m━━━━━━━━━━━━━━━━━━━━\u001b[0m\u001b[37m\u001b[0m \u001b[1m1s\u001b[0m 167ms/step - categorical_accuracy: 0.1384 - loss: 2.3945\n",
            "Epoch 172/2000\n",
            "\u001b[1m7/7\u001b[0m \u001b[32m━━━━━━━━━━━━━━━━━━━━\u001b[0m\u001b[37m\u001b[0m \u001b[1m2s\u001b[0m 279ms/step - categorical_accuracy: 0.1296 - loss: 2.3943\n",
            "Epoch 173/2000\n",
            "\u001b[1m7/7\u001b[0m \u001b[32m━━━━━━━━━━━━━━━━━━━━\u001b[0m\u001b[37m\u001b[0m \u001b[1m2s\u001b[0m 303ms/step - categorical_accuracy: 0.1243 - loss: 2.3943\n",
            "Epoch 174/2000\n",
            "\u001b[1m7/7\u001b[0m \u001b[32m━━━━━━━━━━━━━━━━━━━━\u001b[0m\u001b[37m\u001b[0m \u001b[1m2s\u001b[0m 311ms/step - categorical_accuracy: 0.1171 - loss: 2.3933\n",
            "Epoch 175/2000\n",
            "\u001b[1m7/7\u001b[0m \u001b[32m━━━━━━━━━━━━━━━━━━━━\u001b[0m\u001b[37m\u001b[0m \u001b[1m1s\u001b[0m 179ms/step - categorical_accuracy: 0.1405 - loss: 2.3927\n",
            "Epoch 176/2000\n",
            "\u001b[1m7/7\u001b[0m \u001b[32m━━━━━━━━━━━━━━━━━━━━\u001b[0m\u001b[37m\u001b[0m \u001b[1m1s\u001b[0m 174ms/step - categorical_accuracy: 0.1132 - loss: 2.3906\n",
            "Epoch 177/2000\n",
            "\u001b[1m7/7\u001b[0m \u001b[32m━━━━━━━━━━━━━━━━━━━━\u001b[0m\u001b[37m\u001b[0m \u001b[1m1s\u001b[0m 187ms/step - categorical_accuracy: 0.1355 - loss: 2.3925\n",
            "Epoch 178/2000\n",
            "\u001b[1m7/7\u001b[0m \u001b[32m━━━━━━━━━━━━━━━━━━━━\u001b[0m\u001b[37m\u001b[0m \u001b[1m3s\u001b[0m 186ms/step - categorical_accuracy: 0.1380 - loss: 2.3910\n",
            "Epoch 179/2000\n",
            "\u001b[1m7/7\u001b[0m \u001b[32m━━━━━━━━━━━━━━━━━━━━\u001b[0m\u001b[37m\u001b[0m \u001b[1m1s\u001b[0m 173ms/step - categorical_accuracy: 0.1144 - loss: 2.3908\n",
            "Epoch 180/2000\n",
            "\u001b[1m7/7\u001b[0m \u001b[32m━━━━━━━━━━━━━━━━━━━━\u001b[0m\u001b[37m\u001b[0m \u001b[1m1s\u001b[0m 169ms/step - categorical_accuracy: 0.0924 - loss: 2.3914\n",
            "Epoch 181/2000\n",
            "\u001b[1m7/7\u001b[0m \u001b[32m━━━━━━━━━━━━━━━━━━━━\u001b[0m\u001b[37m\u001b[0m \u001b[1m1s\u001b[0m 167ms/step - categorical_accuracy: 0.1083 - loss: 2.3891\n",
            "Epoch 182/2000\n",
            "\u001b[1m7/7\u001b[0m \u001b[32m━━━━━━━━━━━━━━━━━━━━\u001b[0m\u001b[37m\u001b[0m \u001b[1m2s\u001b[0m 284ms/step - categorical_accuracy: 0.1178 - loss: 2.3877\n",
            "Epoch 183/2000\n",
            "\u001b[1m7/7\u001b[0m \u001b[32m━━━━━━━━━━━━━━━━━━━━\u001b[0m\u001b[37m\u001b[0m \u001b[1m2s\u001b[0m 321ms/step - categorical_accuracy: 0.1334 - loss: 2.3882\n",
            "Epoch 184/2000\n",
            "\u001b[1m7/7\u001b[0m \u001b[32m━━━━━━━━━━━━━━━━━━━━\u001b[0m\u001b[37m\u001b[0m \u001b[1m2s\u001b[0m 319ms/step - categorical_accuracy: 0.1232 - loss: 2.3888\n",
            "Epoch 185/2000\n",
            "\u001b[1m7/7\u001b[0m \u001b[32m━━━━━━━━━━━━━━━━━━━━\u001b[0m\u001b[37m\u001b[0m \u001b[1m1s\u001b[0m 177ms/step - categorical_accuracy: 0.1102 - loss: 2.3888\n",
            "Epoch 186/2000\n",
            "\u001b[1m7/7\u001b[0m \u001b[32m━━━━━━━━━━━━━━━━━━━━\u001b[0m\u001b[37m\u001b[0m \u001b[1m2s\u001b[0m 180ms/step - categorical_accuracy: 0.1007 - loss: 2.3887\n",
            "Epoch 187/2000\n",
            "\u001b[1m7/7\u001b[0m \u001b[32m━━━━━━━━━━━━━━━━━━━━\u001b[0m\u001b[37m\u001b[0m \u001b[1m1s\u001b[0m 179ms/step - categorical_accuracy: 0.1286 - loss: 2.3858\n",
            "Epoch 188/2000\n",
            "\u001b[1m7/7\u001b[0m \u001b[32m━━━━━━━━━━━━━━━━━━━━\u001b[0m\u001b[37m\u001b[0m \u001b[1m2s\u001b[0m 212ms/step - categorical_accuracy: 0.1153 - loss: 2.3866\n",
            "Epoch 189/2000\n",
            "\u001b[1m7/7\u001b[0m \u001b[32m━━━━━━━━━━━━━━━━━━━━\u001b[0m\u001b[37m\u001b[0m \u001b[1m2s\u001b[0m 179ms/step - categorical_accuracy: 0.1080 - loss: 2.3856\n",
            "Epoch 190/2000\n",
            "\u001b[1m7/7\u001b[0m \u001b[32m━━━━━━━━━━━━━━━━━━━━\u001b[0m\u001b[37m\u001b[0m \u001b[1m1s\u001b[0m 165ms/step - categorical_accuracy: 0.0868 - loss: 2.3865\n",
            "Epoch 191/2000\n",
            "\u001b[1m7/7\u001b[0m \u001b[32m━━━━━━━━━━━━━━━━━━━━\u001b[0m\u001b[37m\u001b[0m \u001b[1m2s\u001b[0m 287ms/step - categorical_accuracy: 0.1248 - loss: 2.3844\n",
            "Epoch 192/2000\n",
            "\u001b[1m7/7\u001b[0m \u001b[32m━━━━━━━━━━━━━━━━━━━━\u001b[0m\u001b[37m\u001b[0m \u001b[1m3s\u001b[0m 293ms/step - categorical_accuracy: 0.1323 - loss: 2.3828\n",
            "Epoch 193/2000\n",
            "\u001b[1m7/7\u001b[0m \u001b[32m━━━━━━━━━━━━━━━━━━━━\u001b[0m\u001b[37m\u001b[0m \u001b[1m2s\u001b[0m 235ms/step - categorical_accuracy: 0.1077 - loss: 2.3826\n",
            "Epoch 194/2000\n",
            "\u001b[1m7/7\u001b[0m \u001b[32m━━━━━━━━━━━━━━━━━━━━\u001b[0m\u001b[37m\u001b[0m \u001b[1m2s\u001b[0m 165ms/step - categorical_accuracy: 0.1282 - loss: 2.3820\n",
            "Epoch 195/2000\n",
            "\u001b[1m7/7\u001b[0m \u001b[32m━━━━━━━━━━━━━━━━━━━━\u001b[0m\u001b[37m\u001b[0m \u001b[1m1s\u001b[0m 167ms/step - categorical_accuracy: 0.1123 - loss: 2.3859\n",
            "Epoch 196/2000\n",
            "\u001b[1m7/7\u001b[0m \u001b[32m━━━━━━━━━━━━━━━━━━━━\u001b[0m\u001b[37m\u001b[0m \u001b[1m1s\u001b[0m 183ms/step - categorical_accuracy: 0.1097 - loss: 2.3828\n",
            "Epoch 197/2000\n",
            "\u001b[1m7/7\u001b[0m \u001b[32m━━━━━━━━━━━━━━━━━━━━\u001b[0m\u001b[37m\u001b[0m \u001b[1m2s\u001b[0m 169ms/step - categorical_accuracy: 0.1024 - loss: 2.3816\n",
            "Epoch 198/2000\n",
            "\u001b[1m7/7\u001b[0m \u001b[32m━━━━━━━━━━━━━━━━━━━━\u001b[0m\u001b[37m\u001b[0m \u001b[1m1s\u001b[0m 167ms/step - categorical_accuracy: 0.1184 - loss: 2.3817\n",
            "Epoch 199/2000\n",
            "\u001b[1m7/7\u001b[0m \u001b[32m━━━━━━━━━━━━━━━━━━━━\u001b[0m\u001b[37m\u001b[0m \u001b[1m1s\u001b[0m 183ms/step - categorical_accuracy: 0.1113 - loss: 2.3804\n",
            "Epoch 200/2000\n",
            "\u001b[1m7/7\u001b[0m \u001b[32m━━━━━━━━━━━━━━━━━━━━\u001b[0m\u001b[37m\u001b[0m \u001b[1m3s\u001b[0m 306ms/step - categorical_accuracy: 0.1124 - loss: 2.3810\n",
            "Epoch 201/2000\n",
            "\u001b[1m7/7\u001b[0m \u001b[32m━━━━━━━━━━━━━━━━━━━━\u001b[0m\u001b[37m\u001b[0m \u001b[1m2s\u001b[0m 186ms/step - categorical_accuracy: 0.1281 - loss: 2.3788\n",
            "Epoch 202/2000\n",
            "\u001b[1m7/7\u001b[0m \u001b[32m━━━━━━━━━━━━━━━━━━━━\u001b[0m\u001b[37m\u001b[0m \u001b[1m2s\u001b[0m 176ms/step - categorical_accuracy: 0.0938 - loss: 2.3801\n",
            "Epoch 203/2000\n",
            "\u001b[1m7/7\u001b[0m \u001b[32m━━━━━━━━━━━━━━━━━━━━\u001b[0m\u001b[37m\u001b[0m \u001b[1m1s\u001b[0m 167ms/step - categorical_accuracy: 0.1155 - loss: 2.3796\n",
            "Epoch 204/2000\n",
            "\u001b[1m7/7\u001b[0m \u001b[32m━━━━━━━━━━━━━━━━━━━━\u001b[0m\u001b[37m\u001b[0m \u001b[1m1s\u001b[0m 168ms/step - categorical_accuracy: 0.1326 - loss: 2.3772\n",
            "Epoch 205/2000\n",
            "\u001b[1m7/7\u001b[0m \u001b[32m━━━━━━━━━━━━━━━━━━━━\u001b[0m\u001b[37m\u001b[0m \u001b[1m1s\u001b[0m 181ms/step - categorical_accuracy: 0.1291 - loss: 2.3795\n",
            "Epoch 206/2000\n",
            "\u001b[1m7/7\u001b[0m \u001b[32m━━━━━━━━━━━━━━━━━━━━\u001b[0m\u001b[37m\u001b[0m \u001b[1m1s\u001b[0m 165ms/step - categorical_accuracy: 0.1276 - loss: 2.3769\n",
            "Epoch 207/2000\n",
            "\u001b[1m7/7\u001b[0m \u001b[32m━━━━━━━━━━━━━━━━━━━━\u001b[0m\u001b[37m\u001b[0m \u001b[1m1s\u001b[0m 167ms/step - categorical_accuracy: 0.1001 - loss: 2.3774\n",
            "Epoch 208/2000\n",
            "\u001b[1m7/7\u001b[0m \u001b[32m━━━━━━━━━━━━━━━━━━━━\u001b[0m\u001b[37m\u001b[0m \u001b[1m2s\u001b[0m 293ms/step - categorical_accuracy: 0.1494 - loss: 2.3765\n",
            "Epoch 209/2000\n",
            "\u001b[1m7/7\u001b[0m \u001b[32m━━━━━━━━━━━━━━━━━━━━\u001b[0m\u001b[37m\u001b[0m \u001b[1m3s\u001b[0m 281ms/step - categorical_accuracy: 0.1380 - loss: 2.3757\n",
            "Epoch 210/2000\n",
            "\u001b[1m7/7\u001b[0m \u001b[32m━━━━━━━━━━━━━━━━━━━━\u001b[0m\u001b[37m\u001b[0m \u001b[1m2s\u001b[0m 167ms/step - categorical_accuracy: 0.1238 - loss: 2.3774\n",
            "Epoch 211/2000\n",
            "\u001b[1m7/7\u001b[0m \u001b[32m━━━━━━━━━━━━━━━━━━━━\u001b[0m\u001b[37m\u001b[0m \u001b[1m1s\u001b[0m 180ms/step - categorical_accuracy: 0.1574 - loss: 2.3749\n",
            "Epoch 212/2000\n",
            "\u001b[1m7/7\u001b[0m \u001b[32m━━━━━━━━━━━━━━━━━━━━\u001b[0m\u001b[37m\u001b[0m \u001b[1m2s\u001b[0m 166ms/step - categorical_accuracy: 0.1378 - loss: 2.3757\n",
            "Epoch 213/2000\n",
            "\u001b[1m7/7\u001b[0m \u001b[32m━━━━━━━━━━━━━━━━━━━━\u001b[0m\u001b[37m\u001b[0m \u001b[1m1s\u001b[0m 169ms/step - categorical_accuracy: 0.1322 - loss: 2.3742\n",
            "Epoch 214/2000\n",
            "\u001b[1m7/7\u001b[0m \u001b[32m━━━━━━━━━━━━━━━━━━━━\u001b[0m\u001b[37m\u001b[0m \u001b[1m1s\u001b[0m 168ms/step - categorical_accuracy: 0.1340 - loss: 2.3742\n",
            "Epoch 215/2000\n",
            "\u001b[1m7/7\u001b[0m \u001b[32m━━━━━━━━━━━━━━━━━━━━\u001b[0m\u001b[37m\u001b[0m \u001b[1m1s\u001b[0m 171ms/step - categorical_accuracy: 0.1235 - loss: 2.3744\n",
            "Epoch 216/2000\n",
            "\u001b[1m7/7\u001b[0m \u001b[32m━━━━━━━━━━━━━━━━━━━━\u001b[0m\u001b[37m\u001b[0m \u001b[1m2s\u001b[0m 208ms/step - categorical_accuracy: 0.1652 - loss: 2.3689\n",
            "Epoch 217/2000\n",
            "\u001b[1m7/7\u001b[0m \u001b[32m━━━━━━━━━━━━━━━━━━━━\u001b[0m\u001b[37m\u001b[0m \u001b[1m2s\u001b[0m 286ms/step - categorical_accuracy: 0.1476 - loss: 2.3718\n",
            "Epoch 218/2000\n",
            "\u001b[1m7/7\u001b[0m \u001b[32m━━━━━━━━━━━━━━━━━━━━\u001b[0m\u001b[37m\u001b[0m \u001b[1m3s\u001b[0m 300ms/step - categorical_accuracy: 0.1738 - loss: 2.3732\n",
            "Epoch 219/2000\n",
            "\u001b[1m7/7\u001b[0m \u001b[32m━━━━━━━━━━━━━━━━━━━━\u001b[0m\u001b[37m\u001b[0m \u001b[1m2s\u001b[0m 168ms/step - categorical_accuracy: 0.1211 - loss: 2.3726\n",
            "Epoch 220/2000\n",
            "\u001b[1m7/7\u001b[0m \u001b[32m━━━━━━━━━━━━━━━━━━━━\u001b[0m\u001b[37m\u001b[0m \u001b[1m1s\u001b[0m 168ms/step - categorical_accuracy: 0.1370 - loss: 2.3714\n",
            "Epoch 221/2000\n",
            "\u001b[1m7/7\u001b[0m \u001b[32m━━━━━━━━━━━━━━━━━━━━\u001b[0m\u001b[37m\u001b[0m \u001b[1m1s\u001b[0m 176ms/step - categorical_accuracy: 0.1321 - loss: 2.3723\n",
            "Epoch 222/2000\n",
            "\u001b[1m7/7\u001b[0m \u001b[32m━━━━━━━━━━━━━━━━━━━━\u001b[0m\u001b[37m\u001b[0m \u001b[1m1s\u001b[0m 178ms/step - categorical_accuracy: 0.1197 - loss: 2.3749\n",
            "Epoch 223/2000\n",
            "\u001b[1m7/7\u001b[0m \u001b[32m━━━━━━━━━━━━━━━━━━━━\u001b[0m\u001b[37m\u001b[0m \u001b[1m2s\u001b[0m 173ms/step - categorical_accuracy: 0.1316 - loss: 2.3653\n",
            "Epoch 224/2000\n",
            "\u001b[1m7/7\u001b[0m \u001b[32m━━━━━━━━━━━━━━━━━━━━\u001b[0m\u001b[37m\u001b[0m \u001b[1m1s\u001b[0m 186ms/step - categorical_accuracy: 0.1332 - loss: 2.3703\n",
            "Epoch 225/2000\n",
            "\u001b[1m7/7\u001b[0m \u001b[32m━━━━━━━━━━━━━━━━━━━━\u001b[0m\u001b[37m\u001b[0m \u001b[1m3s\u001b[0m 310ms/step - categorical_accuracy: 0.1441 - loss: 2.3685\n",
            "Epoch 226/2000\n",
            "\u001b[1m7/7\u001b[0m \u001b[32m━━━━━━━━━━━━━━━━━━━━\u001b[0m\u001b[37m\u001b[0m \u001b[1m3s\u001b[0m 317ms/step - categorical_accuracy: 0.1495 - loss: 2.3663\n",
            "Epoch 227/2000\n",
            "\u001b[1m7/7\u001b[0m \u001b[32m━━━━━━━━━━━━━━━━━━━━\u001b[0m\u001b[37m\u001b[0m \u001b[1m2s\u001b[0m 188ms/step - categorical_accuracy: 0.1684 - loss: 2.3662\n",
            "Epoch 228/2000\n",
            "\u001b[1m7/7\u001b[0m \u001b[32m━━━━━━━━━━━━━━━━━━━━\u001b[0m\u001b[37m\u001b[0m \u001b[1m1s\u001b[0m 176ms/step - categorical_accuracy: 0.1110 - loss: 2.3695\n",
            "Epoch 229/2000\n",
            "\u001b[1m7/7\u001b[0m \u001b[32m━━━━━━━━━━━━━━━━━━━━\u001b[0m\u001b[37m\u001b[0m \u001b[1m3s\u001b[0m 173ms/step - categorical_accuracy: 0.1503 - loss: 2.3631\n",
            "Epoch 230/2000\n",
            "\u001b[1m7/7\u001b[0m \u001b[32m━━━━━━━━━━━━━━━━━━━━\u001b[0m\u001b[37m\u001b[0m \u001b[1m3s\u001b[0m 177ms/step - categorical_accuracy: 0.1333 - loss: 2.3652\n",
            "Epoch 231/2000\n",
            "\u001b[1m7/7\u001b[0m \u001b[32m━━━━━━━━━━━━━━━━━━━━\u001b[0m\u001b[37m\u001b[0m \u001b[1m3s\u001b[0m 210ms/step - categorical_accuracy: 0.1235 - loss: 2.3645\n",
            "Epoch 232/2000\n",
            "\u001b[1m7/7\u001b[0m \u001b[32m━━━━━━━━━━━━━━━━━━━━\u001b[0m\u001b[37m\u001b[0m \u001b[1m3s\u001b[0m 320ms/step - categorical_accuracy: 0.1304 - loss: 2.3620\n",
            "Epoch 233/2000\n",
            "\u001b[1m7/7\u001b[0m \u001b[32m━━━━━━━━━━━━━━━━━━━━\u001b[0m\u001b[37m\u001b[0m \u001b[1m2s\u001b[0m 184ms/step - categorical_accuracy: 0.1231 - loss: 2.3625\n",
            "Epoch 234/2000\n",
            "\u001b[1m7/7\u001b[0m \u001b[32m━━━━━━━━━━━━━━━━━━━━\u001b[0m\u001b[37m\u001b[0m \u001b[1m1s\u001b[0m 167ms/step - categorical_accuracy: 0.1505 - loss: 2.3605\n",
            "Epoch 235/2000\n",
            "\u001b[1m7/7\u001b[0m \u001b[32m━━━━━━━━━━━━━━━━━━━━\u001b[0m\u001b[37m\u001b[0m \u001b[1m1s\u001b[0m 167ms/step - categorical_accuracy: 0.1299 - loss: 2.3633\n",
            "Epoch 236/2000\n",
            "\u001b[1m7/7\u001b[0m \u001b[32m━━━━━━━━━━━━━━━━━━━━\u001b[0m\u001b[37m\u001b[0m \u001b[1m1s\u001b[0m 177ms/step - categorical_accuracy: 0.1303 - loss: 2.3634\n",
            "Epoch 237/2000\n",
            "\u001b[1m7/7\u001b[0m \u001b[32m━━━━━━━━━━━━━━━━━━━━\u001b[0m\u001b[37m\u001b[0m \u001b[1m1s\u001b[0m 169ms/step - categorical_accuracy: 0.1364 - loss: 2.3620\n",
            "Epoch 238/2000\n",
            "\u001b[1m7/7\u001b[0m \u001b[32m━━━━━━━━━━━━━━━━━━━━\u001b[0m\u001b[37m\u001b[0m \u001b[1m1s\u001b[0m 184ms/step - categorical_accuracy: 0.1572 - loss: 2.3641\n",
            "Epoch 239/2000\n",
            "\u001b[1m7/7\u001b[0m \u001b[32m━━━━━━━━━━━━━━━━━━━━\u001b[0m\u001b[37m\u001b[0m \u001b[1m3s\u001b[0m 181ms/step - categorical_accuracy: 0.1236 - loss: 2.3745\n",
            "Epoch 240/2000\n",
            "\u001b[1m7/7\u001b[0m \u001b[32m━━━━━━━━━━━━━━━━━━━━\u001b[0m\u001b[37m\u001b[0m \u001b[1m2s\u001b[0m 286ms/step - categorical_accuracy: 0.1623 - loss: 2.3569\n",
            "Epoch 241/2000\n",
            "\u001b[1m7/7\u001b[0m \u001b[32m━━━━━━━━━━━━━━━━━━━━\u001b[0m\u001b[37m\u001b[0m \u001b[1m3s\u001b[0m 293ms/step - categorical_accuracy: 0.1645 - loss: 2.3626\n",
            "Epoch 242/2000\n",
            "\u001b[1m7/7\u001b[0m \u001b[32m━━━━━━━━━━━━━━━━━━━━\u001b[0m\u001b[37m\u001b[0m \u001b[1m2s\u001b[0m 214ms/step - categorical_accuracy: 0.1163 - loss: 2.3669\n",
            "Epoch 243/2000\n",
            "\u001b[1m7/7\u001b[0m \u001b[32m━━━━━━━━━━━━━━━━━━━━\u001b[0m\u001b[37m\u001b[0m \u001b[1m2s\u001b[0m 168ms/step - categorical_accuracy: 0.1393 - loss: 2.3605\n",
            "Epoch 244/2000\n",
            "\u001b[1m7/7\u001b[0m \u001b[32m━━━━━━━━━━━━━━━━━━━━\u001b[0m\u001b[37m\u001b[0m \u001b[1m1s\u001b[0m 168ms/step - categorical_accuracy: 0.1433 - loss: 2.3592\n",
            "Epoch 245/2000\n",
            "\u001b[1m7/7\u001b[0m \u001b[32m━━━━━━━━━━━━━━━━━━━━\u001b[0m\u001b[37m\u001b[0m \u001b[1m1s\u001b[0m 172ms/step - categorical_accuracy: 0.1156 - loss: 2.3612\n",
            "Epoch 246/2000\n",
            "\u001b[1m7/7\u001b[0m \u001b[32m━━━━━━━━━━━━━━━━━━━━\u001b[0m\u001b[37m\u001b[0m \u001b[1m1s\u001b[0m 173ms/step - categorical_accuracy: 0.1617 - loss: 2.3557\n",
            "Epoch 247/2000\n",
            "\u001b[1m7/7\u001b[0m \u001b[32m━━━━━━━━━━━━━━━━━━━━\u001b[0m\u001b[37m\u001b[0m \u001b[1m1s\u001b[0m 172ms/step - categorical_accuracy: 0.1392 - loss: 2.3589\n",
            "Epoch 248/2000\n",
            "\u001b[1m7/7\u001b[0m \u001b[32m━━━━━━━━━━━━━━━━━━━━\u001b[0m\u001b[37m\u001b[0m \u001b[1m1s\u001b[0m 182ms/step - categorical_accuracy: 0.1295 - loss: 2.3559\n",
            "Epoch 249/2000\n",
            "\u001b[1m7/7\u001b[0m \u001b[32m━━━━━━━━━━━━━━━━━━━━\u001b[0m\u001b[37m\u001b[0m \u001b[1m1s\u001b[0m 214ms/step - categorical_accuracy: 0.1050 - loss: 2.3586\n",
            "Epoch 250/2000\n",
            "\u001b[1m7/7\u001b[0m \u001b[32m━━━━━━━━━━━━━━━━━━━━\u001b[0m\u001b[37m\u001b[0m \u001b[1m2s\u001b[0m 284ms/step - categorical_accuracy: 0.1275 - loss: 2.3577\n",
            "Epoch 251/2000\n",
            "\u001b[1m7/7\u001b[0m \u001b[32m━━━━━━━━━━━━━━━━━━━━\u001b[0m\u001b[37m\u001b[0m \u001b[1m2s\u001b[0m 294ms/step - categorical_accuracy: 0.1359 - loss: 2.3637\n",
            "Epoch 252/2000\n",
            "\u001b[1m7/7\u001b[0m \u001b[32m━━━━━━━━━━━━━━━━━━━━\u001b[0m\u001b[37m\u001b[0m \u001b[1m2s\u001b[0m 291ms/step - categorical_accuracy: 0.1475 - loss: 2.3537\n",
            "Epoch 253/2000\n",
            "\u001b[1m7/7\u001b[0m \u001b[32m━━━━━━━━━━━━━━━━━━━━\u001b[0m\u001b[37m\u001b[0m \u001b[1m1s\u001b[0m 192ms/step - categorical_accuracy: 0.1724 - loss: 2.3551\n",
            "Epoch 254/2000\n",
            "\u001b[1m7/7\u001b[0m \u001b[32m━━━━━━━━━━━━━━━━━━━━\u001b[0m\u001b[37m\u001b[0m \u001b[1m1s\u001b[0m 189ms/step - categorical_accuracy: 0.1302 - loss: 2.3551\n",
            "Epoch 255/2000\n",
            "\u001b[1m7/7\u001b[0m \u001b[32m━━━━━━━━━━━━━━━━━━━━\u001b[0m\u001b[37m\u001b[0m \u001b[1m1s\u001b[0m 176ms/step - categorical_accuracy: 0.1559 - loss: 2.3572\n",
            "Epoch 256/2000\n",
            "\u001b[1m7/7\u001b[0m \u001b[32m━━━━━━━━━━━━━━━━━━━━\u001b[0m\u001b[37m\u001b[0m \u001b[1m1s\u001b[0m 182ms/step - categorical_accuracy: 0.1248 - loss: 2.3606\n",
            "Epoch 257/2000\n",
            "\u001b[1m7/7\u001b[0m \u001b[32m━━━━━━━━━━━━━━━━━━━━\u001b[0m\u001b[37m\u001b[0m \u001b[1m3s\u001b[0m 186ms/step - categorical_accuracy: 0.1201 - loss: 2.3552\n",
            "Epoch 258/2000\n",
            "\u001b[1m7/7\u001b[0m \u001b[32m━━━━━━━━━━━━━━━━━━━━\u001b[0m\u001b[37m\u001b[0m \u001b[1m3s\u001b[0m 241ms/step - categorical_accuracy: 0.1320 - loss: 2.3619\n",
            "Epoch 259/2000\n",
            "\u001b[1m7/7\u001b[0m \u001b[32m━━━━━━━━━━━━━━━━━━━━\u001b[0m\u001b[37m\u001b[0m \u001b[1m3s\u001b[0m 292ms/step - categorical_accuracy: 0.1441 - loss: 2.3531\n",
            "Epoch 260/2000\n",
            "\u001b[1m7/7\u001b[0m \u001b[32m━━━━━━━━━━━━━━━━━━━━\u001b[0m\u001b[37m\u001b[0m \u001b[1m2s\u001b[0m 244ms/step - categorical_accuracy: 0.1517 - loss: 2.3528\n",
            "Epoch 261/2000\n",
            "\u001b[1m7/7\u001b[0m \u001b[32m━━━━━━━━━━━━━━━━━━━━\u001b[0m\u001b[37m\u001b[0m \u001b[1m1s\u001b[0m 181ms/step - categorical_accuracy: 0.1311 - loss: 2.3482\n",
            "Epoch 262/2000\n",
            "\u001b[1m7/7\u001b[0m \u001b[32m━━━━━━━━━━━━━━━━━━━━\u001b[0m\u001b[37m\u001b[0m \u001b[1m1s\u001b[0m 171ms/step - categorical_accuracy: 0.1218 - loss: 2.3569\n",
            "Epoch 263/2000\n",
            "\u001b[1m7/7\u001b[0m \u001b[32m━━━━━━━━━━━━━━━━━━━━\u001b[0m\u001b[37m\u001b[0m \u001b[1m1s\u001b[0m 172ms/step - categorical_accuracy: 0.1432 - loss: 2.3486\n",
            "Epoch 264/2000\n",
            "\u001b[1m7/7\u001b[0m \u001b[32m━━━━━━━━━━━━━━━━━━━━\u001b[0m\u001b[37m\u001b[0m \u001b[1m1s\u001b[0m 169ms/step - categorical_accuracy: 0.1496 - loss: 2.3543\n",
            "Epoch 265/2000\n",
            "\u001b[1m7/7\u001b[0m \u001b[32m━━━━━━━━━━━━━━━━━━━━\u001b[0m\u001b[37m\u001b[0m \u001b[1m1s\u001b[0m 172ms/step - categorical_accuracy: 0.1342 - loss: 2.3517\n",
            "Epoch 266/2000\n",
            "\u001b[1m7/7\u001b[0m \u001b[32m━━━━━━━━━━━━━━━━━━━━\u001b[0m\u001b[37m\u001b[0m \u001b[1m1s\u001b[0m 169ms/step - categorical_accuracy: 0.1202 - loss: 2.3472\n",
            "Epoch 267/2000\n",
            "\u001b[1m7/7\u001b[0m \u001b[32m━━━━━━━━━━━━━━━━━━━━\u001b[0m\u001b[37m\u001b[0m \u001b[1m1s\u001b[0m 168ms/step - categorical_accuracy: 0.1322 - loss: 2.3560\n",
            "Epoch 268/2000\n",
            "\u001b[1m7/7\u001b[0m \u001b[32m━━━━━━━━━━━━━━━━━━━━\u001b[0m\u001b[37m\u001b[0m \u001b[1m2s\u001b[0m 262ms/step - categorical_accuracy: 0.1085 - loss: 2.3544\n",
            "Epoch 269/2000\n",
            "\u001b[1m7/7\u001b[0m \u001b[32m━━━━━━━━━━━━━━━━━━━━\u001b[0m\u001b[37m\u001b[0m \u001b[1m3s\u001b[0m 310ms/step - categorical_accuracy: 0.1355 - loss: 2.3530\n",
            "Epoch 270/2000\n",
            "\u001b[1m7/7\u001b[0m \u001b[32m━━━━━━━━━━━━━━━━━━━━\u001b[0m\u001b[37m\u001b[0m \u001b[1m2s\u001b[0m 316ms/step - categorical_accuracy: 0.1434 - loss: 2.3477\n",
            "Epoch 271/2000\n",
            "\u001b[1m7/7\u001b[0m \u001b[32m━━━━━━━━━━━━━━━━━━━━\u001b[0m\u001b[37m\u001b[0m \u001b[1m1s\u001b[0m 170ms/step - categorical_accuracy: 0.1079 - loss: 2.3551\n",
            "Epoch 272/2000\n",
            "\u001b[1m7/7\u001b[0m \u001b[32m━━━━━━━━━━━━━━━━━━━━\u001b[0m\u001b[37m\u001b[0m \u001b[1m1s\u001b[0m 169ms/step - categorical_accuracy: 0.1605 - loss: 2.3431\n",
            "Epoch 273/2000\n",
            "\u001b[1m7/7\u001b[0m \u001b[32m━━━━━━━━━━━━━━━━━━━━\u001b[0m\u001b[37m\u001b[0m \u001b[1m1s\u001b[0m 170ms/step - categorical_accuracy: 0.1261 - loss: 2.3532\n",
            "Epoch 274/2000\n",
            "\u001b[1m7/7\u001b[0m \u001b[32m━━━━━━━━━━━━━━━━━━━━\u001b[0m\u001b[37m\u001b[0m \u001b[1m1s\u001b[0m 170ms/step - categorical_accuracy: 0.1359 - loss: 2.3529\n",
            "Epoch 275/2000\n",
            "\u001b[1m7/7\u001b[0m \u001b[32m━━━━━━━━━━━━━━━━━━━━\u001b[0m\u001b[37m\u001b[0m \u001b[1m1s\u001b[0m 168ms/step - categorical_accuracy: 0.1226 - loss: 2.3467\n",
            "Epoch 276/2000\n",
            "\u001b[1m7/7\u001b[0m \u001b[32m━━━━━━━━━━━━━━━━━━━━\u001b[0m\u001b[37m\u001b[0m \u001b[1m1s\u001b[0m 172ms/step - categorical_accuracy: 0.1070 - loss: 2.3427\n",
            "Epoch 277/2000\n",
            "\u001b[1m7/7\u001b[0m \u001b[32m━━━━━━━━━━━━━━━━━━━━\u001b[0m\u001b[37m\u001b[0m \u001b[1m1s\u001b[0m 187ms/step - categorical_accuracy: 0.1314 - loss: 2.3479\n",
            "Epoch 278/2000\n",
            "\u001b[1m7/7\u001b[0m \u001b[32m━━━━━━━━━━━━━━━━━━━━\u001b[0m\u001b[37m\u001b[0m \u001b[1m3s\u001b[0m 305ms/step - categorical_accuracy: 0.1213 - loss: 2.3460\n",
            "Epoch 279/2000\n",
            "\u001b[1m7/7\u001b[0m \u001b[32m━━━━━━━━━━━━━━━━━━━━\u001b[0m\u001b[37m\u001b[0m \u001b[1m2s\u001b[0m 293ms/step - categorical_accuracy: 0.1368 - loss: 2.3436\n",
            "Epoch 280/2000\n",
            "\u001b[1m7/7\u001b[0m \u001b[32m━━━━━━━━━━━━━━━━━━━━\u001b[0m\u001b[37m\u001b[0m \u001b[1m2s\u001b[0m 183ms/step - categorical_accuracy: 0.1241 - loss: 2.3558\n",
            "Epoch 281/2000\n",
            "\u001b[1m7/7\u001b[0m \u001b[32m━━━━━━━━━━━━━━━━━━━━\u001b[0m\u001b[37m\u001b[0m \u001b[1m3s\u001b[0m 176ms/step - categorical_accuracy: 0.1295 - loss: 2.3436\n",
            "Epoch 282/2000\n",
            "\u001b[1m7/7\u001b[0m \u001b[32m━━━━━━━━━━━━━━━━━━━━\u001b[0m\u001b[37m\u001b[0m \u001b[1m1s\u001b[0m 179ms/step - categorical_accuracy: 0.1320 - loss: 2.3550\n",
            "Epoch 283/2000\n",
            "\u001b[1m7/7\u001b[0m \u001b[32m━━━━━━━━━━━━━━━━━━━━\u001b[0m\u001b[37m\u001b[0m \u001b[1m1s\u001b[0m 181ms/step - categorical_accuracy: 0.1367 - loss: 2.3445\n",
            "Epoch 284/2000\n",
            "\u001b[1m7/7\u001b[0m \u001b[32m━━━━━━━━━━━━━━━━━━━━\u001b[0m\u001b[37m\u001b[0m \u001b[1m1s\u001b[0m 186ms/step - categorical_accuracy: 0.1408 - loss: 2.3401\n",
            "Epoch 285/2000\n",
            "\u001b[1m7/7\u001b[0m \u001b[32m━━━━━━━━━━━━━━━━━━━━\u001b[0m\u001b[37m\u001b[0m \u001b[1m1s\u001b[0m 179ms/step - categorical_accuracy: 0.1436 - loss: 2.3466\n",
            "Epoch 286/2000\n",
            "\u001b[1m7/7\u001b[0m \u001b[32m━━━━━━━━━━━━━━━━━━━━\u001b[0m\u001b[37m\u001b[0m \u001b[1m3s\u001b[0m 296ms/step - categorical_accuracy: 0.1419 - loss: 2.3423\n",
            "Epoch 287/2000\n",
            "\u001b[1m7/7\u001b[0m \u001b[32m━━━━━━━━━━━━━━━━━━━━\u001b[0m\u001b[37m\u001b[0m \u001b[1m3s\u001b[0m 300ms/step - categorical_accuracy: 0.1179 - loss: 2.3450\n",
            "Epoch 288/2000\n",
            "\u001b[1m7/7\u001b[0m \u001b[32m━━━━━━━━━━━━━━━━━━━━\u001b[0m\u001b[37m\u001b[0m \u001b[1m2s\u001b[0m 186ms/step - categorical_accuracy: 0.1352 - loss: 2.3377\n",
            "Epoch 289/2000\n",
            "\u001b[1m7/7\u001b[0m \u001b[32m━━━━━━━━━━━━━━━━━━━━\u001b[0m\u001b[37m\u001b[0m \u001b[1m2s\u001b[0m 174ms/step - categorical_accuracy: 0.1292 - loss: 2.3426\n",
            "Epoch 290/2000\n",
            "\u001b[1m7/7\u001b[0m \u001b[32m━━━━━━━━━━━━━━━━━━━━\u001b[0m\u001b[37m\u001b[0m \u001b[1m1s\u001b[0m 188ms/step - categorical_accuracy: 0.1277 - loss: 2.3424\n",
            "Epoch 291/2000\n",
            "\u001b[1m7/7\u001b[0m \u001b[32m━━━━━━━━━━━━━━━━━━━━\u001b[0m\u001b[37m\u001b[0m \u001b[1m3s\u001b[0m 187ms/step - categorical_accuracy: 0.0939 - loss: 2.3404\n",
            "Epoch 292/2000\n",
            "\u001b[1m7/7\u001b[0m \u001b[32m━━━━━━━━━━━━━━━━━━━━\u001b[0m\u001b[37m\u001b[0m \u001b[1m1s\u001b[0m 170ms/step - categorical_accuracy: 0.1647 - loss: 2.3436\n",
            "Epoch 293/2000\n",
            "\u001b[1m7/7\u001b[0m \u001b[32m━━━━━━━━━━━━━━━━━━━━\u001b[0m\u001b[37m\u001b[0m \u001b[1m2s\u001b[0m 228ms/step - categorical_accuracy: 0.1240 - loss: 2.3448\n",
            "Epoch 294/2000\n",
            "\u001b[1m7/7\u001b[0m \u001b[32m━━━━━━━━━━━━━━━━━━━━\u001b[0m\u001b[37m\u001b[0m \u001b[1m2s\u001b[0m 296ms/step - categorical_accuracy: 0.1352 - loss: 2.3379\n",
            "Epoch 295/2000\n",
            "\u001b[1m7/7\u001b[0m \u001b[32m━━━━━━━━━━━━━━━━━━━━\u001b[0m\u001b[37m\u001b[0m \u001b[1m3s\u001b[0m 310ms/step - categorical_accuracy: 0.1609 - loss: 2.3395\n",
            "Epoch 296/2000\n",
            "\u001b[1m7/7\u001b[0m \u001b[32m━━━━━━━━━━━━━━━━━━━━\u001b[0m\u001b[37m\u001b[0m \u001b[1m2s\u001b[0m 209ms/step - categorical_accuracy: 0.1383 - loss: 2.3432\n",
            "Epoch 297/2000\n",
            "\u001b[1m7/7\u001b[0m \u001b[32m━━━━━━━━━━━━━━━━━━━━\u001b[0m\u001b[37m\u001b[0m \u001b[1m1s\u001b[0m 182ms/step - categorical_accuracy: 0.1534 - loss: 2.3297\n",
            "Epoch 298/2000\n",
            "\u001b[1m7/7\u001b[0m \u001b[32m━━━━━━━━━━━━━━━━━━━━\u001b[0m\u001b[37m\u001b[0m \u001b[1m1s\u001b[0m 167ms/step - categorical_accuracy: 0.1260 - loss: 2.3375\n",
            "Epoch 299/2000\n",
            "\u001b[1m7/7\u001b[0m \u001b[32m━━━━━━━━━━━━━━━━━━━━\u001b[0m\u001b[37m\u001b[0m \u001b[1m1s\u001b[0m 182ms/step - categorical_accuracy: 0.1372 - loss: 2.3544\n",
            "Epoch 300/2000\n",
            "\u001b[1m7/7\u001b[0m \u001b[32m━━━━━━━━━━━━━━━━━━━━\u001b[0m\u001b[37m\u001b[0m \u001b[1m1s\u001b[0m 181ms/step - categorical_accuracy: 0.1273 - loss: 2.3394\n",
            "Epoch 301/2000\n",
            "\u001b[1m7/7\u001b[0m \u001b[32m━━━━━━━━━━━━━━━━━━━━\u001b[0m\u001b[37m\u001b[0m \u001b[1m2s\u001b[0m 175ms/step - categorical_accuracy: 0.1189 - loss: 2.3487\n",
            "Epoch 302/2000\n",
            "\u001b[1m7/7\u001b[0m \u001b[32m━━━━━━━━━━━━━━━━━━━━\u001b[0m\u001b[37m\u001b[0m \u001b[1m1s\u001b[0m 181ms/step - categorical_accuracy: 0.1493 - loss: 2.3461\n",
            "Epoch 303/2000\n",
            "\u001b[1m7/7\u001b[0m \u001b[32m━━━━━━━━━━━━━━━━━━━━\u001b[0m\u001b[37m\u001b[0m \u001b[1m2s\u001b[0m 308ms/step - categorical_accuracy: 0.1365 - loss: 2.3322\n",
            "Epoch 304/2000\n",
            "\u001b[1m7/7\u001b[0m \u001b[32m━━━━━━━━━━━━━━━━━━━━\u001b[0m\u001b[37m\u001b[0m \u001b[1m3s\u001b[0m 309ms/step - categorical_accuracy: 0.1134 - loss: 2.3428\n",
            "Epoch 305/2000\n",
            "\u001b[1m7/7\u001b[0m \u001b[32m━━━━━━━━━━━━━━━━━━━━\u001b[0m\u001b[37m\u001b[0m \u001b[1m2s\u001b[0m 220ms/step - categorical_accuracy: 0.1307 - loss: 2.3381\n",
            "Epoch 306/2000\n",
            "\u001b[1m7/7\u001b[0m \u001b[32m━━━━━━━━━━━━━━━━━━━━\u001b[0m\u001b[37m\u001b[0m \u001b[1m1s\u001b[0m 175ms/step - categorical_accuracy: 0.1481 - loss: 2.3382\n",
            "Epoch 307/2000\n",
            "\u001b[1m7/7\u001b[0m \u001b[32m━━━━━━━━━━━━━━━━━━━━\u001b[0m\u001b[37m\u001b[0m \u001b[1m1s\u001b[0m 167ms/step - categorical_accuracy: 0.1439 - loss: 2.3339\n",
            "Epoch 308/2000\n",
            "\u001b[1m7/7\u001b[0m \u001b[32m━━━━━━━━━━━━━━━━━━━━\u001b[0m\u001b[37m\u001b[0m \u001b[1m1s\u001b[0m 167ms/step - categorical_accuracy: 0.1474 - loss: 2.3327\n",
            "Epoch 309/2000\n",
            "\u001b[1m7/7\u001b[0m \u001b[32m━━━━━━━━━━━━━━━━━━━━\u001b[0m\u001b[37m\u001b[0m \u001b[1m1s\u001b[0m 165ms/step - categorical_accuracy: 0.1757 - loss: 2.3205\n",
            "Epoch 310/2000\n",
            "\u001b[1m7/7\u001b[0m \u001b[32m━━━━━━━━━━━━━━━━━━━━\u001b[0m\u001b[37m\u001b[0m \u001b[1m1s\u001b[0m 178ms/step - categorical_accuracy: 0.1133 - loss: 2.3356\n",
            "Epoch 311/2000\n",
            "\u001b[1m7/7\u001b[0m \u001b[32m━━━━━━━━━━━━━━━━━━━━\u001b[0m\u001b[37m\u001b[0m \u001b[1m1s\u001b[0m 166ms/step - categorical_accuracy: 0.1370 - loss: 2.3303\n",
            "Epoch 312/2000\n",
            "\u001b[1m7/7\u001b[0m \u001b[32m━━━━━━━━━━━━━━━━━━━━\u001b[0m\u001b[37m\u001b[0m \u001b[1m1s\u001b[0m 164ms/step - categorical_accuracy: 0.1299 - loss: 2.3312\n",
            "Epoch 313/2000\n",
            "\u001b[1m7/7\u001b[0m \u001b[32m━━━━━━━━━━━━━━━━━━━━\u001b[0m\u001b[37m\u001b[0m \u001b[1m2s\u001b[0m 246ms/step - categorical_accuracy: 0.1382 - loss: 2.3330\n",
            "Epoch 314/2000\n",
            "\u001b[1m7/7\u001b[0m \u001b[32m━━━━━━━━━━━━━━━━━━━━\u001b[0m\u001b[37m\u001b[0m \u001b[1m2s\u001b[0m 285ms/step - categorical_accuracy: 0.1245 - loss: 2.3345\n",
            "Epoch 315/2000\n",
            "\u001b[1m7/7\u001b[0m \u001b[32m━━━━━━━━━━━━━━━━━━━━\u001b[0m\u001b[37m\u001b[0m \u001b[1m3s\u001b[0m 321ms/step - categorical_accuracy: 0.1158 - loss: 2.3324\n",
            "Epoch 316/2000\n",
            "\u001b[1m7/7\u001b[0m \u001b[32m━━━━━━━━━━━━━━━━━━━━\u001b[0m\u001b[37m\u001b[0m \u001b[1m2s\u001b[0m 170ms/step - categorical_accuracy: 0.1141 - loss: 2.3384\n",
            "Epoch 317/2000\n",
            "\u001b[1m7/7\u001b[0m \u001b[32m━━━━━━━━━━━━━━━━━━━━\u001b[0m\u001b[37m\u001b[0m \u001b[1m1s\u001b[0m 167ms/step - categorical_accuracy: 0.1523 - loss: 2.3412\n",
            "Epoch 318/2000\n",
            "\u001b[1m7/7\u001b[0m \u001b[32m━━━━━━━━━━━━━━━━━━━━\u001b[0m\u001b[37m\u001b[0m \u001b[1m1s\u001b[0m 177ms/step - categorical_accuracy: 0.1088 - loss: 2.3407\n",
            "Epoch 319/2000\n",
            "\u001b[1m7/7\u001b[0m \u001b[32m━━━━━━━━━━━━━━━━━━━━\u001b[0m\u001b[37m\u001b[0m \u001b[1m2s\u001b[0m 165ms/step - categorical_accuracy: 0.1324 - loss: 2.3384\n",
            "Epoch 320/2000\n",
            "\u001b[1m7/7\u001b[0m \u001b[32m━━━━━━━━━━━━━━━━━━━━\u001b[0m\u001b[37m\u001b[0m \u001b[1m1s\u001b[0m 181ms/step - categorical_accuracy: 0.1100 - loss: 2.3476\n",
            "Epoch 321/2000\n",
            "\u001b[1m7/7\u001b[0m \u001b[32m━━━━━━━━━━━━━━━━━━━━\u001b[0m\u001b[37m\u001b[0m \u001b[1m1s\u001b[0m 185ms/step - categorical_accuracy: 0.1163 - loss: 2.3449\n",
            "Epoch 322/2000\n",
            "\u001b[1m7/7\u001b[0m \u001b[32m━━━━━━━━━━━━━━━━━━━━\u001b[0m\u001b[37m\u001b[0m \u001b[1m3s\u001b[0m 320ms/step - categorical_accuracy: 0.1378 - loss: 2.3293\n",
            "Epoch 323/2000\n",
            "\u001b[1m7/7\u001b[0m \u001b[32m━━━━━━━━━━━━━━━━━━━━\u001b[0m\u001b[37m\u001b[0m \u001b[1m2s\u001b[0m 308ms/step - categorical_accuracy: 0.1534 - loss: 2.3246\n",
            "Epoch 324/2000\n",
            "\u001b[1m7/7\u001b[0m \u001b[32m━━━━━━━━━━━━━━━━━━━━\u001b[0m\u001b[37m\u001b[0m \u001b[1m2s\u001b[0m 197ms/step - categorical_accuracy: 0.1344 - loss: 2.3268\n",
            "Epoch 325/2000\n",
            "\u001b[1m7/7\u001b[0m \u001b[32m━━━━━━━━━━━━━━━━━━━━\u001b[0m\u001b[37m\u001b[0m \u001b[1m2s\u001b[0m 169ms/step - categorical_accuracy: 0.1385 - loss: 2.3308\n",
            "Epoch 326/2000\n",
            "\u001b[1m7/7\u001b[0m \u001b[32m━━━━━━━━━━━━━━━━━━━━\u001b[0m\u001b[37m\u001b[0m \u001b[1m1s\u001b[0m 165ms/step - categorical_accuracy: 0.1062 - loss: 2.3497\n",
            "Epoch 327/2000\n",
            "\u001b[1m7/7\u001b[0m \u001b[32m━━━━━━━━━━━━━━━━━━━━\u001b[0m\u001b[37m\u001b[0m \u001b[1m1s\u001b[0m 176ms/step - categorical_accuracy: 0.1297 - loss: 2.3364\n",
            "Epoch 328/2000\n",
            "\u001b[1m7/7\u001b[0m \u001b[32m━━━━━━━━━━━━━━━━━━━━\u001b[0m\u001b[37m\u001b[0m \u001b[1m3s\u001b[0m 180ms/step - categorical_accuracy: 0.1514 - loss: 2.3386\n",
            "Epoch 329/2000\n",
            "\u001b[1m7/7\u001b[0m \u001b[32m━━━━━━━━━━━━━━━━━━━━\u001b[0m\u001b[37m\u001b[0m \u001b[1m1s\u001b[0m 185ms/step - categorical_accuracy: 0.1299 - loss: 2.3285\n",
            "Epoch 330/2000\n",
            "\u001b[1m7/7\u001b[0m \u001b[32m━━━━━━━━━━━━━━━━━━━━\u001b[0m\u001b[37m\u001b[0m \u001b[1m2s\u001b[0m 260ms/step - categorical_accuracy: 0.1367 - loss: 2.3270\n",
            "Epoch 331/2000\n",
            "\u001b[1m7/7\u001b[0m \u001b[32m━━━━━━━━━━━━━━━━━━━━\u001b[0m\u001b[37m\u001b[0m \u001b[1m2s\u001b[0m 306ms/step - categorical_accuracy: 0.1290 - loss: 2.3414\n",
            "Epoch 332/2000\n",
            "\u001b[1m7/7\u001b[0m \u001b[32m━━━━━━━━━━━━━━━━━━━━\u001b[0m\u001b[37m\u001b[0m \u001b[1m2s\u001b[0m 284ms/step - categorical_accuracy: 0.1473 - loss: 2.3110\n",
            "Epoch 333/2000\n",
            "\u001b[1m7/7\u001b[0m \u001b[32m━━━━━━━━━━━━━━━━━━━━\u001b[0m\u001b[37m\u001b[0m \u001b[1m2s\u001b[0m 164ms/step - categorical_accuracy: 0.1465 - loss: 2.3221\n",
            "Epoch 334/2000\n",
            "\u001b[1m7/7\u001b[0m \u001b[32m━━━━━━━━━━━━━━━━━━━━\u001b[0m\u001b[37m\u001b[0m \u001b[1m1s\u001b[0m 172ms/step - categorical_accuracy: 0.1188 - loss: 2.3276\n",
            "Epoch 335/2000\n",
            "\u001b[1m7/7\u001b[0m \u001b[32m━━━━━━━━━━━━━━━━━━━━\u001b[0m\u001b[37m\u001b[0m \u001b[1m1s\u001b[0m 179ms/step - categorical_accuracy: 0.1471 - loss: 2.3276\n",
            "Epoch 336/2000\n",
            "\u001b[1m7/7\u001b[0m \u001b[32m━━━━━━━━━━━━━━━━━━━━\u001b[0m\u001b[37m\u001b[0m \u001b[1m1s\u001b[0m 168ms/step - categorical_accuracy: 0.1432 - loss: 2.3322\n",
            "Epoch 337/2000\n",
            "\u001b[1m7/7\u001b[0m \u001b[32m━━━━━━━━━━━━━━━━━━━━\u001b[0m\u001b[37m\u001b[0m \u001b[1m1s\u001b[0m 169ms/step - categorical_accuracy: 0.1162 - loss: 2.3364\n",
            "Epoch 338/2000\n",
            "\u001b[1m7/7\u001b[0m \u001b[32m━━━━━━━━━━━━━━━━━━━━\u001b[0m\u001b[37m\u001b[0m \u001b[1m1s\u001b[0m 164ms/step - categorical_accuracy: 0.1618 - loss: 2.3210\n",
            "Epoch 339/2000\n",
            "\u001b[1m7/7\u001b[0m \u001b[32m━━━━━━━━━━━━━━━━━━━━\u001b[0m\u001b[37m\u001b[0m \u001b[1m1s\u001b[0m 181ms/step - categorical_accuracy: 0.1324 - loss: 2.3307\n",
            "Epoch 340/2000\n",
            "\u001b[1m7/7\u001b[0m \u001b[32m━━━━━━━━━━━━━━━━━━━━\u001b[0m\u001b[37m\u001b[0m \u001b[1m2s\u001b[0m 255ms/step - categorical_accuracy: 0.1191 - loss: 2.3345\n",
            "Epoch 341/2000\n",
            "\u001b[1m7/7\u001b[0m \u001b[32m━━━━━━━━━━━━━━━━━━━━\u001b[0m\u001b[37m\u001b[0m \u001b[1m3s\u001b[0m 304ms/step - categorical_accuracy: 0.1384 - loss: 2.3234\n",
            "Epoch 342/2000\n",
            "\u001b[1m7/7\u001b[0m \u001b[32m━━━━━━━━━━━━━━━━━━━━\u001b[0m\u001b[37m\u001b[0m \u001b[1m2s\u001b[0m 165ms/step - categorical_accuracy: 0.1230 - loss: 2.3392\n",
            "Epoch 343/2000\n",
            "\u001b[1m7/7\u001b[0m \u001b[32m━━━━━━━━━━━━━━━━━━━━\u001b[0m\u001b[37m\u001b[0m \u001b[1m1s\u001b[0m 165ms/step - categorical_accuracy: 0.1428 - loss: 2.3222\n",
            "Epoch 344/2000\n",
            "\u001b[1m7/7\u001b[0m \u001b[32m━━━━━━━━━━━━━━━━━━━━\u001b[0m\u001b[37m\u001b[0m \u001b[1m1s\u001b[0m 169ms/step - categorical_accuracy: 0.1117 - loss: 2.3361\n",
            "Epoch 345/2000\n",
            "\u001b[1m7/7\u001b[0m \u001b[32m━━━━━━━━━━━━━━━━━━━━\u001b[0m\u001b[37m\u001b[0m \u001b[1m1s\u001b[0m 189ms/step - categorical_accuracy: 0.1206 - loss: 2.3175\n",
            "Epoch 346/2000\n",
            "\u001b[1m7/7\u001b[0m \u001b[32m━━━━━━━━━━━━━━━━━━━━\u001b[0m\u001b[37m\u001b[0m \u001b[1m2s\u001b[0m 176ms/step - categorical_accuracy: 0.1423 - loss: 2.3350\n",
            "Epoch 347/2000\n",
            "\u001b[1m7/7\u001b[0m \u001b[32m━━━━━━━━━━━━━━━━━━━━\u001b[0m\u001b[37m\u001b[0m \u001b[1m3s\u001b[0m 184ms/step - categorical_accuracy: 0.0986 - loss: 2.3352\n",
            "Epoch 348/2000\n",
            "\u001b[1m7/7\u001b[0m \u001b[32m━━━━━━━━━━━━━━━━━━━━\u001b[0m\u001b[37m\u001b[0m \u001b[1m3s\u001b[0m 283ms/step - categorical_accuracy: 0.1270 - loss: 2.3212\n",
            "Epoch 349/2000\n",
            "\u001b[1m7/7\u001b[0m \u001b[32m━━━━━━━━━━━━━━━━━━━━\u001b[0m\u001b[37m\u001b[0m \u001b[1m2s\u001b[0m 179ms/step - categorical_accuracy: 0.1559 - loss: 2.3172\n",
            "Epoch 350/2000\n",
            "\u001b[1m7/7\u001b[0m \u001b[32m━━━━━━━━━━━━━━━━━━━━\u001b[0m\u001b[37m\u001b[0m \u001b[1m1s\u001b[0m 178ms/step - categorical_accuracy: 0.1368 - loss: 2.3209\n",
            "Epoch 351/2000\n",
            "\u001b[1m7/7\u001b[0m \u001b[32m━━━━━━━━━━━━━━━━━━━━\u001b[0m\u001b[37m\u001b[0m \u001b[1m2s\u001b[0m 166ms/step - categorical_accuracy: 0.1309 - loss: 2.3269\n",
            "Epoch 352/2000\n",
            "\u001b[1m7/7\u001b[0m \u001b[32m━━━━━━━━━━━━━━━━━━━━\u001b[0m\u001b[37m\u001b[0m \u001b[1m1s\u001b[0m 181ms/step - categorical_accuracy: 0.1340 - loss: 2.3247\n",
            "Epoch 353/2000\n",
            "\u001b[1m7/7\u001b[0m \u001b[32m━━━━━━━━━━━━━━━━━━━━\u001b[0m\u001b[37m\u001b[0m \u001b[1m1s\u001b[0m 176ms/step - categorical_accuracy: 0.1234 - loss: 2.3269\n",
            "Epoch 354/2000\n",
            "\u001b[1m7/7\u001b[0m \u001b[32m━━━━━━━━━━━━━━━━━━━━\u001b[0m\u001b[37m\u001b[0m \u001b[1m3s\u001b[0m 201ms/step - categorical_accuracy: 0.1414 - loss: 2.3253\n",
            "Epoch 355/2000\n",
            "\u001b[1m7/7\u001b[0m \u001b[32m━━━━━━━━━━━━━━━━━━━━\u001b[0m\u001b[37m\u001b[0m \u001b[1m3s\u001b[0m 291ms/step - categorical_accuracy: 0.1117 - loss: 2.3349\n",
            "Epoch 356/2000\n",
            "\u001b[1m7/7\u001b[0m \u001b[32m━━━━━━━━━━━━━━━━━━━━\u001b[0m\u001b[37m\u001b[0m \u001b[1m2s\u001b[0m 163ms/step - categorical_accuracy: 0.1516 - loss: 2.3283\n",
            "Epoch 357/2000\n",
            "\u001b[1m7/7\u001b[0m \u001b[32m━━━━━━━━━━━━━━━━━━━━\u001b[0m\u001b[37m\u001b[0m \u001b[1m1s\u001b[0m 165ms/step - categorical_accuracy: 0.1237 - loss: 2.3255\n",
            "Epoch 358/2000\n",
            "\u001b[1m7/7\u001b[0m \u001b[32m━━━━━━━━━━━━━━━━━━━━\u001b[0m\u001b[37m\u001b[0m \u001b[1m1s\u001b[0m 163ms/step - categorical_accuracy: 0.1502 - loss: 2.3346\n",
            "Epoch 359/2000\n",
            "\u001b[1m7/7\u001b[0m \u001b[32m━━━━━━━━━━━━━━━━━━━━\u001b[0m\u001b[37m\u001b[0m \u001b[1m1s\u001b[0m 162ms/step - categorical_accuracy: 0.1463 - loss: 2.3293\n",
            "Epoch 360/2000\n",
            "\u001b[1m7/7\u001b[0m \u001b[32m━━━━━━━━━━━━━━━━━━━━\u001b[0m\u001b[37m\u001b[0m \u001b[1m1s\u001b[0m 180ms/step - categorical_accuracy: 0.1316 - loss: 2.3313\n",
            "Epoch 361/2000\n",
            "\u001b[1m7/7\u001b[0m \u001b[32m━━━━━━━━━━━━━━━━━━━━\u001b[0m\u001b[37m\u001b[0m \u001b[1m2s\u001b[0m 168ms/step - categorical_accuracy: 0.1211 - loss: 2.3333\n",
            "Epoch 362/2000\n",
            "\u001b[1m7/7\u001b[0m \u001b[32m━━━━━━━━━━━━━━━━━━━━\u001b[0m\u001b[37m\u001b[0m \u001b[1m1s\u001b[0m 167ms/step - categorical_accuracy: 0.1151 - loss: 2.3224\n",
            "Epoch 363/2000\n",
            "\u001b[1m7/7\u001b[0m \u001b[32m━━━━━━━━━━━━━━━━━━━━\u001b[0m\u001b[37m\u001b[0m \u001b[1m2s\u001b[0m 294ms/step - categorical_accuracy: 0.1328 - loss: 2.3187\n",
            "Epoch 364/2000\n",
            "\u001b[1m7/7\u001b[0m \u001b[32m━━━━━━━━━━━━━━━━━━━━\u001b[0m\u001b[37m\u001b[0m \u001b[1m3s\u001b[0m 320ms/step - categorical_accuracy: 0.1502 - loss: 2.3196\n",
            "Epoch 365/2000\n",
            "\u001b[1m7/7\u001b[0m \u001b[32m━━━━━━━━━━━━━━━━━━━━\u001b[0m\u001b[37m\u001b[0m \u001b[1m2s\u001b[0m 183ms/step - categorical_accuracy: 0.1236 - loss: 2.3480\n",
            "Epoch 366/2000\n",
            "\u001b[1m7/7\u001b[0m \u001b[32m━━━━━━━━━━━━━━━━━━━━\u001b[0m\u001b[37m\u001b[0m \u001b[1m1s\u001b[0m 180ms/step - categorical_accuracy: 0.1346 - loss: 2.3278\n",
            "Epoch 367/2000\n",
            "\u001b[1m7/7\u001b[0m \u001b[32m━━━━━━━━━━━━━━━━━━━━\u001b[0m\u001b[37m\u001b[0m \u001b[1m2s\u001b[0m 171ms/step - categorical_accuracy: 0.1146 - loss: 2.3210\n",
            "Epoch 368/2000\n",
            "\u001b[1m7/7\u001b[0m \u001b[32m━━━━━━━━━━━━━━━━━━━━\u001b[0m\u001b[37m\u001b[0m \u001b[1m1s\u001b[0m 172ms/step - categorical_accuracy: 0.1202 - loss: 2.3168\n",
            "Epoch 369/2000\n",
            "\u001b[1m7/7\u001b[0m \u001b[32m━━━━━━━━━━━━━━━━━━━━\u001b[0m\u001b[37m\u001b[0m \u001b[1m1s\u001b[0m 177ms/step - categorical_accuracy: 0.1280 - loss: 2.3187\n",
            "Epoch 370/2000\n",
            "\u001b[1m7/7\u001b[0m \u001b[32m━━━━━━━━━━━━━━━━━━━━\u001b[0m\u001b[37m\u001b[0m \u001b[1m1s\u001b[0m 185ms/step - categorical_accuracy: 0.1628 - loss: 2.3150\n",
            "Epoch 371/2000\n",
            "\u001b[1m7/7\u001b[0m \u001b[32m━━━━━━━━━━━━━━━━━━━━\u001b[0m\u001b[37m\u001b[0m \u001b[1m1s\u001b[0m 176ms/step - categorical_accuracy: 0.1242 - loss: 2.3227\n",
            "Epoch 372/2000\n",
            "\u001b[1m7/7\u001b[0m \u001b[32m━━━━━━━━━━━━━━━━━━━━\u001b[0m\u001b[37m\u001b[0m \u001b[1m2s\u001b[0m 306ms/step - categorical_accuracy: 0.1167 - loss: 2.3252\n",
            "Epoch 373/2000\n",
            "\u001b[1m7/7\u001b[0m \u001b[32m━━━━━━━━━━━━━━━━━━━━\u001b[0m\u001b[37m\u001b[0m \u001b[1m2s\u001b[0m 291ms/step - categorical_accuracy: 0.1396 - loss: 2.3360\n",
            "Epoch 374/2000\n",
            "\u001b[1m7/7\u001b[0m \u001b[32m━━━━━━━━━━━━━━━━━━━━\u001b[0m\u001b[37m\u001b[0m \u001b[1m2s\u001b[0m 238ms/step - categorical_accuracy: 0.1234 - loss: 2.3252\n",
            "Epoch 375/2000\n",
            "\u001b[1m7/7\u001b[0m \u001b[32m━━━━━━━━━━━━━━━━━━━━\u001b[0m\u001b[37m\u001b[0m \u001b[1m2s\u001b[0m 182ms/step - categorical_accuracy: 0.1195 - loss: 2.3268\n",
            "Epoch 376/2000\n",
            "\u001b[1m7/7\u001b[0m \u001b[32m━━━━━━━━━━━━━━━━━━━━\u001b[0m\u001b[37m\u001b[0m \u001b[1m2s\u001b[0m 173ms/step - categorical_accuracy: 0.1488 - loss: 2.3214\n",
            "Epoch 377/2000\n",
            "\u001b[1m7/7\u001b[0m \u001b[32m━━━━━━━━━━━━━━━━━━━━\u001b[0m\u001b[37m\u001b[0m \u001b[1m1s\u001b[0m 181ms/step - categorical_accuracy: 0.1434 - loss: 2.3128\n",
            "Epoch 378/2000\n",
            "\u001b[1m7/7\u001b[0m \u001b[32m━━━━━━━━━━━━━━━━━━━━\u001b[0m\u001b[37m\u001b[0m \u001b[1m2s\u001b[0m 179ms/step - categorical_accuracy: 0.1508 - loss: 2.3115\n",
            "Epoch 379/2000\n",
            "\u001b[1m7/7\u001b[0m \u001b[32m━━━━━━━━━━━━━━━━━━━━\u001b[0m\u001b[37m\u001b[0m \u001b[1m3s\u001b[0m 300ms/step - categorical_accuracy: 0.1349 - loss: 2.3136\n",
            "Epoch 380/2000\n",
            "\u001b[1m7/7\u001b[0m \u001b[32m━━━━━━━━━━━━━━━━━━━━\u001b[0m\u001b[37m\u001b[0m \u001b[1m2s\u001b[0m 296ms/step - categorical_accuracy: 0.1136 - loss: 2.3269\n",
            "Epoch 381/2000\n",
            "\u001b[1m7/7\u001b[0m \u001b[32m━━━━━━━━━━━━━━━━━━━━\u001b[0m\u001b[37m\u001b[0m \u001b[1m2s\u001b[0m 227ms/step - categorical_accuracy: 0.1352 - loss: 2.3226\n",
            "Epoch 382/2000\n",
            "\u001b[1m7/7\u001b[0m \u001b[32m━━━━━━━━━━━━━━━━━━━━\u001b[0m\u001b[37m\u001b[0m \u001b[1m2s\u001b[0m 182ms/step - categorical_accuracy: 0.1407 - loss: 2.3151\n",
            "Epoch 383/2000\n",
            "\u001b[1m7/7\u001b[0m \u001b[32m━━━━━━━━━━━━━━━━━━━━\u001b[0m\u001b[37m\u001b[0m \u001b[1m2s\u001b[0m 170ms/step - categorical_accuracy: 0.1383 - loss: 2.3212\n",
            "Epoch 384/2000\n",
            "\u001b[1m7/7\u001b[0m \u001b[32m━━━━━━━━━━━━━━━━━━━━\u001b[0m\u001b[37m\u001b[0m \u001b[1m1s\u001b[0m 167ms/step - categorical_accuracy: 0.1685 - loss: 2.3113\n",
            "Epoch 385/2000\n",
            "\u001b[1m7/7\u001b[0m \u001b[32m━━━━━━━━━━━━━━━━━━━━\u001b[0m\u001b[37m\u001b[0m \u001b[1m1s\u001b[0m 169ms/step - categorical_accuracy: 0.1298 - loss: 2.3367\n",
            "Epoch 386/2000\n",
            "\u001b[1m7/7\u001b[0m \u001b[32m━━━━━━━━━━━━━━━━━━━━\u001b[0m\u001b[37m\u001b[0m \u001b[1m1s\u001b[0m 178ms/step - categorical_accuracy: 0.1469 - loss: 2.3123\n",
            "Epoch 387/2000\n",
            "\u001b[1m7/7\u001b[0m \u001b[32m━━━━━━━━━━━━━━━━━━━━\u001b[0m\u001b[37m\u001b[0m \u001b[1m3s\u001b[0m 315ms/step - categorical_accuracy: 0.1115 - loss: 2.3251\n",
            "Epoch 388/2000\n",
            "\u001b[1m7/7\u001b[0m \u001b[32m━━━━━━━━━━━━━━━━━━━━\u001b[0m\u001b[37m\u001b[0m \u001b[1m2s\u001b[0m 303ms/step - categorical_accuracy: 0.1337 - loss: 2.3137\n",
            "Epoch 389/2000\n",
            "\u001b[1m7/7\u001b[0m \u001b[32m━━━━━━━━━━━━━━━━━━━━\u001b[0m\u001b[37m\u001b[0m \u001b[1m2s\u001b[0m 165ms/step - categorical_accuracy: 0.1553 - loss: 2.3177\n",
            "Epoch 390/2000\n",
            "\u001b[1m7/7\u001b[0m \u001b[32m━━━━━━━━━━━━━━━━━━━━\u001b[0m\u001b[37m\u001b[0m \u001b[1m1s\u001b[0m 178ms/step - categorical_accuracy: 0.1393 - loss: 2.3126\n",
            "Epoch 391/2000\n",
            "\u001b[1m7/7\u001b[0m \u001b[32m━━━━━━━━━━━━━━━━━━━━\u001b[0m\u001b[37m\u001b[0m \u001b[1m2s\u001b[0m 171ms/step - categorical_accuracy: 0.1665 - loss: 2.2976\n",
            "Epoch 392/2000\n",
            "\u001b[1m7/7\u001b[0m \u001b[32m━━━━━━━━━━━━━━━━━━━━\u001b[0m\u001b[37m\u001b[0m \u001b[1m1s\u001b[0m 178ms/step - categorical_accuracy: 0.1446 - loss: 2.3146\n",
            "Epoch 393/2000\n",
            "\u001b[1m7/7\u001b[0m \u001b[32m━━━━━━━━━━━━━━━━━━━━\u001b[0m\u001b[37m\u001b[0m \u001b[1m3s\u001b[0m 174ms/step - categorical_accuracy: 0.1232 - loss: 2.3331\n",
            "Epoch 394/2000\n",
            "\u001b[1m7/7\u001b[0m \u001b[32m━━━━━━━━━━━━━━━━━━━━\u001b[0m\u001b[37m\u001b[0m \u001b[1m2s\u001b[0m 212ms/step - categorical_accuracy: 0.1646 - loss: 2.3063\n",
            "Epoch 395/2000\n",
            "\u001b[1m7/7\u001b[0m \u001b[32m━━━━━━━━━━━━━━━━━━━━\u001b[0m\u001b[37m\u001b[0m \u001b[1m3s\u001b[0m 306ms/step - categorical_accuracy: 0.1361 - loss: 2.3265\n",
            "Epoch 396/2000\n",
            "\u001b[1m7/7\u001b[0m \u001b[32m━━━━━━━━━━━━━━━━━━━━\u001b[0m\u001b[37m\u001b[0m \u001b[1m2s\u001b[0m 305ms/step - categorical_accuracy: 0.1271 - loss: 2.3248\n",
            "Epoch 397/2000\n",
            "\u001b[1m7/7\u001b[0m \u001b[32m━━━━━━━━━━━━━━━━━━━━\u001b[0m\u001b[37m\u001b[0m \u001b[1m1s\u001b[0m 177ms/step - categorical_accuracy: 0.1409 - loss: 2.3264\n",
            "Epoch 398/2000\n",
            "\u001b[1m7/7\u001b[0m \u001b[32m━━━━━━━━━━━━━━━━━━━━\u001b[0m\u001b[37m\u001b[0m \u001b[1m1s\u001b[0m 178ms/step - categorical_accuracy: 0.1513 - loss: 2.3109\n",
            "Epoch 399/2000\n",
            "\u001b[1m7/7\u001b[0m \u001b[32m━━━━━━━━━━━━━━━━━━━━\u001b[0m\u001b[37m\u001b[0m \u001b[1m1s\u001b[0m 181ms/step - categorical_accuracy: 0.1443 - loss: 2.3080\n",
            "Epoch 400/2000\n",
            "\u001b[1m7/7\u001b[0m \u001b[32m━━━━━━━━━━━━━━━━━━━━\u001b[0m\u001b[37m\u001b[0m \u001b[1m1s\u001b[0m 176ms/step - categorical_accuracy: 0.1343 - loss: 2.3121\n",
            "Epoch 401/2000\n",
            "\u001b[1m7/7\u001b[0m \u001b[32m━━━━━━━━━━━━━━━━━━━━\u001b[0m\u001b[37m\u001b[0m \u001b[1m1s\u001b[0m 185ms/step - categorical_accuracy: 0.1273 - loss: 2.3247\n",
            "Epoch 402/2000\n",
            "\u001b[1m7/7\u001b[0m \u001b[32m━━━━━━━━━━━━━━━━━━━━\u001b[0m\u001b[37m\u001b[0m \u001b[1m1s\u001b[0m 182ms/step - categorical_accuracy: 0.1145 - loss: 2.3377\n",
            "Epoch 403/2000\n",
            "\u001b[1m7/7\u001b[0m \u001b[32m━━━━━━━━━━━━━━━━━━━━\u001b[0m\u001b[37m\u001b[0m \u001b[1m3s\u001b[0m 237ms/step - categorical_accuracy: 0.1264 - loss: 2.3220\n",
            "Epoch 404/2000\n",
            "\u001b[1m7/7\u001b[0m \u001b[32m━━━━━━━━━━━━━━━━━━━━\u001b[0m\u001b[37m\u001b[0m \u001b[1m3s\u001b[0m 311ms/step - categorical_accuracy: 0.1200 - loss: 2.3215\n",
            "Epoch 405/2000\n",
            "\u001b[1m7/7\u001b[0m \u001b[32m━━━━━━━━━━━━━━━━━━━━\u001b[0m\u001b[37m\u001b[0m \u001b[1m2s\u001b[0m 178ms/step - categorical_accuracy: 0.1462 - loss: 2.3264\n",
            "Epoch 406/2000\n",
            "\u001b[1m7/7\u001b[0m \u001b[32m━━━━━━━━━━━━━━━━━━━━\u001b[0m\u001b[37m\u001b[0m \u001b[1m2s\u001b[0m 174ms/step - categorical_accuracy: 0.1236 - loss: 2.3153\n",
            "Epoch 407/2000\n",
            "\u001b[1m7/7\u001b[0m \u001b[32m━━━━━━━━━━━━━━━━━━━━\u001b[0m\u001b[37m\u001b[0m \u001b[1m1s\u001b[0m 189ms/step - categorical_accuracy: 0.1347 - loss: 2.3181\n",
            "Epoch 408/2000\n",
            "\u001b[1m7/7\u001b[0m \u001b[32m━━━━━━━━━━━━━━━━━━━━\u001b[0m\u001b[37m\u001b[0m \u001b[1m2s\u001b[0m 172ms/step - categorical_accuracy: 0.0968 - loss: 2.3143\n",
            "Epoch 409/2000\n",
            "\u001b[1m7/7\u001b[0m \u001b[32m━━━━━━━━━━━━━━━━━━━━\u001b[0m\u001b[37m\u001b[0m \u001b[1m1s\u001b[0m 171ms/step - categorical_accuracy: 0.1332 - loss: 2.3325\n",
            "Epoch 410/2000\n",
            "\u001b[1m7/7\u001b[0m \u001b[32m━━━━━━━━━━━━━━━━━━━━\u001b[0m\u001b[37m\u001b[0m \u001b[1m1s\u001b[0m 175ms/step - categorical_accuracy: 0.1265 - loss: 2.3131\n",
            "Epoch 411/2000\n",
            "\u001b[1m7/7\u001b[0m \u001b[32m━━━━━━━━━━━━━━━━━━━━\u001b[0m\u001b[37m\u001b[0m \u001b[1m2s\u001b[0m 279ms/step - categorical_accuracy: 0.1317 - loss: 2.3165\n",
            "Epoch 412/2000\n",
            "\u001b[1m7/7\u001b[0m \u001b[32m━━━━━━━━━━━━━━━━━━━━\u001b[0m\u001b[37m\u001b[0m \u001b[1m2s\u001b[0m 312ms/step - categorical_accuracy: 0.1372 - loss: 2.3047\n",
            "Epoch 413/2000\n",
            "\u001b[1m7/7\u001b[0m \u001b[32m━━━━━━━━━━━━━━━━━━━━\u001b[0m\u001b[37m\u001b[0m \u001b[1m2s\u001b[0m 329ms/step - categorical_accuracy: 0.1270 - loss: 2.3217\n",
            "Epoch 414/2000\n",
            "\u001b[1m7/7\u001b[0m \u001b[32m━━━━━━━━━━━━━━━━━━━━\u001b[0m\u001b[37m\u001b[0m \u001b[1m1s\u001b[0m 175ms/step - categorical_accuracy: 0.1367 - loss: 2.3303\n",
            "Epoch 415/2000\n",
            "\u001b[1m7/7\u001b[0m \u001b[32m━━━━━━━━━━━━━━━━━━━━\u001b[0m\u001b[37m\u001b[0m \u001b[1m1s\u001b[0m 182ms/step - categorical_accuracy: 0.1488 - loss: 2.3224\n",
            "Epoch 416/2000\n",
            "\u001b[1m7/7\u001b[0m \u001b[32m━━━━━━━━━━━━━━━━━━━━\u001b[0m\u001b[37m\u001b[0m \u001b[1m2s\u001b[0m 164ms/step - categorical_accuracy: 0.1380 - loss: 2.3083\n",
            "Epoch 417/2000\n",
            "\u001b[1m7/7\u001b[0m \u001b[32m━━━━━━━━━━━━━━━━━━━━\u001b[0m\u001b[37m\u001b[0m \u001b[1m1s\u001b[0m 167ms/step - categorical_accuracy: 0.1321 - loss: 2.3036\n",
            "Epoch 418/2000\n",
            "\u001b[1m7/7\u001b[0m \u001b[32m━━━━━━━━━━━━━━━━━━━━\u001b[0m\u001b[37m\u001b[0m \u001b[1m1s\u001b[0m 177ms/step - categorical_accuracy: 0.1387 - loss: 2.3356\n",
            "Epoch 419/2000\n",
            "\u001b[1m7/7\u001b[0m \u001b[32m━━━━━━━━━━━━━━━━━━━━\u001b[0m\u001b[37m\u001b[0m \u001b[1m1s\u001b[0m 182ms/step - categorical_accuracy: 0.1238 - loss: 2.3186\n",
            "Epoch 420/2000\n",
            "\u001b[1m7/7\u001b[0m \u001b[32m━━━━━━━━━━━━━━━━━━━━\u001b[0m\u001b[37m\u001b[0m \u001b[1m1s\u001b[0m 184ms/step - categorical_accuracy: 0.1308 - loss: 2.3306\n",
            "Epoch 421/2000\n",
            "\u001b[1m7/7\u001b[0m \u001b[32m━━━━━━━━━━━━━━━━━━━━\u001b[0m\u001b[37m\u001b[0m \u001b[1m3s\u001b[0m 279ms/step - categorical_accuracy: 0.1371 - loss: 2.3269\n",
            "Epoch 422/2000\n",
            "\u001b[1m7/7\u001b[0m \u001b[32m━━━━━━━━━━━━━━━━━━━━\u001b[0m\u001b[37m\u001b[0m \u001b[1m2s\u001b[0m 289ms/step - categorical_accuracy: 0.1529 - loss: 2.3084\n",
            "Epoch 423/2000\n",
            "\u001b[1m7/7\u001b[0m \u001b[32m━━━━━━━━━━━━━━━━━━━━\u001b[0m\u001b[37m\u001b[0m \u001b[1m2s\u001b[0m 179ms/step - categorical_accuracy: 0.1117 - loss: 2.3108\n",
            "Epoch 424/2000\n",
            "\u001b[1m7/7\u001b[0m \u001b[32m━━━━━━━━━━━━━━━━━━━━\u001b[0m\u001b[37m\u001b[0m \u001b[1m1s\u001b[0m 179ms/step - categorical_accuracy: 0.1248 - loss: 2.3141\n",
            "Epoch 425/2000\n",
            "\u001b[1m7/7\u001b[0m \u001b[32m━━━━━━━━━━━━━━━━━━━━\u001b[0m\u001b[37m\u001b[0m \u001b[1m1s\u001b[0m 181ms/step - categorical_accuracy: 0.1348 - loss: 2.2957\n",
            "Epoch 426/2000\n",
            "\u001b[1m7/7\u001b[0m \u001b[32m━━━━━━━━━━━━━━━━━━━━\u001b[0m\u001b[37m\u001b[0m \u001b[1m2s\u001b[0m 163ms/step - categorical_accuracy: 0.1528 - loss: 2.3041\n",
            "Epoch 427/2000\n",
            "\u001b[1m7/7\u001b[0m \u001b[32m━━━━━━━━━━━━━━━━━━━━\u001b[0m\u001b[37m\u001b[0m \u001b[1m1s\u001b[0m 173ms/step - categorical_accuracy: 0.1343 - loss: 2.3188\n",
            "Epoch 428/2000\n",
            "\u001b[1m7/7\u001b[0m \u001b[32m━━━━━━━━━━━━━━━━━━━━\u001b[0m\u001b[37m\u001b[0m \u001b[1m1s\u001b[0m 184ms/step - categorical_accuracy: 0.1163 - loss: 2.3108\n",
            "Epoch 429/2000\n",
            "\u001b[1m7/7\u001b[0m \u001b[32m━━━━━━━━━━━━━━━━━━━━\u001b[0m\u001b[37m\u001b[0m \u001b[1m2s\u001b[0m 273ms/step - categorical_accuracy: 0.1240 - loss: 2.3184\n",
            "Epoch 430/2000\n",
            "\u001b[1m7/7\u001b[0m \u001b[32m━━━━━━━━━━━━━━━━━━━━\u001b[0m\u001b[37m\u001b[0m \u001b[1m2s\u001b[0m 291ms/step - categorical_accuracy: 0.1498 - loss: 2.3061\n",
            "Epoch 431/2000\n",
            "\u001b[1m7/7\u001b[0m \u001b[32m━━━━━━━━━━━━━━━━━━━━\u001b[0m\u001b[37m\u001b[0m \u001b[1m2s\u001b[0m 320ms/step - categorical_accuracy: 0.1149 - loss: 2.3174\n",
            "Epoch 432/2000\n",
            "\u001b[1m7/7\u001b[0m \u001b[32m━━━━━━━━━━━━━━━━━━━━\u001b[0m\u001b[37m\u001b[0m \u001b[1m2s\u001b[0m 183ms/step - categorical_accuracy: 0.1165 - loss: 2.3331\n",
            "Epoch 433/2000\n",
            "\u001b[1m7/7\u001b[0m \u001b[32m━━━━━━━━━━━━━━━━━━━━\u001b[0m\u001b[37m\u001b[0m \u001b[1m2s\u001b[0m 170ms/step - categorical_accuracy: 0.1597 - loss: 2.3068\n",
            "Epoch 434/2000\n",
            "\u001b[1m7/7\u001b[0m \u001b[32m━━━━━━━━━━━━━━━━━━━━\u001b[0m\u001b[37m\u001b[0m \u001b[1m1s\u001b[0m 179ms/step - categorical_accuracy: 0.1477 - loss: 2.3143\n",
            "Epoch 435/2000\n",
            "\u001b[1m7/7\u001b[0m \u001b[32m━━━━━━━━━━━━━━━━━━━━\u001b[0m\u001b[37m\u001b[0m \u001b[1m1s\u001b[0m 179ms/step - categorical_accuracy: 0.1374 - loss: 2.3228\n",
            "Epoch 436/2000\n",
            "\u001b[1m7/7\u001b[0m \u001b[32m━━━━━━━━━━━━━━━━━━━━\u001b[0m\u001b[37m\u001b[0m \u001b[1m1s\u001b[0m 173ms/step - categorical_accuracy: 0.1188 - loss: 2.3240\n",
            "Epoch 437/2000\n",
            "\u001b[1m7/7\u001b[0m \u001b[32m━━━━━━━━━━━━━━━━━━━━\u001b[0m\u001b[37m\u001b[0m \u001b[1m1s\u001b[0m 163ms/step - categorical_accuracy: 0.1410 - loss: 2.2951\n",
            "Epoch 438/2000\n",
            "\u001b[1m7/7\u001b[0m \u001b[32m━━━━━━━━━━━━━━━━━━━━\u001b[0m\u001b[37m\u001b[0m \u001b[1m1s\u001b[0m 178ms/step - categorical_accuracy: 0.1132 - loss: 2.3100\n",
            "Epoch 439/2000\n",
            "\u001b[1m7/7\u001b[0m \u001b[32m━━━━━━━━━━━━━━━━━━━━\u001b[0m\u001b[37m\u001b[0m \u001b[1m3s\u001b[0m 289ms/step - categorical_accuracy: 0.1376 - loss: 2.2939\n",
            "Epoch 440/2000\n",
            "\u001b[1m7/7\u001b[0m \u001b[32m━━━━━━━━━━━━━━━━━━━━\u001b[0m\u001b[37m\u001b[0m \u001b[1m2s\u001b[0m 177ms/step - categorical_accuracy: 0.1615 - loss: 2.3080\n",
            "Epoch 441/2000\n",
            "\u001b[1m7/7\u001b[0m \u001b[32m━━━━━━━━━━━━━━━━━━━━\u001b[0m\u001b[37m\u001b[0m \u001b[1m3s\u001b[0m 171ms/step - categorical_accuracy: 0.1284 - loss: 2.3305\n",
            "Epoch 442/2000\n",
            "\u001b[1m7/7\u001b[0m \u001b[32m━━━━━━━━━━━━━━━━━━━━\u001b[0m\u001b[37m\u001b[0m \u001b[1m1s\u001b[0m 167ms/step - categorical_accuracy: 0.1346 - loss: 2.3038\n",
            "Epoch 443/2000\n",
            "\u001b[1m7/7\u001b[0m \u001b[32m━━━━━━━━━━━━━━━━━━━━\u001b[0m\u001b[37m\u001b[0m \u001b[1m1s\u001b[0m 165ms/step - categorical_accuracy: 0.1425 - loss: 2.3316\n",
            "Epoch 444/2000\n",
            "\u001b[1m7/7\u001b[0m \u001b[32m━━━━━━━━━━━━━━━━━━━━\u001b[0m\u001b[37m\u001b[0m \u001b[1m1s\u001b[0m 168ms/step - categorical_accuracy: 0.1370 - loss: 2.3030\n",
            "Epoch 445/2000\n",
            "\u001b[1m7/7\u001b[0m \u001b[32m━━━━━━━━━━━━━━━━━━━━\u001b[0m\u001b[37m\u001b[0m \u001b[1m1s\u001b[0m 180ms/step - categorical_accuracy: 0.1201 - loss: 2.3321\n",
            "Epoch 446/2000\n",
            "\u001b[1m7/7\u001b[0m \u001b[32m━━━━━━━━━━━━━━━━━━━━\u001b[0m\u001b[37m\u001b[0m \u001b[1m3s\u001b[0m 286ms/step - categorical_accuracy: 0.1561 - loss: 2.2883\n",
            "Epoch 447/2000\n",
            "\u001b[1m7/7\u001b[0m \u001b[32m━━━━━━━━━━━━━━━━━━━━\u001b[0m\u001b[37m\u001b[0m \u001b[1m3s\u001b[0m 316ms/step - categorical_accuracy: 0.1244 - loss: 2.3062\n",
            "Epoch 448/2000\n",
            "\u001b[1m7/7\u001b[0m \u001b[32m━━━━━━━━━━━━━━━━━━━━\u001b[0m\u001b[37m\u001b[0m \u001b[1m2s\u001b[0m 191ms/step - categorical_accuracy: 0.1471 - loss: 2.3108\n",
            "Epoch 449/2000\n",
            "\u001b[1m7/7\u001b[0m \u001b[32m━━━━━━━━━━━━━━━━━━━━\u001b[0m\u001b[37m\u001b[0m \u001b[1m2s\u001b[0m 180ms/step - categorical_accuracy: 0.1372 - loss: 2.3211\n",
            "Epoch 450/2000\n",
            "\u001b[1m7/7\u001b[0m \u001b[32m━━━━━━━━━━━━━━━━━━━━\u001b[0m\u001b[37m\u001b[0m \u001b[1m3s\u001b[0m 178ms/step - categorical_accuracy: 0.1598 - loss: 2.2854\n",
            "Epoch 451/2000\n",
            "\u001b[1m7/7\u001b[0m \u001b[32m━━━━━━━━━━━━━━━━━━━━\u001b[0m\u001b[37m\u001b[0m \u001b[1m2s\u001b[0m 166ms/step - categorical_accuracy: 0.1210 - loss: 2.3252\n",
            "Epoch 452/2000\n",
            "\u001b[1m7/7\u001b[0m \u001b[32m━━━━━━━━━━━━━━━━━━━━\u001b[0m\u001b[37m\u001b[0m \u001b[1m1s\u001b[0m 171ms/step - categorical_accuracy: 0.1340 - loss: 2.3193\n",
            "Epoch 453/2000\n",
            "\u001b[1m7/7\u001b[0m \u001b[32m━━━━━━━━━━━━━━━━━━━━\u001b[0m\u001b[37m\u001b[0m \u001b[1m2s\u001b[0m 251ms/step - categorical_accuracy: 0.1128 - loss: 2.3151\n",
            "Epoch 454/2000\n",
            "\u001b[1m7/7\u001b[0m \u001b[32m━━━━━━━━━━━━━━━━━━━━\u001b[0m\u001b[37m\u001b[0m \u001b[1m3s\u001b[0m 315ms/step - categorical_accuracy: 0.1214 - loss: 2.3208\n",
            "Epoch 455/2000\n",
            "\u001b[1m7/7\u001b[0m \u001b[32m━━━━━━━━━━━━━━━━━━━━\u001b[0m\u001b[37m\u001b[0m \u001b[1m2s\u001b[0m 177ms/step - categorical_accuracy: 0.1534 - loss: 2.3094\n",
            "Epoch 456/2000\n",
            "\u001b[1m7/7\u001b[0m \u001b[32m━━━━━━━━━━━━━━━━━━━━\u001b[0m\u001b[37m\u001b[0m \u001b[1m1s\u001b[0m 171ms/step - categorical_accuracy: 0.1523 - loss: 2.3115\n",
            "Epoch 457/2000\n",
            "\u001b[1m7/7\u001b[0m \u001b[32m━━━━━━━━━━━━━━━━━━━━\u001b[0m\u001b[37m\u001b[0m \u001b[1m1s\u001b[0m 190ms/step - categorical_accuracy: 0.1590 - loss: 2.3095\n",
            "Epoch 458/2000\n",
            "\u001b[1m7/7\u001b[0m \u001b[32m━━━━━━━━━━━━━━━━━━━━\u001b[0m\u001b[37m\u001b[0m \u001b[1m1s\u001b[0m 166ms/step - categorical_accuracy: 0.1334 - loss: 2.3222\n",
            "Epoch 459/2000\n",
            "\u001b[1m7/7\u001b[0m \u001b[32m━━━━━━━━━━━━━━━━━━━━\u001b[0m\u001b[37m\u001b[0m \u001b[1m1s\u001b[0m 164ms/step - categorical_accuracy: 0.1335 - loss: 2.3146\n",
            "Epoch 460/2000\n",
            "\u001b[1m7/7\u001b[0m \u001b[32m━━━━━━━━━━━━━━━━━━━━\u001b[0m\u001b[37m\u001b[0m \u001b[1m1s\u001b[0m 184ms/step - categorical_accuracy: 0.1137 - loss: 2.3318\n",
            "Epoch 461/2000\n",
            "\u001b[1m7/7\u001b[0m \u001b[32m━━━━━━━━━━━━━━━━━━━━\u001b[0m\u001b[37m\u001b[0m \u001b[1m1s\u001b[0m 178ms/step - categorical_accuracy: 0.1294 - loss: 2.3055\n",
            "Epoch 462/2000\n",
            "\u001b[1m7/7\u001b[0m \u001b[32m━━━━━━━━━━━━━━━━━━━━\u001b[0m\u001b[37m\u001b[0m \u001b[1m3s\u001b[0m 307ms/step - categorical_accuracy: 0.1107 - loss: 2.3122\n",
            "Epoch 463/2000\n",
            "\u001b[1m7/7\u001b[0m \u001b[32m━━━━━━━━━━━━━━━━━━━━\u001b[0m\u001b[37m\u001b[0m \u001b[1m2s\u001b[0m 303ms/step - categorical_accuracy: 0.1503 - loss: 2.3043\n",
            "Epoch 464/2000\n",
            "\u001b[1m7/7\u001b[0m \u001b[32m━━━━━━━━━━━━━━━━━━━━\u001b[0m\u001b[37m\u001b[0m \u001b[1m2s\u001b[0m 229ms/step - categorical_accuracy: 0.1464 - loss: 2.3194\n",
            "Epoch 465/2000\n",
            "\u001b[1m7/7\u001b[0m \u001b[32m━━━━━━━━━━━━━━━━━━━━\u001b[0m\u001b[37m\u001b[0m \u001b[1m2s\u001b[0m 175ms/step - categorical_accuracy: 0.1590 - loss: 2.2981\n",
            "Epoch 466/2000\n",
            "\u001b[1m7/7\u001b[0m \u001b[32m━━━━━━━━━━━━━━━━━━━━\u001b[0m\u001b[37m\u001b[0m \u001b[1m1s\u001b[0m 168ms/step - categorical_accuracy: 0.1329 - loss: 2.3089\n",
            "Epoch 467/2000\n",
            "\u001b[1m7/7\u001b[0m \u001b[32m━━━━━━━━━━━━━━━━━━━━\u001b[0m\u001b[37m\u001b[0m \u001b[1m1s\u001b[0m 166ms/step - categorical_accuracy: 0.1262 - loss: 2.3356\n",
            "Epoch 468/2000\n",
            "\u001b[1m7/7\u001b[0m \u001b[32m━━━━━━━━━━━━━━━━━━━━\u001b[0m\u001b[37m\u001b[0m \u001b[1m1s\u001b[0m 185ms/step - categorical_accuracy: 0.1275 - loss: 2.3189\n",
            "Epoch 469/2000\n",
            "\u001b[1m7/7\u001b[0m \u001b[32m━━━━━━━━━━━━━━━━━━━━\u001b[0m\u001b[37m\u001b[0m \u001b[1m2s\u001b[0m 169ms/step - categorical_accuracy: 0.1410 - loss: 2.3245\n",
            "Epoch 470/2000\n",
            "\u001b[1m7/7\u001b[0m \u001b[32m━━━━━━━━━━━━━━━━━━━━\u001b[0m\u001b[37m\u001b[0m \u001b[1m1s\u001b[0m 194ms/step - categorical_accuracy: 0.1322 - loss: 2.3077\n",
            "Epoch 471/2000\n",
            "\u001b[1m7/7\u001b[0m \u001b[32m━━━━━━━━━━━━━━━━━━━━\u001b[0m\u001b[37m\u001b[0m \u001b[1m2s\u001b[0m 290ms/step - categorical_accuracy: 0.1296 - loss: 2.3069\n",
            "Epoch 472/2000\n",
            "\u001b[1m7/7\u001b[0m \u001b[32m━━━━━━━━━━━━━━━━━━━━\u001b[0m\u001b[37m\u001b[0m \u001b[1m3s\u001b[0m 293ms/step - categorical_accuracy: 0.1464 - loss: 2.3132\n",
            "Epoch 473/2000\n",
            "\u001b[1m7/7\u001b[0m \u001b[32m━━━━━━━━━━━━━━━━━━━━\u001b[0m\u001b[37m\u001b[0m \u001b[1m2s\u001b[0m 190ms/step - categorical_accuracy: 0.1457 - loss: 2.3013\n",
            "Epoch 474/2000\n",
            "\u001b[1m7/7\u001b[0m \u001b[32m━━━━━━━━━━━━━━━━━━━━\u001b[0m\u001b[37m\u001b[0m \u001b[1m1s\u001b[0m 168ms/step - categorical_accuracy: 0.1286 - loss: 2.3383\n",
            "Epoch 475/2000\n",
            "\u001b[1m7/7\u001b[0m \u001b[32m━━━━━━━━━━━━━━━━━━━━\u001b[0m\u001b[37m\u001b[0m \u001b[1m1s\u001b[0m 171ms/step - categorical_accuracy: 0.1523 - loss: 2.3184\n",
            "Epoch 476/2000\n",
            "\u001b[1m7/7\u001b[0m \u001b[32m━━━━━━━━━━━━━━━━━━━━\u001b[0m\u001b[37m\u001b[0m \u001b[1m1s\u001b[0m 168ms/step - categorical_accuracy: 0.1392 - loss: 2.3072\n",
            "Epoch 477/2000\n",
            "\u001b[1m7/7\u001b[0m \u001b[32m━━━━━━━━━━━━━━━━━━━━\u001b[0m\u001b[37m\u001b[0m \u001b[1m1s\u001b[0m 171ms/step - categorical_accuracy: 0.1600 - loss: 2.3176\n",
            "Epoch 478/2000\n",
            "\u001b[1m7/7\u001b[0m \u001b[32m━━━━━━━━━━━━━━━━━━━━\u001b[0m\u001b[37m\u001b[0m \u001b[1m1s\u001b[0m 168ms/step - categorical_accuracy: 0.1474 - loss: 2.3155\n",
            "Epoch 479/2000\n",
            "\u001b[1m7/7\u001b[0m \u001b[32m━━━━━━━━━━━━━━━━━━━━\u001b[0m\u001b[37m\u001b[0m \u001b[1m1s\u001b[0m 168ms/step - categorical_accuracy: 0.1150 - loss: 2.3041\n",
            "Epoch 480/2000\n",
            "\u001b[1m7/7\u001b[0m \u001b[32m━━━━━━━━━━━━━━━━━━━━\u001b[0m\u001b[37m\u001b[0m \u001b[1m1s\u001b[0m 193ms/step - categorical_accuracy: 0.1367 - loss: 2.3123\n",
            "Epoch 481/2000\n",
            "\u001b[1m7/7\u001b[0m \u001b[32m━━━━━━━━━━━━━━━━━━━━\u001b[0m\u001b[37m\u001b[0m \u001b[1m2s\u001b[0m 284ms/step - categorical_accuracy: 0.1520 - loss: 2.3196\n",
            "Epoch 482/2000\n",
            "\u001b[1m7/7\u001b[0m \u001b[32m━━━━━━━━━━━━━━━━━━━━\u001b[0m\u001b[37m\u001b[0m \u001b[1m3s\u001b[0m 299ms/step - categorical_accuracy: 0.1331 - loss: 2.2963\n",
            "Epoch 483/2000\n",
            "\u001b[1m7/7\u001b[0m \u001b[32m━━━━━━━━━━━━━━━━━━━━\u001b[0m\u001b[37m\u001b[0m \u001b[1m2s\u001b[0m 174ms/step - categorical_accuracy: 0.1253 - loss: 2.3187\n",
            "Epoch 484/2000\n",
            "\u001b[1m7/7\u001b[0m \u001b[32m━━━━━━━━━━━━━━━━━━━━\u001b[0m\u001b[37m\u001b[0m \u001b[1m1s\u001b[0m 177ms/step - categorical_accuracy: 0.1620 - loss: 2.2980\n",
            "Epoch 485/2000\n",
            "\u001b[1m7/7\u001b[0m \u001b[32m━━━━━━━━━━━━━━━━━━━━\u001b[0m\u001b[37m\u001b[0m \u001b[1m1s\u001b[0m 169ms/step - categorical_accuracy: 0.1541 - loss: 2.2958\n",
            "Epoch 486/2000\n",
            "\u001b[1m7/7\u001b[0m \u001b[32m━━━━━━━━━━━━━━━━━━━━\u001b[0m\u001b[37m\u001b[0m \u001b[1m1s\u001b[0m 167ms/step - categorical_accuracy: 0.1144 - loss: 2.3095\n",
            "Epoch 487/2000\n",
            "\u001b[1m7/7\u001b[0m \u001b[32m━━━━━━━━━━━━━━━━━━━━\u001b[0m\u001b[37m\u001b[0m \u001b[1m1s\u001b[0m 166ms/step - categorical_accuracy: 0.1294 - loss: 2.3080\n",
            "Epoch 488/2000\n",
            "\u001b[1m7/7\u001b[0m \u001b[32m━━━━━━━━━━━━━━━━━━━━\u001b[0m\u001b[37m\u001b[0m \u001b[1m1s\u001b[0m 166ms/step - categorical_accuracy: 0.1549 - loss: 2.3105\n",
            "Epoch 489/2000\n",
            "\u001b[1m7/7\u001b[0m \u001b[32m━━━━━━━━━━━━━━━━━━━━\u001b[0m\u001b[37m\u001b[0m \u001b[1m1s\u001b[0m 167ms/step - categorical_accuracy: 0.1092 - loss: 2.2978\n",
            "Epoch 490/2000\n",
            "\u001b[1m7/7\u001b[0m \u001b[32m━━━━━━━━━━━━━━━━━━━━\u001b[0m\u001b[37m\u001b[0m \u001b[1m1s\u001b[0m 168ms/step - categorical_accuracy: 0.1245 - loss: 2.3372\n",
            "Epoch 491/2000\n",
            "\u001b[1m7/7\u001b[0m \u001b[32m━━━━━━━━━━━━━━━━━━━━\u001b[0m\u001b[37m\u001b[0m \u001b[1m2s\u001b[0m 283ms/step - categorical_accuracy: 0.1265 - loss: 2.3003\n",
            "Epoch 492/2000\n",
            "\u001b[1m7/7\u001b[0m \u001b[32m━━━━━━━━━━━━━━━━━━━━\u001b[0m\u001b[37m\u001b[0m \u001b[1m2s\u001b[0m 275ms/step - categorical_accuracy: 0.1464 - loss: 2.2937\n",
            "Epoch 493/2000\n",
            "\u001b[1m7/7\u001b[0m \u001b[32m━━━━━━━━━━━━━━━━━━━━\u001b[0m\u001b[37m\u001b[0m \u001b[1m2s\u001b[0m 325ms/step - categorical_accuracy: 0.1442 - loss: 2.3102\n",
            "Epoch 494/2000\n",
            "\u001b[1m7/7\u001b[0m \u001b[32m━━━━━━━━━━━━━━━━━━━━\u001b[0m\u001b[37m\u001b[0m \u001b[1m1s\u001b[0m 166ms/step - categorical_accuracy: 0.1350 - loss: 2.3200\n",
            "Epoch 495/2000\n",
            "\u001b[1m7/7\u001b[0m \u001b[32m━━━━━━━━━━━━━━━━━━━━\u001b[0m\u001b[37m\u001b[0m \u001b[1m1s\u001b[0m 170ms/step - categorical_accuracy: 0.1389 - loss: 2.3260\n",
            "Epoch 496/2000\n",
            "\u001b[1m7/7\u001b[0m \u001b[32m━━━━━━━━━━━━━━━━━━━━\u001b[0m\u001b[37m\u001b[0m \u001b[1m1s\u001b[0m 174ms/step - categorical_accuracy: 0.1430 - loss: 2.3279\n",
            "Epoch 497/2000\n",
            "\u001b[1m7/7\u001b[0m \u001b[32m━━━━━━━━━━━━━━━━━━━━\u001b[0m\u001b[37m\u001b[0m \u001b[1m1s\u001b[0m 165ms/step - categorical_accuracy: 0.1189 - loss: 2.3139\n",
            "Epoch 498/2000\n",
            "\u001b[1m7/7\u001b[0m \u001b[32m━━━━━━━━━━━━━━━━━━━━\u001b[0m\u001b[37m\u001b[0m \u001b[1m1s\u001b[0m 177ms/step - categorical_accuracy: 0.1340 - loss: 2.2966\n",
            "Epoch 499/2000\n",
            "\u001b[1m7/7\u001b[0m \u001b[32m━━━━━━━━━━━━━━━━━━━━\u001b[0m\u001b[37m\u001b[0m \u001b[1m1s\u001b[0m 166ms/step - categorical_accuracy: 0.1241 - loss: 2.3051\n",
            "Epoch 500/2000\n",
            "\u001b[1m7/7\u001b[0m \u001b[32m━━━━━━━━━━━━━━━━━━━━\u001b[0m\u001b[37m\u001b[0m \u001b[1m1s\u001b[0m 167ms/step - categorical_accuracy: 0.1404 - loss: 2.2932\n",
            "Epoch 501/2000\n",
            "\u001b[1m7/7\u001b[0m \u001b[32m━━━━━━━━━━━━━━━━━━━━\u001b[0m\u001b[37m\u001b[0m \u001b[1m1s\u001b[0m 175ms/step - categorical_accuracy: 0.1264 - loss: 2.3111\n",
            "Epoch 502/2000\n",
            "\u001b[1m7/7\u001b[0m \u001b[32m━━━━━━━━━━━━━━━━━━━━\u001b[0m\u001b[37m\u001b[0m \u001b[1m2s\u001b[0m 305ms/step - categorical_accuracy: 0.1313 - loss: 2.3043\n",
            "Epoch 503/2000\n",
            "\u001b[1m7/7\u001b[0m \u001b[32m━━━━━━━━━━━━━━━━━━━━\u001b[0m\u001b[37m\u001b[0m \u001b[1m2s\u001b[0m 302ms/step - categorical_accuracy: 0.1169 - loss: 2.3090\n",
            "Epoch 504/2000\n",
            "\u001b[1m7/7\u001b[0m \u001b[32m━━━━━━━━━━━━━━━━━━━━\u001b[0m\u001b[37m\u001b[0m \u001b[1m2s\u001b[0m 250ms/step - categorical_accuracy: 0.1555 - loss: 2.2820\n",
            "Epoch 505/2000\n",
            "\u001b[1m7/7\u001b[0m \u001b[32m━━━━━━━━━━━━━━━━━━━━\u001b[0m\u001b[37m\u001b[0m \u001b[1m1s\u001b[0m 168ms/step - categorical_accuracy: 0.1346 - loss: 2.2830\n",
            "Epoch 506/2000\n",
            "\u001b[1m7/7\u001b[0m \u001b[32m━━━━━━━━━━━━━━━━━━━━\u001b[0m\u001b[37m\u001b[0m \u001b[1m1s\u001b[0m 163ms/step - categorical_accuracy: 0.1541 - loss: 2.3026\n",
            "Epoch 507/2000\n",
            "\u001b[1m7/7\u001b[0m \u001b[32m━━━━━━━━━━━━━━━━━━━━\u001b[0m\u001b[37m\u001b[0m \u001b[1m1s\u001b[0m 164ms/step - categorical_accuracy: 0.1349 - loss: 2.3150\n",
            "Epoch 508/2000\n",
            "\u001b[1m7/7\u001b[0m \u001b[32m━━━━━━━━━━━━━━━━━━━━\u001b[0m\u001b[37m\u001b[0m \u001b[1m1s\u001b[0m 165ms/step - categorical_accuracy: 0.1305 - loss: 2.3079\n",
            "Epoch 509/2000\n",
            "\u001b[1m7/7\u001b[0m \u001b[32m━━━━━━━━━━━━━━━━━━━━\u001b[0m\u001b[37m\u001b[0m \u001b[1m1s\u001b[0m 167ms/step - categorical_accuracy: 0.1279 - loss: 2.3122\n",
            "Epoch 510/2000\n",
            "\u001b[1m7/7\u001b[0m \u001b[32m━━━━━━━━━━━━━━━━━━━━\u001b[0m\u001b[37m\u001b[0m \u001b[1m1s\u001b[0m 169ms/step - categorical_accuracy: 0.1201 - loss: 2.2858\n",
            "Epoch 511/2000\n",
            "\u001b[1m7/7\u001b[0m \u001b[32m━━━━━━━━━━━━━━━━━━━━\u001b[0m\u001b[37m\u001b[0m \u001b[1m1s\u001b[0m 168ms/step - categorical_accuracy: 0.1435 - loss: 2.3251\n",
            "Epoch 512/2000\n",
            "\u001b[1m7/7\u001b[0m \u001b[32m━━━━━━━━━━━━━━━━━━━━\u001b[0m\u001b[37m\u001b[0m \u001b[1m1s\u001b[0m 192ms/step - categorical_accuracy: 0.1285 - loss: 2.3130\n",
            "Epoch 513/2000\n",
            "\u001b[1m7/7\u001b[0m \u001b[32m━━━━━━━━━━━━━━━━━━━━\u001b[0m\u001b[37m\u001b[0m \u001b[1m2s\u001b[0m 280ms/step - categorical_accuracy: 0.1197 - loss: 2.3208\n",
            "Epoch 514/2000\n",
            "\u001b[1m7/7\u001b[0m \u001b[32m━━━━━━━━━━━━━━━━━━━━\u001b[0m\u001b[37m\u001b[0m \u001b[1m3s\u001b[0m 309ms/step - categorical_accuracy: 0.1318 - loss: 2.3344\n",
            "Epoch 515/2000\n",
            "\u001b[1m7/7\u001b[0m \u001b[32m━━━━━━━━━━━━━━━━━━━━\u001b[0m\u001b[37m\u001b[0m \u001b[1m2s\u001b[0m 202ms/step - categorical_accuracy: 0.1258 - loss: 2.3329\n",
            "Epoch 516/2000\n",
            "\u001b[1m7/7\u001b[0m \u001b[32m━━━━━━━━━━━━━━━━━━━━\u001b[0m\u001b[37m\u001b[0m \u001b[1m1s\u001b[0m 168ms/step - categorical_accuracy: 0.1128 - loss: 2.3119\n",
            "Epoch 517/2000\n",
            "\u001b[1m7/7\u001b[0m \u001b[32m━━━━━━━━━━━━━━━━━━━━\u001b[0m\u001b[37m\u001b[0m \u001b[1m1s\u001b[0m 167ms/step - categorical_accuracy: 0.1169 - loss: 2.3107\n",
            "Epoch 518/2000\n",
            "\u001b[1m7/7\u001b[0m \u001b[32m━━━━━━━━━━━━━━━━━━━━\u001b[0m\u001b[37m\u001b[0m \u001b[1m1s\u001b[0m 169ms/step - categorical_accuracy: 0.1301 - loss: 2.3047\n",
            "Epoch 519/2000\n",
            "\u001b[1m7/7\u001b[0m \u001b[32m━━━━━━━━━━━━━━━━━━━━\u001b[0m\u001b[37m\u001b[0m \u001b[1m1s\u001b[0m 169ms/step - categorical_accuracy: 0.1248 - loss: 2.2983\n",
            "Epoch 520/2000\n",
            "\u001b[1m7/7\u001b[0m \u001b[32m━━━━━━━━━━━━━━━━━━━━\u001b[0m\u001b[37m\u001b[0m \u001b[1m1s\u001b[0m 169ms/step - categorical_accuracy: 0.1452 - loss: 2.3054\n",
            "Epoch 521/2000\n",
            "\u001b[1m7/7\u001b[0m \u001b[32m━━━━━━━━━━━━━━━━━━━━\u001b[0m\u001b[37m\u001b[0m \u001b[1m1s\u001b[0m 170ms/step - categorical_accuracy: 0.1262 - loss: 2.3110\n",
            "Epoch 522/2000\n",
            "\u001b[1m7/7\u001b[0m \u001b[32m━━━━━━━━━━━━━━━━━━━━\u001b[0m\u001b[37m\u001b[0m \u001b[1m1s\u001b[0m 171ms/step - categorical_accuracy: 0.1740 - loss: 2.2786\n",
            "Epoch 523/2000\n",
            "\u001b[1m7/7\u001b[0m \u001b[32m━━━━━━━━━━━━━━━━━━━━\u001b[0m\u001b[37m\u001b[0m \u001b[1m2s\u001b[0m 247ms/step - categorical_accuracy: 0.1260 - loss: 2.3197\n",
            "Epoch 524/2000\n",
            "\u001b[1m7/7\u001b[0m \u001b[32m━━━━━━━━━━━━━━━━━━━━\u001b[0m\u001b[37m\u001b[0m \u001b[1m3s\u001b[0m 309ms/step - categorical_accuracy: 0.1061 - loss: 2.2835\n",
            "Epoch 525/2000\n",
            "\u001b[1m7/7\u001b[0m \u001b[32m━━━━━━━━━━━━━━━━━━━━\u001b[0m\u001b[37m\u001b[0m \u001b[1m2s\u001b[0m 167ms/step - categorical_accuracy: 0.1436 - loss: 2.2945\n",
            "Epoch 526/2000\n",
            "\u001b[1m7/7\u001b[0m \u001b[32m━━━━━━━━━━━━━━━━━━━━\u001b[0m\u001b[37m\u001b[0m \u001b[1m1s\u001b[0m 167ms/step - categorical_accuracy: 0.1352 - loss: 2.3078\n",
            "Epoch 527/2000\n",
            "\u001b[1m7/7\u001b[0m \u001b[32m━━━━━━━━━━━━━━━━━━━━\u001b[0m\u001b[37m\u001b[0m \u001b[1m1s\u001b[0m 183ms/step - categorical_accuracy: 0.1210 - loss: 2.3090\n",
            "Epoch 528/2000\n",
            "\u001b[1m7/7\u001b[0m \u001b[32m━━━━━━━━━━━━━━━━━━━━\u001b[0m\u001b[37m\u001b[0m \u001b[1m2s\u001b[0m 174ms/step - categorical_accuracy: 0.1353 - loss: 2.3153\n",
            "Epoch 529/2000\n",
            "\u001b[1m7/7\u001b[0m \u001b[32m━━━━━━━━━━━━━━━━━━━━\u001b[0m\u001b[37m\u001b[0m \u001b[1m1s\u001b[0m 168ms/step - categorical_accuracy: 0.1209 - loss: 2.2981\n",
            "Epoch 530/2000\n",
            "\u001b[1m7/7\u001b[0m \u001b[32m━━━━━━━━━━━━━━━━━━━━\u001b[0m\u001b[37m\u001b[0m \u001b[1m1s\u001b[0m 165ms/step - categorical_accuracy: 0.1177 - loss: 2.2860\n",
            "Epoch 531/2000\n",
            "\u001b[1m7/7\u001b[0m \u001b[32m━━━━━━━━━━━━━━━━━━━━\u001b[0m\u001b[37m\u001b[0m \u001b[1m1s\u001b[0m 165ms/step - categorical_accuracy: 0.1238 - loss: 2.3039\n",
            "Epoch 532/2000\n",
            "\u001b[1m7/7\u001b[0m \u001b[32m━━━━━━━━━━━━━━━━━━━━\u001b[0m\u001b[37m\u001b[0m \u001b[1m2s\u001b[0m 282ms/step - categorical_accuracy: 0.1180 - loss: 2.3021\n",
            "Epoch 533/2000\n",
            "\u001b[1m7/7\u001b[0m \u001b[32m━━━━━━━━━━━━━━━━━━━━\u001b[0m\u001b[37m\u001b[0m \u001b[1m2s\u001b[0m 299ms/step - categorical_accuracy: 0.1401 - loss: 2.2956\n",
            "Epoch 534/2000\n",
            "\u001b[1m7/7\u001b[0m \u001b[32m━━━━━━━━━━━━━━━━━━━━\u001b[0m\u001b[37m\u001b[0m \u001b[1m2s\u001b[0m 321ms/step - categorical_accuracy: 0.1239 - loss: 2.3192\n",
            "Epoch 535/2000\n",
            "\u001b[1m7/7\u001b[0m \u001b[32m━━━━━━━━━━━━━━━━━━━━\u001b[0m\u001b[37m\u001b[0m \u001b[1m2s\u001b[0m 182ms/step - categorical_accuracy: 0.1350 - loss: 2.3065\n",
            "Epoch 536/2000\n",
            "\u001b[1m7/7\u001b[0m \u001b[32m━━━━━━━━━━━━━━━━━━━━\u001b[0m\u001b[37m\u001b[0m \u001b[1m2s\u001b[0m 175ms/step - categorical_accuracy: 0.1331 - loss: 2.3054\n",
            "Epoch 537/2000\n",
            "\u001b[1m7/7\u001b[0m \u001b[32m━━━━━━━━━━━━━━━━━━━━\u001b[0m\u001b[37m\u001b[0m \u001b[1m1s\u001b[0m 177ms/step - categorical_accuracy: 0.1365 - loss: 2.2951\n",
            "Epoch 538/2000\n",
            "\u001b[1m7/7\u001b[0m \u001b[32m━━━━━━━━━━━━━━━━━━━━\u001b[0m\u001b[37m\u001b[0m \u001b[1m3s\u001b[0m 176ms/step - categorical_accuracy: 0.1382 - loss: 2.3056\n",
            "Epoch 539/2000\n",
            "\u001b[1m7/7\u001b[0m \u001b[32m━━━━━━━━━━━━━━━━━━━━\u001b[0m\u001b[37m\u001b[0m \u001b[1m1s\u001b[0m 167ms/step - categorical_accuracy: 0.1297 - loss: 2.2983\n",
            "Epoch 540/2000\n",
            "\u001b[1m7/7\u001b[0m \u001b[32m━━━━━━━━━━━━━━━━━━━━\u001b[0m\u001b[37m\u001b[0m \u001b[1m1s\u001b[0m 170ms/step - categorical_accuracy: 0.1486 - loss: 2.3293\n",
            "Epoch 541/2000\n",
            "\u001b[1m7/7\u001b[0m \u001b[32m━━━━━━━━━━━━━━━━━━━━\u001b[0m\u001b[37m\u001b[0m \u001b[1m2s\u001b[0m 308ms/step - categorical_accuracy: 0.1142 - loss: 2.3315\n",
            "Epoch 542/2000\n",
            "\u001b[1m7/7\u001b[0m \u001b[32m━━━━━━━━━━━━━━━━━━━━\u001b[0m\u001b[37m\u001b[0m \u001b[1m3s\u001b[0m 314ms/step - categorical_accuracy: 0.1351 - loss: 2.3108\n",
            "Epoch 543/2000\n",
            "\u001b[1m7/7\u001b[0m \u001b[32m━━━━━━━━━━━━━━━━━━━━\u001b[0m\u001b[37m\u001b[0m \u001b[1m2s\u001b[0m 263ms/step - categorical_accuracy: 0.1430 - loss: 2.3103\n",
            "Epoch 544/2000\n",
            "\u001b[1m7/7\u001b[0m \u001b[32m━━━━━━━━━━━━━━━━━━━━\u001b[0m\u001b[37m\u001b[0m \u001b[1m2s\u001b[0m 181ms/step - categorical_accuracy: 0.1209 - loss: 2.3017\n",
            "Epoch 545/2000\n",
            "\u001b[1m7/7\u001b[0m \u001b[32m━━━━━━━━━━━━━━━━━━━━\u001b[0m\u001b[37m\u001b[0m \u001b[1m1s\u001b[0m 168ms/step - categorical_accuracy: 0.1114 - loss: 2.2962\n",
            "Epoch 546/2000\n",
            "\u001b[1m7/7\u001b[0m \u001b[32m━━━━━━━━━━━━━━━━━━━━\u001b[0m\u001b[37m\u001b[0m \u001b[1m1s\u001b[0m 167ms/step - categorical_accuracy: 0.1432 - loss: 2.2991\n",
            "Epoch 547/2000\n",
            "\u001b[1m7/7\u001b[0m \u001b[32m━━━━━━━━━━━━━━━━━━━━\u001b[0m\u001b[37m\u001b[0m \u001b[1m1s\u001b[0m 167ms/step - categorical_accuracy: 0.1520 - loss: 2.3068\n",
            "Epoch 548/2000\n",
            "\u001b[1m7/7\u001b[0m \u001b[32m━━━━━━━━━━━━━━━━━━━━\u001b[0m\u001b[37m\u001b[0m \u001b[1m1s\u001b[0m 167ms/step - categorical_accuracy: 0.1282 - loss: 2.3169\n",
            "Epoch 549/2000\n",
            "\u001b[1m7/7\u001b[0m \u001b[32m━━━━━━━━━━━━━━━━━━━━\u001b[0m\u001b[37m\u001b[0m \u001b[1m1s\u001b[0m 169ms/step - categorical_accuracy: 0.1637 - loss: 2.2901\n",
            "Epoch 550/2000\n",
            "\u001b[1m7/7\u001b[0m \u001b[32m━━━━━━━━━━━━━━━━━━━━\u001b[0m\u001b[37m\u001b[0m \u001b[1m1s\u001b[0m 165ms/step - categorical_accuracy: 0.1422 - loss: 2.3076\n",
            "Epoch 551/2000\n",
            "\u001b[1m7/7\u001b[0m \u001b[32m━━━━━━━━━━━━━━━━━━━━\u001b[0m\u001b[37m\u001b[0m \u001b[1m2s\u001b[0m 273ms/step - categorical_accuracy: 0.1587 - loss: 2.3198\n",
            "Epoch 552/2000\n",
            "\u001b[1m7/7\u001b[0m \u001b[32m━━━━━━━━━━━━━━━━━━━━\u001b[0m\u001b[37m\u001b[0m \u001b[1m2s\u001b[0m 284ms/step - categorical_accuracy: 0.1210 - loss: 2.3371\n",
            "Epoch 553/2000\n",
            "\u001b[1m7/7\u001b[0m \u001b[32m━━━━━━━━━━━━━━━━━━━━\u001b[0m\u001b[37m\u001b[0m \u001b[1m2s\u001b[0m 317ms/step - categorical_accuracy: 0.1305 - loss: 2.3030\n",
            "Epoch 554/2000\n",
            "\u001b[1m7/7\u001b[0m \u001b[32m━━━━━━━━━━━━━━━━━━━━\u001b[0m\u001b[37m\u001b[0m \u001b[1m2s\u001b[0m 167ms/step - categorical_accuracy: 0.1574 - loss: 2.3192\n",
            "Epoch 555/2000\n",
            "\u001b[1m7/7\u001b[0m \u001b[32m━━━━━━━━━━━━━━━━━━━━\u001b[0m\u001b[37m\u001b[0m \u001b[1m1s\u001b[0m 171ms/step - categorical_accuracy: 0.1202 - loss: 2.3118\n",
            "Epoch 556/2000\n",
            "\u001b[1m7/7\u001b[0m \u001b[32m━━━━━━━━━━━━━━━━━━━━\u001b[0m\u001b[37m\u001b[0m \u001b[1m1s\u001b[0m 184ms/step - categorical_accuracy: 0.1398 - loss: 2.3206\n",
            "Epoch 557/2000\n",
            "\u001b[1m7/7\u001b[0m \u001b[32m━━━━━━━━━━━━━━━━━━━━\u001b[0m\u001b[37m\u001b[0m \u001b[1m1s\u001b[0m 185ms/step - categorical_accuracy: 0.1196 - loss: 2.3006\n",
            "Epoch 558/2000\n",
            "\u001b[1m7/7\u001b[0m \u001b[32m━━━━━━━━━━━━━━━━━━━━\u001b[0m\u001b[37m\u001b[0m \u001b[1m2s\u001b[0m 171ms/step - categorical_accuracy: 0.1567 - loss: 2.2927\n",
            "Epoch 559/2000\n",
            "\u001b[1m7/7\u001b[0m \u001b[32m━━━━━━━━━━━━━━━━━━━━\u001b[0m\u001b[37m\u001b[0m \u001b[1m1s\u001b[0m 180ms/step - categorical_accuracy: 0.1066 - loss: 2.3015\n",
            "Epoch 560/2000\n",
            "\u001b[1m7/7\u001b[0m \u001b[32m━━━━━━━━━━━━━━━━━━━━\u001b[0m\u001b[37m\u001b[0m \u001b[1m3s\u001b[0m 306ms/step - categorical_accuracy: 0.1456 - loss: 2.2965\n",
            "Epoch 561/2000\n",
            "\u001b[1m7/7\u001b[0m \u001b[32m━━━━━━━━━━━━━━━━━━━━\u001b[0m\u001b[37m\u001b[0m \u001b[1m2s\u001b[0m 303ms/step - categorical_accuracy: 0.1202 - loss: 2.3290\n",
            "Epoch 562/2000\n",
            "\u001b[1m7/7\u001b[0m \u001b[32m━━━━━━━━━━━━━━━━━━━━\u001b[0m\u001b[37m\u001b[0m \u001b[1m2s\u001b[0m 180ms/step - categorical_accuracy: 0.1270 - loss: 2.3135\n",
            "Epoch 563/2000\n",
            "\u001b[1m7/7\u001b[0m \u001b[32m━━━━━━━━━━━━━━━━━━━━\u001b[0m\u001b[37m\u001b[0m \u001b[1m2s\u001b[0m 185ms/step - categorical_accuracy: 0.1133 - loss: 2.3099\n",
            "Epoch 564/2000\n",
            "\u001b[1m7/7\u001b[0m \u001b[32m━━━━━━━━━━━━━━━━━━━━\u001b[0m\u001b[37m\u001b[0m \u001b[1m2s\u001b[0m 169ms/step - categorical_accuracy: 0.1402 - loss: 2.3181\n",
            "Epoch 565/2000\n",
            "\u001b[1m7/7\u001b[0m \u001b[32m━━━━━━━━━━━━━━━━━━━━\u001b[0m\u001b[37m\u001b[0m \u001b[1m1s\u001b[0m 182ms/step - categorical_accuracy: 0.1544 - loss: 2.3026\n",
            "Epoch 566/2000\n",
            "\u001b[1m7/7\u001b[0m \u001b[32m━━━━━━━━━━━━━━━━━━━━\u001b[0m\u001b[37m\u001b[0m \u001b[1m3s\u001b[0m 176ms/step - categorical_accuracy: 0.1325 - loss: 2.3336\n",
            "Epoch 567/2000\n",
            "\u001b[1m7/7\u001b[0m \u001b[32m━━━━━━━━━━━━━━━━━━━━\u001b[0m\u001b[37m\u001b[0m \u001b[1m2s\u001b[0m 277ms/step - categorical_accuracy: 0.1437 - loss: 2.3234\n",
            "Epoch 568/2000\n",
            "\u001b[1m7/7\u001b[0m \u001b[32m━━━━━━━━━━━━━━━━━━━━\u001b[0m\u001b[37m\u001b[0m \u001b[1m2s\u001b[0m 293ms/step - categorical_accuracy: 0.1047 - loss: 2.3067\n",
            "Epoch 569/2000\n",
            "\u001b[1m7/7\u001b[0m \u001b[32m━━━━━━━━━━━━━━━━━━━━\u001b[0m\u001b[37m\u001b[0m \u001b[1m2s\u001b[0m 292ms/step - categorical_accuracy: 0.1502 - loss: 2.2625\n",
            "Epoch 570/2000\n",
            "\u001b[1m7/7\u001b[0m \u001b[32m━━━━━━━━━━━━━━━━━━━━\u001b[0m\u001b[37m\u001b[0m \u001b[1m2s\u001b[0m 248ms/step - categorical_accuracy: 0.1463 - loss: 2.3042\n",
            "Epoch 571/2000\n",
            "\u001b[1m7/7\u001b[0m \u001b[32m━━━━━━━━━━━━━━━━━━━━\u001b[0m\u001b[37m\u001b[0m \u001b[1m2s\u001b[0m 183ms/step - categorical_accuracy: 0.1213 - loss: 2.3189\n",
            "Epoch 572/2000\n",
            "\u001b[1m7/7\u001b[0m \u001b[32m━━━━━━━━━━━━━━━━━━━━\u001b[0m\u001b[37m\u001b[0m \u001b[1m1s\u001b[0m 171ms/step - categorical_accuracy: 0.1251 - loss: 2.2983\n",
            "Epoch 573/2000\n",
            "\u001b[1m7/7\u001b[0m \u001b[32m━━━━━━━━━━━━━━━━━━━━\u001b[0m\u001b[37m\u001b[0m \u001b[1m1s\u001b[0m 185ms/step - categorical_accuracy: 0.1207 - loss: 2.3025\n",
            "Epoch 574/2000\n",
            "\u001b[1m7/7\u001b[0m \u001b[32m━━━━━━━━━━━━━━━━━━━━\u001b[0m\u001b[37m\u001b[0m \u001b[1m3s\u001b[0m 198ms/step - categorical_accuracy: 0.1531 - loss: 2.3161\n",
            "Epoch 575/2000\n",
            "\u001b[1m7/7\u001b[0m \u001b[32m━━━━━━━━━━━━━━━━━━━━\u001b[0m\u001b[37m\u001b[0m \u001b[1m1s\u001b[0m 177ms/step - categorical_accuracy: 0.1553 - loss: 2.3057\n",
            "Epoch 576/2000\n",
            "\u001b[1m7/7\u001b[0m \u001b[32m━━━━━━━━━━━━━━━━━━━━\u001b[0m\u001b[37m\u001b[0m \u001b[1m3s\u001b[0m 301ms/step - categorical_accuracy: 0.1550 - loss: 2.3004\n",
            "Epoch 577/2000\n",
            "\u001b[1m7/7\u001b[0m \u001b[32m━━━━━━━━━━━━━━━━━━━━\u001b[0m\u001b[37m\u001b[0m \u001b[1m3s\u001b[0m 306ms/step - categorical_accuracy: 0.1378 - loss: 2.2871\n",
            "Epoch 578/2000\n",
            "\u001b[1m7/7\u001b[0m \u001b[32m━━━━━━━━━━━━━━━━━━━━\u001b[0m\u001b[37m\u001b[0m \u001b[1m2s\u001b[0m 242ms/step - categorical_accuracy: 0.1547 - loss: 2.2822\n",
            "Epoch 579/2000\n",
            "\u001b[1m7/7\u001b[0m \u001b[32m━━━━━━━━━━━━━━━━━━━━\u001b[0m\u001b[37m\u001b[0m \u001b[1m2s\u001b[0m 171ms/step - categorical_accuracy: 0.1405 - loss: 2.2870\n",
            "Epoch 580/2000\n",
            "\u001b[1m7/7\u001b[0m \u001b[32m━━━━━━━━━━━━━━━━━━━━\u001b[0m\u001b[37m\u001b[0m \u001b[1m1s\u001b[0m 173ms/step - categorical_accuracy: 0.1562 - loss: 2.3097\n",
            "Epoch 581/2000\n",
            "\u001b[1m7/7\u001b[0m \u001b[32m━━━━━━━━━━━━━━━━━━━━\u001b[0m\u001b[37m\u001b[0m \u001b[1m1s\u001b[0m 170ms/step - categorical_accuracy: 0.1460 - loss: 2.2917\n",
            "Epoch 582/2000\n",
            "\u001b[1m7/7\u001b[0m \u001b[32m━━━━━━━━━━━━━━━━━━━━\u001b[0m\u001b[37m\u001b[0m \u001b[1m1s\u001b[0m 196ms/step - categorical_accuracy: 0.1347 - loss: 2.2972\n",
            "Epoch 583/2000\n",
            "\u001b[1m7/7\u001b[0m \u001b[32m━━━━━━━━━━━━━━━━━━━━\u001b[0m\u001b[37m\u001b[0m \u001b[1m1s\u001b[0m 169ms/step - categorical_accuracy: 0.1523 - loss: 2.3022\n",
            "Epoch 584/2000\n",
            "\u001b[1m7/7\u001b[0m \u001b[32m━━━━━━━━━━━━━━━━━━━━\u001b[0m\u001b[37m\u001b[0m \u001b[1m1s\u001b[0m 167ms/step - categorical_accuracy: 0.1214 - loss: 2.3514\n",
            "Epoch 585/2000\n",
            "\u001b[1m7/7\u001b[0m \u001b[32m━━━━━━━━━━━━━━━━━━━━\u001b[0m\u001b[37m\u001b[0m \u001b[1m2s\u001b[0m 208ms/step - categorical_accuracy: 0.1333 - loss: 2.3095\n",
            "Epoch 586/2000\n",
            "\u001b[1m7/7\u001b[0m \u001b[32m━━━━━━━━━━━━━━━━━━━━\u001b[0m\u001b[37m\u001b[0m \u001b[1m2s\u001b[0m 307ms/step - categorical_accuracy: 0.1297 - loss: 2.3391\n",
            "Epoch 587/2000\n",
            "\u001b[1m7/7\u001b[0m \u001b[32m━━━━━━━━━━━━━━━━━━━━\u001b[0m\u001b[37m\u001b[0m \u001b[1m3s\u001b[0m 317ms/step - categorical_accuracy: 0.1357 - loss: 2.3075\n",
            "Epoch 588/2000\n",
            "\u001b[1m7/7\u001b[0m \u001b[32m━━━━━━━━━━━━━━━━━━━━\u001b[0m\u001b[37m\u001b[0m \u001b[1m2s\u001b[0m 233ms/step - categorical_accuracy: 0.1357 - loss: 2.2990\n",
            "Epoch 589/2000\n",
            "\u001b[1m7/7\u001b[0m \u001b[32m━━━━━━━━━━━━━━━━━━━━\u001b[0m\u001b[37m\u001b[0m \u001b[1m2s\u001b[0m 181ms/step - categorical_accuracy: 0.1395 - loss: 2.2827\n",
            "Epoch 590/2000\n",
            "\u001b[1m7/7\u001b[0m \u001b[32m━━━━━━━━━━━━━━━━━━━━\u001b[0m\u001b[37m\u001b[0m \u001b[1m1s\u001b[0m 172ms/step - categorical_accuracy: 0.1459 - loss: 2.2808\n",
            "Epoch 591/2000\n",
            "\u001b[1m7/7\u001b[0m \u001b[32m━━━━━━━━━━━━━━━━━━━━\u001b[0m\u001b[37m\u001b[0m \u001b[1m1s\u001b[0m 173ms/step - categorical_accuracy: 0.1429 - loss: 2.3000\n",
            "Epoch 592/2000\n",
            "\u001b[1m7/7\u001b[0m \u001b[32m━━━━━━━━━━━━━━━━━━━━\u001b[0m\u001b[37m\u001b[0m \u001b[1m1s\u001b[0m 172ms/step - categorical_accuracy: 0.1289 - loss: 2.2967\n",
            "Epoch 593/2000\n",
            "\u001b[1m7/7\u001b[0m \u001b[32m━━━━━━━━━━━━━━━━━━━━\u001b[0m\u001b[37m\u001b[0m \u001b[1m1s\u001b[0m 174ms/step - categorical_accuracy: 0.1425 - loss: 2.3129\n",
            "Epoch 594/2000\n",
            "\u001b[1m7/7\u001b[0m \u001b[32m━━━━━━━━━━━━━━━━━━━━\u001b[0m\u001b[37m\u001b[0m \u001b[1m1s\u001b[0m 178ms/step - categorical_accuracy: 0.1223 - loss: 2.2948\n",
            "Epoch 595/2000\n",
            "\u001b[1m7/7\u001b[0m \u001b[32m━━━━━━━━━━━━━━━━━━━━\u001b[0m\u001b[37m\u001b[0m \u001b[1m2s\u001b[0m 222ms/step - categorical_accuracy: 0.1250 - loss: 2.2912\n",
            "Epoch 596/2000\n",
            "\u001b[1m7/7\u001b[0m \u001b[32m━━━━━━━━━━━━━━━━━━━━\u001b[0m\u001b[37m\u001b[0m \u001b[1m2s\u001b[0m 290ms/step - categorical_accuracy: 0.1475 - loss: 2.2905\n",
            "Epoch 597/2000\n",
            "\u001b[1m7/7\u001b[0m \u001b[32m━━━━━━━━━━━━━━━━━━━━\u001b[0m\u001b[37m\u001b[0m \u001b[1m3s\u001b[0m 303ms/step - categorical_accuracy: 0.1123 - loss: 2.3030\n",
            "Epoch 598/2000\n",
            "\u001b[1m7/7\u001b[0m \u001b[32m━━━━━━━━━━━━━━━━━━━━\u001b[0m\u001b[37m\u001b[0m \u001b[1m1s\u001b[0m 171ms/step - categorical_accuracy: 0.1221 - loss: 2.3042\n",
            "Epoch 599/2000\n",
            "\u001b[1m7/7\u001b[0m \u001b[32m━━━━━━━━━━━━━━━━━━━━\u001b[0m\u001b[37m\u001b[0m \u001b[1m1s\u001b[0m 172ms/step - categorical_accuracy: 0.1326 - loss: 2.3004\n",
            "Epoch 600/2000\n",
            "\u001b[1m7/7\u001b[0m \u001b[32m━━━━━━━━━━━━━━━━━━━━\u001b[0m\u001b[37m\u001b[0m \u001b[1m1s\u001b[0m 172ms/step - categorical_accuracy: 0.1349 - loss: 2.3114\n",
            "Epoch 601/2000\n",
            "\u001b[1m7/7\u001b[0m \u001b[32m━━━━━━━━━━━━━━━━━━━━\u001b[0m\u001b[37m\u001b[0m \u001b[1m1s\u001b[0m 179ms/step - categorical_accuracy: 0.1415 - loss: 2.2918\n",
            "Epoch 602/2000\n",
            "\u001b[1m7/7\u001b[0m \u001b[32m━━━━━━━━━━━━━━━━━━━━\u001b[0m\u001b[37m\u001b[0m \u001b[1m1s\u001b[0m 171ms/step - categorical_accuracy: 0.1182 - loss: 2.3295\n",
            "Epoch 603/2000\n",
            "\u001b[1m7/7\u001b[0m \u001b[32m━━━━━━━━━━━━━━━━━━━━\u001b[0m\u001b[37m\u001b[0m \u001b[1m1s\u001b[0m 172ms/step - categorical_accuracy: 0.1119 - loss: 2.3160\n",
            "Epoch 604/2000\n",
            "\u001b[1m7/7\u001b[0m \u001b[32m━━━━━━━━━━━━━━━━━━━━\u001b[0m\u001b[37m\u001b[0m \u001b[1m1s\u001b[0m 173ms/step - categorical_accuracy: 0.1196 - loss: 2.2882\n",
            "Epoch 605/2000\n",
            "\u001b[1m7/7\u001b[0m \u001b[32m━━━━━━━━━━━━━━━━━━━━\u001b[0m\u001b[37m\u001b[0m \u001b[1m1s\u001b[0m 171ms/step - categorical_accuracy: 0.1173 - loss: 2.3069\n",
            "Epoch 606/2000\n",
            "\u001b[1m7/7\u001b[0m \u001b[32m━━━━━━━━━━━━━━━━━━━━\u001b[0m\u001b[37m\u001b[0m \u001b[1m2s\u001b[0m 294ms/step - categorical_accuracy: 0.1382 - loss: 2.3076\n",
            "Epoch 607/2000\n",
            "\u001b[1m7/7\u001b[0m \u001b[32m━━━━━━━━━━━━━━━━━━━━\u001b[0m\u001b[37m\u001b[0m \u001b[1m3s\u001b[0m 299ms/step - categorical_accuracy: 0.1210 - loss: 2.3306\n",
            "Epoch 608/2000\n",
            "\u001b[1m7/7\u001b[0m \u001b[32m━━━━━━━━━━━━━━━━━━━━\u001b[0m\u001b[37m\u001b[0m \u001b[1m2s\u001b[0m 170ms/step - categorical_accuracy: 0.1301 - loss: 2.2979\n",
            "Epoch 609/2000\n",
            "\u001b[1m7/7\u001b[0m \u001b[32m━━━━━━━━━━━━━━━━━━━━\u001b[0m\u001b[37m\u001b[0m \u001b[1m1s\u001b[0m 167ms/step - categorical_accuracy: 0.1253 - loss: 2.3345\n",
            "Epoch 610/2000\n",
            "\u001b[1m7/7\u001b[0m \u001b[32m━━━━━━━━━━━━━━━━━━━━\u001b[0m\u001b[37m\u001b[0m \u001b[1m1s\u001b[0m 171ms/step - categorical_accuracy: 0.1328 - loss: 2.3022\n",
            "Epoch 611/2000\n",
            "\u001b[1m7/7\u001b[0m \u001b[32m━━━━━━━━━━━━━━━━━━━━\u001b[0m\u001b[37m\u001b[0m \u001b[1m1s\u001b[0m 171ms/step - categorical_accuracy: 0.1239 - loss: 2.3192\n",
            "Epoch 612/2000\n",
            "\u001b[1m7/7\u001b[0m \u001b[32m━━━━━━━━━━━━━━━━━━━━\u001b[0m\u001b[37m\u001b[0m \u001b[1m1s\u001b[0m 171ms/step - categorical_accuracy: 0.1432 - loss: 2.3023\n",
            "Epoch 613/2000\n",
            "\u001b[1m7/7\u001b[0m \u001b[32m━━━━━━━━━━━━━━━━━━━━\u001b[0m\u001b[37m\u001b[0m \u001b[1m1s\u001b[0m 173ms/step - categorical_accuracy: 0.1239 - loss: 2.3084\n",
            "Epoch 614/2000\n",
            "\u001b[1m7/7\u001b[0m \u001b[32m━━━━━━━━━━━━━━━━━━━━\u001b[0m\u001b[37m\u001b[0m \u001b[1m1s\u001b[0m 172ms/step - categorical_accuracy: 0.1419 - loss: 2.2942\n",
            "Epoch 615/2000\n",
            "\u001b[1m7/7\u001b[0m \u001b[32m━━━━━━━━━━━━━━━━━━━━\u001b[0m\u001b[37m\u001b[0m \u001b[1m1s\u001b[0m 173ms/step - categorical_accuracy: 0.1542 - loss: 2.2964\n",
            "Epoch 616/2000\n",
            "\u001b[1m7/7\u001b[0m \u001b[32m━━━━━━━━━━━━━━━━━━━━\u001b[0m\u001b[37m\u001b[0m \u001b[1m2s\u001b[0m 289ms/step - categorical_accuracy: 0.1066 - loss: 2.2791\n",
            "Epoch 617/2000\n",
            "\u001b[1m7/7\u001b[0m \u001b[32m━━━━━━━━━━━━━━━━━━━━\u001b[0m\u001b[37m\u001b[0m \u001b[1m3s\u001b[0m 300ms/step - categorical_accuracy: 0.1466 - loss: 2.3042\n",
            "Epoch 618/2000\n",
            "\u001b[1m7/7\u001b[0m \u001b[32m━━━━━━━━━━━━━━━━━━━━\u001b[0m\u001b[37m\u001b[0m \u001b[1m2s\u001b[0m 199ms/step - categorical_accuracy: 0.1067 - loss: 2.2800\n",
            "Epoch 619/2000\n",
            "\u001b[1m7/7\u001b[0m \u001b[32m━━━━━━━━━━━━━━━━━━━━\u001b[0m\u001b[37m\u001b[0m \u001b[1m2s\u001b[0m 171ms/step - categorical_accuracy: 0.1587 - loss: 2.3112\n",
            "Epoch 620/2000\n",
            "\u001b[1m7/7\u001b[0m \u001b[32m━━━━━━━━━━━━━━━━━━━━\u001b[0m\u001b[37m\u001b[0m \u001b[1m1s\u001b[0m 181ms/step - categorical_accuracy: 0.1480 - loss: 2.3089\n",
            "Epoch 621/2000\n",
            "\u001b[1m7/7\u001b[0m \u001b[32m━━━━━━━━━━━━━━━━━━━━\u001b[0m\u001b[37m\u001b[0m \u001b[1m1s\u001b[0m 173ms/step - categorical_accuracy: 0.1311 - loss: 2.3002\n",
            "Epoch 622/2000\n",
            "\u001b[1m7/7\u001b[0m \u001b[32m━━━━━━━━━━━━━━━━━━━━\u001b[0m\u001b[37m\u001b[0m \u001b[1m1s\u001b[0m 170ms/step - categorical_accuracy: 0.1389 - loss: 2.2694\n",
            "Epoch 623/2000\n",
            "\u001b[1m7/7\u001b[0m \u001b[32m━━━━━━━━━━━━━━━━━━━━\u001b[0m\u001b[37m\u001b[0m \u001b[1m1s\u001b[0m 172ms/step - categorical_accuracy: 0.1550 - loss: 2.2834\n",
            "Epoch 624/2000\n",
            "\u001b[1m7/7\u001b[0m \u001b[32m━━━━━━━━━━━━━━━━━━━━\u001b[0m\u001b[37m\u001b[0m \u001b[1m1s\u001b[0m 171ms/step - categorical_accuracy: 0.1554 - loss: 2.3093\n",
            "Epoch 625/2000\n",
            "\u001b[1m7/7\u001b[0m \u001b[32m━━━━━━━━━━━━━━━━━━━━\u001b[0m\u001b[37m\u001b[0m \u001b[1m2s\u001b[0m 248ms/step - categorical_accuracy: 0.1158 - loss: 2.2964\n",
            "Epoch 626/2000\n",
            "\u001b[1m7/7\u001b[0m \u001b[32m━━━━━━━━━━━━━━━━━━━━\u001b[0m\u001b[37m\u001b[0m \u001b[1m2s\u001b[0m 289ms/step - categorical_accuracy: 0.1271 - loss: 2.3084\n",
            "Epoch 627/2000\n",
            "\u001b[1m7/7\u001b[0m \u001b[32m━━━━━━━━━━━━━━━━━━━━\u001b[0m\u001b[37m\u001b[0m \u001b[1m2s\u001b[0m 290ms/step - categorical_accuracy: 0.1227 - loss: 2.2859\n",
            "Epoch 628/2000\n",
            "\u001b[1m7/7\u001b[0m \u001b[32m━━━━━━━━━━━━━━━━━━━━\u001b[0m\u001b[37m\u001b[0m \u001b[1m2s\u001b[0m 188ms/step - categorical_accuracy: 0.1228 - loss: 2.3073\n",
            "Epoch 629/2000\n",
            "\u001b[1m7/7\u001b[0m \u001b[32m━━━━━━━━━━━━━━━━━━━━\u001b[0m\u001b[37m\u001b[0m \u001b[1m1s\u001b[0m 176ms/step - categorical_accuracy: 0.1362 - loss: 2.3139\n",
            "Epoch 630/2000\n",
            "\u001b[1m7/7\u001b[0m \u001b[32m━━━━━━━━━━━━━━━━━━━━\u001b[0m\u001b[37m\u001b[0m \u001b[1m1s\u001b[0m 171ms/step - categorical_accuracy: 0.1404 - loss: 2.3236\n",
            "Epoch 631/2000\n",
            "\u001b[1m7/7\u001b[0m \u001b[32m━━━━━━━━━━━━━━━━━━━━\u001b[0m\u001b[37m\u001b[0m \u001b[1m1s\u001b[0m 169ms/step - categorical_accuracy: 0.1675 - loss: 2.2764\n",
            "Epoch 632/2000\n",
            "\u001b[1m7/7\u001b[0m \u001b[32m━━━━━━━━━━━━━━━━━━━━\u001b[0m\u001b[37m\u001b[0m \u001b[1m1s\u001b[0m 174ms/step - categorical_accuracy: 0.1204 - loss: 2.2921\n",
            "Epoch 633/2000\n",
            "\u001b[1m7/7\u001b[0m \u001b[32m━━━━━━━━━━━━━━━━━━━━\u001b[0m\u001b[37m\u001b[0m \u001b[1m1s\u001b[0m 174ms/step - categorical_accuracy: 0.1258 - loss: 2.3271\n",
            "Epoch 634/2000\n",
            "\u001b[1m7/7\u001b[0m \u001b[32m━━━━━━━━━━━━━━━━━━━━\u001b[0m\u001b[37m\u001b[0m \u001b[1m1s\u001b[0m 170ms/step - categorical_accuracy: 0.1529 - loss: 2.3183\n",
            "Epoch 635/2000\n",
            "\u001b[1m7/7\u001b[0m \u001b[32m━━━━━━━━━━━━━━━━━━━━\u001b[0m\u001b[37m\u001b[0m \u001b[1m1s\u001b[0m 174ms/step - categorical_accuracy: 0.1492 - loss: 2.3043\n",
            "Epoch 636/2000\n",
            "\u001b[1m7/7\u001b[0m \u001b[32m━━━━━━━━━━━━━━━━━━━━\u001b[0m\u001b[37m\u001b[0m \u001b[1m2s\u001b[0m 293ms/step - categorical_accuracy: 0.1336 - loss: 2.3016\n",
            "Epoch 637/2000\n",
            "\u001b[1m7/7\u001b[0m \u001b[32m━━━━━━━━━━━━━━━━━━━━\u001b[0m\u001b[37m\u001b[0m \u001b[1m3s\u001b[0m 301ms/step - categorical_accuracy: 0.1391 - loss: 2.2856\n",
            "Epoch 638/2000\n",
            "\u001b[1m7/7\u001b[0m \u001b[32m━━━━━━━━━━━━━━━━━━━━\u001b[0m\u001b[37m\u001b[0m \u001b[1m2s\u001b[0m 194ms/step - categorical_accuracy: 0.1307 - loss: 2.2829\n",
            "Epoch 639/2000\n",
            "\u001b[1m7/7\u001b[0m \u001b[32m━━━━━━━━━━━━━━━━━━━━\u001b[0m\u001b[37m\u001b[0m \u001b[1m1s\u001b[0m 189ms/step - categorical_accuracy: 0.1516 - loss: 2.3030\n",
            "Epoch 640/2000\n",
            "\u001b[1m7/7\u001b[0m \u001b[32m━━━━━━━━━━━━━━━━━━━━\u001b[0m\u001b[37m\u001b[0m \u001b[1m1s\u001b[0m 180ms/step - categorical_accuracy: 0.1497 - loss: 2.2799\n",
            "Epoch 641/2000\n",
            "\u001b[1m7/7\u001b[0m \u001b[32m━━━━━━━━━━━━━━━━━━━━\u001b[0m\u001b[37m\u001b[0m \u001b[1m1s\u001b[0m 172ms/step - categorical_accuracy: 0.1320 - loss: 2.2968\n",
            "Epoch 642/2000\n",
            "\u001b[1m7/7\u001b[0m \u001b[32m━━━━━━━━━━━━━━━━━━━━\u001b[0m\u001b[37m\u001b[0m \u001b[1m1s\u001b[0m 175ms/step - categorical_accuracy: 0.1427 - loss: 2.3042\n",
            "Epoch 643/2000\n",
            "\u001b[1m7/7\u001b[0m \u001b[32m━━━━━━━━━━━━━━━━━━━━\u001b[0m\u001b[37m\u001b[0m \u001b[1m1s\u001b[0m 173ms/step - categorical_accuracy: 0.1440 - loss: 2.2963\n",
            "Epoch 644/2000\n",
            "\u001b[1m7/7\u001b[0m \u001b[32m━━━━━━━━━━━━━━━━━━━━\u001b[0m\u001b[37m\u001b[0m \u001b[1m1s\u001b[0m 172ms/step - categorical_accuracy: 0.1263 - loss: 2.3134\n",
            "Epoch 645/2000\n",
            "\u001b[1m7/7\u001b[0m \u001b[32m━━━━━━━━━━━━━━━━━━━━\u001b[0m\u001b[37m\u001b[0m \u001b[1m1s\u001b[0m 174ms/step - categorical_accuracy: 0.1111 - loss: 2.2954\n",
            "Epoch 646/2000\n",
            "\u001b[1m7/7\u001b[0m \u001b[32m━━━━━━━━━━━━━━━━━━━━\u001b[0m\u001b[37m\u001b[0m \u001b[1m2s\u001b[0m 296ms/step - categorical_accuracy: 0.1431 - loss: 2.2825\n",
            "Epoch 647/2000\n",
            "\u001b[1m7/7\u001b[0m \u001b[32m━━━━━━━━━━━━━━━━━━━━\u001b[0m\u001b[37m\u001b[0m \u001b[1m3s\u001b[0m 300ms/step - categorical_accuracy: 0.1299 - loss: 2.3015\n",
            "Epoch 648/2000\n",
            "\u001b[1m7/7\u001b[0m \u001b[32m━━━━━━━━━━━━━━━━━━━━\u001b[0m\u001b[37m\u001b[0m \u001b[1m2s\u001b[0m 173ms/step - categorical_accuracy: 0.1209 - loss: 2.3026\n",
            "Epoch 649/2000\n",
            "\u001b[1m7/7\u001b[0m \u001b[32m━━━━━━━━━━━━━━━━━━━━\u001b[0m\u001b[37m\u001b[0m \u001b[1m1s\u001b[0m 174ms/step - categorical_accuracy: 0.1183 - loss: 2.3121\n",
            "Epoch 650/2000\n",
            "\u001b[1m7/7\u001b[0m \u001b[32m━━━━━━━━━━━━━━━━━━━━\u001b[0m\u001b[37m\u001b[0m \u001b[1m1s\u001b[0m 173ms/step - categorical_accuracy: 0.1576 - loss: 2.3113\n",
            "Epoch 651/2000\n",
            "\u001b[1m7/7\u001b[0m \u001b[32m━━━━━━━━━━━━━━━━━━━━\u001b[0m\u001b[37m\u001b[0m \u001b[1m1s\u001b[0m 173ms/step - categorical_accuracy: 0.1189 - loss: 2.3191\n",
            "Epoch 652/2000\n",
            "\u001b[1m7/7\u001b[0m \u001b[32m━━━━━━━━━━━━━━━━━━━━\u001b[0m\u001b[37m\u001b[0m \u001b[1m1s\u001b[0m 175ms/step - categorical_accuracy: 0.1383 - loss: 2.3077\n",
            "Epoch 653/2000\n",
            "\u001b[1m7/7\u001b[0m \u001b[32m━━━━━━━━━━━━━━━━━━━━\u001b[0m\u001b[37m\u001b[0m \u001b[1m1s\u001b[0m 173ms/step - categorical_accuracy: 0.1445 - loss: 2.3022\n",
            "Epoch 654/2000\n",
            "\u001b[1m7/7\u001b[0m \u001b[32m━━━━━━━━━━━━━━━━━━━━\u001b[0m\u001b[37m\u001b[0m \u001b[1m1s\u001b[0m 173ms/step - categorical_accuracy: 0.1243 - loss: 2.3282\n",
            "Epoch 655/2000\n",
            "\u001b[1m7/7\u001b[0m \u001b[32m━━━━━━━━━━━━━━━━━━━━\u001b[0m\u001b[37m\u001b[0m \u001b[1m1s\u001b[0m 174ms/step - categorical_accuracy: 0.1479 - loss: 2.3001\n",
            "Epoch 656/2000\n",
            "\u001b[1m7/7\u001b[0m \u001b[32m━━━━━━━━━━━━━━━━━━━━\u001b[0m\u001b[37m\u001b[0m \u001b[1m2s\u001b[0m 285ms/step - categorical_accuracy: 0.1128 - loss: 2.3075\n",
            "Epoch 657/2000\n",
            "\u001b[1m7/7\u001b[0m \u001b[32m━━━━━━━━━━━━━━━━━━━━\u001b[0m\u001b[37m\u001b[0m \u001b[1m3s\u001b[0m 300ms/step - categorical_accuracy: 0.1395 - loss: 2.2948\n",
            "Epoch 658/2000\n",
            "\u001b[1m7/7\u001b[0m \u001b[32m━━━━━━━━━━━━━━━━━━━━\u001b[0m\u001b[37m\u001b[0m \u001b[1m2s\u001b[0m 270ms/step - categorical_accuracy: 0.1400 - loss: 2.3264\n",
            "Epoch 659/2000\n",
            "\u001b[1m7/7\u001b[0m \u001b[32m━━━━━━━━━━━━━━━━━━━━\u001b[0m\u001b[37m\u001b[0m \u001b[1m1s\u001b[0m 181ms/step - categorical_accuracy: 0.1455 - loss: 2.3047\n",
            "Epoch 660/2000\n",
            "\u001b[1m7/7\u001b[0m \u001b[32m━━━━━━━━━━━━━━━━━━━━\u001b[0m\u001b[37m\u001b[0m \u001b[1m1s\u001b[0m 173ms/step - categorical_accuracy: 0.1563 - loss: 2.3037\n",
            "Epoch 661/2000\n",
            "\u001b[1m7/7\u001b[0m \u001b[32m━━━━━━━━━━━━━━━━━━━━\u001b[0m\u001b[37m\u001b[0m \u001b[1m1s\u001b[0m 174ms/step - categorical_accuracy: 0.1529 - loss: 2.2920\n",
            "Epoch 662/2000\n",
            "\u001b[1m7/7\u001b[0m \u001b[32m━━━━━━━━━━━━━━━━━━━━\u001b[0m\u001b[37m\u001b[0m \u001b[1m3s\u001b[0m 179ms/step - categorical_accuracy: 0.1146 - loss: 2.2717\n",
            "Epoch 663/2000\n",
            "\u001b[1m7/7\u001b[0m \u001b[32m━━━━━━━━━━━━━━━━━━━━\u001b[0m\u001b[37m\u001b[0m \u001b[1m1s\u001b[0m 173ms/step - categorical_accuracy: 0.1464 - loss: 2.3136\n",
            "Epoch 664/2000\n",
            "\u001b[1m7/7\u001b[0m \u001b[32m━━━━━━━━━━━━━━━━━━━━\u001b[0m\u001b[37m\u001b[0m \u001b[1m1s\u001b[0m 174ms/step - categorical_accuracy: 0.1254 - loss: 2.3008\n",
            "Epoch 665/2000\n",
            "\u001b[1m7/7\u001b[0m \u001b[32m━━━━━━━━━━━━━━━━━━━━\u001b[0m\u001b[37m\u001b[0m \u001b[1m2s\u001b[0m 261ms/step - categorical_accuracy: 0.1501 - loss: 2.2815\n",
            "Epoch 666/2000\n",
            "\u001b[1m7/7\u001b[0m \u001b[32m━━━━━━━━━━━━━━━━━━━━\u001b[0m\u001b[37m\u001b[0m \u001b[1m3s\u001b[0m 300ms/step - categorical_accuracy: 0.1456 - loss: 2.3243\n",
            "Epoch 667/2000\n",
            "\u001b[1m7/7\u001b[0m \u001b[32m━━━━━━━━━━━━━━━━━━━━\u001b[0m\u001b[37m\u001b[0m \u001b[1m2s\u001b[0m 185ms/step - categorical_accuracy: 0.1269 - loss: 2.3071\n",
            "Epoch 668/2000\n",
            "\u001b[1m7/7\u001b[0m \u001b[32m━━━━━━━━━━━━━━━━━━━━\u001b[0m\u001b[37m\u001b[0m \u001b[1m2s\u001b[0m 170ms/step - categorical_accuracy: 0.1081 - loss: 2.2944\n",
            "Epoch 669/2000\n",
            "\u001b[1m7/7\u001b[0m \u001b[32m━━━━━━━━━━━━━━━━━━━━\u001b[0m\u001b[37m\u001b[0m \u001b[1m1s\u001b[0m 170ms/step - categorical_accuracy: 0.1361 - loss: 2.2878\n",
            "Epoch 670/2000\n",
            "\u001b[1m7/7\u001b[0m \u001b[32m━━━━━━━━━━━━━━━━━━━━\u001b[0m\u001b[37m\u001b[0m \u001b[1m1s\u001b[0m 173ms/step - categorical_accuracy: 0.1348 - loss: 2.3459\n",
            "Epoch 671/2000\n",
            "\u001b[1m7/7\u001b[0m \u001b[32m━━━━━━━━━━━━━━━━━━━━\u001b[0m\u001b[37m\u001b[0m \u001b[1m1s\u001b[0m 174ms/step - categorical_accuracy: 0.1510 - loss: 2.2838\n",
            "Epoch 672/2000\n",
            "\u001b[1m7/7\u001b[0m \u001b[32m━━━━━━━━━━━━━━━━━━━━\u001b[0m\u001b[37m\u001b[0m \u001b[1m1s\u001b[0m 176ms/step - categorical_accuracy: 0.1075 - loss: 2.3365\n",
            "Epoch 673/2000\n",
            "\u001b[1m7/7\u001b[0m \u001b[32m━━━━━━━━━━━━━━━━━━━━\u001b[0m\u001b[37m\u001b[0m \u001b[1m1s\u001b[0m 176ms/step - categorical_accuracy: 0.1561 - loss: 2.3073\n",
            "Epoch 674/2000\n",
            "\u001b[1m7/7\u001b[0m \u001b[32m━━━━━━━━━━━━━━━━━━━━\u001b[0m\u001b[37m\u001b[0m \u001b[1m2s\u001b[0m 288ms/step - categorical_accuracy: 0.1428 - loss: 2.2992\n",
            "Epoch 675/2000\n",
            "\u001b[1m7/7\u001b[0m \u001b[32m━━━━━━━━━━━━━━━━━━━━\u001b[0m\u001b[37m\u001b[0m \u001b[1m3s\u001b[0m 304ms/step - categorical_accuracy: 0.1735 - loss: 2.2911\n",
            "Epoch 676/2000\n",
            "\u001b[1m7/7\u001b[0m \u001b[32m━━━━━━━━━━━━━━━━━━━━\u001b[0m\u001b[37m\u001b[0m \u001b[1m2s\u001b[0m 302ms/step - categorical_accuracy: 0.1092 - loss: 2.3242\n",
            "Epoch 677/2000\n",
            "\u001b[1m7/7\u001b[0m \u001b[32m━━━━━━━━━━━━━━━━━━━━\u001b[0m\u001b[37m\u001b[0m \u001b[1m2s\u001b[0m 185ms/step - categorical_accuracy: 0.1504 - loss: 2.3022\n",
            "Epoch 678/2000\n",
            "\u001b[1m7/7\u001b[0m \u001b[32m━━━━━━━━━━━━━━━━━━━━\u001b[0m\u001b[37m\u001b[0m \u001b[1m1s\u001b[0m 171ms/step - categorical_accuracy: 0.1393 - loss: 2.2853\n",
            "Epoch 679/2000\n",
            "\u001b[1m7/7\u001b[0m \u001b[32m━━━━━━━━━━━━━━━━━━━━\u001b[0m\u001b[37m\u001b[0m \u001b[1m1s\u001b[0m 188ms/step - categorical_accuracy: 0.1469 - loss: 2.3102\n",
            "Epoch 680/2000\n",
            "\u001b[1m7/7\u001b[0m \u001b[32m━━━━━━━━━━━━━━━━━━━━\u001b[0m\u001b[37m\u001b[0m \u001b[1m3s\u001b[0m 182ms/step - categorical_accuracy: 0.1517 - loss: 2.2979\n",
            "Epoch 681/2000\n",
            "\u001b[1m7/7\u001b[0m \u001b[32m━━━━━━━━━━━━━━━━━━━━\u001b[0m\u001b[37m\u001b[0m \u001b[1m3s\u001b[0m 176ms/step - categorical_accuracy: 0.1435 - loss: 2.3125\n",
            "Epoch 682/2000\n",
            "\u001b[1m7/7\u001b[0m \u001b[32m━━━━━━━━━━━━━━━━━━━━\u001b[0m\u001b[37m\u001b[0m \u001b[1m2s\u001b[0m 260ms/step - categorical_accuracy: 0.1213 - loss: 2.3098\n",
            "Epoch 683/2000\n",
            "\u001b[1m7/7\u001b[0m \u001b[32m━━━━━━━━━━━━━━━━━━━━\u001b[0m\u001b[37m\u001b[0m \u001b[1m2s\u001b[0m 287ms/step - categorical_accuracy: 0.1321 - loss: 2.3253\n",
            "Epoch 684/2000\n",
            "\u001b[1m7/7\u001b[0m \u001b[32m━━━━━━━━━━━━━━━━━━━━\u001b[0m\u001b[37m\u001b[0m \u001b[1m3s\u001b[0m 299ms/step - categorical_accuracy: 0.1398 - loss: 2.2961\n",
            "Epoch 685/2000\n",
            "\u001b[1m7/7\u001b[0m \u001b[32m━━━━━━━━━━━━━━━━━━━━\u001b[0m\u001b[37m\u001b[0m \u001b[1m2s\u001b[0m 174ms/step - categorical_accuracy: 0.1167 - loss: 2.3225\n",
            "Epoch 686/2000\n",
            "\u001b[1m7/7\u001b[0m \u001b[32m━━━━━━━━━━━━━━━━━━━━\u001b[0m\u001b[37m\u001b[0m \u001b[1m1s\u001b[0m 176ms/step - categorical_accuracy: 0.1457 - loss: 2.2895\n",
            "Epoch 687/2000\n",
            "\u001b[1m7/7\u001b[0m \u001b[32m━━━━━━━━━━━━━━━━━━━━\u001b[0m\u001b[37m\u001b[0m \u001b[1m1s\u001b[0m 174ms/step - categorical_accuracy: 0.1515 - loss: 2.3081\n",
            "Epoch 688/2000\n",
            "\u001b[1m7/7\u001b[0m \u001b[32m━━━━━━━━━━━━━━━━━━━━\u001b[0m\u001b[37m\u001b[0m \u001b[1m1s\u001b[0m 176ms/step - categorical_accuracy: 0.1435 - loss: 2.2909\n",
            "Epoch 689/2000\n",
            "\u001b[1m7/7\u001b[0m \u001b[32m━━━━━━━━━━━━━━━━━━━━\u001b[0m\u001b[37m\u001b[0m \u001b[1m1s\u001b[0m 175ms/step - categorical_accuracy: 0.1508 - loss: 2.2911\n",
            "Epoch 690/2000\n",
            "\u001b[1m7/7\u001b[0m \u001b[32m━━━━━━━━━━━━━━━━━━━━\u001b[0m\u001b[37m\u001b[0m \u001b[1m1s\u001b[0m 179ms/step - categorical_accuracy: 0.1762 - loss: 2.2895\n",
            "Epoch 691/2000\n",
            "\u001b[1m7/7\u001b[0m \u001b[32m━━━━━━━━━━━━━━━━━━━━\u001b[0m\u001b[37m\u001b[0m \u001b[1m1s\u001b[0m 170ms/step - categorical_accuracy: 0.1421 - loss: 2.2945\n",
            "Epoch 692/2000\n",
            "\u001b[1m7/7\u001b[0m \u001b[32m━━━━━━━━━━━━━━━━━━━━\u001b[0m\u001b[37m\u001b[0m \u001b[1m2s\u001b[0m 230ms/step - categorical_accuracy: 0.1411 - loss: 2.2967\n",
            "Epoch 693/2000\n",
            "\u001b[1m7/7\u001b[0m \u001b[32m━━━━━━━━━━━━━━━━━━━━\u001b[0m\u001b[37m\u001b[0m \u001b[1m3s\u001b[0m 297ms/step - categorical_accuracy: 0.1255 - loss: 2.3092\n",
            "Epoch 694/2000\n",
            "\u001b[1m7/7\u001b[0m \u001b[32m━━━━━━━━━━━━━━━━━━━━\u001b[0m\u001b[37m\u001b[0m \u001b[1m2s\u001b[0m 182ms/step - categorical_accuracy: 0.1196 - loss: 2.3060\n",
            "Epoch 695/2000\n",
            "\u001b[1m7/7\u001b[0m \u001b[32m━━━━━━━━━━━━━━━━━━━━\u001b[0m\u001b[37m\u001b[0m \u001b[1m2s\u001b[0m 174ms/step - categorical_accuracy: 0.1596 - loss: 2.2912\n",
            "Epoch 696/2000\n",
            "\u001b[1m7/7\u001b[0m \u001b[32m━━━━━━━━━━━━━━━━━━━━\u001b[0m\u001b[37m\u001b[0m \u001b[1m1s\u001b[0m 173ms/step - categorical_accuracy: 0.1290 - loss: 2.2899\n",
            "Epoch 697/2000\n",
            "\u001b[1m7/7\u001b[0m \u001b[32m━━━━━━━━━━━━━━━━━━━━\u001b[0m\u001b[37m\u001b[0m \u001b[1m1s\u001b[0m 174ms/step - categorical_accuracy: 0.1201 - loss: 2.3006\n",
            "Epoch 698/2000\n",
            "\u001b[1m7/7\u001b[0m \u001b[32m━━━━━━━━━━━━━━━━━━━━\u001b[0m\u001b[37m\u001b[0m \u001b[1m1s\u001b[0m 174ms/step - categorical_accuracy: 0.1669 - loss: 2.2900\n",
            "Epoch 699/2000\n",
            "\u001b[1m7/7\u001b[0m \u001b[32m━━━━━━━━━━━━━━━━━━━━\u001b[0m\u001b[37m\u001b[0m \u001b[1m3s\u001b[0m 174ms/step - categorical_accuracy: 0.1365 - loss: 2.3405\n",
            "Epoch 700/2000\n",
            "\u001b[1m7/7\u001b[0m \u001b[32m━━━━━━━━━━━━━━━━━━━━\u001b[0m\u001b[37m\u001b[0m \u001b[1m3s\u001b[0m 307ms/step - categorical_accuracy: 0.1393 - loss: 2.3093\n",
            "Epoch 701/2000\n",
            "\u001b[1m7/7\u001b[0m \u001b[32m━━━━━━━━━━━━━━━━━━━━\u001b[0m\u001b[37m\u001b[0m \u001b[1m2s\u001b[0m 301ms/step - categorical_accuracy: 0.1447 - loss: 2.2842\n",
            "Epoch 702/2000\n",
            "\u001b[1m7/7\u001b[0m \u001b[32m━━━━━━━━━━━━━━━━━━━━\u001b[0m\u001b[37m\u001b[0m \u001b[1m1s\u001b[0m 172ms/step - categorical_accuracy: 0.1416 - loss: 2.3089\n",
            "Epoch 703/2000\n",
            "\u001b[1m7/7\u001b[0m \u001b[32m━━━━━━━━━━━━━━━━━━━━\u001b[0m\u001b[37m\u001b[0m \u001b[1m1s\u001b[0m 176ms/step - categorical_accuracy: 0.1485 - loss: 2.2615\n",
            "Epoch 704/2000\n",
            "\u001b[1m7/7\u001b[0m \u001b[32m━━━━━━━━━━━━━━━━━━━━\u001b[0m\u001b[37m\u001b[0m \u001b[1m3s\u001b[0m 174ms/step - categorical_accuracy: 0.1150 - loss: 2.3308\n",
            "Epoch 705/2000\n",
            "\u001b[1m7/7\u001b[0m \u001b[32m━━━━━━━━━━━━━━━━━━━━\u001b[0m\u001b[37m\u001b[0m \u001b[1m1s\u001b[0m 172ms/step - categorical_accuracy: 0.1418 - loss: 2.2900\n",
            "Epoch 706/2000\n",
            "\u001b[1m7/7\u001b[0m \u001b[32m━━━━━━━━━━━━━━━━━━━━\u001b[0m\u001b[37m\u001b[0m \u001b[1m1s\u001b[0m 178ms/step - categorical_accuracy: 0.1199 - loss: 2.2936\n",
            "Epoch 707/2000\n",
            "\u001b[1m7/7\u001b[0m \u001b[32m━━━━━━━━━━━━━━━━━━━━\u001b[0m\u001b[37m\u001b[0m \u001b[1m2s\u001b[0m 171ms/step - categorical_accuracy: 0.1449 - loss: 2.3210\n",
            "Epoch 708/2000\n",
            "\u001b[1m7/7\u001b[0m \u001b[32m━━━━━━━━━━━━━━━━━━━━\u001b[0m\u001b[37m\u001b[0m \u001b[1m2s\u001b[0m 303ms/step - categorical_accuracy: 0.1477 - loss: 2.3266\n",
            "Epoch 709/2000\n",
            "\u001b[1m7/7\u001b[0m \u001b[32m━━━━━━━━━━━━━━━━━━━━\u001b[0m\u001b[37m\u001b[0m \u001b[1m3s\u001b[0m 319ms/step - categorical_accuracy: 0.1309 - loss: 2.3119\n",
            "Epoch 710/2000\n",
            "\u001b[1m7/7\u001b[0m \u001b[32m━━━━━━━━━━━━━━━━━━━━\u001b[0m\u001b[37m\u001b[0m \u001b[1m2s\u001b[0m 190ms/step - categorical_accuracy: 0.1397 - loss: 2.3107\n",
            "Epoch 711/2000\n",
            "\u001b[1m7/7\u001b[0m \u001b[32m━━━━━━━━━━━━━━━━━━━━\u001b[0m\u001b[37m\u001b[0m \u001b[1m1s\u001b[0m 175ms/step - categorical_accuracy: 0.1434 - loss: 2.3131\n",
            "Epoch 712/2000\n",
            "\u001b[1m7/7\u001b[0m \u001b[32m━━━━━━━━━━━━━━━━━━━━\u001b[0m\u001b[37m\u001b[0m \u001b[1m1s\u001b[0m 171ms/step - categorical_accuracy: 0.1268 - loss: 2.2902\n",
            "Epoch 713/2000\n",
            "\u001b[1m7/7\u001b[0m \u001b[32m━━━━━━━━━━━━━━━━━━━━\u001b[0m\u001b[37m\u001b[0m \u001b[1m1s\u001b[0m 186ms/step - categorical_accuracy: 0.1111 - loss: 2.3050\n",
            "Epoch 714/2000\n",
            "\u001b[1m7/7\u001b[0m \u001b[32m━━━━━━━━━━━━━━━━━━━━\u001b[0m\u001b[37m\u001b[0m \u001b[1m1s\u001b[0m 173ms/step - categorical_accuracy: 0.1263 - loss: 2.3179\n",
            "Epoch 715/2000\n",
            "\u001b[1m7/7\u001b[0m \u001b[32m━━━━━━━━━━━━━━━━━━━━\u001b[0m\u001b[37m\u001b[0m \u001b[1m1s\u001b[0m 174ms/step - categorical_accuracy: 0.1299 - loss: 2.2816\n",
            "Epoch 716/2000\n",
            "\u001b[1m7/7\u001b[0m \u001b[32m━━━━━━━━━━━━━━━━━━━━\u001b[0m\u001b[37m\u001b[0m \u001b[1m1s\u001b[0m 173ms/step - categorical_accuracy: 0.1186 - loss: 2.3206\n",
            "Epoch 717/2000\n",
            "\u001b[1m7/7\u001b[0m \u001b[32m━━━━━━━━━━━━━━━━━━━━\u001b[0m\u001b[37m\u001b[0m \u001b[1m1s\u001b[0m 174ms/step - categorical_accuracy: 0.1307 - loss: 2.2931\n",
            "Epoch 718/2000\n",
            "\u001b[1m7/7\u001b[0m \u001b[32m━━━━━━━━━━━━━━━━━━━━\u001b[0m\u001b[37m\u001b[0m \u001b[1m2s\u001b[0m 310ms/step - categorical_accuracy: 0.1096 - loss: 2.2912\n",
            "Epoch 719/2000\n",
            "\u001b[1m7/7\u001b[0m \u001b[32m━━━━━━━━━━━━━━━━━━━━\u001b[0m\u001b[37m\u001b[0m \u001b[1m2s\u001b[0m 286ms/step - categorical_accuracy: 0.1324 - loss: 2.2919\n",
            "Epoch 720/2000\n",
            "\u001b[1m7/7\u001b[0m \u001b[32m━━━━━━━━━━━━━━━━━━━━\u001b[0m\u001b[37m\u001b[0m \u001b[1m2s\u001b[0m 215ms/step - categorical_accuracy: 0.1204 - loss: 2.3008\n",
            "Epoch 721/2000\n",
            "\u001b[1m7/7\u001b[0m \u001b[32m━━━━━━━━━━━━━━━━━━━━\u001b[0m\u001b[37m\u001b[0m \u001b[1m1s\u001b[0m 183ms/step - categorical_accuracy: 0.1727 - loss: 2.3025\n",
            "Epoch 722/2000\n",
            "\u001b[1m7/7\u001b[0m \u001b[32m━━━━━━━━━━━━━━━━━━━━\u001b[0m\u001b[37m\u001b[0m \u001b[1m1s\u001b[0m 185ms/step - categorical_accuracy: 0.1150 - loss: 2.3303\n",
            "Epoch 723/2000\n",
            "\u001b[1m7/7\u001b[0m \u001b[32m━━━━━━━━━━━━━━━━━━━━\u001b[0m\u001b[37m\u001b[0m \u001b[1m1s\u001b[0m 178ms/step - categorical_accuracy: 0.1518 - loss: 2.3217\n",
            "Epoch 724/2000\n",
            "\u001b[1m7/7\u001b[0m \u001b[32m━━━━━━━━━━━━━━━━━━━━\u001b[0m\u001b[37m\u001b[0m \u001b[1m1s\u001b[0m 171ms/step - categorical_accuracy: 0.1454 - loss: 2.2854\n",
            "Epoch 725/2000\n",
            "\u001b[1m7/7\u001b[0m \u001b[32m━━━━━━━━━━━━━━━━━━━━\u001b[0m\u001b[37m\u001b[0m \u001b[1m1s\u001b[0m 181ms/step - categorical_accuracy: 0.1527 - loss: 2.2764\n",
            "Epoch 726/2000\n",
            "\u001b[1m7/7\u001b[0m \u001b[32m━━━━━━━━━━━━━━━━━━━━\u001b[0m\u001b[37m\u001b[0m \u001b[1m3s\u001b[0m 187ms/step - categorical_accuracy: 0.1381 - loss: 2.3319\n",
            "Epoch 727/2000\n",
            "\u001b[1m7/7\u001b[0m \u001b[32m━━━━━━━━━━━━━━━━━━━━\u001b[0m\u001b[37m\u001b[0m \u001b[1m3s\u001b[0m 303ms/step - categorical_accuracy: 0.1290 - loss: 2.3018\n",
            "Epoch 728/2000\n",
            "\u001b[1m7/7\u001b[0m \u001b[32m━━━━━━━━━━━━━━━━━━━━\u001b[0m\u001b[37m\u001b[0m \u001b[1m2s\u001b[0m 224ms/step - categorical_accuracy: 0.1247 - loss: 2.3129\n",
            "Epoch 729/2000\n",
            "\u001b[1m7/7\u001b[0m \u001b[32m━━━━━━━━━━━━━━━━━━━━\u001b[0m\u001b[37m\u001b[0m \u001b[1m1s\u001b[0m 184ms/step - categorical_accuracy: 0.1558 - loss: 2.2836\n",
            "Epoch 730/2000\n",
            "\u001b[1m7/7\u001b[0m \u001b[32m━━━━━━━━━━━━━━━━━━━━\u001b[0m\u001b[37m\u001b[0m \u001b[1m1s\u001b[0m 176ms/step - categorical_accuracy: 0.1283 - loss: 2.3204\n",
            "Epoch 731/2000\n",
            "\u001b[1m7/7\u001b[0m \u001b[32m━━━━━━━━━━━━━━━━━━━━\u001b[0m\u001b[37m\u001b[0m \u001b[1m1s\u001b[0m 184ms/step - categorical_accuracy: 0.1258 - loss: 2.2668\n",
            "Epoch 732/2000\n",
            "\u001b[1m7/7\u001b[0m \u001b[32m━━━━━━━━━━━━━━━━━━━━\u001b[0m\u001b[37m\u001b[0m \u001b[1m1s\u001b[0m 179ms/step - categorical_accuracy: 0.1480 - loss: 2.2781\n",
            "Epoch 733/2000\n",
            "\u001b[1m7/7\u001b[0m \u001b[32m━━━━━━━━━━━━━━━━━━━━\u001b[0m\u001b[37m\u001b[0m \u001b[1m3s\u001b[0m 184ms/step - categorical_accuracy: 0.1116 - loss: 2.3346\n",
            "Epoch 734/2000\n",
            "\u001b[1m7/7\u001b[0m \u001b[32m━━━━━━━━━━━━━━━━━━━━\u001b[0m\u001b[37m\u001b[0m \u001b[1m1s\u001b[0m 188ms/step - categorical_accuracy: 0.1423 - loss: 2.2905\n",
            "Epoch 735/2000\n",
            "\u001b[1m7/7\u001b[0m \u001b[32m━━━━━━━━━━━━━━━━━━━━\u001b[0m\u001b[37m\u001b[0m \u001b[1m2s\u001b[0m 316ms/step - categorical_accuracy: 0.1383 - loss: 2.3091\n",
            "Epoch 736/2000\n",
            "\u001b[1m7/7\u001b[0m \u001b[32m━━━━━━━━━━━━━━━━━━━━\u001b[0m\u001b[37m\u001b[0m \u001b[1m3s\u001b[0m 317ms/step - categorical_accuracy: 0.1544 - loss: 2.2976\n",
            "Epoch 737/2000\n",
            "\u001b[1m7/7\u001b[0m \u001b[32m━━━━━━━━━━━━━━━━━━━━\u001b[0m\u001b[37m\u001b[0m \u001b[1m2s\u001b[0m 204ms/step - categorical_accuracy: 0.1451 - loss: 2.2831\n",
            "Epoch 738/2000\n",
            "\u001b[1m7/7\u001b[0m \u001b[32m━━━━━━━━━━━━━━━━━━━━\u001b[0m\u001b[37m\u001b[0m \u001b[1m2s\u001b[0m 194ms/step - categorical_accuracy: 0.1305 - loss: 2.3098\n",
            "Epoch 739/2000\n",
            "\u001b[1m7/7\u001b[0m \u001b[32m━━━━━━━━━━━━━━━━━━━━\u001b[0m\u001b[37m\u001b[0m \u001b[1m1s\u001b[0m 195ms/step - categorical_accuracy: 0.1743 - loss: 2.3041\n",
            "Epoch 740/2000\n",
            "\u001b[1m7/7\u001b[0m \u001b[32m━━━━━━━━━━━━━━━━━━━━\u001b[0m\u001b[37m\u001b[0m \u001b[1m2s\u001b[0m 174ms/step - categorical_accuracy: 0.1563 - loss: 2.2785\n",
            "Epoch 741/2000\n",
            "\u001b[1m7/7\u001b[0m \u001b[32m━━━━━━━━━━━━━━━━━━━━\u001b[0m\u001b[37m\u001b[0m \u001b[1m1s\u001b[0m 177ms/step - categorical_accuracy: 0.1547 - loss: 2.3249\n",
            "Epoch 742/2000\n",
            "\u001b[1m7/7\u001b[0m \u001b[32m━━━━━━━━━━━━━━━━━━━━\u001b[0m\u001b[37m\u001b[0m \u001b[1m3s\u001b[0m 297ms/step - categorical_accuracy: 0.1101 - loss: 2.3278\n",
            "Epoch 743/2000\n",
            "\u001b[1m7/7\u001b[0m \u001b[32m━━━━━━━━━━━━━━━━━━━━\u001b[0m\u001b[37m\u001b[0m \u001b[1m3s\u001b[0m 286ms/step - categorical_accuracy: 0.1393 - loss: 2.2959\n",
            "Epoch 744/2000\n",
            "\u001b[1m7/7\u001b[0m \u001b[32m━━━━━━━━━━━━━━━━━━━━\u001b[0m\u001b[37m\u001b[0m \u001b[1m2s\u001b[0m 297ms/step - categorical_accuracy: 0.1482 - loss: 2.2786\n",
            "Epoch 745/2000\n",
            "\u001b[1m7/7\u001b[0m \u001b[32m━━━━━━━━━━━━━━━━━━━━\u001b[0m\u001b[37m\u001b[0m \u001b[1m1s\u001b[0m 172ms/step - categorical_accuracy: 0.1555 - loss: 2.2732\n",
            "Epoch 746/2000\n",
            "\u001b[1m7/7\u001b[0m \u001b[32m━━━━━━━━━━━━━━━━━━━━\u001b[0m\u001b[37m\u001b[0m \u001b[1m1s\u001b[0m 174ms/step - categorical_accuracy: 0.1283 - loss: 2.3036\n",
            "Epoch 747/2000\n",
            "\u001b[1m7/7\u001b[0m \u001b[32m━━━━━━━━━━━━━━━━━━━━\u001b[0m\u001b[37m\u001b[0m \u001b[1m3s\u001b[0m 184ms/step - categorical_accuracy: 0.1367 - loss: 2.3077\n",
            "Epoch 748/2000\n",
            "\u001b[1m7/7\u001b[0m \u001b[32m━━━━━━━━━━━━━━━━━━━━\u001b[0m\u001b[37m\u001b[0m \u001b[1m1s\u001b[0m 184ms/step - categorical_accuracy: 0.1339 - loss: 2.3067\n",
            "Epoch 749/2000\n",
            "\u001b[1m7/7\u001b[0m \u001b[32m━━━━━━━━━━━━━━━━━━━━\u001b[0m\u001b[37m\u001b[0m \u001b[1m1s\u001b[0m 184ms/step - categorical_accuracy: 0.1500 - loss: 2.3105\n",
            "Epoch 750/2000\n",
            "\u001b[1m7/7\u001b[0m \u001b[32m━━━━━━━━━━━━━━━━━━━━\u001b[0m\u001b[37m\u001b[0m \u001b[1m3s\u001b[0m 217ms/step - categorical_accuracy: 0.1191 - loss: 2.2938\n",
            "Epoch 751/2000\n",
            "\u001b[1m7/7\u001b[0m \u001b[32m━━━━━━━━━━━━━━━━━━━━\u001b[0m\u001b[37m\u001b[0m \u001b[1m3s\u001b[0m 307ms/step - categorical_accuracy: 0.1352 - loss: 2.3104\n",
            "Epoch 752/2000\n",
            "\u001b[1m7/7\u001b[0m \u001b[32m━━━━━━━━━━━━━━━━━━━━\u001b[0m\u001b[37m\u001b[0m \u001b[1m2s\u001b[0m 168ms/step - categorical_accuracy: 0.1669 - loss: 2.2728\n",
            "Epoch 753/2000\n",
            "\u001b[1m7/7\u001b[0m \u001b[32m━━━━━━━━━━━━━━━━━━━━\u001b[0m\u001b[37m\u001b[0m \u001b[1m3s\u001b[0m 182ms/step - categorical_accuracy: 0.1359 - loss: 2.2817\n",
            "Epoch 754/2000\n",
            "\u001b[1m7/7\u001b[0m \u001b[32m━━━━━━━━━━━━━━━━━━━━\u001b[0m\u001b[37m\u001b[0m \u001b[1m1s\u001b[0m 172ms/step - categorical_accuracy: 0.1505 - loss: 2.3095\n",
            "Epoch 755/2000\n",
            "\u001b[1m7/7\u001b[0m \u001b[32m━━━━━━━━━━━━━━━━━━━━\u001b[0m\u001b[37m\u001b[0m \u001b[1m1s\u001b[0m 189ms/step - categorical_accuracy: 0.1546 - loss: 2.3049\n",
            "Epoch 756/2000\n",
            "\u001b[1m7/7\u001b[0m \u001b[32m━━━━━━━━━━━━━━━━━━━━\u001b[0m\u001b[37m\u001b[0m \u001b[1m3s\u001b[0m 186ms/step - categorical_accuracy: 0.1583 - loss: 2.2853\n",
            "Epoch 757/2000\n",
            "\u001b[1m7/7\u001b[0m \u001b[32m━━━━━━━━━━━━━━━━━━━━\u001b[0m\u001b[37m\u001b[0m \u001b[1m1s\u001b[0m 201ms/step - categorical_accuracy: 0.1004 - loss: 2.3231\n",
            "Epoch 758/2000\n",
            "\u001b[1m7/7\u001b[0m \u001b[32m━━━━━━━━━━━━━━━━━━━━\u001b[0m\u001b[37m\u001b[0m \u001b[1m2s\u001b[0m 306ms/step - categorical_accuracy: 0.1537 - loss: 2.3129\n",
            "Epoch 759/2000\n",
            "\u001b[1m7/7\u001b[0m \u001b[32m━━━━━━━━━━━━━━━━━━━━\u001b[0m\u001b[37m\u001b[0m \u001b[1m2s\u001b[0m 314ms/step - categorical_accuracy: 0.1222 - loss: 2.3071\n",
            "Epoch 760/2000\n",
            "\u001b[1m7/7\u001b[0m \u001b[32m━━━━━━━━━━━━━━━━━━━━\u001b[0m\u001b[37m\u001b[0m \u001b[1m2s\u001b[0m 247ms/step - categorical_accuracy: 0.1582 - loss: 2.2801\n",
            "Epoch 761/2000\n",
            "\u001b[1m7/7\u001b[0m \u001b[32m━━━━━━━━━━━━━━━━━━━━\u001b[0m\u001b[37m\u001b[0m \u001b[1m1s\u001b[0m 190ms/step - categorical_accuracy: 0.1298 - loss: 2.2900\n",
            "Epoch 762/2000\n",
            "\u001b[1m7/7\u001b[0m \u001b[32m━━━━━━━━━━━━━━━━━━━━\u001b[0m\u001b[37m\u001b[0m \u001b[1m2s\u001b[0m 180ms/step - categorical_accuracy: 0.1268 - loss: 2.2859\n",
            "Epoch 763/2000\n",
            "\u001b[1m7/7\u001b[0m \u001b[32m━━━━━━━━━━━━━━━━━━━━\u001b[0m\u001b[37m\u001b[0m \u001b[1m1s\u001b[0m 184ms/step - categorical_accuracy: 0.1346 - loss: 2.3212\n",
            "Epoch 764/2000\n",
            "\u001b[1m7/7\u001b[0m \u001b[32m━━━━━━━━━━━━━━━━━━━━\u001b[0m\u001b[37m\u001b[0m \u001b[1m2s\u001b[0m 177ms/step - categorical_accuracy: 0.1652 - loss: 2.2874\n",
            "Epoch 765/2000\n",
            "\u001b[1m7/7\u001b[0m \u001b[32m━━━━━━━━━━━━━━━━━━━━\u001b[0m\u001b[37m\u001b[0m \u001b[1m3s\u001b[0m 265ms/step - categorical_accuracy: 0.1334 - loss: 2.3034\n",
            "Epoch 766/2000\n",
            "\u001b[1m7/7\u001b[0m \u001b[32m━━━━━━━━━━━━━━━━━━━━\u001b[0m\u001b[37m\u001b[0m \u001b[1m3s\u001b[0m 309ms/step - categorical_accuracy: 0.1275 - loss: 2.3567\n",
            "Epoch 767/2000\n",
            "\u001b[1m7/7\u001b[0m \u001b[32m━━━━━━━━━━━━━━━━━━━━\u001b[0m\u001b[37m\u001b[0m \u001b[1m2s\u001b[0m 189ms/step - categorical_accuracy: 0.1473 - loss: 2.2787\n",
            "Epoch 768/2000\n",
            "\u001b[1m7/7\u001b[0m \u001b[32m━━━━━━━━━━━━━━━━━━━━\u001b[0m\u001b[37m\u001b[0m \u001b[1m1s\u001b[0m 174ms/step - categorical_accuracy: 0.1430 - loss: 2.3122\n",
            "Epoch 769/2000\n",
            "\u001b[1m7/7\u001b[0m \u001b[32m━━━━━━━━━━━━━━━━━━━━\u001b[0m\u001b[37m\u001b[0m \u001b[1m1s\u001b[0m 183ms/step - categorical_accuracy: 0.1507 - loss: 2.2611\n",
            "Epoch 770/2000\n",
            "\u001b[1m7/7\u001b[0m \u001b[32m━━━━━━━━━━━━━━━━━━━━\u001b[0m\u001b[37m\u001b[0m \u001b[1m1s\u001b[0m 172ms/step - categorical_accuracy: 0.1206 - loss: 2.3211\n",
            "Epoch 771/2000\n",
            "\u001b[1m7/7\u001b[0m \u001b[32m━━━━━━━━━━━━━━━━━━━━\u001b[0m\u001b[37m\u001b[0m \u001b[1m1s\u001b[0m 172ms/step - categorical_accuracy: 0.1153 - loss: 2.2805\n",
            "Epoch 772/2000\n",
            "\u001b[1m7/7\u001b[0m \u001b[32m━━━━━━━━━━━━━━━━━━━━\u001b[0m\u001b[37m\u001b[0m \u001b[1m1s\u001b[0m 175ms/step - categorical_accuracy: 0.1604 - loss: 2.2735\n",
            "Epoch 773/2000\n",
            "\u001b[1m7/7\u001b[0m \u001b[32m━━━━━━━━━━━━━━━━━━━━\u001b[0m\u001b[37m\u001b[0m \u001b[1m1s\u001b[0m 189ms/step - categorical_accuracy: 0.1391 - loss: 2.3133\n",
            "Epoch 774/2000\n",
            "\u001b[1m7/7\u001b[0m \u001b[32m━━━━━━━━━━━━━━━━━━━━\u001b[0m\u001b[37m\u001b[0m \u001b[1m1s\u001b[0m 188ms/step - categorical_accuracy: 0.1159 - loss: 2.2844\n",
            "Epoch 775/2000\n",
            "\u001b[1m7/7\u001b[0m \u001b[32m━━━━━━━━━━━━━━━━━━━━\u001b[0m\u001b[37m\u001b[0m \u001b[1m3s\u001b[0m 321ms/step - categorical_accuracy: 0.1402 - loss: 2.3174\n",
            "Epoch 776/2000\n",
            "\u001b[1m7/7\u001b[0m \u001b[32m━━━━━━━━━━━━━━━━━━━━\u001b[0m\u001b[37m\u001b[0m \u001b[1m2s\u001b[0m 202ms/step - categorical_accuracy: 0.1184 - loss: 2.3084\n",
            "Epoch 777/2000\n",
            "\u001b[1m7/7\u001b[0m \u001b[32m━━━━━━━━━━━━━━━━━━━━\u001b[0m\u001b[37m\u001b[0m \u001b[1m1s\u001b[0m 190ms/step - categorical_accuracy: 0.1338 - loss: 2.3105\n",
            "Epoch 778/2000\n",
            "\u001b[1m7/7\u001b[0m \u001b[32m━━━━━━━━━━━━━━━━━━━━\u001b[0m\u001b[37m\u001b[0m \u001b[1m3s\u001b[0m 187ms/step - categorical_accuracy: 0.1559 - loss: 2.2487\n",
            "Epoch 779/2000\n",
            "\u001b[1m7/7\u001b[0m \u001b[32m━━━━━━━━━━━━━━━━━━━━\u001b[0m\u001b[37m\u001b[0m \u001b[1m1s\u001b[0m 189ms/step - categorical_accuracy: 0.1201 - loss: 2.2915\n",
            "Epoch 780/2000\n",
            "\u001b[1m7/7\u001b[0m \u001b[32m━━━━━━━━━━━━━━━━━━━━\u001b[0m\u001b[37m\u001b[0m \u001b[1m3s\u001b[0m 186ms/step - categorical_accuracy: 0.1308 - loss: 2.2971\n",
            "Epoch 781/2000\n",
            "\u001b[1m7/7\u001b[0m \u001b[32m━━━━━━━━━━━━━━━━━━━━\u001b[0m\u001b[37m\u001b[0m \u001b[1m3s\u001b[0m 294ms/step - categorical_accuracy: 0.1256 - loss: 2.3067\n",
            "Epoch 782/2000\n",
            "\u001b[1m7/7\u001b[0m \u001b[32m━━━━━━━━━━━━━━━━━━━━\u001b[0m\u001b[37m\u001b[0m \u001b[1m2s\u001b[0m 318ms/step - categorical_accuracy: 0.1651 - loss: 2.2941\n",
            "Epoch 783/2000\n",
            "\u001b[1m7/7\u001b[0m \u001b[32m━━━━━━━━━━━━━━━━━━━━\u001b[0m\u001b[37m\u001b[0m \u001b[1m2s\u001b[0m 286ms/step - categorical_accuracy: 0.1273 - loss: 2.3008\n",
            "Epoch 784/2000\n",
            "\u001b[1m7/7\u001b[0m \u001b[32m━━━━━━━━━━━━━━━━━━━━\u001b[0m\u001b[37m\u001b[0m \u001b[1m1s\u001b[0m 171ms/step - categorical_accuracy: 0.1352 - loss: 2.3131\n",
            "Epoch 785/2000\n",
            "\u001b[1m7/7\u001b[0m \u001b[32m━━━━━━━━━━━━━━━━━━━━\u001b[0m\u001b[37m\u001b[0m \u001b[1m1s\u001b[0m 174ms/step - categorical_accuracy: 0.1546 - loss: 2.3033\n",
            "Epoch 786/2000\n",
            "\u001b[1m7/7\u001b[0m \u001b[32m━━━━━━━━━━━━━━━━━━━━\u001b[0m\u001b[37m\u001b[0m \u001b[1m1s\u001b[0m 172ms/step - categorical_accuracy: 0.1392 - loss: 2.3011\n",
            "Epoch 787/2000\n",
            "\u001b[1m7/7\u001b[0m \u001b[32m━━━━━━━━━━━━━━━━━━━━\u001b[0m\u001b[37m\u001b[0m \u001b[1m1s\u001b[0m 171ms/step - categorical_accuracy: 0.1286 - loss: 2.2869\n",
            "Epoch 788/2000\n",
            "\u001b[1m7/7\u001b[0m \u001b[32m━━━━━━━━━━━━━━━━━━━━\u001b[0m\u001b[37m\u001b[0m \u001b[1m1s\u001b[0m 185ms/step - categorical_accuracy: 0.1408 - loss: 2.2784\n",
            "Epoch 789/2000\n",
            "\u001b[1m7/7\u001b[0m \u001b[32m━━━━━━━━━━━━━━━━━━━━\u001b[0m\u001b[37m\u001b[0m \u001b[1m1s\u001b[0m 187ms/step - categorical_accuracy: 0.1484 - loss: 2.2940\n",
            "Epoch 790/2000\n",
            "\u001b[1m7/7\u001b[0m \u001b[32m━━━━━━━━━━━━━━━━━━━━\u001b[0m\u001b[37m\u001b[0m \u001b[1m1s\u001b[0m 178ms/step - categorical_accuracy: 0.1520 - loss: 2.2759\n",
            "Epoch 791/2000\n",
            "\u001b[1m7/7\u001b[0m \u001b[32m━━━━━━━━━━━━━━━━━━━━\u001b[0m\u001b[37m\u001b[0m \u001b[1m2s\u001b[0m 238ms/step - categorical_accuracy: 0.1389 - loss: 2.3015\n",
            "Epoch 792/2000\n",
            "\u001b[1m7/7\u001b[0m \u001b[32m━━━━━━━━━━━━━━━━━━━━\u001b[0m\u001b[37m\u001b[0m \u001b[1m3s\u001b[0m 291ms/step - categorical_accuracy: 0.1172 - loss: 2.3092\n",
            "Epoch 793/2000\n",
            "\u001b[1m7/7\u001b[0m \u001b[32m━━━━━━━━━━━━━━━━━━━━\u001b[0m\u001b[37m\u001b[0m \u001b[1m2s\u001b[0m 280ms/step - categorical_accuracy: 0.1442 - loss: 2.3104\n",
            "Epoch 794/2000\n",
            "\u001b[1m7/7\u001b[0m \u001b[32m━━━━━━━━━━━━━━━━━━━━\u001b[0m\u001b[37m\u001b[0m \u001b[1m2s\u001b[0m 174ms/step - categorical_accuracy: 0.1249 - loss: 2.3126\n",
            "Epoch 795/2000\n",
            "\u001b[1m7/7\u001b[0m \u001b[32m━━━━━━━━━━━━━━━━━━━━\u001b[0m\u001b[37m\u001b[0m \u001b[1m1s\u001b[0m 174ms/step - categorical_accuracy: 0.1570 - loss: 2.3123\n",
            "Epoch 796/2000\n",
            "\u001b[1m7/7\u001b[0m \u001b[32m━━━━━━━━━━━━━━━━━━━━\u001b[0m\u001b[37m\u001b[0m \u001b[1m1s\u001b[0m 176ms/step - categorical_accuracy: 0.1432 - loss: 2.2956\n",
            "Epoch 797/2000\n",
            "\u001b[1m7/7\u001b[0m \u001b[32m━━━━━━━━━━━━━━━━━━━━\u001b[0m\u001b[37m\u001b[0m \u001b[1m3s\u001b[0m 176ms/step - categorical_accuracy: 0.1598 - loss: 2.2974\n",
            "Epoch 798/2000\n",
            "\u001b[1m7/7\u001b[0m \u001b[32m━━━━━━━━━━━━━━━━━━━━\u001b[0m\u001b[37m\u001b[0m \u001b[1m1s\u001b[0m 178ms/step - categorical_accuracy: 0.1210 - loss: 2.3251\n",
            "Epoch 799/2000\n",
            "\u001b[1m7/7\u001b[0m \u001b[32m━━━━━━━━━━━━━━━━━━━━\u001b[0m\u001b[37m\u001b[0m \u001b[1m1s\u001b[0m 173ms/step - categorical_accuracy: 0.1211 - loss: 2.3062\n",
            "Epoch 800/2000\n",
            "\u001b[1m7/7\u001b[0m \u001b[32m━━━━━━━━━━━━━━━━━━━━\u001b[0m\u001b[37m\u001b[0m \u001b[1m2s\u001b[0m 281ms/step - categorical_accuracy: 0.1296 - loss: 2.3178\n",
            "Epoch 801/2000\n",
            "\u001b[1m7/7\u001b[0m \u001b[32m━━━━━━━━━━━━━━━━━━━━\u001b[0m\u001b[37m\u001b[0m \u001b[1m3s\u001b[0m 302ms/step - categorical_accuracy: 0.1499 - loss: 2.2730\n",
            "Epoch 802/2000\n",
            "\u001b[1m7/7\u001b[0m \u001b[32m━━━━━━━━━━━━━━━━━━━━\u001b[0m\u001b[37m\u001b[0m \u001b[1m2s\u001b[0m 204ms/step - categorical_accuracy: 0.1501 - loss: 2.2888\n",
            "Epoch 803/2000\n",
            "\u001b[1m7/7\u001b[0m \u001b[32m━━━━━━━━━━━━━━━━━━━━\u001b[0m\u001b[37m\u001b[0m \u001b[1m2s\u001b[0m 178ms/step - categorical_accuracy: 0.1393 - loss: 2.2926\n",
            "Epoch 804/2000\n",
            "\u001b[1m7/7\u001b[0m \u001b[32m━━━━━━━━━━━━━━━━━━━━\u001b[0m\u001b[37m\u001b[0m \u001b[1m1s\u001b[0m 173ms/step - categorical_accuracy: 0.1365 - loss: 2.3183\n",
            "Epoch 805/2000\n",
            "\u001b[1m7/7\u001b[0m \u001b[32m━━━━━━━━━━━━━━━━━━━━\u001b[0m\u001b[37m\u001b[0m \u001b[1m1s\u001b[0m 175ms/step - categorical_accuracy: 0.1270 - loss: 2.3324\n",
            "Epoch 806/2000\n",
            "\u001b[1m7/7\u001b[0m \u001b[32m━━━━━━━━━━━━━━━━━━━━\u001b[0m\u001b[37m\u001b[0m \u001b[1m1s\u001b[0m 172ms/step - categorical_accuracy: 0.1399 - loss: 2.3040\n",
            "Epoch 807/2000\n",
            "\u001b[1m7/7\u001b[0m \u001b[32m━━━━━━━━━━━━━━━━━━━━\u001b[0m\u001b[37m\u001b[0m \u001b[1m1s\u001b[0m 174ms/step - categorical_accuracy: 0.1409 - loss: 2.3116\n",
            "Epoch 808/2000\n",
            "\u001b[1m7/7\u001b[0m \u001b[32m━━━━━━━━━━━━━━━━━━━━\u001b[0m\u001b[37m\u001b[0m \u001b[1m3s\u001b[0m 247ms/step - categorical_accuracy: 0.1289 - loss: 2.2729\n",
            "Epoch 809/2000\n",
            "\u001b[1m7/7\u001b[0m \u001b[32m━━━━━━━━━━━━━━━━━━━━\u001b[0m\u001b[37m\u001b[0m \u001b[1m2s\u001b[0m 293ms/step - categorical_accuracy: 0.1477 - loss: 2.2895\n",
            "Epoch 810/2000\n",
            "\u001b[1m7/7\u001b[0m \u001b[32m━━━━━━━━━━━━━━━━━━━━\u001b[0m\u001b[37m\u001b[0m \u001b[1m3s\u001b[0m 340ms/step - categorical_accuracy: 0.1027 - loss: 2.2839\n",
            "Epoch 811/2000\n",
            "\u001b[1m7/7\u001b[0m \u001b[32m━━━━━━━━━━━━━━━━━━━━\u001b[0m\u001b[37m\u001b[0m \u001b[1m1s\u001b[0m 178ms/step - categorical_accuracy: 0.1715 - loss: 2.2711\n",
            "Epoch 812/2000\n",
            "\u001b[1m7/7\u001b[0m \u001b[32m━━━━━━━━━━━━━━━━━━━━\u001b[0m\u001b[37m\u001b[0m \u001b[1m3s\u001b[0m 188ms/step - categorical_accuracy: 0.1480 - loss: 2.3052\n",
            "Epoch 813/2000\n",
            "\u001b[1m7/7\u001b[0m \u001b[32m━━━━━━━━━━━━━━━━━━━━\u001b[0m\u001b[37m\u001b[0m \u001b[1m1s\u001b[0m 178ms/step - categorical_accuracy: 0.0964 - loss: 2.3077\n",
            "Epoch 814/2000\n",
            "\u001b[1m7/7\u001b[0m \u001b[32m━━━━━━━━━━━━━━━━━━━━\u001b[0m\u001b[37m\u001b[0m \u001b[1m3s\u001b[0m 177ms/step - categorical_accuracy: 0.1404 - loss: 2.3196\n",
            "Epoch 815/2000\n",
            "\u001b[1m7/7\u001b[0m \u001b[32m━━━━━━━━━━━━━━━━━━━━\u001b[0m\u001b[37m\u001b[0m \u001b[1m3s\u001b[0m 214ms/step - categorical_accuracy: 0.1472 - loss: 2.2967\n",
            "Epoch 816/2000\n",
            "\u001b[1m7/7\u001b[0m \u001b[32m━━━━━━━━━━━━━━━━━━━━\u001b[0m\u001b[37m\u001b[0m \u001b[1m3s\u001b[0m 299ms/step - categorical_accuracy: 0.1282 - loss: 2.3229\n",
            "Epoch 817/2000\n",
            "\u001b[1m7/7\u001b[0m \u001b[32m━━━━━━━━━━━━━━━━━━━━\u001b[0m\u001b[37m\u001b[0m \u001b[1m2s\u001b[0m 189ms/step - categorical_accuracy: 0.1333 - loss: 2.2752\n",
            "Epoch 818/2000\n",
            "\u001b[1m7/7\u001b[0m \u001b[32m━━━━━━━━━━━━━━━━━━━━\u001b[0m\u001b[37m\u001b[0m \u001b[1m1s\u001b[0m 174ms/step - categorical_accuracy: 0.1148 - loss: 2.3151\n",
            "Epoch 819/2000\n",
            "\u001b[1m7/7\u001b[0m \u001b[32m━━━━━━━━━━━━━━━━━━━━\u001b[0m\u001b[37m\u001b[0m \u001b[1m1s\u001b[0m 183ms/step - categorical_accuracy: 0.1356 - loss: 2.2957\n",
            "Epoch 820/2000\n",
            "\u001b[1m7/7\u001b[0m \u001b[32m━━━━━━━━━━━━━━━━━━━━\u001b[0m\u001b[37m\u001b[0m \u001b[1m2s\u001b[0m 172ms/step - categorical_accuracy: 0.1460 - loss: 2.2971\n",
            "Epoch 821/2000\n",
            "\u001b[1m7/7\u001b[0m \u001b[32m━━━━━━━━━━━━━━━━━━━━\u001b[0m\u001b[37m\u001b[0m \u001b[1m1s\u001b[0m 182ms/step - categorical_accuracy: 0.1435 - loss: 2.3294\n",
            "Epoch 822/2000\n",
            "\u001b[1m7/7\u001b[0m \u001b[32m━━━━━━━━━━━━━━━━━━━━\u001b[0m\u001b[37m\u001b[0m \u001b[1m1s\u001b[0m 183ms/step - categorical_accuracy: 0.1400 - loss: 2.3112\n",
            "Epoch 823/2000\n",
            "\u001b[1m7/7\u001b[0m \u001b[32m━━━━━━━━━━━━━━━━━━━━\u001b[0m\u001b[37m\u001b[0m \u001b[1m2s\u001b[0m 230ms/step - categorical_accuracy: 0.1201 - loss: 2.2927\n",
            "Epoch 824/2000\n",
            "\u001b[1m7/7\u001b[0m \u001b[32m━━━━━━━━━━━━━━━━━━━━\u001b[0m\u001b[37m\u001b[0m \u001b[1m2s\u001b[0m 310ms/step - categorical_accuracy: 0.1254 - loss: 2.2939\n",
            "Epoch 825/2000\n",
            "\u001b[1m7/7\u001b[0m \u001b[32m━━━━━━━━━━━━━━━━━━━━\u001b[0m\u001b[37m\u001b[0m \u001b[1m2s\u001b[0m 320ms/step - categorical_accuracy: 0.1548 - loss: 2.3012\n",
            "Epoch 826/2000\n",
            "\u001b[1m7/7\u001b[0m \u001b[32m━━━━━━━━━━━━━━━━━━━━\u001b[0m\u001b[37m\u001b[0m \u001b[1m2s\u001b[0m 197ms/step - categorical_accuracy: 0.1365 - loss: 2.2900\n",
            "Epoch 827/2000\n",
            "\u001b[1m7/7\u001b[0m \u001b[32m━━━━━━━━━━━━━━━━━━━━\u001b[0m\u001b[37m\u001b[0m \u001b[1m2s\u001b[0m 181ms/step - categorical_accuracy: 0.1393 - loss: 2.3069\n",
            "Epoch 828/2000\n",
            "\u001b[1m7/7\u001b[0m \u001b[32m━━━━━━━━━━━━━━━━━━━━\u001b[0m\u001b[37m\u001b[0m \u001b[1m1s\u001b[0m 188ms/step - categorical_accuracy: 0.1280 - loss: 2.2774\n",
            "Epoch 829/2000\n",
            "\u001b[1m7/7\u001b[0m \u001b[32m━━━━━━━━━━━━━━━━━━━━\u001b[0m\u001b[37m\u001b[0m \u001b[1m2s\u001b[0m 170ms/step - categorical_accuracy: 0.1124 - loss: 2.2993\n",
            "Epoch 830/2000\n",
            "\u001b[1m7/7\u001b[0m \u001b[32m━━━━━━━━━━━━━━━━━━━━\u001b[0m\u001b[37m\u001b[0m \u001b[1m1s\u001b[0m 179ms/step - categorical_accuracy: 0.1079 - loss: 2.3273\n",
            "Epoch 831/2000\n",
            "\u001b[1m7/7\u001b[0m \u001b[32m━━━━━━━━━━━━━━━━━━━━\u001b[0m\u001b[37m\u001b[0m \u001b[1m3s\u001b[0m 289ms/step - categorical_accuracy: 0.1182 - loss: 2.3122\n",
            "Epoch 832/2000\n",
            "\u001b[1m7/7\u001b[0m \u001b[32m━━━━━━━━━━━━━━━━━━━━\u001b[0m\u001b[37m\u001b[0m \u001b[1m2s\u001b[0m 290ms/step - categorical_accuracy: 0.1234 - loss: 2.2664\n",
            "Epoch 833/2000\n",
            "\u001b[1m7/7\u001b[0m \u001b[32m━━━━━━━━━━━━━━━━━━━━\u001b[0m\u001b[37m\u001b[0m \u001b[1m2s\u001b[0m 307ms/step - categorical_accuracy: 0.1438 - loss: 2.2808\n",
            "Epoch 834/2000\n",
            "\u001b[1m7/7\u001b[0m \u001b[32m━━━━━━━━━━━━━━━━━━━━\u001b[0m\u001b[37m\u001b[0m \u001b[1m2s\u001b[0m 227ms/step - categorical_accuracy: 0.1296 - loss: 2.3269\n",
            "Epoch 835/2000\n",
            "\u001b[1m7/7\u001b[0m \u001b[32m━━━━━━━━━━━━━━━━━━━━\u001b[0m\u001b[37m\u001b[0m \u001b[1m1s\u001b[0m 191ms/step - categorical_accuracy: 0.1317 - loss: 2.3238\n",
            "Epoch 836/2000\n",
            "\u001b[1m7/7\u001b[0m \u001b[32m━━━━━━━━━━━━━━━━━━━━\u001b[0m\u001b[37m\u001b[0m \u001b[1m1s\u001b[0m 185ms/step - categorical_accuracy: 0.1246 - loss: 2.3323\n",
            "Epoch 837/2000\n",
            "\u001b[1m7/7\u001b[0m \u001b[32m━━━━━━━━━━━━━━━━━━━━\u001b[0m\u001b[37m\u001b[0m \u001b[1m3s\u001b[0m 185ms/step - categorical_accuracy: 0.1274 - loss: 2.3113\n",
            "Epoch 838/2000\n",
            "\u001b[1m7/7\u001b[0m \u001b[32m━━━━━━━━━━━━━━━━━━━━\u001b[0m\u001b[37m\u001b[0m \u001b[1m3s\u001b[0m 186ms/step - categorical_accuracy: 0.1281 - loss: 2.3025\n",
            "Epoch 839/2000\n",
            "\u001b[1m7/7\u001b[0m \u001b[32m━━━━━━━━━━━━━━━━━━━━\u001b[0m\u001b[37m\u001b[0m \u001b[1m1s\u001b[0m 187ms/step - categorical_accuracy: 0.1359 - loss: 2.3218\n",
            "Epoch 840/2000\n",
            "\u001b[1m7/7\u001b[0m \u001b[32m━━━━━━━━━━━━━━━━━━━━\u001b[0m\u001b[37m\u001b[0m \u001b[1m3s\u001b[0m 317ms/step - categorical_accuracy: 0.1197 - loss: 2.3162\n",
            "Epoch 841/2000\n",
            "\u001b[1m7/7\u001b[0m \u001b[32m━━━━━━━━━━━━━━━━━━━━\u001b[0m\u001b[37m\u001b[0m \u001b[1m2s\u001b[0m 199ms/step - categorical_accuracy: 0.1389 - loss: 2.3193\n",
            "Epoch 842/2000\n",
            "\u001b[1m7/7\u001b[0m \u001b[32m━━━━━━━━━━━━━━━━━━━━\u001b[0m\u001b[37m\u001b[0m \u001b[1m1s\u001b[0m 188ms/step - categorical_accuracy: 0.1574 - loss: 2.3106\n",
            "Epoch 843/2000\n",
            "\u001b[1m7/7\u001b[0m \u001b[32m━━━━━━━━━━━━━━━━━━━━\u001b[0m\u001b[37m\u001b[0m \u001b[1m3s\u001b[0m 189ms/step - categorical_accuracy: 0.1260 - loss: 2.3356\n",
            "Epoch 844/2000\n",
            "\u001b[1m7/7\u001b[0m \u001b[32m━━━━━━━━━━━━━━━━━━━━\u001b[0m\u001b[37m\u001b[0m \u001b[1m3s\u001b[0m 185ms/step - categorical_accuracy: 0.1163 - loss: 2.3119\n",
            "Epoch 845/2000\n",
            "\u001b[1m7/7\u001b[0m \u001b[32m━━━━━━━━━━━━━━━━━━━━\u001b[0m\u001b[37m\u001b[0m \u001b[1m1s\u001b[0m 174ms/step - categorical_accuracy: 0.1111 - loss: 2.3109\n",
            "Epoch 846/2000\n",
            "\u001b[1m7/7\u001b[0m \u001b[32m━━━━━━━━━━━━━━━━━━━━\u001b[0m\u001b[37m\u001b[0m \u001b[1m1s\u001b[0m 176ms/step - categorical_accuracy: 0.1099 - loss: 2.3236\n",
            "Epoch 847/2000\n",
            "\u001b[1m7/7\u001b[0m \u001b[32m━━━━━━━━━━━━━━━━━━━━\u001b[0m\u001b[37m\u001b[0m \u001b[1m3s\u001b[0m 312ms/step - categorical_accuracy: 0.1142 - loss: 2.3257\n",
            "Epoch 848/2000\n",
            "\u001b[1m7/7\u001b[0m \u001b[32m━━━━━━━━━━━━━━━━━━━━\u001b[0m\u001b[37m\u001b[0m \u001b[1m2s\u001b[0m 193ms/step - categorical_accuracy: 0.1130 - loss: 2.3098\n",
            "Epoch 849/2000\n",
            "\u001b[1m7/7\u001b[0m \u001b[32m━━━━━━━━━━━━━━━━━━━━\u001b[0m\u001b[37m\u001b[0m \u001b[1m2s\u001b[0m 191ms/step - categorical_accuracy: 0.1345 - loss: 2.3055\n",
            "Epoch 850/2000\n",
            "\u001b[1m7/7\u001b[0m \u001b[32m━━━━━━━━━━━━━━━━━━━━\u001b[0m\u001b[37m\u001b[0m \u001b[1m3s\u001b[0m 185ms/step - categorical_accuracy: 0.1475 - loss: 2.2859\n",
            "Epoch 851/2000\n",
            "\u001b[1m7/7\u001b[0m \u001b[32m━━━━━━━━━━━━━━━━━━━━\u001b[0m\u001b[37m\u001b[0m \u001b[1m3s\u001b[0m 195ms/step - categorical_accuracy: 0.1253 - loss: 2.3089\n",
            "Epoch 852/2000\n",
            "\u001b[1m7/7\u001b[0m \u001b[32m━━━━━━━━━━━━━━━━━━━━\u001b[0m\u001b[37m\u001b[0m \u001b[1m3s\u001b[0m 303ms/step - categorical_accuracy: 0.0990 - loss: 2.3088\n",
            "Epoch 853/2000\n",
            "\u001b[1m7/7\u001b[0m \u001b[32m━━━━━━━━━━━━━━━━━━━━\u001b[0m\u001b[37m\u001b[0m \u001b[1m3s\u001b[0m 322ms/step - categorical_accuracy: 0.1524 - loss: 2.2952\n",
            "Epoch 854/2000\n",
            "\u001b[1m7/7\u001b[0m \u001b[32m━━━━━━━━━━━━━━━━━━━━\u001b[0m\u001b[37m\u001b[0m \u001b[1m2s\u001b[0m 194ms/step - categorical_accuracy: 0.1258 - loss: 2.2850\n",
            "Epoch 855/2000\n",
            "\u001b[1m7/7\u001b[0m \u001b[32m━━━━━━━━━━━━━━━━━━━━\u001b[0m\u001b[37m\u001b[0m \u001b[1m1s\u001b[0m 195ms/step - categorical_accuracy: 0.1150 - loss: 2.2991\n",
            "Epoch 856/2000\n",
            "\u001b[1m7/7\u001b[0m \u001b[32m━━━━━━━━━━━━━━━━━━━━\u001b[0m\u001b[37m\u001b[0m \u001b[1m1s\u001b[0m 188ms/step - categorical_accuracy: 0.1190 - loss: 2.3093\n",
            "Epoch 857/2000\n",
            "\u001b[1m7/7\u001b[0m \u001b[32m━━━━━━━━━━━━━━━━━━━━\u001b[0m\u001b[37m\u001b[0m \u001b[1m3s\u001b[0m 190ms/step - categorical_accuracy: 0.1228 - loss: 2.2945\n",
            "Epoch 858/2000\n",
            "\u001b[1m7/7\u001b[0m \u001b[32m━━━━━━━━━━━━━━━━━━━━\u001b[0m\u001b[37m\u001b[0m \u001b[1m1s\u001b[0m 185ms/step - categorical_accuracy: 0.1164 - loss: 2.3048\n",
            "Epoch 859/2000\n",
            "\u001b[1m7/7\u001b[0m \u001b[32m━━━━━━━━━━━━━━━━━━━━\u001b[0m\u001b[37m\u001b[0m \u001b[1m1s\u001b[0m 181ms/step - categorical_accuracy: 0.1259 - loss: 2.3189\n",
            "Epoch 860/2000\n",
            "\u001b[1m7/7\u001b[0m \u001b[32m━━━━━━━━━━━━━━━━━━━━\u001b[0m\u001b[37m\u001b[0m \u001b[1m3s\u001b[0m 285ms/step - categorical_accuracy: 0.1568 - loss: 2.3131\n",
            "Epoch 861/2000\n",
            "\u001b[1m7/7\u001b[0m \u001b[32m━━━━━━━━━━━━━━━━━━━━\u001b[0m\u001b[37m\u001b[0m \u001b[1m3s\u001b[0m 325ms/step - categorical_accuracy: 0.1497 - loss: 2.2680\n",
            "Epoch 862/2000\n",
            "\u001b[1m7/7\u001b[0m \u001b[32m━━━━━━━━━━━━━━━━━━━━\u001b[0m\u001b[37m\u001b[0m \u001b[1m1s\u001b[0m 173ms/step - categorical_accuracy: 0.1484 - loss: 2.3136\n",
            "Epoch 863/2000\n",
            "\u001b[1m7/7\u001b[0m \u001b[32m━━━━━━━━━━━━━━━━━━━━\u001b[0m\u001b[37m\u001b[0m \u001b[1m1s\u001b[0m 185ms/step - categorical_accuracy: 0.1279 - loss: 2.3238\n",
            "Epoch 864/2000\n",
            "\u001b[1m7/7\u001b[0m \u001b[32m━━━━━━━━━━━━━━━━━━━━\u001b[0m\u001b[37m\u001b[0m \u001b[1m1s\u001b[0m 180ms/step - categorical_accuracy: 0.1165 - loss: 2.3200\n",
            "Epoch 865/2000\n",
            "\u001b[1m7/7\u001b[0m \u001b[32m━━━━━━━━━━━━━━━━━━━━\u001b[0m\u001b[37m\u001b[0m \u001b[1m1s\u001b[0m 175ms/step - categorical_accuracy: 0.1105 - loss: 2.3363\n",
            "Epoch 866/2000\n",
            "\u001b[1m7/7\u001b[0m \u001b[32m━━━━━━━━━━━━━━━━━━━━\u001b[0m\u001b[37m\u001b[0m \u001b[1m1s\u001b[0m 178ms/step - categorical_accuracy: 0.1217 - loss: 2.3020\n",
            "Epoch 867/2000\n",
            "\u001b[1m7/7\u001b[0m \u001b[32m━━━━━━━━━━━━━━━━━━━━\u001b[0m\u001b[37m\u001b[0m \u001b[1m3s\u001b[0m 182ms/step - categorical_accuracy: 0.1383 - loss: 2.3125\n",
            "Epoch 868/2000\n",
            "\u001b[1m7/7\u001b[0m \u001b[32m━━━━━━━━━━━━━━━━━━━━\u001b[0m\u001b[37m\u001b[0m \u001b[1m3s\u001b[0m 307ms/step - categorical_accuracy: 0.1374 - loss: 2.2870\n",
            "Epoch 869/2000\n",
            "\u001b[1m7/7\u001b[0m \u001b[32m━━━━━━━━━━━━━━━━━━━━\u001b[0m\u001b[37m\u001b[0m \u001b[1m2s\u001b[0m 314ms/step - categorical_accuracy: 0.1313 - loss: 2.3028\n",
            "Epoch 870/2000\n",
            "\u001b[1m7/7\u001b[0m \u001b[32m━━━━━━━━━━━━━━━━━━━━\u001b[0m\u001b[37m\u001b[0m \u001b[1m2s\u001b[0m 179ms/step - categorical_accuracy: 0.1340 - loss: 2.2832\n",
            "Epoch 871/2000\n",
            "\u001b[1m7/7\u001b[0m \u001b[32m━━━━━━━━━━━━━━━━━━━━\u001b[0m\u001b[37m\u001b[0m \u001b[1m1s\u001b[0m 189ms/step - categorical_accuracy: 0.1219 - loss: 2.2950\n",
            "Epoch 872/2000\n",
            "\u001b[1m7/7\u001b[0m \u001b[32m━━━━━━━━━━━━━━━━━━━━\u001b[0m\u001b[37m\u001b[0m \u001b[1m2s\u001b[0m 172ms/step - categorical_accuracy: 0.1249 - loss: 2.2966\n",
            "Epoch 873/2000\n",
            "\u001b[1m7/7\u001b[0m \u001b[32m━━━━━━━━━━━━━━━━━━━━\u001b[0m\u001b[37m\u001b[0m \u001b[1m1s\u001b[0m 176ms/step - categorical_accuracy: 0.1376 - loss: 2.3242\n",
            "Epoch 874/2000\n",
            "\u001b[1m7/7\u001b[0m \u001b[32m━━━━━━━━━━━━━━━━━━━━\u001b[0m\u001b[37m\u001b[0m \u001b[1m3s\u001b[0m 173ms/step - categorical_accuracy: 0.1240 - loss: 2.3248\n",
            "Epoch 875/2000\n",
            "\u001b[1m7/7\u001b[0m \u001b[32m━━━━━━━━━━━━━━━━━━━━\u001b[0m\u001b[37m\u001b[0m \u001b[1m1s\u001b[0m 173ms/step - categorical_accuracy: 0.1488 - loss: 2.2824\n",
            "Epoch 876/2000\n",
            "\u001b[1m7/7\u001b[0m \u001b[32m━━━━━━━━━━━━━━━━━━━━\u001b[0m\u001b[37m\u001b[0m \u001b[1m2s\u001b[0m 300ms/step - categorical_accuracy: 0.1130 - loss: 2.3214\n",
            "Epoch 877/2000\n",
            "\u001b[1m7/7\u001b[0m \u001b[32m━━━━━━━━━━━━━━━━━━━━\u001b[0m\u001b[37m\u001b[0m \u001b[1m3s\u001b[0m 314ms/step - categorical_accuracy: 0.1327 - loss: 2.3191\n",
            "Epoch 878/2000\n",
            "\u001b[1m7/7\u001b[0m \u001b[32m━━━━━━━━━━━━━━━━━━━━\u001b[0m\u001b[37m\u001b[0m \u001b[1m2s\u001b[0m 192ms/step - categorical_accuracy: 0.1515 - loss: 2.2843\n",
            "Epoch 879/2000\n",
            "\u001b[1m7/7\u001b[0m \u001b[32m━━━━━━━━━━━━━━━━━━━━\u001b[0m\u001b[37m\u001b[0m \u001b[1m2s\u001b[0m 180ms/step - categorical_accuracy: 0.1337 - loss: 2.3137\n",
            "Epoch 880/2000\n",
            "\u001b[1m7/7\u001b[0m \u001b[32m━━━━━━━━━━━━━━━━━━━━\u001b[0m\u001b[37m\u001b[0m \u001b[1m1s\u001b[0m 172ms/step - categorical_accuracy: 0.1253 - loss: 2.3010\n",
            "Epoch 881/2000\n",
            "\u001b[1m7/7\u001b[0m \u001b[32m━━━━━━━━━━━━━━━━━━━━\u001b[0m\u001b[37m\u001b[0m \u001b[1m1s\u001b[0m 185ms/step - categorical_accuracy: 0.1547 - loss: 2.3029\n",
            "Epoch 882/2000\n",
            "\u001b[1m7/7\u001b[0m \u001b[32m━━━━━━━━━━━━━━━━━━━━\u001b[0m\u001b[37m\u001b[0m \u001b[1m2s\u001b[0m 173ms/step - categorical_accuracy: 0.1693 - loss: 2.2682\n",
            "Epoch 883/2000\n",
            "\u001b[1m7/7\u001b[0m \u001b[32m━━━━━━━━━━━━━━━━━━━━\u001b[0m\u001b[37m\u001b[0m \u001b[1m1s\u001b[0m 170ms/step - categorical_accuracy: 0.1165 - loss: 2.2805\n",
            "Epoch 884/2000\n",
            "\u001b[1m7/7\u001b[0m \u001b[32m━━━━━━━━━━━━━━━━━━━━\u001b[0m\u001b[37m\u001b[0m \u001b[1m2s\u001b[0m 311ms/step - categorical_accuracy: 0.1210 - loss: 2.2993\n",
            "Epoch 885/2000\n",
            "\u001b[1m7/7\u001b[0m \u001b[32m━━━━━━━━━━━━━━━━━━━━\u001b[0m\u001b[37m\u001b[0m \u001b[1m2s\u001b[0m 316ms/step - categorical_accuracy: 0.1521 - loss: 2.3253\n",
            "Epoch 886/2000\n",
            "\u001b[1m7/7\u001b[0m \u001b[32m━━━━━━━━━━━━━━━━━━━━\u001b[0m\u001b[37m\u001b[0m \u001b[1m2s\u001b[0m 325ms/step - categorical_accuracy: 0.1176 - loss: 2.2938\n",
            "Epoch 887/2000\n",
            "\u001b[1m7/7\u001b[0m \u001b[32m━━━━━━━━━━━━━━━━━━━━\u001b[0m\u001b[37m\u001b[0m \u001b[1m2s\u001b[0m 179ms/step - categorical_accuracy: 0.1403 - loss: 2.3094\n",
            "Epoch 888/2000\n",
            "\u001b[1m7/7\u001b[0m \u001b[32m━━━━━━━━━━━━━━━━━━━━\u001b[0m\u001b[37m\u001b[0m \u001b[1m3s\u001b[0m 193ms/step - categorical_accuracy: 0.1117 - loss: 2.2976\n",
            "Epoch 889/2000\n",
            "\u001b[1m7/7\u001b[0m \u001b[32m━━━━━━━━━━━━━━━━━━━━\u001b[0m\u001b[37m\u001b[0m \u001b[1m1s\u001b[0m 187ms/step - categorical_accuracy: 0.1440 - loss: 2.3040\n",
            "Epoch 890/2000\n",
            "\u001b[1m7/7\u001b[0m \u001b[32m━━━━━━━━━━━━━━━━━━━━\u001b[0m\u001b[37m\u001b[0m \u001b[1m2s\u001b[0m 172ms/step - categorical_accuracy: 0.1309 - loss: 2.3254\n",
            "Epoch 891/2000\n",
            "\u001b[1m7/7\u001b[0m \u001b[32m━━━━━━━━━━━━━━━━━━━━\u001b[0m\u001b[37m\u001b[0m \u001b[1m1s\u001b[0m 184ms/step - categorical_accuracy: 0.1251 - loss: 2.3526\n",
            "Epoch 892/2000\n",
            "\u001b[1m7/7\u001b[0m \u001b[32m━━━━━━━━━━━━━━━━━━━━\u001b[0m\u001b[37m\u001b[0m \u001b[1m3s\u001b[0m 303ms/step - categorical_accuracy: 0.1469 - loss: 2.2848\n",
            "Epoch 893/2000\n",
            "\u001b[1m7/7\u001b[0m \u001b[32m━━━━━━━━━━━━━━━━━━━━\u001b[0m\u001b[37m\u001b[0m \u001b[1m3s\u001b[0m 319ms/step - categorical_accuracy: 0.1188 - loss: 2.3051\n",
            "Epoch 894/2000\n",
            "\u001b[1m7/7\u001b[0m \u001b[32m━━━━━━━━━━━━━━━━━━━━\u001b[0m\u001b[37m\u001b[0m \u001b[1m2s\u001b[0m 215ms/step - categorical_accuracy: 0.1426 - loss: 2.3056\n",
            "Epoch 895/2000\n",
            "\u001b[1m7/7\u001b[0m \u001b[32m━━━━━━━━━━━━━━━━━━━━\u001b[0m\u001b[37m\u001b[0m \u001b[1m2s\u001b[0m 191ms/step - categorical_accuracy: 0.1372 - loss: 2.3040\n",
            "Epoch 896/2000\n",
            "\u001b[1m7/7\u001b[0m \u001b[32m━━━━━━━━━━━━━━━━━━━━\u001b[0m\u001b[37m\u001b[0m \u001b[1m2s\u001b[0m 179ms/step - categorical_accuracy: 0.1470 - loss: 2.2986\n",
            "Epoch 897/2000\n",
            "\u001b[1m7/7\u001b[0m \u001b[32m━━━━━━━━━━━━━━━━━━━━\u001b[0m\u001b[37m\u001b[0m \u001b[1m3s\u001b[0m 190ms/step - categorical_accuracy: 0.1256 - loss: 2.3009\n",
            "Epoch 898/2000\n",
            "\u001b[1m7/7\u001b[0m \u001b[32m━━━━━━━━━━━━━━━━━━━━\u001b[0m\u001b[37m\u001b[0m \u001b[1m3s\u001b[0m 255ms/step - categorical_accuracy: 0.1373 - loss: 2.2925\n",
            "Epoch 899/2000\n",
            "\u001b[1m7/7\u001b[0m \u001b[32m━━━━━━━━━━━━━━━━━━━━\u001b[0m\u001b[37m\u001b[0m \u001b[1m3s\u001b[0m 308ms/step - categorical_accuracy: 0.1301 - loss: 2.2785\n",
            "Epoch 900/2000\n",
            "\u001b[1m7/7\u001b[0m \u001b[32m━━━━━━━━━━━━━━━━━━━━\u001b[0m\u001b[37m\u001b[0m \u001b[1m2s\u001b[0m 181ms/step - categorical_accuracy: 0.1320 - loss: 2.3154\n",
            "Epoch 901/2000\n",
            "\u001b[1m7/7\u001b[0m \u001b[32m━━━━━━━━━━━━━━━━━━━━\u001b[0m\u001b[37m\u001b[0m \u001b[1m2s\u001b[0m 175ms/step - categorical_accuracy: 0.1636 - loss: 2.2904\n",
            "Epoch 902/2000\n",
            "\u001b[1m7/7\u001b[0m \u001b[32m━━━━━━━━━━━━━━━━━━━━\u001b[0m\u001b[37m\u001b[0m \u001b[1m3s\u001b[0m 185ms/step - categorical_accuracy: 0.1351 - loss: 2.3069\n",
            "Epoch 903/2000\n",
            "\u001b[1m7/7\u001b[0m \u001b[32m━━━━━━━━━━━━━━━━━━━━\u001b[0m\u001b[37m\u001b[0m \u001b[1m1s\u001b[0m 189ms/step - categorical_accuracy: 0.1461 - loss: 2.3105\n",
            "Epoch 904/2000\n",
            "\u001b[1m7/7\u001b[0m \u001b[32m━━━━━━━━━━━━━━━━━━━━\u001b[0m\u001b[37m\u001b[0m \u001b[1m1s\u001b[0m 187ms/step - categorical_accuracy: 0.1447 - loss: 2.3240\n",
            "Epoch 905/2000\n",
            "\u001b[1m7/7\u001b[0m \u001b[32m━━━━━━━━━━━━━━━━━━━━\u001b[0m\u001b[37m\u001b[0m \u001b[1m2s\u001b[0m 212ms/step - categorical_accuracy: 0.1312 - loss: 2.2896\n",
            "Epoch 906/2000\n",
            "\u001b[1m7/7\u001b[0m \u001b[32m━━━━━━━━━━━━━━━━━━━━\u001b[0m\u001b[37m\u001b[0m \u001b[1m3s\u001b[0m 315ms/step - categorical_accuracy: 0.1353 - loss: 2.2922\n",
            "Epoch 907/2000\n",
            "\u001b[1m7/7\u001b[0m \u001b[32m━━━━━━━━━━━━━━━━━━━━\u001b[0m\u001b[37m\u001b[0m \u001b[1m2s\u001b[0m 188ms/step - categorical_accuracy: 0.1363 - loss: 2.3073\n",
            "Epoch 908/2000\n",
            "\u001b[1m7/7\u001b[0m \u001b[32m━━━━━━━━━━━━━━━━━━━━\u001b[0m\u001b[37m\u001b[0m \u001b[1m1s\u001b[0m 189ms/step - categorical_accuracy: 0.1331 - loss: 2.3038\n",
            "Epoch 909/2000\n",
            "\u001b[1m7/7\u001b[0m \u001b[32m━━━━━━━━━━━━━━━━━━━━\u001b[0m\u001b[37m\u001b[0m \u001b[1m3s\u001b[0m 196ms/step - categorical_accuracy: 0.1350 - loss: 2.2921\n",
            "Epoch 910/2000\n",
            "\u001b[1m7/7\u001b[0m \u001b[32m━━━━━━━━━━━━━━━━━━━━\u001b[0m\u001b[37m\u001b[0m \u001b[1m2s\u001b[0m 177ms/step - categorical_accuracy: 0.1305 - loss: 2.2814\n",
            "Epoch 911/2000\n",
            "\u001b[1m7/7\u001b[0m \u001b[32m━━━━━━━━━━━━━━━━━━━━\u001b[0m\u001b[37m\u001b[0m \u001b[1m1s\u001b[0m 177ms/step - categorical_accuracy: 0.1387 - loss: 2.3450\n",
            "Epoch 912/2000\n",
            "\u001b[1m7/7\u001b[0m \u001b[32m━━━━━━━━━━━━━━━━━━━━\u001b[0m\u001b[37m\u001b[0m \u001b[1m4s\u001b[0m 317ms/step - categorical_accuracy: 0.1335 - loss: 2.3019\n",
            "Epoch 913/2000\n",
            "\u001b[1m7/7\u001b[0m \u001b[32m━━━━━━━━━━━━━━━━━━━━\u001b[0m\u001b[37m\u001b[0m \u001b[1m2s\u001b[0m 307ms/step - categorical_accuracy: 0.1489 - loss: 2.2939\n",
            "Epoch 914/2000\n",
            "\u001b[1m7/7\u001b[0m \u001b[32m━━━━━━━━━━━━━━━━━━━━\u001b[0m\u001b[37m\u001b[0m \u001b[1m2s\u001b[0m 293ms/step - categorical_accuracy: 0.1404 - loss: 2.3064\n",
            "Epoch 915/2000\n",
            "\u001b[1m7/7\u001b[0m \u001b[32m━━━━━━━━━━━━━━━━━━━━\u001b[0m\u001b[37m\u001b[0m \u001b[1m2s\u001b[0m 186ms/step - categorical_accuracy: 0.1208 - loss: 2.3161\n",
            "Epoch 916/2000\n",
            "\u001b[1m7/7\u001b[0m \u001b[32m━━━━━━━━━━━━━━━━━━━━\u001b[0m\u001b[37m\u001b[0m \u001b[1m1s\u001b[0m 191ms/step - categorical_accuracy: 0.1531 - loss: 2.3066\n",
            "Epoch 917/2000\n",
            "\u001b[1m7/7\u001b[0m \u001b[32m━━━━━━━━━━━━━━━━━━━━\u001b[0m\u001b[37m\u001b[0m \u001b[1m1s\u001b[0m 189ms/step - categorical_accuracy: 0.1510 - loss: 2.2959\n",
            "Epoch 918/2000\n",
            "\u001b[1m7/7\u001b[0m \u001b[32m━━━━━━━━━━━━━━━━━━━━\u001b[0m\u001b[37m\u001b[0m \u001b[1m2s\u001b[0m 187ms/step - categorical_accuracy: 0.1332 - loss: 2.2775\n",
            "Epoch 919/2000\n",
            "\u001b[1m7/7\u001b[0m \u001b[32m━━━━━━━━━━━━━━━━━━━━\u001b[0m\u001b[37m\u001b[0m \u001b[1m1s\u001b[0m 191ms/step - categorical_accuracy: 0.1265 - loss: 2.3264\n",
            "Epoch 920/2000\n",
            "\u001b[1m7/7\u001b[0m \u001b[32m━━━━━━━━━━━━━━━━━━━━\u001b[0m\u001b[37m\u001b[0m \u001b[1m3s\u001b[0m 295ms/step - categorical_accuracy: 0.1321 - loss: 2.2855\n",
            "Epoch 921/2000\n",
            "\u001b[1m7/7\u001b[0m \u001b[32m━━━━━━━━━━━━━━━━━━━━\u001b[0m\u001b[37m\u001b[0m \u001b[1m2s\u001b[0m 289ms/step - categorical_accuracy: 0.1021 - loss: 2.3085\n",
            "Epoch 922/2000\n",
            "\u001b[1m7/7\u001b[0m \u001b[32m━━━━━━━━━━━━━━━━━━━━\u001b[0m\u001b[37m\u001b[0m \u001b[1m2s\u001b[0m 329ms/step - categorical_accuracy: 0.1416 - loss: 2.2951\n",
            "Epoch 923/2000\n",
            "\u001b[1m7/7\u001b[0m \u001b[32m━━━━━━━━━━━━━━━━━━━━\u001b[0m\u001b[37m\u001b[0m \u001b[1m2s\u001b[0m 227ms/step - categorical_accuracy: 0.1256 - loss: 2.3136\n",
            "Epoch 924/2000\n",
            "\u001b[1m7/7\u001b[0m \u001b[32m━━━━━━━━━━━━━━━━━━━━\u001b[0m\u001b[37m\u001b[0m \u001b[1m1s\u001b[0m 199ms/step - categorical_accuracy: 0.1448 - loss: 2.2704\n",
            "Epoch 925/2000\n",
            "\u001b[1m7/7\u001b[0m \u001b[32m━━━━━━━━━━━━━━━━━━━━\u001b[0m\u001b[37m\u001b[0m \u001b[1m1s\u001b[0m 193ms/step - categorical_accuracy: 0.0987 - loss: 2.3163\n",
            "Epoch 926/2000\n",
            "\u001b[1m7/7\u001b[0m \u001b[32m━━━━━━━━━━━━━━━━━━━━\u001b[0m\u001b[37m\u001b[0m \u001b[1m1s\u001b[0m 192ms/step - categorical_accuracy: 0.1206 - loss: 2.3235\n",
            "Epoch 927/2000\n",
            "\u001b[1m7/7\u001b[0m \u001b[32m━━━━━━━━━━━━━━━━━━━━\u001b[0m\u001b[37m\u001b[0m \u001b[1m3s\u001b[0m 216ms/step - categorical_accuracy: 0.1182 - loss: 2.3311\n",
            "Epoch 928/2000\n",
            "\u001b[1m7/7\u001b[0m \u001b[32m━━━━━━━━━━━━━━━━━━━━\u001b[0m\u001b[37m\u001b[0m \u001b[1m2s\u001b[0m 205ms/step - categorical_accuracy: 0.1175 - loss: 2.2950\n",
            "Epoch 929/2000\n",
            "\u001b[1m7/7\u001b[0m \u001b[32m━━━━━━━━━━━━━━━━━━━━\u001b[0m\u001b[37m\u001b[0m \u001b[1m3s\u001b[0m 313ms/step - categorical_accuracy: 0.1329 - loss: 2.2921\n",
            "Epoch 930/2000\n",
            "\u001b[1m7/7\u001b[0m \u001b[32m━━━━━━━━━━━━━━━━━━━━\u001b[0m\u001b[37m\u001b[0m \u001b[1m2s\u001b[0m 316ms/step - categorical_accuracy: 0.1659 - loss: 2.3045\n",
            "Epoch 931/2000\n",
            "\u001b[1m7/7\u001b[0m \u001b[32m━━━━━━━━━━━━━━━━━━━━\u001b[0m\u001b[37m\u001b[0m \u001b[1m2s\u001b[0m 248ms/step - categorical_accuracy: 0.1469 - loss: 2.2837\n",
            "Epoch 932/2000\n",
            "\u001b[1m7/7\u001b[0m \u001b[32m━━━━━━━━━━━━━━━━━━━━\u001b[0m\u001b[37m\u001b[0m \u001b[1m1s\u001b[0m 201ms/step - categorical_accuracy: 0.1380 - loss: 2.2905\n",
            "Epoch 933/2000\n",
            "\u001b[1m7/7\u001b[0m \u001b[32m━━━━━━━━━━━━━━━━━━━━\u001b[0m\u001b[37m\u001b[0m \u001b[1m1s\u001b[0m 192ms/step - categorical_accuracy: 0.1350 - loss: 2.3240\n",
            "Epoch 934/2000\n",
            "\u001b[1m7/7\u001b[0m \u001b[32m━━━━━━━━━━━━━━━━━━━━\u001b[0m\u001b[37m\u001b[0m \u001b[1m2s\u001b[0m 182ms/step - categorical_accuracy: 0.1560 - loss: 2.3024\n",
            "Epoch 935/2000\n",
            "\u001b[1m7/7\u001b[0m \u001b[32m━━━━━━━━━━━━━━━━━━━━\u001b[0m\u001b[37m\u001b[0m \u001b[1m3s\u001b[0m 180ms/step - categorical_accuracy: 0.1331 - loss: 2.2830\n",
            "Epoch 936/2000\n",
            "\u001b[1m7/7\u001b[0m \u001b[32m━━━━━━━━━━━━━━━━━━━━\u001b[0m\u001b[37m\u001b[0m \u001b[1m3s\u001b[0m 289ms/step - categorical_accuracy: 0.1413 - loss: 2.3177\n",
            "Epoch 937/2000\n",
            "\u001b[1m7/7\u001b[0m \u001b[32m━━━━━━━━━━━━━━━━━━━━\u001b[0m\u001b[37m\u001b[0m \u001b[1m3s\u001b[0m 301ms/step - categorical_accuracy: 0.1445 - loss: 2.3046\n",
            "Epoch 938/2000\n",
            "\u001b[1m7/7\u001b[0m \u001b[32m━━━━━━━━━━━━━━━━━━━━\u001b[0m\u001b[37m\u001b[0m \u001b[1m2s\u001b[0m 284ms/step - categorical_accuracy: 0.1239 - loss: 2.3470\n",
            "Epoch 939/2000\n",
            "\u001b[1m7/7\u001b[0m \u001b[32m━━━━━━━━━━━━━━━━━━━━\u001b[0m\u001b[37m\u001b[0m \u001b[1m1s\u001b[0m 182ms/step - categorical_accuracy: 0.1012 - loss: 2.3248\n",
            "Epoch 940/2000\n",
            "\u001b[1m7/7\u001b[0m \u001b[32m━━━━━━━━━━━━━━━━━━━━\u001b[0m\u001b[37m\u001b[0m \u001b[1m1s\u001b[0m 186ms/step - categorical_accuracy: 0.1464 - loss: 2.2888\n",
            "Epoch 941/2000\n",
            "\u001b[1m7/7\u001b[0m \u001b[32m━━━━━━━━━━━━━━━━━━━━\u001b[0m\u001b[37m\u001b[0m \u001b[1m3s\u001b[0m 196ms/step - categorical_accuracy: 0.1477 - loss: 2.3264\n",
            "Epoch 942/2000\n",
            "\u001b[1m7/7\u001b[0m \u001b[32m━━━━━━━━━━━━━━━━━━━━\u001b[0m\u001b[37m\u001b[0m \u001b[1m3s\u001b[0m 207ms/step - categorical_accuracy: 0.1422 - loss: 2.2971\n",
            "Epoch 943/2000\n",
            "\u001b[1m7/7\u001b[0m \u001b[32m━━━━━━━━━━━━━━━━━━━━\u001b[0m\u001b[37m\u001b[0m \u001b[1m1s\u001b[0m 200ms/step - categorical_accuracy: 0.1363 - loss: 2.2836\n",
            "Epoch 944/2000\n",
            "\u001b[1m7/7\u001b[0m \u001b[32m━━━━━━━━━━━━━━━━━━━━\u001b[0m\u001b[37m\u001b[0m \u001b[1m2s\u001b[0m 305ms/step - categorical_accuracy: 0.1260 - loss: 2.3249\n",
            "Epoch 945/2000\n",
            "\u001b[1m7/7\u001b[0m \u001b[32m━━━━━━━━━━━━━━━━━━━━\u001b[0m\u001b[37m\u001b[0m \u001b[1m3s\u001b[0m 319ms/step - categorical_accuracy: 0.1247 - loss: 2.2922\n",
            "Epoch 946/2000\n",
            "\u001b[1m7/7\u001b[0m \u001b[32m━━━━━━━━━━━━━━━━━━━━\u001b[0m\u001b[37m\u001b[0m \u001b[1m2s\u001b[0m 222ms/step - categorical_accuracy: 0.1358 - loss: 2.3058\n",
            "Epoch 947/2000\n",
            "\u001b[1m7/7\u001b[0m \u001b[32m━━━━━━━━━━━━━━━━━━━━\u001b[0m\u001b[37m\u001b[0m \u001b[1m2s\u001b[0m 191ms/step - categorical_accuracy: 0.1340 - loss: 2.3034\n",
            "Epoch 948/2000\n",
            "\u001b[1m7/7\u001b[0m \u001b[32m━━━━━━━━━━━━━━━━━━━━\u001b[0m\u001b[37m\u001b[0m \u001b[1m3s\u001b[0m 184ms/step - categorical_accuracy: 0.1223 - loss: 2.3064\n",
            "Epoch 949/2000\n",
            "\u001b[1m7/7\u001b[0m \u001b[32m━━━━━━━━━━━━━━━━━━━━\u001b[0m\u001b[37m\u001b[0m \u001b[1m1s\u001b[0m 203ms/step - categorical_accuracy: 0.1454 - loss: 2.2947\n",
            "Epoch 950/2000\n",
            "\u001b[1m7/7\u001b[0m \u001b[32m━━━━━━━━━━━━━━━━━━━━\u001b[0m\u001b[37m\u001b[0m \u001b[1m1s\u001b[0m 200ms/step - categorical_accuracy: 0.1242 - loss: 2.3314\n",
            "Epoch 951/2000\n",
            "\u001b[1m7/7\u001b[0m \u001b[32m━━━━━━━━━━━━━━━━━━━━\u001b[0m\u001b[37m\u001b[0m \u001b[1m1s\u001b[0m 196ms/step - categorical_accuracy: 0.1282 - loss: 2.3241\n",
            "Epoch 952/2000\n",
            "\u001b[1m7/7\u001b[0m \u001b[32m━━━━━━━━━━━━━━━━━━━━\u001b[0m\u001b[37m\u001b[0m \u001b[1m3s\u001b[0m 320ms/step - categorical_accuracy: 0.1496 - loss: 2.2971\n",
            "Epoch 953/2000\n",
            "\u001b[1m7/7\u001b[0m \u001b[32m━━━━━━━━━━━━━━━━━━━━\u001b[0m\u001b[37m\u001b[0m \u001b[1m2s\u001b[0m 319ms/step - categorical_accuracy: 0.1089 - loss: 2.2762\n",
            "Epoch 954/2000\n",
            "\u001b[1m7/7\u001b[0m \u001b[32m━━━━━━━━━━━━━━━━━━━━\u001b[0m\u001b[37m\u001b[0m \u001b[1m2s\u001b[0m 193ms/step - categorical_accuracy: 0.1329 - loss: 2.3003\n",
            "Epoch 955/2000\n",
            "\u001b[1m7/7\u001b[0m \u001b[32m━━━━━━━━━━━━━━━━━━━━\u001b[0m\u001b[37m\u001b[0m \u001b[1m2s\u001b[0m 188ms/step - categorical_accuracy: 0.1574 - loss: 2.2963\n",
            "Epoch 956/2000\n",
            "\u001b[1m7/7\u001b[0m \u001b[32m━━━━━━━━━━━━━━━━━━━━\u001b[0m\u001b[37m\u001b[0m \u001b[1m3s\u001b[0m 196ms/step - categorical_accuracy: 0.1578 - loss: 2.3147\n",
            "Epoch 957/2000\n",
            "\u001b[1m7/7\u001b[0m \u001b[32m━━━━━━━━━━━━━━━━━━━━\u001b[0m\u001b[37m\u001b[0m \u001b[1m3s\u001b[0m 198ms/step - categorical_accuracy: 0.1435 - loss: 2.2547\n",
            "Epoch 958/2000\n",
            "\u001b[1m7/7\u001b[0m \u001b[32m━━━━━━━━━━━━━━━━━━━━\u001b[0m\u001b[37m\u001b[0m \u001b[1m3s\u001b[0m 305ms/step - categorical_accuracy: 0.1582 - loss: 2.3015\n",
            "Epoch 959/2000\n",
            "\u001b[1m7/7\u001b[0m \u001b[32m━━━━━━━━━━━━━━━━━━━━\u001b[0m\u001b[37m\u001b[0m \u001b[1m2s\u001b[0m 297ms/step - categorical_accuracy: 0.1179 - loss: 2.3422\n",
            "Epoch 960/2000\n",
            "\u001b[1m7/7\u001b[0m \u001b[32m━━━━━━━━━━━━━━━━━━━━\u001b[0m\u001b[37m\u001b[0m \u001b[1m2s\u001b[0m 310ms/step - categorical_accuracy: 0.1269 - loss: 2.3196\n",
            "Epoch 961/2000\n",
            "\u001b[1m7/7\u001b[0m \u001b[32m━━━━━━━━━━━━━━━━━━━━\u001b[0m\u001b[37m\u001b[0m \u001b[1m2s\u001b[0m 188ms/step - categorical_accuracy: 0.1344 - loss: 2.3043\n",
            "Epoch 962/2000\n",
            "\u001b[1m7/7\u001b[0m \u001b[32m━━━━━━━━━━━━━━━━━━━━\u001b[0m\u001b[37m\u001b[0m \u001b[1m3s\u001b[0m 192ms/step - categorical_accuracy: 0.1456 - loss: 2.2931\n",
            "Epoch 963/2000\n",
            "\u001b[1m7/7\u001b[0m \u001b[32m━━━━━━━━━━━━━━━━━━━━\u001b[0m\u001b[37m\u001b[0m \u001b[1m1s\u001b[0m 181ms/step - categorical_accuracy: 0.1451 - loss: 2.3006\n",
            "Epoch 964/2000\n",
            "\u001b[1m7/7\u001b[0m \u001b[32m━━━━━━━━━━━━━━━━━━━━\u001b[0m\u001b[37m\u001b[0m \u001b[1m1s\u001b[0m 172ms/step - categorical_accuracy: 0.0955 - loss: 2.2952\n",
            "Epoch 965/2000\n",
            "\u001b[1m7/7\u001b[0m \u001b[32m━━━━━━━━━━━━━━━━━━━━\u001b[0m\u001b[37m\u001b[0m \u001b[1m1s\u001b[0m 193ms/step - categorical_accuracy: 0.1480 - loss: 2.2780\n",
            "Epoch 966/2000\n",
            "\u001b[1m7/7\u001b[0m \u001b[32m━━━━━━━━━━━━━━━━━━━━\u001b[0m\u001b[37m\u001b[0m \u001b[1m3s\u001b[0m 236ms/step - categorical_accuracy: 0.1181 - loss: 2.2895\n",
            "Epoch 967/2000\n",
            "\u001b[1m7/7\u001b[0m \u001b[32m━━━━━━━━━━━━━━━━━━━━\u001b[0m\u001b[37m\u001b[0m \u001b[1m2s\u001b[0m 305ms/step - categorical_accuracy: 0.1410 - loss: 2.2944\n",
            "Epoch 968/2000\n",
            "\u001b[1m7/7\u001b[0m \u001b[32m━━━━━━━━━━━━━━━━━━━━\u001b[0m\u001b[37m\u001b[0m \u001b[1m3s\u001b[0m 329ms/step - categorical_accuracy: 0.1056 - loss: 2.3187\n",
            "Epoch 969/2000\n",
            "\u001b[1m7/7\u001b[0m \u001b[32m━━━━━━━━━━━━━━━━━━━━\u001b[0m\u001b[37m\u001b[0m \u001b[1m2s\u001b[0m 212ms/step - categorical_accuracy: 0.1365 - loss: 2.2987\n",
            "Epoch 970/2000\n",
            "\u001b[1m7/7\u001b[0m \u001b[32m━━━━━━━━━━━━━━━━━━━━\u001b[0m\u001b[37m\u001b[0m \u001b[1m2s\u001b[0m 183ms/step - categorical_accuracy: 0.1445 - loss: 2.3201\n",
            "Epoch 971/2000\n",
            "\u001b[1m7/7\u001b[0m \u001b[32m━━━━━━━━━━━━━━━━━━━━\u001b[0m\u001b[37m\u001b[0m \u001b[1m1s\u001b[0m 191ms/step - categorical_accuracy: 0.1333 - loss: 2.2901\n",
            "Epoch 972/2000\n",
            "\u001b[1m7/7\u001b[0m \u001b[32m━━━━━━━━━━━━━━━━━━━━\u001b[0m\u001b[37m\u001b[0m \u001b[1m1s\u001b[0m 193ms/step - categorical_accuracy: 0.1479 - loss: 2.3074\n",
            "Epoch 973/2000\n",
            "\u001b[1m7/7\u001b[0m \u001b[32m━━━━━━━━━━━━━━━━━━━━\u001b[0m\u001b[37m\u001b[0m \u001b[1m2s\u001b[0m 186ms/step - categorical_accuracy: 0.1585 - loss: 2.2990\n",
            "Epoch 974/2000\n",
            "\u001b[1m7/7\u001b[0m \u001b[32m━━━━━━━━━━━━━━━━━━━━\u001b[0m\u001b[37m\u001b[0m \u001b[1m3s\u001b[0m 282ms/step - categorical_accuracy: 0.1637 - loss: 2.2809\n",
            "Epoch 975/2000\n",
            "\u001b[1m7/7\u001b[0m \u001b[32m━━━━━━━━━━━━━━━━━━━━\u001b[0m\u001b[37m\u001b[0m \u001b[1m3s\u001b[0m 312ms/step - categorical_accuracy: 0.1043 - loss: 2.2855\n",
            "Epoch 976/2000\n",
            "\u001b[1m7/7\u001b[0m \u001b[32m━━━━━━━━━━━━━━━━━━━━\u001b[0m\u001b[37m\u001b[0m \u001b[1m2s\u001b[0m 322ms/step - categorical_accuracy: 0.1476 - loss: 2.2976\n",
            "Epoch 977/2000\n",
            "\u001b[1m7/7\u001b[0m \u001b[32m━━━━━━━━━━━━━━━━━━━━\u001b[0m\u001b[37m\u001b[0m \u001b[1m1s\u001b[0m 186ms/step - categorical_accuracy: 0.1314 - loss: 2.3043\n",
            "Epoch 978/2000\n",
            "\u001b[1m7/7\u001b[0m \u001b[32m━━━━━━━━━━━━━━━━━━━━\u001b[0m\u001b[37m\u001b[0m \u001b[1m1s\u001b[0m 189ms/step - categorical_accuracy: 0.1344 - loss: 2.2925\n",
            "Epoch 979/2000\n",
            "\u001b[1m7/7\u001b[0m \u001b[32m━━━━━━━━━━━━━━━━━━━━\u001b[0m\u001b[37m\u001b[0m \u001b[1m3s\u001b[0m 191ms/step - categorical_accuracy: 0.1276 - loss: 2.2884\n",
            "Epoch 980/2000\n",
            "\u001b[1m7/7\u001b[0m \u001b[32m━━━━━━━━━━━━━━━━━━━━\u001b[0m\u001b[37m\u001b[0m \u001b[1m3s\u001b[0m 195ms/step - categorical_accuracy: 0.1449 - loss: 2.2786\n",
            "Epoch 981/2000\n",
            "\u001b[1m7/7\u001b[0m \u001b[32m━━━━━━━━━━━━━━━━━━━━\u001b[0m\u001b[37m\u001b[0m \u001b[1m1s\u001b[0m 192ms/step - categorical_accuracy: 0.1215 - loss: 2.2899\n",
            "Epoch 982/2000\n",
            "\u001b[1m7/7\u001b[0m \u001b[32m━━━━━━━━━━━━━━━━━━━━\u001b[0m\u001b[37m\u001b[0m \u001b[1m2s\u001b[0m 230ms/step - categorical_accuracy: 0.1449 - loss: 2.2837\n",
            "Epoch 983/2000\n",
            "\u001b[1m7/7\u001b[0m \u001b[32m━━━━━━━━━━━━━━━━━━━━\u001b[0m\u001b[37m\u001b[0m \u001b[1m3s\u001b[0m 322ms/step - categorical_accuracy: 0.1066 - loss: 2.3050\n",
            "Epoch 984/2000\n",
            "\u001b[1m7/7\u001b[0m \u001b[32m━━━━━━━━━━━━━━━━━━━━\u001b[0m\u001b[37m\u001b[0m \u001b[1m2s\u001b[0m 238ms/step - categorical_accuracy: 0.1367 - loss: 2.2893\n",
            "Epoch 985/2000\n",
            "\u001b[1m7/7\u001b[0m \u001b[32m━━━━━━━━━━━━━━━━━━━━\u001b[0m\u001b[37m\u001b[0m \u001b[1m2s\u001b[0m 192ms/step - categorical_accuracy: 0.1529 - loss: 2.2853\n",
            "Epoch 986/2000\n",
            "\u001b[1m7/7\u001b[0m \u001b[32m━━━━━━━━━━━━━━━━━━━━\u001b[0m\u001b[37m\u001b[0m \u001b[1m2s\u001b[0m 181ms/step - categorical_accuracy: 0.1340 - loss: 2.2954\n",
            "Epoch 987/2000\n",
            "\u001b[1m7/7\u001b[0m \u001b[32m━━━━━━━━━━━━━━━━━━━━\u001b[0m\u001b[37m\u001b[0m \u001b[1m1s\u001b[0m 180ms/step - categorical_accuracy: 0.1169 - loss: 2.2854\n",
            "Epoch 988/2000\n",
            "\u001b[1m7/7\u001b[0m \u001b[32m━━━━━━━━━━━━━━━━━━━━\u001b[0m\u001b[37m\u001b[0m \u001b[1m1s\u001b[0m 177ms/step - categorical_accuracy: 0.1540 - loss: 2.2943\n",
            "Epoch 989/2000\n",
            "\u001b[1m7/7\u001b[0m \u001b[32m━━━━━━━━━━━━━━━━━━━━\u001b[0m\u001b[37m\u001b[0m \u001b[1m3s\u001b[0m 208ms/step - categorical_accuracy: 0.1785 - loss: 2.2844\n",
            "Epoch 990/2000\n",
            "\u001b[1m7/7\u001b[0m \u001b[32m━━━━━━━━━━━━━━━━━━━━\u001b[0m\u001b[37m\u001b[0m \u001b[1m2s\u001b[0m 306ms/step - categorical_accuracy: 0.1445 - loss: 2.3088\n",
            "Epoch 991/2000\n",
            "\u001b[1m7/7\u001b[0m \u001b[32m━━━━━━━━━━━━━━━━━━━━\u001b[0m\u001b[37m\u001b[0m \u001b[1m2s\u001b[0m 297ms/step - categorical_accuracy: 0.1509 - loss: 2.2742\n",
            "Epoch 992/2000\n",
            "\u001b[1m7/7\u001b[0m \u001b[32m━━━━━━━━━━━━━━━━━━━━\u001b[0m\u001b[37m\u001b[0m \u001b[1m2s\u001b[0m 178ms/step - categorical_accuracy: 0.1395 - loss: 2.3052\n",
            "Epoch 993/2000\n",
            "\u001b[1m7/7\u001b[0m \u001b[32m━━━━━━━━━━━━━━━━━━━━\u001b[0m\u001b[37m\u001b[0m \u001b[1m3s\u001b[0m 188ms/step - categorical_accuracy: 0.1324 - loss: 2.2998\n",
            "Epoch 994/2000\n",
            "\u001b[1m7/7\u001b[0m \u001b[32m━━━━━━━━━━━━━━━━━━━━\u001b[0m\u001b[37m\u001b[0m \u001b[1m3s\u001b[0m 187ms/step - categorical_accuracy: 0.1275 - loss: 2.2908\n",
            "Epoch 995/2000\n",
            "\u001b[1m7/7\u001b[0m \u001b[32m━━━━━━━━━━━━━━━━━━━━\u001b[0m\u001b[37m\u001b[0m \u001b[1m1s\u001b[0m 193ms/step - categorical_accuracy: 0.1243 - loss: 2.2957\n",
            "Epoch 996/2000\n",
            "\u001b[1m7/7\u001b[0m \u001b[32m━━━━━━━━━━━━━━━━━━━━\u001b[0m\u001b[37m\u001b[0m \u001b[1m3s\u001b[0m 234ms/step - categorical_accuracy: 0.1289 - loss: 2.2950\n",
            "Epoch 997/2000\n",
            "\u001b[1m7/7\u001b[0m \u001b[32m━━━━━━━━━━━━━━━━━━━━\u001b[0m\u001b[37m\u001b[0m \u001b[1m3s\u001b[0m 315ms/step - categorical_accuracy: 0.1323 - loss: 2.2960\n",
            "Epoch 998/2000\n",
            "\u001b[1m7/7\u001b[0m \u001b[32m━━━━━━━━━━━━━━━━━━━━\u001b[0m\u001b[37m\u001b[0m \u001b[1m2s\u001b[0m 253ms/step - categorical_accuracy: 0.1537 - loss: 2.2734\n",
            "Epoch 999/2000\n",
            "\u001b[1m7/7\u001b[0m \u001b[32m━━━━━━━━━━━━━━━━━━━━\u001b[0m\u001b[37m\u001b[0m \u001b[1m1s\u001b[0m 189ms/step - categorical_accuracy: 0.1609 - loss: 2.3048\n",
            "Epoch 1000/2000\n",
            "\u001b[1m7/7\u001b[0m \u001b[32m━━━━━━━━━━━━━━━━━━━━\u001b[0m\u001b[37m\u001b[0m \u001b[1m2s\u001b[0m 175ms/step - categorical_accuracy: 0.0980 - loss: 2.3060\n",
            "Epoch 1001/2000\n",
            "\u001b[1m7/7\u001b[0m \u001b[32m━━━━━━━━━━━━━━━━━━━━\u001b[0m\u001b[37m\u001b[0m \u001b[1m3s\u001b[0m 184ms/step - categorical_accuracy: 0.1283 - loss: 2.3186\n",
            "Epoch 1002/2000\n",
            "\u001b[1m7/7\u001b[0m \u001b[32m━━━━━━━━━━━━━━━━━━━━\u001b[0m\u001b[37m\u001b[0m \u001b[1m3s\u001b[0m 192ms/step - categorical_accuracy: 0.1333 - loss: 2.2875\n",
            "Epoch 1003/2000\n",
            "\u001b[1m7/7\u001b[0m \u001b[32m━━━━━━━━━━━━━━━━━━━━\u001b[0m\u001b[37m\u001b[0m \u001b[1m2s\u001b[0m 295ms/step - categorical_accuracy: 0.1318 - loss: 2.3246\n",
            "Epoch 1004/2000\n",
            "\u001b[1m7/7\u001b[0m \u001b[32m━━━━━━━━━━━━━━━━━━━━\u001b[0m\u001b[37m\u001b[0m \u001b[1m2s\u001b[0m 294ms/step - categorical_accuracy: 0.1673 - loss: 2.3351\n",
            "Epoch 1005/2000\n",
            "\u001b[1m7/7\u001b[0m \u001b[32m━━━━━━━━━━━━━━━━━━━━\u001b[0m\u001b[37m\u001b[0m \u001b[1m2s\u001b[0m 301ms/step - categorical_accuracy: 0.1493 - loss: 2.2957\n",
            "Epoch 1006/2000\n",
            "\u001b[1m7/7\u001b[0m \u001b[32m━━━━━━━━━━━━━━━━━━━━\u001b[0m\u001b[37m\u001b[0m \u001b[1m2s\u001b[0m 189ms/step - categorical_accuracy: 0.1339 - loss: 2.3108\n",
            "Epoch 1007/2000\n",
            "\u001b[1m7/7\u001b[0m \u001b[32m━━━━━━━━━━━━━━━━━━━━\u001b[0m\u001b[37m\u001b[0m \u001b[1m1s\u001b[0m 177ms/step - categorical_accuracy: 0.1389 - loss: 2.2626\n",
            "Epoch 1008/2000\n",
            "\u001b[1m7/7\u001b[0m \u001b[32m━━━━━━━━━━━━━━━━━━━━\u001b[0m\u001b[37m\u001b[0m \u001b[1m1s\u001b[0m 188ms/step - categorical_accuracy: 0.1224 - loss: 2.3136\n",
            "Epoch 1009/2000\n",
            "\u001b[1m7/7\u001b[0m \u001b[32m━━━━━━━━━━━━━━━━━━━━\u001b[0m\u001b[37m\u001b[0m \u001b[1m3s\u001b[0m 183ms/step - categorical_accuracy: 0.1619 - loss: 2.3229\n",
            "Epoch 1010/2000\n",
            "\u001b[1m7/7\u001b[0m \u001b[32m━━━━━━━━━━━━━━━━━━━━\u001b[0m\u001b[37m\u001b[0m \u001b[1m3s\u001b[0m 184ms/step - categorical_accuracy: 0.1097 - loss: 2.3185\n",
            "Epoch 1011/2000\n",
            "\u001b[1m7/7\u001b[0m \u001b[32m━━━━━━━━━━━━━━━━━━━━\u001b[0m\u001b[37m\u001b[0m \u001b[1m2s\u001b[0m 253ms/step - categorical_accuracy: 0.1520 - loss: 2.3174\n",
            "Epoch 1012/2000\n",
            "\u001b[1m7/7\u001b[0m \u001b[32m━━━━━━━━━━━━━━━━━━━━\u001b[0m\u001b[37m\u001b[0m \u001b[1m2s\u001b[0m 310ms/step - categorical_accuracy: 0.1522 - loss: 2.3051\n",
            "Epoch 1013/2000\n",
            "\u001b[1m7/7\u001b[0m \u001b[32m━━━━━━━━━━━━━━━━━━━━\u001b[0m\u001b[37m\u001b[0m \u001b[1m2s\u001b[0m 313ms/step - categorical_accuracy: 0.1517 - loss: 2.3064\n",
            "Epoch 1014/2000\n",
            "\u001b[1m7/7\u001b[0m \u001b[32m━━━━━━━━━━━━━━━━━━━━\u001b[0m\u001b[37m\u001b[0m \u001b[1m2s\u001b[0m 269ms/step - categorical_accuracy: 0.1198 - loss: 2.3052\n",
            "Epoch 1015/2000\n",
            "\u001b[1m7/7\u001b[0m \u001b[32m━━━━━━━━━━━━━━━━━━━━\u001b[0m\u001b[37m\u001b[0m \u001b[1m2s\u001b[0m 194ms/step - categorical_accuracy: 0.1324 - loss: 2.2872\n",
            "Epoch 1016/2000\n",
            "\u001b[1m7/7\u001b[0m \u001b[32m━━━━━━━━━━━━━━━━━━━━\u001b[0m\u001b[37m\u001b[0m \u001b[1m1s\u001b[0m 193ms/step - categorical_accuracy: 0.1428 - loss: 2.2786\n",
            "Epoch 1017/2000\n",
            "\u001b[1m7/7\u001b[0m \u001b[32m━━━━━━━━━━━━━━━━━━━━\u001b[0m\u001b[37m\u001b[0m \u001b[1m1s\u001b[0m 183ms/step - categorical_accuracy: 0.1132 - loss: 2.3142\n",
            "Epoch 1018/2000\n",
            "\u001b[1m7/7\u001b[0m \u001b[32m━━━━━━━━━━━━━━━━━━━━\u001b[0m\u001b[37m\u001b[0m \u001b[1m1s\u001b[0m 191ms/step - categorical_accuracy: 0.1333 - loss: 2.3028\n",
            "Epoch 1019/2000\n",
            "\u001b[1m7/7\u001b[0m \u001b[32m━━━━━━━━━━━━━━━━━━━━\u001b[0m\u001b[37m\u001b[0m \u001b[1m3s\u001b[0m 194ms/step - categorical_accuracy: 0.1145 - loss: 2.2976\n",
            "Epoch 1020/2000\n",
            "\u001b[1m7/7\u001b[0m \u001b[32m━━━━━━━━━━━━━━━━━━━━\u001b[0m\u001b[37m\u001b[0m \u001b[1m2s\u001b[0m 227ms/step - categorical_accuracy: 0.1137 - loss: 2.2928\n",
            "Epoch 1021/2000\n",
            "\u001b[1m7/7\u001b[0m \u001b[32m━━━━━━━━━━━━━━━━━━━━\u001b[0m\u001b[37m\u001b[0m \u001b[1m2s\u001b[0m 295ms/step - categorical_accuracy: 0.1430 - loss: 2.2889\n",
            "Epoch 1022/2000\n",
            "\u001b[1m7/7\u001b[0m \u001b[32m━━━━━━━━━━━━━━━━━━━━\u001b[0m\u001b[37m\u001b[0m \u001b[1m3s\u001b[0m 307ms/step - categorical_accuracy: 0.1032 - loss: 2.2905\n",
            "Epoch 1023/2000\n",
            "\u001b[1m7/7\u001b[0m \u001b[32m━━━━━━━━━━━━━━━━━━━━\u001b[0m\u001b[37m\u001b[0m \u001b[1m2s\u001b[0m 243ms/step - categorical_accuracy: 0.1304 - loss: 2.2890\n",
            "Epoch 1024/2000\n",
            "\u001b[1m7/7\u001b[0m \u001b[32m━━━━━━━━━━━━━━━━━━━━\u001b[0m\u001b[37m\u001b[0m \u001b[1m1s\u001b[0m 191ms/step - categorical_accuracy: 0.1175 - loss: 2.2783\n",
            "Epoch 1025/2000\n",
            "\u001b[1m7/7\u001b[0m \u001b[32m━━━━━━━━━━━━━━━━━━━━\u001b[0m\u001b[37m\u001b[0m \u001b[1m3s\u001b[0m 193ms/step - categorical_accuracy: 0.1562 - loss: 2.2884\n",
            "Epoch 1026/2000\n",
            "\u001b[1m7/7\u001b[0m \u001b[32m━━━━━━━━━━━━━━━━━━━━\u001b[0m\u001b[37m\u001b[0m \u001b[1m2s\u001b[0m 187ms/step - categorical_accuracy: 0.1283 - loss: 2.2892\n",
            "Epoch 1027/2000\n",
            "\u001b[1m7/7\u001b[0m \u001b[32m━━━━━━━━━━━━━━━━━━━━\u001b[0m\u001b[37m\u001b[0m \u001b[1m3s\u001b[0m 193ms/step - categorical_accuracy: 0.1206 - loss: 2.2948\n",
            "Epoch 1028/2000\n",
            "\u001b[1m7/7\u001b[0m \u001b[32m━━━━━━━━━━━━━━━━━━━━\u001b[0m\u001b[37m\u001b[0m \u001b[1m2s\u001b[0m 302ms/step - categorical_accuracy: 0.1630 - loss: 2.2905\n",
            "Epoch 1029/2000\n",
            "\u001b[1m7/7\u001b[0m \u001b[32m━━━━━━━━━━━━━━━━━━━━\u001b[0m\u001b[37m\u001b[0m \u001b[1m2s\u001b[0m 307ms/step - categorical_accuracy: 0.1421 - loss: 2.3001\n",
            "Epoch 1030/2000\n",
            "\u001b[1m7/7\u001b[0m \u001b[32m━━━━━━━━━━━━━━━━━━━━\u001b[0m\u001b[37m\u001b[0m \u001b[1m2s\u001b[0m 331ms/step - categorical_accuracy: 0.1141 - loss: 2.3468\n",
            "Epoch 1031/2000\n",
            "\u001b[1m7/7\u001b[0m \u001b[32m━━━━━━━━━━━━━━━━━━━━\u001b[0m\u001b[37m\u001b[0m \u001b[1m1s\u001b[0m 177ms/step - categorical_accuracy: 0.1281 - loss: 2.3168\n",
            "Epoch 1032/2000\n",
            "\u001b[1m7/7\u001b[0m \u001b[32m━━━━━━━━━━━━━━━━━━━━\u001b[0m\u001b[37m\u001b[0m \u001b[1m1s\u001b[0m 179ms/step - categorical_accuracy: 0.1588 - loss: 2.2551\n",
            "Epoch 1033/2000\n",
            "\u001b[1m7/7\u001b[0m \u001b[32m━━━━━━━━━━━━━━━━━━━━\u001b[0m\u001b[37m\u001b[0m \u001b[1m3s\u001b[0m 179ms/step - categorical_accuracy: 0.1433 - loss: 2.2875\n",
            "Epoch 1034/2000\n",
            "\u001b[1m7/7\u001b[0m \u001b[32m━━━━━━━━━━━━━━━━━━━━\u001b[0m\u001b[37m\u001b[0m \u001b[1m1s\u001b[0m 179ms/step - categorical_accuracy: 0.1518 - loss: 2.2674\n",
            "Epoch 1035/2000\n",
            "\u001b[1m7/7\u001b[0m \u001b[32m━━━━━━━━━━━━━━━━━━━━\u001b[0m\u001b[37m\u001b[0m \u001b[1m1s\u001b[0m 180ms/step - categorical_accuracy: 0.1481 - loss: 2.3082\n",
            "Epoch 1036/2000\n",
            "\u001b[1m7/7\u001b[0m \u001b[32m━━━━━━━━━━━━━━━━━━━━\u001b[0m\u001b[37m\u001b[0m \u001b[1m1s\u001b[0m 186ms/step - categorical_accuracy: 0.1286 - loss: 2.3303\n",
            "Epoch 1037/2000\n",
            "\u001b[1m7/7\u001b[0m \u001b[32m━━━━━━━━━━━━━━━━━━━━\u001b[0m\u001b[37m\u001b[0m \u001b[1m2s\u001b[0m 225ms/step - categorical_accuracy: 0.1372 - loss: 2.2816\n",
            "Epoch 1038/2000\n",
            "\u001b[1m7/7\u001b[0m \u001b[32m━━━━━━━━━━━━━━━━━━━━\u001b[0m\u001b[37m\u001b[0m \u001b[1m3s\u001b[0m 297ms/step - categorical_accuracy: 0.1309 - loss: 2.2792\n",
            "Epoch 1039/2000\n",
            "\u001b[1m7/7\u001b[0m \u001b[32m━━━━━━━━━━━━━━━━━━━━\u001b[0m\u001b[37m\u001b[0m \u001b[1m2s\u001b[0m 183ms/step - categorical_accuracy: 0.1263 - loss: 2.2917\n",
            "Epoch 1040/2000\n",
            "\u001b[1m7/7\u001b[0m \u001b[32m━━━━━━━━━━━━━━━━━━━━\u001b[0m\u001b[37m\u001b[0m \u001b[1m2s\u001b[0m 175ms/step - categorical_accuracy: 0.1251 - loss: 2.3010\n",
            "Epoch 1041/2000\n",
            "\u001b[1m7/7\u001b[0m \u001b[32m━━━━━━━━━━━━━━━━━━━━\u001b[0m\u001b[37m\u001b[0m \u001b[1m1s\u001b[0m 187ms/step - categorical_accuracy: 0.1439 - loss: 2.3250\n",
            "Epoch 1042/2000\n",
            "\u001b[1m7/7\u001b[0m \u001b[32m━━━━━━━━━━━━━━━━━━━━\u001b[0m\u001b[37m\u001b[0m \u001b[1m2s\u001b[0m 178ms/step - categorical_accuracy: 0.1512 - loss: 2.2789\n",
            "Epoch 1043/2000\n",
            "\u001b[1m7/7\u001b[0m \u001b[32m━━━━━━━━━━━━━━━━━━━━\u001b[0m\u001b[37m\u001b[0m \u001b[1m3s\u001b[0m 185ms/step - categorical_accuracy: 0.1182 - loss: 2.2832\n",
            "Epoch 1044/2000\n",
            "\u001b[1m7/7\u001b[0m \u001b[32m━━━━━━━━━━━━━━━━━━━━\u001b[0m\u001b[37m\u001b[0m \u001b[1m3s\u001b[0m 305ms/step - categorical_accuracy: 0.1194 - loss: 2.3132\n",
            "Epoch 1045/2000\n",
            "\u001b[1m7/7\u001b[0m \u001b[32m━━━━━━━━━━━━━━━━━━━━\u001b[0m\u001b[37m\u001b[0m \u001b[1m2s\u001b[0m 194ms/step - categorical_accuracy: 0.1062 - loss: 2.3135\n",
            "Epoch 1046/2000\n",
            "\u001b[1m7/7\u001b[0m \u001b[32m━━━━━━━━━━━━━━━━━━━━\u001b[0m\u001b[37m\u001b[0m \u001b[1m2s\u001b[0m 181ms/step - categorical_accuracy: 0.1517 - loss: 2.3063\n",
            "Epoch 1047/2000\n",
            "\u001b[1m7/7\u001b[0m \u001b[32m━━━━━━━━━━━━━━━━━━━━\u001b[0m\u001b[37m\u001b[0m \u001b[1m1s\u001b[0m 188ms/step - categorical_accuracy: 0.1325 - loss: 2.3071\n",
            "Epoch 1048/2000\n",
            "\u001b[1m7/7\u001b[0m \u001b[32m━━━━━━━━━━━━━━━━━━━━\u001b[0m\u001b[37m\u001b[0m \u001b[1m1s\u001b[0m 181ms/step - categorical_accuracy: 0.1159 - loss: 2.3168\n",
            "Epoch 1049/2000\n",
            "\u001b[1m7/7\u001b[0m \u001b[32m━━━━━━━━━━━━━━━━━━━━\u001b[0m\u001b[37m\u001b[0m \u001b[1m2s\u001b[0m 178ms/step - categorical_accuracy: 0.1499 - loss: 2.2893\n",
            "Epoch 1050/2000\n",
            "\u001b[1m7/7\u001b[0m \u001b[32m━━━━━━━━━━━━━━━━━━━━\u001b[0m\u001b[37m\u001b[0m \u001b[1m2s\u001b[0m 213ms/step - categorical_accuracy: 0.1138 - loss: 2.2759\n",
            "Epoch 1051/2000\n",
            "\u001b[1m7/7\u001b[0m \u001b[32m━━━━━━━━━━━━━━━━━━━━\u001b[0m\u001b[37m\u001b[0m \u001b[1m2s\u001b[0m 304ms/step - categorical_accuracy: 0.1096 - loss: 2.2737\n",
            "Epoch 1052/2000\n",
            "\u001b[1m7/7\u001b[0m \u001b[32m━━━━━━━━━━━━━━━━━━━━\u001b[0m\u001b[37m\u001b[0m \u001b[1m2s\u001b[0m 309ms/step - categorical_accuracy: 0.1454 - loss: 2.2847\n",
            "Epoch 1053/2000\n",
            "\u001b[1m7/7\u001b[0m \u001b[32m━━━━━━━━━━━━━━━━━━━━\u001b[0m\u001b[37m\u001b[0m \u001b[1m2s\u001b[0m 201ms/step - categorical_accuracy: 0.1408 - loss: 2.2812\n",
            "Epoch 1054/2000\n",
            "\u001b[1m7/7\u001b[0m \u001b[32m━━━━━━━━━━━━━━━━━━━━\u001b[0m\u001b[37m\u001b[0m \u001b[1m2s\u001b[0m 178ms/step - categorical_accuracy: 0.1352 - loss: 2.2730\n",
            "Epoch 1055/2000\n",
            "\u001b[1m7/7\u001b[0m \u001b[32m━━━━━━━━━━━━━━━━━━━━\u001b[0m\u001b[37m\u001b[0m \u001b[1m1s\u001b[0m 186ms/step - categorical_accuracy: 0.1562 - loss: 2.3199\n",
            "Epoch 1056/2000\n",
            "\u001b[1m7/7\u001b[0m \u001b[32m━━━━━━━━━━━━━━━━━━━━\u001b[0m\u001b[37m\u001b[0m \u001b[1m2s\u001b[0m 178ms/step - categorical_accuracy: 0.1279 - loss: 2.3081\n",
            "Epoch 1057/2000\n",
            "\u001b[1m7/7\u001b[0m \u001b[32m━━━━━━━━━━━━━━━━━━━━\u001b[0m\u001b[37m\u001b[0m \u001b[1m3s\u001b[0m 175ms/step - categorical_accuracy: 0.1265 - loss: 2.3069\n",
            "Epoch 1058/2000\n",
            "\u001b[1m7/7\u001b[0m \u001b[32m━━━━━━━━━━━━━━━━━━━━\u001b[0m\u001b[37m\u001b[0m \u001b[1m2s\u001b[0m 311ms/step - categorical_accuracy: 0.1319 - loss: 2.3017\n",
            "Epoch 1059/2000\n",
            "\u001b[1m7/7\u001b[0m \u001b[32m━━━━━━━━━━━━━━━━━━━━\u001b[0m\u001b[37m\u001b[0m \u001b[1m2s\u001b[0m 317ms/step - categorical_accuracy: 0.1223 - loss: 2.3079\n",
            "Epoch 1060/2000\n",
            "\u001b[1m7/7\u001b[0m \u001b[32m━━━━━━━━━━━━━━━━━━━━\u001b[0m\u001b[37m\u001b[0m \u001b[1m2s\u001b[0m 288ms/step - categorical_accuracy: 0.1182 - loss: 2.2965\n",
            "Epoch 1061/2000\n",
            "\u001b[1m7/7\u001b[0m \u001b[32m━━━━━━━━━━━━━━━━━━━━\u001b[0m\u001b[37m\u001b[0m \u001b[1m2s\u001b[0m 189ms/step - categorical_accuracy: 0.1147 - loss: 2.3092\n",
            "Epoch 1062/2000\n",
            "\u001b[1m7/7\u001b[0m \u001b[32m━━━━━━━━━━━━━━━━━━━━\u001b[0m\u001b[37m\u001b[0m \u001b[1m1s\u001b[0m 189ms/step - categorical_accuracy: 0.1357 - loss: 2.3095\n",
            "Epoch 1063/2000\n",
            "\u001b[1m7/7\u001b[0m \u001b[32m━━━━━━━━━━━━━━━━━━━━\u001b[0m\u001b[37m\u001b[0m \u001b[1m1s\u001b[0m 189ms/step - categorical_accuracy: 0.1295 - loss: 2.3323\n",
            "Epoch 1064/2000\n",
            "\u001b[1m7/7\u001b[0m \u001b[32m━━━━━━━━━━━━━━━━━━━━\u001b[0m\u001b[37m\u001b[0m \u001b[1m2s\u001b[0m 185ms/step - categorical_accuracy: 0.1415 - loss: 2.3192\n",
            "Epoch 1065/2000\n",
            "\u001b[1m7/7\u001b[0m \u001b[32m━━━━━━━━━━━━━━━━━━━━\u001b[0m\u001b[37m\u001b[0m \u001b[1m1s\u001b[0m 196ms/step - categorical_accuracy: 0.1449 - loss: 2.2721\n",
            "Epoch 1066/2000\n",
            "\u001b[1m7/7\u001b[0m \u001b[32m━━━━━━━━━━━━━━━━━━━━\u001b[0m\u001b[37m\u001b[0m \u001b[1m1s\u001b[0m 199ms/step - categorical_accuracy: 0.1457 - loss: 2.2918\n",
            "Epoch 1067/2000\n",
            "\u001b[1m7/7\u001b[0m \u001b[32m━━━━━━━━━━━━━━━━━━━━\u001b[0m\u001b[37m\u001b[0m \u001b[1m2s\u001b[0m 297ms/step - categorical_accuracy: 0.1163 - loss: 2.2839\n",
            "Epoch 1068/2000\n",
            "\u001b[1m7/7\u001b[0m \u001b[32m━━━━━━━━━━━━━━━━━━━━\u001b[0m\u001b[37m\u001b[0m \u001b[1m2s\u001b[0m 314ms/step - categorical_accuracy: 0.1553 - loss: 2.2939\n",
            "Epoch 1069/2000\n",
            "\u001b[1m7/7\u001b[0m \u001b[32m━━━━━━━━━━━━━━━━━━━━\u001b[0m\u001b[37m\u001b[0m \u001b[1m2s\u001b[0m 331ms/step - categorical_accuracy: 0.1423 - loss: 2.3062\n",
            "Epoch 1070/2000\n",
            "\u001b[1m7/7\u001b[0m \u001b[32m━━━━━━━━━━━━━━━━━━━━\u001b[0m\u001b[37m\u001b[0m \u001b[1m2s\u001b[0m 193ms/step - categorical_accuracy: 0.1368 - loss: 2.3198\n",
            "Epoch 1071/2000\n",
            "\u001b[1m7/7\u001b[0m \u001b[32m━━━━━━━━━━━━━━━━━━━━\u001b[0m\u001b[37m\u001b[0m \u001b[1m1s\u001b[0m 191ms/step - categorical_accuracy: 0.1487 - loss: 2.3239\n",
            "Epoch 1072/2000\n",
            "\u001b[1m7/7\u001b[0m \u001b[32m━━━━━━━━━━━━━━━━━━━━\u001b[0m\u001b[37m\u001b[0m \u001b[1m3s\u001b[0m 189ms/step - categorical_accuracy: 0.1425 - loss: 2.2923\n",
            "Epoch 1073/2000\n",
            "\u001b[1m7/7\u001b[0m \u001b[32m━━━━━━━━━━━━━━━━━━━━\u001b[0m\u001b[37m\u001b[0m \u001b[1m2s\u001b[0m 183ms/step - categorical_accuracy: 0.1209 - loss: 2.2858\n",
            "Epoch 1074/2000\n",
            "\u001b[1m7/7\u001b[0m \u001b[32m━━━━━━━━━━━━━━━━━━━━\u001b[0m\u001b[37m\u001b[0m \u001b[1m1s\u001b[0m 195ms/step - categorical_accuracy: 0.1314 - loss: 2.3188\n",
            "Epoch 1075/2000\n",
            "\u001b[1m7/7\u001b[0m \u001b[32m━━━━━━━━━━━━━━━━━━━━\u001b[0m\u001b[37m\u001b[0m \u001b[1m2s\u001b[0m 247ms/step - categorical_accuracy: 0.1458 - loss: 2.2887\n",
            "Epoch 1076/2000\n",
            "\u001b[1m7/7\u001b[0m \u001b[32m━━━━━━━━━━━━━━━━━━━━\u001b[0m\u001b[37m\u001b[0m \u001b[1m2s\u001b[0m 302ms/step - categorical_accuracy: 0.1533 - loss: 2.2919\n",
            "Epoch 1077/2000\n",
            "\u001b[1m7/7\u001b[0m \u001b[32m━━━━━━━━━━━━━━━━━━━━\u001b[0m\u001b[37m\u001b[0m \u001b[1m3s\u001b[0m 301ms/step - categorical_accuracy: 0.1620 - loss: 2.2877\n",
            "Epoch 1078/2000\n",
            "\u001b[1m7/7\u001b[0m \u001b[32m━━━━━━━━━━━━━━━━━━━━\u001b[0m\u001b[37m\u001b[0m \u001b[1m2s\u001b[0m 175ms/step - categorical_accuracy: 0.1354 - loss: 2.3024\n",
            "Epoch 1079/2000\n",
            "\u001b[1m7/7\u001b[0m \u001b[32m━━━━━━━━━━━━━━━━━━━━\u001b[0m\u001b[37m\u001b[0m \u001b[1m3s\u001b[0m 188ms/step - categorical_accuracy: 0.1532 - loss: 2.3251\n",
            "Epoch 1080/2000\n",
            "\u001b[1m7/7\u001b[0m \u001b[32m━━━━━━━━━━━━━━━━━━━━\u001b[0m\u001b[37m\u001b[0m \u001b[1m1s\u001b[0m 192ms/step - categorical_accuracy: 0.1505 - loss: 2.3102\n",
            "Epoch 1081/2000\n",
            "\u001b[1m7/7\u001b[0m \u001b[32m━━━━━━━━━━━━━━━━━━━━\u001b[0m\u001b[37m\u001b[0m \u001b[1m1s\u001b[0m 190ms/step - categorical_accuracy: 0.1200 - loss: 2.2639\n",
            "Epoch 1082/2000\n",
            "\u001b[1m7/7\u001b[0m \u001b[32m━━━━━━━━━━━━━━━━━━━━\u001b[0m\u001b[37m\u001b[0m \u001b[1m3s\u001b[0m 189ms/step - categorical_accuracy: 0.1235 - loss: 2.2965\n",
            "Epoch 1083/2000\n",
            "\u001b[1m7/7\u001b[0m \u001b[32m━━━━━━━━━━━━━━━━━━━━\u001b[0m\u001b[37m\u001b[0m \u001b[1m3s\u001b[0m 322ms/step - categorical_accuracy: 0.1427 - loss: 2.3048\n",
            "Epoch 1084/2000\n",
            "\u001b[1m7/7\u001b[0m \u001b[32m━━━━━━━━━━━━━━━━━━━━\u001b[0m\u001b[37m\u001b[0m \u001b[1m3s\u001b[0m 317ms/step - categorical_accuracy: 0.1300 - loss: 2.3210\n",
            "Epoch 1085/2000\n",
            "\u001b[1m7/7\u001b[0m \u001b[32m━━━━━━━━━━━━━━━━━━━━\u001b[0m\u001b[37m\u001b[0m \u001b[1m2s\u001b[0m 221ms/step - categorical_accuracy: 0.1597 - loss: 2.2907\n",
            "Epoch 1086/2000\n",
            "\u001b[1m7/7\u001b[0m \u001b[32m━━━━━━━━━━━━━━━━━━━━\u001b[0m\u001b[37m\u001b[0m \u001b[1m1s\u001b[0m 196ms/step - categorical_accuracy: 0.1497 - loss: 2.2844\n",
            "Epoch 1087/2000\n",
            "\u001b[1m7/7\u001b[0m \u001b[32m━━━━━━━━━━━━━━━━━━━━\u001b[0m\u001b[37m\u001b[0m \u001b[1m1s\u001b[0m 190ms/step - categorical_accuracy: 0.1350 - loss: 2.2955\n",
            "Epoch 1088/2000\n",
            "\u001b[1m7/7\u001b[0m \u001b[32m━━━━━━━━━━━━━━━━━━━━\u001b[0m\u001b[37m\u001b[0m \u001b[1m1s\u001b[0m 193ms/step - categorical_accuracy: 0.1180 - loss: 2.2921\n",
            "Epoch 1089/2000\n",
            "\u001b[1m7/7\u001b[0m \u001b[32m━━━━━━━━━━━━━━━━━━━━\u001b[0m\u001b[37m\u001b[0m \u001b[1m3s\u001b[0m 193ms/step - categorical_accuracy: 0.1560 - loss: 2.2889\n",
            "Epoch 1090/2000\n",
            "\u001b[1m7/7\u001b[0m \u001b[32m━━━━━━━━━━━━━━━━━━━━\u001b[0m\u001b[37m\u001b[0m \u001b[1m3s\u001b[0m 192ms/step - categorical_accuracy: 0.1462 - loss: 2.2989\n",
            "Epoch 1091/2000\n",
            "\u001b[1m7/7\u001b[0m \u001b[32m━━━━━━━━━━━━━━━━━━━━\u001b[0m\u001b[37m\u001b[0m \u001b[1m4s\u001b[0m 398ms/step - categorical_accuracy: 0.1186 - loss: 2.2751\n",
            "Epoch 1092/2000\n",
            "\u001b[1m7/7\u001b[0m \u001b[32m━━━━━━━━━━━━━━━━━━━━\u001b[0m\u001b[37m\u001b[0m \u001b[1m4s\u001b[0m 191ms/step - categorical_accuracy: 0.1431 - loss: 2.3168\n",
            "Epoch 1093/2000\n",
            "\u001b[1m7/7\u001b[0m \u001b[32m━━━━━━━━━━━━━━━━━━━━\u001b[0m\u001b[37m\u001b[0m \u001b[1m3s\u001b[0m 188ms/step - categorical_accuracy: 0.1401 - loss: 2.2755\n",
            "Epoch 1094/2000\n",
            "\u001b[1m7/7\u001b[0m \u001b[32m━━━━━━━━━━━━━━━━━━━━\u001b[0m\u001b[37m\u001b[0m \u001b[1m1s\u001b[0m 188ms/step - categorical_accuracy: 0.1352 - loss: 2.3315\n",
            "Epoch 1095/2000\n",
            "\u001b[1m7/7\u001b[0m \u001b[32m━━━━━━━━━━━━━━━━━━━━\u001b[0m\u001b[37m\u001b[0m \u001b[1m3s\u001b[0m 191ms/step - categorical_accuracy: 0.1477 - loss: 2.3144\n",
            "Epoch 1096/2000\n",
            "\u001b[1m7/7\u001b[0m \u001b[32m━━━━━━━━━━━━━━━━━━━━\u001b[0m\u001b[37m\u001b[0m \u001b[1m3s\u001b[0m 292ms/step - categorical_accuracy: 0.1433 - loss: 2.2770\n",
            "Epoch 1097/2000\n",
            "\u001b[1m7/7\u001b[0m \u001b[32m━━━━━━━━━━━━━━━━━━━━\u001b[0m\u001b[37m\u001b[0m \u001b[1m3s\u001b[0m 307ms/step - categorical_accuracy: 0.1195 - loss: 2.3166\n",
            "Epoch 1098/2000\n",
            "\u001b[1m7/7\u001b[0m \u001b[32m━━━━━━━━━━━━━━━━━━━━\u001b[0m\u001b[37m\u001b[0m \u001b[1m2s\u001b[0m 179ms/step - categorical_accuracy: 0.0973 - loss: 2.2957\n",
            "Epoch 1099/2000\n",
            "\u001b[1m7/7\u001b[0m \u001b[32m━━━━━━━━━━━━━━━━━━━━\u001b[0m\u001b[37m\u001b[0m \u001b[1m3s\u001b[0m 189ms/step - categorical_accuracy: 0.0963 - loss: 2.3059\n",
            "Epoch 1100/2000\n",
            "\u001b[1m7/7\u001b[0m \u001b[32m━━━━━━━━━━━━━━━━━━━━\u001b[0m\u001b[37m\u001b[0m \u001b[1m1s\u001b[0m 199ms/step - categorical_accuracy: 0.1421 - loss: 2.2754\n",
            "Epoch 1101/2000\n",
            "\u001b[1m7/7\u001b[0m \u001b[32m━━━━━━━━━━━━━━━━━━━━\u001b[0m\u001b[37m\u001b[0m \u001b[1m2s\u001b[0m 183ms/step - categorical_accuracy: 0.1523 - loss: 2.2688\n",
            "Epoch 1102/2000\n",
            "\u001b[1m7/7\u001b[0m \u001b[32m━━━━━━━━━━━━━━━━━━━━\u001b[0m\u001b[37m\u001b[0m \u001b[1m3s\u001b[0m 231ms/step - categorical_accuracy: 0.1430 - loss: 2.2894\n",
            "Epoch 1103/2000\n",
            "\u001b[1m7/7\u001b[0m \u001b[32m━━━━━━━━━━━━━━━━━━━━\u001b[0m\u001b[37m\u001b[0m \u001b[1m2s\u001b[0m 288ms/step - categorical_accuracy: 0.1300 - loss: 2.3095\n",
            "Epoch 1104/2000\n",
            "\u001b[1m7/7\u001b[0m \u001b[32m━━━━━━━━━━━━━━━━━━━━\u001b[0m\u001b[37m\u001b[0m \u001b[1m3s\u001b[0m 311ms/step - categorical_accuracy: 0.1575 - loss: 2.3141\n",
            "Epoch 1105/2000\n",
            "\u001b[1m7/7\u001b[0m \u001b[32m━━━━━━━━━━━━━━━━━━━━\u001b[0m\u001b[37m\u001b[0m \u001b[1m2s\u001b[0m 181ms/step - categorical_accuracy: 0.1143 - loss: 2.3174\n",
            "Epoch 1106/2000\n",
            "\u001b[1m7/7\u001b[0m \u001b[32m━━━━━━━━━━━━━━━━━━━━\u001b[0m\u001b[37m\u001b[0m \u001b[1m3s\u001b[0m 177ms/step - categorical_accuracy: 0.1366 - loss: 2.3054\n",
            "Epoch 1107/2000\n",
            "\u001b[1m7/7\u001b[0m \u001b[32m━━━━━━━━━━━━━━━━━━━━\u001b[0m\u001b[37m\u001b[0m \u001b[1m1s\u001b[0m 190ms/step - categorical_accuracy: 0.1650 - loss: 2.2915\n",
            "Epoch 1108/2000\n",
            "\u001b[1m7/7\u001b[0m \u001b[32m━━━━━━━━━━━━━━━━━━━━\u001b[0m\u001b[37m\u001b[0m \u001b[1m3s\u001b[0m 191ms/step - categorical_accuracy: 0.1385 - loss: 2.3042\n",
            "Epoch 1109/2000\n",
            "\u001b[1m7/7\u001b[0m \u001b[32m━━━━━━━━━━━━━━━━━━━━\u001b[0m\u001b[37m\u001b[0m \u001b[1m3s\u001b[0m 218ms/step - categorical_accuracy: 0.1581 - loss: 2.2998\n",
            "Epoch 1110/2000\n",
            "\u001b[1m7/7\u001b[0m \u001b[32m━━━━━━━━━━━━━━━━━━━━\u001b[0m\u001b[37m\u001b[0m \u001b[1m3s\u001b[0m 316ms/step - categorical_accuracy: 0.1574 - loss: 2.3024\n",
            "Epoch 1111/2000\n",
            "\u001b[1m7/7\u001b[0m \u001b[32m━━━━━━━━━━━━━━━━━━━━\u001b[0m\u001b[37m\u001b[0m \u001b[1m2s\u001b[0m 208ms/step - categorical_accuracy: 0.1146 - loss: 2.2790\n",
            "Epoch 1112/2000\n",
            "\u001b[1m7/7\u001b[0m \u001b[32m━━━━━━━━━━━━━━━━━━━━\u001b[0m\u001b[37m\u001b[0m \u001b[1m2s\u001b[0m 186ms/step - categorical_accuracy: 0.1426 - loss: 2.2949\n",
            "Epoch 1113/2000\n",
            "\u001b[1m7/7\u001b[0m \u001b[32m━━━━━━━━━━━━━━━━━━━━\u001b[0m\u001b[37m\u001b[0m \u001b[1m1s\u001b[0m 192ms/step - categorical_accuracy: 0.1077 - loss: 2.3000\n",
            "Epoch 1114/2000\n",
            "\u001b[1m7/7\u001b[0m \u001b[32m━━━━━━━━━━━━━━━━━━━━\u001b[0m\u001b[37m\u001b[0m \u001b[1m1s\u001b[0m 188ms/step - categorical_accuracy: 0.1577 - loss: 2.3001\n",
            "Epoch 1115/2000\n",
            "\u001b[1m7/7\u001b[0m \u001b[32m━━━━━━━━━━━━━━━━━━━━\u001b[0m\u001b[37m\u001b[0m \u001b[1m3s\u001b[0m 186ms/step - categorical_accuracy: 0.1222 - loss: 2.3254\n",
            "Epoch 1116/2000\n",
            "\u001b[1m7/7\u001b[0m \u001b[32m━━━━━━━━━━━━━━━━━━━━\u001b[0m\u001b[37m\u001b[0m \u001b[1m1s\u001b[0m 175ms/step - categorical_accuracy: 0.1583 - loss: 2.2894\n",
            "Epoch 1117/2000\n",
            "\u001b[1m7/7\u001b[0m \u001b[32m━━━━━━━━━━━━━━━━━━━━\u001b[0m\u001b[37m\u001b[0m \u001b[1m4s\u001b[0m 313ms/step - categorical_accuracy: 0.1381 - loss: 2.3028\n",
            "Epoch 1118/2000\n",
            "\u001b[1m7/7\u001b[0m \u001b[32m━━━━━━━━━━━━━━━━━━━━\u001b[0m\u001b[37m\u001b[0m \u001b[1m2s\u001b[0m 191ms/step - categorical_accuracy: 0.1423 - loss: 2.2965\n",
            "Epoch 1119/2000\n",
            "\u001b[1m7/7\u001b[0m \u001b[32m━━━━━━━━━━━━━━━━━━━━\u001b[0m\u001b[37m\u001b[0m \u001b[1m1s\u001b[0m 185ms/step - categorical_accuracy: 0.1493 - loss: 2.3268\n",
            "Epoch 1120/2000\n",
            "\u001b[1m7/7\u001b[0m \u001b[32m━━━━━━━━━━━━━━━━━━━━\u001b[0m\u001b[37m\u001b[0m \u001b[1m3s\u001b[0m 187ms/step - categorical_accuracy: 0.1434 - loss: 2.3242\n",
            "Epoch 1121/2000\n",
            "\u001b[1m7/7\u001b[0m \u001b[32m━━━━━━━━━━━━━━━━━━━━\u001b[0m\u001b[37m\u001b[0m \u001b[1m1s\u001b[0m 176ms/step - categorical_accuracy: 0.1364 - loss: 2.3013\n",
            "Epoch 1122/2000\n",
            "\u001b[1m7/7\u001b[0m \u001b[32m━━━━━━━━━━━━━━━━━━━━\u001b[0m\u001b[37m\u001b[0m \u001b[1m1s\u001b[0m 176ms/step - categorical_accuracy: 0.1353 - loss: 2.3090\n",
            "Epoch 1123/2000\n",
            "\u001b[1m7/7\u001b[0m \u001b[32m━━━━━━━━━━━━━━━━━━━━\u001b[0m\u001b[37m\u001b[0m \u001b[1m3s\u001b[0m 214ms/step - categorical_accuracy: 0.1211 - loss: 2.2990\n",
            "Epoch 1124/2000\n",
            "\u001b[1m7/7\u001b[0m \u001b[32m━━━━━━━━━━━━━━━━━━━━\u001b[0m\u001b[37m\u001b[0m \u001b[1m2s\u001b[0m 295ms/step - categorical_accuracy: 0.1389 - loss: 2.2847\n",
            "Epoch 1125/2000\n",
            "\u001b[1m7/7\u001b[0m \u001b[32m━━━━━━━━━━━━━━━━━━━━\u001b[0m\u001b[37m\u001b[0m \u001b[1m2s\u001b[0m 319ms/step - categorical_accuracy: 0.1413 - loss: 2.2827\n",
            "Epoch 1126/2000\n",
            "\u001b[1m7/7\u001b[0m \u001b[32m━━━━━━━━━━━━━━━━━━━━\u001b[0m\u001b[37m\u001b[0m \u001b[1m2s\u001b[0m 280ms/step - categorical_accuracy: 0.1097 - loss: 2.3010\n",
            "Epoch 1127/2000\n",
            "\u001b[1m7/7\u001b[0m \u001b[32m━━━━━━━━━━━━━━━━━━━━\u001b[0m\u001b[37m\u001b[0m \u001b[1m2s\u001b[0m 194ms/step - categorical_accuracy: 0.1176 - loss: 2.3335\n",
            "Epoch 1128/2000\n",
            "\u001b[1m7/7\u001b[0m \u001b[32m━━━━━━━━━━━━━━━━━━━━\u001b[0m\u001b[37m\u001b[0m \u001b[1m3s\u001b[0m 195ms/step - categorical_accuracy: 0.1304 - loss: 2.2960\n",
            "Epoch 1129/2000\n",
            "\u001b[1m7/7\u001b[0m \u001b[32m━━━━━━━━━━━━━━━━━━━━\u001b[0m\u001b[37m\u001b[0m \u001b[1m2s\u001b[0m 182ms/step - categorical_accuracy: 0.1385 - loss: 2.3144\n",
            "Epoch 1130/2000\n",
            "\u001b[1m7/7\u001b[0m \u001b[32m━━━━━━━━━━━━━━━━━━━━\u001b[0m\u001b[37m\u001b[0m \u001b[1m2s\u001b[0m 174ms/step - categorical_accuracy: 0.1381 - loss: 2.2920\n",
            "Epoch 1131/2000\n",
            "\u001b[1m7/7\u001b[0m \u001b[32m━━━━━━━━━━━━━━━━━━━━\u001b[0m\u001b[37m\u001b[0m \u001b[1m2s\u001b[0m 293ms/step - categorical_accuracy: 0.1204 - loss: 2.3004\n",
            "Epoch 1132/2000\n",
            "\u001b[1m7/7\u001b[0m \u001b[32m━━━━━━━━━━━━━━━━━━━━\u001b[0m\u001b[37m\u001b[0m \u001b[1m2s\u001b[0m 316ms/step - categorical_accuracy: 0.1356 - loss: 2.2794\n",
            "Epoch 1133/2000\n",
            "\u001b[1m7/7\u001b[0m \u001b[32m━━━━━━━━━━━━━━━━━━━━\u001b[0m\u001b[37m\u001b[0m \u001b[1m2s\u001b[0m 322ms/step - categorical_accuracy: 0.1267 - loss: 2.2932\n",
            "Epoch 1134/2000\n",
            "\u001b[1m7/7\u001b[0m \u001b[32m━━━━━━━━━━━━━━━━━━━━\u001b[0m\u001b[37m\u001b[0m \u001b[1m2s\u001b[0m 188ms/step - categorical_accuracy: 0.1319 - loss: 2.2985\n",
            "Epoch 1135/2000\n",
            "\u001b[1m7/7\u001b[0m \u001b[32m━━━━━━━━━━━━━━━━━━━━\u001b[0m\u001b[37m\u001b[0m \u001b[1m3s\u001b[0m 185ms/step - categorical_accuracy: 0.1387 - loss: 2.3116\n",
            "Epoch 1136/2000\n",
            "\u001b[1m7/7\u001b[0m \u001b[32m━━━━━━━━━━━━━━━━━━━━\u001b[0m\u001b[37m\u001b[0m \u001b[1m1s\u001b[0m 176ms/step - categorical_accuracy: 0.1555 - loss: 2.2816\n",
            "Epoch 1137/2000\n",
            "\u001b[1m7/7\u001b[0m \u001b[32m━━━━━━━━━━━━━━━━━━━━\u001b[0m\u001b[37m\u001b[0m \u001b[1m1s\u001b[0m 180ms/step - categorical_accuracy: 0.1202 - loss: 2.2874\n",
            "Epoch 1138/2000\n",
            "\u001b[1m7/7\u001b[0m \u001b[32m━━━━━━━━━━━━━━━━━━━━\u001b[0m\u001b[37m\u001b[0m \u001b[1m1s\u001b[0m 188ms/step - categorical_accuracy: 0.1426 - loss: 2.2709\n",
            "Epoch 1139/2000\n",
            "\u001b[1m7/7\u001b[0m \u001b[32m━━━━━━━━━━━━━━━━━━━━\u001b[0m\u001b[37m\u001b[0m \u001b[1m3s\u001b[0m 250ms/step - categorical_accuracy: 0.1266 - loss: 2.2785\n",
            "Epoch 1140/2000\n",
            "\u001b[1m7/7\u001b[0m \u001b[32m━━━━━━━━━━━━━━━━━━━━\u001b[0m\u001b[37m\u001b[0m \u001b[1m2s\u001b[0m 301ms/step - categorical_accuracy: 0.1223 - loss: 2.3223\n",
            "Epoch 1141/2000\n",
            "\u001b[1m7/7\u001b[0m \u001b[32m━━━━━━━━━━━━━━━━━━━━\u001b[0m\u001b[37m\u001b[0m \u001b[1m3s\u001b[0m 324ms/step - categorical_accuracy: 0.1365 - loss: 2.2778\n",
            "Epoch 1142/2000\n",
            "\u001b[1m7/7\u001b[0m \u001b[32m━━━━━━━━━━━━━━━━━━━━\u001b[0m\u001b[37m\u001b[0m \u001b[1m2s\u001b[0m 191ms/step - categorical_accuracy: 0.1333 - loss: 2.3198\n",
            "Epoch 1143/2000\n",
            "\u001b[1m7/7\u001b[0m \u001b[32m━━━━━━━━━━━━━━━━━━━━\u001b[0m\u001b[37m\u001b[0m \u001b[1m1s\u001b[0m 178ms/step - categorical_accuracy: 0.1258 - loss: 2.3171\n",
            "Epoch 1144/2000\n",
            "\u001b[1m7/7\u001b[0m \u001b[32m━━━━━━━━━━━━━━━━━━━━\u001b[0m\u001b[37m\u001b[0m \u001b[1m1s\u001b[0m 177ms/step - categorical_accuracy: 0.1313 - loss: 2.3070\n",
            "Epoch 1145/2000\n",
            "\u001b[1m7/7\u001b[0m \u001b[32m━━━━━━━━━━━━━━━━━━━━\u001b[0m\u001b[37m\u001b[0m \u001b[1m3s\u001b[0m 187ms/step - categorical_accuracy: 0.1427 - loss: 2.3292\n",
            "Epoch 1146/2000\n",
            "\u001b[1m7/7\u001b[0m \u001b[32m━━━━━━━━━━━━━━━━━━━━\u001b[0m\u001b[37m\u001b[0m \u001b[1m1s\u001b[0m 178ms/step - categorical_accuracy: 0.1643 - loss: 2.3069\n",
            "Epoch 1147/2000\n",
            "\u001b[1m7/7\u001b[0m \u001b[32m━━━━━━━━━━━━━━━━━━━━\u001b[0m\u001b[37m\u001b[0m \u001b[1m3s\u001b[0m 225ms/step - categorical_accuracy: 0.1438 - loss: 2.2999\n",
            "Epoch 1148/2000\n",
            "\u001b[1m7/7\u001b[0m \u001b[32m━━━━━━━━━━━━━━━━━━━━\u001b[0m\u001b[37m\u001b[0m \u001b[1m2s\u001b[0m 293ms/step - categorical_accuracy: 0.1093 - loss: 2.3127\n",
            "Epoch 1149/2000\n",
            "\u001b[1m7/7\u001b[0m \u001b[32m━━━━━━━━━━━━━━━━━━━━\u001b[0m\u001b[37m\u001b[0m \u001b[1m2s\u001b[0m 293ms/step - categorical_accuracy: 0.1298 - loss: 2.3241\n",
            "Epoch 1150/2000\n",
            "\u001b[1m7/7\u001b[0m \u001b[32m━━━━━━━━━━━━━━━━━━━━\u001b[0m\u001b[37m\u001b[0m \u001b[1m2s\u001b[0m 193ms/step - categorical_accuracy: 0.1072 - loss: 2.2938\n",
            "Epoch 1151/2000\n",
            "\u001b[1m7/7\u001b[0m \u001b[32m━━━━━━━━━━━━━━━━━━━━\u001b[0m\u001b[37m\u001b[0m \u001b[1m2s\u001b[0m 181ms/step - categorical_accuracy: 0.1324 - loss: 2.2977\n",
            "Epoch 1152/2000\n",
            "\u001b[1m7/7\u001b[0m \u001b[32m━━━━━━━━━━━━━━━━━━━━\u001b[0m\u001b[37m\u001b[0m \u001b[1m3s\u001b[0m 177ms/step - categorical_accuracy: 0.1570 - loss: 2.2754\n",
            "Epoch 1153/2000\n",
            "\u001b[1m7/7\u001b[0m \u001b[32m━━━━━━━━━━━━━━━━━━━━\u001b[0m\u001b[37m\u001b[0m \u001b[1m1s\u001b[0m 182ms/step - categorical_accuracy: 0.1454 - loss: 2.3104\n",
            "Epoch 1154/2000\n",
            "\u001b[1m7/7\u001b[0m \u001b[32m━━━━━━━━━━━━━━━━━━━━\u001b[0m\u001b[37m\u001b[0m \u001b[1m1s\u001b[0m 190ms/step - categorical_accuracy: 0.1090 - loss: 2.3116\n",
            "Epoch 1155/2000\n",
            "\u001b[1m7/7\u001b[0m \u001b[32m━━━━━━━━━━━━━━━━━━━━\u001b[0m\u001b[37m\u001b[0m \u001b[1m1s\u001b[0m 190ms/step - categorical_accuracy: 0.1102 - loss: 2.2809\n",
            "Epoch 1156/2000\n",
            "\u001b[1m7/7\u001b[0m \u001b[32m━━━━━━━━━━━━━━━━━━━━\u001b[0m\u001b[37m\u001b[0m \u001b[1m2s\u001b[0m 307ms/step - categorical_accuracy: 0.1225 - loss: 2.2852\n",
            "Epoch 1157/2000\n",
            "\u001b[1m7/7\u001b[0m \u001b[32m━━━━━━━━━━━━━━━━━━━━\u001b[0m\u001b[37m\u001b[0m \u001b[1m2s\u001b[0m 303ms/step - categorical_accuracy: 0.1268 - loss: 2.3047\n",
            "Epoch 1158/2000\n",
            "\u001b[1m7/7\u001b[0m \u001b[32m━━━━━━━━━━━━━━━━━━━━\u001b[0m\u001b[37m\u001b[0m \u001b[1m2s\u001b[0m 244ms/step - categorical_accuracy: 0.1173 - loss: 2.2789\n",
            "Epoch 1159/2000\n",
            "\u001b[1m7/7\u001b[0m \u001b[32m━━━━━━━━━━━━━━━━━━━━\u001b[0m\u001b[37m\u001b[0m \u001b[1m1s\u001b[0m 180ms/step - categorical_accuracy: 0.1221 - loss: 2.3077\n",
            "Epoch 1160/2000\n",
            "\u001b[1m7/7\u001b[0m \u001b[32m━━━━━━━━━━━━━━━━━━━━\u001b[0m\u001b[37m\u001b[0m \u001b[1m1s\u001b[0m 191ms/step - categorical_accuracy: 0.1405 - loss: 2.3194\n",
            "Epoch 1161/2000\n",
            "\u001b[1m7/7\u001b[0m \u001b[32m━━━━━━━━━━━━━━━━━━━━\u001b[0m\u001b[37m\u001b[0m \u001b[1m1s\u001b[0m 192ms/step - categorical_accuracy: 0.1331 - loss: 2.3185\n",
            "Epoch 1162/2000\n",
            "\u001b[1m7/7\u001b[0m \u001b[32m━━━━━━━━━━━━━━━━━━━━\u001b[0m\u001b[37m\u001b[0m \u001b[1m1s\u001b[0m 185ms/step - categorical_accuracy: 0.1439 - loss: 2.3434\n",
            "Epoch 1163/2000\n",
            "\u001b[1m7/7\u001b[0m \u001b[32m━━━━━━━━━━━━━━━━━━━━\u001b[0m\u001b[37m\u001b[0m \u001b[1m3s\u001b[0m 199ms/step - categorical_accuracy: 0.1395 - loss: 2.3443\n",
            "Epoch 1164/2000\n",
            "\u001b[1m7/7\u001b[0m \u001b[32m━━━━━━━━━━━━━━━━━━━━\u001b[0m\u001b[37m\u001b[0m \u001b[1m1s\u001b[0m 176ms/step - categorical_accuracy: 0.1036 - loss: 2.3014\n",
            "Epoch 1165/2000\n",
            "\u001b[1m7/7\u001b[0m \u001b[32m━━━━━━━━━━━━━━━━━━━━\u001b[0m\u001b[37m\u001b[0m \u001b[1m2s\u001b[0m 282ms/step - categorical_accuracy: 0.1065 - loss: 2.3042\n",
            "Epoch 1166/2000\n",
            "\u001b[1m7/7\u001b[0m \u001b[32m━━━━━━━━━━━━━━━━━━━━\u001b[0m\u001b[37m\u001b[0m \u001b[1m2s\u001b[0m 296ms/step - categorical_accuracy: 0.1290 - loss: 2.2854\n",
            "Epoch 1167/2000\n",
            "\u001b[1m7/7\u001b[0m \u001b[32m━━━━━━━━━━━━━━━━━━━━\u001b[0m\u001b[37m\u001b[0m \u001b[1m2s\u001b[0m 228ms/step - categorical_accuracy: 0.1297 - loss: 2.2740\n",
            "Epoch 1168/2000\n",
            "\u001b[1m7/7\u001b[0m \u001b[32m━━━━━━━━━━━━━━━━━━━━\u001b[0m\u001b[37m\u001b[0m \u001b[1m2s\u001b[0m 183ms/step - categorical_accuracy: 0.1123 - loss: 2.3167\n",
            "Epoch 1169/2000\n",
            "\u001b[1m7/7\u001b[0m \u001b[32m━━━━━━━━━━━━━━━━━━━━\u001b[0m\u001b[37m\u001b[0m \u001b[1m3s\u001b[0m 181ms/step - categorical_accuracy: 0.1211 - loss: 2.3239\n",
            "Epoch 1170/2000\n",
            "\u001b[1m7/7\u001b[0m \u001b[32m━━━━━━━━━━━━━━━━━━━━\u001b[0m\u001b[37m\u001b[0m \u001b[1m1s\u001b[0m 188ms/step - categorical_accuracy: 0.1227 - loss: 2.3083\n",
            "Epoch 1171/2000\n",
            "\u001b[1m7/7\u001b[0m \u001b[32m━━━━━━━━━━━━━━━━━━━━\u001b[0m\u001b[37m\u001b[0m \u001b[1m3s\u001b[0m 195ms/step - categorical_accuracy: 0.1072 - loss: 2.2804\n",
            "Epoch 1172/2000\n",
            "\u001b[1m7/7\u001b[0m \u001b[32m━━━━━━━━━━━━━━━━━━━━\u001b[0m\u001b[37m\u001b[0m \u001b[1m3s\u001b[0m 312ms/step - categorical_accuracy: 0.1273 - loss: 2.2912\n",
            "Epoch 1173/2000\n",
            "\u001b[1m7/7\u001b[0m \u001b[32m━━━━━━━━━━━━━━━━━━━━\u001b[0m\u001b[37m\u001b[0m \u001b[1m3s\u001b[0m 318ms/step - categorical_accuracy: 0.1370 - loss: 2.3126\n",
            "Epoch 1174/2000\n",
            "\u001b[1m7/7\u001b[0m \u001b[32m━━━━━━━━━━━━━━━━━━━━\u001b[0m\u001b[37m\u001b[0m \u001b[1m2s\u001b[0m 178ms/step - categorical_accuracy: 0.0936 - loss: 2.3389\n",
            "Epoch 1175/2000\n",
            "\u001b[1m7/7\u001b[0m \u001b[32m━━━━━━━━━━━━━━━━━━━━\u001b[0m\u001b[37m\u001b[0m \u001b[1m3s\u001b[0m 182ms/step - categorical_accuracy: 0.1123 - loss: 2.3319\n",
            "Epoch 1176/2000\n",
            "\u001b[1m7/7\u001b[0m \u001b[32m━━━━━━━━━━━━━━━━━━━━\u001b[0m\u001b[37m\u001b[0m \u001b[1m1s\u001b[0m 179ms/step - categorical_accuracy: 0.1575 - loss: 2.2931\n",
            "Epoch 1177/2000\n",
            "\u001b[1m7/7\u001b[0m \u001b[32m━━━━━━━━━━━━━━━━━━━━\u001b[0m\u001b[37m\u001b[0m \u001b[1m3s\u001b[0m 191ms/step - categorical_accuracy: 0.1073 - loss: 2.3186\n",
            "Epoch 1178/2000\n",
            "\u001b[1m7/7\u001b[0m \u001b[32m━━━━━━━━━━━━━━━━━━━━\u001b[0m\u001b[37m\u001b[0m \u001b[1m3s\u001b[0m 213ms/step - categorical_accuracy: 0.1277 - loss: 2.3099\n",
            "Epoch 1179/2000\n",
            "\u001b[1m7/7\u001b[0m \u001b[32m━━━━━━━━━━━━━━━━━━━━\u001b[0m\u001b[37m\u001b[0m \u001b[1m3s\u001b[0m 313ms/step - categorical_accuracy: 0.1243 - loss: 2.2825\n",
            "Epoch 1180/2000\n",
            "\u001b[1m7/7\u001b[0m \u001b[32m━━━━━━━━━━━━━━━━━━━━\u001b[0m\u001b[37m\u001b[0m \u001b[1m2s\u001b[0m 178ms/step - categorical_accuracy: 0.1458 - loss: 2.2960\n",
            "Epoch 1181/2000\n",
            "\u001b[1m7/7\u001b[0m \u001b[32m━━━━━━━━━━━━━━━━━━━━\u001b[0m\u001b[37m\u001b[0m \u001b[1m1s\u001b[0m 181ms/step - categorical_accuracy: 0.1361 - loss: 2.3204\n",
            "Epoch 1182/2000\n",
            "\u001b[1m7/7\u001b[0m \u001b[32m━━━━━━━━━━━━━━━━━━━━\u001b[0m\u001b[37m\u001b[0m \u001b[1m1s\u001b[0m 198ms/step - categorical_accuracy: 0.1701 - loss: 2.2849\n",
            "Epoch 1183/2000\n",
            "\u001b[1m7/7\u001b[0m \u001b[32m━━━━━━━━━━━━━━━━━━━━\u001b[0m\u001b[37m\u001b[0m \u001b[1m3s\u001b[0m 196ms/step - categorical_accuracy: 0.1368 - loss: 2.3267\n",
            "Epoch 1184/2000\n",
            "\u001b[1m7/7\u001b[0m \u001b[32m━━━━━━━━━━━━━━━━━━━━\u001b[0m\u001b[37m\u001b[0m \u001b[1m1s\u001b[0m 186ms/step - categorical_accuracy: 0.1549 - loss: 2.3114\n",
            "Epoch 1185/2000\n",
            "\u001b[1m7/7\u001b[0m \u001b[32m━━━━━━━━━━━━━━━━━━━━\u001b[0m\u001b[37m\u001b[0m \u001b[1m3s\u001b[0m 204ms/step - categorical_accuracy: 0.1070 - loss: 2.3351\n",
            "Epoch 1186/2000\n",
            "\u001b[1m7/7\u001b[0m \u001b[32m━━━━━━━━━━━━━━━━━━━━\u001b[0m\u001b[37m\u001b[0m \u001b[1m2s\u001b[0m 310ms/step - categorical_accuracy: 0.1208 - loss: 2.3054\n",
            "Epoch 1187/2000\n",
            "\u001b[1m7/7\u001b[0m \u001b[32m━━━━━━━━━━━━━━━━━━━━\u001b[0m\u001b[37m\u001b[0m \u001b[1m2s\u001b[0m 304ms/step - categorical_accuracy: 0.1154 - loss: 2.2952\n",
            "Epoch 1188/2000\n",
            "\u001b[1m7/7\u001b[0m \u001b[32m━━━━━━━━━━━━━━━━━━━━\u001b[0m\u001b[37m\u001b[0m \u001b[1m2s\u001b[0m 228ms/step - categorical_accuracy: 0.1327 - loss: 2.3084\n",
            "Epoch 1189/2000\n",
            "\u001b[1m7/7\u001b[0m \u001b[32m━━━━━━━━━━━━━━━━━━━━\u001b[0m\u001b[37m\u001b[0m \u001b[1m2s\u001b[0m 193ms/step - categorical_accuracy: 0.1380 - loss: 2.2986\n",
            "Epoch 1190/2000\n",
            "\u001b[1m7/7\u001b[0m \u001b[32m━━━━━━━━━━━━━━━━━━━━\u001b[0m\u001b[37m\u001b[0m \u001b[1m1s\u001b[0m 191ms/step - categorical_accuracy: 0.1596 - loss: 2.3136\n",
            "Epoch 1191/2000\n",
            "\u001b[1m7/7\u001b[0m \u001b[32m━━━━━━━━━━━━━━━━━━━━\u001b[0m\u001b[37m\u001b[0m \u001b[1m2s\u001b[0m 185ms/step - categorical_accuracy: 0.1416 - loss: 2.2913\n",
            "Epoch 1192/2000\n",
            "\u001b[1m7/7\u001b[0m \u001b[32m━━━━━━━━━━━━━━━━━━━━\u001b[0m\u001b[37m\u001b[0m \u001b[1m1s\u001b[0m 192ms/step - categorical_accuracy: 0.1352 - loss: 2.3006\n",
            "Epoch 1193/2000\n",
            "\u001b[1m7/7\u001b[0m \u001b[32m━━━━━━━━━━━━━━━━━━━━\u001b[0m\u001b[37m\u001b[0m \u001b[1m1s\u001b[0m 193ms/step - categorical_accuracy: 0.1431 - loss: 2.2819\n",
            "Epoch 1194/2000\n",
            "\u001b[1m7/7\u001b[0m \u001b[32m━━━━━━━━━━━━━━━━━━━━\u001b[0m\u001b[37m\u001b[0m \u001b[1m3s\u001b[0m 316ms/step - categorical_accuracy: 0.1216 - loss: 2.2808\n",
            "Epoch 1195/2000\n",
            "\u001b[1m7/7\u001b[0m \u001b[32m━━━━━━━━━━━━━━━━━━━━\u001b[0m\u001b[37m\u001b[0m \u001b[1m2s\u001b[0m 311ms/step - categorical_accuracy: 0.1724 - loss: 2.3014\n",
            "Epoch 1196/2000\n",
            "\u001b[1m7/7\u001b[0m \u001b[32m━━━━━━━━━━━━━━━━━━━━\u001b[0m\u001b[37m\u001b[0m \u001b[1m2s\u001b[0m 225ms/step - categorical_accuracy: 0.1182 - loss: 2.3538\n",
            "Epoch 1197/2000\n",
            "\u001b[1m7/7\u001b[0m \u001b[32m━━━━━━━━━━━━━━━━━━━━\u001b[0m\u001b[37m\u001b[0m \u001b[1m1s\u001b[0m 194ms/step - categorical_accuracy: 0.1404 - loss: 2.2794\n",
            "Epoch 1198/2000\n",
            "\u001b[1m7/7\u001b[0m \u001b[32m━━━━━━━━━━━━━━━━━━━━\u001b[0m\u001b[37m\u001b[0m \u001b[1m1s\u001b[0m 204ms/step - categorical_accuracy: 0.1196 - loss: 2.2850\n",
            "Epoch 1199/2000\n",
            "\u001b[1m7/7\u001b[0m \u001b[32m━━━━━━━━━━━━━━━━━━━━\u001b[0m\u001b[37m\u001b[0m \u001b[1m1s\u001b[0m 196ms/step - categorical_accuracy: 0.1307 - loss: 2.3037\n",
            "Epoch 1200/2000\n",
            "\u001b[1m7/7\u001b[0m \u001b[32m━━━━━━━━━━━━━━━━━━━━\u001b[0m\u001b[37m\u001b[0m \u001b[1m3s\u001b[0m 195ms/step - categorical_accuracy: 0.0897 - loss: 2.3129\n",
            "Epoch 1201/2000\n",
            "\u001b[1m7/7\u001b[0m \u001b[32m━━━━━━━━━━━━━━━━━━━━\u001b[0m\u001b[37m\u001b[0m \u001b[1m3s\u001b[0m 203ms/step - categorical_accuracy: 0.1396 - loss: 2.3126\n",
            "Epoch 1202/2000\n",
            "\u001b[1m7/7\u001b[0m \u001b[32m━━━━━━━━━━━━━━━━━━━━\u001b[0m\u001b[37m\u001b[0m \u001b[1m3s\u001b[0m 312ms/step - categorical_accuracy: 0.1238 - loss: 2.2922\n",
            "Epoch 1203/2000\n",
            "\u001b[1m7/7\u001b[0m \u001b[32m━━━━━━━━━━━━━━━━━━━━\u001b[0m\u001b[37m\u001b[0m \u001b[1m2s\u001b[0m 305ms/step - categorical_accuracy: 0.1287 - loss: 2.2893\n",
            "Epoch 1204/2000\n",
            "\u001b[1m7/7\u001b[0m \u001b[32m━━━━━━━━━━━━━━━━━━━━\u001b[0m\u001b[37m\u001b[0m \u001b[1m1s\u001b[0m 178ms/step - categorical_accuracy: 0.1568 - loss: 2.2869\n",
            "Epoch 1205/2000\n",
            "\u001b[1m7/7\u001b[0m \u001b[32m━━━━━━━━━━━━━━━━━━━━\u001b[0m\u001b[37m\u001b[0m \u001b[1m1s\u001b[0m 186ms/step - categorical_accuracy: 0.1216 - loss: 2.3269\n",
            "Epoch 1206/2000\n",
            "\u001b[1m7/7\u001b[0m \u001b[32m━━━━━━━━━━━━━━━━━━━━\u001b[0m\u001b[37m\u001b[0m \u001b[1m1s\u001b[0m 181ms/step - categorical_accuracy: 0.1417 - loss: 2.2883\n",
            "Epoch 1207/2000\n",
            "\u001b[1m7/7\u001b[0m \u001b[32m━━━━━━━━━━━━━━━━━━━━\u001b[0m\u001b[37m\u001b[0m \u001b[1m1s\u001b[0m 187ms/step - categorical_accuracy: 0.1365 - loss: 2.2980\n",
            "Epoch 1208/2000\n",
            "\u001b[1m7/7\u001b[0m \u001b[32m━━━━━━━━━━━━━━━━━━━━\u001b[0m\u001b[37m\u001b[0m \u001b[1m1s\u001b[0m 178ms/step - categorical_accuracy: 0.1270 - loss: 2.3200\n",
            "Epoch 1209/2000\n",
            "\u001b[1m7/7\u001b[0m \u001b[32m━━━━━━━━━━━━━━━━━━━━\u001b[0m\u001b[37m\u001b[0m \u001b[1m3s\u001b[0m 179ms/step - categorical_accuracy: 0.1362 - loss: 2.3179\n",
            "Epoch 1210/2000\n",
            "\u001b[1m7/7\u001b[0m \u001b[32m━━━━━━━━━━━━━━━━━━━━\u001b[0m\u001b[37m\u001b[0m \u001b[1m2s\u001b[0m 276ms/step - categorical_accuracy: 0.1358 - loss: 2.3014\n",
            "Epoch 1211/2000\n",
            "\u001b[1m7/7\u001b[0m \u001b[32m━━━━━━━━━━━━━━━━━━━━\u001b[0m\u001b[37m\u001b[0m \u001b[1m2s\u001b[0m 317ms/step - categorical_accuracy: 0.1482 - loss: 2.3172\n",
            "Epoch 1212/2000\n",
            "\u001b[1m7/7\u001b[0m \u001b[32m━━━━━━━━━━━━━━━━━━━━\u001b[0m\u001b[37m\u001b[0m \u001b[1m3s\u001b[0m 325ms/step - categorical_accuracy: 0.1220 - loss: 2.3270\n",
            "Epoch 1213/2000\n",
            "\u001b[1m7/7\u001b[0m \u001b[32m━━━━━━━━━━━━━━━━━━━━\u001b[0m\u001b[37m\u001b[0m \u001b[1m2s\u001b[0m 226ms/step - categorical_accuracy: 0.1412 - loss: 2.2751\n",
            "Epoch 1214/2000\n",
            "\u001b[1m7/7\u001b[0m \u001b[32m━━━━━━━━━━━━━━━━━━━━\u001b[0m\u001b[37m\u001b[0m \u001b[1m2s\u001b[0m 185ms/step - categorical_accuracy: 0.1125 - loss: 2.3152\n",
            "Epoch 1215/2000\n",
            "\u001b[1m7/7\u001b[0m \u001b[32m━━━━━━━━━━━━━━━━━━━━\u001b[0m\u001b[37m\u001b[0m \u001b[1m1s\u001b[0m 194ms/step - categorical_accuracy: 0.1568 - loss: 2.3086\n",
            "Epoch 1216/2000\n",
            "\u001b[1m7/7\u001b[0m \u001b[32m━━━━━━━━━━━━━━━━━━━━\u001b[0m\u001b[37m\u001b[0m \u001b[1m1s\u001b[0m 198ms/step - categorical_accuracy: 0.0892 - loss: 2.3019\n",
            "Epoch 1217/2000\n",
            "\u001b[1m7/7\u001b[0m \u001b[32m━━━━━━━━━━━━━━━━━━━━\u001b[0m\u001b[37m\u001b[0m \u001b[1m2s\u001b[0m 192ms/step - categorical_accuracy: 0.1072 - loss: 2.3159\n",
            "Epoch 1218/2000\n",
            "\u001b[1m7/7\u001b[0m \u001b[32m━━━━━━━━━━━━━━━━━━━━\u001b[0m\u001b[37m\u001b[0m \u001b[1m3s\u001b[0m 283ms/step - categorical_accuracy: 0.1645 - loss: 2.2952\n",
            "Epoch 1219/2000\n",
            "\u001b[1m7/7\u001b[0m \u001b[32m━━━━━━━━━━━━━━━━━━━━\u001b[0m\u001b[37m\u001b[0m \u001b[1m3s\u001b[0m 315ms/step - categorical_accuracy: 0.1154 - loss: 2.2885\n",
            "Epoch 1220/2000\n",
            "\u001b[1m7/7\u001b[0m \u001b[32m━━━━━━━━━━━━━━━━━━━━\u001b[0m\u001b[37m\u001b[0m \u001b[1m2s\u001b[0m 299ms/step - categorical_accuracy: 0.1282 - loss: 2.3137\n",
            "Epoch 1221/2000\n",
            "\u001b[1m7/7\u001b[0m \u001b[32m━━━━━━━━━━━━━━━━━━━━\u001b[0m\u001b[37m\u001b[0m \u001b[1m2s\u001b[0m 179ms/step - categorical_accuracy: 0.1268 - loss: 2.2967\n",
            "Epoch 1222/2000\n",
            "\u001b[1m7/7\u001b[0m \u001b[32m━━━━━━━━━━━━━━━━━━━━\u001b[0m\u001b[37m\u001b[0m \u001b[1m1s\u001b[0m 180ms/step - categorical_accuracy: 0.1045 - loss: 2.3297\n",
            "Epoch 1223/2000\n",
            "\u001b[1m7/7\u001b[0m \u001b[32m━━━━━━━━━━━━━━━━━━━━\u001b[0m\u001b[37m\u001b[0m \u001b[1m3s\u001b[0m 193ms/step - categorical_accuracy: 0.1344 - loss: 2.2784\n",
            "Epoch 1224/2000\n",
            "\u001b[1m7/7\u001b[0m \u001b[32m━━━━━━━━━━━━━━━━━━━━\u001b[0m\u001b[37m\u001b[0m \u001b[1m2s\u001b[0m 184ms/step - categorical_accuracy: 0.1536 - loss: 2.2641\n",
            "Epoch 1225/2000\n",
            "\u001b[1m7/7\u001b[0m \u001b[32m━━━━━━━━━━━━━━━━━━━━\u001b[0m\u001b[37m\u001b[0m \u001b[1m1s\u001b[0m 194ms/step - categorical_accuracy: 0.1380 - loss: 2.3077\n",
            "Epoch 1226/2000\n",
            "\u001b[1m7/7\u001b[0m \u001b[32m━━━━━━━━━━━━━━━━━━━━\u001b[0m\u001b[37m\u001b[0m \u001b[1m3s\u001b[0m 317ms/step - categorical_accuracy: 0.1324 - loss: 2.3104\n",
            "Epoch 1227/2000\n",
            "\u001b[1m7/7\u001b[0m \u001b[32m━━━━━━━━━━━━━━━━━━━━\u001b[0m\u001b[37m\u001b[0m \u001b[1m2s\u001b[0m 320ms/step - categorical_accuracy: 0.1139 - loss: 2.3272\n",
            "Epoch 1228/2000\n",
            "\u001b[1m7/7\u001b[0m \u001b[32m━━━━━━━━━━━━━━━━━━━━\u001b[0m\u001b[37m\u001b[0m \u001b[1m2s\u001b[0m 194ms/step - categorical_accuracy: 0.1303 - loss: 2.2834\n",
            "Epoch 1229/2000\n",
            "\u001b[1m7/7\u001b[0m \u001b[32m━━━━━━━━━━━━━━━━━━━━\u001b[0m\u001b[37m\u001b[0m \u001b[1m1s\u001b[0m 193ms/step - categorical_accuracy: 0.1298 - loss: 2.3313\n",
            "Epoch 1230/2000\n",
            "\u001b[1m7/7\u001b[0m \u001b[32m━━━━━━━━━━━━━━━━━━━━\u001b[0m\u001b[37m\u001b[0m \u001b[1m1s\u001b[0m 193ms/step - categorical_accuracy: 0.1283 - loss: 2.3003\n",
            "Epoch 1231/2000\n",
            "\u001b[1m7/7\u001b[0m \u001b[32m━━━━━━━━━━━━━━━━━━━━\u001b[0m\u001b[37m\u001b[0m \u001b[1m1s\u001b[0m 196ms/step - categorical_accuracy: 0.1540 - loss: 2.2891\n",
            "Epoch 1232/2000\n",
            "\u001b[1m7/7\u001b[0m \u001b[32m━━━━━━━━━━━━━━━━━━━━\u001b[0m\u001b[37m\u001b[0m \u001b[1m1s\u001b[0m 180ms/step - categorical_accuracy: 0.1224 - loss: 2.3444\n",
            "Epoch 1233/2000\n",
            "\u001b[1m7/7\u001b[0m \u001b[32m━━━━━━━━━━━━━━━━━━━━\u001b[0m\u001b[37m\u001b[0m \u001b[1m3s\u001b[0m 187ms/step - categorical_accuracy: 0.1083 - loss: 2.3238\n",
            "Epoch 1234/2000\n",
            "\u001b[1m7/7\u001b[0m \u001b[32m━━━━━━━━━━━━━━━━━━━━\u001b[0m\u001b[37m\u001b[0m \u001b[1m3s\u001b[0m 290ms/step - categorical_accuracy: 0.1660 - loss: 2.2972\n",
            "Epoch 1235/2000\n",
            "\u001b[1m7/7\u001b[0m \u001b[32m━━━━━━━━━━━━━━━━━━━━\u001b[0m\u001b[37m\u001b[0m \u001b[1m3s\u001b[0m 307ms/step - categorical_accuracy: 0.1413 - loss: 2.2846\n",
            "Epoch 1236/2000\n",
            "\u001b[1m7/7\u001b[0m \u001b[32m━━━━━━━━━━━━━━━━━━━━\u001b[0m\u001b[37m\u001b[0m \u001b[1m2s\u001b[0m 179ms/step - categorical_accuracy: 0.1324 - loss: 2.2957\n",
            "Epoch 1237/2000\n",
            "\u001b[1m7/7\u001b[0m \u001b[32m━━━━━━━━━━━━━━━━━━━━\u001b[0m\u001b[37m\u001b[0m \u001b[1m3s\u001b[0m 179ms/step - categorical_accuracy: 0.1595 - loss: 2.2966\n",
            "Epoch 1238/2000\n",
            "\u001b[1m7/7\u001b[0m \u001b[32m━━━━━━━━━━━━━━━━━━━━\u001b[0m\u001b[37m\u001b[0m \u001b[1m3s\u001b[0m 179ms/step - categorical_accuracy: 0.1330 - loss: 2.3373\n",
            "Epoch 1239/2000\n",
            "\u001b[1m7/7\u001b[0m \u001b[32m━━━━━━━━━━━━━━━━━━━━\u001b[0m\u001b[37m\u001b[0m \u001b[1m1s\u001b[0m 176ms/step - categorical_accuracy: 0.1960 - loss: 2.2678\n",
            "Epoch 1240/2000\n",
            "\u001b[1m7/7\u001b[0m \u001b[32m━━━━━━━━━━━━━━━━━━━━\u001b[0m\u001b[37m\u001b[0m \u001b[1m3s\u001b[0m 240ms/step - categorical_accuracy: 0.0998 - loss: 2.3036\n",
            "Epoch 1241/2000\n",
            "\u001b[1m7/7\u001b[0m \u001b[32m━━━━━━━━━━━━━━━━━━━━\u001b[0m\u001b[37m\u001b[0m \u001b[1m3s\u001b[0m 307ms/step - categorical_accuracy: 0.1011 - loss: 2.3027\n",
            "Epoch 1242/2000\n",
            "\u001b[1m7/7\u001b[0m \u001b[32m━━━━━━━━━━━━━━━━━━━━\u001b[0m\u001b[37m\u001b[0m \u001b[1m2s\u001b[0m 221ms/step - categorical_accuracy: 0.1376 - loss: 2.2645\n",
            "Epoch 1243/2000\n",
            "\u001b[1m7/7\u001b[0m \u001b[32m━━━━━━━━━━━━━━━━━━━━\u001b[0m\u001b[37m\u001b[0m \u001b[1m2s\u001b[0m 191ms/step - categorical_accuracy: 0.1249 - loss: 2.3023\n",
            "Epoch 1244/2000\n",
            "\u001b[1m7/7\u001b[0m \u001b[32m━━━━━━━━━━━━━━━━━━━━\u001b[0m\u001b[37m\u001b[0m \u001b[1m2s\u001b[0m 187ms/step - categorical_accuracy: 0.1297 - loss: 2.3275\n",
            "Epoch 1245/2000\n",
            "\u001b[1m7/7\u001b[0m \u001b[32m━━━━━━━━━━━━━━━━━━━━\u001b[0m\u001b[37m\u001b[0m \u001b[1m1s\u001b[0m 196ms/step - categorical_accuracy: 0.1004 - loss: 2.2969\n",
            "Epoch 1246/2000\n",
            "\u001b[1m7/7\u001b[0m \u001b[32m━━━━━━━━━━━━━━━━━━━━\u001b[0m\u001b[37m\u001b[0m \u001b[1m1s\u001b[0m 180ms/step - categorical_accuracy: 0.1303 - loss: 2.3291\n",
            "Epoch 1247/2000\n",
            "\u001b[1m7/7\u001b[0m \u001b[32m━━━━━━━━━━━━━━━━━━━━\u001b[0m\u001b[37m\u001b[0m \u001b[1m1s\u001b[0m 181ms/step - categorical_accuracy: 0.1313 - loss: 2.3123\n",
            "Epoch 1248/2000\n",
            "\u001b[1m7/7\u001b[0m \u001b[32m━━━━━━━━━━━━━━━━━━━━\u001b[0m\u001b[37m\u001b[0m \u001b[1m2s\u001b[0m 272ms/step - categorical_accuracy: 0.1008 - loss: 2.3015\n",
            "Epoch 1249/2000\n",
            "\u001b[1m7/7\u001b[0m \u001b[32m━━━━━━━━━━━━━━━━━━━━\u001b[0m\u001b[37m\u001b[0m \u001b[1m3s\u001b[0m 286ms/step - categorical_accuracy: 0.1544 - loss: 2.3051\n",
            "Epoch 1250/2000\n",
            "\u001b[1m7/7\u001b[0m \u001b[32m━━━━━━━━━━━━━━━━━━━━\u001b[0m\u001b[37m\u001b[0m \u001b[1m2s\u001b[0m 236ms/step - categorical_accuracy: 0.1072 - loss: 2.3006\n",
            "Epoch 1251/2000\n",
            "\u001b[1m7/7\u001b[0m \u001b[32m━━━━━━━━━━━━━━━━━━━━\u001b[0m\u001b[37m\u001b[0m \u001b[1m2s\u001b[0m 182ms/step - categorical_accuracy: 0.1408 - loss: 2.3021\n",
            "Epoch 1252/2000\n",
            "\u001b[1m7/7\u001b[0m \u001b[32m━━━━━━━━━━━━━━━━━━━━\u001b[0m\u001b[37m\u001b[0m \u001b[1m1s\u001b[0m 180ms/step - categorical_accuracy: 0.1288 - loss: 2.2926\n",
            "Epoch 1253/2000\n",
            "\u001b[1m7/7\u001b[0m \u001b[32m━━━━━━━━━━━━━━━━━━━━\u001b[0m\u001b[37m\u001b[0m \u001b[1m1s\u001b[0m 176ms/step - categorical_accuracy: 0.1704 - loss: 2.2734\n",
            "Epoch 1254/2000\n",
            "\u001b[1m7/7\u001b[0m \u001b[32m━━━━━━━━━━━━━━━━━━━━\u001b[0m\u001b[37m\u001b[0m \u001b[1m1s\u001b[0m 179ms/step - categorical_accuracy: 0.1235 - loss: 2.3015\n",
            "Epoch 1255/2000\n",
            "\u001b[1m7/7\u001b[0m \u001b[32m━━━━━━━━━━━━━━━━━━━━\u001b[0m\u001b[37m\u001b[0m \u001b[1m1s\u001b[0m 180ms/step - categorical_accuracy: 0.1219 - loss: 2.2758\n",
            "Epoch 1256/2000\n",
            "\u001b[1m7/7\u001b[0m \u001b[32m━━━━━━━━━━━━━━━━━━━━\u001b[0m\u001b[37m\u001b[0m \u001b[1m1s\u001b[0m 181ms/step - categorical_accuracy: 0.1131 - loss: 2.3057\n",
            "Epoch 1257/2000\n",
            "\u001b[1m7/7\u001b[0m \u001b[32m━━━━━━━━━━━━━━━━━━━━\u001b[0m\u001b[37m\u001b[0m \u001b[1m3s\u001b[0m 300ms/step - categorical_accuracy: 0.1189 - loss: 2.3212\n",
            "Epoch 1258/2000\n",
            "\u001b[1m7/7\u001b[0m \u001b[32m━━━━━━━━━━━━━━━━━━━━\u001b[0m\u001b[37m\u001b[0m \u001b[1m2s\u001b[0m 329ms/step - categorical_accuracy: 0.1436 - loss: 2.2932\n",
            "Epoch 1259/2000\n",
            "\u001b[1m7/7\u001b[0m \u001b[32m━━━━━━━━━━━━━━━━━━━━\u001b[0m\u001b[37m\u001b[0m \u001b[1m2s\u001b[0m 203ms/step - categorical_accuracy: 0.1682 - loss: 2.3001\n",
            "Epoch 1260/2000\n",
            "\u001b[1m7/7\u001b[0m \u001b[32m━━━━━━━━━━━━━━━━━━━━\u001b[0m\u001b[37m\u001b[0m \u001b[1m2s\u001b[0m 194ms/step - categorical_accuracy: 0.1631 - loss: 2.2931\n",
            "Epoch 1261/2000\n",
            "\u001b[1m7/7\u001b[0m \u001b[32m━━━━━━━━━━━━━━━━━━━━\u001b[0m\u001b[37m\u001b[0m \u001b[1m3s\u001b[0m 193ms/step - categorical_accuracy: 0.1397 - loss: 2.3157\n",
            "Epoch 1262/2000\n",
            "\u001b[1m7/7\u001b[0m \u001b[32m━━━━━━━━━━━━━━━━━━━━\u001b[0m\u001b[37m\u001b[0m \u001b[1m3s\u001b[0m 198ms/step - categorical_accuracy: 0.1687 - loss: 2.2789\n",
            "Epoch 1263/2000\n",
            "\u001b[1m7/7\u001b[0m \u001b[32m━━━━━━━━━━━━━━━━━━━━\u001b[0m\u001b[37m\u001b[0m \u001b[1m3s\u001b[0m 275ms/step - categorical_accuracy: 0.1498 - loss: 2.2926\n",
            "Epoch 1264/2000\n",
            "\u001b[1m7/7\u001b[0m \u001b[32m━━━━━━━━━━━━━━━━━━━━\u001b[0m\u001b[37m\u001b[0m \u001b[1m3s\u001b[0m 301ms/step - categorical_accuracy: 0.1041 - loss: 2.3412\n",
            "Epoch 1265/2000\n",
            "\u001b[1m7/7\u001b[0m \u001b[32m━━━━━━━━━━━━━━━━━━━━\u001b[0m\u001b[37m\u001b[0m \u001b[1m2s\u001b[0m 270ms/step - categorical_accuracy: 0.1100 - loss: 2.2912\n",
            "Epoch 1266/2000\n",
            "\u001b[1m7/7\u001b[0m \u001b[32m━━━━━━━━━━━━━━━━━━━━\u001b[0m\u001b[37m\u001b[0m \u001b[1m1s\u001b[0m 179ms/step - categorical_accuracy: 0.1471 - loss: 2.2978\n",
            "Epoch 1267/2000\n",
            "\u001b[1m7/7\u001b[0m \u001b[32m━━━━━━━━━━━━━━━━━━━━\u001b[0m\u001b[37m\u001b[0m \u001b[1m3s\u001b[0m 179ms/step - categorical_accuracy: 0.1314 - loss: 2.3057\n",
            "Epoch 1268/2000\n",
            "\u001b[1m7/7\u001b[0m \u001b[32m━━━━━━━━━━━━━━━━━━━━\u001b[0m\u001b[37m\u001b[0m \u001b[1m3s\u001b[0m 178ms/step - categorical_accuracy: 0.1205 - loss: 2.3083\n",
            "Epoch 1269/2000\n",
            "\u001b[1m7/7\u001b[0m \u001b[32m━━━━━━━━━━━━━━━━━━━━\u001b[0m\u001b[37m\u001b[0m \u001b[1m1s\u001b[0m 182ms/step - categorical_accuracy: 0.1304 - loss: 2.3179\n",
            "Epoch 1270/2000\n",
            "\u001b[1m7/7\u001b[0m \u001b[32m━━━━━━━━━━━━━━━━━━━━\u001b[0m\u001b[37m\u001b[0m \u001b[1m3s\u001b[0m 250ms/step - categorical_accuracy: 0.1406 - loss: 2.2963\n",
            "Epoch 1271/2000\n",
            "\u001b[1m7/7\u001b[0m \u001b[32m━━━━━━━━━━━━━━━━━━━━\u001b[0m\u001b[37m\u001b[0m \u001b[1m3s\u001b[0m 328ms/step - categorical_accuracy: 0.1363 - loss: 2.3023\n",
            "Epoch 1272/2000\n",
            "\u001b[1m7/7\u001b[0m \u001b[32m━━━━━━━━━━━━━━━━━━━━\u001b[0m\u001b[37m\u001b[0m \u001b[1m2s\u001b[0m 216ms/step - categorical_accuracy: 0.1421 - loss: 2.2786\n",
            "Epoch 1273/2000\n",
            "\u001b[1m7/7\u001b[0m \u001b[32m━━━━━━━━━━━━━━━━━━━━\u001b[0m\u001b[37m\u001b[0m \u001b[1m2s\u001b[0m 184ms/step - categorical_accuracy: 0.1305 - loss: 2.3075\n",
            "Epoch 1274/2000\n",
            "\u001b[1m7/7\u001b[0m \u001b[32m━━━━━━━━━━━━━━━━━━━━\u001b[0m\u001b[37m\u001b[0m \u001b[1m3s\u001b[0m 200ms/step - categorical_accuracy: 0.1350 - loss: 2.3012\n",
            "Epoch 1275/2000\n",
            "\u001b[1m7/7\u001b[0m \u001b[32m━━━━━━━━━━━━━━━━━━━━\u001b[0m\u001b[37m\u001b[0m \u001b[1m1s\u001b[0m 183ms/step - categorical_accuracy: 0.1389 - loss: 2.2885\n",
            "Epoch 1276/2000\n",
            "\u001b[1m7/7\u001b[0m \u001b[32m━━━━━━━━━━━━━━━━━━━━\u001b[0m\u001b[37m\u001b[0m \u001b[1m3s\u001b[0m 188ms/step - categorical_accuracy: 0.1258 - loss: 2.2707\n",
            "Epoch 1277/2000\n",
            "\u001b[1m7/7\u001b[0m \u001b[32m━━━━━━━━━━━━━━━━━━━━\u001b[0m\u001b[37m\u001b[0m \u001b[1m2s\u001b[0m 303ms/step - categorical_accuracy: 0.1172 - loss: 2.3243\n",
            "Epoch 1278/2000\n",
            "\u001b[1m7/7\u001b[0m \u001b[32m━━━━━━━━━━━━━━━━━━━━\u001b[0m\u001b[37m\u001b[0m \u001b[1m2s\u001b[0m 321ms/step - categorical_accuracy: 0.1084 - loss: 2.2865\n",
            "Epoch 1279/2000\n",
            "\u001b[1m7/7\u001b[0m \u001b[32m━━━━━━━━━━━━━━━━━━━━\u001b[0m\u001b[37m\u001b[0m \u001b[1m2s\u001b[0m 320ms/step - categorical_accuracy: 0.1145 - loss: 2.2871\n",
            "Epoch 1280/2000\n",
            "\u001b[1m7/7\u001b[0m \u001b[32m━━━━━━━━━━━━━━━━━━━━\u001b[0m\u001b[37m\u001b[0m \u001b[1m2s\u001b[0m 207ms/step - categorical_accuracy: 0.1311 - loss: 2.3082\n",
            "Epoch 1281/2000\n",
            "\u001b[1m7/7\u001b[0m \u001b[32m━━━━━━━━━━━━━━━━━━━━\u001b[0m\u001b[37m\u001b[0m \u001b[1m2s\u001b[0m 187ms/step - categorical_accuracy: 0.1461 - loss: 2.3176\n",
            "Epoch 1282/2000\n",
            "\u001b[1m7/7\u001b[0m \u001b[32m━━━━━━━━━━━━━━━━━━━━\u001b[0m\u001b[37m\u001b[0m \u001b[1m3s\u001b[0m 190ms/step - categorical_accuracy: 0.1687 - loss: 2.2968\n",
            "Epoch 1283/2000\n",
            "\u001b[1m7/7\u001b[0m \u001b[32m━━━━━━━━━━━━━━━━━━━━\u001b[0m\u001b[37m\u001b[0m \u001b[1m1s\u001b[0m 190ms/step - categorical_accuracy: 0.1300 - loss: 2.2696\n",
            "Epoch 1284/2000\n",
            "\u001b[1m7/7\u001b[0m \u001b[32m━━━━━━━━━━━━━━━━━━━━\u001b[0m\u001b[37m\u001b[0m \u001b[1m3s\u001b[0m 201ms/step - categorical_accuracy: 0.1316 - loss: 2.2597\n",
            "Epoch 1285/2000\n",
            "\u001b[1m7/7\u001b[0m \u001b[32m━━━━━━━━━━━━━━━━━━━━\u001b[0m\u001b[37m\u001b[0m \u001b[1m3s\u001b[0m 309ms/step - categorical_accuracy: 0.1464 - loss: 2.3066\n",
            "Epoch 1286/2000\n",
            "\u001b[1m7/7\u001b[0m \u001b[32m━━━━━━━━━━━━━━━━━━━━\u001b[0m\u001b[37m\u001b[0m \u001b[1m2s\u001b[0m 264ms/step - categorical_accuracy: 0.1490 - loss: 2.2752\n",
            "Epoch 1287/2000\n",
            "\u001b[1m7/7\u001b[0m \u001b[32m━━━━━━━━━━━━━━━━━━━━\u001b[0m\u001b[37m\u001b[0m \u001b[1m1s\u001b[0m 182ms/step - categorical_accuracy: 0.1369 - loss: 2.2980\n",
            "Epoch 1288/2000\n",
            "\u001b[1m7/7\u001b[0m \u001b[32m━━━━━━━━━━━━━━━━━━━━\u001b[0m\u001b[37m\u001b[0m \u001b[1m3s\u001b[0m 194ms/step - categorical_accuracy: 0.1175 - loss: 2.2941\n",
            "Epoch 1289/2000\n",
            "\u001b[1m7/7\u001b[0m \u001b[32m━━━━━━━━━━━━━━━━━━━━\u001b[0m\u001b[37m\u001b[0m \u001b[1m2s\u001b[0m 181ms/step - categorical_accuracy: 0.1372 - loss: 2.2941\n",
            "Epoch 1290/2000\n",
            "\u001b[1m7/7\u001b[0m \u001b[32m━━━━━━━━━━━━━━━━━━━━\u001b[0m\u001b[37m\u001b[0m \u001b[1m3s\u001b[0m 186ms/step - categorical_accuracy: 0.1365 - loss: 2.2944\n",
            "Epoch 1291/2000\n",
            "\u001b[1m7/7\u001b[0m \u001b[32m━━━━━━━━━━━━━━━━━━━━\u001b[0m\u001b[37m\u001b[0m \u001b[1m2s\u001b[0m 261ms/step - categorical_accuracy: 0.1389 - loss: 2.3262\n",
            "Epoch 1292/2000\n",
            "\u001b[1m7/7\u001b[0m \u001b[32m━━━━━━━━━━━━━━━━━━━━\u001b[0m\u001b[37m\u001b[0m \u001b[1m2s\u001b[0m 296ms/step - categorical_accuracy: 0.1555 - loss: 2.2776\n",
            "Epoch 1293/2000\n",
            "\u001b[1m7/7\u001b[0m \u001b[32m━━━━━━━━━━━━━━━━━━━━\u001b[0m\u001b[37m\u001b[0m \u001b[1m2s\u001b[0m 298ms/step - categorical_accuracy: 0.1284 - loss: 2.2946\n",
            "Epoch 1294/2000\n",
            "\u001b[1m7/7\u001b[0m \u001b[32m━━━━━━━━━━━━━━━━━━━━\u001b[0m\u001b[37m\u001b[0m \u001b[1m2s\u001b[0m 194ms/step - categorical_accuracy: 0.1370 - loss: 2.2799\n",
            "Epoch 1295/2000\n",
            "\u001b[1m7/7\u001b[0m \u001b[32m━━━━━━━━━━━━━━━━━━━━\u001b[0m\u001b[37m\u001b[0m \u001b[1m1s\u001b[0m 184ms/step - categorical_accuracy: 0.1490 - loss: 2.2847\n",
            "Epoch 1296/2000\n",
            "\u001b[1m7/7\u001b[0m \u001b[32m━━━━━━━━━━━━━━━━━━━━\u001b[0m\u001b[37m\u001b[0m \u001b[1m3s\u001b[0m 196ms/step - categorical_accuracy: 0.1391 - loss: 2.3392\n",
            "Epoch 1297/2000\n",
            "\u001b[1m7/7\u001b[0m \u001b[32m━━━━━━━━━━━━━━━━━━━━\u001b[0m\u001b[37m\u001b[0m \u001b[1m2s\u001b[0m 181ms/step - categorical_accuracy: 0.1364 - loss: 2.3238\n",
            "Epoch 1298/2000\n",
            "\u001b[1m7/7\u001b[0m \u001b[32m━━━━━━━━━━━━━━━━━━━━\u001b[0m\u001b[37m\u001b[0m \u001b[1m3s\u001b[0m 214ms/step - categorical_accuracy: 0.1350 - loss: 2.3081\n",
            "Epoch 1299/2000\n",
            "\u001b[1m7/7\u001b[0m \u001b[32m━━━━━━━━━━━━━━━━━━━━\u001b[0m\u001b[37m\u001b[0m \u001b[1m2s\u001b[0m 291ms/step - categorical_accuracy: 0.1354 - loss: 2.3183\n",
            "Epoch 1300/2000\n",
            "\u001b[1m7/7\u001b[0m \u001b[32m━━━━━━━━━━━━━━━━━━━━\u001b[0m\u001b[37m\u001b[0m \u001b[1m3s\u001b[0m 295ms/step - categorical_accuracy: 0.1484 - loss: 2.2990\n",
            "Epoch 1301/2000\n",
            "\u001b[1m7/7\u001b[0m \u001b[32m━━━━━━━━━━━━━━━━━━━━\u001b[0m\u001b[37m\u001b[0m \u001b[1m2s\u001b[0m 184ms/step - categorical_accuracy: 0.1296 - loss: 2.3022\n",
            "Epoch 1302/2000\n",
            "\u001b[1m7/7\u001b[0m \u001b[32m━━━━━━━━━━━━━━━━━━━━\u001b[0m\u001b[37m\u001b[0m \u001b[1m1s\u001b[0m 193ms/step - categorical_accuracy: 0.1405 - loss: 2.3323\n",
            "Epoch 1303/2000\n",
            "\u001b[1m7/7\u001b[0m \u001b[32m━━━━━━━━━━━━━━━━━━━━\u001b[0m\u001b[37m\u001b[0m \u001b[1m2s\u001b[0m 177ms/step - categorical_accuracy: 0.1221 - loss: 2.3608\n",
            "Epoch 1304/2000\n",
            "\u001b[1m7/7\u001b[0m \u001b[32m━━━━━━━━━━━━━━━━━━━━\u001b[0m\u001b[37m\u001b[0m \u001b[1m3s\u001b[0m 181ms/step - categorical_accuracy: 0.1143 - loss: 2.3199\n",
            "Epoch 1305/2000\n",
            "\u001b[1m7/7\u001b[0m \u001b[32m━━━━━━━━━━━━━━━━━━━━\u001b[0m\u001b[37m\u001b[0m \u001b[1m3s\u001b[0m 200ms/step - categorical_accuracy: 0.1531 - loss: 2.2780\n",
            "Epoch 1306/2000\n",
            "\u001b[1m7/7\u001b[0m \u001b[32m━━━━━━━━━━━━━━━━━━━━\u001b[0m\u001b[37m\u001b[0m \u001b[1m2s\u001b[0m 291ms/step - categorical_accuracy: 0.1127 - loss: 2.3080\n",
            "Epoch 1307/2000\n",
            "\u001b[1m7/7\u001b[0m \u001b[32m━━━━━━━━━━━━━━━━━━━━\u001b[0m\u001b[37m\u001b[0m \u001b[1m3s\u001b[0m 307ms/step - categorical_accuracy: 0.1351 - loss: 2.2864\n",
            "Epoch 1308/2000\n",
            "\u001b[1m7/7\u001b[0m \u001b[32m━━━━━━━━━━━━━━━━━━━━\u001b[0m\u001b[37m\u001b[0m \u001b[1m2s\u001b[0m 185ms/step - categorical_accuracy: 0.1329 - loss: 2.3160\n",
            "Epoch 1309/2000\n",
            "\u001b[1m7/7\u001b[0m \u001b[32m━━━━━━━━━━━━━━━━━━━━\u001b[0m\u001b[37m\u001b[0m \u001b[1m1s\u001b[0m 186ms/step - categorical_accuracy: 0.1299 - loss: 2.3388\n",
            "Epoch 1310/2000\n",
            "\u001b[1m7/7\u001b[0m \u001b[32m━━━━━━━━━━━━━━━━━━━━\u001b[0m\u001b[37m\u001b[0m \u001b[1m3s\u001b[0m 197ms/step - categorical_accuracy: 0.1428 - loss: 2.3255\n",
            "Epoch 1311/2000\n",
            "\u001b[1m7/7\u001b[0m \u001b[32m━━━━━━━━━━━━━━━━━━━━\u001b[0m\u001b[37m\u001b[0m \u001b[1m3s\u001b[0m 200ms/step - categorical_accuracy: 0.1182 - loss: 2.3110\n",
            "Epoch 1312/2000\n",
            "\u001b[1m7/7\u001b[0m \u001b[32m━━━━━━━━━━━━━━━━━━━━\u001b[0m\u001b[37m\u001b[0m \u001b[1m1s\u001b[0m 196ms/step - categorical_accuracy: 0.0965 - loss: 2.3034\n",
            "Epoch 1313/2000\n",
            "\u001b[1m7/7\u001b[0m \u001b[32m━━━━━━━━━━━━━━━━━━━━\u001b[0m\u001b[37m\u001b[0m \u001b[1m2s\u001b[0m 282ms/step - categorical_accuracy: 0.1195 - loss: 2.3088\n",
            "Epoch 1314/2000\n",
            "\u001b[1m7/7\u001b[0m \u001b[32m━━━━━━━━━━━━━━━━━━━━\u001b[0m\u001b[37m\u001b[0m \u001b[1m3s\u001b[0m 321ms/step - categorical_accuracy: 0.1509 - loss: 2.3272\n",
            "Epoch 1315/2000\n",
            "\u001b[1m7/7\u001b[0m \u001b[32m━━━━━━━━━━━━━━━━━━━━\u001b[0m\u001b[37m\u001b[0m \u001b[1m2s\u001b[0m 273ms/step - categorical_accuracy: 0.1093 - loss: 2.3061\n",
            "Epoch 1316/2000\n",
            "\u001b[1m7/7\u001b[0m \u001b[32m━━━━━━━━━━━━━━━━━━━━\u001b[0m\u001b[37m\u001b[0m \u001b[1m2s\u001b[0m 197ms/step - categorical_accuracy: 0.1212 - loss: 2.2922\n",
            "Epoch 1317/2000\n",
            "\u001b[1m7/7\u001b[0m \u001b[32m━━━━━━━━━━━━━━━━━━━━\u001b[0m\u001b[37m\u001b[0m \u001b[1m2s\u001b[0m 178ms/step - categorical_accuracy: 0.1215 - loss: 2.3251\n",
            "Epoch 1318/2000\n",
            "\u001b[1m7/7\u001b[0m \u001b[32m━━━━━━━━━━━━━━━━━━━━\u001b[0m\u001b[37m\u001b[0m \u001b[1m1s\u001b[0m 180ms/step - categorical_accuracy: 0.1436 - loss: 2.3186\n",
            "Epoch 1319/2000\n",
            "\u001b[1m7/7\u001b[0m \u001b[32m━━━━━━━━━━━━━━━━━━━━\u001b[0m\u001b[37m\u001b[0m \u001b[1m3s\u001b[0m 181ms/step - categorical_accuracy: 0.1222 - loss: 2.2763\n",
            "Epoch 1320/2000\n",
            "\u001b[1m7/7\u001b[0m \u001b[32m━━━━━━━━━━━━━━━━━━━━\u001b[0m\u001b[37m\u001b[0m \u001b[1m3s\u001b[0m 317ms/step - categorical_accuracy: 0.1308 - loss: 2.3229\n",
            "Epoch 1321/2000\n",
            "\u001b[1m7/7\u001b[0m \u001b[32m━━━━━━━━━━━━━━━━━━━━\u001b[0m\u001b[37m\u001b[0m \u001b[1m3s\u001b[0m 331ms/step - categorical_accuracy: 0.1344 - loss: 2.3010\n",
            "Epoch 1322/2000\n",
            "\u001b[1m7/7\u001b[0m \u001b[32m━━━━━━━━━━━━━━━━━━━━\u001b[0m\u001b[37m\u001b[0m \u001b[1m2s\u001b[0m 263ms/step - categorical_accuracy: 0.0990 - loss: 2.3292\n",
            "Epoch 1323/2000\n",
            "\u001b[1m7/7\u001b[0m \u001b[32m━━━━━━━━━━━━━━━━━━━━\u001b[0m\u001b[37m\u001b[0m \u001b[1m2s\u001b[0m 199ms/step - categorical_accuracy: 0.1325 - loss: 2.2967\n",
            "Epoch 1324/2000\n",
            "\u001b[1m7/7\u001b[0m \u001b[32m━━━━━━━━━━━━━━━━━━━━\u001b[0m\u001b[37m\u001b[0m \u001b[1m2s\u001b[0m 184ms/step - categorical_accuracy: 0.1331 - loss: 2.2830\n",
            "Epoch 1325/2000\n",
            "\u001b[1m7/7\u001b[0m \u001b[32m━━━━━━━━━━━━━━━━━━━━\u001b[0m\u001b[37m\u001b[0m \u001b[1m1s\u001b[0m 202ms/step - categorical_accuracy: 0.1164 - loss: 2.3050\n",
            "Epoch 1326/2000\n",
            "\u001b[1m7/7\u001b[0m \u001b[32m━━━━━━━━━━━━━━━━━━━━\u001b[0m\u001b[37m\u001b[0m \u001b[1m2s\u001b[0m 185ms/step - categorical_accuracy: 0.1666 - loss: 2.3019\n",
            "Epoch 1327/2000\n",
            "\u001b[1m7/7\u001b[0m \u001b[32m━━━━━━━━━━━━━━━━━━━━\u001b[0m\u001b[37m\u001b[0m \u001b[1m3s\u001b[0m 317ms/step - categorical_accuracy: 0.1324 - loss: 2.3037\n",
            "Epoch 1328/2000\n",
            "\u001b[1m7/7\u001b[0m \u001b[32m━━━━━━━━━━━━━━━━━━━━\u001b[0m\u001b[37m\u001b[0m \u001b[1m3s\u001b[0m 326ms/step - categorical_accuracy: 0.1445 - loss: 2.2711\n",
            "Epoch 1329/2000\n",
            "\u001b[1m7/7\u001b[0m \u001b[32m━━━━━━━━━━━━━━━━━━━━\u001b[0m\u001b[37m\u001b[0m \u001b[1m2s\u001b[0m 209ms/step - categorical_accuracy: 0.1467 - loss: 2.3197\n",
            "Epoch 1330/2000\n",
            "\u001b[1m7/7\u001b[0m \u001b[32m━━━━━━━━━━━━━━━━━━━━\u001b[0m\u001b[37m\u001b[0m \u001b[1m2s\u001b[0m 194ms/step - categorical_accuracy: 0.1292 - loss: 2.3285\n",
            "Epoch 1331/2000\n",
            "\u001b[1m7/7\u001b[0m \u001b[32m━━━━━━━━━━━━━━━━━━━━\u001b[0m\u001b[37m\u001b[0m \u001b[1m3s\u001b[0m 190ms/step - categorical_accuracy: 0.1242 - loss: 2.2990\n",
            "Epoch 1332/2000\n",
            "\u001b[1m7/7\u001b[0m \u001b[32m━━━━━━━━━━━━━━━━━━━━\u001b[0m\u001b[37m\u001b[0m \u001b[1m2s\u001b[0m 181ms/step - categorical_accuracy: 0.1185 - loss: 2.3089\n",
            "Epoch 1333/2000\n",
            "\u001b[1m7/7\u001b[0m \u001b[32m━━━━━━━━━━━━━━━━━━━━\u001b[0m\u001b[37m\u001b[0m \u001b[1m3s\u001b[0m 261ms/step - categorical_accuracy: 0.1184 - loss: 2.3128\n",
            "Epoch 1334/2000\n",
            "\u001b[1m7/7\u001b[0m \u001b[32m━━━━━━━━━━━━━━━━━━━━\u001b[0m\u001b[37m\u001b[0m \u001b[1m3s\u001b[0m 304ms/step - categorical_accuracy: 0.1471 - loss: 2.2916\n",
            "Epoch 1335/2000\n",
            "\u001b[1m7/7\u001b[0m \u001b[32m━━━━━━━━━━━━━━━━━━━━\u001b[0m\u001b[37m\u001b[0m \u001b[1m2s\u001b[0m 180ms/step - categorical_accuracy: 0.1346 - loss: 2.3401\n",
            "Epoch 1336/2000\n",
            "\u001b[1m7/7\u001b[0m \u001b[32m━━━━━━━━━━━━━━━━━━━━\u001b[0m\u001b[37m\u001b[0m \u001b[1m1s\u001b[0m 180ms/step - categorical_accuracy: 0.1695 - loss: 2.2844\n",
            "Epoch 1337/2000\n",
            "\u001b[1m7/7\u001b[0m \u001b[32m━━━━━━━━━━━━━━━━━━━━\u001b[0m\u001b[37m\u001b[0m \u001b[1m3s\u001b[0m 204ms/step - categorical_accuracy: 0.1302 - loss: 2.3043\n",
            "Epoch 1338/2000\n",
            "\u001b[1m7/7\u001b[0m \u001b[32m━━━━━━━━━━━━━━━━━━━━\u001b[0m\u001b[37m\u001b[0m \u001b[1m1s\u001b[0m 196ms/step - categorical_accuracy: 0.1404 - loss: 2.2885\n",
            "Epoch 1339/2000\n",
            "\u001b[1m7/7\u001b[0m \u001b[32m━━━━━━━━━━━━━━━━━━━━\u001b[0m\u001b[37m\u001b[0m \u001b[1m1s\u001b[0m 185ms/step - categorical_accuracy: 0.1240 - loss: 2.3091\n",
            "Epoch 1340/2000\n",
            "\u001b[1m7/7\u001b[0m \u001b[32m━━━━━━━━━━━━━━━━━━━━\u001b[0m\u001b[37m\u001b[0m \u001b[1m3s\u001b[0m 246ms/step - categorical_accuracy: 0.1524 - loss: 2.3064\n",
            "Epoch 1341/2000\n",
            "\u001b[1m7/7\u001b[0m \u001b[32m━━━━━━━━━━━━━━━━━━━━\u001b[0m\u001b[37m\u001b[0m \u001b[1m2s\u001b[0m 298ms/step - categorical_accuracy: 0.1318 - loss: 2.2815\n",
            "Epoch 1342/2000\n",
            "\u001b[1m7/7\u001b[0m \u001b[32m━━━━━━━━━━━━━━━━━━━━\u001b[0m\u001b[37m\u001b[0m \u001b[1m2s\u001b[0m 326ms/step - categorical_accuracy: 0.1216 - loss: 2.3015\n",
            "Epoch 1343/2000\n",
            "\u001b[1m7/7\u001b[0m \u001b[32m━━━━━━━━━━━━━━━━━━━━\u001b[0m\u001b[37m\u001b[0m \u001b[1m2s\u001b[0m 192ms/step - categorical_accuracy: 0.1512 - loss: 2.2719\n",
            "Epoch 1344/2000\n",
            "\u001b[1m7/7\u001b[0m \u001b[32m━━━━━━━━━━━━━━━━━━━━\u001b[0m\u001b[37m\u001b[0m \u001b[1m2s\u001b[0m 192ms/step - categorical_accuracy: 0.1489 - loss: 2.2958\n",
            "Epoch 1345/2000\n",
            "\u001b[1m7/7\u001b[0m \u001b[32m━━━━━━━━━━━━━━━━━━━━\u001b[0m\u001b[37m\u001b[0m \u001b[1m1s\u001b[0m 199ms/step - categorical_accuracy: 0.1271 - loss: 2.3102\n",
            "Epoch 1346/2000\n",
            "\u001b[1m7/7\u001b[0m \u001b[32m━━━━━━━━━━━━━━━━━━━━\u001b[0m\u001b[37m\u001b[0m \u001b[1m2s\u001b[0m 192ms/step - categorical_accuracy: 0.1456 - loss: 2.3324\n",
            "Epoch 1347/2000\n",
            "\u001b[1m7/7\u001b[0m \u001b[32m━━━━━━━━━━━━━━━━━━━━\u001b[0m\u001b[37m\u001b[0m \u001b[1m1s\u001b[0m 182ms/step - categorical_accuracy: 0.1415 - loss: 2.3054\n",
            "Epoch 1348/2000\n",
            "\u001b[1m7/7\u001b[0m \u001b[32m━━━━━━━━━━━━━━━━━━━━\u001b[0m\u001b[37m\u001b[0m \u001b[1m1s\u001b[0m 178ms/step - categorical_accuracy: 0.1217 - loss: 2.3002\n",
            "Epoch 1349/2000\n",
            "\u001b[1m7/7\u001b[0m \u001b[32m━━━━━━━━━━━━━━━━━━━━\u001b[0m\u001b[37m\u001b[0m \u001b[1m2s\u001b[0m 310ms/step - categorical_accuracy: 0.1184 - loss: 2.3022\n",
            "Epoch 1350/2000\n",
            "\u001b[1m7/7\u001b[0m \u001b[32m━━━━━━━━━━━━━━━━━━━━\u001b[0m\u001b[37m\u001b[0m \u001b[1m2s\u001b[0m 328ms/step - categorical_accuracy: 0.1213 - loss: 2.3215\n",
            "Epoch 1351/2000\n",
            "\u001b[1m7/7\u001b[0m \u001b[32m━━━━━━━━━━━━━━━━━━━━\u001b[0m\u001b[37m\u001b[0m \u001b[1m2s\u001b[0m 327ms/step - categorical_accuracy: 0.1621 - loss: 2.2864\n",
            "Epoch 1352/2000\n",
            "\u001b[1m7/7\u001b[0m \u001b[32m━━━━━━━━━━━━━━━━━━━━\u001b[0m\u001b[37m\u001b[0m \u001b[1m2s\u001b[0m 194ms/step - categorical_accuracy: 0.1409 - loss: 2.2978\n",
            "Epoch 1353/2000\n",
            "\u001b[1m7/7\u001b[0m \u001b[32m━━━━━━━━━━━━━━━━━━━━\u001b[0m\u001b[37m\u001b[0m \u001b[1m1s\u001b[0m 187ms/step - categorical_accuracy: 0.1452 - loss: 2.2938\n",
            "Epoch 1354/2000\n",
            "\u001b[1m7/7\u001b[0m \u001b[32m━━━━━━━━━━━━━━━━━━━━\u001b[0m\u001b[37m\u001b[0m \u001b[1m1s\u001b[0m 178ms/step - categorical_accuracy: 0.1333 - loss: 2.3159\n",
            "Epoch 1355/2000\n",
            "\u001b[1m7/7\u001b[0m \u001b[32m━━━━━━━━━━━━━━━━━━━━\u001b[0m\u001b[37m\u001b[0m \u001b[1m1s\u001b[0m 178ms/step - categorical_accuracy: 0.1122 - loss: 2.2978\n",
            "Epoch 1356/2000\n",
            "\u001b[1m7/7\u001b[0m \u001b[32m━━━━━━━━━━━━━━━━━━━━\u001b[0m\u001b[37m\u001b[0m \u001b[1m3s\u001b[0m 181ms/step - categorical_accuracy: 0.1602 - loss: 2.2861\n",
            "Epoch 1357/2000\n",
            "\u001b[1m7/7\u001b[0m \u001b[32m━━━━━━━━━━━━━━━━━━━━\u001b[0m\u001b[37m\u001b[0m \u001b[1m3s\u001b[0m 239ms/step - categorical_accuracy: 0.1214 - loss: 2.2835\n",
            "Epoch 1358/2000\n",
            "\u001b[1m7/7\u001b[0m \u001b[32m━━━━━━━━━━━━━━━━━━━━\u001b[0m\u001b[37m\u001b[0m \u001b[1m2s\u001b[0m 298ms/step - categorical_accuracy: 0.1441 - loss: 2.2860\n",
            "Epoch 1359/2000\n",
            "\u001b[1m7/7\u001b[0m \u001b[32m━━━━━━━━━━━━━━━━━━━━\u001b[0m\u001b[37m\u001b[0m \u001b[1m3s\u001b[0m 301ms/step - categorical_accuracy: 0.1413 - loss: 2.3154\n",
            "Epoch 1360/2000\n",
            "\u001b[1m7/7\u001b[0m \u001b[32m━━━━━━━━━━━━━━━━━━━━\u001b[0m\u001b[37m\u001b[0m \u001b[1m2s\u001b[0m 183ms/step - categorical_accuracy: 0.1617 - loss: 2.2662\n",
            "Epoch 1361/2000\n",
            "\u001b[1m7/7\u001b[0m \u001b[32m━━━━━━━━━━━━━━━━━━━━\u001b[0m\u001b[37m\u001b[0m \u001b[1m1s\u001b[0m 179ms/step - categorical_accuracy: 0.1377 - loss: 2.3090\n",
            "Epoch 1362/2000\n",
            "\u001b[1m7/7\u001b[0m \u001b[32m━━━━━━━━━━━━━━━━━━━━\u001b[0m\u001b[37m\u001b[0m \u001b[1m1s\u001b[0m 186ms/step - categorical_accuracy: 0.1355 - loss: 2.2906\n",
            "Epoch 1363/2000\n",
            "\u001b[1m7/7\u001b[0m \u001b[32m━━━━━━━━━━━━━━━━━━━━\u001b[0m\u001b[37m\u001b[0m \u001b[1m3s\u001b[0m 192ms/step - categorical_accuracy: 0.1464 - loss: 2.3122\n",
            "Epoch 1364/2000\n",
            "\u001b[1m7/7\u001b[0m \u001b[32m━━━━━━━━━━━━━━━━━━━━\u001b[0m\u001b[37m\u001b[0m \u001b[1m3s\u001b[0m 192ms/step - categorical_accuracy: 0.1316 - loss: 2.3031\n",
            "Epoch 1365/2000\n",
            "\u001b[1m7/7\u001b[0m \u001b[32m━━━━━━━━━━━━━━━━━━━━\u001b[0m\u001b[37m\u001b[0m \u001b[1m3s\u001b[0m 300ms/step - categorical_accuracy: 0.1251 - loss: 2.3161\n",
            "Epoch 1366/2000\n",
            "\u001b[1m7/7\u001b[0m \u001b[32m━━━━━━━━━━━━━━━━━━━━\u001b[0m\u001b[37m\u001b[0m \u001b[1m2s\u001b[0m 304ms/step - categorical_accuracy: 0.1456 - loss: 2.3035\n",
            "Epoch 1367/2000\n",
            "\u001b[1m7/7\u001b[0m \u001b[32m━━━━━━━━━━━━━━━━━━━━\u001b[0m\u001b[37m\u001b[0m \u001b[1m2s\u001b[0m 198ms/step - categorical_accuracy: 0.1295 - loss: 2.3063\n",
            "Epoch 1368/2000\n",
            "\u001b[1m7/7\u001b[0m \u001b[32m━━━━━━━━━━━━━━━━━━━━\u001b[0m\u001b[37m\u001b[0m \u001b[1m2s\u001b[0m 197ms/step - categorical_accuracy: 0.1099 - loss: 2.3014\n",
            "Epoch 1369/2000\n",
            "\u001b[1m7/7\u001b[0m \u001b[32m━━━━━━━━━━━━━━━━━━━━\u001b[0m\u001b[37m\u001b[0m \u001b[1m2s\u001b[0m 179ms/step - categorical_accuracy: 0.0847 - loss: 2.3328\n",
            "Epoch 1370/2000\n",
            "\u001b[1m7/7\u001b[0m \u001b[32m━━━━━━━━━━━━━━━━━━━━\u001b[0m\u001b[37m\u001b[0m \u001b[1m3s\u001b[0m 194ms/step - categorical_accuracy: 0.1376 - loss: 2.3067\n",
            "Epoch 1371/2000\n",
            "\u001b[1m7/7\u001b[0m \u001b[32m━━━━━━━━━━━━━━━━━━━━\u001b[0m\u001b[37m\u001b[0m \u001b[1m2s\u001b[0m 220ms/step - categorical_accuracy: 0.1147 - loss: 2.2943\n",
            "Epoch 1372/2000\n",
            "\u001b[1m7/7\u001b[0m \u001b[32m━━━━━━━━━━━━━━━━━━━━\u001b[0m\u001b[37m\u001b[0m \u001b[1m2s\u001b[0m 293ms/step - categorical_accuracy: 0.1305 - loss: 2.3141\n",
            "Epoch 1373/2000\n",
            "\u001b[1m7/7\u001b[0m \u001b[32m━━━━━━━━━━━━━━━━━━━━\u001b[0m\u001b[37m\u001b[0m \u001b[1m3s\u001b[0m 305ms/step - categorical_accuracy: 0.1387 - loss: 2.3239\n",
            "Epoch 1374/2000\n",
            "\u001b[1m7/7\u001b[0m \u001b[32m━━━━━━━━━━━━━━━━━━━━\u001b[0m\u001b[37m\u001b[0m \u001b[1m2s\u001b[0m 247ms/step - categorical_accuracy: 0.1077 - loss: 2.3179\n",
            "Epoch 1375/2000\n",
            "\u001b[1m7/7\u001b[0m \u001b[32m━━━━━━━━━━━━━━━━━━━━\u001b[0m\u001b[37m\u001b[0m \u001b[1m1s\u001b[0m 180ms/step - categorical_accuracy: 0.1369 - loss: 2.3203\n",
            "Epoch 1376/2000\n",
            "\u001b[1m7/7\u001b[0m \u001b[32m━━━━━━━━━━━━━━━━━━━━\u001b[0m\u001b[37m\u001b[0m \u001b[1m3s\u001b[0m 181ms/step - categorical_accuracy: 0.1348 - loss: 2.2994\n",
            "Epoch 1377/2000\n",
            "\u001b[1m7/7\u001b[0m \u001b[32m━━━━━━━━━━━━━━━━━━━━\u001b[0m\u001b[37m\u001b[0m \u001b[1m3s\u001b[0m 183ms/step - categorical_accuracy: 0.1368 - loss: 2.2841\n",
            "Epoch 1378/2000\n",
            "\u001b[1m7/7\u001b[0m \u001b[32m━━━━━━━━━━━━━━━━━━━━\u001b[0m\u001b[37m\u001b[0m \u001b[1m3s\u001b[0m 178ms/step - categorical_accuracy: 0.1361 - loss: 2.3500\n",
            "Epoch 1379/2000\n",
            "\u001b[1m7/7\u001b[0m \u001b[32m━━━━━━━━━━━━━━━━━━━━\u001b[0m\u001b[37m\u001b[0m \u001b[1m2s\u001b[0m 256ms/step - categorical_accuracy: 0.1374 - loss: 2.3096\n",
            "Epoch 1380/2000\n",
            "\u001b[1m7/7\u001b[0m \u001b[32m━━━━━━━━━━━━━━━━━━━━\u001b[0m\u001b[37m\u001b[0m \u001b[1m2s\u001b[0m 305ms/step - categorical_accuracy: 0.1460 - loss: 2.3082\n",
            "Epoch 1381/2000\n",
            "\u001b[1m7/7\u001b[0m \u001b[32m━━━━━━━━━━━━━━━━━━━━\u001b[0m\u001b[37m\u001b[0m \u001b[1m3s\u001b[0m 321ms/step - categorical_accuracy: 0.1566 - loss: 2.3006\n",
            "Epoch 1382/2000\n",
            "\u001b[1m7/7\u001b[0m \u001b[32m━━━━━━━━━━━━━━━━━━━━\u001b[0m\u001b[37m\u001b[0m \u001b[1m2s\u001b[0m 209ms/step - categorical_accuracy: 0.1116 - loss: 2.3011\n",
            "Epoch 1383/2000\n",
            "\u001b[1m7/7\u001b[0m \u001b[32m━━━━━━━━━━━━━━━━━━━━\u001b[0m\u001b[37m\u001b[0m \u001b[1m2s\u001b[0m 180ms/step - categorical_accuracy: 0.1361 - loss: 2.3205\n",
            "Epoch 1384/2000\n",
            "\u001b[1m7/7\u001b[0m \u001b[32m━━━━━━━━━━━━━━━━━━━━\u001b[0m\u001b[37m\u001b[0m \u001b[1m3s\u001b[0m 196ms/step - categorical_accuracy: 0.1056 - loss: 2.3130\n",
            "Epoch 1385/2000\n",
            "\u001b[1m7/7\u001b[0m \u001b[32m━━━━━━━━━━━━━━━━━━━━\u001b[0m\u001b[37m\u001b[0m \u001b[1m1s\u001b[0m 182ms/step - categorical_accuracy: 0.1464 - loss: 2.3276\n",
            "Epoch 1386/2000\n",
            "\u001b[1m7/7\u001b[0m \u001b[32m━━━━━━━━━━━━━━━━━━━━\u001b[0m\u001b[37m\u001b[0m \u001b[1m3s\u001b[0m 191ms/step - categorical_accuracy: 0.1834 - loss: 2.2815\n",
            "Epoch 1387/2000\n",
            "\u001b[1m7/7\u001b[0m \u001b[32m━━━━━━━━━━━━━━━━━━━━\u001b[0m\u001b[37m\u001b[0m \u001b[1m3s\u001b[0m 285ms/step - categorical_accuracy: 0.1284 - loss: 2.2827\n",
            "Epoch 1388/2000\n",
            "\u001b[1m7/7\u001b[0m \u001b[32m━━━━━━━━━━━━━━━━━━━━\u001b[0m\u001b[37m\u001b[0m \u001b[1m2s\u001b[0m 292ms/step - categorical_accuracy: 0.1214 - loss: 2.2996\n",
            "Epoch 1389/2000\n",
            "\u001b[1m7/7\u001b[0m \u001b[32m━━━━━━━━━━━━━━━━━━━━\u001b[0m\u001b[37m\u001b[0m \u001b[1m2s\u001b[0m 182ms/step - categorical_accuracy: 0.1125 - loss: 2.2900\n",
            "Epoch 1390/2000\n",
            "\u001b[1m7/7\u001b[0m \u001b[32m━━━━━━━━━━━━━━━━━━━━\u001b[0m\u001b[37m\u001b[0m \u001b[1m3s\u001b[0m 189ms/step - categorical_accuracy: 0.1036 - loss: 2.3174\n",
            "Epoch 1391/2000\n",
            "\u001b[1m7/7\u001b[0m \u001b[32m━━━━━━━━━━━━━━━━━━━━\u001b[0m\u001b[37m\u001b[0m \u001b[1m3s\u001b[0m 192ms/step - categorical_accuracy: 0.1363 - loss: 2.3019\n",
            "Epoch 1392/2000\n",
            "\u001b[1m7/7\u001b[0m \u001b[32m━━━━━━━━━━━━━━━━━━━━\u001b[0m\u001b[37m\u001b[0m \u001b[1m2s\u001b[0m 180ms/step - categorical_accuracy: 0.1491 - loss: 2.3233\n",
            "Epoch 1393/2000\n",
            "\u001b[1m7/7\u001b[0m \u001b[32m━━━━━━━━━━━━━━━━━━━━\u001b[0m\u001b[37m\u001b[0m \u001b[1m3s\u001b[0m 295ms/step - categorical_accuracy: 0.1388 - loss: 2.3013\n",
            "Epoch 1394/2000\n",
            "\u001b[1m7/7\u001b[0m \u001b[32m━━━━━━━━━━━━━━━━━━━━\u001b[0m\u001b[37m\u001b[0m \u001b[1m2s\u001b[0m 313ms/step - categorical_accuracy: 0.1799 - loss: 2.3169\n",
            "Epoch 1395/2000\n",
            "\u001b[1m7/7\u001b[0m \u001b[32m━━━━━━━━━━━━━━━━━━━━\u001b[0m\u001b[37m\u001b[0m \u001b[1m2s\u001b[0m 191ms/step - categorical_accuracy: 0.1184 - loss: 2.3362\n",
            "Epoch 1396/2000\n",
            "\u001b[1m7/7\u001b[0m \u001b[32m━━━━━━━━━━━━━━━━━━━━\u001b[0m\u001b[37m\u001b[0m \u001b[1m1s\u001b[0m 192ms/step - categorical_accuracy: 0.1370 - loss: 2.2928\n",
            "Epoch 1397/2000\n",
            "\u001b[1m7/7\u001b[0m \u001b[32m━━━━━━━━━━━━━━━━━━━━\u001b[0m\u001b[37m\u001b[0m \u001b[1m2s\u001b[0m 188ms/step - categorical_accuracy: 0.1248 - loss: 2.3102\n",
            "Epoch 1398/2000\n",
            "\u001b[1m7/7\u001b[0m \u001b[32m━━━━━━━━━━━━━━━━━━━━\u001b[0m\u001b[37m\u001b[0m \u001b[1m3s\u001b[0m 216ms/step - categorical_accuracy: 0.1497 - loss: 2.2946\n",
            "Epoch 1399/2000\n",
            "\u001b[1m7/7\u001b[0m \u001b[32m━━━━━━━━━━━━━━━━━━━━\u001b[0m\u001b[37m\u001b[0m \u001b[1m1s\u001b[0m 185ms/step - categorical_accuracy: 0.1533 - loss: 2.3075\n",
            "Epoch 1400/2000\n",
            "\u001b[1m7/7\u001b[0m \u001b[32m━━━━━━━━━━━━━━━━━━━━\u001b[0m\u001b[37m\u001b[0m \u001b[1m2s\u001b[0m 239ms/step - categorical_accuracy: 0.1182 - loss: 2.3214\n",
            "Epoch 1401/2000\n",
            "\u001b[1m7/7\u001b[0m \u001b[32m━━━━━━━━━━━━━━━━━━━━\u001b[0m\u001b[37m\u001b[0m \u001b[1m2s\u001b[0m 292ms/step - categorical_accuracy: 0.1322 - loss: 2.3339\n",
            "Epoch 1402/2000\n",
            "\u001b[1m7/7\u001b[0m \u001b[32m━━━━━━━━━━━━━━━━━━━━\u001b[0m\u001b[37m\u001b[0m \u001b[1m2s\u001b[0m 288ms/step - categorical_accuracy: 0.1348 - loss: 2.3035\n",
            "Epoch 1403/2000\n",
            "\u001b[1m7/7\u001b[0m \u001b[32m━━━━━━━━━━━━━━━━━━━━\u001b[0m\u001b[37m\u001b[0m \u001b[1m2s\u001b[0m 184ms/step - categorical_accuracy: 0.1333 - loss: 2.3095\n",
            "Epoch 1404/2000\n",
            "\u001b[1m7/7\u001b[0m \u001b[32m━━━━━━━━━━━━━━━━━━━━\u001b[0m\u001b[37m\u001b[0m \u001b[1m1s\u001b[0m 184ms/step - categorical_accuracy: 0.1339 - loss: 2.3103\n",
            "Epoch 1405/2000\n",
            "\u001b[1m7/7\u001b[0m \u001b[32m━━━━━━━━━━━━━━━━━━━━\u001b[0m\u001b[37m\u001b[0m \u001b[1m1s\u001b[0m 182ms/step - categorical_accuracy: 0.1120 - loss: 2.3022\n",
            "Epoch 1406/2000\n",
            "\u001b[1m7/7\u001b[0m \u001b[32m━━━━━━━━━━━━━━━━━━━━\u001b[0m\u001b[37m\u001b[0m \u001b[1m1s\u001b[0m 178ms/step - categorical_accuracy: 0.1456 - loss: 2.2825\n",
            "Epoch 1407/2000\n",
            "\u001b[1m7/7\u001b[0m \u001b[32m━━━━━━━━━━━━━━━━━━━━\u001b[0m\u001b[37m\u001b[0m \u001b[1m3s\u001b[0m 189ms/step - categorical_accuracy: 0.1528 - loss: 2.2980\n",
            "Epoch 1408/2000\n",
            "\u001b[1m7/7\u001b[0m \u001b[32m━━━━━━━━━━━━━━━━━━━━\u001b[0m\u001b[37m\u001b[0m \u001b[1m1s\u001b[0m 181ms/step - categorical_accuracy: 0.1351 - loss: 2.3166\n",
            "Epoch 1409/2000\n",
            "\u001b[1m7/7\u001b[0m \u001b[32m━━━━━━━━━━━━━━━━━━━━\u001b[0m\u001b[37m\u001b[0m \u001b[1m3s\u001b[0m 286ms/step - categorical_accuracy: 0.1602 - loss: 2.2907\n",
            "Epoch 1410/2000\n",
            "\u001b[1m7/7\u001b[0m \u001b[32m━━━━━━━━━━━━━━━━━━━━\u001b[0m\u001b[37m\u001b[0m \u001b[1m3s\u001b[0m 307ms/step - categorical_accuracy: 0.1287 - loss: 2.2972\n",
            "Epoch 1411/2000\n",
            "\u001b[1m7/7\u001b[0m \u001b[32m━━━━━━━━━━━━━━━━━━━━\u001b[0m\u001b[37m\u001b[0m \u001b[1m2s\u001b[0m 183ms/step - categorical_accuracy: 0.1373 - loss: 2.3107\n",
            "Epoch 1412/2000\n",
            "\u001b[1m7/7\u001b[0m \u001b[32m━━━━━━━━━━━━━━━━━━━━\u001b[0m\u001b[37m\u001b[0m \u001b[1m1s\u001b[0m 182ms/step - categorical_accuracy: 0.1584 - loss: 2.3080\n",
            "Epoch 1413/2000\n",
            "\u001b[1m7/7\u001b[0m \u001b[32m━━━━━━━━━━━━━━━━━━━━\u001b[0m\u001b[37m\u001b[0m \u001b[1m1s\u001b[0m 185ms/step - categorical_accuracy: 0.1361 - loss: 2.2819\n",
            "Epoch 1414/2000\n",
            "\u001b[1m7/7\u001b[0m \u001b[32m━━━━━━━━━━━━━━━━━━━━\u001b[0m\u001b[37m\u001b[0m \u001b[1m1s\u001b[0m 178ms/step - categorical_accuracy: 0.1488 - loss: 2.2647\n",
            "Epoch 1415/2000\n",
            "\u001b[1m7/7\u001b[0m \u001b[32m━━━━━━━━━━━━━━━━━━━━\u001b[0m\u001b[37m\u001b[0m \u001b[1m1s\u001b[0m 182ms/step - categorical_accuracy: 0.1612 - loss: 2.3230\n",
            "Epoch 1416/2000\n",
            "\u001b[1m7/7\u001b[0m \u001b[32m━━━━━━━━━━━━━━━━━━━━\u001b[0m\u001b[37m\u001b[0m \u001b[1m1s\u001b[0m 181ms/step - categorical_accuracy: 0.1237 - loss: 2.3266\n",
            "Epoch 1417/2000\n",
            "\u001b[1m7/7\u001b[0m \u001b[32m━━━━━━━━━━━━━━━━━━━━\u001b[0m\u001b[37m\u001b[0m \u001b[1m3s\u001b[0m 243ms/step - categorical_accuracy: 0.1601 - loss: 2.3025\n",
            "Epoch 1418/2000\n",
            "\u001b[1m7/7\u001b[0m \u001b[32m━━━━━━━━━━━━━━━━━━━━\u001b[0m\u001b[37m\u001b[0m \u001b[1m2s\u001b[0m 297ms/step - categorical_accuracy: 0.1077 - loss: 2.3124\n",
            "Epoch 1419/2000\n",
            "\u001b[1m7/7\u001b[0m \u001b[32m━━━━━━━━━━━━━━━━━━━━\u001b[0m\u001b[37m\u001b[0m \u001b[1m2s\u001b[0m 292ms/step - categorical_accuracy: 0.0929 - loss: 2.3207\n",
            "Epoch 1420/2000\n",
            "\u001b[1m7/7\u001b[0m \u001b[32m━━━━━━━━━━━━━━━━━━━━\u001b[0m\u001b[37m\u001b[0m \u001b[1m2s\u001b[0m 182ms/step - categorical_accuracy: 0.1529 - loss: 2.3176\n",
            "Epoch 1421/2000\n",
            "\u001b[1m7/7\u001b[0m \u001b[32m━━━━━━━━━━━━━━━━━━━━\u001b[0m\u001b[37m\u001b[0m \u001b[1m1s\u001b[0m 181ms/step - categorical_accuracy: 0.1111 - loss: 2.3071\n",
            "Epoch 1422/2000\n",
            "\u001b[1m7/7\u001b[0m \u001b[32m━━━━━━━━━━━━━━━━━━━━\u001b[0m\u001b[37m\u001b[0m \u001b[1m3s\u001b[0m 193ms/step - categorical_accuracy: 0.1637 - loss: 2.2920\n",
            "Epoch 1423/2000\n",
            "\u001b[1m7/7\u001b[0m \u001b[32m━━━━━━━━━━━━━━━━━━━━\u001b[0m\u001b[37m\u001b[0m \u001b[1m2s\u001b[0m 185ms/step - categorical_accuracy: 0.1225 - loss: 2.3010\n",
            "Epoch 1424/2000\n",
            "\u001b[1m7/7\u001b[0m \u001b[32m━━━━━━━━━━━━━━━━━━━━\u001b[0m\u001b[37m\u001b[0m \u001b[1m3s\u001b[0m 206ms/step - categorical_accuracy: 0.1434 - loss: 2.2788\n",
            "Epoch 1425/2000\n",
            "\u001b[1m7/7\u001b[0m \u001b[32m━━━━━━━━━━━━━━━━━━━━\u001b[0m\u001b[37m\u001b[0m \u001b[1m3s\u001b[0m 295ms/step - categorical_accuracy: 0.1365 - loss: 2.3088\n",
            "Epoch 1426/2000\n",
            "\u001b[1m7/7\u001b[0m \u001b[32m━━━━━━━━━━━━━━━━━━━━\u001b[0m\u001b[37m\u001b[0m \u001b[1m2s\u001b[0m 323ms/step - categorical_accuracy: 0.1541 - loss: 2.3156\n",
            "Epoch 1427/2000\n",
            "\u001b[1m7/7\u001b[0m \u001b[32m━━━━━━━━━━━━━━━━━━━━\u001b[0m\u001b[37m\u001b[0m \u001b[1m1s\u001b[0m 183ms/step - categorical_accuracy: 0.1204 - loss: 2.3087\n",
            "Epoch 1428/2000\n",
            "\u001b[1m7/7\u001b[0m \u001b[32m━━━━━━━━━━━━━━━━━━━━\u001b[0m\u001b[37m\u001b[0m \u001b[1m3s\u001b[0m 183ms/step - categorical_accuracy: 0.1263 - loss: 2.3209\n",
            "Epoch 1429/2000\n",
            "\u001b[1m7/7\u001b[0m \u001b[32m━━━━━━━━━━━━━━━━━━━━\u001b[0m\u001b[37m\u001b[0m \u001b[1m3s\u001b[0m 182ms/step - categorical_accuracy: 0.1342 - loss: 2.3180\n",
            "Epoch 1430/2000\n",
            "\u001b[1m7/7\u001b[0m \u001b[32m━━━━━━━━━━━━━━━━━━━━\u001b[0m\u001b[37m\u001b[0m \u001b[1m3s\u001b[0m 184ms/step - categorical_accuracy: 0.1350 - loss: 2.2951\n",
            "Epoch 1431/2000\n",
            "\u001b[1m7/7\u001b[0m \u001b[32m━━━━━━━━━━━━━━━━━━━━\u001b[0m\u001b[37m\u001b[0m \u001b[1m2s\u001b[0m 213ms/step - categorical_accuracy: 0.1715 - loss: 2.2745\n",
            "Epoch 1432/2000\n",
            "\u001b[1m7/7\u001b[0m \u001b[32m━━━━━━━━━━━━━━━━━━━━\u001b[0m\u001b[37m\u001b[0m \u001b[1m3s\u001b[0m 290ms/step - categorical_accuracy: 0.1129 - loss: 2.2935\n",
            "Epoch 1433/2000\n",
            "\u001b[1m7/7\u001b[0m \u001b[32m━━━━━━━━━━━━━━━━━━━━\u001b[0m\u001b[37m\u001b[0m \u001b[1m2s\u001b[0m 309ms/step - categorical_accuracy: 0.1495 - loss: 2.3040\n",
            "Epoch 1434/2000\n",
            "\u001b[1m7/7\u001b[0m \u001b[32m━━━━━━━━━━━━━━━━━━━━\u001b[0m\u001b[37m\u001b[0m \u001b[1m2s\u001b[0m 180ms/step - categorical_accuracy: 0.1354 - loss: 2.2945\n",
            "Epoch 1435/2000\n",
            "\u001b[1m7/7\u001b[0m \u001b[32m━━━━━━━━━━━━━━━━━━━━\u001b[0m\u001b[37m\u001b[0m \u001b[1m3s\u001b[0m 190ms/step - categorical_accuracy: 0.1259 - loss: 2.3050\n",
            "Epoch 1436/2000\n",
            "\u001b[1m7/7\u001b[0m \u001b[32m━━━━━━━━━━━━━━━━━━━━\u001b[0m\u001b[37m\u001b[0m \u001b[1m3s\u001b[0m 186ms/step - categorical_accuracy: 0.1533 - loss: 2.2820\n",
            "Epoch 1437/2000\n",
            "\u001b[1m7/7\u001b[0m \u001b[32m━━━━━━━━━━━━━━━━━━━━\u001b[0m\u001b[37m\u001b[0m \u001b[1m1s\u001b[0m 187ms/step - categorical_accuracy: 0.1414 - loss: 2.2992\n",
            "Epoch 1438/2000\n",
            "\u001b[1m7/7\u001b[0m \u001b[32m━━━━━━━━━━━━━━━━━━━━\u001b[0m\u001b[37m\u001b[0m \u001b[1m1s\u001b[0m 192ms/step - categorical_accuracy: 0.1064 - loss: 2.2970\n",
            "Epoch 1439/2000\n",
            "\u001b[1m7/7\u001b[0m \u001b[32m━━━━━━━━━━━━━━━━━━━━\u001b[0m\u001b[37m\u001b[0m \u001b[1m2s\u001b[0m 246ms/step - categorical_accuracy: 0.1372 - loss: 2.2842\n",
            "Epoch 1440/2000\n",
            "\u001b[1m7/7\u001b[0m \u001b[32m━━━━━━━━━━━━━━━━━━━━\u001b[0m\u001b[37m\u001b[0m \u001b[1m3s\u001b[0m 291ms/step - categorical_accuracy: 0.1401 - loss: 2.3184\n",
            "Epoch 1441/2000\n",
            "\u001b[1m7/7\u001b[0m \u001b[32m━━━━━━━━━━━━━━━━━━━━\u001b[0m\u001b[37m\u001b[0m \u001b[1m2s\u001b[0m 289ms/step - categorical_accuracy: 0.1558 - loss: 2.2824\n",
            "Epoch 1442/2000\n",
            "\u001b[1m7/7\u001b[0m \u001b[32m━━━━━━━━━━━━━━━━━━━━\u001b[0m\u001b[37m\u001b[0m \u001b[1m2s\u001b[0m 183ms/step - categorical_accuracy: 0.1007 - loss: 2.3390\n",
            "Epoch 1443/2000\n",
            "\u001b[1m7/7\u001b[0m \u001b[32m━━━━━━━━━━━━━━━━━━━━\u001b[0m\u001b[37m\u001b[0m \u001b[1m3s\u001b[0m 189ms/step - categorical_accuracy: 0.1135 - loss: 2.2857\n",
            "Epoch 1444/2000\n",
            "\u001b[1m7/7\u001b[0m \u001b[32m━━━━━━━━━━━━━━━━━━━━\u001b[0m\u001b[37m\u001b[0m \u001b[1m1s\u001b[0m 180ms/step - categorical_accuracy: 0.1278 - loss: 2.3022\n",
            "Epoch 1445/2000\n",
            "\u001b[1m7/7\u001b[0m \u001b[32m━━━━━━━━━━━━━━━━━━━━\u001b[0m\u001b[37m\u001b[0m \u001b[1m1s\u001b[0m 180ms/step - categorical_accuracy: 0.1338 - loss: 2.2792\n",
            "Epoch 1446/2000\n",
            "\u001b[1m7/7\u001b[0m \u001b[32m━━━━━━━━━━━━━━━━━━━━\u001b[0m\u001b[37m\u001b[0m \u001b[1m1s\u001b[0m 183ms/step - categorical_accuracy: 0.1327 - loss: 2.2917\n",
            "Epoch 1447/2000\n",
            "\u001b[1m7/7\u001b[0m \u001b[32m━━━━━━━━━━━━━━━━━━━━\u001b[0m\u001b[37m\u001b[0m \u001b[1m3s\u001b[0m 295ms/step - categorical_accuracy: 0.1204 - loss: 2.3034\n",
            "Epoch 1448/2000\n",
            "\u001b[1m7/7\u001b[0m \u001b[32m━━━━━━━━━━━━━━━━━━━━\u001b[0m\u001b[37m\u001b[0m \u001b[1m2s\u001b[0m 297ms/step - categorical_accuracy: 0.1487 - loss: 2.3091\n",
            "Epoch 1449/2000\n",
            "\u001b[1m7/7\u001b[0m \u001b[32m━━━━━━━━━━━━━━━━━━━━\u001b[0m\u001b[37m\u001b[0m \u001b[1m2s\u001b[0m 302ms/step - categorical_accuracy: 0.1088 - loss: 2.3236\n",
            "Epoch 1450/2000\n",
            "\u001b[1m7/7\u001b[0m \u001b[32m━━━━━━━━━━━━━━━━━━━━\u001b[0m\u001b[37m\u001b[0m \u001b[1m2s\u001b[0m 182ms/step - categorical_accuracy: 0.1684 - loss: 2.2767\n",
            "Epoch 1451/2000\n",
            "\u001b[1m7/7\u001b[0m \u001b[32m━━━━━━━━━━━━━━━━━━━━\u001b[0m\u001b[37m\u001b[0m \u001b[1m3s\u001b[0m 184ms/step - categorical_accuracy: 0.1453 - loss: 2.2777\n",
            "Epoch 1452/2000\n",
            "\u001b[1m7/7\u001b[0m \u001b[32m━━━━━━━━━━━━━━━━━━━━\u001b[0m\u001b[37m\u001b[0m \u001b[1m3s\u001b[0m 183ms/step - categorical_accuracy: 0.1418 - loss: 2.3031\n",
            "Epoch 1453/2000\n",
            "\u001b[1m7/7\u001b[0m \u001b[32m━━━━━━━━━━━━━━━━━━━━\u001b[0m\u001b[37m\u001b[0m \u001b[1m3s\u001b[0m 179ms/step - categorical_accuracy: 0.1699 - loss: 2.3033\n",
            "Epoch 1454/2000\n",
            "\u001b[1m7/7\u001b[0m \u001b[32m━━━━━━━━━━━━━━━━━━━━\u001b[0m\u001b[37m\u001b[0m \u001b[1m3s\u001b[0m 302ms/step - categorical_accuracy: 0.1575 - loss: 2.2832\n",
            "Epoch 1455/2000\n",
            "\u001b[1m7/7\u001b[0m \u001b[32m━━━━━━━━━━━━━━━━━━━━\u001b[0m\u001b[37m\u001b[0m \u001b[1m3s\u001b[0m 308ms/step - categorical_accuracy: 0.1240 - loss: 2.2980\n",
            "Epoch 1456/2000\n",
            "\u001b[1m7/7\u001b[0m \u001b[32m━━━━━━━━━━━━━━━━━━━━\u001b[0m\u001b[37m\u001b[0m \u001b[1m2s\u001b[0m 224ms/step - categorical_accuracy: 0.1471 - loss: 2.2761\n",
            "Epoch 1457/2000\n",
            "\u001b[1m7/7\u001b[0m \u001b[32m━━━━━━━━━━━━━━━━━━━━\u001b[0m\u001b[37m\u001b[0m \u001b[1m1s\u001b[0m 182ms/step - categorical_accuracy: 0.1267 - loss: 2.3091\n",
            "Epoch 1458/2000\n",
            "\u001b[1m7/7\u001b[0m \u001b[32m━━━━━━━━━━━━━━━━━━━━\u001b[0m\u001b[37m\u001b[0m \u001b[1m3s\u001b[0m 188ms/step - categorical_accuracy: 0.0982 - loss: 2.3018\n",
            "Epoch 1459/2000\n",
            "\u001b[1m7/7\u001b[0m \u001b[32m━━━━━━━━━━━━━━━━━━━━\u001b[0m\u001b[37m\u001b[0m \u001b[1m1s\u001b[0m 199ms/step - categorical_accuracy: 0.1205 - loss: 2.3150\n",
            "Epoch 1460/2000\n",
            "\u001b[1m7/7\u001b[0m \u001b[32m━━━━━━━━━━━━━━━━━━━━\u001b[0m\u001b[37m\u001b[0m \u001b[1m1s\u001b[0m 183ms/step - categorical_accuracy: 0.1395 - loss: 2.3160\n",
            "Epoch 1461/2000\n",
            "\u001b[1m7/7\u001b[0m \u001b[32m━━━━━━━━━━━━━━━━━━━━\u001b[0m\u001b[37m\u001b[0m \u001b[1m3s\u001b[0m 198ms/step - categorical_accuracy: 0.1407 - loss: 2.2943\n",
            "Epoch 1462/2000\n",
            "\u001b[1m7/7\u001b[0m \u001b[32m━━━━━━━━━━━━━━━━━━━━\u001b[0m\u001b[37m\u001b[0m \u001b[1m3s\u001b[0m 299ms/step - categorical_accuracy: 0.1428 - loss: 2.3448\n",
            "Epoch 1463/2000\n",
            "\u001b[1m7/7\u001b[0m \u001b[32m━━━━━━━━━━━━━━━━━━━━\u001b[0m\u001b[37m\u001b[0m \u001b[1m2s\u001b[0m 304ms/step - categorical_accuracy: 0.1465 - loss: 2.2974\n",
            "Epoch 1464/2000\n",
            "\u001b[1m7/7\u001b[0m \u001b[32m━━━━━━━━━━━━━━━━━━━━\u001b[0m\u001b[37m\u001b[0m \u001b[1m2s\u001b[0m 177ms/step - categorical_accuracy: 0.1446 - loss: 2.2941\n",
            "Epoch 1465/2000\n",
            "\u001b[1m7/7\u001b[0m \u001b[32m━━━━━━━━━━━━━━━━━━━━\u001b[0m\u001b[37m\u001b[0m \u001b[1m3s\u001b[0m 179ms/step - categorical_accuracy: 0.1308 - loss: 2.2928\n",
            "Epoch 1466/2000\n",
            "\u001b[1m7/7\u001b[0m \u001b[32m━━━━━━━━━━━━━━━━━━━━\u001b[0m\u001b[37m\u001b[0m \u001b[1m3s\u001b[0m 187ms/step - categorical_accuracy: 0.1073 - loss: 2.2837\n",
            "Epoch 1467/2000\n",
            "\u001b[1m7/7\u001b[0m \u001b[32m━━━━━━━━━━━━━━━━━━━━\u001b[0m\u001b[37m\u001b[0m \u001b[1m2s\u001b[0m 178ms/step - categorical_accuracy: 0.1001 - loss: 2.3096\n",
            "Epoch 1468/2000\n",
            "\u001b[1m7/7\u001b[0m \u001b[32m━━━━━━━━━━━━━━━━━━━━\u001b[0m\u001b[37m\u001b[0m \u001b[1m3s\u001b[0m 302ms/step - categorical_accuracy: 0.1187 - loss: 2.3128\n",
            "Epoch 1469/2000\n",
            "\u001b[1m7/7\u001b[0m \u001b[32m━━━━━━━━━━━━━━━━━━━━\u001b[0m\u001b[37m\u001b[0m \u001b[1m2s\u001b[0m 290ms/step - categorical_accuracy: 0.1212 - loss: 2.2891\n",
            "Epoch 1470/2000\n",
            "\u001b[1m7/7\u001b[0m \u001b[32m━━━━━━━━━━━━━━━━━━━━\u001b[0m\u001b[37m\u001b[0m \u001b[1m2s\u001b[0m 254ms/step - categorical_accuracy: 0.1451 - loss: 2.2830\n",
            "Epoch 1471/2000\n",
            "\u001b[1m7/7\u001b[0m \u001b[32m━━━━━━━━━━━━━━━━━━━━\u001b[0m\u001b[37m\u001b[0m \u001b[1m2s\u001b[0m 185ms/step - categorical_accuracy: 0.1156 - loss: 2.2987\n",
            "Epoch 1472/2000\n",
            "\u001b[1m7/7\u001b[0m \u001b[32m━━━━━━━━━━━━━━━━━━━━\u001b[0m\u001b[37m\u001b[0m \u001b[1m1s\u001b[0m 180ms/step - categorical_accuracy: 0.1283 - loss: 2.3350\n",
            "Epoch 1473/2000\n",
            "\u001b[1m7/7\u001b[0m \u001b[32m━━━━━━━━━━━━━━━━━━━━\u001b[0m\u001b[37m\u001b[0m \u001b[1m1s\u001b[0m 178ms/step - categorical_accuracy: 0.1492 - loss: 2.2805\n",
            "Epoch 1474/2000\n",
            "\u001b[1m7/7\u001b[0m \u001b[32m━━━━━━━━━━━━━━━━━━━━\u001b[0m\u001b[37m\u001b[0m \u001b[1m1s\u001b[0m 187ms/step - categorical_accuracy: 0.1096 - loss: 2.3168\n",
            "Epoch 1475/2000\n",
            "\u001b[1m7/7\u001b[0m \u001b[32m━━━━━━━━━━━━━━━━━━━━\u001b[0m\u001b[37m\u001b[0m \u001b[1m1s\u001b[0m 187ms/step - categorical_accuracy: 0.0858 - loss: 2.2897\n",
            "Epoch 1476/2000\n",
            "\u001b[1m7/7\u001b[0m \u001b[32m━━━━━━━━━━━━━━━━━━━━\u001b[0m\u001b[37m\u001b[0m \u001b[1m1s\u001b[0m 179ms/step - categorical_accuracy: 0.1112 - loss: 2.3165\n",
            "Epoch 1477/2000\n",
            "\u001b[1m7/7\u001b[0m \u001b[32m━━━━━━━━━━━━━━━━━━━━\u001b[0m\u001b[37m\u001b[0m \u001b[1m3s\u001b[0m 301ms/step - categorical_accuracy: 0.1412 - loss: 2.2998\n",
            "Epoch 1478/2000\n",
            "\u001b[1m7/7\u001b[0m \u001b[32m━━━━━━━━━━━━━━━━━━━━\u001b[0m\u001b[37m\u001b[0m \u001b[1m2s\u001b[0m 324ms/step - categorical_accuracy: 0.1253 - loss: 2.3379\n",
            "Epoch 1479/2000\n",
            "\u001b[1m7/7\u001b[0m \u001b[32m━━━━━━━━━━━━━━━━━━━━\u001b[0m\u001b[37m\u001b[0m \u001b[1m2s\u001b[0m 237ms/step - categorical_accuracy: 0.1370 - loss: 2.3206\n",
            "Epoch 1480/2000\n",
            "\u001b[1m7/7\u001b[0m \u001b[32m━━━━━━━━━━━━━━━━━━━━\u001b[0m\u001b[37m\u001b[0m \u001b[1m2s\u001b[0m 199ms/step - categorical_accuracy: 0.1613 - loss: 2.3003\n",
            "Epoch 1481/2000\n",
            "\u001b[1m7/7\u001b[0m \u001b[32m━━━━━━━━━━━━━━━━━━━━\u001b[0m\u001b[37m\u001b[0m \u001b[1m3s\u001b[0m 196ms/step - categorical_accuracy: 0.1298 - loss: 2.2856\n",
            "Epoch 1482/2000\n",
            "\u001b[1m7/7\u001b[0m \u001b[32m━━━━━━━━━━━━━━━━━━━━\u001b[0m\u001b[37m\u001b[0m \u001b[1m1s\u001b[0m 190ms/step - categorical_accuracy: 0.1416 - loss: 2.2848\n",
            "Epoch 1483/2000\n",
            "\u001b[1m7/7\u001b[0m \u001b[32m━━━━━━━━━━━━━━━━━━━━\u001b[0m\u001b[37m\u001b[0m \u001b[1m1s\u001b[0m 185ms/step - categorical_accuracy: 0.1470 - loss: 2.2913\n",
            "Epoch 1484/2000\n",
            "\u001b[1m7/7\u001b[0m \u001b[32m━━━━━━━━━━━━━━━━━━━━\u001b[0m\u001b[37m\u001b[0m \u001b[1m3s\u001b[0m 266ms/step - categorical_accuracy: 0.1618 - loss: 2.2546\n",
            "Epoch 1485/2000\n",
            "\u001b[1m7/7\u001b[0m \u001b[32m━━━━━━━━━━━━━━━━━━━━\u001b[0m\u001b[37m\u001b[0m \u001b[1m3s\u001b[0m 287ms/step - categorical_accuracy: 0.1014 - loss: 2.2815\n",
            "Epoch 1486/2000\n",
            "\u001b[1m7/7\u001b[0m \u001b[32m━━━━━━━━━━━━━━━━━━━━\u001b[0m\u001b[37m\u001b[0m \u001b[1m2s\u001b[0m 272ms/step - categorical_accuracy: 0.1150 - loss: 2.3089\n",
            "Epoch 1487/2000\n",
            "\u001b[1m7/7\u001b[0m \u001b[32m━━━━━━━━━━━━━━━━━━━━\u001b[0m\u001b[37m\u001b[0m \u001b[1m1s\u001b[0m 200ms/step - categorical_accuracy: 0.1406 - loss: 2.2728\n",
            "Epoch 1488/2000\n",
            "\u001b[1m7/7\u001b[0m \u001b[32m━━━━━━━━━━━━━━━━━━━━\u001b[0m\u001b[37m\u001b[0m \u001b[1m3s\u001b[0m 192ms/step - categorical_accuracy: 0.1265 - loss: 2.3084\n",
            "Epoch 1489/2000\n",
            "\u001b[1m7/7\u001b[0m \u001b[32m━━━━━━━━━━━━━━━━━━━━\u001b[0m\u001b[37m\u001b[0m \u001b[1m1s\u001b[0m 180ms/step - categorical_accuracy: 0.1049 - loss: 2.3231\n",
            "Epoch 1490/2000\n",
            "\u001b[1m7/7\u001b[0m \u001b[32m━━━━━━━━━━━━━━━━━━━━\u001b[0m\u001b[37m\u001b[0m \u001b[1m1s\u001b[0m 180ms/step - categorical_accuracy: 0.1316 - loss: 2.3330\n",
            "Epoch 1491/2000\n",
            "\u001b[1m7/7\u001b[0m \u001b[32m━━━━━━━━━━━━━━━━━━━━\u001b[0m\u001b[37m\u001b[0m \u001b[1m3s\u001b[0m 190ms/step - categorical_accuracy: 0.1507 - loss: 2.2894\n",
            "Epoch 1492/2000\n",
            "\u001b[1m7/7\u001b[0m \u001b[32m━━━━━━━━━━━━━━━━━━━━\u001b[0m\u001b[37m\u001b[0m \u001b[1m3s\u001b[0m 292ms/step - categorical_accuracy: 0.1430 - loss: 2.2909\n",
            "Epoch 1493/2000\n",
            "\u001b[1m7/7\u001b[0m \u001b[32m━━━━━━━━━━━━━━━━━━━━\u001b[0m\u001b[37m\u001b[0m \u001b[1m2s\u001b[0m 312ms/step - categorical_accuracy: 0.1266 - loss: 2.3062\n",
            "Epoch 1494/2000\n",
            "\u001b[1m7/7\u001b[0m \u001b[32m━━━━━━━━━━━━━━━━━━━━\u001b[0m\u001b[37m\u001b[0m \u001b[1m2s\u001b[0m 274ms/step - categorical_accuracy: 0.1477 - loss: 2.3375\n",
            "Epoch 1495/2000\n",
            "\u001b[1m7/7\u001b[0m \u001b[32m━━━━━━━━━━━━━━━━━━━━\u001b[0m\u001b[37m\u001b[0m \u001b[1m1s\u001b[0m 202ms/step - categorical_accuracy: 0.1421 - loss: 2.2897\n",
            "Epoch 1496/2000\n",
            "\u001b[1m7/7\u001b[0m \u001b[32m━━━━━━━━━━━━━━━━━━━━\u001b[0m\u001b[37m\u001b[0m \u001b[1m1s\u001b[0m 183ms/step - categorical_accuracy: 0.1521 - loss: 2.3134\n",
            "Epoch 1497/2000\n",
            "\u001b[1m7/7\u001b[0m \u001b[32m━━━━━━━━━━━━━━━━━━━━\u001b[0m\u001b[37m\u001b[0m \u001b[1m3s\u001b[0m 213ms/step - categorical_accuracy: 0.1255 - loss: 2.3159\n",
            "Epoch 1498/2000\n",
            "\u001b[1m7/7\u001b[0m \u001b[32m━━━━━━━━━━━━━━━━━━━━\u001b[0m\u001b[37m\u001b[0m \u001b[1m2s\u001b[0m 191ms/step - categorical_accuracy: 0.1376 - loss: 2.3135\n",
            "Epoch 1499/2000\n",
            "\u001b[1m7/7\u001b[0m \u001b[32m━━━━━━━━━━━━━━━━━━━━\u001b[0m\u001b[37m\u001b[0m \u001b[1m3s\u001b[0m 287ms/step - categorical_accuracy: 0.1103 - loss: 2.3035\n",
            "Epoch 1500/2000\n",
            "\u001b[1m7/7\u001b[0m \u001b[32m━━━━━━━━━━━━━━━━━━━━\u001b[0m\u001b[37m\u001b[0m \u001b[1m3s\u001b[0m 303ms/step - categorical_accuracy: 0.1475 - loss: 2.3006\n",
            "Epoch 1501/2000\n",
            "\u001b[1m7/7\u001b[0m \u001b[32m━━━━━━━━━━━━━━━━━━━━\u001b[0m\u001b[37m\u001b[0m \u001b[1m2s\u001b[0m 210ms/step - categorical_accuracy: 0.1414 - loss: 2.3055\n",
            "Epoch 1502/2000\n",
            "\u001b[1m7/7\u001b[0m \u001b[32m━━━━━━━━━━━━━━━━━━━━\u001b[0m\u001b[37m\u001b[0m \u001b[1m1s\u001b[0m 184ms/step - categorical_accuracy: 0.1427 - loss: 2.2728\n",
            "Epoch 1503/2000\n",
            "\u001b[1m7/7\u001b[0m \u001b[32m━━━━━━━━━━━━━━━━━━━━\u001b[0m\u001b[37m\u001b[0m \u001b[1m3s\u001b[0m 194ms/step - categorical_accuracy: 0.1422 - loss: 2.2988\n",
            "Epoch 1504/2000\n",
            "\u001b[1m7/7\u001b[0m \u001b[32m━━━━━━━━━━━━━━━━━━━━\u001b[0m\u001b[37m\u001b[0m \u001b[1m3s\u001b[0m 190ms/step - categorical_accuracy: 0.1287 - loss: 2.2924\n",
            "Epoch 1505/2000\n",
            "\u001b[1m7/7\u001b[0m \u001b[32m━━━━━━━━━━━━━━━━━━━━\u001b[0m\u001b[37m\u001b[0m \u001b[1m1s\u001b[0m 183ms/step - categorical_accuracy: 0.1425 - loss: 2.3025\n",
            "Epoch 1506/2000\n",
            "\u001b[1m7/7\u001b[0m \u001b[32m━━━━━━━━━━━━━━━━━━━━\u001b[0m\u001b[37m\u001b[0m \u001b[1m3s\u001b[0m 316ms/step - categorical_accuracy: 0.0907 - loss: 2.3418\n",
            "Epoch 1507/2000\n",
            "\u001b[1m7/7\u001b[0m \u001b[32m━━━━━━━━━━━━━━━━━━━━\u001b[0m\u001b[37m\u001b[0m \u001b[1m3s\u001b[0m 315ms/step - categorical_accuracy: 0.1353 - loss: 2.2962\n",
            "Epoch 1508/2000\n",
            "\u001b[1m7/7\u001b[0m \u001b[32m━━━━━━━━━━━━━━━━━━━━\u001b[0m\u001b[37m\u001b[0m \u001b[1m2s\u001b[0m 300ms/step - categorical_accuracy: 0.1645 - loss: 2.2957\n",
            "Epoch 1509/2000\n",
            "\u001b[1m7/7\u001b[0m \u001b[32m━━━━━━━━━━━━━━━━━━━━\u001b[0m\u001b[37m\u001b[0m \u001b[1m1s\u001b[0m 196ms/step - categorical_accuracy: 0.1010 - loss: 2.3223\n",
            "Epoch 1510/2000\n",
            "\u001b[1m7/7\u001b[0m \u001b[32m━━━━━━━━━━━━━━━━━━━━\u001b[0m\u001b[37m\u001b[0m \u001b[1m2s\u001b[0m 190ms/step - categorical_accuracy: 0.1291 - loss: 2.3320\n",
            "Epoch 1511/2000\n",
            "\u001b[1m7/7\u001b[0m \u001b[32m━━━━━━━━━━━━━━━━━━━━\u001b[0m\u001b[37m\u001b[0m \u001b[1m1s\u001b[0m 199ms/step - categorical_accuracy: 0.1289 - loss: 2.3141\n",
            "Epoch 1512/2000\n",
            "\u001b[1m7/7\u001b[0m \u001b[32m━━━━━━━━━━━━━━━━━━━━\u001b[0m\u001b[37m\u001b[0m \u001b[1m2s\u001b[0m 180ms/step - categorical_accuracy: 0.1275 - loss: 2.3265\n",
            "Epoch 1513/2000\n",
            "\u001b[1m7/7\u001b[0m \u001b[32m━━━━━━━━━━━━━━━━━━━━\u001b[0m\u001b[37m\u001b[0m \u001b[1m3s\u001b[0m 239ms/step - categorical_accuracy: 0.1140 - loss: 2.3295\n",
            "Epoch 1514/2000\n",
            "\u001b[1m7/7\u001b[0m \u001b[32m━━━━━━━━━━━━━━━━━━━━\u001b[0m\u001b[37m\u001b[0m \u001b[1m3s\u001b[0m 299ms/step - categorical_accuracy: 0.1568 - loss: 2.3042\n",
            "Epoch 1515/2000\n",
            "\u001b[1m7/7\u001b[0m \u001b[32m━━━━━━━━━━━━━━━━━━━━\u001b[0m\u001b[37m\u001b[0m \u001b[1m2s\u001b[0m 181ms/step - categorical_accuracy: 0.0911 - loss: 2.3276\n",
            "Epoch 1516/2000\n",
            "\u001b[1m7/7\u001b[0m \u001b[32m━━━━━━━━━━━━━━━━━━━━\u001b[0m\u001b[37m\u001b[0m \u001b[1m2s\u001b[0m 229ms/step - categorical_accuracy: 0.1596 - loss: 2.3087\n",
            "Epoch 1517/2000\n",
            "\u001b[1m7/7\u001b[0m \u001b[32m━━━━━━━━━━━━━━━━━━━━\u001b[0m\u001b[37m\u001b[0m \u001b[1m2s\u001b[0m 191ms/step - categorical_accuracy: 0.1111 - loss: 2.3183\n",
            "Epoch 1518/2000\n",
            "\u001b[1m7/7\u001b[0m \u001b[32m━━━━━━━━━━━━━━━━━━━━\u001b[0m\u001b[37m\u001b[0m \u001b[1m1s\u001b[0m 185ms/step - categorical_accuracy: 0.1248 - loss: 2.3034\n",
            "Epoch 1519/2000\n",
            "\u001b[1m7/7\u001b[0m \u001b[32m━━━━━━━━━━━━━━━━━━━━\u001b[0m\u001b[37m\u001b[0m \u001b[1m1s\u001b[0m 182ms/step - categorical_accuracy: 0.1266 - loss: 2.3058\n",
            "Epoch 1520/2000\n",
            "\u001b[1m7/7\u001b[0m \u001b[32m━━━━━━━━━━━━━━━━━━━━\u001b[0m\u001b[37m\u001b[0m \u001b[1m3s\u001b[0m 219ms/step - categorical_accuracy: 0.1312 - loss: 2.3134\n",
            "Epoch 1521/2000\n",
            "\u001b[1m7/7\u001b[0m \u001b[32m━━━━━━━━━━━━━━━━━━━━\u001b[0m\u001b[37m\u001b[0m \u001b[1m2s\u001b[0m 311ms/step - categorical_accuracy: 0.1523 - loss: 2.2931\n",
            "Epoch 1522/2000\n",
            "\u001b[1m7/7\u001b[0m \u001b[32m━━━━━━━━━━━━━━━━━━━━\u001b[0m\u001b[37m\u001b[0m \u001b[1m2s\u001b[0m 311ms/step - categorical_accuracy: 0.1332 - loss: 2.3239\n",
            "Epoch 1523/2000\n",
            "\u001b[1m7/7\u001b[0m \u001b[32m━━━━━━━━━━━━━━━━━━━━\u001b[0m\u001b[37m\u001b[0m \u001b[1m2s\u001b[0m 221ms/step - categorical_accuracy: 0.1234 - loss: 2.3113\n",
            "Epoch 1524/2000\n",
            "\u001b[1m7/7\u001b[0m \u001b[32m━━━━━━━━━━━━━━━━━━━━\u001b[0m\u001b[37m\u001b[0m \u001b[1m1s\u001b[0m 201ms/step - categorical_accuracy: 0.1130 - loss: 2.3333\n",
            "Epoch 1525/2000\n",
            "\u001b[1m7/7\u001b[0m \u001b[32m━━━━━━━━━━━━━━━━━━━━\u001b[0m\u001b[37m\u001b[0m \u001b[1m2s\u001b[0m 197ms/step - categorical_accuracy: 0.1540 - loss: 2.2902\n",
            "Epoch 1526/2000\n",
            "\u001b[1m7/7\u001b[0m \u001b[32m━━━━━━━━━━━━━━━━━━━━\u001b[0m\u001b[37m\u001b[0m \u001b[1m2s\u001b[0m 188ms/step - categorical_accuracy: 0.1650 - loss: 2.2915\n",
            "Epoch 1527/2000\n",
            "\u001b[1m7/7\u001b[0m \u001b[32m━━━━━━━━━━━━━━━━━━━━\u001b[0m\u001b[37m\u001b[0m \u001b[1m1s\u001b[0m 184ms/step - categorical_accuracy: 0.1648 - loss: 2.3082\n",
            "Epoch 1528/2000\n",
            "\u001b[1m7/7\u001b[0m \u001b[32m━━━━━━━━━━━━━━━━━━━━\u001b[0m\u001b[37m\u001b[0m \u001b[1m1s\u001b[0m 181ms/step - categorical_accuracy: 0.1529 - loss: 2.2801\n",
            "Epoch 1529/2000\n",
            "\u001b[1m7/7\u001b[0m \u001b[32m━━━━━━━━━━━━━━━━━━━━\u001b[0m\u001b[37m\u001b[0m \u001b[1m2s\u001b[0m 315ms/step - categorical_accuracy: 0.1403 - loss: 2.3298\n",
            "Epoch 1530/2000\n",
            "\u001b[1m7/7\u001b[0m \u001b[32m━━━━━━━━━━━━━━━━━━━━\u001b[0m\u001b[37m\u001b[0m \u001b[1m2s\u001b[0m 290ms/step - categorical_accuracy: 0.1801 - loss: 2.2820\n",
            "Epoch 1531/2000\n",
            "\u001b[1m7/7\u001b[0m \u001b[32m━━━━━━━━━━━━━━━━━━━━\u001b[0m\u001b[37m\u001b[0m \u001b[1m2s\u001b[0m 265ms/step - categorical_accuracy: 0.1520 - loss: 2.2746\n",
            "Epoch 1532/2000\n",
            "\u001b[1m7/7\u001b[0m \u001b[32m━━━━━━━━━━━━━━━━━━━━\u001b[0m\u001b[37m\u001b[0m \u001b[1m2s\u001b[0m 185ms/step - categorical_accuracy: 0.1269 - loss: 2.3046\n",
            "Epoch 1533/2000\n",
            "\u001b[1m7/7\u001b[0m \u001b[32m━━━━━━━━━━━━━━━━━━━━\u001b[0m\u001b[37m\u001b[0m \u001b[1m3s\u001b[0m 196ms/step - categorical_accuracy: 0.1491 - loss: 2.3080\n",
            "Epoch 1534/2000\n",
            "\u001b[1m7/7\u001b[0m \u001b[32m━━━━━━━━━━━━━━━━━━━━\u001b[0m\u001b[37m\u001b[0m \u001b[1m1s\u001b[0m 187ms/step - categorical_accuracy: 0.1118 - loss: 2.3081\n",
            "Epoch 1535/2000\n",
            "\u001b[1m7/7\u001b[0m \u001b[32m━━━━━━━━━━━━━━━━━━━━\u001b[0m\u001b[37m\u001b[0m \u001b[1m2s\u001b[0m 182ms/step - categorical_accuracy: 0.1143 - loss: 2.2966\n",
            "Epoch 1536/2000\n",
            "\u001b[1m7/7\u001b[0m \u001b[32m━━━━━━━━━━━━━━━━━━━━\u001b[0m\u001b[37m\u001b[0m \u001b[1m1s\u001b[0m 192ms/step - categorical_accuracy: 0.1440 - loss: 2.2971\n",
            "Epoch 1537/2000\n",
            "\u001b[1m7/7\u001b[0m \u001b[32m━━━━━━━━━━━━━━━━━━━━\u001b[0m\u001b[37m\u001b[0m \u001b[1m3s\u001b[0m 315ms/step - categorical_accuracy: 0.1137 - loss: 2.3258\n",
            "Epoch 1538/2000\n",
            "\u001b[1m7/7\u001b[0m \u001b[32m━━━━━━━━━━━━━━━━━━━━\u001b[0m\u001b[37m\u001b[0m \u001b[1m2s\u001b[0m 235ms/step - categorical_accuracy: 0.1268 - loss: 2.3166\n",
            "Epoch 1539/2000\n",
            "\u001b[1m7/7\u001b[0m \u001b[32m━━━━━━━━━━━━━━━━━━━━\u001b[0m\u001b[37m\u001b[0m \u001b[1m2s\u001b[0m 181ms/step - categorical_accuracy: 0.1214 - loss: 2.2838\n",
            "Epoch 1540/2000\n",
            "\u001b[1m7/7\u001b[0m \u001b[32m━━━━━━━━━━━━━━━━━━━━\u001b[0m\u001b[37m\u001b[0m \u001b[1m3s\u001b[0m 180ms/step - categorical_accuracy: 0.1489 - loss: 2.2870\n",
            "Epoch 1541/2000\n",
            "\u001b[1m7/7\u001b[0m \u001b[32m━━━━━━━━━━━━━━━━━━━━\u001b[0m\u001b[37m\u001b[0m \u001b[1m3s\u001b[0m 204ms/step - categorical_accuracy: 0.1278 - loss: 2.2843\n",
            "Epoch 1542/2000\n",
            "\u001b[1m7/7\u001b[0m \u001b[32m━━━━━━━━━━━━━━━━━━━━\u001b[0m\u001b[37m\u001b[0m \u001b[1m3s\u001b[0m 297ms/step - categorical_accuracy: 0.1243 - loss: 2.3026\n",
            "Epoch 1543/2000\n",
            "\u001b[1m7/7\u001b[0m \u001b[32m━━━━━━━━━━━━━━━━━━━━\u001b[0m\u001b[37m\u001b[0m \u001b[1m2s\u001b[0m 296ms/step - categorical_accuracy: 0.1067 - loss: 2.3033\n",
            "Epoch 1544/2000\n",
            "\u001b[1m7/7\u001b[0m \u001b[32m━━━━━━━━━━━━━━━━━━━━\u001b[0m\u001b[37m\u001b[0m \u001b[1m2s\u001b[0m 301ms/step - categorical_accuracy: 0.1536 - loss: 2.2976\n",
            "Epoch 1545/2000\n",
            "\u001b[1m7/7\u001b[0m \u001b[32m━━━━━━━━━━━━━━━━━━━━\u001b[0m\u001b[37m\u001b[0m \u001b[1m2s\u001b[0m 183ms/step - categorical_accuracy: 0.1288 - loss: 2.3057\n",
            "Epoch 1546/2000\n",
            "\u001b[1m7/7\u001b[0m \u001b[32m━━━━━━━━━━━━━━━━━━━━\u001b[0m\u001b[37m\u001b[0m \u001b[1m1s\u001b[0m 182ms/step - categorical_accuracy: 0.1592 - loss: 2.2979\n",
            "Epoch 1547/2000\n",
            "\u001b[1m7/7\u001b[0m \u001b[32m━━━━━━━━━━━━━━━━━━━━\u001b[0m\u001b[37m\u001b[0m \u001b[1m1s\u001b[0m 183ms/step - categorical_accuracy: 0.1208 - loss: 2.2828\n",
            "Epoch 1548/2000\n",
            "\u001b[1m7/7\u001b[0m \u001b[32m━━━━━━━━━━━━━━━━━━━━\u001b[0m\u001b[37m\u001b[0m \u001b[1m3s\u001b[0m 181ms/step - categorical_accuracy: 0.1360 - loss: 2.3020\n",
            "Epoch 1549/2000\n",
            "\u001b[1m7/7\u001b[0m \u001b[32m━━━━━━━━━━━━━━━━━━━━\u001b[0m\u001b[37m\u001b[0m \u001b[1m3s\u001b[0m 182ms/step - categorical_accuracy: 0.1248 - loss: 2.2825\n",
            "Epoch 1550/2000\n",
            "\u001b[1m7/7\u001b[0m \u001b[32m━━━━━━━━━━━━━━━━━━━━\u001b[0m\u001b[37m\u001b[0m \u001b[1m2s\u001b[0m 224ms/step - categorical_accuracy: 0.1321 - loss: 2.2854\n",
            "Epoch 1551/2000\n",
            "\u001b[1m7/7\u001b[0m \u001b[32m━━━━━━━━━━━━━━━━━━━━\u001b[0m\u001b[37m\u001b[0m \u001b[1m2s\u001b[0m 312ms/step - categorical_accuracy: 0.1503 - loss: 2.2883\n",
            "Epoch 1552/2000\n",
            "\u001b[1m7/7\u001b[0m \u001b[32m━━━━━━━━━━━━━━━━━━━━\u001b[0m\u001b[37m\u001b[0m \u001b[1m2s\u001b[0m 321ms/step - categorical_accuracy: 0.1370 - loss: 2.3079\n",
            "Epoch 1553/2000\n",
            "\u001b[1m7/7\u001b[0m \u001b[32m━━━━━━━━━━━━━━━━━━━━\u001b[0m\u001b[37m\u001b[0m \u001b[1m2s\u001b[0m 233ms/step - categorical_accuracy: 0.1359 - loss: 2.2675\n",
            "Epoch 1554/2000\n",
            "\u001b[1m7/7\u001b[0m \u001b[32m━━━━━━━━━━━━━━━━━━━━\u001b[0m\u001b[37m\u001b[0m \u001b[1m1s\u001b[0m 196ms/step - categorical_accuracy: 0.1489 - loss: 2.2887\n",
            "Epoch 1555/2000\n",
            "\u001b[1m7/7\u001b[0m \u001b[32m━━━━━━━━━━━━━━━━━━━━\u001b[0m\u001b[37m\u001b[0m \u001b[1m1s\u001b[0m 181ms/step - categorical_accuracy: 0.1311 - loss: 2.3065\n",
            "Epoch 1556/2000\n",
            "\u001b[1m7/7\u001b[0m \u001b[32m━━━━━━━━━━━━━━━━━━━━\u001b[0m\u001b[37m\u001b[0m \u001b[1m1s\u001b[0m 181ms/step - categorical_accuracy: 0.1154 - loss: 2.3172\n",
            "Epoch 1557/2000\n",
            "\u001b[1m7/7\u001b[0m \u001b[32m━━━━━━━━━━━━━━━━━━━━\u001b[0m\u001b[37m\u001b[0m \u001b[1m3s\u001b[0m 181ms/step - categorical_accuracy: 0.1083 - loss: 2.2706\n",
            "Epoch 1558/2000\n",
            "\u001b[1m7/7\u001b[0m \u001b[32m━━━━━━━━━━━━━━━━━━━━\u001b[0m\u001b[37m\u001b[0m \u001b[1m3s\u001b[0m 181ms/step - categorical_accuracy: 0.1331 - loss: 2.3284\n",
            "Epoch 1559/2000\n",
            "\u001b[1m7/7\u001b[0m \u001b[32m━━━━━━━━━━━━━━━━━━━━\u001b[0m\u001b[37m\u001b[0m \u001b[1m3s\u001b[0m 306ms/step - categorical_accuracy: 0.0911 - loss: 2.2834\n",
            "Epoch 1560/2000\n",
            "\u001b[1m7/7\u001b[0m \u001b[32m━━━━━━━━━━━━━━━━━━━━\u001b[0m\u001b[37m\u001b[0m \u001b[1m2s\u001b[0m 251ms/step - categorical_accuracy: 0.1139 - loss: 2.3283\n",
            "Epoch 1561/2000\n",
            "\u001b[1m7/7\u001b[0m \u001b[32m━━━━━━━━━━━━━━━━━━━━\u001b[0m\u001b[37m\u001b[0m \u001b[1m2s\u001b[0m 179ms/step - categorical_accuracy: 0.1231 - loss: 2.2878\n",
            "Epoch 1562/2000\n",
            "\u001b[1m7/7\u001b[0m \u001b[32m━━━━━━━━━━━━━━━━━━━━\u001b[0m\u001b[37m\u001b[0m \u001b[1m3s\u001b[0m 190ms/step - categorical_accuracy: 0.1260 - loss: 2.2999\n",
            "Epoch 1563/2000\n",
            "\u001b[1m7/7\u001b[0m \u001b[32m━━━━━━━━━━━━━━━━━━━━\u001b[0m\u001b[37m\u001b[0m \u001b[1m1s\u001b[0m 179ms/step - categorical_accuracy: 0.1389 - loss: 2.2918\n",
            "Epoch 1564/2000\n",
            "\u001b[1m7/7\u001b[0m \u001b[32m━━━━━━━━━━━━━━━━━━━━\u001b[0m\u001b[37m\u001b[0m \u001b[1m3s\u001b[0m 185ms/step - categorical_accuracy: 0.1276 - loss: 2.3137\n",
            "Epoch 1565/2000\n",
            "\u001b[1m7/7\u001b[0m \u001b[32m━━━━━━━━━━━━━━━━━━━━\u001b[0m\u001b[37m\u001b[0m \u001b[1m3s\u001b[0m 282ms/step - categorical_accuracy: 0.1542 - loss: 2.2669\n",
            "Epoch 1566/2000\n",
            "\u001b[1m7/7\u001b[0m \u001b[32m━━━━━━━━━━━━━━━━━━━━\u001b[0m\u001b[37m\u001b[0m \u001b[1m3s\u001b[0m 317ms/step - categorical_accuracy: 0.1187 - loss: 2.3223\n",
            "Epoch 1567/2000\n",
            "\u001b[1m7/7\u001b[0m \u001b[32m━━━━━━━━━━━━━━━━━━━━\u001b[0m\u001b[37m\u001b[0m \u001b[1m2s\u001b[0m 241ms/step - categorical_accuracy: 0.1359 - loss: 2.2893\n",
            "Epoch 1568/2000\n",
            "\u001b[1m7/7\u001b[0m \u001b[32m━━━━━━━━━━━━━━━━━━━━\u001b[0m\u001b[37m\u001b[0m \u001b[1m1s\u001b[0m 180ms/step - categorical_accuracy: 0.1554 - loss: 2.3116\n",
            "Epoch 1569/2000\n",
            "\u001b[1m7/7\u001b[0m \u001b[32m━━━━━━━━━━━━━━━━━━━━\u001b[0m\u001b[37m\u001b[0m \u001b[1m3s\u001b[0m 178ms/step - categorical_accuracy: 0.1314 - loss: 2.2996\n",
            "Epoch 1570/2000\n",
            "\u001b[1m7/7\u001b[0m \u001b[32m━━━━━━━━━━━━━━━━━━━━\u001b[0m\u001b[37m\u001b[0m \u001b[1m1s\u001b[0m 179ms/step - categorical_accuracy: 0.0985 - loss: 2.3380\n",
            "Epoch 1571/2000\n",
            "\u001b[1m7/7\u001b[0m \u001b[32m━━━━━━━━━━━━━━━━━━━━\u001b[0m\u001b[37m\u001b[0m \u001b[1m3s\u001b[0m 190ms/step - categorical_accuracy: 0.1538 - loss: 2.2813\n",
            "Epoch 1572/2000\n",
            "\u001b[1m7/7\u001b[0m \u001b[32m━━━━━━━━━━━━━━━━━━━━\u001b[0m\u001b[37m\u001b[0m \u001b[1m3s\u001b[0m 261ms/step - categorical_accuracy: 0.1266 - loss: 2.3372\n",
            "Epoch 1573/2000\n",
            "\u001b[1m7/7\u001b[0m \u001b[32m━━━━━━━━━━━━━━━━━━━━\u001b[0m\u001b[37m\u001b[0m \u001b[1m3s\u001b[0m 302ms/step - categorical_accuracy: 0.1342 - loss: 2.3020\n",
            "Epoch 1574/2000\n",
            "\u001b[1m7/7\u001b[0m \u001b[32m━━━━━━━━━━━━━━━━━━━━\u001b[0m\u001b[37m\u001b[0m \u001b[1m2s\u001b[0m 187ms/step - categorical_accuracy: 0.1276 - loss: 2.3197\n",
            "Epoch 1575/2000\n",
            "\u001b[1m7/7\u001b[0m \u001b[32m━━━━━━━━━━━━━━━━━━━━\u001b[0m\u001b[37m\u001b[0m \u001b[1m1s\u001b[0m 199ms/step - categorical_accuracy: 0.1091 - loss: 2.3021\n",
            "Epoch 1576/2000\n",
            "\u001b[1m7/7\u001b[0m \u001b[32m━━━━━━━━━━━━━━━━━━━━\u001b[0m\u001b[37m\u001b[0m \u001b[1m1s\u001b[0m 187ms/step - categorical_accuracy: 0.0879 - loss: 2.2874\n",
            "Epoch 1577/2000\n",
            "\u001b[1m7/7\u001b[0m \u001b[32m━━━━━━━━━━━━━━━━━━━━\u001b[0m\u001b[37m\u001b[0m \u001b[1m1s\u001b[0m 180ms/step - categorical_accuracy: 0.1267 - loss: 2.2945\n",
            "Epoch 1578/2000\n",
            "\u001b[1m7/7\u001b[0m \u001b[32m━━━━━━━━━━━━━━━━━━━━\u001b[0m\u001b[37m\u001b[0m \u001b[1m3s\u001b[0m 181ms/step - categorical_accuracy: 0.1338 - loss: 2.3035\n",
            "Epoch 1579/2000\n",
            "\u001b[1m7/7\u001b[0m \u001b[32m━━━━━━━━━━━━━━━━━━━━\u001b[0m\u001b[37m\u001b[0m \u001b[1m1s\u001b[0m 179ms/step - categorical_accuracy: 0.1255 - loss: 2.3206\n",
            "Epoch 1580/2000\n",
            "\u001b[1m7/7\u001b[0m \u001b[32m━━━━━━━━━━━━━━━━━━━━\u001b[0m\u001b[37m\u001b[0m \u001b[1m2s\u001b[0m 233ms/step - categorical_accuracy: 0.1141 - loss: 2.2981\n",
            "Epoch 1581/2000\n",
            "\u001b[1m7/7\u001b[0m \u001b[32m━━━━━━━━━━━━━━━━━━━━\u001b[0m\u001b[37m\u001b[0m \u001b[1m2s\u001b[0m 293ms/step - categorical_accuracy: 0.1006 - loss: 2.3128\n",
            "Epoch 1582/2000\n",
            "\u001b[1m7/7\u001b[0m \u001b[32m━━━━━━━━━━━━━━━━━━━━\u001b[0m\u001b[37m\u001b[0m \u001b[1m3s\u001b[0m 301ms/step - categorical_accuracy: 0.1357 - loss: 2.3253\n",
            "Epoch 1583/2000\n",
            "\u001b[1m7/7\u001b[0m \u001b[32m━━━━━━━━━━━━━━━━━━━━\u001b[0m\u001b[37m\u001b[0m \u001b[1m2s\u001b[0m 179ms/step - categorical_accuracy: 0.1131 - loss: 2.3270\n",
            "Epoch 1584/2000\n",
            "\u001b[1m7/7\u001b[0m \u001b[32m━━━━━━━━━━━━━━━━━━━━\u001b[0m\u001b[37m\u001b[0m \u001b[1m3s\u001b[0m 191ms/step - categorical_accuracy: 0.1442 - loss: 2.2511\n",
            "Epoch 1585/2000\n",
            "\u001b[1m7/7\u001b[0m \u001b[32m━━━━━━━━━━━━━━━━━━━━\u001b[0m\u001b[37m\u001b[0m \u001b[1m1s\u001b[0m 179ms/step - categorical_accuracy: 0.1372 - loss: 2.3042\n",
            "Epoch 1586/2000\n",
            "\u001b[1m7/7\u001b[0m \u001b[32m━━━━━━━━━━━━━━━━━━━━\u001b[0m\u001b[37m\u001b[0m \u001b[1m3s\u001b[0m 180ms/step - categorical_accuracy: 0.1553 - loss: 2.3134\n",
            "Epoch 1587/2000\n",
            "\u001b[1m7/7\u001b[0m \u001b[32m━━━━━━━━━━━━━━━━━━━━\u001b[0m\u001b[37m\u001b[0m \u001b[1m1s\u001b[0m 180ms/step - categorical_accuracy: 0.1426 - loss: 2.3198\n",
            "Epoch 1588/2000\n",
            "\u001b[1m7/7\u001b[0m \u001b[32m━━━━━━━━━━━━━━━━━━━━\u001b[0m\u001b[37m\u001b[0m \u001b[1m3s\u001b[0m 291ms/step - categorical_accuracy: 0.1451 - loss: 2.3171\n",
            "Epoch 1589/2000\n",
            "\u001b[1m7/7\u001b[0m \u001b[32m━━━━━━━━━━━━━━━━━━━━\u001b[0m\u001b[37m\u001b[0m \u001b[1m2s\u001b[0m 289ms/step - categorical_accuracy: 0.1304 - loss: 2.2870\n",
            "Epoch 1590/2000\n",
            "\u001b[1m7/7\u001b[0m \u001b[32m━━━━━━━━━━━━━━━━━━━━\u001b[0m\u001b[37m\u001b[0m \u001b[1m2s\u001b[0m 318ms/step - categorical_accuracy: 0.1497 - loss: 2.2721\n",
            "Epoch 1591/2000\n",
            "\u001b[1m7/7\u001b[0m \u001b[32m━━━━━━━━━━━━━━━━━━━━\u001b[0m\u001b[37m\u001b[0m \u001b[1m2s\u001b[0m 181ms/step - categorical_accuracy: 0.1234 - loss: 2.2923\n",
            "Epoch 1592/2000\n",
            "\u001b[1m7/7\u001b[0m \u001b[32m━━━━━━━━━━━━━━━━━━━━\u001b[0m\u001b[37m\u001b[0m \u001b[1m3s\u001b[0m 180ms/step - categorical_accuracy: 0.1279 - loss: 2.3123\n",
            "Epoch 1593/2000\n",
            "\u001b[1m7/7\u001b[0m \u001b[32m━━━━━━━━━━━━━━━━━━━━\u001b[0m\u001b[37m\u001b[0m \u001b[1m3s\u001b[0m 184ms/step - categorical_accuracy: 0.1229 - loss: 2.3129\n",
            "Epoch 1594/2000\n",
            "\u001b[1m7/7\u001b[0m \u001b[32m━━━━━━━━━━━━━━━━━━━━\u001b[0m\u001b[37m\u001b[0m \u001b[1m3s\u001b[0m 182ms/step - categorical_accuracy: 0.1318 - loss: 2.2896\n",
            "Epoch 1595/2000\n",
            "\u001b[1m7/7\u001b[0m \u001b[32m━━━━━━━━━━━━━━━━━━━━\u001b[0m\u001b[37m\u001b[0m \u001b[1m2s\u001b[0m 230ms/step - categorical_accuracy: 0.1199 - loss: 2.2956\n",
            "Epoch 1596/2000\n",
            "\u001b[1m7/7\u001b[0m \u001b[32m━━━━━━━━━━━━━━━━━━━━\u001b[0m\u001b[37m\u001b[0m \u001b[1m3s\u001b[0m 319ms/step - categorical_accuracy: 0.1387 - loss: 2.2669\n",
            "Epoch 1597/2000\n",
            "\u001b[1m7/7\u001b[0m \u001b[32m━━━━━━━━━━━━━━━━━━━━\u001b[0m\u001b[37m\u001b[0m \u001b[1m2s\u001b[0m 286ms/step - categorical_accuracy: 0.1241 - loss: 2.2792\n",
            "Epoch 1598/2000\n",
            "\u001b[1m7/7\u001b[0m \u001b[32m━━━━━━━━━━━━━━━━━━━━\u001b[0m\u001b[37m\u001b[0m \u001b[1m2s\u001b[0m 184ms/step - categorical_accuracy: 0.1409 - loss: 2.2799\n",
            "Epoch 1599/2000\n",
            "\u001b[1m7/7\u001b[0m \u001b[32m━━━━━━━━━━━━━━━━━━━━\u001b[0m\u001b[37m\u001b[0m \u001b[1m1s\u001b[0m 181ms/step - categorical_accuracy: 0.1201 - loss: 2.3035\n",
            "Epoch 1600/2000\n",
            "\u001b[1m7/7\u001b[0m \u001b[32m━━━━━━━━━━━━━━━━━━━━\u001b[0m\u001b[37m\u001b[0m \u001b[1m1s\u001b[0m 181ms/step - categorical_accuracy: 0.1512 - loss: 2.2749\n",
            "Epoch 1601/2000\n",
            "\u001b[1m7/7\u001b[0m \u001b[32m━━━━━━━━━━━━━━━━━━━━\u001b[0m\u001b[37m\u001b[0m \u001b[1m1s\u001b[0m 181ms/step - categorical_accuracy: 0.1264 - loss: 2.3277\n",
            "Epoch 1602/2000\n",
            "\u001b[1m7/7\u001b[0m \u001b[32m━━━━━━━━━━━━━━━━━━━━\u001b[0m\u001b[37m\u001b[0m \u001b[1m1s\u001b[0m 200ms/step - categorical_accuracy: 0.1367 - loss: 2.3010\n",
            "Epoch 1603/2000\n",
            "\u001b[1m7/7\u001b[0m \u001b[32m━━━━━━━━━━━━━━━━━━━━\u001b[0m\u001b[37m\u001b[0m \u001b[1m2s\u001b[0m 181ms/step - categorical_accuracy: 0.1355 - loss: 2.2978\n",
            "Epoch 1604/2000\n",
            "\u001b[1m7/7\u001b[0m \u001b[32m━━━━━━━━━━━━━━━━━━━━\u001b[0m\u001b[37m\u001b[0m \u001b[1m3s\u001b[0m 304ms/step - categorical_accuracy: 0.1411 - loss: 2.2889\n",
            "Epoch 1605/2000\n",
            "\u001b[1m7/7\u001b[0m \u001b[32m━━━━━━━━━━━━━━━━━━━━\u001b[0m\u001b[37m\u001b[0m \u001b[1m2s\u001b[0m 247ms/step - categorical_accuracy: 0.1374 - loss: 2.2969\n",
            "Epoch 1606/2000\n",
            "\u001b[1m7/7\u001b[0m \u001b[32m━━━━━━━━━━━━━━━━━━━━\u001b[0m\u001b[37m\u001b[0m \u001b[1m1s\u001b[0m 184ms/step - categorical_accuracy: 0.1500 - loss: 2.2697\n",
            "Epoch 1607/2000\n",
            "\u001b[1m7/7\u001b[0m \u001b[32m━━━━━━━━━━━━━━━━━━━━\u001b[0m\u001b[37m\u001b[0m \u001b[1m3s\u001b[0m 182ms/step - categorical_accuracy: 0.1382 - loss: 2.3157\n",
            "Epoch 1608/2000\n",
            "\u001b[1m7/7\u001b[0m \u001b[32m━━━━━━━━━━━━━━━━━━━━\u001b[0m\u001b[37m\u001b[0m \u001b[1m1s\u001b[0m 185ms/step - categorical_accuracy: 0.1512 - loss: 2.2928\n",
            "Epoch 1609/2000\n",
            "\u001b[1m7/7\u001b[0m \u001b[32m━━━━━━━━━━━━━━━━━━━━\u001b[0m\u001b[37m\u001b[0m \u001b[1m1s\u001b[0m 195ms/step - categorical_accuracy: 0.1456 - loss: 2.3136\n",
            "Epoch 1610/2000\n",
            "\u001b[1m7/7\u001b[0m \u001b[32m━━━━━━━━━━━━━━━━━━━━\u001b[0m\u001b[37m\u001b[0m \u001b[1m3s\u001b[0m 194ms/step - categorical_accuracy: 0.1358 - loss: 2.2895\n",
            "Epoch 1611/2000\n",
            "\u001b[1m7/7\u001b[0m \u001b[32m━━━━━━━━━━━━━━━━━━━━\u001b[0m\u001b[37m\u001b[0m \u001b[1m2s\u001b[0m 271ms/step - categorical_accuracy: 0.1350 - loss: 2.3088\n",
            "Epoch 1612/2000\n",
            "\u001b[1m7/7\u001b[0m \u001b[32m━━━━━━━━━━━━━━━━━━━━\u001b[0m\u001b[37m\u001b[0m \u001b[1m3s\u001b[0m 285ms/step - categorical_accuracy: 0.1607 - loss: 2.2948\n",
            "Epoch 1613/2000\n",
            "\u001b[1m7/7\u001b[0m \u001b[32m━━━━━━━━━━━━━━━━━━━━\u001b[0m\u001b[37m\u001b[0m \u001b[1m2s\u001b[0m 301ms/step - categorical_accuracy: 0.1295 - loss: 2.3132\n",
            "Epoch 1614/2000\n",
            "\u001b[1m7/7\u001b[0m \u001b[32m━━━━━━━━━━━━━━━━━━━━\u001b[0m\u001b[37m\u001b[0m \u001b[1m2s\u001b[0m 179ms/step - categorical_accuracy: 0.1135 - loss: 2.3155\n",
            "Epoch 1615/2000\n",
            "\u001b[1m7/7\u001b[0m \u001b[32m━━━━━━━━━━━━━━━━━━━━\u001b[0m\u001b[37m\u001b[0m \u001b[1m3s\u001b[0m 182ms/step - categorical_accuracy: 0.0990 - loss: 2.3209\n",
            "Epoch 1616/2000\n",
            "\u001b[1m7/7\u001b[0m \u001b[32m━━━━━━━━━━━━━━━━━━━━\u001b[0m\u001b[37m\u001b[0m \u001b[1m3s\u001b[0m 178ms/step - categorical_accuracy: 0.1042 - loss: 2.3069\n",
            "Epoch 1617/2000\n",
            "\u001b[1m7/7\u001b[0m \u001b[32m━━━━━━━━━━━━━━━━━━━━\u001b[0m\u001b[37m\u001b[0m \u001b[1m1s\u001b[0m 183ms/step - categorical_accuracy: 0.1233 - loss: 2.2936\n",
            "Epoch 1618/2000\n",
            "\u001b[1m7/7\u001b[0m \u001b[32m━━━━━━━━━━━━━━━━━━━━\u001b[0m\u001b[37m\u001b[0m \u001b[1m3s\u001b[0m 240ms/step - categorical_accuracy: 0.1596 - loss: 2.3144\n",
            "Epoch 1619/2000\n",
            "\u001b[1m7/7\u001b[0m \u001b[32m━━━━━━━━━━━━━━━━━━━━\u001b[0m\u001b[37m\u001b[0m \u001b[1m3s\u001b[0m 287ms/step - categorical_accuracy: 0.1501 - loss: 2.2956\n",
            "Epoch 1620/2000\n",
            "\u001b[1m7/7\u001b[0m \u001b[32m━━━━━━━━━━━━━━━━━━━━\u001b[0m\u001b[37m\u001b[0m \u001b[1m2s\u001b[0m 180ms/step - categorical_accuracy: 0.1161 - loss: 2.2854\n",
            "Epoch 1621/2000\n",
            "\u001b[1m7/7\u001b[0m \u001b[32m━━━━━━━━━━━━━━━━━━━━\u001b[0m\u001b[37m\u001b[0m \u001b[1m1s\u001b[0m 196ms/step - categorical_accuracy: 0.1320 - loss: 2.3190\n",
            "Epoch 1622/2000\n",
            "\u001b[1m7/7\u001b[0m \u001b[32m━━━━━━━━━━━━━━━━━━━━\u001b[0m\u001b[37m\u001b[0m \u001b[1m2s\u001b[0m 180ms/step - categorical_accuracy: 0.1619 - loss: 2.3087\n",
            "Epoch 1623/2000\n",
            "\u001b[1m7/7\u001b[0m \u001b[32m━━━━━━━━━━━━━━━━━━━━\u001b[0m\u001b[37m\u001b[0m \u001b[1m1s\u001b[0m 178ms/step - categorical_accuracy: 0.1404 - loss: 2.3030\n",
            "Epoch 1624/2000\n",
            "\u001b[1m7/7\u001b[0m \u001b[32m━━━━━━━━━━━━━━━━━━━━\u001b[0m\u001b[37m\u001b[0m \u001b[1m1s\u001b[0m 187ms/step - categorical_accuracy: 0.1580 - loss: 2.2879\n",
            "Epoch 1625/2000\n",
            "\u001b[1m7/7\u001b[0m \u001b[32m━━━━━━━━━━━━━━━━━━━━\u001b[0m\u001b[37m\u001b[0m \u001b[1m3s\u001b[0m 207ms/step - categorical_accuracy: 0.1280 - loss: 2.2952\n",
            "Epoch 1626/2000\n",
            "\u001b[1m7/7\u001b[0m \u001b[32m━━━━━━━━━━━━━━━━━━━━\u001b[0m\u001b[37m\u001b[0m \u001b[1m3s\u001b[0m 291ms/step - categorical_accuracy: 0.1114 - loss: 2.2898\n",
            "Epoch 1627/2000\n",
            "\u001b[1m7/7\u001b[0m \u001b[32m━━━━━━━━━━━━━━━━━━━━\u001b[0m\u001b[37m\u001b[0m \u001b[1m2s\u001b[0m 309ms/step - categorical_accuracy: 0.1350 - loss: 2.3135\n",
            "Epoch 1628/2000\n",
            "\u001b[1m7/7\u001b[0m \u001b[32m━━━━━━━━━━━━━━━━━━━━\u001b[0m\u001b[37m\u001b[0m \u001b[1m2s\u001b[0m 195ms/step - categorical_accuracy: 0.1142 - loss: 2.3098\n",
            "Epoch 1629/2000\n",
            "\u001b[1m7/7\u001b[0m \u001b[32m━━━━━━━━━━━━━━━━━━━━\u001b[0m\u001b[37m\u001b[0m \u001b[1m2s\u001b[0m 182ms/step - categorical_accuracy: 0.1279 - loss: 2.3203\n",
            "Epoch 1630/2000\n",
            "\u001b[1m7/7\u001b[0m \u001b[32m━━━━━━━━━━━━━━━━━━━━\u001b[0m\u001b[37m\u001b[0m \u001b[1m3s\u001b[0m 187ms/step - categorical_accuracy: 0.1669 - loss: 2.2945\n",
            "Epoch 1631/2000\n",
            "\u001b[1m7/7\u001b[0m \u001b[32m━━━━━━━━━━━━━━━━━━━━\u001b[0m\u001b[37m\u001b[0m \u001b[1m1s\u001b[0m 183ms/step - categorical_accuracy: 0.1322 - loss: 2.2938\n",
            "Epoch 1632/2000\n",
            "\u001b[1m7/7\u001b[0m \u001b[32m━━━━━━━━━━━━━━━━━━━━\u001b[0m\u001b[37m\u001b[0m \u001b[1m3s\u001b[0m 265ms/step - categorical_accuracy: 0.1327 - loss: 2.2956\n",
            "Epoch 1633/2000\n",
            "\u001b[1m7/7\u001b[0m \u001b[32m━━━━━━━━━━━━━━━━━━━━\u001b[0m\u001b[37m\u001b[0m \u001b[1m2s\u001b[0m 318ms/step - categorical_accuracy: 0.1652 - loss: 2.3147\n",
            "Epoch 1634/2000\n",
            "\u001b[1m7/7\u001b[0m \u001b[32m━━━━━━━━━━━━━━━━━━━━\u001b[0m\u001b[37m\u001b[0m \u001b[1m3s\u001b[0m 315ms/step - categorical_accuracy: 0.1329 - loss: 2.3105\n",
            "Epoch 1635/2000\n",
            "\u001b[1m7/7\u001b[0m \u001b[32m━━━━━━━━━━━━━━━━━━━━\u001b[0m\u001b[37m\u001b[0m \u001b[1m1s\u001b[0m 181ms/step - categorical_accuracy: 0.1174 - loss: 2.2914\n",
            "Epoch 1636/2000\n",
            "\u001b[1m7/7\u001b[0m \u001b[32m━━━━━━━━━━━━━━━━━━━━\u001b[0m\u001b[37m\u001b[0m \u001b[1m1s\u001b[0m 182ms/step - categorical_accuracy: 0.1289 - loss: 2.3223\n",
            "Epoch 1637/2000\n",
            "\u001b[1m7/7\u001b[0m \u001b[32m━━━━━━━━━━━━━━━━━━━━\u001b[0m\u001b[37m\u001b[0m \u001b[1m1s\u001b[0m 191ms/step - categorical_accuracy: 0.1534 - loss: 2.2740\n",
            "Epoch 1638/2000\n",
            "\u001b[1m7/7\u001b[0m \u001b[32m━━━━━━━━━━━━━━━━━━━━\u001b[0m\u001b[37m\u001b[0m \u001b[1m1s\u001b[0m 180ms/step - categorical_accuracy: 0.1404 - loss: 2.2912\n",
            "Epoch 1639/2000\n",
            "\u001b[1m7/7\u001b[0m \u001b[32m━━━━━━━━━━━━━━━━━━━━\u001b[0m\u001b[37m\u001b[0m \u001b[1m1s\u001b[0m 184ms/step - categorical_accuracy: 0.1211 - loss: 2.2926\n",
            "Epoch 1640/2000\n",
            "\u001b[1m7/7\u001b[0m \u001b[32m━━━━━━━━━━━━━━━━━━━━\u001b[0m\u001b[37m\u001b[0m \u001b[1m3s\u001b[0m 183ms/step - categorical_accuracy: 0.1084 - loss: 2.2594\n",
            "Epoch 1641/2000\n",
            "\u001b[1m7/7\u001b[0m \u001b[32m━━━━━━━━━━━━━━━━━━━━\u001b[0m\u001b[37m\u001b[0m \u001b[1m2s\u001b[0m 223ms/step - categorical_accuracy: 0.1505 - loss: 2.2718\n",
            "Epoch 1642/2000\n",
            "\u001b[1m7/7\u001b[0m \u001b[32m━━━━━━━━━━━━━━━━━━━━\u001b[0m\u001b[37m\u001b[0m \u001b[1m3s\u001b[0m 287ms/step - categorical_accuracy: 0.1272 - loss: 2.2930\n",
            "Epoch 1643/2000\n",
            "\u001b[1m7/7\u001b[0m \u001b[32m━━━━━━━━━━━━━━━━━━━━\u001b[0m\u001b[37m\u001b[0m \u001b[1m2s\u001b[0m 298ms/step - categorical_accuracy: 0.1481 - loss: 2.2957\n",
            "Epoch 1644/2000\n",
            "\u001b[1m7/7\u001b[0m \u001b[32m━━━━━━━━━━━━━━━━━━━━\u001b[0m\u001b[37m\u001b[0m \u001b[1m1s\u001b[0m 182ms/step - categorical_accuracy: 0.1260 - loss: 2.3004\n",
            "Epoch 1645/2000\n",
            "\u001b[1m7/7\u001b[0m \u001b[32m━━━━━━━━━━━━━━━━━━━━\u001b[0m\u001b[37m\u001b[0m \u001b[1m1s\u001b[0m 183ms/step - categorical_accuracy: 0.1655 - loss: 2.3094\n",
            "Epoch 1646/2000\n",
            "\u001b[1m7/7\u001b[0m \u001b[32m━━━━━━━━━━━━━━━━━━━━\u001b[0m\u001b[37m\u001b[0m \u001b[1m1s\u001b[0m 182ms/step - categorical_accuracy: 0.1440 - loss: 2.2633\n",
            "Epoch 1647/2000\n",
            "\u001b[1m7/7\u001b[0m \u001b[32m━━━━━━━━━━━━━━━━━━━━\u001b[0m\u001b[37m\u001b[0m \u001b[1m3s\u001b[0m 187ms/step - categorical_accuracy: 0.1615 - loss: 2.3004\n",
            "Epoch 1648/2000\n",
            "\u001b[1m7/7\u001b[0m \u001b[32m━━━━━━━━━━━━━━━━━━━━\u001b[0m\u001b[37m\u001b[0m \u001b[1m1s\u001b[0m 178ms/step - categorical_accuracy: 0.1510 - loss: 2.3201\n",
            "Epoch 1649/2000\n",
            "\u001b[1m7/7\u001b[0m \u001b[32m━━━━━━━━━━━━━━━━━━━━\u001b[0m\u001b[37m\u001b[0m \u001b[1m3s\u001b[0m 243ms/step - categorical_accuracy: 0.1275 - loss: 2.3335\n",
            "Epoch 1650/2000\n",
            "\u001b[1m7/7\u001b[0m \u001b[32m━━━━━━━━━━━━━━━━━━━━\u001b[0m\u001b[37m\u001b[0m \u001b[1m3s\u001b[0m 286ms/step - categorical_accuracy: 0.1491 - loss: 2.2758\n",
            "Epoch 1651/2000\n",
            "\u001b[1m7/7\u001b[0m \u001b[32m━━━━━━━━━━━━━━━━━━━━\u001b[0m\u001b[37m\u001b[0m \u001b[1m2s\u001b[0m 185ms/step - categorical_accuracy: 0.1266 - loss: 2.3128\n",
            "Epoch 1652/2000\n",
            "\u001b[1m7/7\u001b[0m \u001b[32m━━━━━━━━━━━━━━━━━━━━\u001b[0m\u001b[37m\u001b[0m \u001b[1m3s\u001b[0m 204ms/step - categorical_accuracy: 0.0972 - loss: 2.3115\n",
            "Epoch 1653/2000\n",
            "\u001b[1m7/7\u001b[0m \u001b[32m━━━━━━━━━━━━━━━━━━━━\u001b[0m\u001b[37m\u001b[0m \u001b[1m1s\u001b[0m 180ms/step - categorical_accuracy: 0.1458 - loss: 2.3017\n",
            "Epoch 1654/2000\n",
            "\u001b[1m7/7\u001b[0m \u001b[32m━━━━━━━━━━━━━━━━━━━━\u001b[0m\u001b[37m\u001b[0m \u001b[1m1s\u001b[0m 186ms/step - categorical_accuracy: 0.1358 - loss: 2.2923\n",
            "Epoch 1655/2000\n",
            "\u001b[1m7/7\u001b[0m \u001b[32m━━━━━━━━━━━━━━━━━━━━\u001b[0m\u001b[37m\u001b[0m \u001b[1m1s\u001b[0m 181ms/step - categorical_accuracy: 0.1239 - loss: 2.2817\n",
            "Epoch 1656/2000\n",
            "\u001b[1m7/7\u001b[0m \u001b[32m━━━━━━━━━━━━━━━━━━━━\u001b[0m\u001b[37m\u001b[0m \u001b[1m3s\u001b[0m 208ms/step - categorical_accuracy: 0.1014 - loss: 2.2847\n",
            "Epoch 1657/2000\n",
            "\u001b[1m7/7\u001b[0m \u001b[32m━━━━━━━━━━━━━━━━━━━━\u001b[0m\u001b[37m\u001b[0m \u001b[1m3s\u001b[0m 293ms/step - categorical_accuracy: 0.1030 - loss: 2.3242\n",
            "Epoch 1658/2000\n",
            "\u001b[1m7/7\u001b[0m \u001b[32m━━━━━━━━━━━━━━━━━━━━\u001b[0m\u001b[37m\u001b[0m \u001b[1m2s\u001b[0m 288ms/step - categorical_accuracy: 0.1500 - loss: 2.3017\n",
            "Epoch 1659/2000\n",
            "\u001b[1m7/7\u001b[0m \u001b[32m━━━━━━━━━━━━━━━━━━━━\u001b[0m\u001b[37m\u001b[0m \u001b[1m1s\u001b[0m 180ms/step - categorical_accuracy: 0.0844 - loss: 2.2779\n",
            "Epoch 1660/2000\n",
            "\u001b[1m7/7\u001b[0m \u001b[32m━━━━━━━━━━━━━━━━━━━━\u001b[0m\u001b[37m\u001b[0m \u001b[1m3s\u001b[0m 179ms/step - categorical_accuracy: 0.1325 - loss: 2.2767\n",
            "Epoch 1661/2000\n",
            "\u001b[1m7/7\u001b[0m \u001b[32m━━━━━━━━━━━━━━━━━━━━\u001b[0m\u001b[37m\u001b[0m \u001b[1m3s\u001b[0m 180ms/step - categorical_accuracy: 0.0949 - loss: 2.3006\n",
            "Epoch 1662/2000\n",
            "\u001b[1m7/7\u001b[0m \u001b[32m━━━━━━━━━━━━━━━━━━━━\u001b[0m\u001b[37m\u001b[0m \u001b[1m1s\u001b[0m 184ms/step - categorical_accuracy: 0.1698 - loss: 2.2759\n",
            "Epoch 1663/2000\n",
            "\u001b[1m7/7\u001b[0m \u001b[32m━━━━━━━━━━━━━━━━━━━━\u001b[0m\u001b[37m\u001b[0m \u001b[1m1s\u001b[0m 181ms/step - categorical_accuracy: 0.1268 - loss: 2.3044\n",
            "Epoch 1664/2000\n",
            "\u001b[1m7/7\u001b[0m \u001b[32m━━━━━━━━━━━━━━━━━━━━\u001b[0m\u001b[37m\u001b[0m \u001b[1m2s\u001b[0m 239ms/step - categorical_accuracy: 0.1211 - loss: 2.3249\n",
            "Epoch 1665/2000\n",
            "\u001b[1m7/7\u001b[0m \u001b[32m━━━━━━━━━━━━━━━━━━━━\u001b[0m\u001b[37m\u001b[0m \u001b[1m3s\u001b[0m 302ms/step - categorical_accuracy: 0.1664 - loss: 2.2899\n",
            "Epoch 1666/2000\n",
            "\u001b[1m7/7\u001b[0m \u001b[32m━━━━━━━━━━━━━━━━━━━━\u001b[0m\u001b[37m\u001b[0m \u001b[1m2s\u001b[0m 297ms/step - categorical_accuracy: 0.1178 - loss: 2.3205\n",
            "Epoch 1667/2000\n",
            "\u001b[1m7/7\u001b[0m \u001b[32m━━━━━━━━━━━━━━━━━━━━\u001b[0m\u001b[37m\u001b[0m \u001b[1m1s\u001b[0m 180ms/step - categorical_accuracy: 0.1270 - loss: 2.2951\n",
            "Epoch 1668/2000\n",
            "\u001b[1m7/7\u001b[0m \u001b[32m━━━━━━━━━━━━━━━━━━━━\u001b[0m\u001b[37m\u001b[0m \u001b[1m2s\u001b[0m 182ms/step - categorical_accuracy: 0.1567 - loss: 2.2688\n",
            "Epoch 1669/2000\n",
            "\u001b[1m7/7\u001b[0m \u001b[32m━━━━━━━━━━━━━━━━━━━━\u001b[0m\u001b[37m\u001b[0m \u001b[1m3s\u001b[0m 201ms/step - categorical_accuracy: 0.1136 - loss: 2.2806\n",
            "Epoch 1670/2000\n",
            "\u001b[1m7/7\u001b[0m \u001b[32m━━━━━━━━━━━━━━━━━━━━\u001b[0m\u001b[37m\u001b[0m \u001b[1m1s\u001b[0m 183ms/step - categorical_accuracy: 0.1603 - loss: 2.2695\n",
            "Epoch 1671/2000\n",
            "\u001b[1m7/7\u001b[0m \u001b[32m━━━━━━━━━━━━━━━━━━━━\u001b[0m\u001b[37m\u001b[0m \u001b[1m3s\u001b[0m 204ms/step - categorical_accuracy: 0.1581 - loss: 2.3010\n",
            "Epoch 1672/2000\n",
            "\u001b[1m7/7\u001b[0m \u001b[32m━━━━━━━━━━━━━━━━━━━━\u001b[0m\u001b[37m\u001b[0m \u001b[1m2s\u001b[0m 289ms/step - categorical_accuracy: 0.1180 - loss: 2.3121\n",
            "Epoch 1673/2000\n",
            "\u001b[1m7/7\u001b[0m \u001b[32m━━━━━━━━━━━━━━━━━━━━\u001b[0m\u001b[37m\u001b[0m \u001b[1m2s\u001b[0m 290ms/step - categorical_accuracy: 0.1631 - loss: 2.2681\n",
            "Epoch 1674/2000\n",
            "\u001b[1m7/7\u001b[0m \u001b[32m━━━━━━━━━━━━━━━━━━━━\u001b[0m\u001b[37m\u001b[0m \u001b[1m2s\u001b[0m 187ms/step - categorical_accuracy: 0.1607 - loss: 2.3589\n",
            "Epoch 1675/2000\n",
            "\u001b[1m7/7\u001b[0m \u001b[32m━━━━━━━━━━━━━━━━━━━━\u001b[0m\u001b[37m\u001b[0m \u001b[1m2s\u001b[0m 184ms/step - categorical_accuracy: 0.1255 - loss: 2.2806\n",
            "Epoch 1676/2000\n",
            "\u001b[1m7/7\u001b[0m \u001b[32m━━━━━━━━━━━━━━━━━━━━\u001b[0m\u001b[37m\u001b[0m \u001b[1m1s\u001b[0m 182ms/step - categorical_accuracy: 0.1279 - loss: 2.2938\n",
            "Epoch 1677/2000\n",
            "\u001b[1m7/7\u001b[0m \u001b[32m━━━━━━━━━━━━━━━━━━━━\u001b[0m\u001b[37m\u001b[0m \u001b[1m1s\u001b[0m 182ms/step - categorical_accuracy: 0.1366 - loss: 2.2700\n",
            "Epoch 1678/2000\n",
            "\u001b[1m7/7\u001b[0m \u001b[32m━━━━━━━━━━━━━━━━━━━━\u001b[0m\u001b[37m\u001b[0m \u001b[1m1s\u001b[0m 183ms/step - categorical_accuracy: 0.1266 - loss: 2.3115\n",
            "Epoch 1679/2000\n",
            "\u001b[1m7/7\u001b[0m \u001b[32m━━━━━━━━━━━━━━━━━━━━\u001b[0m\u001b[37m\u001b[0m \u001b[1m3s\u001b[0m 190ms/step - categorical_accuracy: 0.1370 - loss: 2.3169\n",
            "Epoch 1680/2000\n",
            "\u001b[1m7/7\u001b[0m \u001b[32m━━━━━━━━━━━━━━━━━━━━\u001b[0m\u001b[37m\u001b[0m \u001b[1m2s\u001b[0m 302ms/step - categorical_accuracy: 0.1222 - loss: 2.2963\n",
            "Epoch 1681/2000\n",
            "\u001b[1m7/7\u001b[0m \u001b[32m━━━━━━━━━━━━━━━━━━━━\u001b[0m\u001b[37m\u001b[0m \u001b[1m2s\u001b[0m 290ms/step - categorical_accuracy: 0.1307 - loss: 2.2901\n",
            "Epoch 1682/2000\n",
            "\u001b[1m7/7\u001b[0m \u001b[32m━━━━━━━━━━━━━━━━━━━━\u001b[0m\u001b[37m\u001b[0m \u001b[1m2s\u001b[0m 298ms/step - categorical_accuracy: 0.1377 - loss: 2.2797\n",
            "Epoch 1683/2000\n",
            "\u001b[1m7/7\u001b[0m \u001b[32m━━━━━━━━━━━━━━━━━━━━\u001b[0m\u001b[37m\u001b[0m \u001b[1m2s\u001b[0m 184ms/step - categorical_accuracy: 0.1292 - loss: 2.3309\n",
            "Epoch 1684/2000\n",
            "\u001b[1m7/7\u001b[0m \u001b[32m━━━━━━━━━━━━━━━━━━━━\u001b[0m\u001b[37m\u001b[0m \u001b[1m2s\u001b[0m 180ms/step - categorical_accuracy: 0.1115 - loss: 2.3075\n",
            "Epoch 1685/2000\n",
            "\u001b[1m7/7\u001b[0m \u001b[32m━━━━━━━━━━━━━━━━━━━━\u001b[0m\u001b[37m\u001b[0m \u001b[1m1s\u001b[0m 181ms/step - categorical_accuracy: 0.1351 - loss: 2.2812\n",
            "Epoch 1686/2000\n",
            "\u001b[1m7/7\u001b[0m \u001b[32m━━━━━━━━━━━━━━━━━━━━\u001b[0m\u001b[37m\u001b[0m \u001b[1m1s\u001b[0m 181ms/step - categorical_accuracy: 0.1260 - loss: 2.3168\n",
            "Epoch 1687/2000\n",
            "\u001b[1m7/7\u001b[0m \u001b[32m━━━━━━━━━━━━━━━━━━━━\u001b[0m\u001b[37m\u001b[0m \u001b[1m2s\u001b[0m 182ms/step - categorical_accuracy: 0.1073 - loss: 2.3092\n",
            "Epoch 1688/2000\n",
            "\u001b[1m7/7\u001b[0m \u001b[32m━━━━━━━━━━━━━━━━━━━━\u001b[0m\u001b[37m\u001b[0m \u001b[1m2s\u001b[0m 216ms/step - categorical_accuracy: 0.1390 - loss: 2.3009\n",
            "Epoch 1689/2000\n",
            "\u001b[1m7/7\u001b[0m \u001b[32m━━━━━━━━━━━━━━━━━━━━\u001b[0m\u001b[37m\u001b[0m \u001b[1m2s\u001b[0m 277ms/step - categorical_accuracy: 0.1189 - loss: 2.3324\n",
            "Epoch 1690/2000\n",
            "\u001b[1m7/7\u001b[0m \u001b[32m━━━━━━━━━━━━━━━━━━━━\u001b[0m\u001b[37m\u001b[0m \u001b[1m2s\u001b[0m 297ms/step - categorical_accuracy: 0.1220 - loss: 2.3528\n",
            "Epoch 1691/2000\n",
            "\u001b[1m7/7\u001b[0m \u001b[32m━━━━━━━━━━━━━━━━━━━━\u001b[0m\u001b[37m\u001b[0m \u001b[1m2s\u001b[0m 302ms/step - categorical_accuracy: 0.1310 - loss: 2.2930\n",
            "Epoch 1692/2000\n",
            "\u001b[1m7/7\u001b[0m \u001b[32m━━━━━━━━━━━━━━━━━━━━\u001b[0m\u001b[37m\u001b[0m \u001b[1m2s\u001b[0m 180ms/step - categorical_accuracy: 0.1451 - loss: 2.2949\n",
            "Epoch 1693/2000\n",
            "\u001b[1m7/7\u001b[0m \u001b[32m━━━━━━━━━━━━━━━━━━━━\u001b[0m\u001b[37m\u001b[0m \u001b[1m3s\u001b[0m 199ms/step - categorical_accuracy: 0.1230 - loss: 2.3062\n",
            "Epoch 1694/2000\n",
            "\u001b[1m7/7\u001b[0m \u001b[32m━━━━━━━━━━━━━━━━━━━━\u001b[0m\u001b[37m\u001b[0m \u001b[1m1s\u001b[0m 179ms/step - categorical_accuracy: 0.1371 - loss: 2.2908\n",
            "Epoch 1695/2000\n",
            "\u001b[1m7/7\u001b[0m \u001b[32m━━━━━━━━━━━━━━━━━━━━\u001b[0m\u001b[37m\u001b[0m \u001b[1m3s\u001b[0m 182ms/step - categorical_accuracy: 0.1135 - loss: 2.3102\n",
            "Epoch 1696/2000\n",
            "\u001b[1m7/7\u001b[0m \u001b[32m━━━━━━━━━━━━━━━━━━━━\u001b[0m\u001b[37m\u001b[0m \u001b[1m1s\u001b[0m 185ms/step - categorical_accuracy: 0.1361 - loss: 2.3116\n",
            "Epoch 1697/2000\n",
            "\u001b[1m7/7\u001b[0m \u001b[32m━━━━━━━━━━━━━━━━━━━━\u001b[0m\u001b[37m\u001b[0m \u001b[1m2s\u001b[0m 239ms/step - categorical_accuracy: 0.1272 - loss: 2.3587\n",
            "Epoch 1698/2000\n",
            "\u001b[1m7/7\u001b[0m \u001b[32m━━━━━━━━━━━━━━━━━━━━\u001b[0m\u001b[37m\u001b[0m \u001b[1m2s\u001b[0m 315ms/step - categorical_accuracy: 0.1242 - loss: 2.3025\n",
            "Epoch 1699/2000\n",
            "\u001b[1m7/7\u001b[0m \u001b[32m━━━━━━━━━━━━━━━━━━━━\u001b[0m\u001b[37m\u001b[0m \u001b[1m2s\u001b[0m 291ms/step - categorical_accuracy: 0.1656 - loss: 2.2903\n",
            "Epoch 1700/2000\n",
            "\u001b[1m7/7\u001b[0m \u001b[32m━━━━━━━━━━━━━━━━━━━━\u001b[0m\u001b[37m\u001b[0m \u001b[1m2s\u001b[0m 181ms/step - categorical_accuracy: 0.1229 - loss: 2.3040\n",
            "Epoch 1701/2000\n",
            "\u001b[1m7/7\u001b[0m \u001b[32m━━━━━━━━━━━━━━━━━━━━\u001b[0m\u001b[37m\u001b[0m \u001b[1m2s\u001b[0m 191ms/step - categorical_accuracy: 0.1247 - loss: 2.2799\n",
            "Epoch 1702/2000\n",
            "\u001b[1m7/7\u001b[0m \u001b[32m━━━━━━━━━━━━━━━━━━━━\u001b[0m\u001b[37m\u001b[0m \u001b[1m3s\u001b[0m 184ms/step - categorical_accuracy: 0.1253 - loss: 2.2864\n",
            "Epoch 1703/2000\n",
            "\u001b[1m7/7\u001b[0m \u001b[32m━━━━━━━━━━━━━━━━━━━━\u001b[0m\u001b[37m\u001b[0m \u001b[1m1s\u001b[0m 180ms/step - categorical_accuracy: 0.1244 - loss: 2.3181\n",
            "Epoch 1704/2000\n",
            "\u001b[1m7/7\u001b[0m \u001b[32m━━━━━━━━━━━━━━━━━━━━\u001b[0m\u001b[37m\u001b[0m \u001b[1m3s\u001b[0m 189ms/step - categorical_accuracy: 0.1148 - loss: 2.2959\n",
            "Epoch 1705/2000\n",
            "\u001b[1m7/7\u001b[0m \u001b[32m━━━━━━━━━━━━━━━━━━━━\u001b[0m\u001b[37m\u001b[0m \u001b[1m3s\u001b[0m 292ms/step - categorical_accuracy: 0.1376 - loss: 2.3175\n",
            "Epoch 1706/2000\n",
            "\u001b[1m7/7\u001b[0m \u001b[32m━━━━━━━━━━━━━━━━━━━━\u001b[0m\u001b[37m\u001b[0m \u001b[1m2s\u001b[0m 315ms/step - categorical_accuracy: 0.1225 - loss: 2.3080\n",
            "Epoch 1707/2000\n",
            "\u001b[1m7/7\u001b[0m \u001b[32m━━━━━━━━━━━━━━━━━━━━\u001b[0m\u001b[37m\u001b[0m \u001b[1m1s\u001b[0m 184ms/step - categorical_accuracy: 0.1073 - loss: 2.3126\n",
            "Epoch 1708/2000\n",
            "\u001b[1m7/7\u001b[0m \u001b[32m━━━━━━━━━━━━━━━━━━━━\u001b[0m\u001b[37m\u001b[0m \u001b[1m2s\u001b[0m 179ms/step - categorical_accuracy: 0.1420 - loss: 2.2789\n",
            "Epoch 1709/2000\n",
            "\u001b[1m7/7\u001b[0m \u001b[32m━━━━━━━━━━━━━━━━━━━━\u001b[0m\u001b[37m\u001b[0m \u001b[1m1s\u001b[0m 181ms/step - categorical_accuracy: 0.1433 - loss: 2.3006\n",
            "Epoch 1710/2000\n",
            "\u001b[1m7/7\u001b[0m \u001b[32m━━━━━━━━━━━━━━━━━━━━\u001b[0m\u001b[37m\u001b[0m \u001b[1m1s\u001b[0m 182ms/step - categorical_accuracy: 0.1191 - loss: 2.2888\n",
            "Epoch 1711/2000\n",
            "\u001b[1m7/7\u001b[0m \u001b[32m━━━━━━━━━━━━━━━━━━━━\u001b[0m\u001b[37m\u001b[0m \u001b[1m1s\u001b[0m 183ms/step - categorical_accuracy: 0.1441 - loss: 2.2793\n",
            "Epoch 1712/2000\n",
            "\u001b[1m7/7\u001b[0m \u001b[32m━━━━━━━━━━━━━━━━━━━━\u001b[0m\u001b[37m\u001b[0m \u001b[1m1s\u001b[0m 185ms/step - categorical_accuracy: 0.1510 - loss: 2.2835\n",
            "Epoch 1713/2000\n",
            "\u001b[1m7/7\u001b[0m \u001b[32m━━━━━━━━━━━━━━━━━━━━\u001b[0m\u001b[37m\u001b[0m \u001b[1m3s\u001b[0m 323ms/step - categorical_accuracy: 0.1467 - loss: 2.3180\n",
            "Epoch 1714/2000\n",
            "\u001b[1m7/7\u001b[0m \u001b[32m━━━━━━━━━━━━━━━━━━━━\u001b[0m\u001b[37m\u001b[0m \u001b[1m2s\u001b[0m 295ms/step - categorical_accuracy: 0.1464 - loss: 2.3018\n",
            "Epoch 1715/2000\n",
            "\u001b[1m7/7\u001b[0m \u001b[32m━━━━━━━━━━━━━━━━━━━━\u001b[0m\u001b[37m\u001b[0m \u001b[1m2s\u001b[0m 305ms/step - categorical_accuracy: 0.1633 - loss: 2.3015\n",
            "Epoch 1716/2000\n",
            "\u001b[1m7/7\u001b[0m \u001b[32m━━━━━━━━━━━━━━━━━━━━\u001b[0m\u001b[37m\u001b[0m \u001b[1m2s\u001b[0m 194ms/step - categorical_accuracy: 0.1182 - loss: 2.3292\n",
            "Epoch 1717/2000\n",
            "\u001b[1m7/7\u001b[0m \u001b[32m━━━━━━━━━━━━━━━━━━━━\u001b[0m\u001b[37m\u001b[0m \u001b[1m2s\u001b[0m 191ms/step - categorical_accuracy: 0.1331 - loss: 2.3177\n",
            "Epoch 1718/2000\n",
            "\u001b[1m7/7\u001b[0m \u001b[32m━━━━━━━━━━━━━━━━━━━━\u001b[0m\u001b[37m\u001b[0m \u001b[1m1s\u001b[0m 182ms/step - categorical_accuracy: 0.1462 - loss: 2.2994\n",
            "Epoch 1719/2000\n",
            "\u001b[1m7/7\u001b[0m \u001b[32m━━━━━━━━━━━━━━━━━━━━\u001b[0m\u001b[37m\u001b[0m \u001b[1m3s\u001b[0m 184ms/step - categorical_accuracy: 0.1309 - loss: 2.2692\n",
            "Epoch 1720/2000\n",
            "\u001b[1m7/7\u001b[0m \u001b[32m━━━━━━━━━━━━━━━━━━━━\u001b[0m\u001b[37m\u001b[0m \u001b[1m1s\u001b[0m 184ms/step - categorical_accuracy: 0.1458 - loss: 2.2968\n",
            "Epoch 1721/2000\n",
            "\u001b[1m7/7\u001b[0m \u001b[32m━━━━━━━━━━━━━━━━━━━━\u001b[0m\u001b[37m\u001b[0m \u001b[1m1s\u001b[0m 187ms/step - categorical_accuracy: 0.1570 - loss: 2.2734\n",
            "Epoch 1722/2000\n",
            "\u001b[1m7/7\u001b[0m \u001b[32m━━━━━━━━━━━━━━━━━━━━\u001b[0m\u001b[37m\u001b[0m \u001b[1m3s\u001b[0m 312ms/step - categorical_accuracy: 0.1356 - loss: 2.2808\n",
            "Epoch 1723/2000\n",
            "\u001b[1m7/7\u001b[0m \u001b[32m━━━━━━━━━━━━━━━━━━━━\u001b[0m\u001b[37m\u001b[0m \u001b[1m2s\u001b[0m 328ms/step - categorical_accuracy: 0.1273 - loss: 2.3107\n",
            "Epoch 1724/2000\n",
            "\u001b[1m7/7\u001b[0m \u001b[32m━━━━━━━━━━━━━━━━━━━━\u001b[0m\u001b[37m\u001b[0m \u001b[1m1s\u001b[0m 188ms/step - categorical_accuracy: 0.1344 - loss: 2.3307\n",
            "Epoch 1725/2000\n",
            "\u001b[1m7/7\u001b[0m \u001b[32m━━━━━━━━━━━━━━━━━━━━\u001b[0m\u001b[37m\u001b[0m \u001b[1m2s\u001b[0m 181ms/step - categorical_accuracy: 0.1290 - loss: 2.3121\n",
            "Epoch 1726/2000\n",
            "\u001b[1m7/7\u001b[0m \u001b[32m━━━━━━━━━━━━━━━━━━━━\u001b[0m\u001b[37m\u001b[0m \u001b[1m1s\u001b[0m 182ms/step - categorical_accuracy: 0.1270 - loss: 2.3242\n",
            "Epoch 1727/2000\n",
            "\u001b[1m7/7\u001b[0m \u001b[32m━━━━━━━━━━━━━━━━━━━━\u001b[0m\u001b[37m\u001b[0m \u001b[1m1s\u001b[0m 183ms/step - categorical_accuracy: 0.1443 - loss: 2.2683\n",
            "Epoch 1728/2000\n",
            "\u001b[1m7/7\u001b[0m \u001b[32m━━━━━━━━━━━━━━━━━━━━\u001b[0m\u001b[37m\u001b[0m \u001b[1m3s\u001b[0m 184ms/step - categorical_accuracy: 0.1141 - loss: 2.2877\n",
            "Epoch 1729/2000\n",
            "\u001b[1m7/7\u001b[0m \u001b[32m━━━━━━━━━━━━━━━━━━━━\u001b[0m\u001b[37m\u001b[0m \u001b[1m2s\u001b[0m 231ms/step - categorical_accuracy: 0.1242 - loss: 2.3298\n",
            "Epoch 1730/2000\n",
            "\u001b[1m7/7\u001b[0m \u001b[32m━━━━━━━━━━━━━━━━━━━━\u001b[0m\u001b[37m\u001b[0m \u001b[1m3s\u001b[0m 298ms/step - categorical_accuracy: 0.1223 - loss: 2.3072\n",
            "Epoch 1731/2000\n",
            "\u001b[1m7/7\u001b[0m \u001b[32m━━━━━━━━━━━━━━━━━━━━\u001b[0m\u001b[37m\u001b[0m \u001b[1m2s\u001b[0m 272ms/step - categorical_accuracy: 0.1235 - loss: 2.2928\n",
            "Epoch 1732/2000\n",
            "\u001b[1m7/7\u001b[0m \u001b[32m━━━━━━━━━━━━━━━━━━━━\u001b[0m\u001b[37m\u001b[0m \u001b[1m1s\u001b[0m 183ms/step - categorical_accuracy: 0.1349 - loss: 2.2950\n",
            "Epoch 1733/2000\n",
            "\u001b[1m7/7\u001b[0m \u001b[32m━━━━━━━━━━━━━━━━━━━━\u001b[0m\u001b[37m\u001b[0m \u001b[1m1s\u001b[0m 182ms/step - categorical_accuracy: 0.1471 - loss: 2.3396\n",
            "Epoch 1734/2000\n",
            "\u001b[1m7/7\u001b[0m \u001b[32m━━━━━━━━━━━━━━━━━━━━\u001b[0m\u001b[37m\u001b[0m \u001b[1m3s\u001b[0m 190ms/step - categorical_accuracy: 0.1668 - loss: 2.2846\n",
            "Epoch 1735/2000\n",
            "\u001b[1m7/7\u001b[0m \u001b[32m━━━━━━━━━━━━━━━━━━━━\u001b[0m\u001b[37m\u001b[0m \u001b[1m1s\u001b[0m 180ms/step - categorical_accuracy: 0.1046 - loss: 2.3146\n",
            "Epoch 1736/2000\n",
            "\u001b[1m7/7\u001b[0m \u001b[32m━━━━━━━━━━━━━━━━━━━━\u001b[0m\u001b[37m\u001b[0m \u001b[1m3s\u001b[0m 181ms/step - categorical_accuracy: 0.1214 - loss: 2.2978\n",
            "Epoch 1737/2000\n",
            "\u001b[1m7/7\u001b[0m \u001b[32m━━━━━━━━━━━━━━━━━━━━\u001b[0m\u001b[37m\u001b[0m \u001b[1m3s\u001b[0m 291ms/step - categorical_accuracy: 0.1465 - loss: 2.2895\n",
            "Epoch 1738/2000\n",
            "\u001b[1m7/7\u001b[0m \u001b[32m━━━━━━━━━━━━━━━━━━━━\u001b[0m\u001b[37m\u001b[0m \u001b[1m3s\u001b[0m 301ms/step - categorical_accuracy: 0.1301 - loss: 2.2744\n",
            "Epoch 1739/2000\n",
            "\u001b[1m7/7\u001b[0m \u001b[32m━━━━━━━━━━━━━━━━━━━━\u001b[0m\u001b[37m\u001b[0m \u001b[1m2s\u001b[0m 215ms/step - categorical_accuracy: 0.1342 - loss: 2.3052\n",
            "Epoch 1740/2000\n",
            "\u001b[1m7/7\u001b[0m \u001b[32m━━━━━━━━━━━━━━━━━━━━\u001b[0m\u001b[37m\u001b[0m \u001b[1m2s\u001b[0m 185ms/step - categorical_accuracy: 0.1256 - loss: 2.3384\n",
            "Epoch 1741/2000\n",
            "\u001b[1m7/7\u001b[0m \u001b[32m━━━━━━━━━━━━━━━━━━━━\u001b[0m\u001b[37m\u001b[0m \u001b[1m1s\u001b[0m 183ms/step - categorical_accuracy: 0.1278 - loss: 2.2786\n",
            "Epoch 1742/2000\n",
            "\u001b[1m7/7\u001b[0m \u001b[32m━━━━━━━━━━━━━━━━━━━━\u001b[0m\u001b[37m\u001b[0m \u001b[1m3s\u001b[0m 205ms/step - categorical_accuracy: 0.1303 - loss: 2.3119\n",
            "Epoch 1743/2000\n",
            "\u001b[1m7/7\u001b[0m \u001b[32m━━━━━━━━━━━━━━━━━━━━\u001b[0m\u001b[37m\u001b[0m \u001b[1m2s\u001b[0m 197ms/step - categorical_accuracy: 0.1411 - loss: 2.3189\n",
            "Epoch 1744/2000\n",
            "\u001b[1m7/7\u001b[0m \u001b[32m━━━━━━━━━━━━━━━━━━━━\u001b[0m\u001b[37m\u001b[0m \u001b[1m2s\u001b[0m 309ms/step - categorical_accuracy: 0.1393 - loss: 2.2806\n",
            "Epoch 1745/2000\n",
            "\u001b[1m7/7\u001b[0m \u001b[32m━━━━━━━━━━━━━━━━━━━━\u001b[0m\u001b[37m\u001b[0m \u001b[1m3s\u001b[0m 298ms/step - categorical_accuracy: 0.1461 - loss: 2.2865\n",
            "Epoch 1746/2000\n",
            "\u001b[1m7/7\u001b[0m \u001b[32m━━━━━━━━━━━━━━━━━━━━\u001b[0m\u001b[37m\u001b[0m \u001b[1m2s\u001b[0m 265ms/step - categorical_accuracy: 0.1371 - loss: 2.3048\n",
            "Epoch 1747/2000\n",
            "\u001b[1m7/7\u001b[0m \u001b[32m━━━━━━━━━━━━━━━━━━━━\u001b[0m\u001b[37m\u001b[0m \u001b[1m2s\u001b[0m 182ms/step - categorical_accuracy: 0.1498 - loss: 2.3004\n",
            "Epoch 1748/2000\n",
            "\u001b[1m7/7\u001b[0m \u001b[32m━━━━━━━━━━━━━━━━━━━━\u001b[0m\u001b[37m\u001b[0m \u001b[1m1s\u001b[0m 183ms/step - categorical_accuracy: 0.1298 - loss: 2.3140\n",
            "Epoch 1749/2000\n",
            "\u001b[1m7/7\u001b[0m \u001b[32m━━━━━━━━━━━━━━━━━━━━\u001b[0m\u001b[37m\u001b[0m \u001b[1m3s\u001b[0m 192ms/step - categorical_accuracy: 0.1480 - loss: 2.3286\n",
            "Epoch 1750/2000\n",
            "\u001b[1m7/7\u001b[0m \u001b[32m━━━━━━━━━━━━━━━━━━━━\u001b[0m\u001b[37m\u001b[0m \u001b[1m1s\u001b[0m 184ms/step - categorical_accuracy: 0.1440 - loss: 2.3081\n",
            "Epoch 1751/2000\n",
            "\u001b[1m7/7\u001b[0m \u001b[32m━━━━━━━━━━━━━━━━━━━━\u001b[0m\u001b[37m\u001b[0m \u001b[1m1s\u001b[0m 205ms/step - categorical_accuracy: 0.1630 - loss: 2.2692\n",
            "Epoch 1752/2000\n",
            "\u001b[1m7/7\u001b[0m \u001b[32m━━━━━━━━━━━━━━━━━━━━\u001b[0m\u001b[37m\u001b[0m \u001b[1m2s\u001b[0m 229ms/step - categorical_accuracy: 0.1204 - loss: 2.3188\n",
            "Epoch 1753/2000\n",
            "\u001b[1m7/7\u001b[0m \u001b[32m━━━━━━━━━━━━━━━━━━━━\u001b[0m\u001b[37m\u001b[0m \u001b[1m3s\u001b[0m 303ms/step - categorical_accuracy: 0.1270 - loss: 2.2859\n",
            "Epoch 1754/2000\n",
            "\u001b[1m7/7\u001b[0m \u001b[32m━━━━━━━━━━━━━━━━━━━━\u001b[0m\u001b[37m\u001b[0m \u001b[1m2s\u001b[0m 190ms/step - categorical_accuracy: 0.1105 - loss: 2.3148\n",
            "Epoch 1755/2000\n",
            "\u001b[1m7/7\u001b[0m \u001b[32m━━━━━━━━━━━━━━━━━━━━\u001b[0m\u001b[37m\u001b[0m \u001b[1m2s\u001b[0m 187ms/step - categorical_accuracy: 0.1437 - loss: 2.3116\n",
            "Epoch 1756/2000\n",
            "\u001b[1m7/7\u001b[0m \u001b[32m━━━━━━━━━━━━━━━━━━━━\u001b[0m\u001b[37m\u001b[0m \u001b[1m1s\u001b[0m 194ms/step - categorical_accuracy: 0.1163 - loss: 2.3081\n",
            "Epoch 1757/2000\n",
            "\u001b[1m7/7\u001b[0m \u001b[32m━━━━━━━━━━━━━━━━━━━━\u001b[0m\u001b[37m\u001b[0m \u001b[1m3s\u001b[0m 190ms/step - categorical_accuracy: 0.1174 - loss: 2.3241\n",
            "Epoch 1758/2000\n",
            "\u001b[1m7/7\u001b[0m \u001b[32m━━━━━━━━━━━━━━━━━━━━\u001b[0m\u001b[37m\u001b[0m \u001b[1m1s\u001b[0m 189ms/step - categorical_accuracy: 0.1346 - loss: 2.2958\n",
            "Epoch 1759/2000\n",
            "\u001b[1m7/7\u001b[0m \u001b[32m━━━━━━━━━━━━━━━━━━━━\u001b[0m\u001b[37m\u001b[0m \u001b[1m1s\u001b[0m 182ms/step - categorical_accuracy: 0.1628 - loss: 2.2659\n",
            "Epoch 1760/2000\n",
            "\u001b[1m7/7\u001b[0m \u001b[32m━━━━━━━━━━━━━━━━━━━━\u001b[0m\u001b[37m\u001b[0m \u001b[1m2s\u001b[0m 286ms/step - categorical_accuracy: 0.1411 - loss: 2.2758\n",
            "Epoch 1761/2000\n",
            "\u001b[1m7/7\u001b[0m \u001b[32m━━━━━━━━━━━━━━━━━━━━\u001b[0m\u001b[37m\u001b[0m \u001b[1m3s\u001b[0m 291ms/step - categorical_accuracy: 0.1441 - loss: 2.2954\n",
            "Epoch 1762/2000\n",
            "\u001b[1m7/7\u001b[0m \u001b[32m━━━━━━━━━━━━━━━━━━━━\u001b[0m\u001b[37m\u001b[0m \u001b[1m2s\u001b[0m 266ms/step - categorical_accuracy: 0.1657 - loss: 2.2842\n",
            "Epoch 1763/2000\n",
            "\u001b[1m7/7\u001b[0m \u001b[32m━━━━━━━━━━━━━━━━━━━━\u001b[0m\u001b[37m\u001b[0m \u001b[1m1s\u001b[0m 183ms/step - categorical_accuracy: 0.1248 - loss: 2.3078\n",
            "Epoch 1764/2000\n",
            "\u001b[1m7/7\u001b[0m \u001b[32m━━━━━━━━━━━━━━━━━━━━\u001b[0m\u001b[37m\u001b[0m \u001b[1m1s\u001b[0m 185ms/step - categorical_accuracy: 0.1233 - loss: 2.2911\n",
            "Epoch 1765/2000\n",
            "\u001b[1m7/7\u001b[0m \u001b[32m━━━━━━━━━━━━━━━━━━━━\u001b[0m\u001b[37m\u001b[0m \u001b[1m1s\u001b[0m 182ms/step - categorical_accuracy: 0.1419 - loss: 2.2977\n",
            "Epoch 1766/2000\n",
            "\u001b[1m7/7\u001b[0m \u001b[32m━━━━━━━━━━━━━━━━━━━━\u001b[0m\u001b[37m\u001b[0m \u001b[1m3s\u001b[0m 184ms/step - categorical_accuracy: 0.1404 - loss: 2.3064\n",
            "Epoch 1767/2000\n",
            "\u001b[1m7/7\u001b[0m \u001b[32m━━━━━━━━━━━━━━━━━━━━\u001b[0m\u001b[37m\u001b[0m \u001b[1m3s\u001b[0m 183ms/step - categorical_accuracy: 0.1378 - loss: 2.3087\n",
            "Epoch 1768/2000\n",
            "\u001b[1m7/7\u001b[0m \u001b[32m━━━━━━━━━━━━━━━━━━━━\u001b[0m\u001b[37m\u001b[0m \u001b[1m2s\u001b[0m 273ms/step - categorical_accuracy: 0.1207 - loss: 2.3311\n",
            "Epoch 1769/2000\n",
            "\u001b[1m7/7\u001b[0m \u001b[32m━━━━━━━━━━━━━━━━━━━━\u001b[0m\u001b[37m\u001b[0m \u001b[1m2s\u001b[0m 307ms/step - categorical_accuracy: 0.1333 - loss: 2.3129\n",
            "Epoch 1770/2000\n",
            "\u001b[1m7/7\u001b[0m \u001b[32m━━━━━━━━━━━━━━━━━━━━\u001b[0m\u001b[37m\u001b[0m \u001b[1m2s\u001b[0m 305ms/step - categorical_accuracy: 0.1637 - loss: 2.2823\n",
            "Epoch 1771/2000\n",
            "\u001b[1m7/7\u001b[0m \u001b[32m━━━━━━━━━━━━━━━━━━━━\u001b[0m\u001b[37m\u001b[0m \u001b[1m2s\u001b[0m 185ms/step - categorical_accuracy: 0.1264 - loss: 2.2939\n",
            "Epoch 1772/2000\n",
            "\u001b[1m7/7\u001b[0m \u001b[32m━━━━━━━━━━━━━━━━━━━━\u001b[0m\u001b[37m\u001b[0m \u001b[1m3s\u001b[0m 186ms/step - categorical_accuracy: 0.1482 - loss: 2.3085\n",
            "Epoch 1773/2000\n",
            "\u001b[1m7/7\u001b[0m \u001b[32m━━━━━━━━━━━━━━━━━━━━\u001b[0m\u001b[37m\u001b[0m \u001b[1m1s\u001b[0m 186ms/step - categorical_accuracy: 0.1395 - loss: 2.3085\n",
            "Epoch 1774/2000\n",
            "\u001b[1m7/7\u001b[0m \u001b[32m━━━━━━━━━━━━━━━━━━━━\u001b[0m\u001b[37m\u001b[0m \u001b[1m2s\u001b[0m 180ms/step - categorical_accuracy: 0.1279 - loss: 2.3261\n",
            "Epoch 1775/2000\n",
            "\u001b[1m7/7\u001b[0m \u001b[32m━━━━━━━━━━━━━━━━━━━━\u001b[0m\u001b[37m\u001b[0m \u001b[1m3s\u001b[0m 205ms/step - categorical_accuracy: 0.1245 - loss: 2.3104\n",
            "Epoch 1776/2000\n",
            "\u001b[1m7/7\u001b[0m \u001b[32m━━━━━━━━━━━━━━━━━━━━\u001b[0m\u001b[37m\u001b[0m \u001b[1m4s\u001b[0m 373ms/step - categorical_accuracy: 0.1221 - loss: 2.3037\n",
            "Epoch 1777/2000\n",
            "\u001b[1m7/7\u001b[0m \u001b[32m━━━━━━━━━━━━━━━━━━━━\u001b[0m\u001b[37m\u001b[0m \u001b[1m2s\u001b[0m 283ms/step - categorical_accuracy: 0.1251 - loss: 2.3096\n",
            "Epoch 1778/2000\n",
            "\u001b[1m7/7\u001b[0m \u001b[32m━━━━━━━━━━━━━━━━━━━━\u001b[0m\u001b[37m\u001b[0m \u001b[1m2s\u001b[0m 187ms/step - categorical_accuracy: 0.1275 - loss: 2.3285\n",
            "Epoch 1779/2000\n",
            "\u001b[1m7/7\u001b[0m \u001b[32m━━━━━━━━━━━━━━━━━━━━\u001b[0m\u001b[37m\u001b[0m \u001b[1m1s\u001b[0m 181ms/step - categorical_accuracy: 0.1486 - loss: 2.3218\n",
            "Epoch 1780/2000\n",
            "\u001b[1m7/7\u001b[0m \u001b[32m━━━━━━━━━━━━━━━━━━━━\u001b[0m\u001b[37m\u001b[0m \u001b[1m1s\u001b[0m 183ms/step - categorical_accuracy: 0.1431 - loss: 2.2899\n",
            "Epoch 1781/2000\n",
            "\u001b[1m7/7\u001b[0m \u001b[32m━━━━━━━━━━━━━━━━━━━━\u001b[0m\u001b[37m\u001b[0m \u001b[1m1s\u001b[0m 182ms/step - categorical_accuracy: 0.1281 - loss: 2.3584\n",
            "Epoch 1782/2000\n",
            "\u001b[1m7/7\u001b[0m \u001b[32m━━━━━━━━━━━━━━━━━━━━\u001b[0m\u001b[37m\u001b[0m \u001b[1m3s\u001b[0m 186ms/step - categorical_accuracy: 0.1320 - loss: 2.3206\n",
            "Epoch 1783/2000\n",
            "\u001b[1m7/7\u001b[0m \u001b[32m━━━━━━━━━━━━━━━━━━━━\u001b[0m\u001b[37m\u001b[0m \u001b[1m3s\u001b[0m 311ms/step - categorical_accuracy: 0.1413 - loss: 2.2904\n",
            "Epoch 1784/2000\n",
            "\u001b[1m7/7\u001b[0m \u001b[32m━━━━━━━━━━━━━━━━━━━━\u001b[0m\u001b[37m\u001b[0m \u001b[1m2s\u001b[0m 297ms/step - categorical_accuracy: 0.1238 - loss: 2.2916\n",
            "Epoch 1785/2000\n",
            "\u001b[1m7/7\u001b[0m \u001b[32m━━━━━━━━━━━━━━━━━━━━\u001b[0m\u001b[37m\u001b[0m \u001b[1m3s\u001b[0m 308ms/step - categorical_accuracy: 0.1642 - loss: 2.2808\n",
            "Epoch 1786/2000\n",
            "\u001b[1m7/7\u001b[0m \u001b[32m━━━━━━━━━━━━━━━━━━━━\u001b[0m\u001b[37m\u001b[0m \u001b[1m2s\u001b[0m 201ms/step - categorical_accuracy: 0.1518 - loss: 2.2929\n",
            "Epoch 1787/2000\n",
            "\u001b[1m7/7\u001b[0m \u001b[32m━━━━━━━━━━━━━━━━━━━━\u001b[0m\u001b[37m\u001b[0m \u001b[1m2s\u001b[0m 183ms/step - categorical_accuracy: 0.1217 - loss: 2.2725\n",
            "Epoch 1788/2000\n",
            "\u001b[1m7/7\u001b[0m \u001b[32m━━━━━━━━━━━━━━━━━━━━\u001b[0m\u001b[37m\u001b[0m \u001b[1m1s\u001b[0m 184ms/step - categorical_accuracy: 0.0944 - loss: 2.3066\n",
            "Epoch 1789/2000\n",
            "\u001b[1m7/7\u001b[0m \u001b[32m━━━━━━━━━━━━━━━━━━━━\u001b[0m\u001b[37m\u001b[0m \u001b[1m3s\u001b[0m 189ms/step - categorical_accuracy: 0.1172 - loss: 2.3172\n",
            "Epoch 1790/2000\n",
            "\u001b[1m7/7\u001b[0m \u001b[32m━━━━━━━━━━━━━━━━━━━━\u001b[0m\u001b[37m\u001b[0m \u001b[1m3s\u001b[0m 253ms/step - categorical_accuracy: 0.1378 - loss: 2.3024\n",
            "Epoch 1791/2000\n",
            "\u001b[1m7/7\u001b[0m \u001b[32m━━━━━━━━━━━━━━━━━━━━\u001b[0m\u001b[37m\u001b[0m \u001b[1m3s\u001b[0m 294ms/step - categorical_accuracy: 0.1518 - loss: 2.2857\n",
            "Epoch 1792/2000\n",
            "\u001b[1m7/7\u001b[0m \u001b[32m━━━━━━━━━━━━━━━━━━━━\u001b[0m\u001b[37m\u001b[0m \u001b[1m2s\u001b[0m 303ms/step - categorical_accuracy: 0.1212 - loss: 2.2890\n",
            "Epoch 1793/2000\n",
            "\u001b[1m7/7\u001b[0m \u001b[32m━━━━━━━━━━━━━━━━━━━━\u001b[0m\u001b[37m\u001b[0m \u001b[1m1s\u001b[0m 185ms/step - categorical_accuracy: 0.1547 - loss: 2.3001\n",
            "Epoch 1794/2000\n",
            "\u001b[1m7/7\u001b[0m \u001b[32m━━━━━━━━━━━━━━━━━━━━\u001b[0m\u001b[37m\u001b[0m \u001b[1m2s\u001b[0m 185ms/step - categorical_accuracy: 0.1369 - loss: 2.3045\n",
            "Epoch 1795/2000\n",
            "\u001b[1m7/7\u001b[0m \u001b[32m━━━━━━━━━━━━━━━━━━━━\u001b[0m\u001b[37m\u001b[0m \u001b[1m3s\u001b[0m 184ms/step - categorical_accuracy: 0.1393 - loss: 2.3135\n",
            "Epoch 1796/2000\n",
            "\u001b[1m7/7\u001b[0m \u001b[32m━━━━━━━━━━━━━━━━━━━━\u001b[0m\u001b[37m\u001b[0m \u001b[1m3s\u001b[0m 187ms/step - categorical_accuracy: 0.1258 - loss: 2.3109\n",
            "Epoch 1797/2000\n",
            "\u001b[1m7/7\u001b[0m \u001b[32m━━━━━━━━━━━━━━━━━━━━\u001b[0m\u001b[37m\u001b[0m \u001b[1m1s\u001b[0m 204ms/step - categorical_accuracy: 0.1393 - loss: 2.3220\n",
            "Epoch 1798/2000\n",
            "\u001b[1m7/7\u001b[0m \u001b[32m━━━━━━━━━━━━━━━━━━━━\u001b[0m\u001b[37m\u001b[0m \u001b[1m2s\u001b[0m 293ms/step - categorical_accuracy: 0.1062 - loss: 2.3025\n",
            "Epoch 1799/2000\n",
            "\u001b[1m7/7\u001b[0m \u001b[32m━━━━━━━━━━━━━━━━━━━━\u001b[0m\u001b[37m\u001b[0m \u001b[1m3s\u001b[0m 327ms/step - categorical_accuracy: 0.1496 - loss: 2.3050\n",
            "Epoch 1800/2000\n",
            "\u001b[1m7/7\u001b[0m \u001b[32m━━━━━━━━━━━━━━━━━━━━\u001b[0m\u001b[37m\u001b[0m \u001b[1m2s\u001b[0m 258ms/step - categorical_accuracy: 0.1348 - loss: 2.2983\n",
            "Epoch 1801/2000\n",
            "\u001b[1m7/7\u001b[0m \u001b[32m━━━━━━━━━━━━━━━━━━━━\u001b[0m\u001b[37m\u001b[0m \u001b[1m2s\u001b[0m 202ms/step - categorical_accuracy: 0.1292 - loss: 2.3139\n",
            "Epoch 1802/2000\n",
            "\u001b[1m7/7\u001b[0m \u001b[32m━━━━━━━━━━━━━━━━━━━━\u001b[0m\u001b[37m\u001b[0m \u001b[1m1s\u001b[0m 185ms/step - categorical_accuracy: 0.1046 - loss: 2.3067\n",
            "Epoch 1803/2000\n",
            "\u001b[1m7/7\u001b[0m \u001b[32m━━━━━━━━━━━━━━━━━━━━\u001b[0m\u001b[37m\u001b[0m \u001b[1m1s\u001b[0m 185ms/step - categorical_accuracy: 0.1360 - loss: 2.3138\n",
            "Epoch 1804/2000\n",
            "\u001b[1m7/7\u001b[0m \u001b[32m━━━━━━━━━━━━━━━━━━━━\u001b[0m\u001b[37m\u001b[0m \u001b[1m3s\u001b[0m 202ms/step - categorical_accuracy: 0.1202 - loss: 2.3091\n",
            "Epoch 1805/2000\n",
            "\u001b[1m7/7\u001b[0m \u001b[32m━━━━━━━━━━━━━━━━━━━━\u001b[0m\u001b[37m\u001b[0m \u001b[1m1s\u001b[0m 190ms/step - categorical_accuracy: 0.1458 - loss: 2.2880\n",
            "Epoch 1806/2000\n",
            "\u001b[1m7/7\u001b[0m \u001b[32m━━━━━━━━━━━━━━━━━━━━\u001b[0m\u001b[37m\u001b[0m \u001b[1m2s\u001b[0m 265ms/step - categorical_accuracy: 0.1161 - loss: 2.3036\n",
            "Epoch 1807/2000\n",
            "\u001b[1m7/7\u001b[0m \u001b[32m━━━━━━━━━━━━━━━━━━━━\u001b[0m\u001b[37m\u001b[0m \u001b[1m3s\u001b[0m 299ms/step - categorical_accuracy: 0.1350 - loss: 2.3188\n",
            "Epoch 1808/2000\n",
            "\u001b[1m7/7\u001b[0m \u001b[32m━━━━━━━━━━━━━━━━━━━━\u001b[0m\u001b[37m\u001b[0m \u001b[1m2s\u001b[0m 184ms/step - categorical_accuracy: 0.1285 - loss: 2.3073\n",
            "Epoch 1809/2000\n",
            "\u001b[1m7/7\u001b[0m \u001b[32m━━━━━━━━━━━━━━━━━━━━\u001b[0m\u001b[37m\u001b[0m \u001b[1m3s\u001b[0m 194ms/step - categorical_accuracy: 0.1630 - loss: 2.2837\n",
            "Epoch 1810/2000\n",
            "\u001b[1m7/7\u001b[0m \u001b[32m━━━━━━━━━━━━━━━━━━━━\u001b[0m\u001b[37m\u001b[0m \u001b[1m2s\u001b[0m 186ms/step - categorical_accuracy: 0.1431 - loss: 2.3043\n",
            "Epoch 1811/2000\n",
            "\u001b[1m7/7\u001b[0m \u001b[32m━━━━━━━━━━━━━━━━━━━━\u001b[0m\u001b[37m\u001b[0m \u001b[1m3s\u001b[0m 201ms/step - categorical_accuracy: 0.1185 - loss: 2.2977\n",
            "Epoch 1812/2000\n",
            "\u001b[1m7/7\u001b[0m \u001b[32m━━━━━━━━━━━━━━━━━━━━\u001b[0m\u001b[37m\u001b[0m \u001b[1m3s\u001b[0m 310ms/step - categorical_accuracy: 0.1515 - loss: 2.3159\n",
            "Epoch 1813/2000\n",
            "\u001b[1m7/7\u001b[0m \u001b[32m━━━━━━━━━━━━━━━━━━━━\u001b[0m\u001b[37m\u001b[0m \u001b[1m2s\u001b[0m 290ms/step - categorical_accuracy: 0.1361 - loss: 2.3049\n",
            "Epoch 1814/2000\n",
            "\u001b[1m7/7\u001b[0m \u001b[32m━━━━━━━━━━━━━━━━━━━━\u001b[0m\u001b[37m\u001b[0m \u001b[1m2s\u001b[0m 276ms/step - categorical_accuracy: 0.1497 - loss: 2.3133\n",
            "Epoch 1815/2000\n",
            "\u001b[1m7/7\u001b[0m \u001b[32m━━━━━━━━━━━━━━━━━━━━\u001b[0m\u001b[37m\u001b[0m \u001b[1m1s\u001b[0m 183ms/step - categorical_accuracy: 0.1488 - loss: 2.2791\n",
            "Epoch 1816/2000\n",
            "\u001b[1m7/7\u001b[0m \u001b[32m━━━━━━━━━━━━━━━━━━━━\u001b[0m\u001b[37m\u001b[0m \u001b[1m1s\u001b[0m 184ms/step - categorical_accuracy: 0.1410 - loss: 2.2784\n",
            "Epoch 1817/2000\n",
            "\u001b[1m7/7\u001b[0m \u001b[32m━━━━━━━━━━━━━━━━━━━━\u001b[0m\u001b[37m\u001b[0m \u001b[1m1s\u001b[0m 180ms/step - categorical_accuracy: 0.1267 - loss: 2.3080\n",
            "Epoch 1818/2000\n",
            "\u001b[1m7/7\u001b[0m \u001b[32m━━━━━━━━━━━━━━━━━━━━\u001b[0m\u001b[37m\u001b[0m \u001b[1m3s\u001b[0m 185ms/step - categorical_accuracy: 0.1175 - loss: 2.2893\n",
            "Epoch 1819/2000\n",
            "\u001b[1m7/7\u001b[0m \u001b[32m━━━━━━━━━━━━━━━━━━━━\u001b[0m\u001b[37m\u001b[0m \u001b[1m3s\u001b[0m 182ms/step - categorical_accuracy: 0.1168 - loss: 2.2808\n",
            "Epoch 1820/2000\n",
            "\u001b[1m7/7\u001b[0m \u001b[32m━━━━━━━━━━━━━━━━━━━━\u001b[0m\u001b[37m\u001b[0m \u001b[1m2s\u001b[0m 240ms/step - categorical_accuracy: 0.1215 - loss: 2.2950\n",
            "Epoch 1821/2000\n",
            "\u001b[1m7/7\u001b[0m \u001b[32m━━━━━━━━━━━━━━━━━━━━\u001b[0m\u001b[37m\u001b[0m \u001b[1m2s\u001b[0m 303ms/step - categorical_accuracy: 0.1299 - loss: 2.3126\n",
            "Epoch 1822/2000\n",
            "\u001b[1m7/7\u001b[0m \u001b[32m━━━━━━━━━━━━━━━━━━━━\u001b[0m\u001b[37m\u001b[0m \u001b[1m2s\u001b[0m 296ms/step - categorical_accuracy: 0.1208 - loss: 2.3176\n",
            "Epoch 1823/2000\n",
            "\u001b[1m7/7\u001b[0m \u001b[32m━━━━━━━━━━━━━━━━━━━━\u001b[0m\u001b[37m\u001b[0m \u001b[1m2s\u001b[0m 262ms/step - categorical_accuracy: 0.1639 - loss: 2.2770\n",
            "Epoch 1824/2000\n",
            "\u001b[1m7/7\u001b[0m \u001b[32m━━━━━━━━━━━━━━━━━━━━\u001b[0m\u001b[37m\u001b[0m \u001b[1m1s\u001b[0m 184ms/step - categorical_accuracy: 0.1187 - loss: 2.3555\n",
            "Epoch 1825/2000\n",
            "\u001b[1m7/7\u001b[0m \u001b[32m━━━━━━━━━━━━━━━━━━━━\u001b[0m\u001b[37m\u001b[0m \u001b[1m3s\u001b[0m 198ms/step - categorical_accuracy: 0.1414 - loss: 2.2883\n",
            "Epoch 1826/2000\n",
            "\u001b[1m7/7\u001b[0m \u001b[32m━━━━━━━━━━━━━━━━━━━━\u001b[0m\u001b[37m\u001b[0m \u001b[1m1s\u001b[0m 186ms/step - categorical_accuracy: 0.1115 - loss: 2.2861\n",
            "Epoch 1827/2000\n",
            "\u001b[1m7/7\u001b[0m \u001b[32m━━━━━━━━━━━━━━━━━━━━\u001b[0m\u001b[37m\u001b[0m \u001b[1m3s\u001b[0m 186ms/step - categorical_accuracy: 0.1331 - loss: 2.3273\n",
            "Epoch 1828/2000\n",
            "\u001b[1m7/7\u001b[0m \u001b[32m━━━━━━━━━━━━━━━━━━━━\u001b[0m\u001b[37m\u001b[0m \u001b[1m3s\u001b[0m 280ms/step - categorical_accuracy: 0.1505 - loss: 2.3102\n",
            "Epoch 1829/2000\n",
            "\u001b[1m7/7\u001b[0m \u001b[32m━━━━━━━━━━━━━━━━━━━━\u001b[0m\u001b[37m\u001b[0m \u001b[1m2s\u001b[0m 289ms/step - categorical_accuracy: 0.1085 - loss: 2.3019\n",
            "Epoch 1830/2000\n",
            "\u001b[1m7/7\u001b[0m \u001b[32m━━━━━━━━━━━━━━━━━━━━\u001b[0m\u001b[37m\u001b[0m \u001b[1m3s\u001b[0m 308ms/step - categorical_accuracy: 0.1283 - loss: 2.3136\n",
            "Epoch 1831/2000\n",
            "\u001b[1m7/7\u001b[0m \u001b[32m━━━━━━━━━━━━━━━━━━━━\u001b[0m\u001b[37m\u001b[0m \u001b[1m1s\u001b[0m 182ms/step - categorical_accuracy: 0.1325 - loss: 2.3015\n",
            "Epoch 1832/2000\n",
            "\u001b[1m7/7\u001b[0m \u001b[32m━━━━━━━━━━━━━━━━━━━━\u001b[0m\u001b[37m\u001b[0m \u001b[1m1s\u001b[0m 201ms/step - categorical_accuracy: 0.1281 - loss: 2.3153\n",
            "Epoch 1833/2000\n",
            "\u001b[1m7/7\u001b[0m \u001b[32m━━━━━━━━━━━━━━━━━━━━\u001b[0m\u001b[37m\u001b[0m \u001b[1m2s\u001b[0m 184ms/step - categorical_accuracy: 0.1452 - loss: 2.2818\n",
            "Epoch 1834/2000\n",
            "\u001b[1m7/7\u001b[0m \u001b[32m━━━━━━━━━━━━━━━━━━━━\u001b[0m\u001b[37m\u001b[0m \u001b[1m3s\u001b[0m 200ms/step - categorical_accuracy: 0.1390 - loss: 2.3193\n",
            "Epoch 1835/2000\n",
            "\u001b[1m7/7\u001b[0m \u001b[32m━━━━━━━━━━━━━━━━━━━━\u001b[0m\u001b[37m\u001b[0m \u001b[1m3s\u001b[0m 199ms/step - categorical_accuracy: 0.1336 - loss: 2.3061\n",
            "Epoch 1836/2000\n",
            "\u001b[1m7/7\u001b[0m \u001b[32m━━━━━━━━━━━━━━━━━━━━\u001b[0m\u001b[37m\u001b[0m \u001b[1m3s\u001b[0m 298ms/step - categorical_accuracy: 0.1546 - loss: 2.2950\n",
            "Epoch 1837/2000\n",
            "\u001b[1m7/7\u001b[0m \u001b[32m━━━━━━━━━━━━━━━━━━━━\u001b[0m\u001b[37m\u001b[0m \u001b[1m2s\u001b[0m 206ms/step - categorical_accuracy: 0.1383 - loss: 2.2981\n",
            "Epoch 1838/2000\n",
            "\u001b[1m7/7\u001b[0m \u001b[32m━━━━━━━━━━━━━━━━━━━━\u001b[0m\u001b[37m\u001b[0m \u001b[1m2s\u001b[0m 191ms/step - categorical_accuracy: 0.1369 - loss: 2.2718\n",
            "Epoch 1839/2000\n",
            "\u001b[1m7/7\u001b[0m \u001b[32m━━━━━━━━━━━━━━━━━━━━\u001b[0m\u001b[37m\u001b[0m \u001b[1m1s\u001b[0m 183ms/step - categorical_accuracy: 0.1309 - loss: 2.2984\n",
            "Epoch 1840/2000\n",
            "\u001b[1m7/7\u001b[0m \u001b[32m━━━━━━━━━━━━━━━━━━━━\u001b[0m\u001b[37m\u001b[0m \u001b[1m3s\u001b[0m 204ms/step - categorical_accuracy: 0.1331 - loss: 2.3037\n",
            "Epoch 1841/2000\n",
            "\u001b[1m7/7\u001b[0m \u001b[32m━━━━━━━━━━━━━━━━━━━━\u001b[0m\u001b[37m\u001b[0m \u001b[1m2s\u001b[0m 198ms/step - categorical_accuracy: 0.1373 - loss: 2.3042\n",
            "Epoch 1842/2000\n",
            "\u001b[1m7/7\u001b[0m \u001b[32m━━━━━━━━━━━━━━━━━━━━\u001b[0m\u001b[37m\u001b[0m \u001b[1m3s\u001b[0m 302ms/step - categorical_accuracy: 0.1568 - loss: 2.3020\n",
            "Epoch 1843/2000\n",
            "\u001b[1m7/7\u001b[0m \u001b[32m━━━━━━━━━━━━━━━━━━━━\u001b[0m\u001b[37m\u001b[0m \u001b[1m3s\u001b[0m 317ms/step - categorical_accuracy: 0.1527 - loss: 2.2861\n",
            "Epoch 1844/2000\n",
            "\u001b[1m7/7\u001b[0m \u001b[32m━━━━━━━━━━━━━━━━━━━━\u001b[0m\u001b[37m\u001b[0m \u001b[1m1s\u001b[0m 187ms/step - categorical_accuracy: 0.1651 - loss: 2.2939\n",
            "Epoch 1845/2000\n",
            "\u001b[1m7/7\u001b[0m \u001b[32m━━━━━━━━━━━━━━━━━━━━\u001b[0m\u001b[37m\u001b[0m \u001b[1m1s\u001b[0m 190ms/step - categorical_accuracy: 0.1284 - loss: 2.2674\n",
            "Epoch 1846/2000\n",
            "\u001b[1m7/7\u001b[0m \u001b[32m━━━━━━━━━━━━━━━━━━━━\u001b[0m\u001b[37m\u001b[0m \u001b[1m3s\u001b[0m 195ms/step - categorical_accuracy: 0.1310 - loss: 2.2842\n",
            "Epoch 1847/2000\n",
            "\u001b[1m7/7\u001b[0m \u001b[32m━━━━━━━━━━━━━━━━━━━━\u001b[0m\u001b[37m\u001b[0m \u001b[1m1s\u001b[0m 199ms/step - categorical_accuracy: 0.1151 - loss: 2.3088\n",
            "Epoch 1848/2000\n",
            "\u001b[1m7/7\u001b[0m \u001b[32m━━━━━━━━━━━━━━━━━━━━\u001b[0m\u001b[37m\u001b[0m \u001b[1m1s\u001b[0m 196ms/step - categorical_accuracy: 0.1280 - loss: 2.2869\n",
            "Epoch 1849/2000\n",
            "\u001b[1m7/7\u001b[0m \u001b[32m━━━━━━━━━━━━━━━━━━━━\u001b[0m\u001b[37m\u001b[0m \u001b[1m3s\u001b[0m 260ms/step - categorical_accuracy: 0.1625 - loss: 2.3201\n",
            "Epoch 1850/2000\n",
            "\u001b[1m7/7\u001b[0m \u001b[32m━━━━━━━━━━━━━━━━━━━━\u001b[0m\u001b[37m\u001b[0m \u001b[1m2s\u001b[0m 322ms/step - categorical_accuracy: 0.1705 - loss: 2.2815\n",
            "Epoch 1851/2000\n",
            "\u001b[1m7/7\u001b[0m \u001b[32m━━━━━━━━━━━━━━━━━━━━\u001b[0m\u001b[37m\u001b[0m \u001b[1m2s\u001b[0m 314ms/step - categorical_accuracy: 0.1499 - loss: 2.2998\n",
            "Epoch 1852/2000\n",
            "\u001b[1m7/7\u001b[0m \u001b[32m━━━━━━━━━━━━━━━━━━━━\u001b[0m\u001b[37m\u001b[0m \u001b[1m2s\u001b[0m 303ms/step - categorical_accuracy: 0.1316 - loss: 2.2910\n",
            "Epoch 1853/2000\n",
            "\u001b[1m7/7\u001b[0m \u001b[32m━━━━━━━━━━━━━━━━━━━━\u001b[0m\u001b[37m\u001b[0m \u001b[1m1s\u001b[0m 189ms/step - categorical_accuracy: 0.1432 - loss: 2.3012\n",
            "Epoch 1854/2000\n",
            "\u001b[1m7/7\u001b[0m \u001b[32m━━━━━━━━━━━━━━━━━━━━\u001b[0m\u001b[37m\u001b[0m \u001b[1m3s\u001b[0m 201ms/step - categorical_accuracy: 0.1192 - loss: 2.2940\n",
            "Epoch 1855/2000\n",
            "\u001b[1m7/7\u001b[0m \u001b[32m━━━━━━━━━━━━━━━━━━━━\u001b[0m\u001b[37m\u001b[0m \u001b[1m2s\u001b[0m 206ms/step - categorical_accuracy: 0.1362 - loss: 2.3128\n",
            "Epoch 1856/2000\n",
            "\u001b[1m7/7\u001b[0m \u001b[32m━━━━━━━━━━━━━━━━━━━━\u001b[0m\u001b[37m\u001b[0m \u001b[1m1s\u001b[0m 200ms/step - categorical_accuracy: 0.1324 - loss: 2.3022\n",
            "Epoch 1857/2000\n",
            "\u001b[1m7/7\u001b[0m \u001b[32m━━━━━━━━━━━━━━━━━━━━\u001b[0m\u001b[37m\u001b[0m \u001b[1m3s\u001b[0m 202ms/step - categorical_accuracy: 0.1383 - loss: 2.2812\n",
            "Epoch 1858/2000\n",
            "\u001b[1m7/7\u001b[0m \u001b[32m━━━━━━━━━━━━━━━━━━━━\u001b[0m\u001b[37m\u001b[0m \u001b[1m3s\u001b[0m 307ms/step - categorical_accuracy: 0.1395 - loss: 2.3325\n",
            "Epoch 1859/2000\n",
            "\u001b[1m7/7\u001b[0m \u001b[32m━━━━━━━━━━━━━━━━━━━━\u001b[0m\u001b[37m\u001b[0m \u001b[1m2s\u001b[0m 295ms/step - categorical_accuracy: 0.1379 - loss: 2.3215\n",
            "Epoch 1860/2000\n",
            "\u001b[1m7/7\u001b[0m \u001b[32m━━━━━━━━━━━━━━━━━━━━\u001b[0m\u001b[37m\u001b[0m \u001b[1m2s\u001b[0m 199ms/step - categorical_accuracy: 0.1745 - loss: 2.2809\n",
            "Epoch 1861/2000\n",
            "\u001b[1m7/7\u001b[0m \u001b[32m━━━━━━━━━━━━━━━━━━━━\u001b[0m\u001b[37m\u001b[0m \u001b[1m3s\u001b[0m 207ms/step - categorical_accuracy: 0.1253 - loss: 2.3308\n",
            "Epoch 1862/2000\n",
            "\u001b[1m7/7\u001b[0m \u001b[32m━━━━━━━━━━━━━━━━━━━━\u001b[0m\u001b[37m\u001b[0m \u001b[1m2s\u001b[0m 188ms/step - categorical_accuracy: 0.1247 - loss: 2.3128\n",
            "Epoch 1863/2000\n",
            "\u001b[1m7/7\u001b[0m \u001b[32m━━━━━━━━━━━━━━━━━━━━\u001b[0m\u001b[37m\u001b[0m \u001b[1m3s\u001b[0m 196ms/step - categorical_accuracy: 0.1359 - loss: 2.3039\n",
            "Epoch 1864/2000\n",
            "\u001b[1m7/7\u001b[0m \u001b[32m━━━━━━━━━━━━━━━━━━━━\u001b[0m\u001b[37m\u001b[0m \u001b[1m3s\u001b[0m 297ms/step - categorical_accuracy: 0.1230 - loss: 2.2801\n",
            "Epoch 1865/2000\n",
            "\u001b[1m7/7\u001b[0m \u001b[32m━━━━━━━━━━━━━━━━━━━━\u001b[0m\u001b[37m\u001b[0m \u001b[1m2s\u001b[0m 322ms/step - categorical_accuracy: 0.1245 - loss: 2.3598\n",
            "Epoch 1866/2000\n",
            "\u001b[1m7/7\u001b[0m \u001b[32m━━━━━━━━━━━━━━━━━━━━\u001b[0m\u001b[37m\u001b[0m \u001b[1m2s\u001b[0m 207ms/step - categorical_accuracy: 0.1402 - loss: 2.3062\n",
            "Epoch 1867/2000\n",
            "\u001b[1m7/7\u001b[0m \u001b[32m━━━━━━━━━━━━━━━━━━━━\u001b[0m\u001b[37m\u001b[0m \u001b[1m2s\u001b[0m 205ms/step - categorical_accuracy: 0.1275 - loss: 2.2981\n",
            "Epoch 1868/2000\n",
            "\u001b[1m7/7\u001b[0m \u001b[32m━━━━━━━━━━━━━━━━━━━━\u001b[0m\u001b[37m\u001b[0m \u001b[1m2s\u001b[0m 209ms/step - categorical_accuracy: 0.1490 - loss: 2.3247\n",
            "Epoch 1869/2000\n",
            "\u001b[1m7/7\u001b[0m \u001b[32m━━━━━━━━━━━━━━━━━━━━\u001b[0m\u001b[37m\u001b[0m \u001b[1m2s\u001b[0m 211ms/step - categorical_accuracy: 0.1426 - loss: 2.3131\n",
            "Epoch 1870/2000\n",
            "\u001b[1m7/7\u001b[0m \u001b[32m━━━━━━━━━━━━━━━━━━━━\u001b[0m\u001b[37m\u001b[0m \u001b[1m2s\u001b[0m 205ms/step - categorical_accuracy: 0.1449 - loss: 2.3121\n",
            "Epoch 1871/2000\n",
            "\u001b[1m7/7\u001b[0m \u001b[32m━━━━━━━━━━━━━━━━━━━━\u001b[0m\u001b[37m\u001b[0m \u001b[1m3s\u001b[0m 255ms/step - categorical_accuracy: 0.1496 - loss: 2.3276\n",
            "Epoch 1872/2000\n",
            "\u001b[1m7/7\u001b[0m \u001b[32m━━━━━━━━━━━━━━━━━━━━\u001b[0m\u001b[37m\u001b[0m \u001b[1m2s\u001b[0m 307ms/step - categorical_accuracy: 0.1350 - loss: 2.3127\n",
            "Epoch 1873/2000\n",
            "\u001b[1m7/7\u001b[0m \u001b[32m━━━━━━━━━━━━━━━━━━━━\u001b[0m\u001b[37m\u001b[0m \u001b[1m2s\u001b[0m 305ms/step - categorical_accuracy: 0.1348 - loss: 2.3036\n",
            "Epoch 1874/2000\n",
            "\u001b[1m7/7\u001b[0m \u001b[32m━━━━━━━━━━━━━━━━━━━━\u001b[0m\u001b[37m\u001b[0m \u001b[1m2s\u001b[0m 310ms/step - categorical_accuracy: 0.1570 - loss: 2.3171\n",
            "Epoch 1875/2000\n",
            "\u001b[1m7/7\u001b[0m \u001b[32m━━━━━━━━━━━━━━━━━━━━\u001b[0m\u001b[37m\u001b[0m \u001b[1m2s\u001b[0m 205ms/step - categorical_accuracy: 0.1434 - loss: 2.3007\n",
            "Epoch 1876/2000\n",
            "\u001b[1m7/7\u001b[0m \u001b[32m━━━━━━━━━━━━━━━━━━━━\u001b[0m\u001b[37m\u001b[0m \u001b[1m2s\u001b[0m 191ms/step - categorical_accuracy: 0.1302 - loss: 2.2953\n",
            "Epoch 1877/2000\n",
            "\u001b[1m7/7\u001b[0m \u001b[32m━━━━━━━━━━━━━━━━━━━━\u001b[0m\u001b[37m\u001b[0m \u001b[1m1s\u001b[0m 191ms/step - categorical_accuracy: 0.1529 - loss: 2.2978\n",
            "Epoch 1878/2000\n",
            "\u001b[1m7/7\u001b[0m \u001b[32m━━━━━━━━━━━━━━━━━━━━\u001b[0m\u001b[37m\u001b[0m \u001b[1m3s\u001b[0m 198ms/step - categorical_accuracy: 0.1203 - loss: 2.3065\n",
            "Epoch 1879/2000\n",
            "\u001b[1m7/7\u001b[0m \u001b[32m━━━━━━━━━━━━━━━━━━━━\u001b[0m\u001b[37m\u001b[0m \u001b[1m3s\u001b[0m 300ms/step - categorical_accuracy: 0.1281 - loss: 2.3128\n",
            "Epoch 1880/2000\n",
            "\u001b[1m7/7\u001b[0m \u001b[32m━━━━━━━━━━━━━━━━━━━━\u001b[0m\u001b[37m\u001b[0m \u001b[1m3s\u001b[0m 332ms/step - categorical_accuracy: 0.1058 - loss: 2.2944\n",
            "Epoch 1881/2000\n",
            "\u001b[1m7/7\u001b[0m \u001b[32m━━━━━━━━━━━━━━━━━━━━\u001b[0m\u001b[37m\u001b[0m \u001b[1m2s\u001b[0m 338ms/step - categorical_accuracy: 0.1386 - loss: 2.3148\n",
            "Epoch 1882/2000\n",
            "\u001b[1m7/7\u001b[0m \u001b[32m━━━━━━━━━━━━━━━━━━━━\u001b[0m\u001b[37m\u001b[0m \u001b[1m1s\u001b[0m 188ms/step - categorical_accuracy: 0.1790 - loss: 2.2805\n",
            "Epoch 1883/2000\n",
            "\u001b[1m7/7\u001b[0m \u001b[32m━━━━━━━━━━━━━━━━━━━━\u001b[0m\u001b[37m\u001b[0m \u001b[1m1s\u001b[0m 201ms/step - categorical_accuracy: 0.1165 - loss: 2.3066\n",
            "Epoch 1884/2000\n",
            "\u001b[1m7/7\u001b[0m \u001b[32m━━━━━━━━━━━━━━━━━━━━\u001b[0m\u001b[37m\u001b[0m \u001b[1m3s\u001b[0m 196ms/step - categorical_accuracy: 0.1566 - loss: 2.2785\n",
            "Epoch 1885/2000\n",
            "\u001b[1m7/7\u001b[0m \u001b[32m━━━━━━━━━━━━━━━━━━━━\u001b[0m\u001b[37m\u001b[0m \u001b[1m1s\u001b[0m 208ms/step - categorical_accuracy: 0.1318 - loss: 2.2940\n",
            "Epoch 1886/2000\n",
            "\u001b[1m7/7\u001b[0m \u001b[32m━━━━━━━━━━━━━━━━━━━━\u001b[0m\u001b[37m\u001b[0m \u001b[1m1s\u001b[0m 201ms/step - categorical_accuracy: 0.1474 - loss: 2.3457\n",
            "Epoch 1887/2000\n",
            "\u001b[1m7/7\u001b[0m \u001b[32m━━━━━━━━━━━━━━━━━━━━\u001b[0m\u001b[37m\u001b[0m \u001b[1m3s\u001b[0m 245ms/step - categorical_accuracy: 0.1119 - loss: 2.3052\n",
            "Epoch 1888/2000\n",
            "\u001b[1m7/7\u001b[0m \u001b[32m━━━━━━━━━━━━━━━━━━━━\u001b[0m\u001b[37m\u001b[0m \u001b[1m3s\u001b[0m 316ms/step - categorical_accuracy: 0.1378 - loss: 2.3115\n",
            "Epoch 1889/2000\n",
            "\u001b[1m7/7\u001b[0m \u001b[32m━━━━━━━━━━━━━━━━━━━━\u001b[0m\u001b[37m\u001b[0m \u001b[1m2s\u001b[0m 308ms/step - categorical_accuracy: 0.1596 - loss: 2.2993\n",
            "Epoch 1890/2000\n",
            "\u001b[1m7/7\u001b[0m \u001b[32m━━━━━━━━━━━━━━━━━━━━\u001b[0m\u001b[37m\u001b[0m \u001b[1m2s\u001b[0m 206ms/step - categorical_accuracy: 0.0991 - loss: 2.2756\n",
            "Epoch 1891/2000\n",
            "\u001b[1m7/7\u001b[0m \u001b[32m━━━━━━━━━━━━━━━━━━━━\u001b[0m\u001b[37m\u001b[0m \u001b[1m2s\u001b[0m 191ms/step - categorical_accuracy: 0.1245 - loss: 2.2912\n",
            "Epoch 1892/2000\n",
            "\u001b[1m7/7\u001b[0m \u001b[32m━━━━━━━━━━━━━━━━━━━━\u001b[0m\u001b[37m\u001b[0m \u001b[1m1s\u001b[0m 190ms/step - categorical_accuracy: 0.1324 - loss: 2.2804\n",
            "Epoch 1893/2000\n",
            "\u001b[1m7/7\u001b[0m \u001b[32m━━━━━━━━━━━━━━━━━━━━\u001b[0m\u001b[37m\u001b[0m \u001b[1m1s\u001b[0m 203ms/step - categorical_accuracy: 0.1284 - loss: 2.3239\n",
            "Epoch 1894/2000\n",
            "\u001b[1m7/7\u001b[0m \u001b[32m━━━━━━━━━━━━━━━━━━━━\u001b[0m\u001b[37m\u001b[0m \u001b[1m3s\u001b[0m 204ms/step - categorical_accuracy: 0.1437 - loss: 2.3113\n",
            "Epoch 1895/2000\n",
            "\u001b[1m7/7\u001b[0m \u001b[32m━━━━━━━━━━━━━━━━━━━━\u001b[0m\u001b[37m\u001b[0m \u001b[1m3s\u001b[0m 326ms/step - categorical_accuracy: 0.1301 - loss: 2.3179\n",
            "Epoch 1896/2000\n",
            "\u001b[1m7/7\u001b[0m \u001b[32m━━━━━━━━━━━━━━━━━━━━\u001b[0m\u001b[37m\u001b[0m \u001b[1m3s\u001b[0m 326ms/step - categorical_accuracy: 0.1008 - loss: 2.3194\n",
            "Epoch 1897/2000\n",
            "\u001b[1m7/7\u001b[0m \u001b[32m━━━━━━━━━━━━━━━━━━━━\u001b[0m\u001b[37m\u001b[0m \u001b[1m1s\u001b[0m 192ms/step - categorical_accuracy: 0.1112 - loss: 2.2944\n",
            "Epoch 1898/2000\n",
            "\u001b[1m7/7\u001b[0m \u001b[32m━━━━━━━━━━━━━━━━━━━━\u001b[0m\u001b[37m\u001b[0m \u001b[1m2s\u001b[0m 188ms/step - categorical_accuracy: 0.1390 - loss: 2.2578\n",
            "Epoch 1899/2000\n",
            "\u001b[1m7/7\u001b[0m \u001b[32m━━━━━━━━━━━━━━━━━━━━\u001b[0m\u001b[37m\u001b[0m \u001b[1m3s\u001b[0m 201ms/step - categorical_accuracy: 0.1309 - loss: 2.2917\n",
            "Epoch 1900/2000\n",
            "\u001b[1m7/7\u001b[0m \u001b[32m━━━━━━━━━━━━━━━━━━━━\u001b[0m\u001b[37m\u001b[0m \u001b[1m1s\u001b[0m 188ms/step - categorical_accuracy: 0.1301 - loss: 2.2890\n",
            "Epoch 1901/2000\n",
            "\u001b[1m7/7\u001b[0m \u001b[32m━━━━━━━━━━━━━━━━━━━━\u001b[0m\u001b[37m\u001b[0m \u001b[1m3s\u001b[0m 231ms/step - categorical_accuracy: 0.1244 - loss: 2.3091\n",
            "Epoch 1902/2000\n",
            "\u001b[1m7/7\u001b[0m \u001b[32m━━━━━━━━━━━━━━━━━━━━\u001b[0m\u001b[37m\u001b[0m \u001b[1m2s\u001b[0m 292ms/step - categorical_accuracy: 0.1374 - loss: 2.2986\n",
            "Epoch 1903/2000\n",
            "\u001b[1m7/7\u001b[0m \u001b[32m━━━━━━━━━━━━━━━━━━━━\u001b[0m\u001b[37m\u001b[0m \u001b[1m2s\u001b[0m 291ms/step - categorical_accuracy: 0.1415 - loss: 2.2877\n",
            "Epoch 1904/2000\n",
            "\u001b[1m7/7\u001b[0m \u001b[32m━━━━━━━━━━━━━━━━━━━━\u001b[0m\u001b[37m\u001b[0m \u001b[1m2s\u001b[0m 259ms/step - categorical_accuracy: 0.1421 - loss: 2.3009\n",
            "Epoch 1905/2000\n",
            "\u001b[1m7/7\u001b[0m \u001b[32m━━━━━━━━━━━━━━━━━━━━\u001b[0m\u001b[37m\u001b[0m \u001b[1m2s\u001b[0m 187ms/step - categorical_accuracy: 0.0974 - loss: 2.2666\n",
            "Epoch 1906/2000\n",
            "\u001b[1m7/7\u001b[0m \u001b[32m━━━━━━━━━━━━━━━━━━━━\u001b[0m\u001b[37m\u001b[0m \u001b[1m1s\u001b[0m 193ms/step - categorical_accuracy: 0.1486 - loss: 2.3142\n",
            "Epoch 1907/2000\n",
            "\u001b[1m7/7\u001b[0m \u001b[32m━━━━━━━━━━━━━━━━━━━━\u001b[0m\u001b[37m\u001b[0m \u001b[1m3s\u001b[0m 206ms/step - categorical_accuracy: 0.1633 - loss: 2.3041\n",
            "Epoch 1908/2000\n",
            "\u001b[1m7/7\u001b[0m \u001b[32m━━━━━━━━━━━━━━━━━━━━\u001b[0m\u001b[37m\u001b[0m \u001b[1m1s\u001b[0m 192ms/step - categorical_accuracy: 0.1174 - loss: 2.3386\n",
            "Epoch 1909/2000\n",
            "\u001b[1m7/7\u001b[0m \u001b[32m━━━━━━━━━━━━━━━━━━━━\u001b[0m\u001b[37m\u001b[0m \u001b[1m3s\u001b[0m 226ms/step - categorical_accuracy: 0.1419 - loss: 2.2656\n",
            "Epoch 1910/2000\n",
            "\u001b[1m7/7\u001b[0m \u001b[32m━━━━━━━━━━━━━━━━━━━━\u001b[0m\u001b[37m\u001b[0m \u001b[1m2s\u001b[0m 305ms/step - categorical_accuracy: 0.1347 - loss: 2.3063\n",
            "Epoch 1911/2000\n",
            "\u001b[1m7/7\u001b[0m \u001b[32m━━━━━━━━━━━━━━━━━━━━\u001b[0m\u001b[37m\u001b[0m \u001b[1m2s\u001b[0m 295ms/step - categorical_accuracy: 0.1489 - loss: 2.3058\n",
            "Epoch 1912/2000\n",
            "\u001b[1m7/7\u001b[0m \u001b[32m━━━━━━━━━━━━━━━━━━━━\u001b[0m\u001b[37m\u001b[0m \u001b[1m2s\u001b[0m 314ms/step - categorical_accuracy: 0.1324 - loss: 2.3040\n",
            "Epoch 1913/2000\n",
            "\u001b[1m7/7\u001b[0m \u001b[32m━━━━━━━━━━━━━━━━━━━━\u001b[0m\u001b[37m\u001b[0m \u001b[1m1s\u001b[0m 185ms/step - categorical_accuracy: 0.1458 - loss: 2.3354\n",
            "Epoch 1914/2000\n",
            "\u001b[1m7/7\u001b[0m \u001b[32m━━━━━━━━━━━━━━━━━━━━\u001b[0m\u001b[37m\u001b[0m \u001b[1m1s\u001b[0m 192ms/step - categorical_accuracy: 0.1364 - loss: 2.2929\n",
            "Epoch 1915/2000\n",
            "\u001b[1m7/7\u001b[0m \u001b[32m━━━━━━━━━━━━━━━━━━━━\u001b[0m\u001b[37m\u001b[0m \u001b[1m1s\u001b[0m 194ms/step - categorical_accuracy: 0.1245 - loss: 2.3026\n",
            "Epoch 1916/2000\n",
            "\u001b[1m7/7\u001b[0m \u001b[32m━━━━━━━━━━━━━━━━━━━━\u001b[0m\u001b[37m\u001b[0m \u001b[1m3s\u001b[0m 203ms/step - categorical_accuracy: 0.1268 - loss: 2.3154\n",
            "Epoch 1917/2000\n",
            "\u001b[1m7/7\u001b[0m \u001b[32m━━━━━━━━━━━━━━━━━━━━\u001b[0m\u001b[37m\u001b[0m \u001b[1m1s\u001b[0m 186ms/step - categorical_accuracy: 0.1321 - loss: 2.2942\n",
            "Epoch 1918/2000\n",
            "\u001b[1m7/7\u001b[0m \u001b[32m━━━━━━━━━━━━━━━━━━━━\u001b[0m\u001b[37m\u001b[0m \u001b[1m1s\u001b[0m 200ms/step - categorical_accuracy: 0.1533 - loss: 2.3255\n",
            "Epoch 1919/2000\n",
            "\u001b[1m7/7\u001b[0m \u001b[32m━━━━━━━━━━━━━━━━━━━━\u001b[0m\u001b[37m\u001b[0m \u001b[1m2s\u001b[0m 278ms/step - categorical_accuracy: 0.1238 - loss: 2.3090\n",
            "Epoch 1920/2000\n",
            "\u001b[1m7/7\u001b[0m \u001b[32m━━━━━━━━━━━━━━━━━━━━\u001b[0m\u001b[37m\u001b[0m \u001b[1m3s\u001b[0m 307ms/step - categorical_accuracy: 0.1263 - loss: 2.2994\n",
            "Epoch 1921/2000\n",
            "\u001b[1m7/7\u001b[0m \u001b[32m━━━━━━━━━━━━━━━━━━━━\u001b[0m\u001b[37m\u001b[0m \u001b[1m2s\u001b[0m 218ms/step - categorical_accuracy: 0.1288 - loss: 2.3099\n",
            "Epoch 1922/2000\n",
            "\u001b[1m7/7\u001b[0m \u001b[32m━━━━━━━━━━━━━━━━━━━━\u001b[0m\u001b[37m\u001b[0m \u001b[1m2s\u001b[0m 189ms/step - categorical_accuracy: 0.1419 - loss: 2.2903\n",
            "Epoch 1923/2000\n",
            "\u001b[1m7/7\u001b[0m \u001b[32m━━━━━━━━━━━━━━━━━━━━\u001b[0m\u001b[37m\u001b[0m \u001b[1m1s\u001b[0m 197ms/step - categorical_accuracy: 0.1266 - loss: 2.3005\n",
            "Epoch 1924/2000\n",
            "\u001b[1m7/7\u001b[0m \u001b[32m━━━━━━━━━━━━━━━━━━━━\u001b[0m\u001b[37m\u001b[0m \u001b[1m3s\u001b[0m 193ms/step - categorical_accuracy: 0.1115 - loss: 2.2992\n",
            "Epoch 1925/2000\n",
            "\u001b[1m7/7\u001b[0m \u001b[32m━━━━━━━━━━━━━━━━━━━━\u001b[0m\u001b[37m\u001b[0m \u001b[1m1s\u001b[0m 202ms/step - categorical_accuracy: 0.0889 - loss: 2.3211\n",
            "Epoch 1926/2000\n",
            "\u001b[1m7/7\u001b[0m \u001b[32m━━━━━━━━━━━━━━━━━━━━\u001b[0m\u001b[37m\u001b[0m \u001b[1m1s\u001b[0m 196ms/step - categorical_accuracy: 0.1005 - loss: 2.2802\n",
            "Epoch 1927/2000\n",
            "\u001b[1m7/7\u001b[0m \u001b[32m━━━━━━━━━━━━━━━━━━━━\u001b[0m\u001b[37m\u001b[0m \u001b[1m2s\u001b[0m 323ms/step - categorical_accuracy: 0.1234 - loss: 2.3294\n",
            "Epoch 1928/2000\n",
            "\u001b[1m7/7\u001b[0m \u001b[32m━━━━━━━━━━━━━━━━━━━━\u001b[0m\u001b[37m\u001b[0m \u001b[1m2s\u001b[0m 315ms/step - categorical_accuracy: 0.1347 - loss: 2.2889\n",
            "Epoch 1929/2000\n",
            "\u001b[1m7/7\u001b[0m \u001b[32m━━━━━━━━━━━━━━━━━━━━\u001b[0m\u001b[37m\u001b[0m \u001b[1m2s\u001b[0m 318ms/step - categorical_accuracy: 0.1288 - loss: 2.2831\n",
            "Epoch 1930/2000\n",
            "\u001b[1m7/7\u001b[0m \u001b[32m━━━━━━━━━━━━━━━━━━━━\u001b[0m\u001b[37m\u001b[0m \u001b[1m2s\u001b[0m 192ms/step - categorical_accuracy: 0.0943 - loss: 2.3206\n",
            "Epoch 1931/2000\n",
            "\u001b[1m7/7\u001b[0m \u001b[32m━━━━━━━━━━━━━━━━━━━━\u001b[0m\u001b[37m\u001b[0m \u001b[1m3s\u001b[0m 197ms/step - categorical_accuracy: 0.1378 - loss: 2.3043\n",
            "Epoch 1932/2000\n",
            "\u001b[1m7/7\u001b[0m \u001b[32m━━━━━━━━━━━━━━━━━━━━\u001b[0m\u001b[37m\u001b[0m \u001b[1m2s\u001b[0m 189ms/step - categorical_accuracy: 0.1496 - loss: 2.2739\n",
            "Epoch 1933/2000\n",
            "\u001b[1m7/7\u001b[0m \u001b[32m━━━━━━━━━━━━━━━━━━━━\u001b[0m\u001b[37m\u001b[0m \u001b[1m3s\u001b[0m 196ms/step - categorical_accuracy: 0.1184 - loss: 2.2924\n",
            "Epoch 1934/2000\n",
            "\u001b[1m7/7\u001b[0m \u001b[32m━━━━━━━━━━━━━━━━━━━━\u001b[0m\u001b[37m\u001b[0m \u001b[1m3s\u001b[0m 301ms/step - categorical_accuracy: 0.1378 - loss: 2.2977\n",
            "Epoch 1935/2000\n",
            "\u001b[1m7/7\u001b[0m \u001b[32m━━━━━━━━━━━━━━━━━━━━\u001b[0m\u001b[37m\u001b[0m \u001b[1m2s\u001b[0m 329ms/step - categorical_accuracy: 0.1031 - loss: 2.2903\n",
            "Epoch 1936/2000\n",
            "\u001b[1m7/7\u001b[0m \u001b[32m━━━━━━━━━━━━━━━━━━━━\u001b[0m\u001b[37m\u001b[0m \u001b[1m2s\u001b[0m 266ms/step - categorical_accuracy: 0.1501 - loss: 2.2864\n",
            "Epoch 1937/2000\n",
            "\u001b[1m7/7\u001b[0m \u001b[32m━━━━━━━━━━━━━━━━━━━━\u001b[0m\u001b[37m\u001b[0m \u001b[1m2s\u001b[0m 212ms/step - categorical_accuracy: 0.1730 - loss: 2.2762\n",
            "Epoch 1938/2000\n",
            "\u001b[1m7/7\u001b[0m \u001b[32m━━━━━━━━━━━━━━━━━━━━\u001b[0m\u001b[37m\u001b[0m \u001b[1m1s\u001b[0m 194ms/step - categorical_accuracy: 0.1226 - loss: 2.2934\n",
            "Epoch 1939/2000\n",
            "\u001b[1m7/7\u001b[0m \u001b[32m━━━━━━━━━━━━━━━━━━━━\u001b[0m\u001b[37m\u001b[0m \u001b[1m3s\u001b[0m 209ms/step - categorical_accuracy: 0.1616 - loss: 2.2869\n",
            "Epoch 1940/2000\n",
            "\u001b[1m7/7\u001b[0m \u001b[32m━━━━━━━━━━━━━━━━━━━━\u001b[0m\u001b[37m\u001b[0m \u001b[1m2s\u001b[0m 190ms/step - categorical_accuracy: 0.1500 - loss: 2.3078\n",
            "Epoch 1941/2000\n",
            "\u001b[1m7/7\u001b[0m \u001b[32m━━━━━━━━━━━━━━━━━━━━\u001b[0m\u001b[37m\u001b[0m \u001b[1m2s\u001b[0m 222ms/step - categorical_accuracy: 0.0965 - loss: 2.3185\n",
            "Epoch 1942/2000\n",
            "\u001b[1m7/7\u001b[0m \u001b[32m━━━━━━━━━━━━━━━━━━━━\u001b[0m\u001b[37m\u001b[0m \u001b[1m3s\u001b[0m 291ms/step - categorical_accuracy: 0.1479 - loss: 2.3034\n",
            "Epoch 1943/2000\n",
            "\u001b[1m7/7\u001b[0m \u001b[32m━━━━━━━━━━━━━━━━━━━━\u001b[0m\u001b[37m\u001b[0m \u001b[1m2s\u001b[0m 240ms/step - categorical_accuracy: 0.1687 - loss: 2.3088\n",
            "Epoch 1944/2000\n",
            "\u001b[1m7/7\u001b[0m \u001b[32m━━━━━━━━━━━━━━━━━━━━\u001b[0m\u001b[37m\u001b[0m \u001b[1m2s\u001b[0m 197ms/step - categorical_accuracy: 0.1410 - loss: 2.2804\n",
            "Epoch 1945/2000\n",
            "\u001b[1m7/7\u001b[0m \u001b[32m━━━━━━━━━━━━━━━━━━━━\u001b[0m\u001b[37m\u001b[0m \u001b[1m2s\u001b[0m 186ms/step - categorical_accuracy: 0.0989 - loss: 2.3253\n",
            "Epoch 1946/2000\n",
            "\u001b[1m7/7\u001b[0m \u001b[32m━━━━━━━━━━━━━━━━━━━━\u001b[0m\u001b[37m\u001b[0m \u001b[1m1s\u001b[0m 193ms/step - categorical_accuracy: 0.1026 - loss: 2.3271\n",
            "Epoch 1947/2000\n",
            "\u001b[1m7/7\u001b[0m \u001b[32m━━━━━━━━━━━━━━━━━━━━\u001b[0m\u001b[37m\u001b[0m \u001b[1m3s\u001b[0m 203ms/step - categorical_accuracy: 0.1241 - loss: 2.3235\n",
            "Epoch 1948/2000\n",
            "\u001b[1m7/7\u001b[0m \u001b[32m━━━━━━━━━━━━━━━━━━━━\u001b[0m\u001b[37m\u001b[0m \u001b[1m2s\u001b[0m 279ms/step - categorical_accuracy: 0.1059 - loss: 2.3109\n",
            "Epoch 1949/2000\n",
            "\u001b[1m7/7\u001b[0m \u001b[32m━━━━━━━━━━━━━━━━━━━━\u001b[0m\u001b[37m\u001b[0m \u001b[1m3s\u001b[0m 317ms/step - categorical_accuracy: 0.1149 - loss: 2.3207\n",
            "Epoch 1950/2000\n",
            "\u001b[1m7/7\u001b[0m \u001b[32m━━━━━━━━━━━━━━━━━━━━\u001b[0m\u001b[37m\u001b[0m \u001b[1m2s\u001b[0m 248ms/step - categorical_accuracy: 0.1050 - loss: 2.2969\n",
            "Epoch 1951/2000\n",
            "\u001b[1m7/7\u001b[0m \u001b[32m━━━━━━━━━━━━━━━━━━━━\u001b[0m\u001b[37m\u001b[0m \u001b[1m2s\u001b[0m 201ms/step - categorical_accuracy: 0.1418 - loss: 2.2998\n",
            "Epoch 1952/2000\n",
            "\u001b[1m7/7\u001b[0m \u001b[32m━━━━━━━━━━━━━━━━━━━━\u001b[0m\u001b[37m\u001b[0m \u001b[1m3s\u001b[0m 209ms/step - categorical_accuracy: 0.1095 - loss: 2.3232\n",
            "Epoch 1953/2000\n",
            "\u001b[1m7/7\u001b[0m \u001b[32m━━━━━━━━━━━━━━━━━━━━\u001b[0m\u001b[37m\u001b[0m \u001b[1m2s\u001b[0m 186ms/step - categorical_accuracy: 0.1263 - loss: 2.3236\n",
            "Epoch 1954/2000\n",
            "\u001b[1m7/7\u001b[0m \u001b[32m━━━━━━━━━━━━━━━━━━━━\u001b[0m\u001b[37m\u001b[0m \u001b[1m3s\u001b[0m 245ms/step - categorical_accuracy: 0.1437 - loss: 2.3051\n",
            "Epoch 1955/2000\n",
            "\u001b[1m7/7\u001b[0m \u001b[32m━━━━━━━━━━━━━━━━━━━━\u001b[0m\u001b[37m\u001b[0m \u001b[1m3s\u001b[0m 305ms/step - categorical_accuracy: 0.1480 - loss: 2.3193\n",
            "Epoch 1956/2000\n",
            "\u001b[1m7/7\u001b[0m \u001b[32m━━━━━━━━━━━━━━━━━━━━\u001b[0m\u001b[37m\u001b[0m \u001b[1m2s\u001b[0m 317ms/step - categorical_accuracy: 0.1319 - loss: 2.3185\n",
            "Epoch 1957/2000\n",
            "\u001b[1m7/7\u001b[0m \u001b[32m━━━━━━━━━━━━━━━━━━━━\u001b[0m\u001b[37m\u001b[0m \u001b[1m2s\u001b[0m 196ms/step - categorical_accuracy: 0.1118 - loss: 2.3166\n",
            "Epoch 1958/2000\n",
            "\u001b[1m7/7\u001b[0m \u001b[32m━━━━━━━━━━━━━━━━━━━━\u001b[0m\u001b[37m\u001b[0m \u001b[1m1s\u001b[0m 187ms/step - categorical_accuracy: 0.1069 - loss: 2.3218\n",
            "Epoch 1959/2000\n",
            "\u001b[1m7/7\u001b[0m \u001b[32m━━━━━━━━━━━━━━━━━━━━\u001b[0m\u001b[37m\u001b[0m \u001b[1m2s\u001b[0m 187ms/step - categorical_accuracy: 0.1427 - loss: 2.2816\n",
            "Epoch 1960/2000\n",
            "\u001b[1m7/7\u001b[0m \u001b[32m━━━━━━━━━━━━━━━━━━━━\u001b[0m\u001b[37m\u001b[0m \u001b[1m1s\u001b[0m 195ms/step - categorical_accuracy: 0.1180 - loss: 2.3359\n",
            "Epoch 1961/2000\n",
            "\u001b[1m7/7\u001b[0m \u001b[32m━━━━━━━━━━━━━━━━━━━━\u001b[0m\u001b[37m\u001b[0m \u001b[1m3s\u001b[0m 200ms/step - categorical_accuracy: 0.1143 - loss: 2.2790\n",
            "Epoch 1962/2000\n",
            "\u001b[1m7/7\u001b[0m \u001b[32m━━━━━━━━━━━━━━━━━━━━\u001b[0m\u001b[37m\u001b[0m \u001b[1m3s\u001b[0m 323ms/step - categorical_accuracy: 0.1106 - loss: 2.3143\n",
            "Epoch 1963/2000\n",
            "\u001b[1m7/7\u001b[0m \u001b[32m━━━━━━━━━━━━━━━━━━━━\u001b[0m\u001b[37m\u001b[0m \u001b[1m3s\u001b[0m 331ms/step - categorical_accuracy: 0.1200 - loss: 2.3190\n",
            "Epoch 1964/2000\n",
            "\u001b[1m7/7\u001b[0m \u001b[32m━━━━━━━━━━━━━━━━━━━━\u001b[0m\u001b[37m\u001b[0m \u001b[1m2s\u001b[0m 195ms/step - categorical_accuracy: 0.1172 - loss: 2.3019\n",
            "Epoch 1965/2000\n",
            "\u001b[1m7/7\u001b[0m \u001b[32m━━━━━━━━━━━━━━━━━━━━\u001b[0m\u001b[37m\u001b[0m \u001b[1m2s\u001b[0m 191ms/step - categorical_accuracy: 0.1182 - loss: 2.3133\n",
            "Epoch 1966/2000\n",
            "\u001b[1m7/7\u001b[0m \u001b[32m━━━━━━━━━━━━━━━━━━━━\u001b[0m\u001b[37m\u001b[0m \u001b[1m1s\u001b[0m 186ms/step - categorical_accuracy: 0.1453 - loss: 2.3011\n",
            "Epoch 1967/2000\n",
            "\u001b[1m7/7\u001b[0m \u001b[32m━━━━━━━━━━━━━━━━━━━━\u001b[0m\u001b[37m\u001b[0m \u001b[1m3s\u001b[0m 183ms/step - categorical_accuracy: 0.1131 - loss: 2.3100\n",
            "Epoch 1968/2000\n",
            "\u001b[1m7/7\u001b[0m \u001b[32m━━━━━━━━━━━━━━━━━━━━\u001b[0m\u001b[37m\u001b[0m \u001b[1m1s\u001b[0m 183ms/step - categorical_accuracy: 0.1113 - loss: 2.2909\n",
            "Epoch 1969/2000\n",
            "\u001b[1m7/7\u001b[0m \u001b[32m━━━━━━━━━━━━━━━━━━━━\u001b[0m\u001b[37m\u001b[0m \u001b[1m2s\u001b[0m 212ms/step - categorical_accuracy: 0.1243 - loss: 2.3157\n",
            "Epoch 1970/2000\n",
            "\u001b[1m7/7\u001b[0m \u001b[32m━━━━━━━━━━━━━━━━━━━━\u001b[0m\u001b[37m\u001b[0m \u001b[1m2s\u001b[0m 288ms/step - categorical_accuracy: 0.1207 - loss: 2.3101\n",
            "Epoch 1971/2000\n",
            "\u001b[1m7/7\u001b[0m \u001b[32m━━━━━━━━━━━━━━━━━━━━\u001b[0m\u001b[37m\u001b[0m \u001b[1m2s\u001b[0m 289ms/step - categorical_accuracy: 0.1485 - loss: 2.3031\n",
            "Epoch 1972/2000\n",
            "\u001b[1m7/7\u001b[0m \u001b[32m━━━━━━━━━━━━━━━━━━━━\u001b[0m\u001b[37m\u001b[0m \u001b[1m2s\u001b[0m 296ms/step - categorical_accuracy: 0.1223 - loss: 2.2965\n",
            "Epoch 1973/2000\n",
            "\u001b[1m7/7\u001b[0m \u001b[32m━━━━━━━━━━━━━━━━━━━━\u001b[0m\u001b[37m\u001b[0m \u001b[1m2s\u001b[0m 183ms/step - categorical_accuracy: 0.1344 - loss: 2.3095\n",
            "Epoch 1974/2000\n",
            "\u001b[1m7/7\u001b[0m \u001b[32m━━━━━━━━━━━━━━━━━━━━\u001b[0m\u001b[37m\u001b[0m \u001b[1m1s\u001b[0m 184ms/step - categorical_accuracy: 0.1205 - loss: 2.3027\n",
            "Epoch 1975/2000\n",
            "\u001b[1m7/7\u001b[0m \u001b[32m━━━━━━━━━━━━━━━━━━━━\u001b[0m\u001b[37m\u001b[0m \u001b[1m3s\u001b[0m 198ms/step - categorical_accuracy: 0.1323 - loss: 2.2875\n",
            "Epoch 1976/2000\n",
            "\u001b[1m7/7\u001b[0m \u001b[32m━━━━━━━━━━━━━━━━━━━━\u001b[0m\u001b[37m\u001b[0m \u001b[1m2s\u001b[0m 184ms/step - categorical_accuracy: 0.1220 - loss: 2.2993\n",
            "Epoch 1977/2000\n",
            "\u001b[1m7/7\u001b[0m \u001b[32m━━━━━━━━━━━━━━━━━━━━\u001b[0m\u001b[37m\u001b[0m \u001b[1m3s\u001b[0m 239ms/step - categorical_accuracy: 0.1311 - loss: 2.3008\n",
            "Epoch 1978/2000\n",
            "\u001b[1m7/7\u001b[0m \u001b[32m━━━━━━━━━━━━━━━━━━━━\u001b[0m\u001b[37m\u001b[0m \u001b[1m2s\u001b[0m 281ms/step - categorical_accuracy: 0.1164 - loss: 2.3282\n",
            "Epoch 1979/2000\n",
            "\u001b[1m7/7\u001b[0m \u001b[32m━━━━━━━━━━━━━━━━━━━━\u001b[0m\u001b[37m\u001b[0m \u001b[1m2s\u001b[0m 286ms/step - categorical_accuracy: 0.1283 - loss: 2.3071\n",
            "Epoch 1980/2000\n",
            "\u001b[1m7/7\u001b[0m \u001b[32m━━━━━━━━━━━━━━━━━━━━\u001b[0m\u001b[37m\u001b[0m \u001b[1m2s\u001b[0m 317ms/step - categorical_accuracy: 0.1413 - loss: 2.3109\n",
            "Epoch 1981/2000\n",
            "\u001b[1m7/7\u001b[0m \u001b[32m━━━━━━━━━━━━━━━━━━━━\u001b[0m\u001b[37m\u001b[0m \u001b[1m1s\u001b[0m 183ms/step - categorical_accuracy: 0.1443 - loss: 2.2878\n",
            "Epoch 1982/2000\n",
            "\u001b[1m7/7\u001b[0m \u001b[32m━━━━━━━━━━━━━━━━━━━━\u001b[0m\u001b[37m\u001b[0m \u001b[1m2s\u001b[0m 189ms/step - categorical_accuracy: 0.1235 - loss: 2.3229\n",
            "Epoch 1983/2000\n",
            "\u001b[1m7/7\u001b[0m \u001b[32m━━━━━━━━━━━━━━━━━━━━\u001b[0m\u001b[37m\u001b[0m \u001b[1m1s\u001b[0m 183ms/step - categorical_accuracy: 0.1397 - loss: 2.3140\n",
            "Epoch 1984/2000\n",
            "\u001b[1m7/7\u001b[0m \u001b[32m━━━━━━━━━━━━━━━━━━━━\u001b[0m\u001b[37m\u001b[0m \u001b[1m1s\u001b[0m 185ms/step - categorical_accuracy: 0.1359 - loss: 2.2876\n",
            "Epoch 1985/2000\n",
            "\u001b[1m7/7\u001b[0m \u001b[32m━━━━━━━━━━━━━━━━━━━━\u001b[0m\u001b[37m\u001b[0m \u001b[1m3s\u001b[0m 188ms/step - categorical_accuracy: 0.1194 - loss: 2.3269\n",
            "Epoch 1986/2000\n",
            "\u001b[1m7/7\u001b[0m \u001b[32m━━━━━━━━━━━━━━━━━━━━\u001b[0m\u001b[37m\u001b[0m \u001b[1m3s\u001b[0m 320ms/step - categorical_accuracy: 0.1421 - loss: 2.2747\n",
            "Epoch 1987/2000\n",
            "\u001b[1m7/7\u001b[0m \u001b[32m━━━━━━━━━━━━━━━━━━━━\u001b[0m\u001b[37m\u001b[0m \u001b[1m2s\u001b[0m 305ms/step - categorical_accuracy: 0.1109 - loss: 2.2910\n",
            "Epoch 1988/2000\n",
            "\u001b[1m7/7\u001b[0m \u001b[32m━━━━━━━━━━━━━━━━━━━━\u001b[0m\u001b[37m\u001b[0m \u001b[1m2s\u001b[0m 258ms/step - categorical_accuracy: 0.1485 - loss: 2.2781\n",
            "Epoch 1989/2000\n",
            "\u001b[1m7/7\u001b[0m \u001b[32m━━━━━━━━━━━━━━━━━━━━\u001b[0m\u001b[37m\u001b[0m \u001b[1m1s\u001b[0m 190ms/step - categorical_accuracy: 0.1194 - loss: 2.2939\n",
            "Epoch 1990/2000\n",
            "\u001b[1m7/7\u001b[0m \u001b[32m━━━━━━━━━━━━━━━━━━━━\u001b[0m\u001b[37m\u001b[0m \u001b[1m1s\u001b[0m 186ms/step - categorical_accuracy: 0.1204 - loss: 2.3069\n",
            "Epoch 1991/2000\n",
            "\u001b[1m7/7\u001b[0m \u001b[32m━━━━━━━━━━━━━━━━━━━━\u001b[0m\u001b[37m\u001b[0m \u001b[1m1s\u001b[0m 184ms/step - categorical_accuracy: 0.1419 - loss: 2.2987\n",
            "Epoch 1992/2000\n",
            "\u001b[1m7/7\u001b[0m \u001b[32m━━━━━━━━━━━━━━━━━━━━\u001b[0m\u001b[37m\u001b[0m \u001b[1m1s\u001b[0m 187ms/step - categorical_accuracy: 0.1511 - loss: 2.2874\n",
            "Epoch 1993/2000\n",
            "\u001b[1m7/7\u001b[0m \u001b[32m━━━━━━━━━━━━━━━━━━━━\u001b[0m\u001b[37m\u001b[0m \u001b[1m3s\u001b[0m 197ms/step - categorical_accuracy: 0.1277 - loss: 2.3360\n",
            "Epoch 1994/2000\n",
            "\u001b[1m7/7\u001b[0m \u001b[32m━━━━━━━━━━━━━━━━━━━━\u001b[0m\u001b[37m\u001b[0m \u001b[1m3s\u001b[0m 299ms/step - categorical_accuracy: 0.1297 - loss: 2.2883\n",
            "Epoch 1995/2000\n",
            "\u001b[1m7/7\u001b[0m \u001b[32m━━━━━━━━━━━━━━━━━━━━\u001b[0m\u001b[37m\u001b[0m \u001b[1m3s\u001b[0m 318ms/step - categorical_accuracy: 0.1353 - loss: 2.3107\n",
            "Epoch 1996/2000\n",
            "\u001b[1m7/7\u001b[0m \u001b[32m━━━━━━━━━━━━━━━━━━━━\u001b[0m\u001b[37m\u001b[0m \u001b[1m2s\u001b[0m 251ms/step - categorical_accuracy: 0.1294 - loss: 2.2945\n",
            "Epoch 1997/2000\n",
            "\u001b[1m7/7\u001b[0m \u001b[32m━━━━━━━━━━━━━━━━━━━━\u001b[0m\u001b[37m\u001b[0m \u001b[1m1s\u001b[0m 188ms/step - categorical_accuracy: 0.1417 - loss: 2.2815\n",
            "Epoch 1998/2000\n",
            "\u001b[1m7/7\u001b[0m \u001b[32m━━━━━━━━━━━━━━━━━━━━\u001b[0m\u001b[37m\u001b[0m \u001b[1m1s\u001b[0m 187ms/step - categorical_accuracy: 0.1147 - loss: 2.3045\n",
            "Epoch 1999/2000\n",
            "\u001b[1m7/7\u001b[0m \u001b[32m━━━━━━━━━━━━━━━━━━━━\u001b[0m\u001b[37m\u001b[0m \u001b[1m1s\u001b[0m 196ms/step - categorical_accuracy: 0.1198 - loss: 2.3165\n",
            "Epoch 2000/2000\n",
            "\u001b[1m7/7\u001b[0m \u001b[32m━━━━━━━━━━━━━━━━━━━━\u001b[0m\u001b[37m\u001b[0m \u001b[1m2s\u001b[0m 192ms/step - categorical_accuracy: 0.1614 - loss: 2.2984\n"
          ]
        },
        {
          "output_type": "execute_result",
          "data": {
            "text/plain": [
              "<keras.src.callbacks.history.History at 0x7c4de22c3b20>"
            ]
          },
          "metadata": {},
          "execution_count": 70
        }
      ]
    },
    {
      "cell_type": "code",
      "source": [
        "model.summary()"
      ],
      "metadata": {
        "colab": {
          "base_uri": "https://localhost:8080/",
          "height": 337
        },
        "id": "Db4k8H_rk3Ng",
        "outputId": "986a464d-46b4-419d-97a1-2b5233be4758"
      },
      "execution_count": null,
      "outputs": [
        {
          "output_type": "display_data",
          "data": {
            "text/plain": [
              "\u001b[1mModel: \"sequential_2\"\u001b[0m\n"
            ],
            "text/html": [
              "<pre style=\"white-space:pre;overflow-x:auto;line-height:normal;font-family:Menlo,'DejaVu Sans Mono',consolas,'Courier New',monospace\"><span style=\"font-weight: bold\">Model: \"sequential_2\"</span>\n",
              "</pre>\n"
            ]
          },
          "metadata": {}
        },
        {
          "output_type": "display_data",
          "data": {
            "text/plain": [
              "┏━━━━━━━━━━━━━━━━━━━━━━━━━━━━━━━━━━━━━━┳━━━━━━━━━━━━━━━━━━━━━━━━━━━━━┳━━━━━━━━━━━━━━━━━┓\n",
              "┃\u001b[1m \u001b[0m\u001b[1mLayer (type)                        \u001b[0m\u001b[1m \u001b[0m┃\u001b[1m \u001b[0m\u001b[1mOutput Shape               \u001b[0m\u001b[1m \u001b[0m┃\u001b[1m \u001b[0m\u001b[1m        Param #\u001b[0m\u001b[1m \u001b[0m┃\n",
              "┡━━━━━━━━━━━━━━━━━━━━━━━━━━━━━━━━━━━━━━╇━━━━━━━━━━━━━━━━━━━━━━━━━━━━━╇━━━━━━━━━━━━━━━━━┩\n",
              "│ lstm_6 (\u001b[38;5;33mLSTM\u001b[0m)                        │ (\u001b[38;5;45mNone\u001b[0m, \u001b[38;5;34m30\u001b[0m, \u001b[38;5;34m64\u001b[0m)              │         \u001b[38;5;34m442,112\u001b[0m │\n",
              "├──────────────────────────────────────┼─────────────────────────────┼─────────────────┤\n",
              "│ lstm_7 (\u001b[38;5;33mLSTM\u001b[0m)                        │ (\u001b[38;5;45mNone\u001b[0m, \u001b[38;5;34m30\u001b[0m, \u001b[38;5;34m128\u001b[0m)             │          \u001b[38;5;34m98,816\u001b[0m │\n",
              "├──────────────────────────────────────┼─────────────────────────────┼─────────────────┤\n",
              "│ lstm_8 (\u001b[38;5;33mLSTM\u001b[0m)                        │ (\u001b[38;5;45mNone\u001b[0m, \u001b[38;5;34m64\u001b[0m)                  │          \u001b[38;5;34m49,408\u001b[0m │\n",
              "├──────────────────────────────────────┼─────────────────────────────┼─────────────────┤\n",
              "│ dense_4 (\u001b[38;5;33mDense\u001b[0m)                      │ (\u001b[38;5;45mNone\u001b[0m, \u001b[38;5;34m64\u001b[0m)                  │           \u001b[38;5;34m4,160\u001b[0m │\n",
              "├──────────────────────────────────────┼─────────────────────────────┼─────────────────┤\n",
              "│ dense_5 (\u001b[38;5;33mDense\u001b[0m)                      │ (\u001b[38;5;45mNone\u001b[0m, \u001b[38;5;34m32\u001b[0m)                  │           \u001b[38;5;34m2,080\u001b[0m │\n",
              "├──────────────────────────────────────┼─────────────────────────────┼─────────────────┤\n",
              "│ dense_6 (\u001b[38;5;33mDense\u001b[0m)                      │ (\u001b[38;5;45mNone\u001b[0m, \u001b[38;5;34m11\u001b[0m)                  │             \u001b[38;5;34m363\u001b[0m │\n",
              "└──────────────────────────────────────┴─────────────────────────────┴─────────────────┘\n"
            ],
            "text/html": [
              "<pre style=\"white-space:pre;overflow-x:auto;line-height:normal;font-family:Menlo,'DejaVu Sans Mono',consolas,'Courier New',monospace\">┏━━━━━━━━━━━━━━━━━━━━━━━━━━━━━━━━━━━━━━┳━━━━━━━━━━━━━━━━━━━━━━━━━━━━━┳━━━━━━━━━━━━━━━━━┓\n",
              "┃<span style=\"font-weight: bold\"> Layer (type)                         </span>┃<span style=\"font-weight: bold\"> Output Shape                </span>┃<span style=\"font-weight: bold\">         Param # </span>┃\n",
              "┡━━━━━━━━━━━━━━━━━━━━━━━━━━━━━━━━━━━━━━╇━━━━━━━━━━━━━━━━━━━━━━━━━━━━━╇━━━━━━━━━━━━━━━━━┩\n",
              "│ lstm_6 (<span style=\"color: #0087ff; text-decoration-color: #0087ff\">LSTM</span>)                        │ (<span style=\"color: #00d7ff; text-decoration-color: #00d7ff\">None</span>, <span style=\"color: #00af00; text-decoration-color: #00af00\">30</span>, <span style=\"color: #00af00; text-decoration-color: #00af00\">64</span>)              │         <span style=\"color: #00af00; text-decoration-color: #00af00\">442,112</span> │\n",
              "├──────────────────────────────────────┼─────────────────────────────┼─────────────────┤\n",
              "│ lstm_7 (<span style=\"color: #0087ff; text-decoration-color: #0087ff\">LSTM</span>)                        │ (<span style=\"color: #00d7ff; text-decoration-color: #00d7ff\">None</span>, <span style=\"color: #00af00; text-decoration-color: #00af00\">30</span>, <span style=\"color: #00af00; text-decoration-color: #00af00\">128</span>)             │          <span style=\"color: #00af00; text-decoration-color: #00af00\">98,816</span> │\n",
              "├──────────────────────────────────────┼─────────────────────────────┼─────────────────┤\n",
              "│ lstm_8 (<span style=\"color: #0087ff; text-decoration-color: #0087ff\">LSTM</span>)                        │ (<span style=\"color: #00d7ff; text-decoration-color: #00d7ff\">None</span>, <span style=\"color: #00af00; text-decoration-color: #00af00\">64</span>)                  │          <span style=\"color: #00af00; text-decoration-color: #00af00\">49,408</span> │\n",
              "├──────────────────────────────────────┼─────────────────────────────┼─────────────────┤\n",
              "│ dense_4 (<span style=\"color: #0087ff; text-decoration-color: #0087ff\">Dense</span>)                      │ (<span style=\"color: #00d7ff; text-decoration-color: #00d7ff\">None</span>, <span style=\"color: #00af00; text-decoration-color: #00af00\">64</span>)                  │           <span style=\"color: #00af00; text-decoration-color: #00af00\">4,160</span> │\n",
              "├──────────────────────────────────────┼─────────────────────────────┼─────────────────┤\n",
              "│ dense_5 (<span style=\"color: #0087ff; text-decoration-color: #0087ff\">Dense</span>)                      │ (<span style=\"color: #00d7ff; text-decoration-color: #00d7ff\">None</span>, <span style=\"color: #00af00; text-decoration-color: #00af00\">32</span>)                  │           <span style=\"color: #00af00; text-decoration-color: #00af00\">2,080</span> │\n",
              "├──────────────────────────────────────┼─────────────────────────────┼─────────────────┤\n",
              "│ dense_6 (<span style=\"color: #0087ff; text-decoration-color: #0087ff\">Dense</span>)                      │ (<span style=\"color: #00d7ff; text-decoration-color: #00d7ff\">None</span>, <span style=\"color: #00af00; text-decoration-color: #00af00\">11</span>)                  │             <span style=\"color: #00af00; text-decoration-color: #00af00\">363</span> │\n",
              "└──────────────────────────────────────┴─────────────────────────────┴─────────────────┘\n",
              "</pre>\n"
            ]
          },
          "metadata": {}
        },
        {
          "output_type": "display_data",
          "data": {
            "text/plain": [
              "\u001b[1m Total params: \u001b[0m\u001b[38;5;34m1,790,819\u001b[0m (6.83 MB)\n"
            ],
            "text/html": [
              "<pre style=\"white-space:pre;overflow-x:auto;line-height:normal;font-family:Menlo,'DejaVu Sans Mono',consolas,'Courier New',monospace\"><span style=\"font-weight: bold\"> Total params: </span><span style=\"color: #00af00; text-decoration-color: #00af00\">1,790,819</span> (6.83 MB)\n",
              "</pre>\n"
            ]
          },
          "metadata": {}
        },
        {
          "output_type": "display_data",
          "data": {
            "text/plain": [
              "\u001b[1m Trainable params: \u001b[0m\u001b[38;5;34m596,939\u001b[0m (2.28 MB)\n"
            ],
            "text/html": [
              "<pre style=\"white-space:pre;overflow-x:auto;line-height:normal;font-family:Menlo,'DejaVu Sans Mono',consolas,'Courier New',monospace\"><span style=\"font-weight: bold\"> Trainable params: </span><span style=\"color: #00af00; text-decoration-color: #00af00\">596,939</span> (2.28 MB)\n",
              "</pre>\n"
            ]
          },
          "metadata": {}
        },
        {
          "output_type": "display_data",
          "data": {
            "text/plain": [
              "\u001b[1m Non-trainable params: \u001b[0m\u001b[38;5;34m0\u001b[0m (0.00 B)\n"
            ],
            "text/html": [
              "<pre style=\"white-space:pre;overflow-x:auto;line-height:normal;font-family:Menlo,'DejaVu Sans Mono',consolas,'Courier New',monospace\"><span style=\"font-weight: bold\"> Non-trainable params: </span><span style=\"color: #00af00; text-decoration-color: #00af00\">0</span> (0.00 B)\n",
              "</pre>\n"
            ]
          },
          "metadata": {}
        },
        {
          "output_type": "display_data",
          "data": {
            "text/plain": [
              "\u001b[1m Optimizer params: \u001b[0m\u001b[38;5;34m1,193,880\u001b[0m (4.55 MB)\n"
            ],
            "text/html": [
              "<pre style=\"white-space:pre;overflow-x:auto;line-height:normal;font-family:Menlo,'DejaVu Sans Mono',consolas,'Courier New',monospace\"><span style=\"font-weight: bold\"> Optimizer params: </span><span style=\"color: #00af00; text-decoration-color: #00af00\">1,193,880</span> (4.55 MB)\n",
              "</pre>\n"
            ]
          },
          "metadata": {}
        }
      ]
    },
    {
      "cell_type": "markdown",
      "source": [
        "# Save Model"
      ],
      "metadata": {
        "id": "cQTclGgAodEG"
      }
    },
    {
      "cell_type": "code",
      "source": [
        "model.save(file_path_vido + 'action.h5')"
      ],
      "metadata": {
        "colab": {
          "base_uri": "https://localhost:8080/"
        },
        "id": "ANdYPfGOk3Gy",
        "outputId": "3aa9dee5-3aaa-4f0a-9acb-110503e79607"
      },
      "execution_count": null,
      "outputs": [
        {
          "output_type": "stream",
          "name": "stderr",
          "text": [
            "WARNING:absl:You are saving your model as an HDF5 file via `model.save()` or `keras.saving.save_model(model)`. This file format is considered legacy. We recommend using instead the native Keras format, e.g. `model.save('my_model.keras')` or `keras.saving.save_model(model, 'my_model.keras')`. \n"
          ]
        }
      ]
    },
    {
      "cell_type": "markdown",
      "source": [
        "# Evaluation using Confusion Matrix and Accuracy"
      ],
      "metadata": {
        "id": "p2PCY9ScooPQ"
      }
    },
    {
      "cell_type": "code",
      "source": [
        "from sklearn.metrics import multilabel_confusion_matrix, accuracy_score"
      ],
      "metadata": {
        "id": "Rnd9QVuUk2-G"
      },
      "execution_count": null,
      "outputs": []
    },
    {
      "cell_type": "code",
      "source": [
        "X_test.shape"
      ],
      "metadata": {
        "colab": {
          "base_uri": "https://localhost:8080/"
        },
        "id": "qP0PM-KxWX5-",
        "outputId": "1a78da0d-e759-4b6a-a122-f8168fe8d66d"
      },
      "execution_count": null,
      "outputs": [
        {
          "output_type": "execute_result",
          "data": {
            "text/plain": [
              "(12, 42, 1662)"
            ]
          },
          "metadata": {},
          "execution_count": 78
        }
      ]
    },
    {
      "cell_type": "code",
      "source": [
        "yhat = model.predict(X_test)"
      ],
      "metadata": {
        "colab": {
          "base_uri": "https://localhost:8080/"
        },
        "id": "WDEXyD0ak23G",
        "outputId": "29249ecf-4744-4666-f387-f614345fa19e"
      },
      "execution_count": null,
      "outputs": [
        {
          "output_type": "stream",
          "name": "stdout",
          "text": [
            "\u001b[1m1/1\u001b[0m \u001b[32m━━━━━━━━━━━━━━━━━━━━\u001b[0m\u001b[37m\u001b[0m \u001b[1m1s\u001b[0m 588ms/step\n"
          ]
        }
      ]
    },
    {
      "cell_type": "code",
      "source": [
        "ytrue = np.argmax(y_test, axis=1).tolist()\n",
        "yhat = np.argmax(yhat, axis=1).tolist()"
      ],
      "metadata": {
        "id": "udaF9fVck2v8"
      },
      "execution_count": null,
      "outputs": []
    },
    {
      "cell_type": "code",
      "source": [
        "multilabel_confusion_matrix(ytrue, yhat)"
      ],
      "metadata": {
        "colab": {
          "base_uri": "https://localhost:8080/"
        },
        "id": "msnxuRZbk2pn",
        "outputId": "08a3cd16-1d51-4094-b721-72dffd3ce6b7"
      },
      "execution_count": null,
      "outputs": [
        {
          "output_type": "execute_result",
          "data": {
            "text/plain": [
              "array([[[ 0, 10],\n",
              "        [ 0,  2]],\n",
              "\n",
              "       [[10,  0],\n",
              "        [ 2,  0]],\n",
              "\n",
              "       [[11,  0],\n",
              "        [ 1,  0]],\n",
              "\n",
              "       [[10,  0],\n",
              "        [ 2,  0]],\n",
              "\n",
              "       [[10,  0],\n",
              "        [ 2,  0]],\n",
              "\n",
              "       [[ 9,  0],\n",
              "        [ 3,  0]]])"
            ]
          },
          "metadata": {},
          "execution_count": 76
        }
      ]
    },
    {
      "cell_type": "code",
      "source": [
        "accuracy_score(ytrue, yhat)"
      ],
      "metadata": {
        "colab": {
          "base_uri": "https://localhost:8080/"
        },
        "id": "hMRMcYOwk2j1",
        "outputId": "b6d4e096-425d-4cf0-9216-4fdf56aaaddb"
      },
      "execution_count": null,
      "outputs": [
        {
          "output_type": "execute_result",
          "data": {
            "text/plain": [
              "0.16666666666666666"
            ]
          },
          "metadata": {},
          "execution_count": 77
        }
      ]
    },
    {
      "cell_type": "code",
      "source": [],
      "metadata": {
        "id": "2DYcdX11k2co"
      },
      "execution_count": null,
      "outputs": []
    },
    {
      "cell_type": "code",
      "source": [],
      "metadata": {
        "id": "_6d_1ejPk2VW"
      },
      "execution_count": null,
      "outputs": []
    },
    {
      "cell_type": "code",
      "source": [],
      "metadata": {
        "id": "kmiAi0tck2Nd"
      },
      "execution_count": null,
      "outputs": []
    },
    {
      "cell_type": "code",
      "source": [],
      "metadata": {
        "id": "7S-y31tXk2H0"
      },
      "execution_count": null,
      "outputs": []
    },
    {
      "cell_type": "code",
      "source": [],
      "metadata": {
        "id": "_YPELzXZk116"
      },
      "execution_count": null,
      "outputs": []
    }
  ],
  "metadata": {
    "colab": {
      "provenance": []
    },
    "kernelspec": {
      "display_name": "Python 3",
      "name": "python3"
    },
    "language_info": {
      "name": "python"
    }
  },
  "nbformat": 4,
  "nbformat_minor": 0
}